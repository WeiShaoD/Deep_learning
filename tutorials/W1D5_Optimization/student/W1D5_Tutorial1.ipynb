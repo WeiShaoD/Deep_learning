{
  "cells": [
    {
      "cell_type": "markdown",
      "metadata": {
        "id": "view-in-github",
        "colab_type": "text"
      },
      "source": [
        "<a href=\"https://colab.research.google.com/github/WeiShaoD/Deep_learning/blob/main/tutorials/W1D5_Optimization/student/W1D5_Tutorial1.ipynb\" target=\"_parent\"><img src=\"https://colab.research.google.com/assets/colab-badge.svg\" alt=\"Open In Colab\"/></a>"
      ]
    },
    {
      "cell_type": "markdown",
      "metadata": {
        "execution": {},
        "id": "EoERgB4OMdQq"
      },
      "source": [
        "# Tutorial 1: Optimization techniques\n",
        "\n",
        "**Week 1, Day 5: Optimization**\n",
        "\n",
        "**By Neuromatch Academy**\n",
        "\n",
        "__Content creators:__ Jose Gallego-Posada, Ioannis Mitliagkas\n",
        "\n",
        "__Content reviewers:__ Piyush Chauhan, Vladimir Haltakov, Siwei Bai, Kelson Shilling-Scrivo\n",
        "\n",
        "__Content editors:__ Charles J Edelson, Gagana B, Spiros Chavlis\n",
        "\n",
        "__Production editors:__ Arush Tagade, R. Krishnakumaran, Gagana B, Spiros Chavlis"
      ]
    },
    {
      "cell_type": "markdown",
      "metadata": {
        "execution": {},
        "id": "7GilBd1YMdQz"
      },
      "source": [
        "<p align='center'><img src='https://github.com/NeuromatchAcademy/widgets/blob/master/sponsors.png?raw=True'/></p>"
      ]
    },
    {
      "cell_type": "markdown",
      "metadata": {
        "execution": {},
        "id": "2N2hg56FMdQ0"
      },
      "source": [
        "---\n",
        "# Tutorial Objectives\n",
        "\n",
        "Objectives:\n",
        "*   Necessity and importance of optimization\n",
        "*   Introduction to commonly used optimization techniques\n",
        "*   Optimization in non-convex loss landscapes \n",
        "*   'Adaptive' hyperparameter tuning \n",
        "*   Ethical concerns\n",
        "\n"
      ]
    },
    {
      "cell_type": "code",
      "execution_count": 1,
      "metadata": {
        "cellView": "form",
        "execution": {},
        "id": "RPQhGLjnMdQ0",
        "outputId": "410f5c83-645b-4ecb-ec7a-fe8be6747b5b",
        "colab": {
          "base_uri": "https://localhost:8080/",
          "height": 501
        }
      },
      "outputs": [
        {
          "output_type": "execute_result",
          "data": {
            "text/plain": [
              "<IPython.lib.display.IFrame at 0x7fc2b509d2d0>"
            ],
            "text/html": [
              "\n",
              "        <iframe\n",
              "            width=\"854\"\n",
              "            height=\"480\"\n",
              "            src=\"https://mfr.ca-1.osf.io/render?url=https://osf.io/ft2sz/?direct%26mode=render%26action=download%26mode=render\"\n",
              "            frameborder=\"0\"\n",
              "            allowfullscreen\n",
              "        ></iframe>\n",
              "        "
            ]
          },
          "metadata": {},
          "execution_count": 1
        }
      ],
      "source": [
        "# @title Tutorial slides\n",
        "\n",
        "from IPython.display import IFrame\n",
        "IFrame(src=f\"https://mfr.ca-1.osf.io/render?url=https://osf.io/ft2sz/?direct%26mode=render%26action=download%26mode=render\", width=854, height=480)"
      ]
    },
    {
      "cell_type": "markdown",
      "metadata": {
        "execution": {},
        "id": "rVz0Ju6OMdQ1"
      },
      "source": [
        "These are the slides for all videos in this tutorial. If you want to locally download the slides, click [here](https://osf.io/ft2sz/download)."
      ]
    },
    {
      "cell_type": "markdown",
      "metadata": {
        "execution": {},
        "id": "S7d6BQXdMdQ2"
      },
      "source": [
        "---\n",
        "# Setup"
      ]
    },
    {
      "cell_type": "code",
      "execution_count": 2,
      "metadata": {
        "cellView": "form",
        "execution": {},
        "id": "3amNYVylMdQ2",
        "outputId": "1bde09f2-9e6e-41fe-dfbb-7ae15bca94e3",
        "colab": {
          "base_uri": "https://localhost:8080/"
        }
      },
      "outputs": [
        {
          "output_type": "stream",
          "name": "stdout",
          "text": [
            "  Building wheel for evaltools (setup.py) ... \u001b[?25l\u001b[?25hdone\n"
          ]
        }
      ],
      "source": [
        "# @title Install dependencies\n",
        "!pip install git+https://github.com/NeuromatchAcademy/evaltools --quiet\n",
        "from evaltools.airtable import AirtableForm\n",
        "\n",
        "# generate airtable form\n",
        "atform = AirtableForm('appn7VdPRseSoMXEG', 'W1D5_T1','https://portal.neuromatchacademy.org/api/redirect/to/2c5bbb85-d91a-4f5a-99fa-cefc287653d7')"
      ]
    },
    {
      "cell_type": "code",
      "execution_count": 3,
      "metadata": {
        "execution": {},
        "id": "wEpcIQCvMdQ3"
      },
      "outputs": [],
      "source": [
        "# Imports\n",
        "import copy\n",
        "\n",
        "import ipywidgets as widgets\n",
        "import matplotlib.pyplot as plt\n",
        "import numpy as np\n",
        "\n",
        "import time\n",
        "import torch\n",
        "import torchvision\n",
        "import torchvision.datasets as datasets\n",
        "import torch.nn.functional as F\n",
        "import torch.nn as nn\n",
        "import torch.optim as optim\n",
        "from tqdm.auto import tqdm"
      ]
    },
    {
      "cell_type": "code",
      "execution_count": 4,
      "metadata": {
        "cellView": "form",
        "execution": {},
        "id": "4oFEhMP8MdQ4"
      },
      "outputs": [],
      "source": [
        "# @title Figure settings\n",
        "import ipywidgets as widgets       # interactive display\n",
        "%config InlineBackend.figure_format = 'retina'\n",
        "plt.style.use(\"https://raw.githubusercontent.com/NeuromatchAcademy/content-creation/main/nma.mplstyle\")\n",
        "plt.rc('axes', unicode_minus=False)"
      ]
    },
    {
      "cell_type": "code",
      "execution_count": 5,
      "metadata": {
        "cellView": "form",
        "execution": {},
        "id": "f8CsrpYKMdQ4"
      },
      "outputs": [],
      "source": [
        "# @title Helper functions\n",
        "def print_params(model):\n",
        "  \"\"\"\n",
        "  Lists the name and current value of the model's\n",
        "  named parameters\n",
        "\n",
        "  Args:\n",
        "    model: an nn.Module inherited model\n",
        "      Represents the ML/DL model\n",
        "\n",
        "  Returns:\n",
        "    Nothing\n",
        "  \"\"\"\n",
        "  for name, param in model.named_parameters():\n",
        "    if param.requires_grad:\n",
        "      print(name, param.data)"
      ]
    },
    {
      "cell_type": "code",
      "execution_count": 6,
      "metadata": {
        "cellView": "form",
        "execution": {},
        "id": "e-lxnnnLMdQ5"
      },
      "outputs": [],
      "source": [
        "# @title Set random seed\n",
        "\n",
        "# @markdown Executing `set_seed(seed=seed)` you are setting the seed\n",
        "\n",
        "# for DL its critical to set the random seed so that students can have a\n",
        "# baseline to compare their results to expected results.\n",
        "# Read more here: https://pytorch.org/docs/stable/notes/randomness.html\n",
        "\n",
        "# Call the `set_seed` function in the exercises to ensure reproducibility.\n",
        "import random\n",
        "import torch\n",
        "\n",
        "def set_seed(seed=None, seed_torch=True):\n",
        "  \"\"\"\n",
        "  Handles variability by controlling sources of randomness\n",
        "  through set seed values\n",
        "\n",
        "  Args:\n",
        "    seed: Integer\n",
        "      Set the seed value to given integer.\n",
        "      If no seed, set seed value to random integer in the range 2^32\n",
        "    seed_torch: Bool\n",
        "      Seeds the random number generator for all devices to\n",
        "      offer some guarantees on reproducibility\n",
        "\n",
        "  Returns:\n",
        "    Nothing\n",
        "  \"\"\"\n",
        "  if seed is None:\n",
        "    seed = np.random.choice(2 ** 32)\n",
        "  random.seed(seed)\n",
        "  np.random.seed(seed)\n",
        "  if seed_torch:\n",
        "    torch.manual_seed(seed)\n",
        "    torch.cuda.manual_seed_all(seed)\n",
        "    torch.cuda.manual_seed(seed)\n",
        "    torch.backends.cudnn.benchmark = False\n",
        "    torch.backends.cudnn.deterministic = True\n",
        "  print(f'Random seed {seed} has been set.')\n",
        "\n",
        "\n",
        "# In case that `DataLoader` is used\n",
        "def seed_worker(worker_id):\n",
        "  \"\"\"\n",
        "  DataLoader will reseed workers following randomness in\n",
        "  multi-process data loading algorithm.\n",
        "\n",
        "  Args:\n",
        "    worker_id: integer\n",
        "      ID of subprocess to seed. 0 means that\n",
        "      the data will be loaded in the main process\n",
        "      Refer: https://pytorch.org/docs/stable/data.html#data-loading-randomness for more details\n",
        "\n",
        "  Returns:\n",
        "    Nothing\n",
        "  \"\"\"\n",
        "  worker_seed = torch.initial_seed() % 2**32\n",
        "  np.random.seed(worker_seed)\n",
        "  random.seed(worker_seed)"
      ]
    },
    {
      "cell_type": "code",
      "execution_count": 7,
      "metadata": {
        "cellView": "form",
        "execution": {},
        "id": "V-RMSfauMdQ6"
      },
      "outputs": [],
      "source": [
        "# @title Set device (GPU or CPU). Execute `set_device()`\n",
        "# especially if torch modules are used.\n",
        "\n",
        "# inform the user if the notebook uses GPU or CPU.\n",
        "\n",
        "def set_device():\n",
        "  \"\"\"\n",
        "  Set the device. CUDA if available, CPU otherwise\n",
        "\n",
        "  Args:\n",
        "    None\n",
        "\n",
        "  Returns:\n",
        "    Nothing\n",
        "  \"\"\"\n",
        "  device = \"cuda\" if torch.cuda.is_available() else \"cpu\"\n",
        "  if device != \"cuda\":\n",
        "    print(\"WARNING: For this notebook to perform best, \"\n",
        "        \"if possible, in the menu under `Runtime` -> \"\n",
        "        \"`Change runtime type.`  select `GPU` \")\n",
        "  else:\n",
        "    print(\"GPU is enabled in this notebook.\")\n",
        "\n",
        "  return device"
      ]
    },
    {
      "cell_type": "code",
      "execution_count": 8,
      "metadata": {
        "execution": {},
        "id": "je08EetoMdQ7",
        "outputId": "0e2ae483-fdbf-4fd9-a543-55c9dde356fd",
        "colab": {
          "base_uri": "https://localhost:8080/"
        }
      },
      "outputs": [
        {
          "output_type": "stream",
          "name": "stdout",
          "text": [
            "Random seed 2021 has been set.\n",
            "WARNING: For this notebook to perform best, if possible, in the menu under `Runtime` -> `Change runtime type.`  select `GPU` \n"
          ]
        }
      ],
      "source": [
        "SEED = 2021\n",
        "set_seed(seed=SEED)\n",
        "DEVICE = set_device()"
      ]
    },
    {
      "cell_type": "markdown",
      "metadata": {
        "execution": {},
        "id": "4uySpDyTMdQ7"
      },
      "source": [
        "---\n",
        "# Section 1. Introduction\n",
        "\n",
        "*Time estimate: ~15 mins*"
      ]
    },
    {
      "cell_type": "code",
      "execution_count": 9,
      "metadata": {
        "cellView": "form",
        "execution": {},
        "id": "iUTgzqlEMdQ7",
        "outputId": "9f8994b1-96d2-4b42-c7dc-5cf2f5e53651",
        "colab": {
          "base_uri": "https://localhost:8080/",
          "height": 580,
          "referenced_widgets": [
            "44b82a542b4f4cbfb2810ed6a0c9bd51",
            "207d0b6336354a11998bf1ef31f2e18d",
            "58325495ce01452283485a07c87fdd39",
            "b52bcebc475b4993adf82e22a6f61aca",
            "3c9f7c5147d94d639208c0b3f94a57be",
            "5383dcbe4839411d81a13ed438bdc9a7"
          ]
        }
      },
      "outputs": [
        {
          "output_type": "display_data",
          "data": {
            "text/plain": [
              "Tab(children=(Output(), Output()), _titles={'0': 'Youtube', '1': 'Bilibili'})"
            ],
            "application/vnd.jupyter.widget-view+json": {
              "version_major": 2,
              "version_minor": 0,
              "model_id": "44b82a542b4f4cbfb2810ed6a0c9bd51"
            }
          },
          "metadata": {}
        }
      ],
      "source": [
        "# @title Video 1: Introduction\n",
        "from ipywidgets import widgets\n",
        "\n",
        "out2 = widgets.Output()\n",
        "with out2:\n",
        "  from IPython.display import IFrame\n",
        "  class BiliVideo(IFrame):\n",
        "    def __init__(self, id, page=1, width=400, height=300, **kwargs):\n",
        "      self.id=id\n",
        "      src = \"https://player.bilibili.com/player.html?bvid={0}&page={1}\".format(id, page)\n",
        "      super(BiliVideo, self).__init__(src, width, height, **kwargs)\n",
        "\n",
        "  video = BiliVideo(id=f\"BV1VB4y1K7Vr\", width=854, height=480, fs=1)\n",
        "  print(\"Video available at https://www.bilibili.com/video/{0}\".format(video.id))\n",
        "  display(video)\n",
        "\n",
        "out1 = widgets.Output()\n",
        "with out1:\n",
        "  from IPython.display import YouTubeVideo\n",
        "  video = YouTubeVideo(id=f\"zm9oekdkJbQ\", width=854, height=480, fs=1, rel=0)\n",
        "  print(\"Video available at https://youtube.com/watch?v=\" + video.id)\n",
        "  display(video)\n",
        "\n",
        "out = widgets.Tab([out1, out2])\n",
        "out.set_title(0, 'Youtube')\n",
        "out.set_title(1, 'Bilibili')\n",
        "\n",
        "# add event to airtable\n",
        "atform.add_event('Video 1: Introduction')\n",
        "\n",
        "display(out)"
      ]
    },
    {
      "cell_type": "markdown",
      "metadata": {
        "execution": {},
        "id": "b8C_WjXUMdQ8"
      },
      "source": [
        "## Discuss: Unexpected consequences\n",
        "\n",
        "Can you think of examples from your own experience/life where poorly chosen incentives or objectives have led to unexpected consequences?"
      ]
    },
    {
      "cell_type": "markdown",
      "metadata": {
        "execution": {},
        "id": "Nxd_MQTBMdQ8"
      },
      "source": [
        "[*Click for solution*](https://github.com/NeuromatchAcademy/course-content-dl/tree/main//tutorials/W1D5_Optimization/solutions/W1D5_Tutorial1_Solution_1ecffd5a.py)\n",
        "\n"
      ]
    },
    {
      "cell_type": "markdown",
      "metadata": {
        "execution": {},
        "id": "_CQ-V05nMdQ8"
      },
      "source": [
        "---\n",
        "# Section 2: Case study: successfully training an MLP for image classification\n",
        "\n",
        "*Time estimate: ~40 mins*"
      ]
    },
    {
      "cell_type": "markdown",
      "metadata": {
        "execution": {},
        "id": "N5RkqqylMdQ9"
      },
      "source": [
        "Many of the core ideas (and tricks) in modern optimization for deep learning can be illustrated in the simple setting of training an MLP to solve an image classification task. In this tutorial we will guide you through the key challenges that arise when optimizing high-dimensional, non-convex$^\\dagger$ problems. We will use these challenges to motivate and explain some commonly used solutions.\n",
        "\n",
        "**Disclaimer:** Some of the functions you will code in this tutorial are already implemented in Pytorch and many other libraries. For pedagogical reasons, we decided to bring these simple coding tasks into the spotlight and place a relatively higher emphasis in your understanding of the algorithms, rather than the use of a specific library. \n",
        "\n",
        "In 'day-to-day' research projects you will likely rely on the community-vetted, optimized libraries rather than the 'manual implementations' you will write today. In Section 8 you will have a chance to 'put it all together' and use the full power of Pytorch to tune the parameters of an MLP to classify handwritten digits."
      ]
    },
    {
      "cell_type": "markdown",
      "metadata": {
        "execution": {},
        "id": "HJTeKRCuMdQ9"
      },
      "source": [
        "$^\\dagger$: A **strictly convex** function has the same global and local minimum - a nice property for optimization as it won't get stuck in a local minimum that isn't a global one (e.g., $f(x)=x^2 + 2x + 1$). A **non-convex** function is wavy - has some 'valleys' (local minima) that aren't as deep as the overall deepest 'valley' (global minimum). Thus, the optimization algorithms can get stuck in the local minimum, and it can be hard to tell when this happens (e.g., $f(x) = x^4 + x^3 - 2x^2 - 2x$). See also **Section 5** for more details."
      ]
    },
    {
      "cell_type": "code",
      "execution_count": 10,
      "metadata": {
        "cellView": "form",
        "execution": {},
        "id": "g2YgORPpMdQ9",
        "outputId": "c3cb619f-b680-4616-da07-319b5e0fd902",
        "colab": {
          "base_uri": "https://localhost:8080/",
          "height": 580,
          "referenced_widgets": [
            "5231cf72e78540109c4e58f76189e364",
            "0d3ec443d1544451a846ed1e0d328ead",
            "00cef9ac5dd5412db87f3aef6ea7683f",
            "fc16d3273edb44ad988280e7af38d4e6",
            "7d41f61da2f74d0089f4daeb8504bb46",
            "cd1ef0cf32ea4dfd972e5952813b7a7c"
          ]
        }
      },
      "outputs": [
        {
          "output_type": "display_data",
          "data": {
            "text/plain": [
              "Tab(children=(Output(), Output()), _titles={'0': 'Youtube', '1': 'Bilibili'})"
            ],
            "application/vnd.jupyter.widget-view+json": {
              "version_major": 2,
              "version_minor": 0,
              "model_id": "5231cf72e78540109c4e58f76189e364"
            }
          },
          "metadata": {}
        }
      ],
      "source": [
        "# @title Video 2: Case Study - MLP Classification\n",
        "from ipywidgets import widgets\n",
        "\n",
        "out2 = widgets.Output()\n",
        "with out2:\n",
        "  from IPython.display import IFrame\n",
        "  class BiliVideo(IFrame):\n",
        "    def __init__(self, id, page=1, width=400, height=300, **kwargs):\n",
        "      self.id=id\n",
        "      src = \"https://player.bilibili.com/player.html?bvid={0}&page={1}\".format(id, page)\n",
        "      super(BiliVideo, self).__init__(src, width, height, **kwargs)\n",
        "\n",
        "  video = BiliVideo(id=f\"BV1GB4y1K7Ha\", width=854, height=480, fs=1)\n",
        "  print(\"Video available at https://www.bilibili.com/video/{0}\".format(video.id))\n",
        "  display(video)\n",
        "\n",
        "out1 = widgets.Output()\n",
        "with out1:\n",
        "  from IPython.display import YouTubeVideo\n",
        "  video = YouTubeVideo(id=f\"pJc2ENhYbqA\", width=854, height=480, fs=1, rel=0)\n",
        "  print(\"Video available at https://youtube.com/watch?v=\" + video.id)\n",
        "  display(video)\n",
        "\n",
        "out = widgets.Tab([out1, out2])\n",
        "out.set_title(0, 'Youtube')\n",
        "out.set_title(1, 'Bilibili')\n",
        "\n",
        "# add event to airtable\n",
        "atform.add_event('Video 2: Case Study - MLP Classification')\n",
        "\n",
        "display(out)"
      ]
    },
    {
      "cell_type": "markdown",
      "metadata": {
        "execution": {},
        "id": "ImIoQ_h6MdQ-"
      },
      "source": [
        "## Section 2.1: Data\n",
        "\n",
        "We will use the MNIST dataset of handwritten digits. We load the data via the Pytorch `datasets` module, as you learned in W1D1.\n",
        "\n",
        "**Note:** Although we can download the MNIST dataset directly from `datasets` using the optional argument `download=True`, we are going to download them from NMA directory on OSF to ensure network reliability.\n"
      ]
    },
    {
      "cell_type": "code",
      "execution_count": 11,
      "metadata": {
        "cellView": "form",
        "execution": {},
        "id": "F06etlvZMdQ-",
        "outputId": "08c3c884-faef-4408-dc2a-de2f6a924694",
        "colab": {
          "base_uri": "https://localhost:8080/"
        }
      },
      "outputs": [
        {
          "output_type": "stream",
          "name": "stdout",
          "text": [
            "\n",
            "Downloading MNIST dataset...\n",
            "\n",
            "Downloading MNIST completed.\n"
          ]
        }
      ],
      "source": [
        "# @title Download MNIST dataset\n",
        "import tarfile, requests, os\n",
        "\n",
        "fname = 'MNIST.tar.gz'\n",
        "name = 'MNIST'\n",
        "url = 'https://osf.io/y2fj6/download'\n",
        "\n",
        "if not os.path.exists(name):\n",
        "  print('\\nDownloading MNIST dataset...')\n",
        "  r = requests.get(url, allow_redirects=True)\n",
        "  with open(fname, 'wb') as fh:\n",
        "    fh.write(r.content)\n",
        "  print('\\nDownloading MNIST completed.')\n",
        "\n",
        "if not os.path.exists(name):\n",
        "  with tarfile.open(fname) as tar:\n",
        "    tar.extractall()\n",
        "    os.remove(fname)\n",
        "else:\n",
        "  print('MNIST dataset has been downloaded.')"
      ]
    },
    {
      "cell_type": "code",
      "execution_count": 12,
      "metadata": {
        "execution": {},
        "id": "LwdNWW9TMdQ-"
      },
      "outputs": [],
      "source": [
        "def load_mnist_data(change_tensors=False, download=False):\n",
        "  \"\"\"\n",
        "  Load training and test examples for the MNIST handwritten digits dataset\n",
        "  with every image: 28*28 x 1 channel (greyscale image)\n",
        "\n",
        "  Args:\n",
        "    change_tensors: Bool\n",
        "      Argument to check if tensors need to be normalised\n",
        "    download: Bool\n",
        "      Argument to check if dataset needs to be downloaded/already exists\n",
        "\n",
        "  Returns:\n",
        "    train_set:\n",
        "      train_data: Tensor\n",
        "        training input tensor of size (train_size x 784)\n",
        "      train_target: Tensor\n",
        "        training 0-9 integer label tensor of size (train_size)\n",
        "    test_set:\n",
        "      test_data: Tensor\n",
        "        test input tensor of size (test_size x 784)\n",
        "      test_target: Tensor\n",
        "        training 0-9 integer label tensor of size (test_size)\n",
        "  \"\"\"\n",
        "  # Load train and test sets\n",
        "  train_set = datasets.MNIST(root='.', train=True, download=download,\n",
        "                             transform=torchvision.transforms.ToTensor())\n",
        "  test_set = datasets.MNIST(root='.', train=False, download=download,\n",
        "                            transform=torchvision.transforms.ToTensor())\n",
        "\n",
        "  # Original data is in range [0, 255]. We normalize the data wrt its mean and std_dev.\n",
        "  # Note that we only used *training set* information to compute mean and std\n",
        "  mean = train_set.data.float().mean()\n",
        "  std = train_set.data.float().std()\n",
        "\n",
        "  if change_tensors:\n",
        "    # Apply normalization directly to the tensors containing the dataset\n",
        "    train_set.data = (train_set.data.float() - mean) / std\n",
        "    test_set.data = (test_set.data.float() - mean) / std\n",
        "  else:\n",
        "    tform = torchvision.transforms.Compose([torchvision.transforms.ToTensor(),\n",
        "                                            torchvision.transforms.Normalize(mean=[mean / 255.], std=[std / 255.])\n",
        "                                            ])\n",
        "    train_set = datasets.MNIST(root='.', train=True, download=download,\n",
        "                               transform=tform)\n",
        "    test_set = datasets.MNIST(root='.', train=False, download=download,\n",
        "                              transform=tform)\n",
        "\n",
        "  return train_set, test_set\n",
        "\n",
        "\n",
        "train_set, test_set = load_mnist_data(change_tensors=True)"
      ]
    },
    {
      "cell_type": "markdown",
      "metadata": {
        "execution": {},
        "id": "StRsB8qvMdQ_"
      },
      "source": [
        "As we are just getting started, we will concentrate on a small subset of only 500 examples out of the 60.000 data points contained in the whole training set.\n",
        "\n"
      ]
    },
    {
      "cell_type": "code",
      "execution_count": 13,
      "metadata": {
        "execution": {},
        "id": "xS2OqB1dMdQ_"
      },
      "outputs": [],
      "source": [
        "# Sample a random subset of 500 indices\n",
        "subset_index = np.random.choice(len(train_set.data), 500)\n",
        "\n",
        "# We will use these symbols to represent the training data and labels, to stay\n",
        "# as close to the mathematical expressions as possible.\n",
        "X, y = train_set.data[subset_index, :], train_set.targets[subset_index]"
      ]
    },
    {
      "cell_type": "markdown",
      "metadata": {
        "execution": {},
        "id": "JrOtLHv2MdQ_"
      },
      "source": [
        "Run the following cell to visualize the content of three examples in our training set. Note how the preprocessing we applied to the data changes the range of pixel values after normalization.\n"
      ]
    },
    {
      "cell_type": "code",
      "execution_count": 14,
      "metadata": {
        "cellView": "form",
        "execution": {},
        "id": "bnFoVsxyMdQ_",
        "outputId": "01f3673d-b783-455d-a39f-83529c08462b",
        "colab": {
          "base_uri": "https://localhost:8080/",
          "height": 374
        }
      },
      "outputs": [
        {
          "output_type": "display_data",
          "data": {
            "text/plain": [
              "<Figure size 1080x360 with 3 Axes>"
            ],
            "image/png": "[encoded data removed]"
          },
          "metadata": {
            "image/png": {
              "width": 1032,
              "height": 357
            },
            "needs_background": "light"
          }
        }
      ],
      "source": [
        "# @title Run me!\n",
        "\n",
        "# Exploratory data analysis and visualisation\n",
        "\n",
        "num_figures = 3\n",
        "fig, axs = plt.subplots(1, num_figures, figsize=(5 * num_figures, 5))\n",
        "\n",
        "for sample_id, ax in enumerate(axs):\n",
        "  # Plot the pixel values for each image\n",
        "  ax.matshow(X[sample_id, :], cmap='gray_r')\n",
        "  # 'Write' the pixel value in the corresponding location\n",
        "  for (i, j), z in np.ndenumerate(X[sample_id, :]):\n",
        "    text = '{:.1f}'.format(z)\n",
        "    ax.text(j, i, text, ha='center',\n",
        "            va='center', fontsize=6, c='steelblue')\n",
        "\n",
        "  ax.set_title('Label: ' + str(y[sample_id].item()))\n",
        "  ax.axis('off')\n",
        "\n",
        "plt.show()"
      ]
    },
    {
      "cell_type": "markdown",
      "metadata": {
        "execution": {},
        "id": "xZkC4626MdRA"
      },
      "source": [
        "## Section 2.2: Model\n",
        "\n",
        "As you will see next week, there are specific model architectures that are better suited to image-like data, such as Convolutional Neural Networks (CNNs). For simplicity, in this tutorial we will focus exclusively on Multi-Layer Perceptron (MLP) models as they allow us to highlight many important optimization challenges shared with more advanced neural network designs."
      ]
    },
    {
      "cell_type": "code",
      "execution_count": 15,
      "metadata": {
        "execution": {},
        "id": "MdgIbi3BMdRA"
      },
      "outputs": [],
      "source": [
        "class MLP(nn.Module):\n",
        "  \"\"\"\n",
        "  This class implements MLPs in Pytorch of an arbitrary number of hidden\n",
        "  layers of potentially different sizes. Since we concentrate on classification\n",
        "  tasks in this tutorial, we have a log_softmax layer at prediction time.\n",
        "  \"\"\"\n",
        "\n",
        "  def __init__(self, in_dim=784, out_dim=10, hidden_dims=[], use_bias=True):\n",
        "    \"\"\"\n",
        "    Constructs a MultiLayerPerceptron\n",
        "\n",
        "    Args:\n",
        "      in_dim: Integer\n",
        "        dimensionality of input data (784)\n",
        "      out_dim: Integer\n",
        "        number of classes (10)\n",
        "      hidden_dims: List\n",
        "        containing the dimensions of the hidden layers,\n",
        "        empty list corresponds to a linear model (in_dim, out_dim)\n",
        "\n",
        "    Returns:\n",
        "      Nothing\n",
        "    \"\"\"\n",
        "\n",
        "    super(MLP, self).__init__()\n",
        "\n",
        "    self.in_dim = in_dim\n",
        "    self.out_dim = out_dim\n",
        "\n",
        "    # If we have no hidden layer, just initialize a linear model (e.g. in logistic regression)\n",
        "    if len(hidden_dims) == 0:\n",
        "      layers = [nn.Linear(in_dim, out_dim, bias=use_bias)]\n",
        "    else:\n",
        "      # 'Actual' MLP with dimensions in_dim - num_hidden_layers*[hidden_dim] - out_dim\n",
        "      layers = [nn.Linear(in_dim, hidden_dims[0], bias=use_bias), nn.ReLU()]\n",
        "\n",
        "      # Loop until before the last layer\n",
        "      for i, hidden_dim in enumerate(hidden_dims[:-1]):\n",
        "        layers += [nn.Linear(hidden_dim, hidden_dims[i + 1], bias=use_bias),\n",
        "                   nn.ReLU()]\n",
        "\n",
        "      # Add final layer to the number of classes\n",
        "      layers += [nn.Linear(hidden_dims[-1], out_dim, bias=use_bias)]\n",
        "\n",
        "    self.main = nn.Sequential(*layers)\n",
        "\n",
        "  def forward(self, x):\n",
        "    \"\"\"\n",
        "    Defines the network structure and flow from input to output\n",
        "\n",
        "    Args:\n",
        "      x: Tensor\n",
        "        Image to be processed by the network\n",
        "\n",
        "    Returns:\n",
        "      output: Tensor\n",
        "        same dimension and shape as the input with probabilistic values in the range [0, 1]\n",
        "\n",
        "    \"\"\"\n",
        "    # Flatten each images into a 'vector'\n",
        "    transformed_x = x.view(-1, self.in_dim)\n",
        "    hidden_output = self.main(transformed_x)\n",
        "    output = F.log_softmax(hidden_output, dim=1)\n",
        "    return output"
      ]
    },
    {
      "cell_type": "markdown",
      "metadata": {
        "execution": {},
        "id": "0cbYUMDrMdRA"
      },
      "source": [
        "Linear models constitute a very special kind of MLPs: they are equivalent to an MLP with *zero* hidden layers. This is simply an affine transformation, in other words a 'linear' map $W x$ with an 'offset' $b$; followed by a softmax function.\n",
        "\n",
        "$$f(x) = \\text{softmax}(W x + b)$$\n",
        "\n",
        "Here $x \\in \\mathbb{R}^{784}$, $W \\in \\mathbb{R}^{10 \\times 784}$ and $b \\in \\mathbb{R}^{10}$. Notice that the dimensions of the weight matrix are $10 \\times 784$ as the input tensors are flattened images, i.e., $28 \\times 28 = 784$-dimensional tensors and the output layer consists of $10$ nodes. Also, note that the implementation of softmax encapsulates b in W i.e., It maps the rows of the input instead of the columns. That is, the i’th row of the output is the mapping of the i’th row of the input under W, plus the bias term. Refer Affine maps here: https://pytorch.org/tutorials/beginner/nlp/deep_learning_tutorial.html#affine-maps"
      ]
    },
    {
      "cell_type": "code",
      "execution_count": 16,
      "metadata": {
        "execution": {},
        "id": "fvx7BUMuMdRB",
        "outputId": "0235788e-cfef-4b2f-9d21-b14ab121b513",
        "colab": {
          "base_uri": "https://localhost:8080/"
        }
      },
      "outputs": [
        {
          "output_type": "stream",
          "name": "stdout",
          "text": [
            "MLP(\n",
            "  (main): Sequential(\n",
            "    (0): Linear(in_features=784, out_features=10, bias=True)\n",
            "  )\n",
            ")\n"
          ]
        }
      ],
      "source": [
        "# Empty hidden_dims means we take a model with zero hidden layers.\n",
        "model = MLP(in_dim=784, out_dim=10, hidden_dims=[])\n",
        "\n",
        "# We print the model structure with 784 inputs and 10 outputs\n",
        "print(model)"
      ]
    },
    {
      "cell_type": "markdown",
      "metadata": {
        "execution": {},
        "id": "CZrBImPpMdRB"
      },
      "source": [
        "## Section 2.3: Loss\n",
        "\n",
        "While we care about the accuracy of the model, the 'discrete' nature of the 0-1 loss makes it challenging to optimize. In order to learn good parameters for this model, we will use the cross entropy loss (negative log-likelihood), which you saw in the last lecture, as a surrogate objective to be minimized. \n",
        "\n",
        "This particular choice of model and optimization objective leads to a *convex* optimization problem with respect to the parameters $W$ and $b$. "
      ]
    },
    {
      "cell_type": "code",
      "execution_count": 17,
      "metadata": {
        "execution": {},
        "id": "fN2Zev9vMdRB"
      },
      "outputs": [],
      "source": [
        "loss_fn = F.nll_loss"
      ]
    },
    {
      "cell_type": "markdown",
      "metadata": {
        "execution": {},
        "id": "yYWrUCyHMdRB"
      },
      "source": [
        "## Section 2.4: Interpretability"
      ]
    },
    {
      "cell_type": "markdown",
      "metadata": {
        "execution": {},
        "id": "xHB0GO9eMdRB"
      },
      "source": [
        "In the last lecture, you saw that inspecting the weights of a model can provide insights on what 'concepts' the model has learned. Here we show the weights of a partially trained model. The weights corresponding to each class 'learn' to _fire_ when an input of the class is detected.\n"
      ]
    },
    {
      "cell_type": "code",
      "execution_count": 18,
      "metadata": {
        "execution": {},
        "id": "7g6o8KtVMdRB"
      },
      "outputs": [],
      "source": [
        "#@markdown Run _this cell_ to train the model. If you are curious about how the training\n",
        "#@markdown takes place, double-click this cell to find out. At the end of this tutorial\n",
        "#@markdown you will have the opportunity to train a more complex model on your own.\n",
        "\n",
        "cell_verbose = False\n",
        "partial_trained_model = MLP(in_dim=784, out_dim=10, hidden_dims=[])\n",
        "\n",
        "if cell_verbose:\n",
        "  print('Init loss', loss_fn(partial_trained_model(X), y).item()) # This matches around np.log(10 = # of classes)\n",
        "\n",
        "# Invoke an optimizer using Adaptive gradient and Momentum (more about this in Section 7)\n",
        "optimizer = optim.Adam(partial_trained_model.parameters(), lr=7e-4)\n",
        "for _ in range(200):\n",
        "  loss = loss_fn(partial_trained_model(X), y)\n",
        "  optimizer.zero_grad()\n",
        "  loss.backward()\n",
        "  optimizer.step()\n",
        "\n",
        "if cell_verbose:\n",
        "  print('End loss', loss_fn(partial_trained_model(X), y).item()) # This should be less than 1e-2"
      ]
    },
    {
      "cell_type": "code",
      "execution_count": 19,
      "metadata": {
        "execution": {},
        "id": "8wNeCQKLMdRC",
        "outputId": "8b96ca62-88b1-4b7e-e5c3-3f57219a5883",
        "colab": {
          "base_uri": "https://localhost:8080/",
          "height": 141
        }
      },
      "outputs": [
        {
          "output_type": "display_data",
          "data": {
            "text/plain": [
              "<Figure size 1080x288 with 10 Axes>"
            ],
            "image/png": "[encoded data removed]"
          },
          "metadata": {
            "image/png": {
              "width": 1062,
              "height": 124
            },
            "needs_background": "light"
          }
        }
      ],
      "source": [
        "# Show class filters of a trained model\n",
        "W = partial_trained_model.main[0].weight.data.numpy()\n",
        "\n",
        "fig, axs = plt.subplots(1, 10, figsize=(15, 4))\n",
        "for class_id in range(10):\n",
        "  axs[class_id].imshow(W[class_id, :].reshape(28, 28), cmap='gray_r')\n",
        "  axs[class_id].axis('off')\n",
        "  axs[class_id].set_title('Class ' + str(class_id) )\n",
        "\n",
        "plt.show()"
      ]
    },
    {
      "cell_type": "markdown",
      "metadata": {
        "execution": {},
        "id": "HzO9BTKEMdRC"
      },
      "source": [
        "---\n",
        "# Section 3: High dimensional search\n",
        "\n",
        "*Time estimate: ~25 mins*"
      ]
    },
    {
      "cell_type": "markdown",
      "metadata": {
        "execution": {},
        "id": "EUXuhPQ-MdRC"
      },
      "source": [
        "We now have a model with its corresponding trainable parameters as well as an objective to optimize. Where do we goto next? How do we find a 'good' configuration of parameters?\n",
        "\n",
        "One idea is to choose a random direction and move only if the objective is reduced. However, this is inefficient in high dimensions and you will see how gradient descent (with a suitable step-size) can guarantee consistent improvement in terms of the objective function."
      ]
    },
    {
      "cell_type": "code",
      "execution_count": 20,
      "metadata": {
        "cellView": "form",
        "execution": {},
        "id": "DnVU_vwLMdRC",
        "outputId": "4535636b-794f-47dd-de34-270f329e2f8f",
        "colab": {
          "base_uri": "https://localhost:8080/",
          "height": 580,
          "referenced_widgets": [
            "7eefa2be90a64d759c086905a81bc244",
            "3f0c8c4e110d4a2da0c66ca744f3582a",
            "c4694db9d4584c9e87032bd7f969815f",
            "f5564d8a1168412a89b26f7b54912598",
            "53300f71de314b57a7ae9529c83f5682",
            "313d8c2ed7944a8eae002aee036ff87d"
          ]
        }
      },
      "outputs": [
        {
          "output_type": "display_data",
          "data": {
            "text/plain": [
              "Tab(children=(Output(), Output()), _titles={'0': 'Youtube', '1': 'Bilibili'})"
            ],
            "application/vnd.jupyter.widget-view+json": {
              "version_major": 2,
              "version_minor": 0,
              "model_id": "7eefa2be90a64d759c086905a81bc244"
            }
          },
          "metadata": {}
        }
      ],
      "source": [
        "# @title Video 3: Optimization of an Objective Function\n",
        "from ipywidgets import widgets\n",
        "\n",
        "out2 = widgets.Output()\n",
        "with out2:\n",
        "  from IPython.display import IFrame\n",
        "  class BiliVideo(IFrame):\n",
        "    def __init__(self, id, page=1, width=400, height=300, **kwargs):\n",
        "      self.id=id\n",
        "      src = \"https://player.bilibili.com/player.html?bvid={0}&page={1}\".format(id, page)\n",
        "      super(BiliVideo, self).__init__(src, width, height, **kwargs)\n",
        "\n",
        "  video = BiliVideo(id=f\"BV1aL411H7Ce\", width=854, height=480, fs=1)\n",
        "  print(\"Video available at https://www.bilibili.com/video/{0}\".format(video.id))\n",
        "  display(video)\n",
        "\n",
        "out1 = widgets.Output()\n",
        "with out1:\n",
        "  from IPython.display import YouTubeVideo\n",
        "  video = YouTubeVideo(id=f\"aSJTRdjRvvw\", width=854, height=480, fs=1, rel=0)\n",
        "  print(\"Video available at https://youtube.com/watch?v=\" + video.id)\n",
        "  display(video)\n",
        "\n",
        "out = widgets.Tab([out1, out2])\n",
        "out.set_title(0, 'Youtube')\n",
        "out.set_title(1, 'Bilibili')\n",
        "\n",
        "# add event to airtable\n",
        "atform.add_event('Video 3: Optimization of an Objective Function')\n",
        "\n",
        "display(out)"
      ]
    },
    {
      "cell_type": "markdown",
      "metadata": {
        "execution": {},
        "id": "81ALzrXLMdRC"
      },
      "source": [
        "## Coding Exercise 3: Implement gradient descent\n",
        "\n",
        "In this exercise you will use PyTorch automatic differentiation capabilities to compute the gradient of the loss with respect to the parameters of the model. You will then use these gradients to implement the update performed by the gradient descent method.  "
      ]
    },
    {
      "cell_type": "code",
      "execution_count": 21,
      "metadata": {
        "execution": {},
        "id": "-7bRtqwLMdRC"
      },
      "outputs": [],
      "source": [
        "def zero_grad(params):\n",
        "  \"\"\"\n",
        "  Clear gradients as they accumulate on successive backward calls\n",
        "\n",
        "  Args:\n",
        "    params: an iterator over tensors\n",
        "      i.e., updating the Weights and biases\n",
        "\n",
        "  Returns:\n",
        "    Nothing\n",
        "  \"\"\"\n",
        "  for par in params:\n",
        "    if not(par.grad is None):\n",
        "      par.grad.data.zero_()\n",
        "\n",
        "\n",
        "def random_update(model, noise_scale=0.1, normalized=False):\n",
        "  \"\"\"\n",
        "  Performs a random update on the parameters of the model to help\n",
        "  understand the effectiveness of updating random directions\n",
        "  for the problem of optimizing the parameters of a high-dimensional linear model.\n",
        "\n",
        "  Args:\n",
        "    model: nn.Module derived class\n",
        "      The model whose parameters are to be updated\n",
        "\n",
        "    noise_scale: float\n",
        "      Specifies the magnitude of random weight\n",
        "\n",
        "    normalized: Bool\n",
        "      Indicates if the parameter has been normalised or not\n",
        "\n",
        "  Returns:\n",
        "    Nothing\n",
        "  \"\"\"\n",
        "  for par in model.parameters():\n",
        "    noise = torch.randn_like(par)\n",
        "    if normalized:\n",
        "      noise /= torch.norm(noise)\n",
        "    par.data +=  noise_scale * noise"
      ]
    },
    {
      "cell_type": "code",
      "execution_count": 22,
      "metadata": {
        "execution": {},
        "id": "nUxFsTRjMdRD",
        "outputId": "a4773d40-af3b-4074-a6d8-5288c9ab2aa8",
        "colab": {
          "base_uri": "https://localhost:8080/"
        }
      },
      "outputs": [
        {
          "output_type": "stream",
          "name": "stdout",
          "text": [
            "Random seed 2021 has been set.\n",
            "\n",
            " The model1 parameters before the update are: \n",
            "\n",
            "main.0.weight tensor([[-0.0264,  0.0010,  0.0173,  ...,  0.0297,  0.0278, -0.0221],\n",
            "        [-0.0040, -0.0295, -0.0086,  ..., -0.0070,  0.0254, -0.0233],\n",
            "        [ 0.0240, -0.0231,  0.0342,  ...,  0.0124,  0.0270, -0.0180],\n",
            "        ...,\n",
            "        [-0.0005,  0.0157,  0.0111,  ...,  0.0144, -0.0301, -0.0144],\n",
            "        [ 0.0181,  0.0303,  0.0255,  ..., -0.0110, -0.0175,  0.0205],\n",
            "        [ 0.0208, -0.0353, -0.0183,  ..., -0.0271,  0.0099,  0.0003]])\n",
            "main.0.bias tensor([-0.0290, -0.0033,  0.0100, -0.0320,  0.0022,  0.0221,  0.0307,  0.0243,\n",
            "         0.0159, -0.0064])\n",
            "\n",
            " The model1 parameters after the update are: \n",
            "\n",
            "main.0.weight tensor([[-0.0263,  0.0010,  0.0174,  ...,  0.0298,  0.0278, -0.0220],\n",
            "        [-0.0047, -0.0302, -0.0093,  ..., -0.0077,  0.0248, -0.0240],\n",
            "        [ 0.0234, -0.0237,  0.0335,  ...,  0.0117,  0.0263, -0.0187],\n",
            "        ...,\n",
            "        [-0.0006,  0.0156,  0.0110,  ...,  0.0143, -0.0302, -0.0145],\n",
            "        [ 0.0164,  0.0286,  0.0238,  ..., -0.0127, -0.0191,  0.0188],\n",
            "        [ 0.0206, -0.0354, -0.0184,  ..., -0.0272,  0.0098,  0.0002]])\n",
            "main.0.bias tensor([-0.0292, -0.0018,  0.0115, -0.0370,  0.0054,  0.0155,  0.0317,  0.0246,\n",
            "         0.0198, -0.0061])\n"
          ]
        }
      ],
      "source": [
        "def gradient_update(loss, params, lr=1e-3):\n",
        "  \"\"\"\n",
        "  Perform a gradient descent update on a given loss over a collection of parameters\n",
        "\n",
        "  Args:\n",
        "    loss: Tensor\n",
        "      A scalar tensor containing the loss through which the gradient will be computed\n",
        "    params: List of iterables\n",
        "      Collection of parameters with respect to which we compute gradients\n",
        "    lr: Float\n",
        "      Scalar specifying the learning rate or step-size for the update\n",
        "\n",
        "  Returns:\n",
        "    Nothing\n",
        "  \"\"\"\n",
        "  # Clear up gradients as Pytorch automatically accumulates gradients from\n",
        "  # successive backward calls\n",
        "  zero_grad(params)\n",
        "\n",
        "  # Compute gradients on given objective\n",
        "  loss.backward()\n",
        "\n",
        "  with torch.no_grad():\n",
        "    for par in params:\n",
        "      #################################################\n",
        "      ## TODO for students: update the value of the parameter ##\n",
        "      #raise NotImplementedError(\"Student exercise: implement gradient update\")\n",
        "      #################################################\n",
        "      # Here we work with the 'data' attribute of the parameter rather than the\n",
        "      # parameter itself.\n",
        "      # Hence - use the learning rate and the parameter's .grad.data attribute to perform an update\n",
        "      par.data -= lr * par.grad.data\n",
        "\n",
        "\n",
        "# add event to airtable\n",
        "atform.add_event('Coding Exercise 3: Implement gradient descent')\n",
        "\n",
        "\n",
        "set_seed(seed=SEED)\n",
        "model1 = MLP(in_dim=784, out_dim=10, hidden_dims=[])\n",
        "print('\\n The model1 parameters before the update are: \\n')\n",
        "print_params(model1)\n",
        "loss = loss_fn(model1(X), y)\n",
        "\n",
        "## Uncomment below to test your function\n",
        "gradient_update(loss, list(model1.parameters()), lr=1e-1)\n",
        "print('\\n The model1 parameters after the update are: \\n')\n",
        "print_params(model1)"
      ]
    },
    {
      "cell_type": "markdown",
      "metadata": {
        "execution": {},
        "id": "s-c13KfyMdRD"
      },
      "source": [
        "```\n",
        " The model1 parameters after the update are: \n",
        "\n",
        "main.0.weight tensor([[-0.0263,  0.0010,  0.0174,  ...,  0.0298,  0.0278, -0.0220],\n",
        "        [-0.0047, -0.0302, -0.0093,  ..., -0.0077,  0.0248, -0.0240],\n",
        "        [ 0.0234, -0.0237,  0.0335,  ...,  0.0117,  0.0263, -0.0187],\n",
        "        ...,\n",
        "        [-0.0006,  0.0156,  0.0110,  ...,  0.0143, -0.0302, -0.0145],\n",
        "        [ 0.0164,  0.0286,  0.0238,  ..., -0.0127, -0.0191,  0.0188],\n",
        "        [ 0.0206, -0.0354, -0.0184,  ..., -0.0272,  0.0098,  0.0002]])\n",
        "main.0.bias tensor([-0.0292, -0.0018,  0.0115, -0.0370,  0.0054,  0.0155,  0.0317,  0.0246,\n",
        "         0.0198, -0.0061])\n",
        "```"
      ]
    },
    {
      "cell_type": "markdown",
      "metadata": {
        "execution": {},
        "id": "lZJCCaGVMdRD"
      },
      "source": [
        "[*Click for solution*](https://github.com/NeuromatchAcademy/course-content-dl/tree/main//tutorials/W1D5_Optimization/solutions/W1D5_Tutorial1_Solution_63933ab2.py)\n",
        "\n"
      ]
    },
    {
      "cell_type": "markdown",
      "metadata": {
        "execution": {},
        "id": "LQSrEMw8MdRD"
      },
      "source": [
        "## Comparing updates\n",
        "\n",
        "These plots compare the effectiveness of updating random directions for the problem of optimizing the parameters of a high-dimensional linear model. We contrast the behavior at initialization and during an intermediate stage of training by showing the histograms of change in loss over 100 different random directions vs the change in loss induced by the gradient descent update\n",
        "\n",
        "**Remember:** Since we are trying to minimize here, the more negative the better!\n"
      ]
    },
    {
      "cell_type": "code",
      "execution_count": 23,
      "metadata": {
        "cellView": "form",
        "execution": {},
        "id": "Ia_HKIjVMdRD",
        "outputId": "911008ee-c699-4828-998e-e61c02a50996",
        "colab": {
          "base_uri": "https://localhost:8080/",
          "height": 311
        }
      },
      "outputs": [
        {
          "output_type": "display_data",
          "data": {
            "text/plain": [
              "<Figure size 720x288 with 2 Axes>"
            ],
            "image/png": "[encoded data removed]"
          },
          "metadata": {
            "image/png": {
              "width": 701,
              "height": 294
            },
            "needs_background": "light"
          }
        }
      ],
      "source": [
        "# @markdown _Run this cell_ to visualize the results\n",
        "fig, axs = plt.subplots(1, 2, figsize=(10, 4))\n",
        "\n",
        "for id, (model_name, my_model) in enumerate([('Initialization', model),\n",
        "                                              ('Partially trained', partial_trained_model)]):\n",
        "  # Compute the loss we will be comparing to\n",
        "  base_loss = loss_fn(my_model(X), y)\n",
        "\n",
        "  # Compute the improvement via gradient descent\n",
        "  dummy_model = copy.deepcopy(my_model)\n",
        "  loss1 = loss_fn(dummy_model(X), y)\n",
        "  gradient_update(loss1, list(dummy_model.parameters()), lr=1e-2)\n",
        "  gd_delta = loss_fn(dummy_model(X), y) - base_loss\n",
        "\n",
        "  deltas = []\n",
        "  for trial_id in range(100):\n",
        "    # Compute the improvement obtained with a random direction\n",
        "    dummy_model = copy.deepcopy(my_model)\n",
        "    random_update(dummy_model, noise_scale=1e-2)\n",
        "    deltas.append((loss_fn(dummy_model(X), y) - base_loss).item())\n",
        "\n",
        "  # Plot histogram for random direction and vertical line for gradient descent\n",
        "  axs[id].hist(deltas, label='Random Directions', bins=20)\n",
        "  axs[id].set_title(model_name)\n",
        "  axs[id].set_xlabel('Change in loss')\n",
        "  axs[id].set_ylabel('% samples')\n",
        "  axs[id].axvline(0, c='green', alpha=0.5)\n",
        "  axs[id].axvline(gd_delta.item(), linestyle='--', c='red', alpha=1,\n",
        "                  label='Gradient Descent')\n",
        "\n",
        "\n",
        "handles, labels = axs[id].get_legend_handles_labels()\n",
        "fig.legend(handles, labels, loc='upper center',\n",
        "           bbox_to_anchor=(0.5, 1.05),\n",
        "           fancybox=False, shadow=False, ncol=2)\n",
        "\n",
        "plt.show()"
      ]
    },
    {
      "cell_type": "markdown",
      "metadata": {
        "execution": {},
        "id": "tkUhsAxCMdRD"
      },
      "source": [
        "## Think! 3: Gradient descent vs. random search\n",
        "\n",
        "Compare the behavior of gradient descent and random search based on the histograms above. Is any of the two methods more reliable? How can you explain the changes between behavior of the methods at initialization vs during training?"
      ]
    },
    {
      "cell_type": "code",
      "execution_count": 24,
      "metadata": {
        "cellView": "form",
        "execution": {},
        "id": "-Y_TztWDMdRE",
        "outputId": "3f634fe0-d66b-407b-88f1-3b4ac7093025",
        "colab": {
          "base_uri": "https://localhost:8080/",
          "height": 93,
          "referenced_widgets": [
            "6b202d98ca6044e1ba18421535645255",
            "dd763302d6a4495eaf080a13b2c0b68b",
            "400ef16aad8f4510851fc90817252b9d",
            "b8cd6cd8dc534be1bb57e955ba789f8d",
            "cdc30f9b0c9c4cb4b24234d060cde6c0",
            "a33460f5ed254cc59246773573e2276d"
          ]
        }
      },
      "outputs": [
        {
          "output_type": "display_data",
          "data": {
            "text/plain": [
              "Textarea(value='Type your answer here and click on `Submit!`', placeholder='Type something')"
            ],
            "application/vnd.jupyter.widget-view+json": {
              "version_major": 2,
              "version_minor": 0,
              "model_id": "6b202d98ca6044e1ba18421535645255"
            }
          },
          "metadata": {}
        },
        {
          "output_type": "display_data",
          "data": {
            "text/plain": [
              "Button(description='Submit!', style=ButtonStyle())"
            ],
            "application/vnd.jupyter.widget-view+json": {
              "version_major": 2,
              "version_minor": 0,
              "model_id": "b8cd6cd8dc534be1bb57e955ba789f8d"
            }
          },
          "metadata": {}
        }
      ],
      "source": [
        "# @title Student Response\n",
        "from ipywidgets import widgets\n",
        "\n",
        "\n",
        "text=widgets.Textarea(\n",
        "   value='Type your answer here and click on `Submit!`',\n",
        "   placeholder='Type something',\n",
        "   description='',\n",
        "   disabled=False\n",
        ")\n",
        "\n",
        "button = widgets.Button(description=\"Submit!\")\n",
        "\n",
        "display(text,button)\n",
        "\n",
        "def on_button_clicked(b):\n",
        "   atform.add_answer('q1' , text.value)\n",
        "   print(\"Submission successful!\")\n",
        "\n",
        "\n",
        "button.on_click(on_button_clicked)"
      ]
    },
    {
      "cell_type": "markdown",
      "metadata": {
        "execution": {},
        "id": "lqcf09b4MdRE"
      },
      "source": [
        "[*Click for solution*](https://github.com/NeuromatchAcademy/course-content-dl/tree/main//tutorials/W1D5_Optimization/solutions/W1D5_Tutorial1_Solution_c2013acf.py)\n",
        "\n"
      ]
    },
    {
      "cell_type": "markdown",
      "metadata": {
        "execution": {},
        "id": "hcDWWSPSMdRE"
      },
      "source": [
        "---\n",
        "# Section 4: Poor conditioning\n",
        "\n",
        "*Time estimate: ~30 mins*"
      ]
    },
    {
      "cell_type": "markdown",
      "metadata": {
        "execution": {},
        "id": "z2uL2LLdMdRE"
      },
      "source": [
        "Already in this 'simple' logistic regression problem, the issue of bad conditioning is haunting us. Not all parameters are created equal and the sensitivity of the network to changes on the parameters will have a big impact in the dynamics of the optimization.\n"
      ]
    },
    {
      "cell_type": "code",
      "execution_count": 25,
      "metadata": {
        "cellView": "form",
        "execution": {},
        "id": "6ysUC1dnMdRE",
        "outputId": "f522aee5-75c9-4e31-9b78-4299b996c427",
        "colab": {
          "base_uri": "https://localhost:8080/",
          "height": 580,
          "referenced_widgets": [
            "c523f84e87aa468590f1b2553ec8c00e",
            "a9b4f415fc154f54908570ad7bdffe42",
            "e9fd40262249442caafe04c78165a0f2",
            "a85ca2a9352e4faa89cfa47e566f6d05",
            "e2497ca53aec423ba7088ee95d41ce3a",
            "e543c6c04dc64fc88d2fb43a48c6c703"
          ]
        }
      },
      "outputs": [
        {
          "output_type": "display_data",
          "data": {
            "text/plain": [
              "Tab(children=(Output(), Output()), _titles={'0': 'Youtube', '1': 'Bilibili'})"
            ],
            "application/vnd.jupyter.widget-view+json": {
              "version_major": 2,
              "version_minor": 0,
              "model_id": "c523f84e87aa468590f1b2553ec8c00e"
            }
          },
          "metadata": {}
        }
      ],
      "source": [
        "# @title Video 4: Momentum\n",
        "from ipywidgets import widgets\n",
        "\n",
        "out2 = widgets.Output()\n",
        "with out2:\n",
        "  from IPython.display import IFrame\n",
        "  class BiliVideo(IFrame):\n",
        "    def __init__(self, id, page=1, width=400, height=300, **kwargs):\n",
        "      self.id=id\n",
        "      src = \"https://player.bilibili.com/player.html?bvid={0}&page={1}\".format(id, page)\n",
        "      super(BiliVideo, self).__init__(src, width, height, **kwargs)\n",
        "\n",
        "  video = BiliVideo(id=f\"BV1NL411H71t\", width=854, height=480, fs=1)\n",
        "  print(\"Video available at https://www.bilibili.com/video/{0}\".format(video.id))\n",
        "  display(video)\n",
        "\n",
        "out1 = widgets.Output()\n",
        "with out1:\n",
        "  from IPython.display import YouTubeVideo\n",
        "  video = YouTubeVideo(id=f\"3ES5O58Y_2M\", width=854, height=480, fs=1, rel=0)\n",
        "  print(\"Video available at https://youtube.com/watch?v=\" + video.id)\n",
        "  display(video)\n",
        "\n",
        "out = widgets.Tab([out1, out2])\n",
        "out.set_title(0, 'Youtube')\n",
        "out.set_title(1, 'Bilibili')\n",
        "\n",
        "# add event to airtable\n",
        "atform.add_event('Video 4: Momentum')\n",
        "\n",
        "display(out)"
      ]
    },
    {
      "cell_type": "markdown",
      "metadata": {
        "execution": {},
        "id": "3NoM9eakMdRF"
      },
      "source": [
        "We illustrate this issue in a 2-dimensional setting. We freeze all but two parameters of the network: one of them is an element of the weight matrix (filter) for class 0, while the other is the bias for class 7. This results in an optimization with two decision variables.\n",
        "\n",
        "How much difference is there in the behavior of these two parameters under gradient descent? What is the effect of momentum in bridging that gap?\n"
      ]
    },
    {
      "cell_type": "code",
      "execution_count": 26,
      "metadata": {
        "execution": {},
        "id": "5--Nlvj8MdRF"
      },
      "outputs": [],
      "source": [
        "# to remove solution\n",
        "\"\"\"\n",
        "The landscapes of the two parameters appear to be\n",
        "flatter under gradient descent as can be seen in interactive demo 4 below.\n",
        "\n",
        "As randomly-initialised models exhibit chaos, we use the Newton's approach\n",
        "by tweaking the learning rate i.e., taking smaller steps in the indicated\n",
        "direction and recomputing gradients to find an optimal solution on a\n",
        "varied surface. Momentum helps reduce the chaos by maintaining a consistent\n",
        "direction for exploration (linear combination of the previous heading vector,\n",
        "and the newly-computed gradient vector).\n",
        "\"\"\";"
      ]
    },
    {
      "cell_type": "code",
      "execution_count": 27,
      "metadata": {
        "cellView": "form",
        "execution": {},
        "id": "BnLcDqCkMdRF"
      },
      "outputs": [],
      "source": [
        "# @markdown _Run this cell_ to setup some helper functions.\n",
        "\n",
        "def loss_2d(model, u, v, mask_idx=(0, 378), bias_id=7):\n",
        "  \"\"\"\n",
        "  Defines a 2-dim function by freezing all\n",
        "  but two parameters of a linear model.\n",
        "\n",
        "  Args:\n",
        "    model: nn.Module\n",
        "      a pytorch linear model\n",
        "    u: Scalar\n",
        "      first free parameter\n",
        "    u: Scalar\n",
        "      second free parameter\n",
        "    mask_idx: Tuple\n",
        "      selects parameter in weight matrix replaced by u\n",
        "    bias_idx: Integer\n",
        "      selects parameter in bias vector replaced by v\n",
        "\n",
        "  Returns:\n",
        "    loss: Scalar\n",
        "      loss of the 'new' model\n",
        "      over inputs X, y (defined externally)\n",
        "  \"\"\"\n",
        "\n",
        "  # We zero out the element of the weight tensor that will be\n",
        "  # replaced by u\n",
        "  mask = torch.ones_like(model.main[0].weight)\n",
        "  mask[mask_idx[0], mask_idx[1]] = 0.\n",
        "  masked_weights = model.main[0].weight * mask\n",
        "\n",
        "  # u is replacing an element of the weight matrix\n",
        "  masked_weights[mask_idx[0], mask_idx[1]] = u\n",
        "\n",
        "  res = X.reshape(-1, 784) @ masked_weights.T + model.main[0].bias\n",
        "\n",
        "  # v is replacing a bias for class 7\n",
        "  res[:, 7] += v - model.main[0].bias[7]\n",
        "  res =  F.log_softmax(res, dim=1)\n",
        "\n",
        "  return loss_fn(res, y)\n",
        "\n",
        "\n",
        "def plot_surface(U, V, Z, fig):\n",
        "  \"\"\"\n",
        "  Plot a 3D loss surface given\n",
        "  meshed inputs U, V and values Z\n",
        "\n",
        "  Args:\n",
        "    U: nd.array()\n",
        "      Input to plot for obtaining 3D loss surface\n",
        "    V: nd.array()\n",
        "      Input to plot for obtaining 3D loss surface\n",
        "    Z: nd.array()\n",
        "      Input to plot for obtaining 3D loss surface\n",
        "    fig: matplotlib.figure.Figure instance\n",
        "      Helps create a new figure, or activate an existing figure.\n",
        "\n",
        "  Returns:\n",
        "    ax: matplotlib.axes._subplots.AxesSubplot instance\n",
        "      Plotted subplot data\n",
        "  \"\"\"\n",
        "  ax = fig.add_subplot(1, 2, 2, projection='3d')\n",
        "  ax.view_init(45, -130)\n",
        "\n",
        "  surf = ax.plot_surface(U, V, Z, cmap=plt.cm.coolwarm,\n",
        "                      linewidth=0, antialiased=True, alpha=0.5)\n",
        "\n",
        "  # Select certain level contours to plot\n",
        "  # levels = Z.min() * np.array([1.005, 1.1, 1.3, 1.5, 2.])\n",
        "  # plt.contour(U, V, Z)# levels=levels, alpha=0.5)\n",
        "\n",
        "  ax.set_xlabel('Weight')\n",
        "  ax.set_ylabel('Bias')\n",
        "  ax.set_zlabel('Loss', rotation=90)\n",
        "\n",
        "  return ax\n",
        "\n",
        "\n",
        "def plot_param_distance(best_u, best_v, trajs, fig, styles, labels,\n",
        "                        use_log=False, y_min_v=-12.0, y_max_v=1.5):\n",
        "  \"\"\"\n",
        "  Plot the distance to each of the\n",
        "  two parameters for a collection of 'trajectories'\n",
        "\n",
        "  Args:\n",
        "    best_u: float\n",
        "      Optimal distance of vector u within trajectory\n",
        "    best_v: float\n",
        "      Optimal distance of vector v within trajectory\n",
        "    trajs: Tensor\n",
        "      Specifies trajectories\n",
        "    fig: matplotlib.figure.Figure instance\n",
        "      Helps create a new figure, or activate an existing figure.\n",
        "    styles: Tensor\n",
        "      Specifying Style requirements\n",
        "    use_log: Bool\n",
        "      Specifies if log distance should be calculated; else, absolute distance\n",
        "    y_min_v: float\n",
        "      Minimum distance from y to v\n",
        "    y_max_v: float\n",
        "      Maximum distance from y to v\n",
        "\n",
        "  Returns:\n",
        "    ax: matplotlib.axes._subplots.AxesSubplot instance\n",
        "      Plotted subplot data\n",
        "  \"\"\"\n",
        "  ax = fig.add_subplot(1, 1, 1)\n",
        "\n",
        "  for traj, style, label in zip(trajs, styles, labels):\n",
        "    d0 = np.array([np.abs(_[0] - best_u) for _ in traj])\n",
        "    d1 = np.array([np.abs(_[1] - best_v) for _ in traj])\n",
        "    if use_log:\n",
        "      d0 = np.log(1e-16 + d0)\n",
        "      d1 = np.log(1e-16 + d1)\n",
        "    ax.plot(range(len(traj)), d0, style, label='weight - ' + label)\n",
        "    ax.plot(range(len(traj)), d1, style, label='bias - ' + label)\n",
        "  ax.set_xlabel('Iteration')\n",
        "  if use_log:\n",
        "    ax.set_ylabel('Log distance to optimum (per dimension)')\n",
        "    ax.set_ylim(y_min_v, y_max_v)\n",
        "  else:\n",
        "    ax.set_ylabel('Abs distance to optimum (per dimension)')\n",
        "  ax.legend(loc='right', bbox_to_anchor=(1.5, 0.5),\n",
        "            fancybox=False, shadow=False, ncol=1)\n",
        "\n",
        "  return ax\n",
        "\n",
        "\n",
        "def run_optimizer(inits, eval_fn, update_fn, max_steps=500,\n",
        "                  optim_kwargs={'lr':1e-2}, log_traj=True):\n",
        "  \"\"\"\n",
        "  Runs an optimizer on a given\n",
        "  objective and logs parameter trajectory\n",
        "\n",
        "  Args:\n",
        "      inits list: Scalar\n",
        "        initialization of parameters\n",
        "      eval_fn: Callable\n",
        "        function computing the objective to be minimized\n",
        "      update_fn: Callable\n",
        "        function executing parameter update\n",
        "      max_steps: Integer\n",
        "        number of iterations to run\n",
        "      optim_kwargs: Dictionary\n",
        "        customizable dictionary containing appropriate hyperparameters for the chosen optimizer\n",
        "      log_traj: Bool\n",
        "        Specifies if log distance should be calculated; else, absolute distance\n",
        "\n",
        "  Returns:\n",
        "      list: List\n",
        "        trajectory information [*params, loss] for each optimization step\n",
        "  \"\"\"\n",
        "\n",
        "  # Initialize parameters and optimizer\n",
        "  params = [nn.Parameter(torch.tensor(_)) for _ in inits]\n",
        "  # Methods like momentum and rmsprop keep and auxiliary vector of parameters\n",
        "  aux_tensors = [torch.zeros_like(_) for _ in params]\n",
        "  if log_traj:\n",
        "    traj = np.zeros((max_steps, len(params)+1))\n",
        "  for _ in range(max_steps):\n",
        "    # Evaluate loss\n",
        "    loss = eval_fn(*params)\n",
        "    # Store 'trajectory' information\n",
        "    if log_traj:\n",
        "      traj[_, :] = [_.item() for _ in params] + [loss.item()]\n",
        "    # Perform update\n",
        "    if update_fn == gradient_update:\n",
        "      gradient_update(loss, params, **optim_kwargs)\n",
        "    else:\n",
        "      update_fn(loss, params, aux_tensors, **optim_kwargs)\n",
        "  if log_traj:\n",
        "    return traj\n",
        "\n",
        "\n",
        "L = 4.\n",
        "xs = np.linspace(-L, L, 30)\n",
        "ys = np.linspace(-L, L, 30)\n",
        "U, V = np.meshgrid(xs, ys)"
      ]
    },
    {
      "cell_type": "markdown",
      "metadata": {
        "execution": {},
        "id": "Fi6q78cbMdRG"
      },
      "source": [
        "## Coding Exercise 4: Implement momentum\n",
        "\n",
        "In this exercise you will implement the momentum update given by:\n",
        "\n",
        "\\begin{equation}\n",
        "w_{t+1} = w_t - \\eta \\nabla J(w_t) + \\beta (w_t - w_{t-1})\n",
        "\\end{equation}\n",
        "\n",
        "It is convenient to re-express this update rule in terms of a recursion. For that, we define 'velocity' as the quantity:\n",
        "\\begin{equation}\n",
        "v_{t-1} := w_{t} - w_{t-1}\n",
        "\\end{equation}\n",
        "\n",
        "which leads to the two-step update rule:\n",
        "\n",
        "\\begin{equation}\n",
        "v_t = - \\eta \\nabla J(w_t) + \\beta (\\underbrace{w_t - w_{t-1}}_{v_{t-1}})\n",
        "\\end{equation}\n",
        "\n",
        "\\begin{equation}\n",
        "w_{t+1} \\leftarrow w_t + v_{t}\n",
        "\\end{equation}\n",
        "\n",
        "Pay attention to the positive sign of the update in the last equation, given the definition of $v_t$, above. "
      ]
    },
    {
      "cell_type": "code",
      "execution_count": 28,
      "metadata": {
        "execution": {},
        "id": "814zTVbCMdRG",
        "outputId": "ef76f830-b4d4-4c4a-c02e-9810a09468d4",
        "colab": {
          "base_uri": "https://localhost:8080/"
        }
      },
      "outputs": [
        {
          "output_type": "stream",
          "name": "stdout",
          "text": [
            "Random seed 2021 has been set.\n",
            "\n",
            " The model2 parameters before the update are: \n",
            "\n",
            "main.0.weight tensor([[-0.0264,  0.0010,  0.0173,  ...,  0.0297,  0.0278, -0.0221],\n",
            "        [-0.0040, -0.0295, -0.0086,  ..., -0.0070,  0.0254, -0.0233],\n",
            "        [ 0.0240, -0.0231,  0.0342,  ...,  0.0124,  0.0270, -0.0180],\n",
            "        ...,\n",
            "        [-0.0005,  0.0157,  0.0111,  ...,  0.0144, -0.0301, -0.0144],\n",
            "        [ 0.0181,  0.0303,  0.0255,  ..., -0.0110, -0.0175,  0.0205],\n",
            "        [ 0.0208, -0.0353, -0.0183,  ..., -0.0271,  0.0099,  0.0003]])\n",
            "main.0.bias tensor([-0.0290, -0.0033,  0.0100, -0.0320,  0.0022,  0.0221,  0.0307,  0.0243,\n",
            "         0.0159, -0.0064])\n",
            "\n",
            " The model2 parameters after the update are: \n",
            "\n",
            "main.0.weight tensor([[ 1.5898,  0.0116, -2.0239,  ..., -1.0871,  0.4030, -0.9577],\n",
            "        [ 0.4653,  0.6022, -0.7363,  ...,  0.5485, -0.2747, -0.6539],\n",
            "        [-1.4117, -1.1045,  0.6492,  ..., -1.0201,  0.6503,  0.1310],\n",
            "        ...,\n",
            "        [-0.5098,  0.5075, -0.0718,  ...,  1.1192,  0.2900, -0.9657],\n",
            "        [-0.4405, -0.1174,  0.7542,  ...,  0.0792, -0.1857,  0.3537],\n",
            "        [-1.0824,  1.0080, -0.4254,  ..., -0.3760, -1.7491,  0.6025]])\n",
            "main.0.bias tensor([ 0.4147, -1.0440,  0.8720, -1.6201, -0.9632,  0.9430, -0.5180,  1.3417,\n",
            "         0.6574,  0.3677])\n"
          ]
        }
      ],
      "source": [
        "def momentum_update(loss, params, grad_vel, lr=1e-3, beta=0.8):\n",
        "  \"\"\"\n",
        "  Perform a momentum update over a collection of parameters given a loss and velocities\n",
        "\n",
        "  Args:\n",
        "    loss: Tensor\n",
        "      A scalar tensor containing the loss through which gradient will be computed\n",
        "    params: Iterable\n",
        "      Collection of parameters with respect to which we compute gradients\n",
        "    grad_vel: Iterable\n",
        "      Collection containing the 'velocity' v_t for each parameter\n",
        "    lr: Float\n",
        "      Scalar specifying the learning rate or step-size for the update\n",
        "    beta: Float\n",
        "      Scalar 'momentum' parameter\n",
        "\n",
        "  Returns:\n",
        "    Nothing\n",
        "  \"\"\"\n",
        "  # Clear up gradients as Pytorch automatically accumulates gradients from\n",
        "  # successive backward calls\n",
        "  zero_grad(params)\n",
        "  # Compute gradients on given objective\n",
        "  loss.backward()\n",
        "\n",
        "  with torch.no_grad():\n",
        "    for (par, vel) in zip(params, grad_vel):\n",
        "      #################################################\n",
        "      ## TODO for students: update the value of the parameter ##\n",
        "      #raise NotImplementedError(\"Student exercise: implement momentum update\")\n",
        "      #################################################\n",
        "      # Update 'velocity'\n",
        "      vel.data = -lr * par.grad.data + beta * vel.data\n",
        "      # Update parameters\n",
        "      par.data += vel.data\n",
        "\n",
        "\n",
        "# add event to airtable\n",
        "atform.add_event('Coding Exercise 4: Implement momentum')\n",
        "\n",
        "\n",
        "set_seed(seed=SEED)\n",
        "model2 = MLP(in_dim=784, out_dim=10, hidden_dims=[])\n",
        "print('\\n The model2 parameters before the update are: \\n')\n",
        "print_params(model2)\n",
        "loss = loss_fn(model2(X), y)\n",
        "initial_vel = [torch.randn_like(p) for p in model2.parameters()]\n",
        "\n",
        "## Uncomment below to test your function\n",
        "momentum_update(loss, list(model2.parameters()), grad_vel=initial_vel, lr=1e-1, beta=0.9)\n",
        "print('\\n The model2 parameters after the update are: \\n')\n",
        "print_params(model2)"
      ]
    },
    {
      "cell_type": "markdown",
      "metadata": {
        "execution": {},
        "id": "JOG-kUHEMdRG"
      },
      "source": [
        "```\n",
        " The model2 parameters after the update are: \n",
        "\n",
        "main.0.weight tensor([[ 1.5898,  0.0116, -2.0239,  ..., -1.0871,  0.4030, -0.9577],\n",
        "        [ 0.4653,  0.6022, -0.7363,  ...,  0.5485, -0.2747, -0.6539],\n",
        "        [-1.4117, -1.1045,  0.6492,  ..., -1.0201,  0.6503,  0.1310],\n",
        "        ...,\n",
        "        [-0.5098,  0.5075, -0.0718,  ...,  1.1192,  0.2900, -0.9657],\n",
        "        [-0.4405, -0.1174,  0.7542,  ...,  0.0792, -0.1857,  0.3537],\n",
        "        [-1.0824,  1.0080, -0.4254,  ..., -0.3760, -1.7491,  0.6025]])\n",
        "main.0.bias tensor([ 0.4147, -1.0440,  0.8720, -1.6201, -0.9632,  0.9430, -0.5180,  1.3417,\n",
        "         0.6574,  0.3677])\n",
        "```"
      ]
    },
    {
      "cell_type": "markdown",
      "metadata": {
        "execution": {},
        "id": "8fIijtTYMdRG"
      },
      "source": [
        "[*Click for solution*](https://github.com/NeuromatchAcademy/course-content-dl/tree/main//tutorials/W1D5_Optimization/solutions/W1D5_Tutorial1_Solution_1c99ebea.py)\n",
        "\n"
      ]
    },
    {
      "cell_type": "markdown",
      "metadata": {
        "execution": {},
        "id": "59J1DoUmMdRG"
      },
      "source": [
        "## Interactive Demo 4: Momentum vs. GD\n",
        "\n",
        "The plots below show the distance to the optimum for both variables across the two methods, as well as the parameter trajectory over the loss surface.\n",
        "\n",
        "Tune the learning rate and momentum parameters to achieve a loss below $10^{-6}$ (for both dimensions) within 100 iterations."
      ]
    },
    {
      "cell_type": "code",
      "execution_count": 29,
      "metadata": {
        "cellView": "form",
        "execution": {},
        "id": "7U3_buNAMdRG",
        "outputId": "cb01a1a6-ab99-43bc-a7ec-0170ac0bdc6b",
        "colab": {
          "base_uri": "https://localhost:8080/",
          "height": 195,
          "referenced_widgets": [
            "24a79dba010d46559f5840dee00ab84d",
            "11fd8abeb7c743ceb6f628aa23f19507",
            "b5d6b4548936472eacd00e381da23bfe",
            "4709824a411c436fa00e991e3aa051cf",
            "58fed753d383404eadc26c8c88fa1b0a",
            "ffdce425700142f28f9663178782de46",
            "4d80fa3366884b11a7d8bd7d3df6b4dd",
            "04c965797272431b93bd43923a1441a2",
            "73b30556916b41bab0f5c0d4c9aec7b8",
            "396dabbba2a64126b4569c7b1db4a01c",
            "e2a0bfebd32743fcaa724da0adc39971",
            "1f938f1e9dc04550969a49331898d46a",
            "fa26973e313b4050ab9b2ecfbee0a760",
            "67fe53d0dd524e7787272a2380171275",
            "157bf7a8cef942279b4b97859276f763",
            "8983291593434cf789e2ec87c5c87f43",
            "69b48a1be27c40adadd7bdf6ab940dcd",
            "da0a3f89484e4178b72a7c38d57107a7",
            "47a396f9d7f84eb69f3395e3136e93c2",
            "666361ba77524c4aba3d794fa5879eb4",
            "dae7c7df4eeb493180dffd99f96c83ce",
            "0f31e42cc0bd4bc9b0f8b3e219d1d4f2",
            "d2f3419ffa364573bcdf1f95789bf889",
            "02181a7023eb48998b78769b81bed18b",
            "9b30e226e8f24e11b831c88fb6252c93",
            "19076c8a0e0f468db3961fdbcd4fab8a",
            "82db9ef6ed1442a6a7937e693e7d6ea9"
          ]
        }
      },
      "outputs": [
        {
          "output_type": "stream",
          "name": "stdout",
          "text": [
            "Random seed 2021 has been set.\n"
          ]
        },
        {
          "output_type": "display_data",
          "data": {
            "text/plain": [
              "  0%|          | 0/200 [00:00<?, ?it/s]"
            ],
            "application/vnd.jupyter.widget-view+json": {
              "version_major": 2,
              "version_minor": 0,
              "model_id": "24a79dba010d46559f5840dee00ab84d"
            }
          },
          "metadata": {}
        },
        {
          "output_type": "display_data",
          "data": {
            "text/plain": [
              "interactive(children=(IntSlider(value=300, description='max_steps', max=500, min=50, step=5), FloatLogSlider(v…"
            ],
            "application/vnd.jupyter.widget-view+json": {
              "version_major": 2,
              "version_minor": 0,
              "model_id": "1f938f1e9dc04550969a49331898d46a"
            }
          },
          "metadata": {}
        }
      ],
      "source": [
        "# @markdown Run this cell to enable the widget!\n",
        "from matplotlib.lines import Line2D\n",
        "\n",
        "def run_newton(func, init_list=[0., 0.], max_iter=200):\n",
        "  \"\"\"\n",
        "  Find the optimum of this 2D problem using Newton's method\n",
        "\n",
        "  Args:\n",
        "    func: Callable\n",
        "      Initialising parameter tensor updates\n",
        "    init_list: Scalar\n",
        "      initialization of parameters\n",
        "    max_iter: Integer\n",
        "      The maximum number of iterations to complete\n",
        "\n",
        "  Returns:\n",
        "    par_tensor.data.numpy(): ndarray\n",
        "      List of newton's updates\n",
        "  \"\"\"\n",
        "\n",
        "  par_tensor = torch.tensor(init_list, requires_grad=True)\n",
        "  t_g = lambda par_tensor: func(par_tensor[0], par_tensor[1])\n",
        "\n",
        "  for _ in tqdm(range(max_iter)):\n",
        "    eval_loss = t_g(par_tensor)\n",
        "    eval_grad = torch.autograd.grad(eval_loss, [par_tensor])[0]\n",
        "    eval_hess = torch.autograd.functional.hessian(t_g, par_tensor)\n",
        "    # Newton's update is:  - inverse(Hessian) x gradient\n",
        "    par_tensor.data -= torch.inverse(eval_hess) @ eval_grad\n",
        "\n",
        "  return par_tensor.data.numpy()\n",
        "\n",
        "\n",
        "set_seed(2021)\n",
        "model = MLP(in_dim=784, out_dim=10, hidden_dims=[])\n",
        "# Define 2d loss objectives and surface values\n",
        "g = lambda u, v: loss_2d(copy.deepcopy(model), u, v)\n",
        "Z = np.fromiter(map(g, U.ravel(), V.ravel()), U.dtype).reshape(V.shape)\n",
        "\n",
        "best_u, best_v  = run_newton(func=g)\n",
        "\n",
        "# Initialization of the variables\n",
        "INITS = [2.5, 3.7]\n",
        "\n",
        "# Used for plotting\n",
        "LABELS = ['GD', 'Momentum']\n",
        "COLORS = ['black', 'red']\n",
        "LSTYLES = ['-', '--']\n",
        "\n",
        "\n",
        "@widgets.interact_manual\n",
        "def momentum_experiment(max_steps=widgets.IntSlider(300, 50, 500, 5),\n",
        "                        lr=widgets.FloatLogSlider(value=1e-1, min=-3, max=0.7, step=0.1),\n",
        "                        beta=widgets.FloatSlider(value=9e-1, min=0, max=1., step=0.01)\n",
        "                        ):\n",
        "  \"\"\"\n",
        "  Displays the momentum experiment as a widget\n",
        "\n",
        "  Args:\n",
        "    max_steps: widget integer slider\n",
        "      Maximum number of steps on the slider with default = 300\n",
        "    lr: widget float slider\n",
        "      Scalar specifying the learning rate or step-size for the update with default = 1e-1\n",
        "    beta: widget float slider\n",
        "      Scalar 'momentum' parameter with default = 9e-1\n",
        "\n",
        "  Returns:\n",
        "    Nothing\n",
        "  \"\"\"\n",
        "  # Execute both optimizers\n",
        "  sgd_traj = run_optimizer(INITS, eval_fn=g, update_fn=gradient_update,\n",
        "                           max_steps=max_steps, optim_kwargs={'lr': lr})\n",
        "  mom_traj = run_optimizer(INITS, eval_fn=g, update_fn=momentum_update,\n",
        "                           max_steps=max_steps, optim_kwargs={'lr': lr, 'beta':beta})\n",
        "\n",
        "  TRAJS = [sgd_traj, mom_traj]\n",
        "\n",
        "  # Plot distances\n",
        "  fig = plt.figure(figsize=(9,4))\n",
        "  plot_param_distance(best_u, best_v, TRAJS, fig,\n",
        "                      LSTYLES, LABELS, use_log=True, y_min_v=-12.0, y_max_v=1.5)\n",
        "\n",
        "  # # Plot trajectories\n",
        "  fig = plt.figure(figsize=(12, 5))\n",
        "  ax = plot_surface(U, V, Z, fig)\n",
        "  for traj, c, label in zip(TRAJS, COLORS, LABELS):\n",
        "    ax.plot3D(*traj.T, c, linewidth=0.3, label=label)\n",
        "    ax.scatter3D(*traj.T, '.-', s=1, c=c)\n",
        "\n",
        "  # Plot optimum point\n",
        "  ax.scatter(best_u, best_v, Z.min(), marker='*', s=80, c='lime', label='Opt.');\n",
        "  lines = [Line2D([0], [0],\n",
        "                  color=c,\n",
        "                  linewidth=3,\n",
        "                  linestyle='--') for c in COLORS]\n",
        "  lines.append(Line2D([0], [0], color='lime', linewidth=0, marker='*'))\n",
        "  ax.legend(lines, LABELS + ['Optimum'], loc='right',\n",
        "            bbox_to_anchor=(.8, -0.1), ncol=len(LABELS) + 1)"
      ]
    },
    {
      "cell_type": "markdown",
      "metadata": {
        "execution": {},
        "id": "EkNu49HPMdRH"
      },
      "source": [
        "## Think! 4: Momentum and oscillations\n",
        "\n",
        "- Discuss how this specific example illustrates the issue of poor conditioning in optimization? How does momentum help resolve these difficulties?\n",
        "\n",
        "- Do you see oscillations for any of these methods? Why does this happen?\n"
      ]
    },
    {
      "cell_type": "code",
      "execution_count": 30,
      "metadata": {
        "cellView": "form",
        "execution": {},
        "id": "PItvATzhMdRH",
        "outputId": "88c2ce4b-09db-4aa8-bf4b-5d57a661347a",
        "colab": {
          "base_uri": "https://localhost:8080/",
          "height": 93,
          "referenced_widgets": [
            "4a9f7e64a43c461f82b094d85cbea27c",
            "6f0370505af44887ac62744a2d425e83",
            "026ca9ade5b64712b636ec658958bbf8",
            "6dcb059c334a4c328a64437329595dab",
            "1a06938ce1af4bbb8e9c42423f72b5be",
            "d9172369f22c4fee8d4a286d2ded6198"
          ]
        }
      },
      "outputs": [
        {
          "output_type": "display_data",
          "data": {
            "text/plain": [
              "Textarea(value='Type your answer here and click on `Submit!`', placeholder='Type something')"
            ],
            "application/vnd.jupyter.widget-view+json": {
              "version_major": 2,
              "version_minor": 0,
              "model_id": "4a9f7e64a43c461f82b094d85cbea27c"
            }
          },
          "metadata": {}
        },
        {
          "output_type": "display_data",
          "data": {
            "text/plain": [
              "Button(description='Submit!', style=ButtonStyle())"
            ],
            "application/vnd.jupyter.widget-view+json": {
              "version_major": 2,
              "version_minor": 0,
              "model_id": "6dcb059c334a4c328a64437329595dab"
            }
          },
          "metadata": {}
        }
      ],
      "source": [
        "# @title Student Response\n",
        "from ipywidgets import widgets\n",
        "\n",
        "\n",
        "text=widgets.Textarea(\n",
        "   value='Type your answer here and click on `Submit!`',\n",
        "   placeholder='Type something',\n",
        "   description='',\n",
        "   disabled=False\n",
        ")\n",
        "\n",
        "button = widgets.Button(description=\"Submit!\")\n",
        "\n",
        "display(text,button)\n",
        "\n",
        "def on_button_clicked(b):\n",
        "   atform.add_answer('q2' , text.value)\n",
        "   print(\"Submission successful!\")\n",
        "\n",
        "\n",
        "button.on_click(on_button_clicked)"
      ]
    },
    {
      "cell_type": "markdown",
      "metadata": {
        "execution": {},
        "id": "Cvz66LaEMdRH"
      },
      "source": [
        "[*Click for solution*](https://github.com/NeuromatchAcademy/course-content-dl/tree/main//tutorials/W1D5_Optimization/solutions/W1D5_Tutorial1_Solution_5eaa9306.py)\n",
        "\n"
      ]
    },
    {
      "cell_type": "markdown",
      "metadata": {
        "execution": {},
        "id": "DxetsvqPMdRH"
      },
      "source": [
        "---\n",
        "# Section 5: Non-convexity\n",
        "\n",
        "*Time estimate: ~30 mins*"
      ]
    },
    {
      "cell_type": "markdown",
      "metadata": {
        "execution": {},
        "id": "8maQFCApMdRI"
      },
      "source": [
        "The introduction of even just 1 hidden layer in the neural network transforms the previous convex optimization problem into a non-convex one. And with great non-convexity, comes great responsibility... (Sorry, we couldn't help it!)\n",
        "\n",
        "**Note:** From this section onwards we will be dealing with non-convex optimization problems for the remainder of the tutorial. "
      ]
    },
    {
      "cell_type": "code",
      "execution_count": 31,
      "metadata": {
        "cellView": "form",
        "execution": {},
        "id": "s8OS5PQjMdRI",
        "outputId": "c7828cab-e0cc-4392-e5b6-3c2c005c1f06",
        "colab": {
          "base_uri": "https://localhost:8080/",
          "height": 580,
          "referenced_widgets": [
            "4219767d162f4053a59ad49f660a4aab",
            "329aa87fa04b45bda7d897cc6ff7f665",
            "1200b4814e804c4e8585c56516b155b8",
            "891fee003fa848728fe496bda2f6e7be",
            "add307299c4044899611cbe27b777f27",
            "fd6309d72e534eaa817b961dfd473ed2"
          ]
        }
      },
      "outputs": [
        {
          "output_type": "display_data",
          "data": {
            "text/plain": [
              "Tab(children=(Output(), Output()), _titles={'0': 'Youtube', '1': 'Bilibili'})"
            ],
            "application/vnd.jupyter.widget-view+json": {
              "version_major": 2,
              "version_minor": 0,
              "model_id": "4219767d162f4053a59ad49f660a4aab"
            }
          },
          "metadata": {}
        }
      ],
      "source": [
        "# @title Video 5: Overparameterization\n",
        "from ipywidgets import widgets\n",
        "\n",
        "out2 = widgets.Output()\n",
        "with out2:\n",
        "  from IPython.display import IFrame\n",
        "  class BiliVideo(IFrame):\n",
        "    def __init__(self, id, page=1, width=400, height=300, **kwargs):\n",
        "      self.id=id\n",
        "      src = \"https://player.bilibili.com/player.html?bvid={0}&page={1}\".format(id, page)\n",
        "      super(BiliVideo, self).__init__(src, width, height, **kwargs)\n",
        "\n",
        "  video = BiliVideo(id=f\"BV16h41167Jr\", width=854, height=480, fs=1)\n",
        "  print(\"Video available at https://www.bilibili.com/video/{0}\".format(video.id))\n",
        "  display(video)\n",
        "\n",
        "out1 = widgets.Output()\n",
        "with out1:\n",
        "  from IPython.display import YouTubeVideo\n",
        "  video = YouTubeVideo(id=f\"7vUpUEKKl5o\", width=854, height=480, fs=1, rel=0)\n",
        "  print(\"Video available at https://youtube.com/watch?v=\" + video.id)\n",
        "  display(video)\n",
        "\n",
        "out = widgets.Tab([out1, out2])\n",
        "out.set_title(0, 'Youtube')\n",
        "out.set_title(1, 'Bilibili')\n",
        "\n",
        "# add event to airtable\n",
        "atform.add_event(\"Video 5: Overparameterization\")\n",
        "\n",
        "display(out)"
      ]
    },
    {
      "cell_type": "markdown",
      "metadata": {
        "execution": {},
        "id": "2uxLLg5IMdRI"
      },
      "source": [
        "Take a couple of minutes to play with a more complex 3D visualization of the loss landscape of a neural network on a non-convex problem. Visit https://losslandscape.com/explorer.\n",
        "\n",
        "1. Explore the features on the bottom left corner. You can see an explanation for each icon by clicking on the ( i ) button located on the top right corner.\n",
        "2. Use the 'gradient descent' feature to perform a thought experiment:\n",
        "    -   Choose an initialization\n",
        "    -   Choose the learning rate\n",
        "    -   Mentally formulate your hypothesis about what kind of trajectory you expect to observe \n",
        "3. Run the experiment and contrast your intuition with the observed behavior.\n",
        "4. Repeat this experiment a handful of times for several initialization/learning rate configurations\n"
      ]
    },
    {
      "cell_type": "markdown",
      "metadata": {
        "execution": {},
        "id": "6bWuTGyZMdRI"
      },
      "source": [
        "## Interactive Demo 5: Overparameterization to the rescue!\n",
        "\n",
        "As you may have seen, the non-convex nature of the surface can lead the optimization process to get stuck in undesirable local-optima. There is ample empirical evidence supporting the claim that 'overparameterized' models are easier to train.\n",
        "\n",
        "We will explore this assertion in the context of our MLP training. For this, we initialize a fixed model and construct several models by small random perturbations to the original initialized weights. Now, we train each of these perturbed models and see how the loss evolves. If we were in the convex setting, we should reach very similar objective values upon convergence since all these models were very close at the beginning of training, and in convex problems, the local optimum is also the global optimum.\n",
        "\n",
        "Use the interactive plot below to visualize the loss progression for these perturbed models:\n",
        "\n",
        "1. Select different settings from the `hidden_dims` drop-down menu.\n",
        "2. Explore the effect of the number of steps and learning rate."
      ]
    },
    {
      "cell_type": "code",
      "execution_count": 32,
      "metadata": {
        "cellView": "form",
        "execution": {},
        "id": "73dPxGhnMdRI",
        "outputId": "04813788-b3aa-4ce2-8df9-a436064892d3",
        "colab": {
          "base_uri": "https://localhost:8080/",
          "height": 177,
          "referenced_widgets": [
            "0db69b49adb94a419ed6ea537c34bf10",
            "b4955760c0d04040a3e48416ee00abe8",
            "aa7e2814f8a549cc9591839030fe0593",
            "a822bf8bf05941719e556bd593767d1d",
            "26e1656416884ee28ad63300f42ae9bf",
            "780b4db47c6644d1b8cbf187d220b9f1",
            "0e9f10676f784388b26f596971158ef4",
            "56def92ac72d43a2a49ceadae06b42e7",
            "0da586c547c64bcc9cd6fc421f23e941",
            "f7056cf92f504b1ba1e7e56143b37b0b",
            "fa7004f562a340debb89a7a9321fdcc5",
            "fcbff814af7240139b24c787ae0cb2f2",
            "4bd8d18b58da4d36a6f3210fd4cd326c",
            "8cf6faa00dfb4012b3948fb0ce98a5b0",
            "5c6912e4810f4488b3233fc3902b2889",
            "1a53805280e04ecfa177a7c4ad463202",
            "346d9303f862490599eb902677b0225a",
            "dc591faa70a94903809ce53095c1fc0d",
            "0a9c05582e9745d9baa42e38c7127341"
          ]
        }
      },
      "outputs": [
        {
          "output_type": "display_data",
          "data": {
            "text/plain": [
              "interactive(children=(IntSlider(value=150, description='max_steps', max=500, min=50, step=5), Dropdown(descrip…"
            ],
            "application/vnd.jupyter.widget-view+json": {
              "version_major": 2,
              "version_minor": 0,
              "model_id": "0db69b49adb94a419ed6ea537c34bf10"
            }
          },
          "metadata": {}
        }
      ],
      "source": [
        "# @markdown Execute this cell to enable the widget!\n",
        "\n",
        "@widgets.interact_manual\n",
        "def overparam(max_steps=widgets.IntSlider(150, 50, 500, 5),\n",
        "              hidden_dims=widgets.Dropdown(options=[\"10\", \"20, 20\", \"100, 100\"],\n",
        "                                           value=\"10\"),\n",
        "              lr=widgets.FloatLogSlider(value=5e-2, min=-3, max=0, step=0.1),\n",
        "              num_inits=widgets.IntSlider(7, 5, 10, 1)):\n",
        "  \"\"\"\n",
        "  Displays the overparameterization phenomenon as a widget\n",
        "\n",
        "  Args:\n",
        "    max_steps: widget integer slider\n",
        "      Maximum number of steps on the slider with default = 150\n",
        "    hidden_dims: widget dropdown menu instance\n",
        "      The number of hidden dimensions with default = 10\n",
        "    lr: widget float slider\n",
        "      Scalar specifying the learning rate or step-size for the update with default = 5e-2\n",
        "    num_inits: widget integer slider\n",
        "      Scalar number of epochs\n",
        "\n",
        "  Returns:\n",
        "    Nothing\n",
        "  \"\"\"\n",
        "\n",
        "  X, y = train_set.data[subset_index, :], train_set.targets[subset_index]\n",
        "\n",
        "  hdims = [int(s) for s in hidden_dims.split(',')]\n",
        "  base_model = MLP(in_dim=784, out_dim=10, hidden_dims=hdims)\n",
        "\n",
        "  fig, axs = plt.subplots(1, 1, figsize=(5, 4))\n",
        "\n",
        "  for _ in tqdm(range(num_inits)):\n",
        "    model = copy.deepcopy(base_model)\n",
        "    random_update(model, noise_scale=2e-1)\n",
        "    loss_hist = np.zeros((max_steps, 2))\n",
        "    for step in range(max_steps):\n",
        "      loss = loss_fn(model(X), y)\n",
        "      gradient_update(loss, list(model.parameters()), lr=lr)\n",
        "      loss_hist[step] = np.array([step, loss.item()])\n",
        "\n",
        "    plt.plot(loss_hist[:, 0], loss_hist[:, 1])\n",
        "\n",
        "  plt.xlabel('Iteration')\n",
        "  plt.ylabel('Loss')\n",
        "  plt.ylim(0, 3)\n",
        "  plt.show()\n",
        "\n",
        "  num_params = sum([np.prod(_.shape) for _ in model.parameters()])\n",
        "  print('Number of parameters in model:  ' + str(num_params))"
      ]
    },
    {
      "cell_type": "markdown",
      "metadata": {
        "execution": {},
        "id": "YgfGCApBMdRJ"
      },
      "source": [
        "### Think! 5.1: Width and depth of the network\n",
        "\n",
        "- We see that as we increase the width/depth of the network, training becomes faster and more consistent across different initializations. What might be the reasons for this behavior? \n",
        "\n",
        "- What are some potential downsides of this approach to dealing with non-convexity? \n"
      ]
    },
    {
      "cell_type": "code",
      "execution_count": 33,
      "metadata": {
        "cellView": "form",
        "execution": {},
        "id": "-XUIoX6lMdRJ",
        "outputId": "41463171-95d2-4faf-9aeb-f4e4414065b8",
        "colab": {
          "base_uri": "https://localhost:8080/",
          "height": 93,
          "referenced_widgets": [
            "4cc9d413e3f544899be6706d8c689e42",
            "52cc314607d348e4a88e46af27035422",
            "033f1fb54a22450ba1da00cb2d71a776",
            "94af9112a41948959e4c9c1fed446695",
            "dfa0a6f8928444ca9b8a0c1468142cb7",
            "9db8dc27ed28482a9cb5430e4810abdd"
          ]
        }
      },
      "outputs": [
        {
          "output_type": "display_data",
          "data": {
            "text/plain": [
              "Textarea(value='Type your answer here and click on `Submit!`', placeholder='Type something')"
            ],
            "application/vnd.jupyter.widget-view+json": {
              "version_major": 2,
              "version_minor": 0,
              "model_id": "4cc9d413e3f544899be6706d8c689e42"
            }
          },
          "metadata": {}
        },
        {
          "output_type": "display_data",
          "data": {
            "text/plain": [
              "Button(description='Submit!', style=ButtonStyle())"
            ],
            "application/vnd.jupyter.widget-view+json": {
              "version_major": 2,
              "version_minor": 0,
              "model_id": "94af9112a41948959e4c9c1fed446695"
            }
          },
          "metadata": {}
        }
      ],
      "source": [
        "# @title Student Response\n",
        "from ipywidgets import widgets\n",
        "\n",
        "\n",
        "text=widgets.Textarea(\n",
        "   value='Type your answer here and click on `Submit!`',\n",
        "   placeholder='Type something',\n",
        "   description='',\n",
        "   disabled=False\n",
        ")\n",
        "\n",
        "button = widgets.Button(description=\"Submit!\")\n",
        "\n",
        "display(text,button)\n",
        "\n",
        "def on_button_clicked(b):\n",
        "   atform.add_answer('q3' , text.value)\n",
        "   print(\"Submission successful!\")"
      ]
    },
    {
      "cell_type": "markdown",
      "metadata": {
        "execution": {},
        "id": "ytI516MRMdRJ"
      },
      "source": [
        "[*Click for solution*](https://github.com/NeuromatchAcademy/course-content-dl/tree/main//tutorials/W1D5_Optimization/solutions/W1D5_Tutorial1_Solution_d69ca8d7.py)\n",
        "\n"
      ]
    },
    {
      "cell_type": "markdown",
      "metadata": {
        "execution": {},
        "id": "0IbDcp6XMdRJ"
      },
      "source": [
        "---\n",
        "# Section 6: Full gradients are expensive\n",
        "\n",
        "*Time estimate: ~25 mins*"
      ]
    },
    {
      "cell_type": "markdown",
      "metadata": {
        "execution": {},
        "id": "bGz-FDuoMdRJ"
      },
      "source": [
        "So far we have used only a small (fixed) subset of 500 training examples to perform the updates on the model parameters in our quest to minimize the loss. But what if we decided to use the training set? Do our current approach scale to datasets with tens of thousands, or millions of datapoints?\n",
        "\n",
        "In this section we explore an efficient alternative to avoid having to perform computations on all the training examples before performing a parameter update."
      ]
    },
    {
      "cell_type": "code",
      "execution_count": 34,
      "metadata": {
        "cellView": "form",
        "execution": {},
        "id": "vrkPefaOMdRJ",
        "outputId": "68e02af4-cae6-492a-90c2-a851ced2ac95",
        "colab": {
          "base_uri": "https://localhost:8080/",
          "height": 580,
          "referenced_widgets": [
            "83e4b34f18e6460987878e5174bb961f",
            "540be784ec794b47870fc2d5139632b1",
            "fd9efe8a078c489d9d2e257c92cf1dba",
            "61863ff4338d4cceaae0d5451a094972",
            "2f54deef7ab74a56babc65c76fe7abaf",
            "00e8871f6edd46768d71dcccb83c033b"
          ]
        }
      },
      "outputs": [
        {
          "output_type": "display_data",
          "data": {
            "text/plain": [
              "Tab(children=(Output(), Output()), _titles={'0': 'Youtube', '1': 'Bilibili'})"
            ],
            "application/vnd.jupyter.widget-view+json": {
              "version_major": 2,
              "version_minor": 0,
              "model_id": "83e4b34f18e6460987878e5174bb961f"
            }
          },
          "metadata": {}
        }
      ],
      "source": [
        "# @title Video 6: Mini-batches\n",
        "from ipywidgets import widgets\n",
        "\n",
        "out2 = widgets.Output()\n",
        "with out2:\n",
        "  from IPython.display import IFrame\n",
        "  class BiliVideo(IFrame):\n",
        "    def __init__(self, id, page=1, width=400, height=300, **kwargs):\n",
        "      self.id=id\n",
        "      src = \"https://player.bilibili.com/player.html?bvid={0}&page={1}\".format(id, page)\n",
        "      super(BiliVideo, self).__init__(src, width, height, **kwargs)\n",
        "\n",
        "  video = BiliVideo(id=f\"BV1ty4y1T7Uh\", width=854, height=480, fs=1)\n",
        "  print(\"Video available at https://www.bilibili.com/video/{0}\".format(video.id))\n",
        "  display(video)\n",
        "\n",
        "out1 = widgets.Output()\n",
        "with out1:\n",
        "  from IPython.display import YouTubeVideo\n",
        "  video = YouTubeVideo(id=f\"hbqUxpNBUGk\", width=854, height=480, fs=1, rel=0)\n",
        "  print(\"Video available at https://youtube.com/watch?v=\" + video.id)\n",
        "  display(video)\n",
        "\n",
        "out = widgets.Tab([out1, out2])\n",
        "out.set_title(0, 'Youtube')\n",
        "out.set_title(1, 'Bilibili')\n",
        "\n",
        "# add event to airtable\n",
        "atform.add_event(\"Video 6: Mini-batches\")\n",
        "\n",
        "display(out)"
      ]
    },
    {
      "cell_type": "markdown",
      "metadata": {
        "execution": {},
        "id": "imO6LHBSMdRJ"
      },
      "source": [
        "## Interactive Demo 6.1: Cost of computation\n",
        "\n",
        "Evaluating a neural network is a relatively fast process. However, when repeated millions of times, the computational cost of performing forward and backward passes through the network starts to become significant.\n",
        "\n",
        "In the visualization below, we show the time (averaged over 5 runs) of computing a forward and backward pass with a changing number of input examples. Choose from the different options in the drop-down box and note how the vertical scale changes depending on the size of the network. \n",
        "\n",
        "**Remarks:** Note that the computational cost of a forward pass shows a clear linear relationship with the number of input examples, and the cost of the corresponding backward pass exhibits a similar computational complexity."
      ]
    },
    {
      "cell_type": "code",
      "execution_count": 35,
      "metadata": {
        "cellView": "form",
        "execution": {},
        "id": "xmXqjyYSMdRK",
        "outputId": "cf9e5bc0-3605-4365-c12b-614349e37170",
        "colab": {
          "base_uri": "https://localhost:8080/",
          "height": 319,
          "referenced_widgets": [
            "0fbb9a9f7e7a4226bfd3a3b6a0438e58",
            "190e7500d1584278837d6f73af9ea67e",
            "31dc7ee64d854b0097e934772cb57a61",
            "7875d23830034ca1892557adb92d2116",
            "e564ea2f01f3450ab03ea654e4875021",
            "dce0e5cbb52a4204950cbb902511a64e",
            "5e85b94aa40e43b488fb762114389c0a"
          ]
        }
      },
      "outputs": [
        {
          "output_type": "display_data",
          "data": {
            "text/plain": [
              "interactive(children=(Dropdown(description='hidden_dims', index=1, options=('1', '100', '50, 50'), value='100'…"
            ],
            "application/vnd.jupyter.widget-view+json": {
              "version_major": 2,
              "version_minor": 0,
              "model_id": "0fbb9a9f7e7a4226bfd3a3b6a0438e58"
            }
          },
          "metadata": {}
        }
      ],
      "source": [
        "# @markdown Execute this cell to enable the widget!\n",
        "\n",
        "def gradient_update(loss, params, lr=1e-3):\n",
        "  \"\"\"\n",
        "  Perform a gradient descent update on a given loss over a collection of parameters\n",
        "\n",
        "  Args:\n",
        "    loss: Tensor\n",
        "      A scalar tensor containing the loss through which the gradient will be computed\n",
        "    params: List of iterables\n",
        "      Collection of parameters with respect to which we compute gradients\n",
        "    lr: Float\n",
        "      Scalar specifying the learning rate or step-size for the update\n",
        "\n",
        "  Returns:\n",
        "    Nothing\n",
        "  \"\"\"\n",
        "  # Clear up gradients as Pytorch automatically accumulates gradients from\n",
        "  # successive backward calls\n",
        "  zero_grad(params)\n",
        "\n",
        "  # Compute gradients on given objective\n",
        "  loss.backward()\n",
        "\n",
        "  with torch.no_grad():\n",
        "    for par in params:\n",
        "       par.data -= lr * par.grad.data\n",
        "\n",
        "\n",
        "def measure_update_time(model, num_points):\n",
        "  \"\"\"\n",
        "  Measuring the time for update\n",
        "\n",
        "  Args:\n",
        "    model: an nn.Module inherited model\n",
        "      Represents the ML/DL model\n",
        "    num_points: integer\n",
        "      The number of data points in the train_set\n",
        "\n",
        "  Returns:\n",
        "    tuple of loss time and time for calculation of gradient\n",
        "  \"\"\"\n",
        "  X, y = train_set.data[:num_points], train_set.targets[:num_points]\n",
        "  start_time = time.time()\n",
        "  loss = loss_fn(model(X), y)\n",
        "  loss_time = time.time()\n",
        "  gradient_update(loss, list(model.parameters()), lr=0)\n",
        "  gradient_time = time.time()\n",
        "  return loss_time - start_time, gradient_time - loss_time\n",
        "\n",
        "\n",
        "@widgets.interact\n",
        "def computation_time(hidden_dims=widgets.Dropdown(options=[\"1\", \"100\", \"50, 50\"],\n",
        "                                                  value=\"100\")):\n",
        "  \"\"\"\n",
        "  Demonstrating time taken for computation as a widget\n",
        "\n",
        "  Args:\n",
        "    hidden_dims: widgets dropdown\n",
        "      The number of hidden dimensions with default = 100\n",
        "\n",
        "  Returns:\n",
        "    Nothing\n",
        "  \"\"\"\n",
        "  hdims = [int(s) for s in hidden_dims.split(',')]\n",
        "  model = MLP(in_dim=784, out_dim=10, hidden_dims=hdims)\n",
        "\n",
        "  NUM_POINTS = [1, 5, 10, 100, 200, 500, 1000, 5000, 10000, 20000, 30000, 50000]\n",
        "  times_list = []\n",
        "  for _ in range(5):\n",
        "    times_list.append(np.array([measure_update_time(model, _) for _ in NUM_POINTS]))\n",
        "\n",
        "  times = np.array(times_list).mean(axis=0)\n",
        "\n",
        "  fig, axs = plt.subplots(1, 1, figsize=(5,4))\n",
        "  plt.plot(NUM_POINTS, times[:, 0], label='Forward')\n",
        "  plt.plot(NUM_POINTS, times[:, 1], label='Backward')\n",
        "  plt.xlabel('Number of data points')\n",
        "  plt.ylabel('Seconds')\n",
        "  plt.legend()"
      ]
    },
    {
      "cell_type": "markdown",
      "metadata": {
        "execution": {},
        "id": "-vdw_tanMdRK"
      },
      "source": [
        "## Coding Exercise 6: Implement minibatch sampling\n",
        "\n",
        "Complete the code in `sample_minibatch` so as to produce IID subsets of the training set of the desired size. (This is _not_ a trick question.) "
      ]
    },
    {
      "cell_type": "code",
      "execution_count": 36,
      "metadata": {
        "execution": {},
        "id": "cBDN8w2TMdRK",
        "outputId": "ba570049-0744-4ace-88dd-8d414afd25ca",
        "colab": {
          "base_uri": "https://localhost:8080/"
        }
      },
      "outputs": [
        {
          "output_type": "stream",
          "name": "stdout",
          "text": [
            "The input shape is torch.Size([100, 28, 28]) and the target shape is: torch.Size([100])\n"
          ]
        }
      ],
      "source": [
        "def sample_minibatch(input_data, target_data, num_points=100):\n",
        "  \"\"\"\n",
        "  Sample a minibatch of size num_point from the provided input-target data\n",
        "\n",
        "  Args:\n",
        "    input_data: Tensor\n",
        "      Multi-dimensional tensor containing the input data\n",
        "    target_data: Tensor\n",
        "      1D tensor containing the class labels\n",
        "    num_points: Integer\n",
        "      Number of elements to be included in minibatch with default=100\n",
        "\n",
        "  Returns:\n",
        "    batch_inputs: Tensor\n",
        "      Minibatch inputs\n",
        "    batch_targets: Tensor\n",
        "      Minibatch targets\n",
        "  \"\"\"\n",
        "  #################################################\n",
        "  ## TODO for students: sample minibatch of data ##\n",
        "  #raise NotImplementedError(\"Student exercise: implement gradient update\")\n",
        "  #################################################\n",
        "  # Sample a collection of IID indices from the existing data\n",
        "  batch_indices = np.random.choice(len(input_data), num_points)\n",
        "  # Use batch_indices to extract entries from the input and target data tensors\n",
        "  batch_inputs = input_data[batch_indices, :]\n",
        "  batch_targets = target_data[batch_indices]\n",
        "\n",
        "  return batch_inputs, batch_targets\n",
        "\n",
        "# add event to airtable\n",
        "atform.add_event('Coding Exercise 6: Implement minibatch sampling')\n",
        "\n",
        "\n",
        "## Uncomment to test your function\n",
        "x_batch, y_batch = sample_minibatch(X, y, num_points=100)\n",
        "print(f\"The input shape is {x_batch.shape} and the target shape is: {y_batch.shape}\")"
      ]
    },
    {
      "cell_type": "markdown",
      "metadata": {
        "execution": {},
        "id": "B4Rge1jCMdRK"
      },
      "source": [
        "```\n",
        "The input shape is torch.Size([100, 28, 28]) and the target shape is: torch.Size([100])\n",
        "```"
      ]
    },
    {
      "cell_type": "markdown",
      "metadata": {
        "execution": {},
        "id": "fY9AEmKJMdRK"
      },
      "source": [
        "[*Click for solution*](https://github.com/NeuromatchAcademy/course-content-dl/tree/main//tutorials/W1D5_Optimization/solutions/W1D5_Tutorial1_Solution_8335e575.py)\n",
        "\n"
      ]
    },
    {
      "cell_type": "markdown",
      "metadata": {
        "execution": {},
        "id": "UgSJTMyCMdRL"
      },
      "source": [
        "## Interactive Demo 6.2: *Compare* different minibatch sizes\n",
        "\n",
        "What are the trade-offs induced by the choice of minibatch size? The interactive plot below shows the training evolution of a 2-hidden layer MLP with 100 **hidden units** in each hidden layer. Different plots correspond to a different choice of minibatch size. We have a fixed time budget for all the cases, reflected in the horizontal axes of these plots."
      ]
    },
    {
      "cell_type": "code",
      "execution_count": 37,
      "metadata": {
        "cellView": "form",
        "execution": {},
        "id": "1v6JJEayMdRL",
        "outputId": "cb4fc1ad-2c16-469d-d16f-2408e1c4e3d1",
        "colab": {
          "base_uri": "https://localhost:8080/",
          "height": 145,
          "referenced_widgets": [
            "3cda1c8057ef4855a93b2c1f78ee2ccc",
            "cf459970ae854f3b8de7c4012047b60d",
            "60c4c42c7b6041cfb2115f6e04742714",
            "2c2d0dcfc00b47b8bac7b52fc9db5fcb",
            "cf9c481152214000bdf253da784881f1",
            "e82dd29e0e724dbf8aa18e07dea91193",
            "eca20060525a400c988ee1c3aa550473",
            "57d9c2e0ad2c45ada7dd4fa3cb5a1fb0",
            "6ad75925a82b4556a2c892924082fa9e",
            "7d6fd07c95354bcd939c31a3da7a9f89",
            "c68d46d3301d49b8944b922cd1bee4fb",
            "9237cafa255f4e719b613ce51282ca52",
            "6a13067a399447f1babff1464bba63a0",
            "d3d0b066a4634194abf26ca8906b9bbd",
            "1c3dd6387b9e430095369c0caa079566",
            "8323427c2c854c39aa9069492a10c3ca"
          ]
        }
      },
      "outputs": [
        {
          "output_type": "display_data",
          "data": {
            "text/plain": [
              "interactive(children=(Text(value='20, 250, 1000', description='batch_sizes'), Text(value='5e-3, 5e-3, 5e-3', d…"
            ],
            "application/vnd.jupyter.widget-view+json": {
              "version_major": 2,
              "version_minor": 0,
              "model_id": "3cda1c8057ef4855a93b2c1f78ee2ccc"
            }
          },
          "metadata": {}
        }
      ],
      "source": [
        "# @markdown Execute this cell to enable the widget!\n",
        "\n",
        "@widgets.interact_manual\n",
        "def minibatch_experiment(batch_sizes='20, 250, 1000',\n",
        "                         lrs='5e-3, 5e-3, 5e-3',\n",
        "                         time_budget=widgets.Dropdown(options=[\"2.5\", \"5\", \"10\"],\n",
        "                                                      value=\"2.5\")):\n",
        "  \"\"\"\n",
        "  Demonstration of minibatch experiment\n",
        "\n",
        "  Args:\n",
        "    batch_sizes: String\n",
        "      Size of minibatches\n",
        "    lrs: String\n",
        "      Different learning rates\n",
        "    time_budget: widget dropdown instance\n",
        "      Different time budgets with default=2.5s\n",
        "\n",
        "  Returns:\n",
        "    Nothing\n",
        "  \"\"\"\n",
        "  batch_sizes = [int(s) for s in batch_sizes.split(',')]\n",
        "  lrs = [float(s) for s in lrs.split(',')]\n",
        "\n",
        "  LOSS_HIST = {_:[] for _ in batch_sizes}\n",
        "\n",
        "  X, y = train_set.data, train_set.targets\n",
        "  base_model = MLP(in_dim=784, out_dim=10, hidden_dims=[100, 100])\n",
        "\n",
        "  for id, batch_size in enumerate(tqdm(batch_sizes)):\n",
        "    start_time = time.time()\n",
        "    # Create a new copy of the model for each batch size\n",
        "    model = copy.deepcopy(base_model)\n",
        "    params = list(model.parameters())\n",
        "    lr = lrs[id]\n",
        "    # Fixed budget per choice of batch size\n",
        "    while (time.time() - start_time) < float(time_budget):\n",
        "      data, labels = sample_minibatch(X, y, batch_size)\n",
        "      loss = loss_fn(model(data), labels)\n",
        "      gradient_update(loss, params, lr=lr)\n",
        "      LOSS_HIST[batch_size].append([time.time() - start_time,\n",
        "                                    loss.item()])\n",
        "\n",
        "  fig, axs = plt.subplots(1, len(batch_sizes), figsize=(10, 3))\n",
        "  for ax, batch_size in zip(axs, batch_sizes):\n",
        "    plot_data = np.array(LOSS_HIST[batch_size])\n",
        "    ax.plot(plot_data[:, 0], plot_data[:, 1], label=batch_size,\n",
        "            alpha=0.8)\n",
        "    ax.set_title('Batch size: ' + str(batch_size))\n",
        "    ax.set_xlabel('Seconds')\n",
        "    ax.set_ylabel('Loss')\n",
        "  plt.show()"
      ]
    },
    {
      "cell_type": "markdown",
      "metadata": {
        "execution": {},
        "id": "rw6GYiylMdRL"
      },
      "source": [
        "**Remarks:** SGD works! We have an algorithm that can be applied (with due precautions) to learn datasets of arbitrary size. \n",
        "\n",
        "However, **note the difference in the vertical scale** across the plots above. When using a larger minibatch, we can perform fewer parameter updates as the forward and backward passes are more expensive.\n",
        "\n",
        "**This highlights the interplay between the minibatch size and the learning rate: when our minibatch is larger, we have a more confident estimator of the direction to move, and thus can afford a larger learning rate. On the other hand, extremely small minibatches are very fast computationally but are not representative of the data distribution and yield estimations of the gradient with high variance.**\n",
        "\n",
        "We encourage you to tune the value of the learning rate for each of the minibatch sizes in the previous demo, to achieve a training loss steadily below 0.5 within 5 seconds."
      ]
    },
    {
      "cell_type": "markdown",
      "metadata": {
        "execution": {},
        "id": "k-sOoIsJMdRL"
      },
      "source": [
        "---\n",
        "# Section 7: Adaptive methods\n",
        "\n",
        "*Time estimate: ~25 mins*"
      ]
    },
    {
      "cell_type": "markdown",
      "metadata": {
        "execution": {},
        "id": "AePJpsPxMdRL"
      },
      "source": [
        "As of now, you should be aware that there are many knobs to turn when working on a machine learning problem. Some of these relate to the optimization algorithm, the choice of model, or the objective to minimize. Here are some prototypical examples:\n",
        "\n",
        "- Problem: loss function, regularization coefficients (Week 1, Day 5)\n",
        "- Model: architecture, activations function\n",
        "- Optimizer: learning rate, batch size, momentum coefficient\n",
        "\n",
        "We concentrate on the choices that are directly related to optimization. In particular, we will explore some _automatic_ methods for setting the learning rate in a way that fixes the poor-conditioning problem and is robust across different problems.\n"
      ]
    },
    {
      "cell_type": "code",
      "execution_count": 38,
      "metadata": {
        "cellView": "form",
        "execution": {},
        "id": "vAokqJyGMdRM",
        "outputId": "21b724c5-aac4-40d6-b5ff-e7bbc18e6821",
        "colab": {
          "base_uri": "https://localhost:8080/",
          "height": 580,
          "referenced_widgets": [
            "cfa4761e62fc483ba79be2660077a664",
            "a43f45e110bf4027bb69ca7a58452d45",
            "18451e3da4944b329f0d7b5f5dd14ee9",
            "5c47a6309f534ebcb3edf42f86054f8f",
            "a82d80fb50ae4c498bc741a9bd8a21f4",
            "4e2bf4e38c4c4b34b3c64d38c1d4b303"
          ]
        }
      },
      "outputs": [
        {
          "output_type": "display_data",
          "data": {
            "text/plain": [
              "Tab(children=(Output(), Output()), _titles={'0': 'Youtube', '1': 'Bilibili'})"
            ],
            "application/vnd.jupyter.widget-view+json": {
              "version_major": 2,
              "version_minor": 0,
              "model_id": "cfa4761e62fc483ba79be2660077a664"
            }
          },
          "metadata": {}
        }
      ],
      "source": [
        "# @title Video 7: Adaptive Methods\n",
        "from ipywidgets import widgets\n",
        "\n",
        "out2 = widgets.Output()\n",
        "with out2:\n",
        "  from IPython.display import IFrame\n",
        "  class BiliVideo(IFrame):\n",
        "    def __init__(self, id, page=1, width=400, height=300, **kwargs):\n",
        "      self.id=id\n",
        "      src = \"https://player.bilibili.com/player.html?bvid={0}&page={1}\".format(id, page)\n",
        "      super(BiliVideo, self).__init__(src, width, height, **kwargs)\n",
        "\n",
        "  video = BiliVideo(id=f\"BV1eq4y1W7JG\", width=854, height=480, fs=1)\n",
        "  print(\"Video available at https://www.bilibili.com/video/{0}\".format(video.id))\n",
        "  display(video)\n",
        "\n",
        "out1 = widgets.Output()\n",
        "with out1:\n",
        "  from IPython.display import YouTubeVideo\n",
        "  video = YouTubeVideo(id=f\"Zr6r2kfmQUM\", width=854, height=480, fs=1, rel=0)\n",
        "  print(\"Video available at https://youtube.com/watch?v=\" + video.id)\n",
        "  display(video)\n",
        "\n",
        "out = widgets.Tab([out1, out2])\n",
        "out.set_title(0, 'Youtube')\n",
        "out.set_title(1, 'Bilibili')\n",
        "\n",
        "# add event to airtable\n",
        "atform.add_event('Video 7: Adaptive Methods')\n",
        "\n",
        "display(out)"
      ]
    },
    {
      "cell_type": "markdown",
      "metadata": {
        "execution": {},
        "id": "O-lm_G-aMdRM"
      },
      "source": [
        "## Coding Exercise 7: Implement RMSprop\n",
        "\n",
        "In this exercise you will implement the update of the RMSprop optimizer:\n",
        "\n",
        "\\begin{align}\n",
        "v_{t} &= \\alpha v_{t-1} + (1 - \\alpha) \\nabla J(w_t)^2 \\\\ \\\\\n",
        "w_{t+1} &= w_t - \\eta \\frac{\\nabla J(w_t)}{\\sqrt{v_t + \\epsilon}}\n",
        "\\end{align}\n",
        "\n",
        "where the non-standard operations (the division of two vectors, squaring a vector, etc.) are to be interpreted as element-wise operations, i.e., the operation is applied to each (pair of) entry(ies) of the vector(s) considered as real number(s).\n",
        "\n",
        "Here, the $\\epsilon$ hyperparameter provides numerical stability to the algorithm by preventing the learning rate from becoming too big when $v_t$ is small. Typically, we set $\\epsilon$ to a small default value, like $10^{-8}$."
      ]
    },
    {
      "cell_type": "code",
      "execution_count": 39,
      "metadata": {
        "execution": {},
        "id": "ZrF8Q7W-MdRM",
        "outputId": "66e47c80-650b-4e0c-80f2-ca953fd1e537",
        "colab": {
          "base_uri": "https://localhost:8080/"
        }
      },
      "outputs": [
        {
          "output_type": "stream",
          "name": "stdout",
          "text": [
            "Random seed 2021 has been set.\n",
            "\n",
            " The model3 parameters before the update are: \n",
            "\n",
            "main.0.weight tensor([[-0.0264,  0.0010,  0.0173,  ...,  0.0297,  0.0278, -0.0221],\n",
            "        [-0.0040, -0.0295, -0.0086,  ..., -0.0070,  0.0254, -0.0233],\n",
            "        [ 0.0240, -0.0231,  0.0342,  ...,  0.0124,  0.0270, -0.0180],\n",
            "        ...,\n",
            "        [-0.0005,  0.0157,  0.0111,  ...,  0.0144, -0.0301, -0.0144],\n",
            "        [ 0.0181,  0.0303,  0.0255,  ..., -0.0110, -0.0175,  0.0205],\n",
            "        [ 0.0208, -0.0353, -0.0183,  ..., -0.0271,  0.0099,  0.0003]])\n",
            "main.0.bias tensor([-0.0290, -0.0033,  0.0100, -0.0320,  0.0022,  0.0221,  0.0307,  0.0243,\n",
            "         0.0159, -0.0064])\n",
            "\n",
            " The model3 parameters after the update are: \n",
            "\n",
            "main.0.weight tensor([[-0.0240,  0.0031,  0.0193,  ...,  0.0316,  0.0297, -0.0198],\n",
            "        [-0.0063, -0.0318, -0.0109,  ..., -0.0093,  0.0232, -0.0255],\n",
            "        [ 0.0218, -0.0253,  0.0320,  ...,  0.0102,  0.0248, -0.0203],\n",
            "        ...,\n",
            "        [-0.0027,  0.0136,  0.0089,  ...,  0.0123, -0.0324, -0.0166],\n",
            "        [ 0.0159,  0.0281,  0.0233,  ..., -0.0133, -0.0197,  0.0182],\n",
            "        [ 0.0186, -0.0376, -0.0205,  ..., -0.0293,  0.0077, -0.0019]])\n",
            "main.0.bias tensor([-0.0313, -0.0011,  0.0122, -0.0342,  0.0045,  0.0199,  0.0329,  0.0265,\n",
            "         0.0182, -0.0041])\n"
          ]
        }
      ],
      "source": [
        "def rmsprop_update(loss, params, grad_sq, lr=1e-3, alpha=0.8, epsilon=1e-8):\n",
        "  \"\"\"\n",
        "  Perform an RMSprop update on a collection of parameters\n",
        "\n",
        "  Args:\n",
        "    loss: Tensor\n",
        "      A scalar tensor containing the loss whose gradient will be computed\n",
        "    params: Iterable\n",
        "      Collection of parameters with respect to which we compute gradients\n",
        "    grad_sq: Iterable\n",
        "      Moving average of squared gradients\n",
        "    lr: Float\n",
        "      Scalar specifying the learning rate or step-size for the update\n",
        "    alpha: Float\n",
        "      Moving average parameter\n",
        "    epsilon: Float\n",
        "      quotient for numerical stability\n",
        "\n",
        "  Returns:\n",
        "    Nothing\n",
        "  \"\"\"\n",
        "  # Clear up gradients as Pytorch automatically accumulates gradients from\n",
        "  # successive backward calls\n",
        "  zero_grad(params)\n",
        "  # Compute gradients on given objective\n",
        "  loss.backward()\n",
        "\n",
        "  with torch.no_grad():\n",
        "    for (par, gsq) in zip(params, grad_sq):\n",
        "      #################################################\n",
        "      ## TODO for students: update the value of the parameter ##\n",
        "      # Use gsq.data and par.grad\n",
        "      #raise NotImplementedError(\"Student exercise: implement gradient update\")\n",
        "      #################################################\n",
        "      # Update estimate of gradient variance\n",
        "      gsq.data = alpha * gsq.data + (1-alpha) * par.grad ** 2\n",
        "      # Update parameters\n",
        "      par.data -=  lr * (par.grad / (gsq.data + epsilon) ** 0.5)\n",
        "\n",
        "\n",
        "\n",
        "# add event to airtable\n",
        "atform.add_event('Coding Exercise 7: Implement RMSprop')\n",
        "\n",
        "\n",
        "set_seed(seed=SEED)\n",
        "model3 = MLP(in_dim=784, out_dim=10, hidden_dims=[])\n",
        "print('\\n The model3 parameters before the update are: \\n')\n",
        "print_params(model3)\n",
        "loss = loss_fn(model3(X), y)\n",
        "# Initialize the moving average of squared gradients\n",
        "grad_sq = [1e-6*i for i in list(model3.parameters())]\n",
        "\n",
        "\n",
        "\n",
        "## Uncomment below to test your function\n",
        "rmsprop_update(loss, list(model3.parameters()), grad_sq=grad_sq, lr=1e-3)\n",
        "print('\\n The model3 parameters after the update are: \\n')\n",
        "print_params(model3)"
      ]
    },
    {
      "cell_type": "markdown",
      "metadata": {
        "execution": {},
        "id": "OX-B-HeNMdRM"
      },
      "source": [
        "```\n",
        " The model3 parameters after the update are: \n",
        "\n",
        "main.0.weight tensor([[-0.0240,  0.0031,  0.0193,  ...,  0.0316,  0.0297, -0.0198],\n",
        "        [-0.0063, -0.0318, -0.0109,  ..., -0.0093,  0.0232, -0.0255],\n",
        "        [ 0.0218, -0.0253,  0.0320,  ...,  0.0102,  0.0248, -0.0203],\n",
        "        ...,\n",
        "        [-0.0027,  0.0136,  0.0089,  ...,  0.0123, -0.0324, -0.0166],\n",
        "        [ 0.0159,  0.0281,  0.0233,  ..., -0.0133, -0.0197,  0.0182],\n",
        "        [ 0.0186, -0.0376, -0.0205,  ..., -0.0293,  0.0077, -0.0019]])\n",
        "main.0.bias tensor([-0.0313, -0.0011,  0.0122, -0.0342,  0.0045,  0.0199,  0.0329,  0.0265,\n",
        "         0.0182, -0.0041])\n",
        "```"
      ]
    },
    {
      "cell_type": "markdown",
      "metadata": {
        "execution": {},
        "id": "V8tqXTMqMdRM"
      },
      "source": [
        "[*Click for solution*](https://github.com/NeuromatchAcademy/course-content-dl/tree/main//tutorials/W1D5_Optimization/solutions/W1D5_Tutorial1_Solution_9d60a8af.py)\n",
        "\n"
      ]
    },
    {
      "cell_type": "markdown",
      "metadata": {
        "execution": {},
        "id": "aBTlIxNeMdRN"
      },
      "source": [
        "## Interactive Demo 7: Compare optimizers\n",
        "\n",
        "Below, we compare your implementations of **SGD**, **Momentum**, and **RMSprop**. If you have successfully coded all the exercises so far: congrats! \n",
        "\n",
        "You are now *in the know* of some of the most commonly used and powerful optimization tools for deep learning."
      ]
    },
    {
      "cell_type": "code",
      "execution_count": 40,
      "metadata": {
        "cellView": "form",
        "execution": {},
        "id": "X7d7VH79MdRN",
        "outputId": "cc84f284-5a8f-436c-c506-0a3924693f37",
        "colab": {
          "base_uri": "https://localhost:8080/",
          "height": 145,
          "referenced_widgets": [
            "f5cb73ac4513476c82363d6ef1d27d8d",
            "2cbb3d30770c40a0ac0a6f34d5107d06",
            "2b468f02d6034c309e89326390f08f0e",
            "cb494edc00904952b601f5fe5984a4bf",
            "763803f4192e46868413852c2aa36f09",
            "f3d99f707706405380406bce3ae2d444",
            "80eb546c5e21456ab30bb5c4f4f4c390",
            "cd06c5eac6b44b8394501d63aaef3b58",
            "acdbb1a6e8c046818f08eb520b07d1d1",
            "d2baacc692ea44a7899be5491fa1ff3a",
            "7f2462bdaa7746479d3196e7c0911e48",
            "6ee52a1f2ae948bbadd56364b1a5462e",
            "66ea3d9d1fa045da9e7f99397d5588e9",
            "87808a9df86e4afea3f4a70871c2fc8b",
            "4c73bde4bd264b33a8c101e71f2bf9cb",
            "a1cecc882280494ebbdf4328b1482b07"
          ]
        }
      },
      "outputs": [
        {
          "output_type": "display_data",
          "data": {
            "text/plain": [
              "interactive(children=(IntSlider(value=135, description='batch_size', max=250, min=25, step=5), FloatLogSlider(…"
            ],
            "application/vnd.jupyter.widget-view+json": {
              "version_major": 2,
              "version_minor": 0,
              "model_id": "f5cb73ac4513476c82363d6ef1d27d8d"
            }
          },
          "metadata": {}
        }
      ],
      "source": [
        "# @markdown Execute this cell to enable the widget!\n",
        "X, y = train_set.data, train_set.targets\n",
        "\n",
        "@widgets.interact_manual\n",
        "def compare_optimizers(\n",
        "    batch_size=(25, 250, 5),\n",
        "    lr=widgets.FloatLogSlider(value=2e-3, min=-5, max=0),\n",
        "    max_steps=(50, 500, 5)):\n",
        "  \"\"\"\n",
        "  Demonstration to compare optimisers - stochastic gradient descent, momentum, RMSprop\n",
        "\n",
        "  Args:\n",
        "    batch_size: Tuple\n",
        "      Size of minibatches\n",
        "    lr: Float log slider instance\n",
        "      Scalar specifying the learning rate or step-size for the update\n",
        "    max_steps: Tuple\n",
        "      Max number of step sizes for incrementing\n",
        "\n",
        "  Returns:\n",
        "    Nothing\n",
        "  \"\"\"\n",
        "  SGD_DICT = [gradient_update, 'SGD', 'black', '-', {'lr': lr}]\n",
        "  MOM_DICT = [momentum_update, 'Momentum', 'red', '--', {'lr': lr, 'beta': 0.9}]\n",
        "  RMS_DICT = [rmsprop_update, 'RMSprop', 'fuchsia', '-', {'lr': lr, 'alpha': 0.8}]\n",
        "\n",
        "  ALL_DICTS = [SGD_DICT, MOM_DICT, RMS_DICT]\n",
        "\n",
        "  base_model = MLP(in_dim=784, out_dim=10, hidden_dims=[100, 100])\n",
        "\n",
        "  LOSS_HIST = {}\n",
        "\n",
        "  for opt_dict in tqdm(ALL_DICTS):\n",
        "    update_fn, opt_name, color, lstyle, kwargs = opt_dict\n",
        "    LOSS_HIST[opt_name] = []\n",
        "\n",
        "    model = copy.deepcopy(base_model)\n",
        "    params = list(model.parameters())\n",
        "\n",
        "    if opt_name != 'SGD':\n",
        "      aux_tensors = [torch.zeros_like(_) for _ in params]\n",
        "\n",
        "    for step in range(max_steps):\n",
        "      data, labels = sample_minibatch(X, y, batch_size)\n",
        "      loss = loss_fn(model(data), labels)\n",
        "      if opt_name == 'SGD':\n",
        "        update_fn(loss, params, **kwargs)\n",
        "      else:\n",
        "        update_fn(loss, params, aux_tensors, **kwargs)\n",
        "      LOSS_HIST[opt_name].append(loss.item())\n",
        "\n",
        "  fig, axs = plt.subplots(1, len(ALL_DICTS), figsize=(9, 3))\n",
        "  for ax, optim_dict in zip(axs, ALL_DICTS):\n",
        "    opt_name = optim_dict[1]\n",
        "    ax.plot(range(max_steps), LOSS_HIST[opt_name], alpha=0.8)\n",
        "    ax.set_title(opt_name)\n",
        "    ax.set_xlabel('Iteration')\n",
        "    ax.set_ylabel('Loss')\n",
        "    ax.set_ylim(0, 2.5)\n",
        "  plt.show()"
      ]
    },
    {
      "cell_type": "markdown",
      "metadata": {
        "execution": {},
        "id": "xQkqODecMdRN"
      },
      "source": [
        "### **Discussion**\n",
        "\n",
        "Tune the three methods above - **SGD**, **Momentum**, and **RMSProp** - to make each excel and discuss your findings. How do the methods compare in terms of robustness to small changes of the hyperparameters? How easy was it to find a good hyperparameter configuration?"
      ]
    },
    {
      "cell_type": "markdown",
      "metadata": {
        "execution": {},
        "id": "NQoULleQMdRN"
      },
      "source": [
        "[*Click for solution*](https://github.com/NeuromatchAcademy/course-content-dl/tree/main//tutorials/W1D5_Optimization/solutions/W1D5_Tutorial1_Solution_adc539df.py)\n",
        "\n"
      ]
    },
    {
      "cell_type": "markdown",
      "metadata": {
        "execution": {},
        "id": "FbXDiFSlMdRN"
      },
      "source": [
        "**Remarks:** Note that RMSprop allows us to use a 'per-dimension' learning rate _without having to tune one learning rate for each dimension **ourselves**_. The method uses information collected about the variance of the gradients throughout training to **adapt** the step size for each of the parameters automatically. The savings in tuning efforts of RMSprop over SGD or 'plain' momentum are undisputed on this task. \n",
        "\n",
        "Moreover, adaptive optimization methods are currently a highly active research domain, with many related algorithms like Adam, AMSgrad, Adagrad being used in practical application and theoretically investigated."
      ]
    },
    {
      "cell_type": "markdown",
      "metadata": {
        "execution": {},
        "id": "jQ45LtaDMdRN"
      },
      "source": [
        "### Locality of Gradients\n",
        "\n",
        "As we've seen throughout this tutorial, poor conditioning can be a significant burden on convergence to an optimum while using gradient-based optimization. Of the methods we've seen to deal with this issue, notice how both momentum and adaptive learning rates incorporate past gradient values into their update schemes. Why do we use past values of our loss function's gradient while updating our current MLP weights?\n",
        "\n",
        "Recall from *W1D2* that the gradient of a function, $\\nabla f(w_t)$, is a **local** property and computes the direction of maximum change of $f(w_t)$ at the point $w_t$. However, when we train our MLP model we are hoping to find the **global** optimum for our training loss. By incorporating past values of our function's gradient into our optimization schemes, we use more information about the overall shape of our function than just a single gradient alone can provide."
      ]
    },
    {
      "cell_type": "markdown",
      "metadata": {
        "execution": {},
        "id": "YV6QODBKMdRN"
      },
      "source": [
        "## Think! 7: Loss function and optimization\n",
        "\n",
        "Can you think of other ways we can incorporate more information about our loss function into our optimization schemes?"
      ]
    },
    {
      "cell_type": "code",
      "execution_count": 41,
      "metadata": {
        "cellView": "form",
        "execution": {},
        "id": "Xi5WGX1dMdRN",
        "outputId": "decdc938-ea50-4850-8162-10bb98ef1a57",
        "colab": {
          "base_uri": "https://localhost:8080/",
          "height": 93,
          "referenced_widgets": [
            "3621de422f3045cdadb5c5518467d1e4",
            "08f4028c0a284076b35164e340f77738",
            "9385302feb86419288010a0b4783dac9",
            "a1acb3b63eba412e8728b5b0fd1859ec",
            "fda4085574a14ec3a5fe06d31ca997c6",
            "497d00b5e23f4c25909235744182f226"
          ]
        }
      },
      "outputs": [
        {
          "output_type": "display_data",
          "data": {
            "text/plain": [
              "Textarea(value='Type your answer here and click on `Submit!`', placeholder='Type something')"
            ],
            "application/vnd.jupyter.widget-view+json": {
              "version_major": 2,
              "version_minor": 0,
              "model_id": "3621de422f3045cdadb5c5518467d1e4"
            }
          },
          "metadata": {}
        },
        {
          "output_type": "display_data",
          "data": {
            "text/plain": [
              "Button(description='Submit!', style=ButtonStyle())"
            ],
            "application/vnd.jupyter.widget-view+json": {
              "version_major": 2,
              "version_minor": 0,
              "model_id": "a1acb3b63eba412e8728b5b0fd1859ec"
            }
          },
          "metadata": {}
        }
      ],
      "source": [
        "# @title Student Response\n",
        "from ipywidgets import widgets\n",
        "\n",
        "\n",
        "text=widgets.Textarea(\n",
        "   value='Type your answer here and click on `Submit!`',\n",
        "   placeholder='Type something',\n",
        "   description='',\n",
        "   disabled=False\n",
        ")\n",
        "\n",
        "button = widgets.Button(description=\"Submit!\")\n",
        "\n",
        "display(text,button)\n",
        "\n",
        "def on_button_clicked(b):\n",
        "   atform.add_answer('q4' , text.value)\n",
        "   print(\"Submission successful!\")"
      ]
    },
    {
      "cell_type": "markdown",
      "metadata": {
        "execution": {},
        "id": "Od4qqEKgMdRO"
      },
      "source": [
        "[*Click for solution*](https://github.com/NeuromatchAcademy/course-content-dl/tree/main//tutorials/W1D5_Optimization/solutions/W1D5_Tutorial1_Solution_c7070297.py)\n",
        "\n"
      ]
    },
    {
      "cell_type": "markdown",
      "metadata": {
        "execution": {},
        "id": "gXnTWReXMdRO"
      },
      "source": [
        "---\n",
        "# Section 8: Ethical concerns\n",
        "\n",
        "*Time estimate: ~15mins*"
      ]
    },
    {
      "cell_type": "code",
      "execution_count": 42,
      "metadata": {
        "cellView": "form",
        "execution": {},
        "id": "uORlaarZMdRO",
        "outputId": "0a6c0be1-6b10-40ba-fe65-76cf02382d6a",
        "colab": {
          "base_uri": "https://localhost:8080/",
          "height": 580,
          "referenced_widgets": [
            "6140e5a2558f477f972d4e04efed7fa3",
            "d9d54a4c0e5649059855910353bae24d",
            "8e1a2dd723824075a6cd601851b2ff37",
            "fc45548a310b4a8081fa2042e8f6014f",
            "0381c397ff8642b7bb8db773f58b52a9",
            "418255a0dfb442438a0e7da582971173"
          ]
        }
      },
      "outputs": [
        {
          "output_type": "display_data",
          "data": {
            "text/plain": [
              "Tab(children=(Output(), Output()), _titles={'0': 'Youtube', '1': 'Bilibili'})"
            ],
            "application/vnd.jupyter.widget-view+json": {
              "version_major": 2,
              "version_minor": 0,
              "model_id": "6140e5a2558f477f972d4e04efed7fa3"
            }
          },
          "metadata": {}
        }
      ],
      "source": [
        "# @title Video 8: Ethical concerns\n",
        "from ipywidgets import widgets\n",
        "\n",
        "out2 = widgets.Output()\n",
        "with out2:\n",
        "  from IPython.display import IFrame\n",
        "  class BiliVideo(IFrame):\n",
        "    def __init__(self, id, page=1, width=400, height=300, **kwargs):\n",
        "      self.id=id\n",
        "      src = \"https://player.bilibili.com/player.html?bvid={0}&page={1}\".format(id, page)\n",
        "      super(BiliVideo, self).__init__(src, width, height, **kwargs)\n",
        "\n",
        "  video = BiliVideo(id=f\"BV1TU4y1G7Je\", width=854, height=480, fs=1)\n",
        "  print(\"Video available at https://www.bilibili.com/video/{0}\".format(video.id))\n",
        "  display(video)\n",
        "\n",
        "out1 = widgets.Output()\n",
        "with out1:\n",
        "  from IPython.display import YouTubeVideo\n",
        "  video = YouTubeVideo(id=f\"0EthSI0cknI\", width=854, height=480, fs=1, rel=0)\n",
        "  print(\"Video available at https://youtube.com/watch?v=\" + video.id)\n",
        "  display(video)\n",
        "\n",
        "out = widgets.Tab([out1, out2])\n",
        "out.set_title(0, 'Youtube')\n",
        "out.set_title(1, 'Bilibili')\n",
        "\n",
        "# add event to airtable\n",
        "atform.add_event('Video 8: Ethical concerns')\n",
        "\n",
        "display(out)"
      ]
    },
    {
      "cell_type": "markdown",
      "metadata": {
        "execution": {},
        "id": "zOE5oU97MdRP"
      },
      "source": [
        "---\n",
        "# Summary\n",
        "\n",
        "* Optimization is necessary to create Deep Learning models that are guaranteed to converge \n",
        "* Stochastic Gradient Descent and Momentum are two commonly used optimization techniques\n",
        "* RMSProp is a way of adaptive hyperparameter tuning which utilises a per-dimension learning rate\n",
        "* Poor choice of optimization objectives can lead to unforeseen, undesirable consequences \n",
        "\n",
        "If you have time left, you can read the Bonus material, where we put it all together and we compare our model with a benchmark model."
      ]
    },
    {
      "cell_type": "code",
      "execution_count": 43,
      "metadata": {
        "cellView": "form",
        "execution": {},
        "id": "w0DTBnE3MdRP",
        "outputId": "c82d0807-8423-4b5b-9319-c78277ba83c6",
        "colab": {
          "base_uri": "https://localhost:8080/",
          "height": 158
        }
      },
      "outputs": [
        {
          "output_type": "execute_result",
          "data": {
            "text/plain": [
              "<IPython.core.display.HTML object>"
            ],
            "text/html": [
              "\n",
              " <div>\n",
              "   <a href= \"https://portal.neuromatchacademy.org/api/redirect/to/2c5bbb85-d91a-4f5a-99fa-cefc287653d7?data=eyJmb3JtX2lkIjogImFwcG43VmRQUnNlU29NWEVHIiwgInRhYmxlX25hbWUiOiAiVzFENV9UMSIsICJhbnN3ZXJzIjoge30sICJldmVudHMiOiBbeyJldmVudCI6ICJpbml0IiwgInRzIjogMTY1Nzk2MjY5Mi44MTY0OTIzfSwgeyJldmVudCI6ICJWaWRlbyAxOiBJbnRyb2R1Y3Rpb24iLCAidHMiOiAxNjU3OTYyNjk2LjgzODIyNzd9LCB7ImV2ZW50IjogIlZpZGVvIDI6IENhc2UgU3R1ZHkgLSBNTFAgQ2xhc3NpZmljYXRpb24iLCAidHMiOiAxNjU3OTYyNjk2Ljk2NDkwMjZ9LCB7ImV2ZW50IjogIlZpZGVvIDM6IE9wdGltaXphdGlvbiBvZiBhbiBPYmplY3RpdmUgRnVuY3Rpb24iLCAidHMiOiAxNjU3OTYyNzE3LjIyMzM5MTV9LCB7ImV2ZW50IjogIkNvZGluZyBFeGVyY2lzZSAzOiBJbXBsZW1lbnQgZ3JhZGllbnQgZGVzY2VudCIsICJ0cyI6IDE2NTc5NjI3MTcuMjk3NTI0NX0sIHsiZXZlbnQiOiAiVmlkZW8gNDogTW9tZW50dW0iLCAidHMiOiAxNjU3OTYyNzE5LjEyMDA0M30sIHsiZXZlbnQiOiAiQ29kaW5nIEV4ZXJjaXNlIDQ6IEltcGxlbWVudCBtb21lbnR1bSIsICJ0cyI6IDE2NTc5NjI3MTkuNDY5MjZ9LCB7ImV2ZW50IjogIlZpZGVvIDU6IE92ZXJwYXJhbWV0ZXJpemF0aW9uIiwgInRzIjogMTY1Nzk2MjcyNC45MzYwMDN9LCB7ImV2ZW50IjogIlZpZGVvIDY6IE1pbmktYmF0Y2hlcyIsICJ0cyI6IDE2NTc5NjI3MjUuMjU2NzM2NX0sIHsiZXZlbnQiOiAiQ29kaW5nIEV4ZXJjaXNlIDY6IEltcGxlbWVudCBtaW5pYmF0Y2ggc2FtcGxpbmciLCAidHMiOiAxNjU3OTYyNzI5Ljg2MjExMTN9LCB7ImV2ZW50IjogIlZpZGVvIDc6IEFkYXB0aXZlIE1ldGhvZHMiLCAidHMiOiAxNjU3OTYyNzMwLjEwNzU3NzN9LCB7ImV2ZW50IjogIkNvZGluZyBFeGVyY2lzZSA3OiBJbXBsZW1lbnQgUk1TcHJvcCIsICJ0cyI6IDE2NTc5NjI3MzAuMTQ5MjE5NX0sIHsiZXZlbnQiOiAiVmlkZW8gODogRXRoaWNhbCBjb25jZXJucyIsICJ0cyI6IDE2NTc5NjI3MzAuNDY2OTU4NX0sIHsiZXZlbnQiOiAidXJsIGdlbmVyYXRlZCIsICJ0cyI6IDE2NTc5NjI3MzAuNDgyMDc4OH1dfQ%3D%3D\" target=\"_blank\">\n",
              "   <img src=\"https://github.com/NeuromatchAcademy/course-content-dl/blob/main/tutorials/static/SurveyButton.png?raw=1\"\n",
              " alt=\"button link end of day Survey\" style=\"width:410px\"></a>\n",
              "   </div>"
            ]
          },
          "metadata": {},
          "execution_count": 43
        }
      ],
      "source": [
        "# @title Airtable Submission Link\n",
        "from IPython import display as IPydisplay\n",
        "IPydisplay.HTML(\n",
        "   f\"\"\"\n",
        " <div>\n",
        "   <a href= \"{atform.url()}\" target=\"_blank\">\n",
        "   <img src=\"https://github.com/NeuromatchAcademy/course-content-dl/blob/main/tutorials/static/SurveyButton.png?raw=1\"\n",
        " alt=\"button link end of day Survey\" style=\"width:410px\"></a>\n",
        "   </div>\"\"\" )"
      ]
    },
    {
      "cell_type": "markdown",
      "metadata": {
        "execution": {},
        "id": "odUOo1keMdRP"
      },
      "source": [
        "---\n",
        "# Bonus: Putting it all together\n",
        "\n",
        "*Time estimate: ~40 mins*"
      ]
    },
    {
      "cell_type": "markdown",
      "metadata": {
        "execution": {},
        "id": "n9AasRYbMdRP"
      },
      "source": [
        "We have progressively built a sophisticated optimization algorithm, which is able to deal with a non-convex, poor-conditioned problem concerning tens of thousands of training examples. Now we present _you_ with a small challenge: beat us! :P\n",
        "\n",
        "Your mission is to train an MLP model that can compete with a benchmark model which we have pre-trained for you. In this section you will be able to use the full Pytorch power: loading the data, defining the model, sampling minibatches as well as Pytorch's **optimizer implementations**. \n",
        "\n",
        "There is a big engineering component behind the design of optimizers and their implementation can sometimes become tricky. So unless you are directly doing research in optimization, it's recommended to use an implementation provided by a widely reviewed open-source library."
      ]
    },
    {
      "cell_type": "code",
      "execution_count": 44,
      "metadata": {
        "cellView": "form",
        "execution": {},
        "id": "icwnb4PcMdRP",
        "outputId": "c7d15d9f-ea54-4d8b-b396-558f6427a08a",
        "colab": {
          "base_uri": "https://localhost:8080/",
          "height": 580,
          "referenced_widgets": [
            "c025abb17ba2448b9cd03394ff68fdf1",
            "385904b43f1a4d32b95178a54fd54e36",
            "dc1890721e5346a9bf0c67865012815d",
            "3c9dc2ce93f34803b86e575f851dc330",
            "951a7ccc2a68476e8defe8286b9336d9",
            "e9badef246b84464bbbfe96475d72712"
          ]
        }
      },
      "outputs": [
        {
          "output_type": "display_data",
          "data": {
            "text/plain": [
              "Tab(children=(Output(), Output()), _titles={'0': 'Youtube', '1': 'Bilibili'})"
            ],
            "application/vnd.jupyter.widget-view+json": {
              "version_major": 2,
              "version_minor": 0,
              "model_id": "c025abb17ba2448b9cd03394ff68fdf1"
            }
          },
          "metadata": {}
        }
      ],
      "source": [
        "# @title Video 9: Putting it all together\n",
        "from ipywidgets import widgets\n",
        "\n",
        "out2 = widgets.Output()\n",
        "with out2:\n",
        "  from IPython.display import IFrame\n",
        "  class BiliVideo(IFrame):\n",
        "    def __init__(self, id, page=1, width=400, height=300, **kwargs):\n",
        "      self.id=id\n",
        "      src = \"https://player.bilibili.com/player.html?bvid={0}&page={1}\".format(id, page)\n",
        "      super(BiliVideo, self).__init__(src, width, height, **kwargs)\n",
        "\n",
        "  video = BiliVideo(id=f\"BV1MK4y1u7u2\", width=854, height=480, fs=1)\n",
        "  print(\"Video available at https://www.bilibili.com/video/{0}\".format(video.id))\n",
        "  display(video)\n",
        "\n",
        "out1 = widgets.Output()\n",
        "with out1:\n",
        "  from IPython.display import YouTubeVideo\n",
        "  video = YouTubeVideo(id=f\"DP9c13vLiOM\", width=854, height=480, fs=1, rel=0)\n",
        "  print(\"Video available at https://youtube.com/watch?v=\" + video.id)\n",
        "  display(video)\n",
        "\n",
        "out = widgets.Tab([out1, out2])\n",
        "out.set_title(0, 'Youtube')\n",
        "out.set_title(1, 'Bilibili')\n",
        "\n",
        "# add event to airtable\n",
        "atform.add_event('Video 9: Putting it all together')\n",
        "\n",
        "display(out)"
      ]
    },
    {
      "cell_type": "code",
      "execution_count": 45,
      "metadata": {
        "cellView": "form",
        "execution": {},
        "id": "nHUv5nHiMdRS",
        "outputId": "277b27f9-c882-4e1b-92c8-68c296f23381",
        "colab": {
          "base_uri": "https://localhost:8080/"
        }
      },
      "outputs": [
        {
          "output_type": "stream",
          "name": "stdout",
          "text": [
            "WARNING: For this notebook to perform best, if possible, in the menu under `Runtime` -> `Change runtime type.`  select `GPU` \n"
          ]
        }
      ],
      "source": [
        "# @title Download parameters of the benchmark model\n",
        "import requests\n",
        "\n",
        "fname = 'benchmark_model.pt'\n",
        "url = \"https://osf.io/sj4e8/download\"\n",
        "r = requests.get(url, allow_redirects=True)\n",
        "with open(fname, 'wb') as fh:\n",
        "  fh.write(r.content)\n",
        "\n",
        "# Load the benchmark model's parameters\n",
        "DEVICE = set_device()\n",
        "if DEVICE == \"cuda\":\n",
        "  benchmark_state_dict = torch.load(fname)\n",
        "else:\n",
        "  benchmark_state_dict = torch.load(fname, map_location=torch.device('cpu'))"
      ]
    },
    {
      "cell_type": "code",
      "execution_count": 46,
      "metadata": {
        "execution": {},
        "id": "avLebUfdMdRS"
      },
      "outputs": [],
      "source": [
        "# Create MLP object and update weights with those of saved model\n",
        "benchmark_model = MLP(in_dim=784, out_dim=10,\n",
        "                      hidden_dims=[200, 100, 50]).to(DEVICE)\n",
        "benchmark_model.load_state_dict(benchmark_state_dict)\n",
        "\n",
        "\n",
        "# Define helper function to evaluate models\n",
        "def eval_model(model, data_loader, num_batches=np.inf, device='cpu'):\n",
        "  \"\"\"\n",
        "  To evaluate a given model\n",
        "\n",
        "  Args:\n",
        "    model: nn.Module derived class\n",
        "      The model which is to be evaluated\n",
        "    data_loader: Iterable\n",
        "      A configured dataloading utility\n",
        "    num_batches: Integer\n",
        "      Size of minibatches\n",
        "    device: String\n",
        "      Sets the device. CUDA if available, CPU otherwise\n",
        "\n",
        "  Returns:\n",
        "    mean of log loss and mean of log accuracy\n",
        "  \"\"\"\n",
        "\n",
        "  loss_log, acc_log = [], []\n",
        "  model.to(device=device)\n",
        "\n",
        "  # We are just evaluating the model, no need to compute gradients\n",
        "  with torch.no_grad():\n",
        "    for batch_id, batch in enumerate(data_loader):\n",
        "      # If we only evaluate a number of batches, stop after we reach that number\n",
        "      if batch_id > num_batches:\n",
        "        break\n",
        "      # Extract minibatch data\n",
        "      data, labels = batch[0].to(device), batch[1].to(device)\n",
        "      # Evaluate model and loss on minibatch\n",
        "      preds = model(data)\n",
        "      loss_log.append(loss_fn(preds, labels).item())\n",
        "      acc_log.append(torch.mean(1. * (preds.argmax(dim=1) == labels)).item())\n",
        "\n",
        "  return np.mean(loss_log), np.mean(acc_log)"
      ]
    },
    {
      "cell_type": "markdown",
      "metadata": {
        "execution": {},
        "id": "DLfC90P0MdRS"
      },
      "source": [
        "We define an optimizer in the following steps:\n",
        "\n",
        "1. Load  the corresponding class that implements the parameter updates and other internal management activities, including:\n",
        "    - create auxiliary variables,\n",
        "    - update moving averages,\n",
        "    - adjust the learning rate.\n",
        "2. Pass the parameters of the Pytorch model that the optimizer has control over. Note that different optimizers can potentially control different parameter groups.\n",
        "3. Specify hyperparameters, including learning rate, momentum, moving average factors, etc.\n",
        "\n"
      ]
    },
    {
      "cell_type": "markdown",
      "metadata": {
        "execution": {},
        "id": "HazYyVTwMdRS"
      },
      "source": [
        "## Exercise Bonus: Train your own model\n",
        "\n",
        "Now, train the model with your preferred optimizer and find a good combination of hyperparameter settings."
      ]
    },
    {
      "cell_type": "code",
      "execution_count": 47,
      "metadata": {
        "execution": {},
        "id": "da8UKLE5MdRT"
      },
      "outputs": [],
      "source": [
        "#################################################\n",
        "## TODO for students: adjust training settings ##\n",
        "\n",
        "# The three parameters below are in your full control\n",
        "MAX_EPOCHS = 2  # select number of epochs to train\n",
        "LR = 1e-5  # choose the step size\n",
        "BATCH_SIZE = 64  # number of examples per minibatch\n",
        "\n",
        "# Define the model and associated optimizer -- you may change its architecture!\n",
        "my_model = MLP(in_dim=784, out_dim=10, hidden_dims=[200, 100, 50]).to(DEVICE)\n",
        "\n",
        "# You can take your pick from many different optimizers\n",
        "# Check the optimizer documentation and hyperparameter meaning before using!\n",
        "# More details on Pytorch optimizers: https://pytorch.org/docs/stable/optim.html\n",
        "# optimizer = torch.optim.SGD(my_model.parameters(), lr=LR, momentum=0.9)\n",
        "# optimizer = torch.optim.RMSprop(my_model.parameters(), lr=LR, alpha=0.99)\n",
        "# optimizer = torch.optim.Adagrad(my_model.parameters(), lr=LR)\n",
        "optimizer = torch.optim.Adam(my_model.parameters(), lr=LR)\n",
        "#################################################"
      ]
    },
    {
      "cell_type": "code",
      "execution_count": 48,
      "metadata": {
        "execution": {},
        "id": "ddW9jhDAMdRT",
        "outputId": "364a3a6e-24e7-4751-ed4c-e0e86e88f95c",
        "colab": {
          "base_uri": "https://localhost:8080/",
          "height": 281,
          "referenced_widgets": [
            "fa8abd813b5c431589c502020750ff14",
            "cd848c7c241d449ab3f21db75f11a203",
            "f2bcc82d9a5a40b1b6d8e5a2f614d8ab",
            "34655ae0762b4846a10fae20e959ba7b",
            "d0370e4e6ebc4f2a80f7fde33784bffd",
            "c30711602abd4522b101ecb13634572c",
            "4c16c5a627424648bfef8351af8a2f16",
            "a1c7bb1c40a149499996acd1d70db29e",
            "d96c94a361944684a235b57807e8b3cf",
            "ecefe34acf824d3084547d6d64e40005",
            "d2bba3b143654db38cc835b18a2c4aec"
          ]
        }
      },
      "outputs": [
        {
          "output_type": "stream",
          "name": "stdout",
          "text": [
            "Random seed 2021 has been set.\n"
          ]
        },
        {
          "output_type": "display_data",
          "data": {
            "text/plain": [
              "  0%|          | 0/2 [00:00<?, ?it/s]"
            ],
            "application/vnd.jupyter.widget-view+json": {
              "version_major": 2,
              "version_minor": 0,
              "model_id": "fa8abd813b5c431589c502020750ff14"
            }
          },
          "metadata": {}
        },
        {
          "output_type": "stream",
          "name": "stdout",
          "text": [
            "[VALID] Epoch 1 - Batch 200 - Loss: 2.235 - Acc: 38.193%\n",
            "[TRAIN] Epoch 1 - Batch 200 - Loss: 2.274 - Acc: 30.930%\n",
            "[VALID] Epoch 1 - Batch 400 - Loss: 2.068 - Acc: 52.979%\n",
            "[TRAIN] Epoch 1 - Batch 400 - Loss: 2.166 - Acc: 44.289%\n",
            "[VALID] Epoch 1 - Batch 600 - Loss: 1.789 - Acc: 56.807%\n",
            "[TRAIN] Epoch 1 - Batch 600 - Loss: 1.935 - Acc: 55.352%\n",
            "[VALID] Epoch 2 - Batch 200 - Loss: 1.266 - Acc: 70.420%\n",
            "[TRAIN] Epoch 2 - Batch 200 - Loss: 1.381 - Acc: 66.203%\n",
            "[VALID] Epoch 2 - Batch 400 - Loss: 1.066 - Acc: 77.568%\n",
            "[TRAIN] Epoch 2 - Batch 400 - Loss: 1.166 - Acc: 74.414%\n",
            "[VALID] Epoch 2 - Batch 600 - Loss: 0.930 - Acc: 80.361%\n",
            "[TRAIN] Epoch 2 - Batch 600 - Loss: 0.989 - Acc: 79.312%\n"
          ]
        }
      ],
      "source": [
        "set_seed(seed=SEED)\n",
        "# Print training stats every LOG_FREQ minibatches\n",
        "LOG_FREQ = 200\n",
        "# Frequency for evaluating the validation metrics\n",
        "VAL_FREQ = 200\n",
        "# Load data using a Pytorch Dataset\n",
        "train_set_orig, test_set_orig = load_mnist_data(change_tensors=False)\n",
        "\n",
        "# We separate 10,000 training samples to create a validation set\n",
        "train_set_orig, val_set_orig = torch.utils.data.random_split(train_set_orig, [50000, 10000])\n",
        "\n",
        "# Create the corresponding DataLoaders for training and test\n",
        "g_seed = torch.Generator()\n",
        "g_seed.manual_seed(SEED)\n",
        "\n",
        "train_loader = torch.utils.data.DataLoader(train_set_orig,\n",
        "                                           shuffle=True,\n",
        "                                           batch_size=BATCH_SIZE,\n",
        "                                           num_workers=2,\n",
        "                                           worker_init_fn=seed_worker,\n",
        "                                           generator=g_seed)\n",
        "val_loader = torch.utils.data.DataLoader(val_set_orig,\n",
        "                                         shuffle=True,\n",
        "                                         batch_size=256,\n",
        "                                         num_workers=2,\n",
        "                                         worker_init_fn=seed_worker,\n",
        "                                         generator=g_seed)\n",
        "test_loader = torch.utils.data.DataLoader(test_set_orig,\n",
        "                                          batch_size=256,\n",
        "                                          num_workers=2,\n",
        "                                          worker_init_fn=seed_worker,\n",
        "                                          generator=g_seed)\n",
        "\n",
        "# Run training\n",
        "metrics = {'train_loss':[],\n",
        "           'train_acc':[],\n",
        "           'val_loss':[],\n",
        "           'val_acc':[],\n",
        "           'val_idx':[]}\n",
        "\n",
        "step_idx = 0\n",
        "for epoch in tqdm(range(MAX_EPOCHS)):\n",
        "\n",
        "  running_loss, running_acc = 0., 0.\n",
        "\n",
        "  for batch_id, batch in enumerate(train_loader):\n",
        "    step_idx += 1\n",
        "    # Extract minibatch data and labels\n",
        "    data, labels = batch[0].to(DEVICE), batch[1].to(DEVICE)\n",
        "    # Just like before, refresh gradient accumulators.\n",
        "    # Note that this is now a method of the optimizer.\n",
        "    optimizer.zero_grad()\n",
        "    # Evaluate model and loss on minibatch\n",
        "    preds = my_model(data)\n",
        "    loss = loss_fn(preds, labels)\n",
        "    acc = torch.mean(1.0 * (preds.argmax(dim=1) == labels))\n",
        "    # Compute gradients\n",
        "    loss.backward()\n",
        "    # Update parameters\n",
        "    # Note how all the magic in the update of the parameters is encapsulated by\n",
        "    # the optimizer class.\n",
        "    optimizer.step()\n",
        "    # Log metrics for plotting\n",
        "    metrics['train_loss'].append(loss.cpu().item())\n",
        "    metrics['train_acc'].append(acc.cpu().item())\n",
        "\n",
        "    if batch_id % VAL_FREQ == (VAL_FREQ - 1):\n",
        "      # Get an estimate of the validation accuracy with 100 batches\n",
        "      val_loss, val_acc = eval_model(my_model, val_loader,\n",
        "                                     num_batches=100,\n",
        "                                     device=DEVICE)\n",
        "      metrics['val_idx'].append(step_idx)\n",
        "      metrics['val_loss'].append(val_loss)\n",
        "      metrics['val_acc'].append(val_acc)\n",
        "\n",
        "      print(f\"[VALID] Epoch {epoch + 1} - Batch {batch_id + 1} - \"\n",
        "            f\"Loss: {val_loss:.3f} - Acc: {100*val_acc:.3f}%\")\n",
        "\n",
        "    # print statistics\n",
        "    running_loss += loss.cpu().item()\n",
        "    running_acc += acc.cpu().item()\n",
        "    # Print every LOG_FREQ minibatches\n",
        "    if batch_id % LOG_FREQ == (LOG_FREQ-1):\n",
        "      print(f\"[TRAIN] Epoch {epoch + 1} - Batch {batch_id + 1} - \"\n",
        "            f\"Loss: {running_loss / LOG_FREQ:.3f} - \"\n",
        "            f\"Acc: {100 * running_acc / LOG_FREQ:.3f}%\")\n",
        "\n",
        "      running_loss, running_acc = 0., 0."
      ]
    },
    {
      "cell_type": "code",
      "execution_count": 49,
      "metadata": {
        "execution": {},
        "id": "PUkc4zy4MdRT",
        "outputId": "f1b268ca-d5a0-4b29-f19d-b6e4768e5057",
        "colab": {
          "base_uri": "https://localhost:8080/",
          "height": 286
        }
      },
      "outputs": [
        {
          "output_type": "display_data",
          "data": {
            "text/plain": [
              "<Figure size 720x288 with 2 Axes>"
            ],
            "image/png": "[encoded data removed]"
          },
          "metadata": {
            "image/png": {
              "width": 701,
              "height": 269
            },
            "needs_background": "light"
          }
        }
      ],
      "source": [
        "fig, ax = plt.subplots(1, 2, figsize=(10, 4))\n",
        "\n",
        "ax[0].plot(range(len(metrics['train_loss'])), metrics['train_loss'],\n",
        "           alpha=0.8, label='Train')\n",
        "ax[0].plot(metrics['val_idx'], metrics['val_loss'], label='Valid')\n",
        "ax[0].set_xlabel('Iteration')\n",
        "ax[0].set_ylabel('Loss')\n",
        "ax[0].legend()\n",
        "\n",
        "ax[1].plot(range(len(metrics['train_acc'])), metrics['train_acc'],\n",
        "           alpha=0.8, label='Train')\n",
        "ax[1].plot(metrics['val_idx'], metrics['val_acc'], label='Valid')\n",
        "ax[1].set_xlabel('Iteration')\n",
        "ax[1].set_ylabel('Accuracy')\n",
        "ax[1].legend()\n",
        "plt.tight_layout()\n",
        "plt.show()"
      ]
    },
    {
      "cell_type": "markdown",
      "metadata": {
        "execution": {},
        "id": "92gGUXjLMdRU"
      },
      "source": [
        "## Think! Bonus: Metrics\n",
        "\n",
        "Which metric did you optimize when searching for the right configuration? The training set loss? Accuracy? Validation/test set metrics? Why? Discuss!"
      ]
    },
    {
      "cell_type": "markdown",
      "metadata": {
        "execution": {},
        "id": "RCaZfPC0MdRU"
      },
      "source": [
        "[*Click for solution*](https://github.com/NeuromatchAcademy/course-content-dl/tree/main//tutorials/W1D5_Optimization/solutions/W1D5_Tutorial1_Solution_093a66ad.py)\n",
        "\n"
      ]
    },
    {
      "cell_type": "markdown",
      "metadata": {
        "execution": {},
        "id": "SfncqPiWMdRV"
      },
      "source": [
        "### Evaluation\n",
        "\n",
        "We _finally_ can evaluate and compare the performance of the models on previously unseen examples. \n",
        "\n",
        "Which model would you keep? (\\*drum roll*)    "
      ]
    },
    {
      "cell_type": "code",
      "execution_count": 50,
      "metadata": {
        "execution": {},
        "id": "6h0p8MLcMdRW",
        "outputId": "29ae31f6-f208-4fa8-d2f3-8211c77e1fdb",
        "colab": {
          "base_uri": "https://localhost:8080/"
        }
      },
      "outputs": [
        {
          "output_type": "stream",
          "name": "stdout",
          "text": [
            "Your model...\n",
            "Train Loss 0.826 / Test Loss 0.810\n",
            "Train Accuracy 82.171% / Test Accuracy 83.252%\n",
            "\n",
            "Benchmark model\n",
            "Train Loss 0.011 / Test Loss 0.025\n",
            "Train Accuracy 99.784% / Test Accuracy 99.316%\n"
          ]
        }
      ],
      "source": [
        "print('Your model...')\n",
        "train_loss, train_accuracy = eval_model(my_model, train_loader, device=DEVICE)\n",
        "test_loss, test_accuracy = eval_model(my_model, test_loader, device=DEVICE)\n",
        "print(f'Train Loss {train_loss:.3f} / Test Loss {test_loss:.3f}')\n",
        "print(f'Train Accuracy {100*train_accuracy:.3f}% / Test Accuracy {100*test_accuracy:.3f}%')\n",
        "\n",
        "print('\\nBenchmark model')\n",
        "train_loss, train_accuracy = eval_model(benchmark_model, train_loader, device=DEVICE)\n",
        "test_loss, test_accuracy = eval_model(benchmark_model, test_loader, device=DEVICE)\n",
        "print(f'Train Loss {train_loss:.3f} / Test Loss {test_loss:.3f}')\n",
        "print(f'Train Accuracy {100*train_accuracy:.3f}% / Test Accuracy {100*test_accuracy:.3f}%')"
      ]
    }
  ],
  "metadata": {
    "accelerator": "GPU",
    "colab": {
      "collapsed_sections": [],
      "name": "W1D5_Tutorial1",
      "provenance": [],
      "toc_visible": true,
      "include_colab_link": true
    },
    "kernel": {
      "display_name": "Python 3",
      "language": "python",
      "name": "python3"
    },
    "kernelspec": {
      "display_name": "Python 3",
      "language": "python",
      "name": "python3"
    },
    "language_info": {
      "codemirror_mode": {
        "name": "ipython",
        "version": 3
      },
      "file_extension": ".py",
      "mimetype": "text/x-python",
      "name": "python",
      "nbconvert_exporter": "python",
      "pygments_lexer": "ipython3",
      "version": "3.7.11"
    },
    "toc-autonumbering": true,
    "varInspector": {
      "cols": {
        "lenName": 16,
        "lenType": 16,
        "lenVar": 40
      },
      "kernels_config": {
        "python": {
          "delete_cmd_postfix": "",
          "delete_cmd_prefix": "del ",
          "library": "var_list.py",
          "varRefreshCmd": "print(var_dic_list())"
        },
        "r": {
          "delete_cmd_postfix": ") ",
          "delete_cmd_prefix": "rm(",
          "library": "var_list.r",
          "varRefreshCmd": "cat(var_dic_list()) "
        }
      },
      "types_to_exclude": [
        "module",
        "function",
        "builtin_function_or_method",
        "instance",
        "_Feature"
      ],
      "window_display": false
    },
    "widgets": {
      "application/vnd.jupyter.widget-state+json": {
        "44b82a542b4f4cbfb2810ed6a0c9bd51": {
          "model_module": "@jupyter-widgets/controls",
          "model_name": "TabModel",
          "model_module_version": "1.5.0",
          "state": {
            "_dom_classes": [],
            "_model_module": "@jupyter-widgets/controls",
            "_model_module_version": "1.5.0",
            "_model_name": "TabModel",
            "_titles": {
              "0": "Youtube",
              "1": "Bilibili"
            },
            "_view_count": null,
            "_view_module": "@jupyter-widgets/controls",
            "_view_module_version": "1.5.0",
            "_view_name": "TabView",
            "box_style": "",
            "children": [
              "IPY_MODEL_207d0b6336354a11998bf1ef31f2e18d",
              "IPY_MODEL_58325495ce01452283485a07c87fdd39"
            ],
            "layout": "IPY_MODEL_b52bcebc475b4993adf82e22a6f61aca",
            "selected_index": 0
          }
        },
        "207d0b6336354a11998bf1ef31f2e18d": {
          "model_module": "@jupyter-widgets/output",
          "model_name": "OutputModel",
          "model_module_version": "1.0.0",
          "state": {
            "_dom_classes": [],
            "_model_module": "@jupyter-widgets/output",
            "_model_module_version": "1.0.0",
            "_model_name": "OutputModel",
            "_view_count": null,
            "_view_module": "@jupyter-widgets/output",
            "_view_module_version": "1.0.0",
            "_view_name": "OutputView",
            "layout": "IPY_MODEL_3c9f7c5147d94d639208c0b3f94a57be",
            "msg_id": "",
            "outputs": [
              {
                "output_type": "stream",
                "name": "stdout",
                "text": [
                  "Video available at https://youtube.com/watch?v=zm9oekdkJbQ\n"
                ]
              },
              {
                "output_type": "display_data",
                "data": {
                  "text/plain": "<IPython.lib.display.YouTubeVideo at 0x7fc241dbe810>",
                  "text/html": "\n        <iframe\n            width=\"854\"\n            height=\"480\"\n            src=\"https://www.youtube.com/embed/zm9oekdkJbQ?fs=1&rel=0\"\n            frameborder=\"0\"\n            allowfullscreen\n        ></iframe>\n        ",
                  "image/jpeg": "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\n"
                },
                "metadata": {}
              }
            ]
          }
        },
        "58325495ce01452283485a07c87fdd39": {
          "model_module": "@jupyter-widgets/output",
          "model_name": "OutputModel",
          "model_module_version": "1.0.0",
          "state": {
            "_dom_classes": [],
            "_model_module": "@jupyter-widgets/output",
            "_model_module_version": "1.0.0",
            "_model_name": "OutputModel",
            "_view_count": null,
            "_view_module": "@jupyter-widgets/output",
            "_view_module_version": "1.0.0",
            "_view_name": "OutputView",
            "layout": "IPY_MODEL_5383dcbe4839411d81a13ed438bdc9a7",
            "msg_id": "",
            "outputs": [
              {
                "output_type": "stream",
                "name": "stdout",
                "text": [
                  "Video available at https://www.bilibili.com/video/BV1VB4y1K7Vr\n"
                ]
              },
              {
                "output_type": "display_data",
                "data": {
                  "text/plain": "<__main__.BiliVideo at 0x7fc24419f250>",
                  "text/html": "\n        <iframe\n            width=\"854\"\n            height=\"480\"\n            src=\"https://player.bilibili.com/player.html?bvid=BV1VB4y1K7Vr&page=1?fs=1\"\n            frameborder=\"0\"\n            allowfullscreen\n        ></iframe>\n        "
                },
                "metadata": {}
              }
            ]
          }
        },
        "b52bcebc475b4993adf82e22a6f61aca": {
          "model_module": "@jupyter-widgets/base",
          "model_name": "LayoutModel",
          "model_module_version": "1.2.0",
          "state": {
            "_model_module": "@jupyter-widgets/base",
            "_model_module_version": "1.2.0",
            "_model_name": "LayoutModel",
            "_view_count": null,
            "_view_module": "@jupyter-widgets/base",
            "_view_module_version": "1.2.0",
            "_view_name": "LayoutView",
            "align_content": null,
            "align_items": null,
            "align_self": null,
            "border": null,
            "bottom": null,
            "display": null,
            "flex": null,
            "flex_flow": null,
            "grid_area": null,
            "grid_auto_columns": null,
            "grid_auto_flow": null,
            "grid_auto_rows": null,
            "grid_column": null,
            "grid_gap": null,
            "grid_row": null,
            "grid_template_areas": null,
            "grid_template_columns": null,
            "grid_template_rows": null,
            "height": null,
            "justify_content": null,
            "justify_items": null,
            "left": null,
            "margin": null,
            "max_height": null,
            "max_width": null,
            "min_height": null,
            "min_width": null,
            "object_fit": null,
            "object_position": null,
            "order": null,
            "overflow": null,
            "overflow_x": null,
            "overflow_y": null,
            "padding": null,
            "right": null,
            "top": null,
            "visibility": null,
            "width": null
          }
        },
        "3c9f7c5147d94d639208c0b3f94a57be": {
          "model_module": "@jupyter-widgets/base",
          "model_name": "LayoutModel",
          "model_module_version": "1.2.0",
          "state": {
            "_model_module": "@jupyter-widgets/base",
            "_model_module_version": "1.2.0",
            "_model_name": "LayoutModel",
            "_view_count": null,
            "_view_module": "@jupyter-widgets/base",
            "_view_module_version": "1.2.0",
            "_view_name": "LayoutView",
            "align_content": null,
            "align_items": null,
            "align_self": null,
            "border": null,
            "bottom": null,
            "display": null,
            "flex": null,
            "flex_flow": null,
            "grid_area": null,
            "grid_auto_columns": null,
            "grid_auto_flow": null,
            "grid_auto_rows": null,
            "grid_column": null,
            "grid_gap": null,
            "grid_row": null,
            "grid_template_areas": null,
            "grid_template_columns": null,
            "grid_template_rows": null,
            "height": null,
            "justify_content": null,
            "justify_items": null,
            "left": null,
            "margin": null,
            "max_height": null,
            "max_width": null,
            "min_height": null,
            "min_width": null,
            "object_fit": null,
            "object_position": null,
            "order": null,
            "overflow": null,
            "overflow_x": null,
            "overflow_y": null,
            "padding": null,
            "right": null,
            "top": null,
            "visibility": null,
            "width": null
          }
        },
        "5383dcbe4839411d81a13ed438bdc9a7": {
          "model_module": "@jupyter-widgets/base",
          "model_name": "LayoutModel",
          "model_module_version": "1.2.0",
          "state": {
            "_model_module": "@jupyter-widgets/base",
            "_model_module_version": "1.2.0",
            "_model_name": "LayoutModel",
            "_view_count": null,
            "_view_module": "@jupyter-widgets/base",
            "_view_module_version": "1.2.0",
            "_view_name": "LayoutView",
            "align_content": null,
            "align_items": null,
            "align_self": null,
            "border": null,
            "bottom": null,
            "display": null,
            "flex": null,
            "flex_flow": null,
            "grid_area": null,
            "grid_auto_columns": null,
            "grid_auto_flow": null,
            "grid_auto_rows": null,
            "grid_column": null,
            "grid_gap": null,
            "grid_row": null,
            "grid_template_areas": null,
            "grid_template_columns": null,
            "grid_template_rows": null,
            "height": null,
            "justify_content": null,
            "justify_items": null,
            "left": null,
            "margin": null,
            "max_height": null,
            "max_width": null,
            "min_height": null,
            "min_width": null,
            "object_fit": null,
            "object_position": null,
            "order": null,
            "overflow": null,
            "overflow_x": null,
            "overflow_y": null,
            "padding": null,
            "right": null,
            "top": null,
            "visibility": null,
            "width": null
          }
        },
        "5231cf72e78540109c4e58f76189e364": {
          "model_module": "@jupyter-widgets/controls",
          "model_name": "TabModel",
          "model_module_version": "1.5.0",
          "state": {
            "_dom_classes": [],
            "_model_module": "@jupyter-widgets/controls",
            "_model_module_version": "1.5.0",
            "_model_name": "TabModel",
            "_titles": {
              "0": "Youtube",
              "1": "Bilibili"
            },
            "_view_count": null,
            "_view_module": "@jupyter-widgets/controls",
            "_view_module_version": "1.5.0",
            "_view_name": "TabView",
            "box_style": "",
            "children": [
              "IPY_MODEL_0d3ec443d1544451a846ed1e0d328ead",
              "IPY_MODEL_00cef9ac5dd5412db87f3aef6ea7683f"
            ],
            "layout": "IPY_MODEL_fc16d3273edb44ad988280e7af38d4e6",
            "selected_index": 0
          }
        },
        "0d3ec443d1544451a846ed1e0d328ead": {
          "model_module": "@jupyter-widgets/output",
          "model_name": "OutputModel",
          "model_module_version": "1.0.0",
          "state": {
            "_dom_classes": [],
            "_model_module": "@jupyter-widgets/output",
            "_model_module_version": "1.0.0",
            "_model_name": "OutputModel",
            "_view_count": null,
            "_view_module": "@jupyter-widgets/output",
            "_view_module_version": "1.0.0",
            "_view_name": "OutputView",
            "layout": "IPY_MODEL_7d41f61da2f74d0089f4daeb8504bb46",
            "msg_id": "",
            "outputs": [
              {
                "output_type": "stream",
                "name": "stdout",
                "text": [
                  "Video available at https://youtube.com/watch?v=pJc2ENhYbqA\n"
                ]
              },
              {
                "output_type": "display_data",
                "data": {
                  "text/plain": "<IPython.lib.display.YouTubeVideo at 0x7fc241917490>",
                  "text/html": "\n        <iframe\n            width=\"854\"\n            height=\"480\"\n            src=\"https://www.youtube.com/embed/pJc2ENhYbqA?fs=1&rel=0\"\n            frameborder=\"0\"\n            allowfullscreen\n        ></iframe>\n        ",
                  "image/jpeg": "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\n"
                },
                "metadata": {}
              }
            ]
          }
        },
        "00cef9ac5dd5412db87f3aef6ea7683f": {
          "model_module": "@jupyter-widgets/output",
          "model_name": "OutputModel",
          "model_module_version": "1.0.0",
          "state": {
            "_dom_classes": [],
            "_model_module": "@jupyter-widgets/output",
            "_model_module_version": "1.0.0",
            "_model_name": "OutputModel",
            "_view_count": null,
            "_view_module": "@jupyter-widgets/output",
            "_view_module_version": "1.0.0",
            "_view_name": "OutputView",
            "layout": "IPY_MODEL_cd1ef0cf32ea4dfd972e5952813b7a7c",
            "msg_id": "",
            "outputs": [
              {
                "output_type": "stream",
                "name": "stdout",
                "text": [
                  "Video available at https://www.bilibili.com/video/BV1GB4y1K7Ha\n"
                ]
              },
              {
                "output_type": "display_data",
                "data": {
                  "text/plain": "<__main__.BiliVideo at 0x7fc241926ad0>",
                  "text/html": "\n        <iframe\n            width=\"854\"\n            height=\"480\"\n            src=\"https://player.bilibili.com/player.html?bvid=BV1GB4y1K7Ha&page=1?fs=1\"\n            frameborder=\"0\"\n            allowfullscreen\n        ></iframe>\n        "
                },
                "metadata": {}
              }
            ]
          }
        },
        "fc16d3273edb44ad988280e7af38d4e6": {
          "model_module": "@jupyter-widgets/base",
          "model_name": "LayoutModel",
          "model_module_version": "1.2.0",
          "state": {
            "_model_module": "@jupyter-widgets/base",
            "_model_module_version": "1.2.0",
            "_model_name": "LayoutModel",
            "_view_count": null,
            "_view_module": "@jupyter-widgets/base",
            "_view_module_version": "1.2.0",
            "_view_name": "LayoutView",
            "align_content": null,
            "align_items": null,
            "align_self": null,
            "border": null,
            "bottom": null,
            "display": null,
            "flex": null,
            "flex_flow": null,
            "grid_area": null,
            "grid_auto_columns": null,
            "grid_auto_flow": null,
            "grid_auto_rows": null,
            "grid_column": null,
            "grid_gap": null,
            "grid_row": null,
            "grid_template_areas": null,
            "grid_template_columns": null,
            "grid_template_rows": null,
            "height": null,
            "justify_content": null,
            "justify_items": null,
            "left": null,
            "margin": null,
            "max_height": null,
            "max_width": null,
            "min_height": null,
            "min_width": null,
            "object_fit": null,
            "object_position": null,
            "order": null,
            "overflow": null,
            "overflow_x": null,
            "overflow_y": null,
            "padding": null,
            "right": null,
            "top": null,
            "visibility": null,
            "width": null
          }
        },
        "7d41f61da2f74d0089f4daeb8504bb46": {
          "model_module": "@jupyter-widgets/base",
          "model_name": "LayoutModel",
          "model_module_version": "1.2.0",
          "state": {
            "_model_module": "@jupyter-widgets/base",
            "_model_module_version": "1.2.0",
            "_model_name": "LayoutModel",
            "_view_count": null,
            "_view_module": "@jupyter-widgets/base",
            "_view_module_version": "1.2.0",
            "_view_name": "LayoutView",
            "align_content": null,
            "align_items": null,
            "align_self": null,
            "border": null,
            "bottom": null,
            "display": null,
            "flex": null,
            "flex_flow": null,
            "grid_area": null,
            "grid_auto_columns": null,
            "grid_auto_flow": null,
            "grid_auto_rows": null,
            "grid_column": null,
            "grid_gap": null,
            "grid_row": null,
            "grid_template_areas": null,
            "grid_template_columns": null,
            "grid_template_rows": null,
            "height": null,
            "justify_content": null,
            "justify_items": null,
            "left": null,
            "margin": null,
            "max_height": null,
            "max_width": null,
            "min_height": null,
            "min_width": null,
            "object_fit": null,
            "object_position": null,
            "order": null,
            "overflow": null,
            "overflow_x": null,
            "overflow_y": null,
            "padding": null,
            "right": null,
            "top": null,
            "visibility": null,
            "width": null
          }
        },
        "cd1ef0cf32ea4dfd972e5952813b7a7c": {
          "model_module": "@jupyter-widgets/base",
          "model_name": "LayoutModel",
          "model_module_version": "1.2.0",
          "state": {
            "_model_module": "@jupyter-widgets/base",
            "_model_module_version": "1.2.0",
            "_model_name": "LayoutModel",
            "_view_count": null,
            "_view_module": "@jupyter-widgets/base",
            "_view_module_version": "1.2.0",
            "_view_name": "LayoutView",
            "align_content": null,
            "align_items": null,
            "align_self": null,
            "border": null,
            "bottom": null,
            "display": null,
            "flex": null,
            "flex_flow": null,
            "grid_area": null,
            "grid_auto_columns": null,
            "grid_auto_flow": null,
            "grid_auto_rows": null,
            "grid_column": null,
            "grid_gap": null,
            "grid_row": null,
            "grid_template_areas": null,
            "grid_template_columns": null,
            "grid_template_rows": null,
            "height": null,
            "justify_content": null,
            "justify_items": null,
            "left": null,
            "margin": null,
            "max_height": null,
            "max_width": null,
            "min_height": null,
            "min_width": null,
            "object_fit": null,
            "object_position": null,
            "order": null,
            "overflow": null,
            "overflow_x": null,
            "overflow_y": null,
            "padding": null,
            "right": null,
            "top": null,
            "visibility": null,
            "width": null
          }
        },
        "7eefa2be90a64d759c086905a81bc244": {
          "model_module": "@jupyter-widgets/controls",
          "model_name": "TabModel",
          "model_module_version": "1.5.0",
          "state": {
            "_dom_classes": [],
            "_model_module": "@jupyter-widgets/controls",
            "_model_module_version": "1.5.0",
            "_model_name": "TabModel",
            "_titles": {
              "0": "Youtube",
              "1": "Bilibili"
            },
            "_view_count": null,
            "_view_module": "@jupyter-widgets/controls",
            "_view_module_version": "1.5.0",
            "_view_name": "TabView",
            "box_style": "",
            "children": [
              "IPY_MODEL_3f0c8c4e110d4a2da0c66ca744f3582a",
              "IPY_MODEL_c4694db9d4584c9e87032bd7f969815f"
            ],
            "layout": "IPY_MODEL_f5564d8a1168412a89b26f7b54912598",
            "selected_index": 0
          }
        },
        "3f0c8c4e110d4a2da0c66ca744f3582a": {
          "model_module": "@jupyter-widgets/output",
          "model_name": "OutputModel",
          "model_module_version": "1.0.0",
          "state": {
            "_dom_classes": [],
            "_model_module": "@jupyter-widgets/output",
            "_model_module_version": "1.0.0",
            "_model_name": "OutputModel",
            "_view_count": null,
            "_view_module": "@jupyter-widgets/output",
            "_view_module_version": "1.0.0",
            "_view_name": "OutputView",
            "layout": "IPY_MODEL_53300f71de314b57a7ae9529c83f5682",
            "msg_id": "",
            "outputs": [
              {
                "output_type": "stream",
                "name": "stdout",
                "text": [
                  "Video available at https://youtube.com/watch?v=aSJTRdjRvvw\n"
                ]
              },
              {
                "output_type": "display_data",
                "data": {
                  "text/plain": "<IPython.lib.display.YouTubeVideo at 0x7fc23c58c510>",
                  "text/html": "\n        <iframe\n            width=\"854\"\n            height=\"480\"\n            src=\"https://www.youtube.com/embed/aSJTRdjRvvw?fs=1&rel=0\"\n            frameborder=\"0\"\n            allowfullscreen\n        ></iframe>\n        ",
                  "image/jpeg": "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\n"
                },
                "metadata": {}
              }
            ]
          }
        },
        "c4694db9d4584c9e87032bd7f969815f": {
          "model_module": "@jupyter-widgets/output",
          "model_name": "OutputModel",
          "model_module_version": "1.0.0",
          "state": {
            "_dom_classes": [],
            "_model_module": "@jupyter-widgets/output",
            "_model_module_version": "1.0.0",
            "_model_name": "OutputModel",
            "_view_count": null,
            "_view_module": "@jupyter-widgets/output",
            "_view_module_version": "1.0.0",
            "_view_name": "OutputView",
            "layout": "IPY_MODEL_313d8c2ed7944a8eae002aee036ff87d",
            "msg_id": "",
            "outputs": [
              {
                "output_type": "stream",
                "name": "stdout",
                "text": [
                  "Video available at https://www.bilibili.com/video/BV1aL411H7Ce\n"
                ]
              },
              {
                "output_type": "display_data",
                "data": {
                  "text/plain": "<__main__.BiliVideo at 0x7fc23c58c410>",
                  "text/html": "\n        <iframe\n            width=\"854\"\n            height=\"480\"\n            src=\"https://player.bilibili.com/player.html?bvid=BV1aL411H7Ce&page=1?fs=1\"\n            frameborder=\"0\"\n            allowfullscreen\n        ></iframe>\n        "
                },
                "metadata": {}
              }
            ]
          }
        },
        "f5564d8a1168412a89b26f7b54912598": {
          "model_module": "@jupyter-widgets/base",
          "model_name": "LayoutModel",
          "model_module_version": "1.2.0",
          "state": {
            "_model_module": "@jupyter-widgets/base",
            "_model_module_version": "1.2.0",
            "_model_name": "LayoutModel",
            "_view_count": null,
            "_view_module": "@jupyter-widgets/base",
            "_view_module_version": "1.2.0",
            "_view_name": "LayoutView",
            "align_content": null,
            "align_items": null,
            "align_self": null,
            "border": null,
            "bottom": null,
            "display": null,
            "flex": null,
            "flex_flow": null,
            "grid_area": null,
            "grid_auto_columns": null,
            "grid_auto_flow": null,
            "grid_auto_rows": null,
            "grid_column": null,
            "grid_gap": null,
            "grid_row": null,
            "grid_template_areas": null,
            "grid_template_columns": null,
            "grid_template_rows": null,
            "height": null,
            "justify_content": null,
            "justify_items": null,
            "left": null,
            "margin": null,
            "max_height": null,
            "max_width": null,
            "min_height": null,
            "min_width": null,
            "object_fit": null,
            "object_position": null,
            "order": null,
            "overflow": null,
            "overflow_x": null,
            "overflow_y": null,
            "padding": null,
            "right": null,
            "top": null,
            "visibility": null,
            "width": null
          }
        },
        "53300f71de314b57a7ae9529c83f5682": {
          "model_module": "@jupyter-widgets/base",
          "model_name": "LayoutModel",
          "model_module_version": "1.2.0",
          "state": {
            "_model_module": "@jupyter-widgets/base",
            "_model_module_version": "1.2.0",
            "_model_name": "LayoutModel",
            "_view_count": null,
            "_view_module": "@jupyter-widgets/base",
            "_view_module_version": "1.2.0",
            "_view_name": "LayoutView",
            "align_content": null,
            "align_items": null,
            "align_self": null,
            "border": null,
            "bottom": null,
            "display": null,
            "flex": null,
            "flex_flow": null,
            "grid_area": null,
            "grid_auto_columns": null,
            "grid_auto_flow": null,
            "grid_auto_rows": null,
            "grid_column": null,
            "grid_gap": null,
            "grid_row": null,
            "grid_template_areas": null,
            "grid_template_columns": null,
            "grid_template_rows": null,
            "height": null,
            "justify_content": null,
            "justify_items": null,
            "left": null,
            "margin": null,
            "max_height": null,
            "max_width": null,
            "min_height": null,
            "min_width": null,
            "object_fit": null,
            "object_position": null,
            "order": null,
            "overflow": null,
            "overflow_x": null,
            "overflow_y": null,
            "padding": null,
            "right": null,
            "top": null,
            "visibility": null,
            "width": null
          }
        },
        "313d8c2ed7944a8eae002aee036ff87d": {
          "model_module": "@jupyter-widgets/base",
          "model_name": "LayoutModel",
          "model_module_version": "1.2.0",
          "state": {
            "_model_module": "@jupyter-widgets/base",
            "_model_module_version": "1.2.0",
            "_model_name": "LayoutModel",
            "_view_count": null,
            "_view_module": "@jupyter-widgets/base",
            "_view_module_version": "1.2.0",
            "_view_name": "LayoutView",
            "align_content": null,
            "align_items": null,
            "align_self": null,
            "border": null,
            "bottom": null,
            "display": null,
            "flex": null,
            "flex_flow": null,
            "grid_area": null,
            "grid_auto_columns": null,
            "grid_auto_flow": null,
            "grid_auto_rows": null,
            "grid_column": null,
            "grid_gap": null,
            "grid_row": null,
            "grid_template_areas": null,
            "grid_template_columns": null,
            "grid_template_rows": null,
            "height": null,
            "justify_content": null,
            "justify_items": null,
            "left": null,
            "margin": null,
            "max_height": null,
            "max_width": null,
            "min_height": null,
            "min_width": null,
            "object_fit": null,
            "object_position": null,
            "order": null,
            "overflow": null,
            "overflow_x": null,
            "overflow_y": null,
            "padding": null,
            "right": null,
            "top": null,
            "visibility": null,
            "width": null
          }
        },
        "6b202d98ca6044e1ba18421535645255": {
          "model_module": "@jupyter-widgets/controls",
          "model_name": "TextareaModel",
          "model_module_version": "1.5.0",
          "state": {
            "_dom_classes": [],
            "_model_module": "@jupyter-widgets/controls",
            "_model_module_version": "1.5.0",
            "_model_name": "TextareaModel",
            "_view_count": null,
            "_view_module": "@jupyter-widgets/controls",
            "_view_module_version": "1.5.0",
            "_view_name": "TextareaView",
            "continuous_update": true,
            "description": "",
            "description_tooltip": null,
            "disabled": false,
            "layout": "IPY_MODEL_dd763302d6a4495eaf080a13b2c0b68b",
            "placeholder": "Type something",
            "rows": null,
            "style": "IPY_MODEL_400ef16aad8f4510851fc90817252b9d",
            "value": "Type your answer here and click on `Submit!`"
          }
        },
        "dd763302d6a4495eaf080a13b2c0b68b": {
          "model_module": "@jupyter-widgets/base",
          "model_name": "LayoutModel",
          "model_module_version": "1.2.0",
          "state": {
            "_model_module": "@jupyter-widgets/base",
            "_model_module_version": "1.2.0",
            "_model_name": "LayoutModel",
            "_view_count": null,
            "_view_module": "@jupyter-widgets/base",
            "_view_module_version": "1.2.0",
            "_view_name": "LayoutView",
            "align_content": null,
            "align_items": null,
            "align_self": null,
            "border": null,
            "bottom": null,
            "display": null,
            "flex": null,
            "flex_flow": null,
            "grid_area": null,
            "grid_auto_columns": null,
            "grid_auto_flow": null,
            "grid_auto_rows": null,
            "grid_column": null,
            "grid_gap": null,
            "grid_row": null,
            "grid_template_areas": null,
            "grid_template_columns": null,
            "grid_template_rows": null,
            "height": null,
            "justify_content": null,
            "justify_items": null,
            "left": null,
            "margin": null,
            "max_height": null,
            "max_width": null,
            "min_height": null,
            "min_width": null,
            "object_fit": null,
            "object_position": null,
            "order": null,
            "overflow": null,
            "overflow_x": null,
            "overflow_y": null,
            "padding": null,
            "right": null,
            "top": null,
            "visibility": null,
            "width": null
          }
        },
        "400ef16aad8f4510851fc90817252b9d": {
          "model_module": "@jupyter-widgets/controls",
          "model_name": "DescriptionStyleModel",
          "model_module_version": "1.5.0",
          "state": {
            "_model_module": "@jupyter-widgets/controls",
            "_model_module_version": "1.5.0",
            "_model_name": "DescriptionStyleModel",
            "_view_count": null,
            "_view_module": "@jupyter-widgets/base",
            "_view_module_version": "1.2.0",
            "_view_name": "StyleView",
            "description_width": ""
          }
        },
        "b8cd6cd8dc534be1bb57e955ba789f8d": {
          "model_module": "@jupyter-widgets/controls",
          "model_name": "ButtonModel",
          "model_module_version": "1.5.0",
          "state": {
            "_dom_classes": [],
            "_model_module": "@jupyter-widgets/controls",
            "_model_module_version": "1.5.0",
            "_model_name": "ButtonModel",
            "_view_count": null,
            "_view_module": "@jupyter-widgets/controls",
            "_view_module_version": "1.5.0",
            "_view_name": "ButtonView",
            "button_style": "",
            "description": "Submit!",
            "disabled": false,
            "icon": "",
            "layout": "IPY_MODEL_cdc30f9b0c9c4cb4b24234d060cde6c0",
            "style": "IPY_MODEL_a33460f5ed254cc59246773573e2276d",
            "tooltip": ""
          }
        },
        "cdc30f9b0c9c4cb4b24234d060cde6c0": {
          "model_module": "@jupyter-widgets/base",
          "model_name": "LayoutModel",
          "model_module_version": "1.2.0",
          "state": {
            "_model_module": "@jupyter-widgets/base",
            "_model_module_version": "1.2.0",
            "_model_name": "LayoutModel",
            "_view_count": null,
            "_view_module": "@jupyter-widgets/base",
            "_view_module_version": "1.2.0",
            "_view_name": "LayoutView",
            "align_content": null,
            "align_items": null,
            "align_self": null,
            "border": null,
            "bottom": null,
            "display": null,
            "flex": null,
            "flex_flow": null,
            "grid_area": null,
            "grid_auto_columns": null,
            "grid_auto_flow": null,
            "grid_auto_rows": null,
            "grid_column": null,
            "grid_gap": null,
            "grid_row": null,
            "grid_template_areas": null,
            "grid_template_columns": null,
            "grid_template_rows": null,
            "height": null,
            "justify_content": null,
            "justify_items": null,
            "left": null,
            "margin": null,
            "max_height": null,
            "max_width": null,
            "min_height": null,
            "min_width": null,
            "object_fit": null,
            "object_position": null,
            "order": null,
            "overflow": null,
            "overflow_x": null,
            "overflow_y": null,
            "padding": null,
            "right": null,
            "top": null,
            "visibility": null,
            "width": null
          }
        },
        "a33460f5ed254cc59246773573e2276d": {
          "model_module": "@jupyter-widgets/controls",
          "model_name": "ButtonStyleModel",
          "model_module_version": "1.5.0",
          "state": {
            "_model_module": "@jupyter-widgets/controls",
            "_model_module_version": "1.5.0",
            "_model_name": "ButtonStyleModel",
            "_view_count": null,
            "_view_module": "@jupyter-widgets/base",
            "_view_module_version": "1.2.0",
            "_view_name": "StyleView",
            "button_color": null,
            "font_weight": ""
          }
        },
        "c523f84e87aa468590f1b2553ec8c00e": {
          "model_module": "@jupyter-widgets/controls",
          "model_name": "TabModel",
          "model_module_version": "1.5.0",
          "state": {
            "_dom_classes": [],
            "_model_module": "@jupyter-widgets/controls",
            "_model_module_version": "1.5.0",
            "_model_name": "TabModel",
            "_titles": {
              "0": "Youtube",
              "1": "Bilibili"
            },
            "_view_count": null,
            "_view_module": "@jupyter-widgets/controls",
            "_view_module_version": "1.5.0",
            "_view_name": "TabView",
            "box_style": "",
            "children": [
              "IPY_MODEL_a9b4f415fc154f54908570ad7bdffe42",
              "IPY_MODEL_e9fd40262249442caafe04c78165a0f2"
            ],
            "layout": "IPY_MODEL_a85ca2a9352e4faa89cfa47e566f6d05",
            "selected_index": 0
          }
        },
        "a9b4f415fc154f54908570ad7bdffe42": {
          "model_module": "@jupyter-widgets/output",
          "model_name": "OutputModel",
          "model_module_version": "1.0.0",
          "state": {
            "_dom_classes": [],
            "_model_module": "@jupyter-widgets/output",
            "_model_module_version": "1.0.0",
            "_model_name": "OutputModel",
            "_view_count": null,
            "_view_module": "@jupyter-widgets/output",
            "_view_module_version": "1.0.0",
            "_view_name": "OutputView",
            "layout": "IPY_MODEL_e2497ca53aec423ba7088ee95d41ce3a",
            "msg_id": "",
            "outputs": [
              {
                "output_type": "stream",
                "name": "stdout",
                "text": [
                  "Video available at https://youtube.com/watch?v=3ES5O58Y_2M\n"
                ]
              },
              {
                "output_type": "display_data",
                "data": {
                  "text/plain": "<IPython.lib.display.YouTubeVideo at 0x7fc241917cd0>",
                  "text/html": "\n        <iframe\n            width=\"854\"\n            height=\"480\"\n            src=\"https://www.youtube.com/embed/3ES5O58Y_2M?fs=1&rel=0\"\n            frameborder=\"0\"\n            allowfullscreen\n        ></iframe>\n        ",
                  "image/jpeg": "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\n"
                },
                "metadata": {}
              }
            ]
          }
        },
        "e9fd40262249442caafe04c78165a0f2": {
          "model_module": "@jupyter-widgets/output",
          "model_name": "OutputModel",
          "model_module_version": "1.0.0",
          "state": {
            "_dom_classes": [],
            "_model_module": "@jupyter-widgets/output",
            "_model_module_version": "1.0.0",
            "_model_name": "OutputModel",
            "_view_count": null,
            "_view_module": "@jupyter-widgets/output",
            "_view_module_version": "1.0.0",
            "_view_name": "OutputView",
            "layout": "IPY_MODEL_e543c6c04dc64fc88d2fb43a48c6c703",
            "msg_id": "",
            "outputs": [
              {
                "output_type": "stream",
                "name": "stdout",
                "text": [
                  "Video available at https://www.bilibili.com/video/BV1NL411H71t\n"
                ]
              },
              {
                "output_type": "display_data",
                "data": {
                  "text/plain": "<__main__.BiliVideo at 0x7fc23c568c10>",
                  "text/html": "\n        <iframe\n            width=\"854\"\n            height=\"480\"\n            src=\"https://player.bilibili.com/player.html?bvid=BV1NL411H71t&page=1?fs=1\"\n            frameborder=\"0\"\n            allowfullscreen\n        ></iframe>\n        "
                },
                "metadata": {}
              }
            ]
          }
        },
        "a85ca2a9352e4faa89cfa47e566f6d05": {
          "model_module": "@jupyter-widgets/base",
          "model_name": "LayoutModel",
          "model_module_version": "1.2.0",
          "state": {
            "_model_module": "@jupyter-widgets/base",
            "_model_module_version": "1.2.0",
            "_model_name": "LayoutModel",
            "_view_count": null,
            "_view_module": "@jupyter-widgets/base",
            "_view_module_version": "1.2.0",
            "_view_name": "LayoutView",
            "align_content": null,
            "align_items": null,
            "align_self": null,
            "border": null,
            "bottom": null,
            "display": null,
            "flex": null,
            "flex_flow": null,
            "grid_area": null,
            "grid_auto_columns": null,
            "grid_auto_flow": null,
            "grid_auto_rows": null,
            "grid_column": null,
            "grid_gap": null,
            "grid_row": null,
            "grid_template_areas": null,
            "grid_template_columns": null,
            "grid_template_rows": null,
            "height": null,
            "justify_content": null,
            "justify_items": null,
            "left": null,
            "margin": null,
            "max_height": null,
            "max_width": null,
            "min_height": null,
            "min_width": null,
            "object_fit": null,
            "object_position": null,
            "order": null,
            "overflow": null,
            "overflow_x": null,
            "overflow_y": null,
            "padding": null,
            "right": null,
            "top": null,
            "visibility": null,
            "width": null
          }
        },
        "e2497ca53aec423ba7088ee95d41ce3a": {
          "model_module": "@jupyter-widgets/base",
          "model_name": "LayoutModel",
          "model_module_version": "1.2.0",
          "state": {
            "_model_module": "@jupyter-widgets/base",
            "_model_module_version": "1.2.0",
            "_model_name": "LayoutModel",
            "_view_count": null,
            "_view_module": "@jupyter-widgets/base",
            "_view_module_version": "1.2.0",
            "_view_name": "LayoutView",
            "align_content": null,
            "align_items": null,
            "align_self": null,
            "border": null,
            "bottom": null,
            "display": null,
            "flex": null,
            "flex_flow": null,
            "grid_area": null,
            "grid_auto_columns": null,
            "grid_auto_flow": null,
            "grid_auto_rows": null,
            "grid_column": null,
            "grid_gap": null,
            "grid_row": null,
            "grid_template_areas": null,
            "grid_template_columns": null,
            "grid_template_rows": null,
            "height": null,
            "justify_content": null,
            "justify_items": null,
            "left": null,
            "margin": null,
            "max_height": null,
            "max_width": null,
            "min_height": null,
            "min_width": null,
            "object_fit": null,
            "object_position": null,
            "order": null,
            "overflow": null,
            "overflow_x": null,
            "overflow_y": null,
            "padding": null,
            "right": null,
            "top": null,
            "visibility": null,
            "width": null
          }
        },
        "e543c6c04dc64fc88d2fb43a48c6c703": {
          "model_module": "@jupyter-widgets/base",
          "model_name": "LayoutModel",
          "model_module_version": "1.2.0",
          "state": {
            "_model_module": "@jupyter-widgets/base",
            "_model_module_version": "1.2.0",
            "_model_name": "LayoutModel",
            "_view_count": null,
            "_view_module": "@jupyter-widgets/base",
            "_view_module_version": "1.2.0",
            "_view_name": "LayoutView",
            "align_content": null,
            "align_items": null,
            "align_self": null,
            "border": null,
            "bottom": null,
            "display": null,
            "flex": null,
            "flex_flow": null,
            "grid_area": null,
            "grid_auto_columns": null,
            "grid_auto_flow": null,
            "grid_auto_rows": null,
            "grid_column": null,
            "grid_gap": null,
            "grid_row": null,
            "grid_template_areas": null,
            "grid_template_columns": null,
            "grid_template_rows": null,
            "height": null,
            "justify_content": null,
            "justify_items": null,
            "left": null,
            "margin": null,
            "max_height": null,
            "max_width": null,
            "min_height": null,
            "min_width": null,
            "object_fit": null,
            "object_position": null,
            "order": null,
            "overflow": null,
            "overflow_x": null,
            "overflow_y": null,
            "padding": null,
            "right": null,
            "top": null,
            "visibility": null,
            "width": null
          }
        },
        "24a79dba010d46559f5840dee00ab84d": {
          "model_module": "@jupyter-widgets/controls",
          "model_name": "HBoxModel",
          "model_module_version": "1.5.0",
          "state": {
            "_dom_classes": [],
            "_model_module": "@jupyter-widgets/controls",
            "_model_module_version": "1.5.0",
            "_model_name": "HBoxModel",
            "_view_count": null,
            "_view_module": "@jupyter-widgets/controls",
            "_view_module_version": "1.5.0",
            "_view_name": "HBoxView",
            "box_style": "",
            "children": [
              "IPY_MODEL_11fd8abeb7c743ceb6f628aa23f19507",
              "IPY_MODEL_b5d6b4548936472eacd00e381da23bfe",
              "IPY_MODEL_4709824a411c436fa00e991e3aa051cf"
            ],
            "layout": "IPY_MODEL_58fed753d383404eadc26c8c88fa1b0a"
          }
        },
        "11fd8abeb7c743ceb6f628aa23f19507": {
          "model_module": "@jupyter-widgets/controls",
          "model_name": "HTMLModel",
          "model_module_version": "1.5.0",
          "state": {
            "_dom_classes": [],
            "_model_module": "@jupyter-widgets/controls",
            "_model_module_version": "1.5.0",
            "_model_name": "HTMLModel",
            "_view_count": null,
            "_view_module": "@jupyter-widgets/controls",
            "_view_module_version": "1.5.0",
            "_view_name": "HTMLView",
            "description": "",
            "description_tooltip": null,
            "layout": "IPY_MODEL_ffdce425700142f28f9663178782de46",
            "placeholder": "​",
            "style": "IPY_MODEL_4d80fa3366884b11a7d8bd7d3df6b4dd",
            "value": "100%"
          }
        },
        "b5d6b4548936472eacd00e381da23bfe": {
          "model_module": "@jupyter-widgets/controls",
          "model_name": "FloatProgressModel",
          "model_module_version": "1.5.0",
          "state": {
            "_dom_classes": [],
            "_model_module": "@jupyter-widgets/controls",
            "_model_module_version": "1.5.0",
            "_model_name": "FloatProgressModel",
            "_view_count": null,
            "_view_module": "@jupyter-widgets/controls",
            "_view_module_version": "1.5.0",
            "_view_name": "ProgressView",
            "bar_style": "success",
            "description": "",
            "description_tooltip": null,
            "layout": "IPY_MODEL_04c965797272431b93bd43923a1441a2",
            "max": 200,
            "min": 0,
            "orientation": "horizontal",
            "style": "IPY_MODEL_73b30556916b41bab0f5c0d4c9aec7b8",
            "value": 200
          }
        },
        "4709824a411c436fa00e991e3aa051cf": {
          "model_module": "@jupyter-widgets/controls",
          "model_name": "HTMLModel",
          "model_module_version": "1.5.0",
          "state": {
            "_dom_classes": [],
            "_model_module": "@jupyter-widgets/controls",
            "_model_module_version": "1.5.0",
            "_model_name": "HTMLModel",
            "_view_count": null,
            "_view_module": "@jupyter-widgets/controls",
            "_view_module_version": "1.5.0",
            "_view_name": "HTMLView",
            "description": "",
            "description_tooltip": null,
            "layout": "IPY_MODEL_396dabbba2a64126b4569c7b1db4a01c",
            "placeholder": "​",
            "style": "IPY_MODEL_e2a0bfebd32743fcaa724da0adc39971",
            "value": " 200/200 [00:02&lt;00:00, 120.51it/s]"
          }
        },
        "58fed753d383404eadc26c8c88fa1b0a": {
          "model_module": "@jupyter-widgets/base",
          "model_name": "LayoutModel",
          "model_module_version": "1.2.0",
          "state": {
            "_model_module": "@jupyter-widgets/base",
            "_model_module_version": "1.2.0",
            "_model_name": "LayoutModel",
            "_view_count": null,
            "_view_module": "@jupyter-widgets/base",
            "_view_module_version": "1.2.0",
            "_view_name": "LayoutView",
            "align_content": null,
            "align_items": null,
            "align_self": null,
            "border": null,
            "bottom": null,
            "display": null,
            "flex": null,
            "flex_flow": null,
            "grid_area": null,
            "grid_auto_columns": null,
            "grid_auto_flow": null,
            "grid_auto_rows": null,
            "grid_column": null,
            "grid_gap": null,
            "grid_row": null,
            "grid_template_areas": null,
            "grid_template_columns": null,
            "grid_template_rows": null,
            "height": null,
            "justify_content": null,
            "justify_items": null,
            "left": null,
            "margin": null,
            "max_height": null,
            "max_width": null,
            "min_height": null,
            "min_width": null,
            "object_fit": null,
            "object_position": null,
            "order": null,
            "overflow": null,
            "overflow_x": null,
            "overflow_y": null,
            "padding": null,
            "right": null,
            "top": null,
            "visibility": null,
            "width": null
          }
        },
        "ffdce425700142f28f9663178782de46": {
          "model_module": "@jupyter-widgets/base",
          "model_name": "LayoutModel",
          "model_module_version": "1.2.0",
          "state": {
            "_model_module": "@jupyter-widgets/base",
            "_model_module_version": "1.2.0",
            "_model_name": "LayoutModel",
            "_view_count": null,
            "_view_module": "@jupyter-widgets/base",
            "_view_module_version": "1.2.0",
            "_view_name": "LayoutView",
            "align_content": null,
            "align_items": null,
            "align_self": null,
            "border": null,
            "bottom": null,
            "display": null,
            "flex": null,
            "flex_flow": null,
            "grid_area": null,
            "grid_auto_columns": null,
            "grid_auto_flow": null,
            "grid_auto_rows": null,
            "grid_column": null,
            "grid_gap": null,
            "grid_row": null,
            "grid_template_areas": null,
            "grid_template_columns": null,
            "grid_template_rows": null,
            "height": null,
            "justify_content": null,
            "justify_items": null,
            "left": null,
            "margin": null,
            "max_height": null,
            "max_width": null,
            "min_height": null,
            "min_width": null,
            "object_fit": null,
            "object_position": null,
            "order": null,
            "overflow": null,
            "overflow_x": null,
            "overflow_y": null,
            "padding": null,
            "right": null,
            "top": null,
            "visibility": null,
            "width": null
          }
        },
        "4d80fa3366884b11a7d8bd7d3df6b4dd": {
          "model_module": "@jupyter-widgets/controls",
          "model_name": "DescriptionStyleModel",
          "model_module_version": "1.5.0",
          "state": {
            "_model_module": "@jupyter-widgets/controls",
            "_model_module_version": "1.5.0",
            "_model_name": "DescriptionStyleModel",
            "_view_count": null,
            "_view_module": "@jupyter-widgets/base",
            "_view_module_version": "1.2.0",
            "_view_name": "StyleView",
            "description_width": ""
          }
        },
        "04c965797272431b93bd43923a1441a2": {
          "model_module": "@jupyter-widgets/base",
          "model_name": "LayoutModel",
          "model_module_version": "1.2.0",
          "state": {
            "_model_module": "@jupyter-widgets/base",
            "_model_module_version": "1.2.0",
            "_model_name": "LayoutModel",
            "_view_count": null,
            "_view_module": "@jupyter-widgets/base",
            "_view_module_version": "1.2.0",
            "_view_name": "LayoutView",
            "align_content": null,
            "align_items": null,
            "align_self": null,
            "border": null,
            "bottom": null,
            "display": null,
            "flex": null,
            "flex_flow": null,
            "grid_area": null,
            "grid_auto_columns": null,
            "grid_auto_flow": null,
            "grid_auto_rows": null,
            "grid_column": null,
            "grid_gap": null,
            "grid_row": null,
            "grid_template_areas": null,
            "grid_template_columns": null,
            "grid_template_rows": null,
            "height": null,
            "justify_content": null,
            "justify_items": null,
            "left": null,
            "margin": null,
            "max_height": null,
            "max_width": null,
            "min_height": null,
            "min_width": null,
            "object_fit": null,
            "object_position": null,
            "order": null,
            "overflow": null,
            "overflow_x": null,
            "overflow_y": null,
            "padding": null,
            "right": null,
            "top": null,
            "visibility": null,
            "width": null
          }
        },
        "73b30556916b41bab0f5c0d4c9aec7b8": {
          "model_module": "@jupyter-widgets/controls",
          "model_name": "ProgressStyleModel",
          "model_module_version": "1.5.0",
          "state": {
            "_model_module": "@jupyter-widgets/controls",
            "_model_module_version": "1.5.0",
            "_model_name": "ProgressStyleModel",
            "_view_count": null,
            "_view_module": "@jupyter-widgets/base",
            "_view_module_version": "1.2.0",
            "_view_name": "StyleView",
            "bar_color": null,
            "description_width": ""
          }
        },
        "396dabbba2a64126b4569c7b1db4a01c": {
          "model_module": "@jupyter-widgets/base",
          "model_name": "LayoutModel",
          "model_module_version": "1.2.0",
          "state": {
            "_model_module": "@jupyter-widgets/base",
            "_model_module_version": "1.2.0",
            "_model_name": "LayoutModel",
            "_view_count": null,
            "_view_module": "@jupyter-widgets/base",
            "_view_module_version": "1.2.0",
            "_view_name": "LayoutView",
            "align_content": null,
            "align_items": null,
            "align_self": null,
            "border": null,
            "bottom": null,
            "display": null,
            "flex": null,
            "flex_flow": null,
            "grid_area": null,
            "grid_auto_columns": null,
            "grid_auto_flow": null,
            "grid_auto_rows": null,
            "grid_column": null,
            "grid_gap": null,
            "grid_row": null,
            "grid_template_areas": null,
            "grid_template_columns": null,
            "grid_template_rows": null,
            "height": null,
            "justify_content": null,
            "justify_items": null,
            "left": null,
            "margin": null,
            "max_height": null,
            "max_width": null,
            "min_height": null,
            "min_width": null,
            "object_fit": null,
            "object_position": null,
            "order": null,
            "overflow": null,
            "overflow_x": null,
            "overflow_y": null,
            "padding": null,
            "right": null,
            "top": null,
            "visibility": null,
            "width": null
          }
        },
        "e2a0bfebd32743fcaa724da0adc39971": {
          "model_module": "@jupyter-widgets/controls",
          "model_name": "DescriptionStyleModel",
          "model_module_version": "1.5.0",
          "state": {
            "_model_module": "@jupyter-widgets/controls",
            "_model_module_version": "1.5.0",
            "_model_name": "DescriptionStyleModel",
            "_view_count": null,
            "_view_module": "@jupyter-widgets/base",
            "_view_module_version": "1.2.0",
            "_view_name": "StyleView",
            "description_width": ""
          }
        },
        "1f938f1e9dc04550969a49331898d46a": {
          "model_module": "@jupyter-widgets/controls",
          "model_name": "VBoxModel",
          "model_module_version": "1.5.0",
          "state": {
            "_dom_classes": [
              "widget-interact"
            ],
            "_model_module": "@jupyter-widgets/controls",
            "_model_module_version": "1.5.0",
            "_model_name": "VBoxModel",
            "_view_count": null,
            "_view_module": "@jupyter-widgets/controls",
            "_view_module_version": "1.5.0",
            "_view_name": "VBoxView",
            "box_style": "",
            "children": [
              "IPY_MODEL_fa26973e313b4050ab9b2ecfbee0a760",
              "IPY_MODEL_67fe53d0dd524e7787272a2380171275",
              "IPY_MODEL_157bf7a8cef942279b4b97859276f763",
              "IPY_MODEL_8983291593434cf789e2ec87c5c87f43",
              "IPY_MODEL_69b48a1be27c40adadd7bdf6ab940dcd"
            ],
            "layout": "IPY_MODEL_da0a3f89484e4178b72a7c38d57107a7"
          }
        },
        "fa26973e313b4050ab9b2ecfbee0a760": {
          "model_module": "@jupyter-widgets/controls",
          "model_name": "IntSliderModel",
          "model_module_version": "1.5.0",
          "state": {
            "_dom_classes": [],
            "_model_module": "@jupyter-widgets/controls",
            "_model_module_version": "1.5.0",
            "_model_name": "IntSliderModel",
            "_view_count": null,
            "_view_module": "@jupyter-widgets/controls",
            "_view_module_version": "1.5.0",
            "_view_name": "IntSliderView",
            "continuous_update": true,
            "description": "max_steps",
            "description_tooltip": null,
            "disabled": false,
            "layout": "IPY_MODEL_47a396f9d7f84eb69f3395e3136e93c2",
            "max": 500,
            "min": 50,
            "orientation": "horizontal",
            "readout": true,
            "readout_format": "d",
            "step": 5,
            "style": "IPY_MODEL_666361ba77524c4aba3d794fa5879eb4",
            "value": 300
          }
        },
        "67fe53d0dd524e7787272a2380171275": {
          "model_module": "@jupyter-widgets/controls",
          "model_name": "FloatLogSliderModel",
          "model_module_version": "1.5.0",
          "state": {
            "_dom_classes": [],
            "_model_module": "@jupyter-widgets/controls",
            "_model_module_version": "1.5.0",
            "_model_name": "FloatLogSliderModel",
            "_view_count": null,
            "_view_module": "@jupyter-widgets/controls",
            "_view_module_version": "1.5.0",
            "_view_name": "FloatLogSliderView",
            "base": 10,
            "continuous_update": true,
            "description": "lr",
            "description_tooltip": null,
            "disabled": false,
            "layout": "IPY_MODEL_dae7c7df4eeb493180dffd99f96c83ce",
            "max": 0.7,
            "min": -3,
            "orientation": "horizontal",
            "readout": true,
            "readout_format": ".3g",
            "step": 0.1,
            "style": "IPY_MODEL_0f31e42cc0bd4bc9b0f8b3e219d1d4f2",
            "value": 0.1
          }
        },
        "157bf7a8cef942279b4b97859276f763": {
          "model_module": "@jupyter-widgets/controls",
          "model_name": "FloatSliderModel",
          "model_module_version": "1.5.0",
          "state": {
            "_dom_classes": [],
            "_model_module": "@jupyter-widgets/controls",
            "_model_module_version": "1.5.0",
            "_model_name": "FloatSliderModel",
            "_view_count": null,
            "_view_module": "@jupyter-widgets/controls",
            "_view_module_version": "1.5.0",
            "_view_name": "FloatSliderView",
            "continuous_update": true,
            "description": "beta",
            "description_tooltip": null,
            "disabled": false,
            "layout": "IPY_MODEL_d2f3419ffa364573bcdf1f95789bf889",
            "max": 1,
            "min": 0,
            "orientation": "horizontal",
            "readout": true,
            "readout_format": ".2f",
            "step": 0.01,
            "style": "IPY_MODEL_02181a7023eb48998b78769b81bed18b",
            "value": 0.9
          }
        },
        "8983291593434cf789e2ec87c5c87f43": {
          "model_module": "@jupyter-widgets/controls",
          "model_name": "ButtonModel",
          "model_module_version": "1.5.0",
          "state": {
            "_dom_classes": [],
            "_model_module": "@jupyter-widgets/controls",
            "_model_module_version": "1.5.0",
            "_model_name": "ButtonModel",
            "_view_count": null,
            "_view_module": "@jupyter-widgets/controls",
            "_view_module_version": "1.5.0",
            "_view_name": "ButtonView",
            "button_style": "",
            "description": "Run Interact",
            "disabled": false,
            "icon": "",
            "layout": "IPY_MODEL_9b30e226e8f24e11b831c88fb6252c93",
            "style": "IPY_MODEL_19076c8a0e0f468db3961fdbcd4fab8a",
            "tooltip": ""
          }
        },
        "69b48a1be27c40adadd7bdf6ab940dcd": {
          "model_module": "@jupyter-widgets/output",
          "model_name": "OutputModel",
          "model_module_version": "1.0.0",
          "state": {
            "_dom_classes": [],
            "_model_module": "@jupyter-widgets/output",
            "_model_module_version": "1.0.0",
            "_model_name": "OutputModel",
            "_view_count": null,
            "_view_module": "@jupyter-widgets/output",
            "_view_module_version": "1.0.0",
            "_view_name": "OutputView",
            "layout": "IPY_MODEL_82db9ef6ed1442a6a7937e693e7d6ea9",
            "msg_id": "",
            "outputs": []
          }
        },
        "da0a3f89484e4178b72a7c38d57107a7": {
          "model_module": "@jupyter-widgets/base",
          "model_name": "LayoutModel",
          "model_module_version": "1.2.0",
          "state": {
            "_model_module": "@jupyter-widgets/base",
            "_model_module_version": "1.2.0",
            "_model_name": "LayoutModel",
            "_view_count": null,
            "_view_module": "@jupyter-widgets/base",
            "_view_module_version": "1.2.0",
            "_view_name": "LayoutView",
            "align_content": null,
            "align_items": null,
            "align_self": null,
            "border": null,
            "bottom": null,
            "display": null,
            "flex": null,
            "flex_flow": null,
            "grid_area": null,
            "grid_auto_columns": null,
            "grid_auto_flow": null,
            "grid_auto_rows": null,
            "grid_column": null,
            "grid_gap": null,
            "grid_row": null,
            "grid_template_areas": null,
            "grid_template_columns": null,
            "grid_template_rows": null,
            "height": null,
            "justify_content": null,
            "justify_items": null,
            "left": null,
            "margin": null,
            "max_height": null,
            "max_width": null,
            "min_height": null,
            "min_width": null,
            "object_fit": null,
            "object_position": null,
            "order": null,
            "overflow": null,
            "overflow_x": null,
            "overflow_y": null,
            "padding": null,
            "right": null,
            "top": null,
            "visibility": null,
            "width": null
          }
        },
        "47a396f9d7f84eb69f3395e3136e93c2": {
          "model_module": "@jupyter-widgets/base",
          "model_name": "LayoutModel",
          "model_module_version": "1.2.0",
          "state": {
            "_model_module": "@jupyter-widgets/base",
            "_model_module_version": "1.2.0",
            "_model_name": "LayoutModel",
            "_view_count": null,
            "_view_module": "@jupyter-widgets/base",
            "_view_module_version": "1.2.0",
            "_view_name": "LayoutView",
            "align_content": null,
            "align_items": null,
            "align_self": null,
            "border": null,
            "bottom": null,
            "display": null,
            "flex": null,
            "flex_flow": null,
            "grid_area": null,
            "grid_auto_columns": null,
            "grid_auto_flow": null,
            "grid_auto_rows": null,
            "grid_column": null,
            "grid_gap": null,
            "grid_row": null,
            "grid_template_areas": null,
            "grid_template_columns": null,
            "grid_template_rows": null,
            "height": null,
            "justify_content": null,
            "justify_items": null,
            "left": null,
            "margin": null,
            "max_height": null,
            "max_width": null,
            "min_height": null,
            "min_width": null,
            "object_fit": null,
            "object_position": null,
            "order": null,
            "overflow": null,
            "overflow_x": null,
            "overflow_y": null,
            "padding": null,
            "right": null,
            "top": null,
            "visibility": null,
            "width": null
          }
        },
        "666361ba77524c4aba3d794fa5879eb4": {
          "model_module": "@jupyter-widgets/controls",
          "model_name": "SliderStyleModel",
          "model_module_version": "1.5.0",
          "state": {
            "_model_module": "@jupyter-widgets/controls",
            "_model_module_version": "1.5.0",
            "_model_name": "SliderStyleModel",
            "_view_count": null,
            "_view_module": "@jupyter-widgets/base",
            "_view_module_version": "1.2.0",
            "_view_name": "StyleView",
            "description_width": "",
            "handle_color": null
          }
        },
        "dae7c7df4eeb493180dffd99f96c83ce": {
          "model_module": "@jupyter-widgets/base",
          "model_name": "LayoutModel",
          "model_module_version": "1.2.0",
          "state": {
            "_model_module": "@jupyter-widgets/base",
            "_model_module_version": "1.2.0",
            "_model_name": "LayoutModel",
            "_view_count": null,
            "_view_module": "@jupyter-widgets/base",
            "_view_module_version": "1.2.0",
            "_view_name": "LayoutView",
            "align_content": null,
            "align_items": null,
            "align_self": null,
            "border": null,
            "bottom": null,
            "display": null,
            "flex": null,
            "flex_flow": null,
            "grid_area": null,
            "grid_auto_columns": null,
            "grid_auto_flow": null,
            "grid_auto_rows": null,
            "grid_column": null,
            "grid_gap": null,
            "grid_row": null,
            "grid_template_areas": null,
            "grid_template_columns": null,
            "grid_template_rows": null,
            "height": null,
            "justify_content": null,
            "justify_items": null,
            "left": null,
            "margin": null,
            "max_height": null,
            "max_width": null,
            "min_height": null,
            "min_width": null,
            "object_fit": null,
            "object_position": null,
            "order": null,
            "overflow": null,
            "overflow_x": null,
            "overflow_y": null,
            "padding": null,
            "right": null,
            "top": null,
            "visibility": null,
            "width": null
          }
        },
        "0f31e42cc0bd4bc9b0f8b3e219d1d4f2": {
          "model_module": "@jupyter-widgets/controls",
          "model_name": "SliderStyleModel",
          "model_module_version": "1.5.0",
          "state": {
            "_model_module": "@jupyter-widgets/controls",
            "_model_module_version": "1.5.0",
            "_model_name": "SliderStyleModel",
            "_view_count": null,
            "_view_module": "@jupyter-widgets/base",
            "_view_module_version": "1.2.0",
            "_view_name": "StyleView",
            "description_width": "",
            "handle_color": null
          }
        },
        "d2f3419ffa364573bcdf1f95789bf889": {
          "model_module": "@jupyter-widgets/base",
          "model_name": "LayoutModel",
          "model_module_version": "1.2.0",
          "state": {
            "_model_module": "@jupyter-widgets/base",
            "_model_module_version": "1.2.0",
            "_model_name": "LayoutModel",
            "_view_count": null,
            "_view_module": "@jupyter-widgets/base",
            "_view_module_version": "1.2.0",
            "_view_name": "LayoutView",
            "align_content": null,
            "align_items": null,
            "align_self": null,
            "border": null,
            "bottom": null,
            "display": null,
            "flex": null,
            "flex_flow": null,
            "grid_area": null,
            "grid_auto_columns": null,
            "grid_auto_flow": null,
            "grid_auto_rows": null,
            "grid_column": null,
            "grid_gap": null,
            "grid_row": null,
            "grid_template_areas": null,
            "grid_template_columns": null,
            "grid_template_rows": null,
            "height": null,
            "justify_content": null,
            "justify_items": null,
            "left": null,
            "margin": null,
            "max_height": null,
            "max_width": null,
            "min_height": null,
            "min_width": null,
            "object_fit": null,
            "object_position": null,
            "order": null,
            "overflow": null,
            "overflow_x": null,
            "overflow_y": null,
            "padding": null,
            "right": null,
            "top": null,
            "visibility": null,
            "width": null
          }
        },
        "02181a7023eb48998b78769b81bed18b": {
          "model_module": "@jupyter-widgets/controls",
          "model_name": "SliderStyleModel",
          "model_module_version": "1.5.0",
          "state": {
            "_model_module": "@jupyter-widgets/controls",
            "_model_module_version": "1.5.0",
            "_model_name": "SliderStyleModel",
            "_view_count": null,
            "_view_module": "@jupyter-widgets/base",
            "_view_module_version": "1.2.0",
            "_view_name": "StyleView",
            "description_width": "",
            "handle_color": null
          }
        },
        "9b30e226e8f24e11b831c88fb6252c93": {
          "model_module": "@jupyter-widgets/base",
          "model_name": "LayoutModel",
          "model_module_version": "1.2.0",
          "state": {
            "_model_module": "@jupyter-widgets/base",
            "_model_module_version": "1.2.0",
            "_model_name": "LayoutModel",
            "_view_count": null,
            "_view_module": "@jupyter-widgets/base",
            "_view_module_version": "1.2.0",
            "_view_name": "LayoutView",
            "align_content": null,
            "align_items": null,
            "align_self": null,
            "border": null,
            "bottom": null,
            "display": null,
            "flex": null,
            "flex_flow": null,
            "grid_area": null,
            "grid_auto_columns": null,
            "grid_auto_flow": null,
            "grid_auto_rows": null,
            "grid_column": null,
            "grid_gap": null,
            "grid_row": null,
            "grid_template_areas": null,
            "grid_template_columns": null,
            "grid_template_rows": null,
            "height": null,
            "justify_content": null,
            "justify_items": null,
            "left": null,
            "margin": null,
            "max_height": null,
            "max_width": null,
            "min_height": null,
            "min_width": null,
            "object_fit": null,
            "object_position": null,
            "order": null,
            "overflow": null,
            "overflow_x": null,
            "overflow_y": null,
            "padding": null,
            "right": null,
            "top": null,
            "visibility": null,
            "width": null
          }
        },
        "19076c8a0e0f468db3961fdbcd4fab8a": {
          "model_module": "@jupyter-widgets/controls",
          "model_name": "ButtonStyleModel",
          "model_module_version": "1.5.0",
          "state": {
            "_model_module": "@jupyter-widgets/controls",
            "_model_module_version": "1.5.0",
            "_model_name": "ButtonStyleModel",
            "_view_count": null,
            "_view_module": "@jupyter-widgets/base",
            "_view_module_version": "1.2.0",
            "_view_name": "StyleView",
            "button_color": null,
            "font_weight": ""
          }
        },
        "82db9ef6ed1442a6a7937e693e7d6ea9": {
          "model_module": "@jupyter-widgets/base",
          "model_name": "LayoutModel",
          "model_module_version": "1.2.0",
          "state": {
            "_model_module": "@jupyter-widgets/base",
            "_model_module_version": "1.2.0",
            "_model_name": "LayoutModel",
            "_view_count": null,
            "_view_module": "@jupyter-widgets/base",
            "_view_module_version": "1.2.0",
            "_view_name": "LayoutView",
            "align_content": null,
            "align_items": null,
            "align_self": null,
            "border": null,
            "bottom": null,
            "display": null,
            "flex": null,
            "flex_flow": null,
            "grid_area": null,
            "grid_auto_columns": null,
            "grid_auto_flow": null,
            "grid_auto_rows": null,
            "grid_column": null,
            "grid_gap": null,
            "grid_row": null,
            "grid_template_areas": null,
            "grid_template_columns": null,
            "grid_template_rows": null,
            "height": null,
            "justify_content": null,
            "justify_items": null,
            "left": null,
            "margin": null,
            "max_height": null,
            "max_width": null,
            "min_height": null,
            "min_width": null,
            "object_fit": null,
            "object_position": null,
            "order": null,
            "overflow": null,
            "overflow_x": null,
            "overflow_y": null,
            "padding": null,
            "right": null,
            "top": null,
            "visibility": null,
            "width": null
          }
        },
        "4a9f7e64a43c461f82b094d85cbea27c": {
          "model_module": "@jupyter-widgets/controls",
          "model_name": "TextareaModel",
          "model_module_version": "1.5.0",
          "state": {
            "_dom_classes": [],
            "_model_module": "@jupyter-widgets/controls",
            "_model_module_version": "1.5.0",
            "_model_name": "TextareaModel",
            "_view_count": null,
            "_view_module": "@jupyter-widgets/controls",
            "_view_module_version": "1.5.0",
            "_view_name": "TextareaView",
            "continuous_update": true,
            "description": "",
            "description_tooltip": null,
            "disabled": false,
            "layout": "IPY_MODEL_6f0370505af44887ac62744a2d425e83",
            "placeholder": "Type something",
            "rows": null,
            "style": "IPY_MODEL_026ca9ade5b64712b636ec658958bbf8",
            "value": "Type your answer here and click on `Submit!`"
          }
        },
        "6f0370505af44887ac62744a2d425e83": {
          "model_module": "@jupyter-widgets/base",
          "model_name": "LayoutModel",
          "model_module_version": "1.2.0",
          "state": {
            "_model_module": "@jupyter-widgets/base",
            "_model_module_version": "1.2.0",
            "_model_name": "LayoutModel",
            "_view_count": null,
            "_view_module": "@jupyter-widgets/base",
            "_view_module_version": "1.2.0",
            "_view_name": "LayoutView",
            "align_content": null,
            "align_items": null,
            "align_self": null,
            "border": null,
            "bottom": null,
            "display": null,
            "flex": null,
            "flex_flow": null,
            "grid_area": null,
            "grid_auto_columns": null,
            "grid_auto_flow": null,
            "grid_auto_rows": null,
            "grid_column": null,
            "grid_gap": null,
            "grid_row": null,
            "grid_template_areas": null,
            "grid_template_columns": null,
            "grid_template_rows": null,
            "height": null,
            "justify_content": null,
            "justify_items": null,
            "left": null,
            "margin": null,
            "max_height": null,
            "max_width": null,
            "min_height": null,
            "min_width": null,
            "object_fit": null,
            "object_position": null,
            "order": null,
            "overflow": null,
            "overflow_x": null,
            "overflow_y": null,
            "padding": null,
            "right": null,
            "top": null,
            "visibility": null,
            "width": null
          }
        },
        "026ca9ade5b64712b636ec658958bbf8": {
          "model_module": "@jupyter-widgets/controls",
          "model_name": "DescriptionStyleModel",
          "model_module_version": "1.5.0",
          "state": {
            "_model_module": "@jupyter-widgets/controls",
            "_model_module_version": "1.5.0",
            "_model_name": "DescriptionStyleModel",
            "_view_count": null,
            "_view_module": "@jupyter-widgets/base",
            "_view_module_version": "1.2.0",
            "_view_name": "StyleView",
            "description_width": ""
          }
        },
        "6dcb059c334a4c328a64437329595dab": {
          "model_module": "@jupyter-widgets/controls",
          "model_name": "ButtonModel",
          "model_module_version": "1.5.0",
          "state": {
            "_dom_classes": [],
            "_model_module": "@jupyter-widgets/controls",
            "_model_module_version": "1.5.0",
            "_model_name": "ButtonModel",
            "_view_count": null,
            "_view_module": "@jupyter-widgets/controls",
            "_view_module_version": "1.5.0",
            "_view_name": "ButtonView",
            "button_style": "",
            "description": "Submit!",
            "disabled": false,
            "icon": "",
            "layout": "IPY_MODEL_1a06938ce1af4bbb8e9c42423f72b5be",
            "style": "IPY_MODEL_d9172369f22c4fee8d4a286d2ded6198",
            "tooltip": ""
          }
        },
        "1a06938ce1af4bbb8e9c42423f72b5be": {
          "model_module": "@jupyter-widgets/base",
          "model_name": "LayoutModel",
          "model_module_version": "1.2.0",
          "state": {
            "_model_module": "@jupyter-widgets/base",
            "_model_module_version": "1.2.0",
            "_model_name": "LayoutModel",
            "_view_count": null,
            "_view_module": "@jupyter-widgets/base",
            "_view_module_version": "1.2.0",
            "_view_name": "LayoutView",
            "align_content": null,
            "align_items": null,
            "align_self": null,
            "border": null,
            "bottom": null,
            "display": null,
            "flex": null,
            "flex_flow": null,
            "grid_area": null,
            "grid_auto_columns": null,
            "grid_auto_flow": null,
            "grid_auto_rows": null,
            "grid_column": null,
            "grid_gap": null,
            "grid_row": null,
            "grid_template_areas": null,
            "grid_template_columns": null,
            "grid_template_rows": null,
            "height": null,
            "justify_content": null,
            "justify_items": null,
            "left": null,
            "margin": null,
            "max_height": null,
            "max_width": null,
            "min_height": null,
            "min_width": null,
            "object_fit": null,
            "object_position": null,
            "order": null,
            "overflow": null,
            "overflow_x": null,
            "overflow_y": null,
            "padding": null,
            "right": null,
            "top": null,
            "visibility": null,
            "width": null
          }
        },
        "d9172369f22c4fee8d4a286d2ded6198": {
          "model_module": "@jupyter-widgets/controls",
          "model_name": "ButtonStyleModel",
          "model_module_version": "1.5.0",
          "state": {
            "_model_module": "@jupyter-widgets/controls",
            "_model_module_version": "1.5.0",
            "_model_name": "ButtonStyleModel",
            "_view_count": null,
            "_view_module": "@jupyter-widgets/base",
            "_view_module_version": "1.2.0",
            "_view_name": "StyleView",
            "button_color": null,
            "font_weight": ""
          }
        },
        "4219767d162f4053a59ad49f660a4aab": {
          "model_module": "@jupyter-widgets/controls",
          "model_name": "TabModel",
          "model_module_version": "1.5.0",
          "state": {
            "_dom_classes": [],
            "_model_module": "@jupyter-widgets/controls",
            "_model_module_version": "1.5.0",
            "_model_name": "TabModel",
            "_titles": {
              "0": "Youtube",
              "1": "Bilibili"
            },
            "_view_count": null,
            "_view_module": "@jupyter-widgets/controls",
            "_view_module_version": "1.5.0",
            "_view_name": "TabView",
            "box_style": "",
            "children": [
              "IPY_MODEL_329aa87fa04b45bda7d897cc6ff7f665",
              "IPY_MODEL_1200b4814e804c4e8585c56516b155b8"
            ],
            "layout": "IPY_MODEL_891fee003fa848728fe496bda2f6e7be",
            "selected_index": 0
          }
        },
        "329aa87fa04b45bda7d897cc6ff7f665": {
          "model_module": "@jupyter-widgets/output",
          "model_name": "OutputModel",
          "model_module_version": "1.0.0",
          "state": {
            "_dom_classes": [],
            "_model_module": "@jupyter-widgets/output",
            "_model_module_version": "1.0.0",
            "_model_name": "OutputModel",
            "_view_count": null,
            "_view_module": "@jupyter-widgets/output",
            "_view_module_version": "1.0.0",
            "_view_name": "OutputView",
            "layout": "IPY_MODEL_add307299c4044899611cbe27b777f27",
            "msg_id": "",
            "outputs": [
              {
                "output_type": "stream",
                "name": "stdout",
                "text": [
                  "Video available at https://youtube.com/watch?v=7vUpUEKKl5o\n"
                ]
              },
              {
                "output_type": "display_data",
                "data": {
                  "text/plain": "<IPython.lib.display.YouTubeVideo at 0x7fc23c3dd890>",
                  "text/html": "\n        <iframe\n            width=\"854\"\n            height=\"480\"\n            src=\"https://www.youtube.com/embed/7vUpUEKKl5o?fs=1&rel=0\"\n            frameborder=\"0\"\n            allowfullscreen\n        ></iframe>\n        ",
                  "image/jpeg": "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\n"
                },
                "metadata": {}
              }
            ]
          }
        },
        "1200b4814e804c4e8585c56516b155b8": {
          "model_module": "@jupyter-widgets/output",
          "model_name": "OutputModel",
          "model_module_version": "1.0.0",
          "state": {
            "_dom_classes": [],
            "_model_module": "@jupyter-widgets/output",
            "_model_module_version": "1.0.0",
            "_model_name": "OutputModel",
            "_view_count": null,
            "_view_module": "@jupyter-widgets/output",
            "_view_module_version": "1.0.0",
            "_view_name": "OutputView",
            "layout": "IPY_MODEL_fd6309d72e534eaa817b961dfd473ed2",
            "msg_id": "",
            "outputs": [
              {
                "output_type": "stream",
                "name": "stdout",
                "text": [
                  "Video available at https://www.bilibili.com/video/BV16h41167Jr\n"
                ]
              },
              {
                "output_type": "display_data",
                "data": {
                  "text/plain": "<__main__.BiliVideo at 0x7fc23deb4e10>",
                  "text/html": "\n        <iframe\n            width=\"854\"\n            height=\"480\"\n            src=\"https://player.bilibili.com/player.html?bvid=BV16h41167Jr&page=1?fs=1\"\n            frameborder=\"0\"\n            allowfullscreen\n        ></iframe>\n        "
                },
                "metadata": {}
              }
            ]
          }
        },
        "891fee003fa848728fe496bda2f6e7be": {
          "model_module": "@jupyter-widgets/base",
          "model_name": "LayoutModel",
          "model_module_version": "1.2.0",
          "state": {
            "_model_module": "@jupyter-widgets/base",
            "_model_module_version": "1.2.0",
            "_model_name": "LayoutModel",
            "_view_count": null,
            "_view_module": "@jupyter-widgets/base",
            "_view_module_version": "1.2.0",
            "_view_name": "LayoutView",
            "align_content": null,
            "align_items": null,
            "align_self": null,
            "border": null,
            "bottom": null,
            "display": null,
            "flex": null,
            "flex_flow": null,
            "grid_area": null,
            "grid_auto_columns": null,
            "grid_auto_flow": null,
            "grid_auto_rows": null,
            "grid_column": null,
            "grid_gap": null,
            "grid_row": null,
            "grid_template_areas": null,
            "grid_template_columns": null,
            "grid_template_rows": null,
            "height": null,
            "justify_content": null,
            "justify_items": null,
            "left": null,
            "margin": null,
            "max_height": null,
            "max_width": null,
            "min_height": null,
            "min_width": null,
            "object_fit": null,
            "object_position": null,
            "order": null,
            "overflow": null,
            "overflow_x": null,
            "overflow_y": null,
            "padding": null,
            "right": null,
            "top": null,
            "visibility": null,
            "width": null
          }
        },
        "add307299c4044899611cbe27b777f27": {
          "model_module": "@jupyter-widgets/base",
          "model_name": "LayoutModel",
          "model_module_version": "1.2.0",
          "state": {
            "_model_module": "@jupyter-widgets/base",
            "_model_module_version": "1.2.0",
            "_model_name": "LayoutModel",
            "_view_count": null,
            "_view_module": "@jupyter-widgets/base",
            "_view_module_version": "1.2.0",
            "_view_name": "LayoutView",
            "align_content": null,
            "align_items": null,
            "align_self": null,
            "border": null,
            "bottom": null,
            "display": null,
            "flex": null,
            "flex_flow": null,
            "grid_area": null,
            "grid_auto_columns": null,
            "grid_auto_flow": null,
            "grid_auto_rows": null,
            "grid_column": null,
            "grid_gap": null,
            "grid_row": null,
            "grid_template_areas": null,
            "grid_template_columns": null,
            "grid_template_rows": null,
            "height": null,
            "justify_content": null,
            "justify_items": null,
            "left": null,
            "margin": null,
            "max_height": null,
            "max_width": null,
            "min_height": null,
            "min_width": null,
            "object_fit": null,
            "object_position": null,
            "order": null,
            "overflow": null,
            "overflow_x": null,
            "overflow_y": null,
            "padding": null,
            "right": null,
            "top": null,
            "visibility": null,
            "width": null
          }
        },
        "fd6309d72e534eaa817b961dfd473ed2": {
          "model_module": "@jupyter-widgets/base",
          "model_name": "LayoutModel",
          "model_module_version": "1.2.0",
          "state": {
            "_model_module": "@jupyter-widgets/base",
            "_model_module_version": "1.2.0",
            "_model_name": "LayoutModel",
            "_view_count": null,
            "_view_module": "@jupyter-widgets/base",
            "_view_module_version": "1.2.0",
            "_view_name": "LayoutView",
            "align_content": null,
            "align_items": null,
            "align_self": null,
            "border": null,
            "bottom": null,
            "display": null,
            "flex": null,
            "flex_flow": null,
            "grid_area": null,
            "grid_auto_columns": null,
            "grid_auto_flow": null,
            "grid_auto_rows": null,
            "grid_column": null,
            "grid_gap": null,
            "grid_row": null,
            "grid_template_areas": null,
            "grid_template_columns": null,
            "grid_template_rows": null,
            "height": null,
            "justify_content": null,
            "justify_items": null,
            "left": null,
            "margin": null,
            "max_height": null,
            "max_width": null,
            "min_height": null,
            "min_width": null,
            "object_fit": null,
            "object_position": null,
            "order": null,
            "overflow": null,
            "overflow_x": null,
            "overflow_y": null,
            "padding": null,
            "right": null,
            "top": null,
            "visibility": null,
            "width": null
          }
        },
        "0db69b49adb94a419ed6ea537c34bf10": {
          "model_module": "@jupyter-widgets/controls",
          "model_name": "VBoxModel",
          "model_module_version": "1.5.0",
          "state": {
            "_dom_classes": [
              "widget-interact"
            ],
            "_model_module": "@jupyter-widgets/controls",
            "_model_module_version": "1.5.0",
            "_model_name": "VBoxModel",
            "_view_count": null,
            "_view_module": "@jupyter-widgets/controls",
            "_view_module_version": "1.5.0",
            "_view_name": "VBoxView",
            "box_style": "",
            "children": [
              "IPY_MODEL_b4955760c0d04040a3e48416ee00abe8",
              "IPY_MODEL_aa7e2814f8a549cc9591839030fe0593",
              "IPY_MODEL_a822bf8bf05941719e556bd593767d1d",
              "IPY_MODEL_26e1656416884ee28ad63300f42ae9bf",
              "IPY_MODEL_780b4db47c6644d1b8cbf187d220b9f1",
              "IPY_MODEL_0e9f10676f784388b26f596971158ef4"
            ],
            "layout": "IPY_MODEL_56def92ac72d43a2a49ceadae06b42e7"
          }
        },
        "b4955760c0d04040a3e48416ee00abe8": {
          "model_module": "@jupyter-widgets/controls",
          "model_name": "IntSliderModel",
          "model_module_version": "1.5.0",
          "state": {
            "_dom_classes": [],
            "_model_module": "@jupyter-widgets/controls",
            "_model_module_version": "1.5.0",
            "_model_name": "IntSliderModel",
            "_view_count": null,
            "_view_module": "@jupyter-widgets/controls",
            "_view_module_version": "1.5.0",
            "_view_name": "IntSliderView",
            "continuous_update": true,
            "description": "max_steps",
            "description_tooltip": null,
            "disabled": false,
            "layout": "IPY_MODEL_0da586c547c64bcc9cd6fc421f23e941",
            "max": 500,
            "min": 50,
            "orientation": "horizontal",
            "readout": true,
            "readout_format": "d",
            "step": 5,
            "style": "IPY_MODEL_f7056cf92f504b1ba1e7e56143b37b0b",
            "value": 150
          }
        },
        "aa7e2814f8a549cc9591839030fe0593": {
          "model_module": "@jupyter-widgets/controls",
          "model_name": "DropdownModel",
          "model_module_version": "1.5.0",
          "state": {
            "_dom_classes": [],
            "_model_module": "@jupyter-widgets/controls",
            "_model_module_version": "1.5.0",
            "_model_name": "DropdownModel",
            "_options_labels": [
              "10",
              "20, 20",
              "100, 100"
            ],
            "_view_count": null,
            "_view_module": "@jupyter-widgets/controls",
            "_view_module_version": "1.5.0",
            "_view_name": "DropdownView",
            "description": "hidden_dims",
            "description_tooltip": null,
            "disabled": false,
            "index": 0,
            "layout": "IPY_MODEL_fa7004f562a340debb89a7a9321fdcc5",
            "style": "IPY_MODEL_fcbff814af7240139b24c787ae0cb2f2"
          }
        },
        "a822bf8bf05941719e556bd593767d1d": {
          "model_module": "@jupyter-widgets/controls",
          "model_name": "FloatLogSliderModel",
          "model_module_version": "1.5.0",
          "state": {
            "_dom_classes": [],
            "_model_module": "@jupyter-widgets/controls",
            "_model_module_version": "1.5.0",
            "_model_name": "FloatLogSliderModel",
            "_view_count": null,
            "_view_module": "@jupyter-widgets/controls",
            "_view_module_version": "1.5.0",
            "_view_name": "FloatLogSliderView",
            "base": 10,
            "continuous_update": true,
            "description": "lr",
            "description_tooltip": null,
            "disabled": false,
            "layout": "IPY_MODEL_4bd8d18b58da4d36a6f3210fd4cd326c",
            "max": 0,
            "min": -3,
            "orientation": "horizontal",
            "readout": true,
            "readout_format": ".3g",
            "step": 0.1,
            "style": "IPY_MODEL_8cf6faa00dfb4012b3948fb0ce98a5b0",
            "value": 0.05
          }
        },
        "26e1656416884ee28ad63300f42ae9bf": {
          "model_module": "@jupyter-widgets/controls",
          "model_name": "IntSliderModel",
          "model_module_version": "1.5.0",
          "state": {
            "_dom_classes": [],
            "_model_module": "@jupyter-widgets/controls",
            "_model_module_version": "1.5.0",
            "_model_name": "IntSliderModel",
            "_view_count": null,
            "_view_module": "@jupyter-widgets/controls",
            "_view_module_version": "1.5.0",
            "_view_name": "IntSliderView",
            "continuous_update": true,
            "description": "num_inits",
            "description_tooltip": null,
            "disabled": false,
            "layout": "IPY_MODEL_5c6912e4810f4488b3233fc3902b2889",
            "max": 10,
            "min": 5,
            "orientation": "horizontal",
            "readout": true,
            "readout_format": "d",
            "step": 1,
            "style": "IPY_MODEL_1a53805280e04ecfa177a7c4ad463202",
            "value": 7
          }
        },
        "780b4db47c6644d1b8cbf187d220b9f1": {
          "model_module": "@jupyter-widgets/controls",
          "model_name": "ButtonModel",
          "model_module_version": "1.5.0",
          "state": {
            "_dom_classes": [],
            "_model_module": "@jupyter-widgets/controls",
            "_model_module_version": "1.5.0",
            "_model_name": "ButtonModel",
            "_view_count": null,
            "_view_module": "@jupyter-widgets/controls",
            "_view_module_version": "1.5.0",
            "_view_name": "ButtonView",
            "button_style": "",
            "description": "Run Interact",
            "disabled": false,
            "icon": "",
            "layout": "IPY_MODEL_346d9303f862490599eb902677b0225a",
            "style": "IPY_MODEL_dc591faa70a94903809ce53095c1fc0d",
            "tooltip": ""
          }
        },
        "0e9f10676f784388b26f596971158ef4": {
          "model_module": "@jupyter-widgets/output",
          "model_name": "OutputModel",
          "model_module_version": "1.0.0",
          "state": {
            "_dom_classes": [],
            "_model_module": "@jupyter-widgets/output",
            "_model_module_version": "1.0.0",
            "_model_name": "OutputModel",
            "_view_count": null,
            "_view_module": "@jupyter-widgets/output",
            "_view_module_version": "1.0.0",
            "_view_name": "OutputView",
            "layout": "IPY_MODEL_0a9c05582e9745d9baa42e38c7127341",
            "msg_id": "",
            "outputs": []
          }
        },
        "56def92ac72d43a2a49ceadae06b42e7": {
          "model_module": "@jupyter-widgets/base",
          "model_name": "LayoutModel",
          "model_module_version": "1.2.0",
          "state": {
            "_model_module": "@jupyter-widgets/base",
            "_model_module_version": "1.2.0",
            "_model_name": "LayoutModel",
            "_view_count": null,
            "_view_module": "@jupyter-widgets/base",
            "_view_module_version": "1.2.0",
            "_view_name": "LayoutView",
            "align_content": null,
            "align_items": null,
            "align_self": null,
            "border": null,
            "bottom": null,
            "display": null,
            "flex": null,
            "flex_flow": null,
            "grid_area": null,
            "grid_auto_columns": null,
            "grid_auto_flow": null,
            "grid_auto_rows": null,
            "grid_column": null,
            "grid_gap": null,
            "grid_row": null,
            "grid_template_areas": null,
            "grid_template_columns": null,
            "grid_template_rows": null,
            "height": null,
            "justify_content": null,
            "justify_items": null,
            "left": null,
            "margin": null,
            "max_height": null,
            "max_width": null,
            "min_height": null,
            "min_width": null,
            "object_fit": null,
            "object_position": null,
            "order": null,
            "overflow": null,
            "overflow_x": null,
            "overflow_y": null,
            "padding": null,
            "right": null,
            "top": null,
            "visibility": null,
            "width": null
          }
        },
        "0da586c547c64bcc9cd6fc421f23e941": {
          "model_module": "@jupyter-widgets/base",
          "model_name": "LayoutModel",
          "model_module_version": "1.2.0",
          "state": {
            "_model_module": "@jupyter-widgets/base",
            "_model_module_version": "1.2.0",
            "_model_name": "LayoutModel",
            "_view_count": null,
            "_view_module": "@jupyter-widgets/base",
            "_view_module_version": "1.2.0",
            "_view_name": "LayoutView",
            "align_content": null,
            "align_items": null,
            "align_self": null,
            "border": null,
            "bottom": null,
            "display": null,
            "flex": null,
            "flex_flow": null,
            "grid_area": null,
            "grid_auto_columns": null,
            "grid_auto_flow": null,
            "grid_auto_rows": null,
            "grid_column": null,
            "grid_gap": null,
            "grid_row": null,
            "grid_template_areas": null,
            "grid_template_columns": null,
            "grid_template_rows": null,
            "height": null,
            "justify_content": null,
            "justify_items": null,
            "left": null,
            "margin": null,
            "max_height": null,
            "max_width": null,
            "min_height": null,
            "min_width": null,
            "object_fit": null,
            "object_position": null,
            "order": null,
            "overflow": null,
            "overflow_x": null,
            "overflow_y": null,
            "padding": null,
            "right": null,
            "top": null,
            "visibility": null,
            "width": null
          }
        },
        "f7056cf92f504b1ba1e7e56143b37b0b": {
          "model_module": "@jupyter-widgets/controls",
          "model_name": "SliderStyleModel",
          "model_module_version": "1.5.0",
          "state": {
            "_model_module": "@jupyter-widgets/controls",
            "_model_module_version": "1.5.0",
            "_model_name": "SliderStyleModel",
            "_view_count": null,
            "_view_module": "@jupyter-widgets/base",
            "_view_module_version": "1.2.0",
            "_view_name": "StyleView",
            "description_width": "",
            "handle_color": null
          }
        },
        "fa7004f562a340debb89a7a9321fdcc5": {
          "model_module": "@jupyter-widgets/base",
          "model_name": "LayoutModel",
          "model_module_version": "1.2.0",
          "state": {
            "_model_module": "@jupyter-widgets/base",
            "_model_module_version": "1.2.0",
            "_model_name": "LayoutModel",
            "_view_count": null,
            "_view_module": "@jupyter-widgets/base",
            "_view_module_version": "1.2.0",
            "_view_name": "LayoutView",
            "align_content": null,
            "align_items": null,
            "align_self": null,
            "border": null,
            "bottom": null,
            "display": null,
            "flex": null,
            "flex_flow": null,
            "grid_area": null,
            "grid_auto_columns": null,
            "grid_auto_flow": null,
            "grid_auto_rows": null,
            "grid_column": null,
            "grid_gap": null,
            "grid_row": null,
            "grid_template_areas": null,
            "grid_template_columns": null,
            "grid_template_rows": null,
            "height": null,
            "justify_content": null,
            "justify_items": null,
            "left": null,
            "margin": null,
            "max_height": null,
            "max_width": null,
            "min_height": null,
            "min_width": null,
            "object_fit": null,
            "object_position": null,
            "order": null,
            "overflow": null,
            "overflow_x": null,
            "overflow_y": null,
            "padding": null,
            "right": null,
            "top": null,
            "visibility": null,
            "width": null
          }
        },
        "fcbff814af7240139b24c787ae0cb2f2": {
          "model_module": "@jupyter-widgets/controls",
          "model_name": "DescriptionStyleModel",
          "model_module_version": "1.5.0",
          "state": {
            "_model_module": "@jupyter-widgets/controls",
            "_model_module_version": "1.5.0",
            "_model_name": "DescriptionStyleModel",
            "_view_count": null,
            "_view_module": "@jupyter-widgets/base",
            "_view_module_version": "1.2.0",
            "_view_name": "StyleView",
            "description_width": ""
          }
        },
        "4bd8d18b58da4d36a6f3210fd4cd326c": {
          "model_module": "@jupyter-widgets/base",
          "model_name": "LayoutModel",
          "model_module_version": "1.2.0",
          "state": {
            "_model_module": "@jupyter-widgets/base",
            "_model_module_version": "1.2.0",
            "_model_name": "LayoutModel",
            "_view_count": null,
            "_view_module": "@jupyter-widgets/base",
            "_view_module_version": "1.2.0",
            "_view_name": "LayoutView",
            "align_content": null,
            "align_items": null,
            "align_self": null,
            "border": null,
            "bottom": null,
            "display": null,
            "flex": null,
            "flex_flow": null,
            "grid_area": null,
            "grid_auto_columns": null,
            "grid_auto_flow": null,
            "grid_auto_rows": null,
            "grid_column": null,
            "grid_gap": null,
            "grid_row": null,
            "grid_template_areas": null,
            "grid_template_columns": null,
            "grid_template_rows": null,
            "height": null,
            "justify_content": null,
            "justify_items": null,
            "left": null,
            "margin": null,
            "max_height": null,
            "max_width": null,
            "min_height": null,
            "min_width": null,
            "object_fit": null,
            "object_position": null,
            "order": null,
            "overflow": null,
            "overflow_x": null,
            "overflow_y": null,
            "padding": null,
            "right": null,
            "top": null,
            "visibility": null,
            "width": null
          }
        },
        "8cf6faa00dfb4012b3948fb0ce98a5b0": {
          "model_module": "@jupyter-widgets/controls",
          "model_name": "SliderStyleModel",
          "model_module_version": "1.5.0",
          "state": {
            "_model_module": "@jupyter-widgets/controls",
            "_model_module_version": "1.5.0",
            "_model_name": "SliderStyleModel",
            "_view_count": null,
            "_view_module": "@jupyter-widgets/base",
            "_view_module_version": "1.2.0",
            "_view_name": "StyleView",
            "description_width": "",
            "handle_color": null
          }
        },
        "5c6912e4810f4488b3233fc3902b2889": {
          "model_module": "@jupyter-widgets/base",
          "model_name": "LayoutModel",
          "model_module_version": "1.2.0",
          "state": {
            "_model_module": "@jupyter-widgets/base",
            "_model_module_version": "1.2.0",
            "_model_name": "LayoutModel",
            "_view_count": null,
            "_view_module": "@jupyter-widgets/base",
            "_view_module_version": "1.2.0",
            "_view_name": "LayoutView",
            "align_content": null,
            "align_items": null,
            "align_self": null,
            "border": null,
            "bottom": null,
            "display": null,
            "flex": null,
            "flex_flow": null,
            "grid_area": null,
            "grid_auto_columns": null,
            "grid_auto_flow": null,
            "grid_auto_rows": null,
            "grid_column": null,
            "grid_gap": null,
            "grid_row": null,
            "grid_template_areas": null,
            "grid_template_columns": null,
            "grid_template_rows": null,
            "height": null,
            "justify_content": null,
            "justify_items": null,
            "left": null,
            "margin": null,
            "max_height": null,
            "max_width": null,
            "min_height": null,
            "min_width": null,
            "object_fit": null,
            "object_position": null,
            "order": null,
            "overflow": null,
            "overflow_x": null,
            "overflow_y": null,
            "padding": null,
            "right": null,
            "top": null,
            "visibility": null,
            "width": null
          }
        },
        "1a53805280e04ecfa177a7c4ad463202": {
          "model_module": "@jupyter-widgets/controls",
          "model_name": "SliderStyleModel",
          "model_module_version": "1.5.0",
          "state": {
            "_model_module": "@jupyter-widgets/controls",
            "_model_module_version": "1.5.0",
            "_model_name": "SliderStyleModel",
            "_view_count": null,
            "_view_module": "@jupyter-widgets/base",
            "_view_module_version": "1.2.0",
            "_view_name": "StyleView",
            "description_width": "",
            "handle_color": null
          }
        },
        "346d9303f862490599eb902677b0225a": {
          "model_module": "@jupyter-widgets/base",
          "model_name": "LayoutModel",
          "model_module_version": "1.2.0",
          "state": {
            "_model_module": "@jupyter-widgets/base",
            "_model_module_version": "1.2.0",
            "_model_name": "LayoutModel",
            "_view_count": null,
            "_view_module": "@jupyter-widgets/base",
            "_view_module_version": "1.2.0",
            "_view_name": "LayoutView",
            "align_content": null,
            "align_items": null,
            "align_self": null,
            "border": null,
            "bottom": null,
            "display": null,
            "flex": null,
            "flex_flow": null,
            "grid_area": null,
            "grid_auto_columns": null,
            "grid_auto_flow": null,
            "grid_auto_rows": null,
            "grid_column": null,
            "grid_gap": null,
            "grid_row": null,
            "grid_template_areas": null,
            "grid_template_columns": null,
            "grid_template_rows": null,
            "height": null,
            "justify_content": null,
            "justify_items": null,
            "left": null,
            "margin": null,
            "max_height": null,
            "max_width": null,
            "min_height": null,
            "min_width": null,
            "object_fit": null,
            "object_position": null,
            "order": null,
            "overflow": null,
            "overflow_x": null,
            "overflow_y": null,
            "padding": null,
            "right": null,
            "top": null,
            "visibility": null,
            "width": null
          }
        },
        "dc591faa70a94903809ce53095c1fc0d": {
          "model_module": "@jupyter-widgets/controls",
          "model_name": "ButtonStyleModel",
          "model_module_version": "1.5.0",
          "state": {
            "_model_module": "@jupyter-widgets/controls",
            "_model_module_version": "1.5.0",
            "_model_name": "ButtonStyleModel",
            "_view_count": null,
            "_view_module": "@jupyter-widgets/base",
            "_view_module_version": "1.2.0",
            "_view_name": "StyleView",
            "button_color": null,
            "font_weight": ""
          }
        },
        "0a9c05582e9745d9baa42e38c7127341": {
          "model_module": "@jupyter-widgets/base",
          "model_name": "LayoutModel",
          "model_module_version": "1.2.0",
          "state": {
            "_model_module": "@jupyter-widgets/base",
            "_model_module_version": "1.2.0",
            "_model_name": "LayoutModel",
            "_view_count": null,
            "_view_module": "@jupyter-widgets/base",
            "_view_module_version": "1.2.0",
            "_view_name": "LayoutView",
            "align_content": null,
            "align_items": null,
            "align_self": null,
            "border": null,
            "bottom": null,
            "display": null,
            "flex": null,
            "flex_flow": null,
            "grid_area": null,
            "grid_auto_columns": null,
            "grid_auto_flow": null,
            "grid_auto_rows": null,
            "grid_column": null,
            "grid_gap": null,
            "grid_row": null,
            "grid_template_areas": null,
            "grid_template_columns": null,
            "grid_template_rows": null,
            "height": null,
            "justify_content": null,
            "justify_items": null,
            "left": null,
            "margin": null,
            "max_height": null,
            "max_width": null,
            "min_height": null,
            "min_width": null,
            "object_fit": null,
            "object_position": null,
            "order": null,
            "overflow": null,
            "overflow_x": null,
            "overflow_y": null,
            "padding": null,
            "right": null,
            "top": null,
            "visibility": null,
            "width": null
          }
        },
        "4cc9d413e3f544899be6706d8c689e42": {
          "model_module": "@jupyter-widgets/controls",
          "model_name": "TextareaModel",
          "model_module_version": "1.5.0",
          "state": {
            "_dom_classes": [],
            "_model_module": "@jupyter-widgets/controls",
            "_model_module_version": "1.5.0",
            "_model_name": "TextareaModel",
            "_view_count": null,
            "_view_module": "@jupyter-widgets/controls",
            "_view_module_version": "1.5.0",
            "_view_name": "TextareaView",
            "continuous_update": true,
            "description": "",
            "description_tooltip": null,
            "disabled": false,
            "layout": "IPY_MODEL_52cc314607d348e4a88e46af27035422",
            "placeholder": "Type something",
            "rows": null,
            "style": "IPY_MODEL_033f1fb54a22450ba1da00cb2d71a776",
            "value": "Type your answer here and click on `Submit!`"
          }
        },
        "52cc314607d348e4a88e46af27035422": {
          "model_module": "@jupyter-widgets/base",
          "model_name": "LayoutModel",
          "model_module_version": "1.2.0",
          "state": {
            "_model_module": "@jupyter-widgets/base",
            "_model_module_version": "1.2.0",
            "_model_name": "LayoutModel",
            "_view_count": null,
            "_view_module": "@jupyter-widgets/base",
            "_view_module_version": "1.2.0",
            "_view_name": "LayoutView",
            "align_content": null,
            "align_items": null,
            "align_self": null,
            "border": null,
            "bottom": null,
            "display": null,
            "flex": null,
            "flex_flow": null,
            "grid_area": null,
            "grid_auto_columns": null,
            "grid_auto_flow": null,
            "grid_auto_rows": null,
            "grid_column": null,
            "grid_gap": null,
            "grid_row": null,
            "grid_template_areas": null,
            "grid_template_columns": null,
            "grid_template_rows": null,
            "height": null,
            "justify_content": null,
            "justify_items": null,
            "left": null,
            "margin": null,
            "max_height": null,
            "max_width": null,
            "min_height": null,
            "min_width": null,
            "object_fit": null,
            "object_position": null,
            "order": null,
            "overflow": null,
            "overflow_x": null,
            "overflow_y": null,
            "padding": null,
            "right": null,
            "top": null,
            "visibility": null,
            "width": null
          }
        },
        "033f1fb54a22450ba1da00cb2d71a776": {
          "model_module": "@jupyter-widgets/controls",
          "model_name": "DescriptionStyleModel",
          "model_module_version": "1.5.0",
          "state": {
            "_model_module": "@jupyter-widgets/controls",
            "_model_module_version": "1.5.0",
            "_model_name": "DescriptionStyleModel",
            "_view_count": null,
            "_view_module": "@jupyter-widgets/base",
            "_view_module_version": "1.2.0",
            "_view_name": "StyleView",
            "description_width": ""
          }
        },
        "94af9112a41948959e4c9c1fed446695": {
          "model_module": "@jupyter-widgets/controls",
          "model_name": "ButtonModel",
          "model_module_version": "1.5.0",
          "state": {
            "_dom_classes": [],
            "_model_module": "@jupyter-widgets/controls",
            "_model_module_version": "1.5.0",
            "_model_name": "ButtonModel",
            "_view_count": null,
            "_view_module": "@jupyter-widgets/controls",
            "_view_module_version": "1.5.0",
            "_view_name": "ButtonView",
            "button_style": "",
            "description": "Submit!",
            "disabled": false,
            "icon": "",
            "layout": "IPY_MODEL_dfa0a6f8928444ca9b8a0c1468142cb7",
            "style": "IPY_MODEL_9db8dc27ed28482a9cb5430e4810abdd",
            "tooltip": ""
          }
        },
        "dfa0a6f8928444ca9b8a0c1468142cb7": {
          "model_module": "@jupyter-widgets/base",
          "model_name": "LayoutModel",
          "model_module_version": "1.2.0",
          "state": {
            "_model_module": "@jupyter-widgets/base",
            "_model_module_version": "1.2.0",
            "_model_name": "LayoutModel",
            "_view_count": null,
            "_view_module": "@jupyter-widgets/base",
            "_view_module_version": "1.2.0",
            "_view_name": "LayoutView",
            "align_content": null,
            "align_items": null,
            "align_self": null,
            "border": null,
            "bottom": null,
            "display": null,
            "flex": null,
            "flex_flow": null,
            "grid_area": null,
            "grid_auto_columns": null,
            "grid_auto_flow": null,
            "grid_auto_rows": null,
            "grid_column": null,
            "grid_gap": null,
            "grid_row": null,
            "grid_template_areas": null,
            "grid_template_columns": null,
            "grid_template_rows": null,
            "height": null,
            "justify_content": null,
            "justify_items": null,
            "left": null,
            "margin": null,
            "max_height": null,
            "max_width": null,
            "min_height": null,
            "min_width": null,
            "object_fit": null,
            "object_position": null,
            "order": null,
            "overflow": null,
            "overflow_x": null,
            "overflow_y": null,
            "padding": null,
            "right": null,
            "top": null,
            "visibility": null,
            "width": null
          }
        },
        "9db8dc27ed28482a9cb5430e4810abdd": {
          "model_module": "@jupyter-widgets/controls",
          "model_name": "ButtonStyleModel",
          "model_module_version": "1.5.0",
          "state": {
            "_model_module": "@jupyter-widgets/controls",
            "_model_module_version": "1.5.0",
            "_model_name": "ButtonStyleModel",
            "_view_count": null,
            "_view_module": "@jupyter-widgets/base",
            "_view_module_version": "1.2.0",
            "_view_name": "StyleView",
            "button_color": null,
            "font_weight": ""
          }
        },
        "83e4b34f18e6460987878e5174bb961f": {
          "model_module": "@jupyter-widgets/controls",
          "model_name": "TabModel",
          "model_module_version": "1.5.0",
          "state": {
            "_dom_classes": [],
            "_model_module": "@jupyter-widgets/controls",
            "_model_module_version": "1.5.0",
            "_model_name": "TabModel",
            "_titles": {
              "0": "Youtube",
              "1": "Bilibili"
            },
            "_view_count": null,
            "_view_module": "@jupyter-widgets/controls",
            "_view_module_version": "1.5.0",
            "_view_name": "TabView",
            "box_style": "",
            "children": [
              "IPY_MODEL_540be784ec794b47870fc2d5139632b1",
              "IPY_MODEL_fd9efe8a078c489d9d2e257c92cf1dba"
            ],
            "layout": "IPY_MODEL_61863ff4338d4cceaae0d5451a094972",
            "selected_index": 0
          }
        },
        "540be784ec794b47870fc2d5139632b1": {
          "model_module": "@jupyter-widgets/output",
          "model_name": "OutputModel",
          "model_module_version": "1.0.0",
          "state": {
            "_dom_classes": [],
            "_model_module": "@jupyter-widgets/output",
            "_model_module_version": "1.0.0",
            "_model_name": "OutputModel",
            "_view_count": null,
            "_view_module": "@jupyter-widgets/output",
            "_view_module_version": "1.0.0",
            "_view_name": "OutputView",
            "layout": "IPY_MODEL_2f54deef7ab74a56babc65c76fe7abaf",
            "msg_id": "",
            "outputs": [
              {
                "output_type": "stream",
                "name": "stdout",
                "text": [
                  "Video available at https://youtube.com/watch?v=hbqUxpNBUGk\n"
                ]
              },
              {
                "output_type": "display_data",
                "data": {
                  "text/plain": "<IPython.lib.display.YouTubeVideo at 0x7fc23c476d90>",
                  "text/html": "\n        <iframe\n            width=\"854\"\n            height=\"480\"\n            src=\"https://www.youtube.com/embed/hbqUxpNBUGk?fs=1&rel=0\"\n            frameborder=\"0\"\n            allowfullscreen\n        ></iframe>\n        ",
                  "image/jpeg": "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\n"
                },
                "metadata": {}
              }
            ]
          }
        },
        "fd9efe8a078c489d9d2e257c92cf1dba": {
          "model_module": "@jupyter-widgets/output",
          "model_name": "OutputModel",
          "model_module_version": "1.0.0",
          "state": {
            "_dom_classes": [],
            "_model_module": "@jupyter-widgets/output",
            "_model_module_version": "1.0.0",
            "_model_name": "OutputModel",
            "_view_count": null,
            "_view_module": "@jupyter-widgets/output",
            "_view_module_version": "1.0.0",
            "_view_name": "OutputView",
            "layout": "IPY_MODEL_00e8871f6edd46768d71dcccb83c033b",
            "msg_id": "",
            "outputs": [
              {
                "output_type": "stream",
                "name": "stdout",
                "text": [
                  "Video available at https://www.bilibili.com/video/BV1ty4y1T7Uh\n"
                ]
              },
              {
                "output_type": "display_data",
                "data": {
                  "text/plain": "<__main__.BiliVideo at 0x7fc23c3c0250>",
                  "text/html": "\n        <iframe\n            width=\"854\"\n            height=\"480\"\n            src=\"https://player.bilibili.com/player.html?bvid=BV1ty4y1T7Uh&page=1?fs=1\"\n            frameborder=\"0\"\n            allowfullscreen\n        ></iframe>\n        "
                },
                "metadata": {}
              }
            ]
          }
        },
        "61863ff4338d4cceaae0d5451a094972": {
          "model_module": "@jupyter-widgets/base",
          "model_name": "LayoutModel",
          "model_module_version": "1.2.0",
          "state": {
            "_model_module": "@jupyter-widgets/base",
            "_model_module_version": "1.2.0",
            "_model_name": "LayoutModel",
            "_view_count": null,
            "_view_module": "@jupyter-widgets/base",
            "_view_module_version": "1.2.0",
            "_view_name": "LayoutView",
            "align_content": null,
            "align_items": null,
            "align_self": null,
            "border": null,
            "bottom": null,
            "display": null,
            "flex": null,
            "flex_flow": null,
            "grid_area": null,
            "grid_auto_columns": null,
            "grid_auto_flow": null,
            "grid_auto_rows": null,
            "grid_column": null,
            "grid_gap": null,
            "grid_row": null,
            "grid_template_areas": null,
            "grid_template_columns": null,
            "grid_template_rows": null,
            "height": null,
            "justify_content": null,
            "justify_items": null,
            "left": null,
            "margin": null,
            "max_height": null,
            "max_width": null,
            "min_height": null,
            "min_width": null,
            "object_fit": null,
            "object_position": null,
            "order": null,
            "overflow": null,
            "overflow_x": null,
            "overflow_y": null,
            "padding": null,
            "right": null,
            "top": null,
            "visibility": null,
            "width": null
          }
        },
        "2f54deef7ab74a56babc65c76fe7abaf": {
          "model_module": "@jupyter-widgets/base",
          "model_name": "LayoutModel",
          "model_module_version": "1.2.0",
          "state": {
            "_model_module": "@jupyter-widgets/base",
            "_model_module_version": "1.2.0",
            "_model_name": "LayoutModel",
            "_view_count": null,
            "_view_module": "@jupyter-widgets/base",
            "_view_module_version": "1.2.0",
            "_view_name": "LayoutView",
            "align_content": null,
            "align_items": null,
            "align_self": null,
            "border": null,
            "bottom": null,
            "display": null,
            "flex": null,
            "flex_flow": null,
            "grid_area": null,
            "grid_auto_columns": null,
            "grid_auto_flow": null,
            "grid_auto_rows": null,
            "grid_column": null,
            "grid_gap": null,
            "grid_row": null,
            "grid_template_areas": null,
            "grid_template_columns": null,
            "grid_template_rows": null,
            "height": null,
            "justify_content": null,
            "justify_items": null,
            "left": null,
            "margin": null,
            "max_height": null,
            "max_width": null,
            "min_height": null,
            "min_width": null,
            "object_fit": null,
            "object_position": null,
            "order": null,
            "overflow": null,
            "overflow_x": null,
            "overflow_y": null,
            "padding": null,
            "right": null,
            "top": null,
            "visibility": null,
            "width": null
          }
        },
        "00e8871f6edd46768d71dcccb83c033b": {
          "model_module": "@jupyter-widgets/base",
          "model_name": "LayoutModel",
          "model_module_version": "1.2.0",
          "state": {
            "_model_module": "@jupyter-widgets/base",
            "_model_module_version": "1.2.0",
            "_model_name": "LayoutModel",
            "_view_count": null,
            "_view_module": "@jupyter-widgets/base",
            "_view_module_version": "1.2.0",
            "_view_name": "LayoutView",
            "align_content": null,
            "align_items": null,
            "align_self": null,
            "border": null,
            "bottom": null,
            "display": null,
            "flex": null,
            "flex_flow": null,
            "grid_area": null,
            "grid_auto_columns": null,
            "grid_auto_flow": null,
            "grid_auto_rows": null,
            "grid_column": null,
            "grid_gap": null,
            "grid_row": null,
            "grid_template_areas": null,
            "grid_template_columns": null,
            "grid_template_rows": null,
            "height": null,
            "justify_content": null,
            "justify_items": null,
            "left": null,
            "margin": null,
            "max_height": null,
            "max_width": null,
            "min_height": null,
            "min_width": null,
            "object_fit": null,
            "object_position": null,
            "order": null,
            "overflow": null,
            "overflow_x": null,
            "overflow_y": null,
            "padding": null,
            "right": null,
            "top": null,
            "visibility": null,
            "width": null
          }
        },
        "0fbb9a9f7e7a4226bfd3a3b6a0438e58": {
          "model_module": "@jupyter-widgets/controls",
          "model_name": "VBoxModel",
          "model_module_version": "1.5.0",
          "state": {
            "_dom_classes": [
              "widget-interact"
            ],
            "_model_module": "@jupyter-widgets/controls",
            "_model_module_version": "1.5.0",
            "_model_name": "VBoxModel",
            "_view_count": null,
            "_view_module": "@jupyter-widgets/controls",
            "_view_module_version": "1.5.0",
            "_view_name": "VBoxView",
            "box_style": "",
            "children": [
              "IPY_MODEL_190e7500d1584278837d6f73af9ea67e",
              "IPY_MODEL_31dc7ee64d854b0097e934772cb57a61"
            ],
            "layout": "IPY_MODEL_7875d23830034ca1892557adb92d2116"
          }
        },
        "190e7500d1584278837d6f73af9ea67e": {
          "model_module": "@jupyter-widgets/controls",
          "model_name": "DropdownModel",
          "model_module_version": "1.5.0",
          "state": {
            "_dom_classes": [],
            "_model_module": "@jupyter-widgets/controls",
            "_model_module_version": "1.5.0",
            "_model_name": "DropdownModel",
            "_options_labels": [
              "1",
              "100",
              "50, 50"
            ],
            "_view_count": null,
            "_view_module": "@jupyter-widgets/controls",
            "_view_module_version": "1.5.0",
            "_view_name": "DropdownView",
            "description": "hidden_dims",
            "description_tooltip": null,
            "disabled": false,
            "index": 1,
            "layout": "IPY_MODEL_e564ea2f01f3450ab03ea654e4875021",
            "style": "IPY_MODEL_dce0e5cbb52a4204950cbb902511a64e"
          }
        },
        "31dc7ee64d854b0097e934772cb57a61": {
          "model_module": "@jupyter-widgets/output",
          "model_name": "OutputModel",
          "model_module_version": "1.0.0",
          "state": {
            "_dom_classes": [],
            "_model_module": "@jupyter-widgets/output",
            "_model_module_version": "1.0.0",
            "_model_name": "OutputModel",
            "_view_count": null,
            "_view_module": "@jupyter-widgets/output",
            "_view_module_version": "1.0.0",
            "_view_name": "OutputView",
            "layout": "IPY_MODEL_5e85b94aa40e43b488fb762114389c0a",
            "msg_id": "",
            "outputs": [
              {
                "output_type": "display_data",
                "data": {
                  "text/plain": "<Figure size 360x288 with 1 Axes>",
                  "image/png": "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\n"
                },
                "metadata": {
                  "image/png": {
                    "width": 342,
                    "height": 270
                  },
                  "needs_background": "light"
                }
              }
            ]
          }
        },
        "7875d23830034ca1892557adb92d2116": {
          "model_module": "@jupyter-widgets/base",
          "model_name": "LayoutModel",
          "model_module_version": "1.2.0",
          "state": {
            "_model_module": "@jupyter-widgets/base",
            "_model_module_version": "1.2.0",
            "_model_name": "LayoutModel",
            "_view_count": null,
            "_view_module": "@jupyter-widgets/base",
            "_view_module_version": "1.2.0",
            "_view_name": "LayoutView",
            "align_content": null,
            "align_items": null,
            "align_self": null,
            "border": null,
            "bottom": null,
            "display": null,
            "flex": null,
            "flex_flow": null,
            "grid_area": null,
            "grid_auto_columns": null,
            "grid_auto_flow": null,
            "grid_auto_rows": null,
            "grid_column": null,
            "grid_gap": null,
            "grid_row": null,
            "grid_template_areas": null,
            "grid_template_columns": null,
            "grid_template_rows": null,
            "height": null,
            "justify_content": null,
            "justify_items": null,
            "left": null,
            "margin": null,
            "max_height": null,
            "max_width": null,
            "min_height": null,
            "min_width": null,
            "object_fit": null,
            "object_position": null,
            "order": null,
            "overflow": null,
            "overflow_x": null,
            "overflow_y": null,
            "padding": null,
            "right": null,
            "top": null,
            "visibility": null,
            "width": null
          }
        },
        "e564ea2f01f3450ab03ea654e4875021": {
          "model_module": "@jupyter-widgets/base",
          "model_name": "LayoutModel",
          "model_module_version": "1.2.0",
          "state": {
            "_model_module": "@jupyter-widgets/base",
            "_model_module_version": "1.2.0",
            "_model_name": "LayoutModel",
            "_view_count": null,
            "_view_module": "@jupyter-widgets/base",
            "_view_module_version": "1.2.0",
            "_view_name": "LayoutView",
            "align_content": null,
            "align_items": null,
            "align_self": null,
            "border": null,
            "bottom": null,
            "display": null,
            "flex": null,
            "flex_flow": null,
            "grid_area": null,
            "grid_auto_columns": null,
            "grid_auto_flow": null,
            "grid_auto_rows": null,
            "grid_column": null,
            "grid_gap": null,
            "grid_row": null,
            "grid_template_areas": null,
            "grid_template_columns": null,
            "grid_template_rows": null,
            "height": null,
            "justify_content": null,
            "justify_items": null,
            "left": null,
            "margin": null,
            "max_height": null,
            "max_width": null,
            "min_height": null,
            "min_width": null,
            "object_fit": null,
            "object_position": null,
            "order": null,
            "overflow": null,
            "overflow_x": null,
            "overflow_y": null,
            "padding": null,
            "right": null,
            "top": null,
            "visibility": null,
            "width": null
          }
        },
        "dce0e5cbb52a4204950cbb902511a64e": {
          "model_module": "@jupyter-widgets/controls",
          "model_name": "DescriptionStyleModel",
          "model_module_version": "1.5.0",
          "state": {
            "_model_module": "@jupyter-widgets/controls",
            "_model_module_version": "1.5.0",
            "_model_name": "DescriptionStyleModel",
            "_view_count": null,
            "_view_module": "@jupyter-widgets/base",
            "_view_module_version": "1.2.0",
            "_view_name": "StyleView",
            "description_width": ""
          }
        },
        "5e85b94aa40e43b488fb762114389c0a": {
          "model_module": "@jupyter-widgets/base",
          "model_name": "LayoutModel",
          "model_module_version": "1.2.0",
          "state": {
            "_model_module": "@jupyter-widgets/base",
            "_model_module_version": "1.2.0",
            "_model_name": "LayoutModel",
            "_view_count": null,
            "_view_module": "@jupyter-widgets/base",
            "_view_module_version": "1.2.0",
            "_view_name": "LayoutView",
            "align_content": null,
            "align_items": null,
            "align_self": null,
            "border": null,
            "bottom": null,
            "display": null,
            "flex": null,
            "flex_flow": null,
            "grid_area": null,
            "grid_auto_columns": null,
            "grid_auto_flow": null,
            "grid_auto_rows": null,
            "grid_column": null,
            "grid_gap": null,
            "grid_row": null,
            "grid_template_areas": null,
            "grid_template_columns": null,
            "grid_template_rows": null,
            "height": null,
            "justify_content": null,
            "justify_items": null,
            "left": null,
            "margin": null,
            "max_height": null,
            "max_width": null,
            "min_height": null,
            "min_width": null,
            "object_fit": null,
            "object_position": null,
            "order": null,
            "overflow": null,
            "overflow_x": null,
            "overflow_y": null,
            "padding": null,
            "right": null,
            "top": null,
            "visibility": null,
            "width": null
          }
        },
        "3cda1c8057ef4855a93b2c1f78ee2ccc": {
          "model_module": "@jupyter-widgets/controls",
          "model_name": "VBoxModel",
          "model_module_version": "1.5.0",
          "state": {
            "_dom_classes": [
              "widget-interact"
            ],
            "_model_module": "@jupyter-widgets/controls",
            "_model_module_version": "1.5.0",
            "_model_name": "VBoxModel",
            "_view_count": null,
            "_view_module": "@jupyter-widgets/controls",
            "_view_module_version": "1.5.0",
            "_view_name": "VBoxView",
            "box_style": "",
            "children": [
              "IPY_MODEL_cf459970ae854f3b8de7c4012047b60d",
              "IPY_MODEL_60c4c42c7b6041cfb2115f6e04742714",
              "IPY_MODEL_2c2d0dcfc00b47b8bac7b52fc9db5fcb",
              "IPY_MODEL_cf9c481152214000bdf253da784881f1",
              "IPY_MODEL_e82dd29e0e724dbf8aa18e07dea91193"
            ],
            "layout": "IPY_MODEL_eca20060525a400c988ee1c3aa550473"
          }
        },
        "cf459970ae854f3b8de7c4012047b60d": {
          "model_module": "@jupyter-widgets/controls",
          "model_name": "TextModel",
          "model_module_version": "1.5.0",
          "state": {
            "_dom_classes": [],
            "_model_module": "@jupyter-widgets/controls",
            "_model_module_version": "1.5.0",
            "_model_name": "TextModel",
            "_view_count": null,
            "_view_module": "@jupyter-widgets/controls",
            "_view_module_version": "1.5.0",
            "_view_name": "TextView",
            "continuous_update": true,
            "description": "batch_sizes",
            "description_tooltip": null,
            "disabled": false,
            "layout": "IPY_MODEL_57d9c2e0ad2c45ada7dd4fa3cb5a1fb0",
            "placeholder": "​",
            "style": "IPY_MODEL_6ad75925a82b4556a2c892924082fa9e",
            "value": "20, 250, 1000"
          }
        },
        "60c4c42c7b6041cfb2115f6e04742714": {
          "model_module": "@jupyter-widgets/controls",
          "model_name": "TextModel",
          "model_module_version": "1.5.0",
          "state": {
            "_dom_classes": [],
            "_model_module": "@jupyter-widgets/controls",
            "_model_module_version": "1.5.0",
            "_model_name": "TextModel",
            "_view_count": null,
            "_view_module": "@jupyter-widgets/controls",
            "_view_module_version": "1.5.0",
            "_view_name": "TextView",
            "continuous_update": true,
            "description": "lrs",
            "description_tooltip": null,
            "disabled": false,
            "layout": "IPY_MODEL_7d6fd07c95354bcd939c31a3da7a9f89",
            "placeholder": "​",
            "style": "IPY_MODEL_c68d46d3301d49b8944b922cd1bee4fb",
            "value": "5e-3, 5e-3, 5e-3"
          }
        },
        "2c2d0dcfc00b47b8bac7b52fc9db5fcb": {
          "model_module": "@jupyter-widgets/controls",
          "model_name": "DropdownModel",
          "model_module_version": "1.5.0",
          "state": {
            "_dom_classes": [],
            "_model_module": "@jupyter-widgets/controls",
            "_model_module_version": "1.5.0",
            "_model_name": "DropdownModel",
            "_options_labels": [
              "2.5",
              "5",
              "10"
            ],
            "_view_count": null,
            "_view_module": "@jupyter-widgets/controls",
            "_view_module_version": "1.5.0",
            "_view_name": "DropdownView",
            "description": "time_budget",
            "description_tooltip": null,
            "disabled": false,
            "index": 0,
            "layout": "IPY_MODEL_9237cafa255f4e719b613ce51282ca52",
            "style": "IPY_MODEL_6a13067a399447f1babff1464bba63a0"
          }
        },
        "cf9c481152214000bdf253da784881f1": {
          "model_module": "@jupyter-widgets/controls",
          "model_name": "ButtonModel",
          "model_module_version": "1.5.0",
          "state": {
            "_dom_classes": [],
            "_model_module": "@jupyter-widgets/controls",
            "_model_module_version": "1.5.0",
            "_model_name": "ButtonModel",
            "_view_count": null,
            "_view_module": "@jupyter-widgets/controls",
            "_view_module_version": "1.5.0",
            "_view_name": "ButtonView",
            "button_style": "",
            "description": "Run Interact",
            "disabled": false,
            "icon": "",
            "layout": "IPY_MODEL_d3d0b066a4634194abf26ca8906b9bbd",
            "style": "IPY_MODEL_1c3dd6387b9e430095369c0caa079566",
            "tooltip": ""
          }
        },
        "e82dd29e0e724dbf8aa18e07dea91193": {
          "model_module": "@jupyter-widgets/output",
          "model_name": "OutputModel",
          "model_module_version": "1.0.0",
          "state": {
            "_dom_classes": [],
            "_model_module": "@jupyter-widgets/output",
            "_model_module_version": "1.0.0",
            "_model_name": "OutputModel",
            "_view_count": null,
            "_view_module": "@jupyter-widgets/output",
            "_view_module_version": "1.0.0",
            "_view_name": "OutputView",
            "layout": "IPY_MODEL_8323427c2c854c39aa9069492a10c3ca",
            "msg_id": "",
            "outputs": []
          }
        },
        "eca20060525a400c988ee1c3aa550473": {
          "model_module": "@jupyter-widgets/base",
          "model_name": "LayoutModel",
          "model_module_version": "1.2.0",
          "state": {
            "_model_module": "@jupyter-widgets/base",
            "_model_module_version": "1.2.0",
            "_model_name": "LayoutModel",
            "_view_count": null,
            "_view_module": "@jupyter-widgets/base",
            "_view_module_version": "1.2.0",
            "_view_name": "LayoutView",
            "align_content": null,
            "align_items": null,
            "align_self": null,
            "border": null,
            "bottom": null,
            "display": null,
            "flex": null,
            "flex_flow": null,
            "grid_area": null,
            "grid_auto_columns": null,
            "grid_auto_flow": null,
            "grid_auto_rows": null,
            "grid_column": null,
            "grid_gap": null,
            "grid_row": null,
            "grid_template_areas": null,
            "grid_template_columns": null,
            "grid_template_rows": null,
            "height": null,
            "justify_content": null,
            "justify_items": null,
            "left": null,
            "margin": null,
            "max_height": null,
            "max_width": null,
            "min_height": null,
            "min_width": null,
            "object_fit": null,
            "object_position": null,
            "order": null,
            "overflow": null,
            "overflow_x": null,
            "overflow_y": null,
            "padding": null,
            "right": null,
            "top": null,
            "visibility": null,
            "width": null
          }
        },
        "57d9c2e0ad2c45ada7dd4fa3cb5a1fb0": {
          "model_module": "@jupyter-widgets/base",
          "model_name": "LayoutModel",
          "model_module_version": "1.2.0",
          "state": {
            "_model_module": "@jupyter-widgets/base",
            "_model_module_version": "1.2.0",
            "_model_name": "LayoutModel",
            "_view_count": null,
            "_view_module": "@jupyter-widgets/base",
            "_view_module_version": "1.2.0",
            "_view_name": "LayoutView",
            "align_content": null,
            "align_items": null,
            "align_self": null,
            "border": null,
            "bottom": null,
            "display": null,
            "flex": null,
            "flex_flow": null,
            "grid_area": null,
            "grid_auto_columns": null,
            "grid_auto_flow": null,
            "grid_auto_rows": null,
            "grid_column": null,
            "grid_gap": null,
            "grid_row": null,
            "grid_template_areas": null,
            "grid_template_columns": null,
            "grid_template_rows": null,
            "height": null,
            "justify_content": null,
            "justify_items": null,
            "left": null,
            "margin": null,
            "max_height": null,
            "max_width": null,
            "min_height": null,
            "min_width": null,
            "object_fit": null,
            "object_position": null,
            "order": null,
            "overflow": null,
            "overflow_x": null,
            "overflow_y": null,
            "padding": null,
            "right": null,
            "top": null,
            "visibility": null,
            "width": null
          }
        },
        "6ad75925a82b4556a2c892924082fa9e": {
          "model_module": "@jupyter-widgets/controls",
          "model_name": "DescriptionStyleModel",
          "model_module_version": "1.5.0",
          "state": {
            "_model_module": "@jupyter-widgets/controls",
            "_model_module_version": "1.5.0",
            "_model_name": "DescriptionStyleModel",
            "_view_count": null,
            "_view_module": "@jupyter-widgets/base",
            "_view_module_version": "1.2.0",
            "_view_name": "StyleView",
            "description_width": ""
          }
        },
        "7d6fd07c95354bcd939c31a3da7a9f89": {
          "model_module": "@jupyter-widgets/base",
          "model_name": "LayoutModel",
          "model_module_version": "1.2.0",
          "state": {
            "_model_module": "@jupyter-widgets/base",
            "_model_module_version": "1.2.0",
            "_model_name": "LayoutModel",
            "_view_count": null,
            "_view_module": "@jupyter-widgets/base",
            "_view_module_version": "1.2.0",
            "_view_name": "LayoutView",
            "align_content": null,
            "align_items": null,
            "align_self": null,
            "border": null,
            "bottom": null,
            "display": null,
            "flex": null,
            "flex_flow": null,
            "grid_area": null,
            "grid_auto_columns": null,
            "grid_auto_flow": null,
            "grid_auto_rows": null,
            "grid_column": null,
            "grid_gap": null,
            "grid_row": null,
            "grid_template_areas": null,
            "grid_template_columns": null,
            "grid_template_rows": null,
            "height": null,
            "justify_content": null,
            "justify_items": null,
            "left": null,
            "margin": null,
            "max_height": null,
            "max_width": null,
            "min_height": null,
            "min_width": null,
            "object_fit": null,
            "object_position": null,
            "order": null,
            "overflow": null,
            "overflow_x": null,
            "overflow_y": null,
            "padding": null,
            "right": null,
            "top": null,
            "visibility": null,
            "width": null
          }
        },
        "c68d46d3301d49b8944b922cd1bee4fb": {
          "model_module": "@jupyter-widgets/controls",
          "model_name": "DescriptionStyleModel",
          "model_module_version": "1.5.0",
          "state": {
            "_model_module": "@jupyter-widgets/controls",
            "_model_module_version": "1.5.0",
            "_model_name": "DescriptionStyleModel",
            "_view_count": null,
            "_view_module": "@jupyter-widgets/base",
            "_view_module_version": "1.2.0",
            "_view_name": "StyleView",
            "description_width": ""
          }
        },
        "9237cafa255f4e719b613ce51282ca52": {
          "model_module": "@jupyter-widgets/base",
          "model_name": "LayoutModel",
          "model_module_version": "1.2.0",
          "state": {
            "_model_module": "@jupyter-widgets/base",
            "_model_module_version": "1.2.0",
            "_model_name": "LayoutModel",
            "_view_count": null,
            "_view_module": "@jupyter-widgets/base",
            "_view_module_version": "1.2.0",
            "_view_name": "LayoutView",
            "align_content": null,
            "align_items": null,
            "align_self": null,
            "border": null,
            "bottom": null,
            "display": null,
            "flex": null,
            "flex_flow": null,
            "grid_area": null,
            "grid_auto_columns": null,
            "grid_auto_flow": null,
            "grid_auto_rows": null,
            "grid_column": null,
            "grid_gap": null,
            "grid_row": null,
            "grid_template_areas": null,
            "grid_template_columns": null,
            "grid_template_rows": null,
            "height": null,
            "justify_content": null,
            "justify_items": null,
            "left": null,
            "margin": null,
            "max_height": null,
            "max_width": null,
            "min_height": null,
            "min_width": null,
            "object_fit": null,
            "object_position": null,
            "order": null,
            "overflow": null,
            "overflow_x": null,
            "overflow_y": null,
            "padding": null,
            "right": null,
            "top": null,
            "visibility": null,
            "width": null
          }
        },
        "6a13067a399447f1babff1464bba63a0": {
          "model_module": "@jupyter-widgets/controls",
          "model_name": "DescriptionStyleModel",
          "model_module_version": "1.5.0",
          "state": {
            "_model_module": "@jupyter-widgets/controls",
            "_model_module_version": "1.5.0",
            "_model_name": "DescriptionStyleModel",
            "_view_count": null,
            "_view_module": "@jupyter-widgets/base",
            "_view_module_version": "1.2.0",
            "_view_name": "StyleView",
            "description_width": ""
          }
        },
        "d3d0b066a4634194abf26ca8906b9bbd": {
          "model_module": "@jupyter-widgets/base",
          "model_name": "LayoutModel",
          "model_module_version": "1.2.0",
          "state": {
            "_model_module": "@jupyter-widgets/base",
            "_model_module_version": "1.2.0",
            "_model_name": "LayoutModel",
            "_view_count": null,
            "_view_module": "@jupyter-widgets/base",
            "_view_module_version": "1.2.0",
            "_view_name": "LayoutView",
            "align_content": null,
            "align_items": null,
            "align_self": null,
            "border": null,
            "bottom": null,
            "display": null,
            "flex": null,
            "flex_flow": null,
            "grid_area": null,
            "grid_auto_columns": null,
            "grid_auto_flow": null,
            "grid_auto_rows": null,
            "grid_column": null,
            "grid_gap": null,
            "grid_row": null,
            "grid_template_areas": null,
            "grid_template_columns": null,
            "grid_template_rows": null,
            "height": null,
            "justify_content": null,
            "justify_items": null,
            "left": null,
            "margin": null,
            "max_height": null,
            "max_width": null,
            "min_height": null,
            "min_width": null,
            "object_fit": null,
            "object_position": null,
            "order": null,
            "overflow": null,
            "overflow_x": null,
            "overflow_y": null,
            "padding": null,
            "right": null,
            "top": null,
            "visibility": null,
            "width": null
          }
        },
        "1c3dd6387b9e430095369c0caa079566": {
          "model_module": "@jupyter-widgets/controls",
          "model_name": "ButtonStyleModel",
          "model_module_version": "1.5.0",
          "state": {
            "_model_module": "@jupyter-widgets/controls",
            "_model_module_version": "1.5.0",
            "_model_name": "ButtonStyleModel",
            "_view_count": null,
            "_view_module": "@jupyter-widgets/base",
            "_view_module_version": "1.2.0",
            "_view_name": "StyleView",
            "button_color": null,
            "font_weight": ""
          }
        },
        "8323427c2c854c39aa9069492a10c3ca": {
          "model_module": "@jupyter-widgets/base",
          "model_name": "LayoutModel",
          "model_module_version": "1.2.0",
          "state": {
            "_model_module": "@jupyter-widgets/base",
            "_model_module_version": "1.2.0",
            "_model_name": "LayoutModel",
            "_view_count": null,
            "_view_module": "@jupyter-widgets/base",
            "_view_module_version": "1.2.0",
            "_view_name": "LayoutView",
            "align_content": null,
            "align_items": null,
            "align_self": null,
            "border": null,
            "bottom": null,
            "display": null,
            "flex": null,
            "flex_flow": null,
            "grid_area": null,
            "grid_auto_columns": null,
            "grid_auto_flow": null,
            "grid_auto_rows": null,
            "grid_column": null,
            "grid_gap": null,
            "grid_row": null,
            "grid_template_areas": null,
            "grid_template_columns": null,
            "grid_template_rows": null,
            "height": null,
            "justify_content": null,
            "justify_items": null,
            "left": null,
            "margin": null,
            "max_height": null,
            "max_width": null,
            "min_height": null,
            "min_width": null,
            "object_fit": null,
            "object_position": null,
            "order": null,
            "overflow": null,
            "overflow_x": null,
            "overflow_y": null,
            "padding": null,
            "right": null,
            "top": null,
            "visibility": null,
            "width": null
          }
        },
        "cfa4761e62fc483ba79be2660077a664": {
          "model_module": "@jupyter-widgets/controls",
          "model_name": "TabModel",
          "model_module_version": "1.5.0",
          "state": {
            "_dom_classes": [],
            "_model_module": "@jupyter-widgets/controls",
            "_model_module_version": "1.5.0",
            "_model_name": "TabModel",
            "_titles": {
              "0": "Youtube",
              "1": "Bilibili"
            },
            "_view_count": null,
            "_view_module": "@jupyter-widgets/controls",
            "_view_module_version": "1.5.0",
            "_view_name": "TabView",
            "box_style": "",
            "children": [
              "IPY_MODEL_a43f45e110bf4027bb69ca7a58452d45",
              "IPY_MODEL_18451e3da4944b329f0d7b5f5dd14ee9"
            ],
            "layout": "IPY_MODEL_5c47a6309f534ebcb3edf42f86054f8f",
            "selected_index": 0
          }
        },
        "a43f45e110bf4027bb69ca7a58452d45": {
          "model_module": "@jupyter-widgets/output",
          "model_name": "OutputModel",
          "model_module_version": "1.0.0",
          "state": {
            "_dom_classes": [],
            "_model_module": "@jupyter-widgets/output",
            "_model_module_version": "1.0.0",
            "_model_name": "OutputModel",
            "_view_count": null,
            "_view_module": "@jupyter-widgets/output",
            "_view_module_version": "1.0.0",
            "_view_name": "OutputView",
            "layout": "IPY_MODEL_a82d80fb50ae4c498bc741a9bd8a21f4",
            "msg_id": "",
            "outputs": [
              {
                "output_type": "stream",
                "name": "stdout",
                "text": [
                  "Video available at https://youtube.com/watch?v=Zr6r2kfmQUM\n"
                ]
              },
              {
                "output_type": "display_data",
                "data": {
                  "text/plain": "<IPython.lib.display.YouTubeVideo at 0x7fc2418f1150>",
                  "text/html": "\n        <iframe\n            width=\"854\"\n            height=\"480\"\n            src=\"https://www.youtube.com/embed/Zr6r2kfmQUM?fs=1&rel=0\"\n            frameborder=\"0\"\n            allowfullscreen\n        ></iframe>\n        ",
                  "image/jpeg": "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\n"
                },
                "metadata": {}
              }
            ]
          }
        },
        "18451e3da4944b329f0d7b5f5dd14ee9": {
          "model_module": "@jupyter-widgets/output",
          "model_name": "OutputModel",
          "model_module_version": "1.0.0",
          "state": {
            "_dom_classes": [],
            "_model_module": "@jupyter-widgets/output",
            "_model_module_version": "1.0.0",
            "_model_name": "OutputModel",
            "_view_count": null,
            "_view_module": "@jupyter-widgets/output",
            "_view_module_version": "1.0.0",
            "_view_name": "OutputView",
            "layout": "IPY_MODEL_4e2bf4e38c4c4b34b3c64d38c1d4b303",
            "msg_id": "",
            "outputs": [
              {
                "output_type": "stream",
                "name": "stdout",
                "text": [
                  "Video available at https://www.bilibili.com/video/BV1eq4y1W7JG\n"
                ]
              },
              {
                "output_type": "display_data",
                "data": {
                  "text/plain": "<__main__.BiliVideo at 0x7fc23c568990>",
                  "text/html": "\n        <iframe\n            width=\"854\"\n            height=\"480\"\n            src=\"https://player.bilibili.com/player.html?bvid=BV1eq4y1W7JG&page=1?fs=1\"\n            frameborder=\"0\"\n            allowfullscreen\n        ></iframe>\n        "
                },
                "metadata": {}
              }
            ]
          }
        },
        "5c47a6309f534ebcb3edf42f86054f8f": {
          "model_module": "@jupyter-widgets/base",
          "model_name": "LayoutModel",
          "model_module_version": "1.2.0",
          "state": {
            "_model_module": "@jupyter-widgets/base",
            "_model_module_version": "1.2.0",
            "_model_name": "LayoutModel",
            "_view_count": null,
            "_view_module": "@jupyter-widgets/base",
            "_view_module_version": "1.2.0",
            "_view_name": "LayoutView",
            "align_content": null,
            "align_items": null,
            "align_self": null,
            "border": null,
            "bottom": null,
            "display": null,
            "flex": null,
            "flex_flow": null,
            "grid_area": null,
            "grid_auto_columns": null,
            "grid_auto_flow": null,
            "grid_auto_rows": null,
            "grid_column": null,
            "grid_gap": null,
            "grid_row": null,
            "grid_template_areas": null,
            "grid_template_columns": null,
            "grid_template_rows": null,
            "height": null,
            "justify_content": null,
            "justify_items": null,
            "left": null,
            "margin": null,
            "max_height": null,
            "max_width": null,
            "min_height": null,
            "min_width": null,
            "object_fit": null,
            "object_position": null,
            "order": null,
            "overflow": null,
            "overflow_x": null,
            "overflow_y": null,
            "padding": null,
            "right": null,
            "top": null,
            "visibility": null,
            "width": null
          }
        },
        "a82d80fb50ae4c498bc741a9bd8a21f4": {
          "model_module": "@jupyter-widgets/base",
          "model_name": "LayoutModel",
          "model_module_version": "1.2.0",
          "state": {
            "_model_module": "@jupyter-widgets/base",
            "_model_module_version": "1.2.0",
            "_model_name": "LayoutModel",
            "_view_count": null,
            "_view_module": "@jupyter-widgets/base",
            "_view_module_version": "1.2.0",
            "_view_name": "LayoutView",
            "align_content": null,
            "align_items": null,
            "align_self": null,
            "border": null,
            "bottom": null,
            "display": null,
            "flex": null,
            "flex_flow": null,
            "grid_area": null,
            "grid_auto_columns": null,
            "grid_auto_flow": null,
            "grid_auto_rows": null,
            "grid_column": null,
            "grid_gap": null,
            "grid_row": null,
            "grid_template_areas": null,
            "grid_template_columns": null,
            "grid_template_rows": null,
            "height": null,
            "justify_content": null,
            "justify_items": null,
            "left": null,
            "margin": null,
            "max_height": null,
            "max_width": null,
            "min_height": null,
            "min_width": null,
            "object_fit": null,
            "object_position": null,
            "order": null,
            "overflow": null,
            "overflow_x": null,
            "overflow_y": null,
            "padding": null,
            "right": null,
            "top": null,
            "visibility": null,
            "width": null
          }
        },
        "4e2bf4e38c4c4b34b3c64d38c1d4b303": {
          "model_module": "@jupyter-widgets/base",
          "model_name": "LayoutModel",
          "model_module_version": "1.2.0",
          "state": {
            "_model_module": "@jupyter-widgets/base",
            "_model_module_version": "1.2.0",
            "_model_name": "LayoutModel",
            "_view_count": null,
            "_view_module": "@jupyter-widgets/base",
            "_view_module_version": "1.2.0",
            "_view_name": "LayoutView",
            "align_content": null,
            "align_items": null,
            "align_self": null,
            "border": null,
            "bottom": null,
            "display": null,
            "flex": null,
            "flex_flow": null,
            "grid_area": null,
            "grid_auto_columns": null,
            "grid_auto_flow": null,
            "grid_auto_rows": null,
            "grid_column": null,
            "grid_gap": null,
            "grid_row": null,
            "grid_template_areas": null,
            "grid_template_columns": null,
            "grid_template_rows": null,
            "height": null,
            "justify_content": null,
            "justify_items": null,
            "left": null,
            "margin": null,
            "max_height": null,
            "max_width": null,
            "min_height": null,
            "min_width": null,
            "object_fit": null,
            "object_position": null,
            "order": null,
            "overflow": null,
            "overflow_x": null,
            "overflow_y": null,
            "padding": null,
            "right": null,
            "top": null,
            "visibility": null,
            "width": null
          }
        },
        "f5cb73ac4513476c82363d6ef1d27d8d": {
          "model_module": "@jupyter-widgets/controls",
          "model_name": "VBoxModel",
          "model_module_version": "1.5.0",
          "state": {
            "_dom_classes": [
              "widget-interact"
            ],
            "_model_module": "@jupyter-widgets/controls",
            "_model_module_version": "1.5.0",
            "_model_name": "VBoxModel",
            "_view_count": null,
            "_view_module": "@jupyter-widgets/controls",
            "_view_module_version": "1.5.0",
            "_view_name": "VBoxView",
            "box_style": "",
            "children": [
              "IPY_MODEL_2cbb3d30770c40a0ac0a6f34d5107d06",
              "IPY_MODEL_2b468f02d6034c309e89326390f08f0e",
              "IPY_MODEL_cb494edc00904952b601f5fe5984a4bf",
              "IPY_MODEL_763803f4192e46868413852c2aa36f09",
              "IPY_MODEL_f3d99f707706405380406bce3ae2d444"
            ],
            "layout": "IPY_MODEL_80eb546c5e21456ab30bb5c4f4f4c390"
          }
        },
        "2cbb3d30770c40a0ac0a6f34d5107d06": {
          "model_module": "@jupyter-widgets/controls",
          "model_name": "IntSliderModel",
          "model_module_version": "1.5.0",
          "state": {
            "_dom_classes": [],
            "_model_module": "@jupyter-widgets/controls",
            "_model_module_version": "1.5.0",
            "_model_name": "IntSliderModel",
            "_view_count": null,
            "_view_module": "@jupyter-widgets/controls",
            "_view_module_version": "1.5.0",
            "_view_name": "IntSliderView",
            "continuous_update": true,
            "description": "batch_size",
            "description_tooltip": null,
            "disabled": false,
            "layout": "IPY_MODEL_cd06c5eac6b44b8394501d63aaef3b58",
            "max": 250,
            "min": 25,
            "orientation": "horizontal",
            "readout": true,
            "readout_format": "d",
            "step": 5,
            "style": "IPY_MODEL_acdbb1a6e8c046818f08eb520b07d1d1",
            "value": 135
          }
        },
        "2b468f02d6034c309e89326390f08f0e": {
          "model_module": "@jupyter-widgets/controls",
          "model_name": "FloatLogSliderModel",
          "model_module_version": "1.5.0",
          "state": {
            "_dom_classes": [],
            "_model_module": "@jupyter-widgets/controls",
            "_model_module_version": "1.5.0",
            "_model_name": "FloatLogSliderModel",
            "_view_count": null,
            "_view_module": "@jupyter-widgets/controls",
            "_view_module_version": "1.5.0",
            "_view_name": "FloatLogSliderView",
            "base": 10,
            "continuous_update": true,
            "description": "lr",
            "description_tooltip": null,
            "disabled": false,
            "layout": "IPY_MODEL_d2baacc692ea44a7899be5491fa1ff3a",
            "max": 0,
            "min": -5,
            "orientation": "horizontal",
            "readout": true,
            "readout_format": ".3g",
            "step": 0.1,
            "style": "IPY_MODEL_7f2462bdaa7746479d3196e7c0911e48",
            "value": 0.002
          }
        },
        "cb494edc00904952b601f5fe5984a4bf": {
          "model_module": "@jupyter-widgets/controls",
          "model_name": "IntSliderModel",
          "model_module_version": "1.5.0",
          "state": {
            "_dom_classes": [],
            "_model_module": "@jupyter-widgets/controls",
            "_model_module_version": "1.5.0",
            "_model_name": "IntSliderModel",
            "_view_count": null,
            "_view_module": "@jupyter-widgets/controls",
            "_view_module_version": "1.5.0",
            "_view_name": "IntSliderView",
            "continuous_update": true,
            "description": "max_steps",
            "description_tooltip": null,
            "disabled": false,
            "layout": "IPY_MODEL_6ee52a1f2ae948bbadd56364b1a5462e",
            "max": 500,
            "min": 50,
            "orientation": "horizontal",
            "readout": true,
            "readout_format": "d",
            "step": 5,
            "style": "IPY_MODEL_66ea3d9d1fa045da9e7f99397d5588e9",
            "value": 275
          }
        },
        "763803f4192e46868413852c2aa36f09": {
          "model_module": "@jupyter-widgets/controls",
          "model_name": "ButtonModel",
          "model_module_version": "1.5.0",
          "state": {
            "_dom_classes": [],
            "_model_module": "@jupyter-widgets/controls",
            "_model_module_version": "1.5.0",
            "_model_name": "ButtonModel",
            "_view_count": null,
            "_view_module": "@jupyter-widgets/controls",
            "_view_module_version": "1.5.0",
            "_view_name": "ButtonView",
            "button_style": "",
            "description": "Run Interact",
            "disabled": false,
            "icon": "",
            "layout": "IPY_MODEL_87808a9df86e4afea3f4a70871c2fc8b",
            "style": "IPY_MODEL_4c73bde4bd264b33a8c101e71f2bf9cb",
            "tooltip": ""
          }
        },
        "f3d99f707706405380406bce3ae2d444": {
          "model_module": "@jupyter-widgets/output",
          "model_name": "OutputModel",
          "model_module_version": "1.0.0",
          "state": {
            "_dom_classes": [],
            "_model_module": "@jupyter-widgets/output",
            "_model_module_version": "1.0.0",
            "_model_name": "OutputModel",
            "_view_count": null,
            "_view_module": "@jupyter-widgets/output",
            "_view_module_version": "1.0.0",
            "_view_name": "OutputView",
            "layout": "IPY_MODEL_a1cecc882280494ebbdf4328b1482b07",
            "msg_id": "",
            "outputs": []
          }
        },
        "80eb546c5e21456ab30bb5c4f4f4c390": {
          "model_module": "@jupyter-widgets/base",
          "model_name": "LayoutModel",
          "model_module_version": "1.2.0",
          "state": {
            "_model_module": "@jupyter-widgets/base",
            "_model_module_version": "1.2.0",
            "_model_name": "LayoutModel",
            "_view_count": null,
            "_view_module": "@jupyter-widgets/base",
            "_view_module_version": "1.2.0",
            "_view_name": "LayoutView",
            "align_content": null,
            "align_items": null,
            "align_self": null,
            "border": null,
            "bottom": null,
            "display": null,
            "flex": null,
            "flex_flow": null,
            "grid_area": null,
            "grid_auto_columns": null,
            "grid_auto_flow": null,
            "grid_auto_rows": null,
            "grid_column": null,
            "grid_gap": null,
            "grid_row": null,
            "grid_template_areas": null,
            "grid_template_columns": null,
            "grid_template_rows": null,
            "height": null,
            "justify_content": null,
            "justify_items": null,
            "left": null,
            "margin": null,
            "max_height": null,
            "max_width": null,
            "min_height": null,
            "min_width": null,
            "object_fit": null,
            "object_position": null,
            "order": null,
            "overflow": null,
            "overflow_x": null,
            "overflow_y": null,
            "padding": null,
            "right": null,
            "top": null,
            "visibility": null,
            "width": null
          }
        },
        "cd06c5eac6b44b8394501d63aaef3b58": {
          "model_module": "@jupyter-widgets/base",
          "model_name": "LayoutModel",
          "model_module_version": "1.2.0",
          "state": {
            "_model_module": "@jupyter-widgets/base",
            "_model_module_version": "1.2.0",
            "_model_name": "LayoutModel",
            "_view_count": null,
            "_view_module": "@jupyter-widgets/base",
            "_view_module_version": "1.2.0",
            "_view_name": "LayoutView",
            "align_content": null,
            "align_items": null,
            "align_self": null,
            "border": null,
            "bottom": null,
            "display": null,
            "flex": null,
            "flex_flow": null,
            "grid_area": null,
            "grid_auto_columns": null,
            "grid_auto_flow": null,
            "grid_auto_rows": null,
            "grid_column": null,
            "grid_gap": null,
            "grid_row": null,
            "grid_template_areas": null,
            "grid_template_columns": null,
            "grid_template_rows": null,
            "height": null,
            "justify_content": null,
            "justify_items": null,
            "left": null,
            "margin": null,
            "max_height": null,
            "max_width": null,
            "min_height": null,
            "min_width": null,
            "object_fit": null,
            "object_position": null,
            "order": null,
            "overflow": null,
            "overflow_x": null,
            "overflow_y": null,
            "padding": null,
            "right": null,
            "top": null,
            "visibility": null,
            "width": null
          }
        },
        "acdbb1a6e8c046818f08eb520b07d1d1": {
          "model_module": "@jupyter-widgets/controls",
          "model_name": "SliderStyleModel",
          "model_module_version": "1.5.0",
          "state": {
            "_model_module": "@jupyter-widgets/controls",
            "_model_module_version": "1.5.0",
            "_model_name": "SliderStyleModel",
            "_view_count": null,
            "_view_module": "@jupyter-widgets/base",
            "_view_module_version": "1.2.0",
            "_view_name": "StyleView",
            "description_width": "",
            "handle_color": null
          }
        },
        "d2baacc692ea44a7899be5491fa1ff3a": {
          "model_module": "@jupyter-widgets/base",
          "model_name": "LayoutModel",
          "model_module_version": "1.2.0",
          "state": {
            "_model_module": "@jupyter-widgets/base",
            "_model_module_version": "1.2.0",
            "_model_name": "LayoutModel",
            "_view_count": null,
            "_view_module": "@jupyter-widgets/base",
            "_view_module_version": "1.2.0",
            "_view_name": "LayoutView",
            "align_content": null,
            "align_items": null,
            "align_self": null,
            "border": null,
            "bottom": null,
            "display": null,
            "flex": null,
            "flex_flow": null,
            "grid_area": null,
            "grid_auto_columns": null,
            "grid_auto_flow": null,
            "grid_auto_rows": null,
            "grid_column": null,
            "grid_gap": null,
            "grid_row": null,
            "grid_template_areas": null,
            "grid_template_columns": null,
            "grid_template_rows": null,
            "height": null,
            "justify_content": null,
            "justify_items": null,
            "left": null,
            "margin": null,
            "max_height": null,
            "max_width": null,
            "min_height": null,
            "min_width": null,
            "object_fit": null,
            "object_position": null,
            "order": null,
            "overflow": null,
            "overflow_x": null,
            "overflow_y": null,
            "padding": null,
            "right": null,
            "top": null,
            "visibility": null,
            "width": null
          }
        },
        "7f2462bdaa7746479d3196e7c0911e48": {
          "model_module": "@jupyter-widgets/controls",
          "model_name": "SliderStyleModel",
          "model_module_version": "1.5.0",
          "state": {
            "_model_module": "@jupyter-widgets/controls",
            "_model_module_version": "1.5.0",
            "_model_name": "SliderStyleModel",
            "_view_count": null,
            "_view_module": "@jupyter-widgets/base",
            "_view_module_version": "1.2.0",
            "_view_name": "StyleView",
            "description_width": "",
            "handle_color": null
          }
        },
        "6ee52a1f2ae948bbadd56364b1a5462e": {
          "model_module": "@jupyter-widgets/base",
          "model_name": "LayoutModel",
          "model_module_version": "1.2.0",
          "state": {
            "_model_module": "@jupyter-widgets/base",
            "_model_module_version": "1.2.0",
            "_model_name": "LayoutModel",
            "_view_count": null,
            "_view_module": "@jupyter-widgets/base",
            "_view_module_version": "1.2.0",
            "_view_name": "LayoutView",
            "align_content": null,
            "align_items": null,
            "align_self": null,
            "border": null,
            "bottom": null,
            "display": null,
            "flex": null,
            "flex_flow": null,
            "grid_area": null,
            "grid_auto_columns": null,
            "grid_auto_flow": null,
            "grid_auto_rows": null,
            "grid_column": null,
            "grid_gap": null,
            "grid_row": null,
            "grid_template_areas": null,
            "grid_template_columns": null,
            "grid_template_rows": null,
            "height": null,
            "justify_content": null,
            "justify_items": null,
            "left": null,
            "margin": null,
            "max_height": null,
            "max_width": null,
            "min_height": null,
            "min_width": null,
            "object_fit": null,
            "object_position": null,
            "order": null,
            "overflow": null,
            "overflow_x": null,
            "overflow_y": null,
            "padding": null,
            "right": null,
            "top": null,
            "visibility": null,
            "width": null
          }
        },
        "66ea3d9d1fa045da9e7f99397d5588e9": {
          "model_module": "@jupyter-widgets/controls",
          "model_name": "SliderStyleModel",
          "model_module_version": "1.5.0",
          "state": {
            "_model_module": "@jupyter-widgets/controls",
            "_model_module_version": "1.5.0",
            "_model_name": "SliderStyleModel",
            "_view_count": null,
            "_view_module": "@jupyter-widgets/base",
            "_view_module_version": "1.2.0",
            "_view_name": "StyleView",
            "description_width": "",
            "handle_color": null
          }
        },
        "87808a9df86e4afea3f4a70871c2fc8b": {
          "model_module": "@jupyter-widgets/base",
          "model_name": "LayoutModel",
          "model_module_version": "1.2.0",
          "state": {
            "_model_module": "@jupyter-widgets/base",
            "_model_module_version": "1.2.0",
            "_model_name": "LayoutModel",
            "_view_count": null,
            "_view_module": "@jupyter-widgets/base",
            "_view_module_version": "1.2.0",
            "_view_name": "LayoutView",
            "align_content": null,
            "align_items": null,
            "align_self": null,
            "border": null,
            "bottom": null,
            "display": null,
            "flex": null,
            "flex_flow": null,
            "grid_area": null,
            "grid_auto_columns": null,
            "grid_auto_flow": null,
            "grid_auto_rows": null,
            "grid_column": null,
            "grid_gap": null,
            "grid_row": null,
            "grid_template_areas": null,
            "grid_template_columns": null,
            "grid_template_rows": null,
            "height": null,
            "justify_content": null,
            "justify_items": null,
            "left": null,
            "margin": null,
            "max_height": null,
            "max_width": null,
            "min_height": null,
            "min_width": null,
            "object_fit": null,
            "object_position": null,
            "order": null,
            "overflow": null,
            "overflow_x": null,
            "overflow_y": null,
            "padding": null,
            "right": null,
            "top": null,
            "visibility": null,
            "width": null
          }
        },
        "4c73bde4bd264b33a8c101e71f2bf9cb": {
          "model_module": "@jupyter-widgets/controls",
          "model_name": "ButtonStyleModel",
          "model_module_version": "1.5.0",
          "state": {
            "_model_module": "@jupyter-widgets/controls",
            "_model_module_version": "1.5.0",
            "_model_name": "ButtonStyleModel",
            "_view_count": null,
            "_view_module": "@jupyter-widgets/base",
            "_view_module_version": "1.2.0",
            "_view_name": "StyleView",
            "button_color": null,
            "font_weight": ""
          }
        },
        "a1cecc882280494ebbdf4328b1482b07": {
          "model_module": "@jupyter-widgets/base",
          "model_name": "LayoutModel",
          "model_module_version": "1.2.0",
          "state": {
            "_model_module": "@jupyter-widgets/base",
            "_model_module_version": "1.2.0",
            "_model_name": "LayoutModel",
            "_view_count": null,
            "_view_module": "@jupyter-widgets/base",
            "_view_module_version": "1.2.0",
            "_view_name": "LayoutView",
            "align_content": null,
            "align_items": null,
            "align_self": null,
            "border": null,
            "bottom": null,
            "display": null,
            "flex": null,
            "flex_flow": null,
            "grid_area": null,
            "grid_auto_columns": null,
            "grid_auto_flow": null,
            "grid_auto_rows": null,
            "grid_column": null,
            "grid_gap": null,
            "grid_row": null,
            "grid_template_areas": null,
            "grid_template_columns": null,
            "grid_template_rows": null,
            "height": null,
            "justify_content": null,
            "justify_items": null,
            "left": null,
            "margin": null,
            "max_height": null,
            "max_width": null,
            "min_height": null,
            "min_width": null,
            "object_fit": null,
            "object_position": null,
            "order": null,
            "overflow": null,
            "overflow_x": null,
            "overflow_y": null,
            "padding": null,
            "right": null,
            "top": null,
            "visibility": null,
            "width": null
          }
        },
        "3621de422f3045cdadb5c5518467d1e4": {
          "model_module": "@jupyter-widgets/controls",
          "model_name": "TextareaModel",
          "model_module_version": "1.5.0",
          "state": {
            "_dom_classes": [],
            "_model_module": "@jupyter-widgets/controls",
            "_model_module_version": "1.5.0",
            "_model_name": "TextareaModel",
            "_view_count": null,
            "_view_module": "@jupyter-widgets/controls",
            "_view_module_version": "1.5.0",
            "_view_name": "TextareaView",
            "continuous_update": true,
            "description": "",
            "description_tooltip": null,
            "disabled": false,
            "layout": "IPY_MODEL_08f4028c0a284076b35164e340f77738",
            "placeholder": "Type something",
            "rows": null,
            "style": "IPY_MODEL_9385302feb86419288010a0b4783dac9",
            "value": "Type your answer here and click on `Submit!`"
          }
        },
        "08f4028c0a284076b35164e340f77738": {
          "model_module": "@jupyter-widgets/base",
          "model_name": "LayoutModel",
          "model_module_version": "1.2.0",
          "state": {
            "_model_module": "@jupyter-widgets/base",
            "_model_module_version": "1.2.0",
            "_model_name": "LayoutModel",
            "_view_count": null,
            "_view_module": "@jupyter-widgets/base",
            "_view_module_version": "1.2.0",
            "_view_name": "LayoutView",
            "align_content": null,
            "align_items": null,
            "align_self": null,
            "border": null,
            "bottom": null,
            "display": null,
            "flex": null,
            "flex_flow": null,
            "grid_area": null,
            "grid_auto_columns": null,
            "grid_auto_flow": null,
            "grid_auto_rows": null,
            "grid_column": null,
            "grid_gap": null,
            "grid_row": null,
            "grid_template_areas": null,
            "grid_template_columns": null,
            "grid_template_rows": null,
            "height": null,
            "justify_content": null,
            "justify_items": null,
            "left": null,
            "margin": null,
            "max_height": null,
            "max_width": null,
            "min_height": null,
            "min_width": null,
            "object_fit": null,
            "object_position": null,
            "order": null,
            "overflow": null,
            "overflow_x": null,
            "overflow_y": null,
            "padding": null,
            "right": null,
            "top": null,
            "visibility": null,
            "width": null
          }
        },
        "9385302feb86419288010a0b4783dac9": {
          "model_module": "@jupyter-widgets/controls",
          "model_name": "DescriptionStyleModel",
          "model_module_version": "1.5.0",
          "state": {
            "_model_module": "@jupyter-widgets/controls",
            "_model_module_version": "1.5.0",
            "_model_name": "DescriptionStyleModel",
            "_view_count": null,
            "_view_module": "@jupyter-widgets/base",
            "_view_module_version": "1.2.0",
            "_view_name": "StyleView",
            "description_width": ""
          }
        },
        "a1acb3b63eba412e8728b5b0fd1859ec": {
          "model_module": "@jupyter-widgets/controls",
          "model_name": "ButtonModel",
          "model_module_version": "1.5.0",
          "state": {
            "_dom_classes": [],
            "_model_module": "@jupyter-widgets/controls",
            "_model_module_version": "1.5.0",
            "_model_name": "ButtonModel",
            "_view_count": null,
            "_view_module": "@jupyter-widgets/controls",
            "_view_module_version": "1.5.0",
            "_view_name": "ButtonView",
            "button_style": "",
            "description": "Submit!",
            "disabled": false,
            "icon": "",
            "layout": "IPY_MODEL_fda4085574a14ec3a5fe06d31ca997c6",
            "style": "IPY_MODEL_497d00b5e23f4c25909235744182f226",
            "tooltip": ""
          }
        },
        "fda4085574a14ec3a5fe06d31ca997c6": {
          "model_module": "@jupyter-widgets/base",
          "model_name": "LayoutModel",
          "model_module_version": "1.2.0",
          "state": {
            "_model_module": "@jupyter-widgets/base",
            "_model_module_version": "1.2.0",
            "_model_name": "LayoutModel",
            "_view_count": null,
            "_view_module": "@jupyter-widgets/base",
            "_view_module_version": "1.2.0",
            "_view_name": "LayoutView",
            "align_content": null,
            "align_items": null,
            "align_self": null,
            "border": null,
            "bottom": null,
            "display": null,
            "flex": null,
            "flex_flow": null,
            "grid_area": null,
            "grid_auto_columns": null,
            "grid_auto_flow": null,
            "grid_auto_rows": null,
            "grid_column": null,
            "grid_gap": null,
            "grid_row": null,
            "grid_template_areas": null,
            "grid_template_columns": null,
            "grid_template_rows": null,
            "height": null,
            "justify_content": null,
            "justify_items": null,
            "left": null,
            "margin": null,
            "max_height": null,
            "max_width": null,
            "min_height": null,
            "min_width": null,
            "object_fit": null,
            "object_position": null,
            "order": null,
            "overflow": null,
            "overflow_x": null,
            "overflow_y": null,
            "padding": null,
            "right": null,
            "top": null,
            "visibility": null,
            "width": null
          }
        },
        "497d00b5e23f4c25909235744182f226": {
          "model_module": "@jupyter-widgets/controls",
          "model_name": "ButtonStyleModel",
          "model_module_version": "1.5.0",
          "state": {
            "_model_module": "@jupyter-widgets/controls",
            "_model_module_version": "1.5.0",
            "_model_name": "ButtonStyleModel",
            "_view_count": null,
            "_view_module": "@jupyter-widgets/base",
            "_view_module_version": "1.2.0",
            "_view_name": "StyleView",
            "button_color": null,
            "font_weight": ""
          }
        },
        "6140e5a2558f477f972d4e04efed7fa3": {
          "model_module": "@jupyter-widgets/controls",
          "model_name": "TabModel",
          "model_module_version": "1.5.0",
          "state": {
            "_dom_classes": [],
            "_model_module": "@jupyter-widgets/controls",
            "_model_module_version": "1.5.0",
            "_model_name": "TabModel",
            "_titles": {
              "0": "Youtube",
              "1": "Bilibili"
            },
            "_view_count": null,
            "_view_module": "@jupyter-widgets/controls",
            "_view_module_version": "1.5.0",
            "_view_name": "TabView",
            "box_style": "",
            "children": [
              "IPY_MODEL_d9d54a4c0e5649059855910353bae24d",
              "IPY_MODEL_8e1a2dd723824075a6cd601851b2ff37"
            ],
            "layout": "IPY_MODEL_fc45548a310b4a8081fa2042e8f6014f",
            "selected_index": 0
          }
        },
        "d9d54a4c0e5649059855910353bae24d": {
          "model_module": "@jupyter-widgets/output",
          "model_name": "OutputModel",
          "model_module_version": "1.0.0",
          "state": {
            "_dom_classes": [],
            "_model_module": "@jupyter-widgets/output",
            "_model_module_version": "1.0.0",
            "_model_name": "OutputModel",
            "_view_count": null,
            "_view_module": "@jupyter-widgets/output",
            "_view_module_version": "1.0.0",
            "_view_name": "OutputView",
            "layout": "IPY_MODEL_0381c397ff8642b7bb8db773f58b52a9",
            "msg_id": "",
            "outputs": [
              {
                "output_type": "stream",
                "name": "stdout",
                "text": [
                  "Video available at https://youtube.com/watch?v=0EthSI0cknI\n"
                ]
              },
              {
                "output_type": "display_data",
                "data": {
                  "text/plain": "<IPython.lib.display.YouTubeVideo at 0x7fc23ba66b50>",
                  "text/html": "\n        <iframe\n            width=\"854\"\n            height=\"480\"\n            src=\"https://www.youtube.com/embed/0EthSI0cknI?fs=1&rel=0\"\n            frameborder=\"0\"\n            allowfullscreen\n        ></iframe>\n        ",
                  "image/jpeg": "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\n"
                },
                "metadata": {}
              }
            ]
          }
        },
        "8e1a2dd723824075a6cd601851b2ff37": {
          "model_module": "@jupyter-widgets/output",
          "model_name": "OutputModel",
          "model_module_version": "1.0.0",
          "state": {
            "_dom_classes": [],
            "_model_module": "@jupyter-widgets/output",
            "_model_module_version": "1.0.0",
            "_model_name": "OutputModel",
            "_view_count": null,
            "_view_module": "@jupyter-widgets/output",
            "_view_module_version": "1.0.0",
            "_view_name": "OutputView",
            "layout": "IPY_MODEL_418255a0dfb442438a0e7da582971173",
            "msg_id": "",
            "outputs": [
              {
                "output_type": "stream",
                "name": "stdout",
                "text": [
                  "Video available at https://www.bilibili.com/video/BV1TU4y1G7Je\n"
                ]
              },
              {
                "output_type": "display_data",
                "data": {
                  "text/plain": "<__main__.BiliVideo at 0x7fc23c3e32d0>",
                  "text/html": "\n        <iframe\n            width=\"854\"\n            height=\"480\"\n            src=\"https://player.bilibili.com/player.html?bvid=BV1TU4y1G7Je&page=1?fs=1\"\n            frameborder=\"0\"\n            allowfullscreen\n        ></iframe>\n        "
                },
                "metadata": {}
              }
            ]
          }
        },
        "fc45548a310b4a8081fa2042e8f6014f": {
          "model_module": "@jupyter-widgets/base",
          "model_name": "LayoutModel",
          "model_module_version": "1.2.0",
          "state": {
            "_model_module": "@jupyter-widgets/base",
            "_model_module_version": "1.2.0",
            "_model_name": "LayoutModel",
            "_view_count": null,
            "_view_module": "@jupyter-widgets/base",
            "_view_module_version": "1.2.0",
            "_view_name": "LayoutView",
            "align_content": null,
            "align_items": null,
            "align_self": null,
            "border": null,
            "bottom": null,
            "display": null,
            "flex": null,
            "flex_flow": null,
            "grid_area": null,
            "grid_auto_columns": null,
            "grid_auto_flow": null,
            "grid_auto_rows": null,
            "grid_column": null,
            "grid_gap": null,
            "grid_row": null,
            "grid_template_areas": null,
            "grid_template_columns": null,
            "grid_template_rows": null,
            "height": null,
            "justify_content": null,
            "justify_items": null,
            "left": null,
            "margin": null,
            "max_height": null,
            "max_width": null,
            "min_height": null,
            "min_width": null,
            "object_fit": null,
            "object_position": null,
            "order": null,
            "overflow": null,
            "overflow_x": null,
            "overflow_y": null,
            "padding": null,
            "right": null,
            "top": null,
            "visibility": null,
            "width": null
          }
        },
        "0381c397ff8642b7bb8db773f58b52a9": {
          "model_module": "@jupyter-widgets/base",
          "model_name": "LayoutModel",
          "model_module_version": "1.2.0",
          "state": {
            "_model_module": "@jupyter-widgets/base",
            "_model_module_version": "1.2.0",
            "_model_name": "LayoutModel",
            "_view_count": null,
            "_view_module": "@jupyter-widgets/base",
            "_view_module_version": "1.2.0",
            "_view_name": "LayoutView",
            "align_content": null,
            "align_items": null,
            "align_self": null,
            "border": null,
            "bottom": null,
            "display": null,
            "flex": null,
            "flex_flow": null,
            "grid_area": null,
            "grid_auto_columns": null,
            "grid_auto_flow": null,
            "grid_auto_rows": null,
            "grid_column": null,
            "grid_gap": null,
            "grid_row": null,
            "grid_template_areas": null,
            "grid_template_columns": null,
            "grid_template_rows": null,
            "height": null,
            "justify_content": null,
            "justify_items": null,
            "left": null,
            "margin": null,
            "max_height": null,
            "max_width": null,
            "min_height": null,
            "min_width": null,
            "object_fit": null,
            "object_position": null,
            "order": null,
            "overflow": null,
            "overflow_x": null,
            "overflow_y": null,
            "padding": null,
            "right": null,
            "top": null,
            "visibility": null,
            "width": null
          }
        },
        "418255a0dfb442438a0e7da582971173": {
          "model_module": "@jupyter-widgets/base",
          "model_name": "LayoutModel",
          "model_module_version": "1.2.0",
          "state": {
            "_model_module": "@jupyter-widgets/base",
            "_model_module_version": "1.2.0",
            "_model_name": "LayoutModel",
            "_view_count": null,
            "_view_module": "@jupyter-widgets/base",
            "_view_module_version": "1.2.0",
            "_view_name": "LayoutView",
            "align_content": null,
            "align_items": null,
            "align_self": null,
            "border": null,
            "bottom": null,
            "display": null,
            "flex": null,
            "flex_flow": null,
            "grid_area": null,
            "grid_auto_columns": null,
            "grid_auto_flow": null,
            "grid_auto_rows": null,
            "grid_column": null,
            "grid_gap": null,
            "grid_row": null,
            "grid_template_areas": null,
            "grid_template_columns": null,
            "grid_template_rows": null,
            "height": null,
            "justify_content": null,
            "justify_items": null,
            "left": null,
            "margin": null,
            "max_height": null,
            "max_width": null,
            "min_height": null,
            "min_width": null,
            "object_fit": null,
            "object_position": null,
            "order": null,
            "overflow": null,
            "overflow_x": null,
            "overflow_y": null,
            "padding": null,
            "right": null,
            "top": null,
            "visibility": null,
            "width": null
          }
        },
        "c025abb17ba2448b9cd03394ff68fdf1": {
          "model_module": "@jupyter-widgets/controls",
          "model_name": "TabModel",
          "model_module_version": "1.5.0",
          "state": {
            "_dom_classes": [],
            "_model_module": "@jupyter-widgets/controls",
            "_model_module_version": "1.5.0",
            "_model_name": "TabModel",
            "_titles": {
              "0": "Youtube",
              "1": "Bilibili"
            },
            "_view_count": null,
            "_view_module": "@jupyter-widgets/controls",
            "_view_module_version": "1.5.0",
            "_view_name": "TabView",
            "box_style": "",
            "children": [
              "IPY_MODEL_385904b43f1a4d32b95178a54fd54e36",
              "IPY_MODEL_dc1890721e5346a9bf0c67865012815d"
            ],
            "layout": "IPY_MODEL_3c9dc2ce93f34803b86e575f851dc330",
            "selected_index": 0
          }
        },
        "385904b43f1a4d32b95178a54fd54e36": {
          "model_module": "@jupyter-widgets/output",
          "model_name": "OutputModel",
          "model_module_version": "1.0.0",
          "state": {
            "_dom_classes": [],
            "_model_module": "@jupyter-widgets/output",
            "_model_module_version": "1.0.0",
            "_model_name": "OutputModel",
            "_view_count": null,
            "_view_module": "@jupyter-widgets/output",
            "_view_module_version": "1.0.0",
            "_view_name": "OutputView",
            "layout": "IPY_MODEL_951a7ccc2a68476e8defe8286b9336d9",
            "msg_id": "",
            "outputs": [
              {
                "output_type": "stream",
                "name": "stdout",
                "text": [
                  "Video available at https://youtube.com/watch?v=DP9c13vLiOM\n"
                ]
              },
              {
                "output_type": "display_data",
                "data": {
                  "text/plain": "<IPython.lib.display.YouTubeVideo at 0x7fc23c5c9c10>",
                  "text/html": "\n        <iframe\n            width=\"854\"\n            height=\"480\"\n            src=\"https://www.youtube.com/embed/DP9c13vLiOM?fs=1&rel=0\"\n            frameborder=\"0\"\n            allowfullscreen\n        ></iframe>\n        ",
                  "image/jpeg": "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\n"
                },
                "metadata": {}
              }
            ]
          }
        },
        "dc1890721e5346a9bf0c67865012815d": {
          "model_module": "@jupyter-widgets/output",
          "model_name": "OutputModel",
          "model_module_version": "1.0.0",
          "state": {
            "_dom_classes": [],
            "_model_module": "@jupyter-widgets/output",
            "_model_module_version": "1.0.0",
            "_model_name": "OutputModel",
            "_view_count": null,
            "_view_module": "@jupyter-widgets/output",
            "_view_module_version": "1.0.0",
            "_view_name": "OutputView",
            "layout": "IPY_MODEL_e9badef246b84464bbbfe96475d72712",
            "msg_id": "",
            "outputs": [
              {
                "output_type": "stream",
                "name": "stdout",
                "text": [
                  "Video available at https://www.bilibili.com/video/BV1MK4y1u7u2\n"
                ]
              },
              {
                "output_type": "display_data",
                "data": {
                  "text/plain": "<__main__.BiliVideo at 0x7fc23de83f90>",
                  "text/html": "\n        <iframe\n            width=\"854\"\n            height=\"480\"\n            src=\"https://player.bilibili.com/player.html?bvid=BV1MK4y1u7u2&page=1?fs=1\"\n            frameborder=\"0\"\n            allowfullscreen\n        ></iframe>\n        "
                },
                "metadata": {}
              }
            ]
          }
        },
        "3c9dc2ce93f34803b86e575f851dc330": {
          "model_module": "@jupyter-widgets/base",
          "model_name": "LayoutModel",
          "model_module_version": "1.2.0",
          "state": {
            "_model_module": "@jupyter-widgets/base",
            "_model_module_version": "1.2.0",
            "_model_name": "LayoutModel",
            "_view_count": null,
            "_view_module": "@jupyter-widgets/base",
            "_view_module_version": "1.2.0",
            "_view_name": "LayoutView",
            "align_content": null,
            "align_items": null,
            "align_self": null,
            "border": null,
            "bottom": null,
            "display": null,
            "flex": null,
            "flex_flow": null,
            "grid_area": null,
            "grid_auto_columns": null,
            "grid_auto_flow": null,
            "grid_auto_rows": null,
            "grid_column": null,
            "grid_gap": null,
            "grid_row": null,
            "grid_template_areas": null,
            "grid_template_columns": null,
            "grid_template_rows": null,
            "height": null,
            "justify_content": null,
            "justify_items": null,
            "left": null,
            "margin": null,
            "max_height": null,
            "max_width": null,
            "min_height": null,
            "min_width": null,
            "object_fit": null,
            "object_position": null,
            "order": null,
            "overflow": null,
            "overflow_x": null,
            "overflow_y": null,
            "padding": null,
            "right": null,
            "top": null,
            "visibility": null,
            "width": null
          }
        },
        "951a7ccc2a68476e8defe8286b9336d9": {
          "model_module": "@jupyter-widgets/base",
          "model_name": "LayoutModel",
          "model_module_version": "1.2.0",
          "state": {
            "_model_module": "@jupyter-widgets/base",
            "_model_module_version": "1.2.0",
            "_model_name": "LayoutModel",
            "_view_count": null,
            "_view_module": "@jupyter-widgets/base",
            "_view_module_version": "1.2.0",
            "_view_name": "LayoutView",
            "align_content": null,
            "align_items": null,
            "align_self": null,
            "border": null,
            "bottom": null,
            "display": null,
            "flex": null,
            "flex_flow": null,
            "grid_area": null,
            "grid_auto_columns": null,
            "grid_auto_flow": null,
            "grid_auto_rows": null,
            "grid_column": null,
            "grid_gap": null,
            "grid_row": null,
            "grid_template_areas": null,
            "grid_template_columns": null,
            "grid_template_rows": null,
            "height": null,
            "justify_content": null,
            "justify_items": null,
            "left": null,
            "margin": null,
            "max_height": null,
            "max_width": null,
            "min_height": null,
            "min_width": null,
            "object_fit": null,
            "object_position": null,
            "order": null,
            "overflow": null,
            "overflow_x": null,
            "overflow_y": null,
            "padding": null,
            "right": null,
            "top": null,
            "visibility": null,
            "width": null
          }
        },
        "e9badef246b84464bbbfe96475d72712": {
          "model_module": "@jupyter-widgets/base",
          "model_name": "LayoutModel",
          "model_module_version": "1.2.0",
          "state": {
            "_model_module": "@jupyter-widgets/base",
            "_model_module_version": "1.2.0",
            "_model_name": "LayoutModel",
            "_view_count": null,
            "_view_module": "@jupyter-widgets/base",
            "_view_module_version": "1.2.0",
            "_view_name": "LayoutView",
            "align_content": null,
            "align_items": null,
            "align_self": null,
            "border": null,
            "bottom": null,
            "display": null,
            "flex": null,
            "flex_flow": null,
            "grid_area": null,
            "grid_auto_columns": null,
            "grid_auto_flow": null,
            "grid_auto_rows": null,
            "grid_column": null,
            "grid_gap": null,
            "grid_row": null,
            "grid_template_areas": null,
            "grid_template_columns": null,
            "grid_template_rows": null,
            "height": null,
            "justify_content": null,
            "justify_items": null,
            "left": null,
            "margin": null,
            "max_height": null,
            "max_width": null,
            "min_height": null,
            "min_width": null,
            "object_fit": null,
            "object_position": null,
            "order": null,
            "overflow": null,
            "overflow_x": null,
            "overflow_y": null,
            "padding": null,
            "right": null,
            "top": null,
            "visibility": null,
            "width": null
          }
        },
        "fa8abd813b5c431589c502020750ff14": {
          "model_module": "@jupyter-widgets/controls",
          "model_name": "HBoxModel",
          "model_module_version": "1.5.0",
          "state": {
            "_dom_classes": [],
            "_model_module": "@jupyter-widgets/controls",
            "_model_module_version": "1.5.0",
            "_model_name": "HBoxModel",
            "_view_count": null,
            "_view_module": "@jupyter-widgets/controls",
            "_view_module_version": "1.5.0",
            "_view_name": "HBoxView",
            "box_style": "",
            "children": [
              "IPY_MODEL_cd848c7c241d449ab3f21db75f11a203",
              "IPY_MODEL_f2bcc82d9a5a40b1b6d8e5a2f614d8ab",
              "IPY_MODEL_34655ae0762b4846a10fae20e959ba7b"
            ],
            "layout": "IPY_MODEL_d0370e4e6ebc4f2a80f7fde33784bffd"
          }
        },
        "cd848c7c241d449ab3f21db75f11a203": {
          "model_module": "@jupyter-widgets/controls",
          "model_name": "HTMLModel",
          "model_module_version": "1.5.0",
          "state": {
            "_dom_classes": [],
            "_model_module": "@jupyter-widgets/controls",
            "_model_module_version": "1.5.0",
            "_model_name": "HTMLModel",
            "_view_count": null,
            "_view_module": "@jupyter-widgets/controls",
            "_view_module_version": "1.5.0",
            "_view_name": "HTMLView",
            "description": "",
            "description_tooltip": null,
            "layout": "IPY_MODEL_c30711602abd4522b101ecb13634572c",
            "placeholder": "​",
            "style": "IPY_MODEL_4c16c5a627424648bfef8351af8a2f16",
            "value": "100%"
          }
        },
        "f2bcc82d9a5a40b1b6d8e5a2f614d8ab": {
          "model_module": "@jupyter-widgets/controls",
          "model_name": "FloatProgressModel",
          "model_module_version": "1.5.0",
          "state": {
            "_dom_classes": [],
            "_model_module": "@jupyter-widgets/controls",
            "_model_module_version": "1.5.0",
            "_model_name": "FloatProgressModel",
            "_view_count": null,
            "_view_module": "@jupyter-widgets/controls",
            "_view_module_version": "1.5.0",
            "_view_name": "ProgressView",
            "bar_style": "success",
            "description": "",
            "description_tooltip": null,
            "layout": "IPY_MODEL_a1c7bb1c40a149499996acd1d70db29e",
            "max": 2,
            "min": 0,
            "orientation": "horizontal",
            "style": "IPY_MODEL_d96c94a361944684a235b57807e8b3cf",
            "value": 2
          }
        },
        "34655ae0762b4846a10fae20e959ba7b": {
          "model_module": "@jupyter-widgets/controls",
          "model_name": "HTMLModel",
          "model_module_version": "1.5.0",
          "state": {
            "_dom_classes": [],
            "_model_module": "@jupyter-widgets/controls",
            "_model_module_version": "1.5.0",
            "_model_name": "HTMLModel",
            "_view_count": null,
            "_view_module": "@jupyter-widgets/controls",
            "_view_module_version": "1.5.0",
            "_view_name": "HTMLView",
            "description": "",
            "description_tooltip": null,
            "layout": "IPY_MODEL_ecefe34acf824d3084547d6d64e40005",
            "placeholder": "​",
            "style": "IPY_MODEL_d2bba3b143654db38cc835b18a2c4aec",
            "value": " 2/2 [00:37&lt;00:00, 18.93s/it]"
          }
        },
        "d0370e4e6ebc4f2a80f7fde33784bffd": {
          "model_module": "@jupyter-widgets/base",
          "model_name": "LayoutModel",
          "model_module_version": "1.2.0",
          "state": {
            "_model_module": "@jupyter-widgets/base",
            "_model_module_version": "1.2.0",
            "_model_name": "LayoutModel",
            "_view_count": null,
            "_view_module": "@jupyter-widgets/base",
            "_view_module_version": "1.2.0",
            "_view_name": "LayoutView",
            "align_content": null,
            "align_items": null,
            "align_self": null,
            "border": null,
            "bottom": null,
            "display": null,
            "flex": null,
            "flex_flow": null,
            "grid_area": null,
            "grid_auto_columns": null,
            "grid_auto_flow": null,
            "grid_auto_rows": null,
            "grid_column": null,
            "grid_gap": null,
            "grid_row": null,
            "grid_template_areas": null,
            "grid_template_columns": null,
            "grid_template_rows": null,
            "height": null,
            "justify_content": null,
            "justify_items": null,
            "left": null,
            "margin": null,
            "max_height": null,
            "max_width": null,
            "min_height": null,
            "min_width": null,
            "object_fit": null,
            "object_position": null,
            "order": null,
            "overflow": null,
            "overflow_x": null,
            "overflow_y": null,
            "padding": null,
            "right": null,
            "top": null,
            "visibility": null,
            "width": null
          }
        },
        "c30711602abd4522b101ecb13634572c": {
          "model_module": "@jupyter-widgets/base",
          "model_name": "LayoutModel",
          "model_module_version": "1.2.0",
          "state": {
            "_model_module": "@jupyter-widgets/base",
            "_model_module_version": "1.2.0",
            "_model_name": "LayoutModel",
            "_view_count": null,
            "_view_module": "@jupyter-widgets/base",
            "_view_module_version": "1.2.0",
            "_view_name": "LayoutView",
            "align_content": null,
            "align_items": null,
            "align_self": null,
            "border": null,
            "bottom": null,
            "display": null,
            "flex": null,
            "flex_flow": null,
            "grid_area": null,
            "grid_auto_columns": null,
            "grid_auto_flow": null,
            "grid_auto_rows": null,
            "grid_column": null,
            "grid_gap": null,
            "grid_row": null,
            "grid_template_areas": null,
            "grid_template_columns": null,
            "grid_template_rows": null,
            "height": null,
            "justify_content": null,
            "justify_items": null,
            "left": null,
            "margin": null,
            "max_height": null,
            "max_width": null,
            "min_height": null,
            "min_width": null,
            "object_fit": null,
            "object_position": null,
            "order": null,
            "overflow": null,
            "overflow_x": null,
            "overflow_y": null,
            "padding": null,
            "right": null,
            "top": null,
            "visibility": null,
            "width": null
          }
        },
        "4c16c5a627424648bfef8351af8a2f16": {
          "model_module": "@jupyter-widgets/controls",
          "model_name": "DescriptionStyleModel",
          "model_module_version": "1.5.0",
          "state": {
            "_model_module": "@jupyter-widgets/controls",
            "_model_module_version": "1.5.0",
            "_model_name": "DescriptionStyleModel",
            "_view_count": null,
            "_view_module": "@jupyter-widgets/base",
            "_view_module_version": "1.2.0",
            "_view_name": "StyleView",
            "description_width": ""
          }
        },
        "a1c7bb1c40a149499996acd1d70db29e": {
          "model_module": "@jupyter-widgets/base",
          "model_name": "LayoutModel",
          "model_module_version": "1.2.0",
          "state": {
            "_model_module": "@jupyter-widgets/base",
            "_model_module_version": "1.2.0",
            "_model_name": "LayoutModel",
            "_view_count": null,
            "_view_module": "@jupyter-widgets/base",
            "_view_module_version": "1.2.0",
            "_view_name": "LayoutView",
            "align_content": null,
            "align_items": null,
            "align_self": null,
            "border": null,
            "bottom": null,
            "display": null,
            "flex": null,
            "flex_flow": null,
            "grid_area": null,
            "grid_auto_columns": null,
            "grid_auto_flow": null,
            "grid_auto_rows": null,
            "grid_column": null,
            "grid_gap": null,
            "grid_row": null,
            "grid_template_areas": null,
            "grid_template_columns": null,
            "grid_template_rows": null,
            "height": null,
            "justify_content": null,
            "justify_items": null,
            "left": null,
            "margin": null,
            "max_height": null,
            "max_width": null,
            "min_height": null,
            "min_width": null,
            "object_fit": null,
            "object_position": null,
            "order": null,
            "overflow": null,
            "overflow_x": null,
            "overflow_y": null,
            "padding": null,
            "right": null,
            "top": null,
            "visibility": null,
            "width": null
          }
        },
        "d96c94a361944684a235b57807e8b3cf": {
          "model_module": "@jupyter-widgets/controls",
          "model_name": "ProgressStyleModel",
          "model_module_version": "1.5.0",
          "state": {
            "_model_module": "@jupyter-widgets/controls",
            "_model_module_version": "1.5.0",
            "_model_name": "ProgressStyleModel",
            "_view_count": null,
            "_view_module": "@jupyter-widgets/base",
            "_view_module_version": "1.2.0",
            "_view_name": "StyleView",
            "bar_color": null,
            "description_width": ""
          }
        },
        "ecefe34acf824d3084547d6d64e40005": {
          "model_module": "@jupyter-widgets/base",
          "model_name": "LayoutModel",
          "model_module_version": "1.2.0",
          "state": {
            "_model_module": "@jupyter-widgets/base",
            "_model_module_version": "1.2.0",
            "_model_name": "LayoutModel",
            "_view_count": null,
            "_view_module": "@jupyter-widgets/base",
            "_view_module_version": "1.2.0",
            "_view_name": "LayoutView",
            "align_content": null,
            "align_items": null,
            "align_self": null,
            "border": null,
            "bottom": null,
            "display": null,
            "flex": null,
            "flex_flow": null,
            "grid_area": null,
            "grid_auto_columns": null,
            "grid_auto_flow": null,
            "grid_auto_rows": null,
            "grid_column": null,
            "grid_gap": null,
            "grid_row": null,
            "grid_template_areas": null,
            "grid_template_columns": null,
            "grid_template_rows": null,
            "height": null,
            "justify_content": null,
            "justify_items": null,
            "left": null,
            "margin": null,
            "max_height": null,
            "max_width": null,
            "min_height": null,
            "min_width": null,
            "object_fit": null,
            "object_position": null,
            "order": null,
            "overflow": null,
            "overflow_x": null,
            "overflow_y": null,
            "padding": null,
            "right": null,
            "top": null,
            "visibility": null,
            "width": null
          }
        },
        "d2bba3b143654db38cc835b18a2c4aec": {
          "model_module": "@jupyter-widgets/controls",
          "model_name": "DescriptionStyleModel",
          "model_module_version": "1.5.0",
          "state": {
            "_model_module": "@jupyter-widgets/controls",
            "_model_module_version": "1.5.0",
            "_model_name": "DescriptionStyleModel",
            "_view_count": null,
            "_view_module": "@jupyter-widgets/base",
            "_view_module_version": "1.2.0",
            "_view_name": "StyleView",
            "description_width": ""
          }
        }
      }
    }
  },
  "nbformat": 4,
  "nbformat_minor": 0
}