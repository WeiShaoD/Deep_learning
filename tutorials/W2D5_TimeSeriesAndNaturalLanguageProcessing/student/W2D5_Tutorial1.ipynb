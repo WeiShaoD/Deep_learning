{
  "cells": [
    {
      "cell_type": "markdown",
      "metadata": {
        "id": "view-in-github",
        "colab_type": "text"
      },
      "source": [
        "<a href=\"https://colab.research.google.com/github/WeiShaoD/Deep_learning/blob/main/tutorials/W2D5_TimeSeriesAndNaturalLanguageProcessing/student/W2D5_Tutorial1.ipynb\" target=\"_parent\"><img src=\"https://colab.research.google.com/assets/colab-badge.svg\" alt=\"Open In Colab\"/></a>"
      ]
    },
    {
      "cell_type": "markdown",
      "metadata": {
        "execution": {},
        "id": "IHMAwuNf_f0M"
      },
      "source": [
        "# Tutorial 1: Introduction to processing time series\n",
        "\n",
        "**Week 2, Day 5: Time Series And Natural Language Processing**\n",
        "\n",
        "**By Neuromatch Academy**\n",
        "\n",
        "__Content creators:__ Lyle Ungar, Kelson Shilling-Scrivo, Alish Dipani\n",
        "\n",
        "__Content reviewers:__ Kelson Shilling-Scrivo\n",
        "\n",
        "__Content editors:__ Gagana B, Spiros Chavlis, Kelson Shilling-Scrivo\n",
        "\n",
        "__Production editors:__ Gagana B, Spiros Chavlis\n",
        "\n",
        "<br>\n",
        "\n",
        "_Based on Content from: Anushree Hede, Pooja Consul, Ann-Katrin Reuel_"
      ]
    },
    {
      "cell_type": "markdown",
      "metadata": {
        "execution": {},
        "id": "KHWY9S9p_f0T"
      },
      "source": [
        "<p align='center'><img src='https://github.com/NeuromatchAcademy/widgets/blob/master/sponsors.png?raw=True'/></p>"
      ]
    },
    {
      "cell_type": "markdown",
      "metadata": {
        "execution": {},
        "id": "R_VEF5Vl_f0U"
      },
      "source": [
        "----\n",
        "# Tutorial objectives\n",
        "\n",
        "Before we begin exploring how Recurrent Neural Networks (RNNs) excel at modeling sequences, we will explore other ways we can model sequences, encode text, and make meaningful measurements using such encodings and embeddings."
      ]
    },
    {
      "cell_type": "code",
      "execution_count": 1,
      "metadata": {
        "cellView": "form",
        "execution": {},
        "id": "ZGicd8pU_f0U",
        "outputId": "8307815e-c712-4ae2-cb0b-ef9ce646681b",
        "colab": {
          "base_uri": "https://localhost:8080/",
          "height": 501
        }
      },
      "outputs": [
        {
          "output_type": "execute_result",
          "data": {
            "text/plain": [
              "<IPython.lib.display.IFrame at 0x7f7084c08550>"
            ],
            "text/html": [
              "\n",
              "        <iframe\n",
              "            width=\"854\"\n",
              "            height=\"480\"\n",
              "            src=\"https://mfr.ca-1.osf.io/render?url=https://osf.io/n263c/?direct%26mode=render%26action=download%26mode=render\"\n",
              "            frameborder=\"0\"\n",
              "            allowfullscreen\n",
              "        ></iframe>\n",
              "        "
            ]
          },
          "metadata": {},
          "execution_count": 1
        }
      ],
      "source": [
        "# @title Tutorial slides\n",
        "\n",
        "from IPython.display import IFrame\n",
        "IFrame(src=\"https://mfr.ca-1.osf.io/render?url=https://osf.io/n263c/?direct%26mode=render%26action=download%26mode=render\", width=854, height=480)"
      ]
    },
    {
      "cell_type": "markdown",
      "metadata": {
        "execution": {},
        "id": "RclhDmvM_f0W"
      },
      "source": [
        "These are the slides for the videos in this tutorial. If you want to locally download the slides, click [here](https://osf.io/n263c/download)."
      ]
    },
    {
      "cell_type": "markdown",
      "metadata": {
        "execution": {},
        "id": "eGn2GT2G_f0W"
      },
      "source": [
        "---\n",
        "# Setup"
      ]
    },
    {
      "cell_type": "code",
      "execution_count": 2,
      "metadata": {
        "cellView": "form",
        "execution": {},
        "id": "0vIcDIZS_f0X",
        "outputId": "a7f504f0-c2c3-4f5d-f39e-45dbfa4add59",
        "colab": {
          "base_uri": "https://localhost:8080/"
        }
      },
      "outputs": [
        {
          "output_type": "stream",
          "name": "stdout",
          "text": [
            "\u001b[K     |█████████████▌                  | 834.1 MB 1.5 MB/s eta 0:13:04tcmalloc: large alloc 1147494400 bytes == 0x38f02000 @  0x7fd9b6ea0615 0x592b76 0x4df71e 0x59afff 0x515655 0x549576 0x593fce 0x548ae9 0x51566f 0x549576 0x593fce 0x548ae9 0x5127f1 0x598e3b 0x511f68 0x598e3b 0x511f68 0x598e3b 0x511f68 0x4bc98a 0x532e76 0x594b72 0x515600 0x549576 0x593fce 0x548ae9 0x5127f1 0x549576 0x593fce 0x5118f8 0x593dd7\n",
            "\u001b[K     |█████████████████               | 1055.7 MB 1.3 MB/s eta 0:11:33tcmalloc: large alloc 1434370048 bytes == 0x7d558000 @  0x7fd9b6ea0615 0x592b76 0x4df71e 0x59afff 0x515655 0x549576 0x593fce 0x548ae9 0x51566f 0x549576 0x593fce 0x548ae9 0x5127f1 0x598e3b 0x511f68 0x598e3b 0x511f68 0x598e3b 0x511f68 0x4bc98a 0x532e76 0x594b72 0x515600 0x549576 0x593fce 0x548ae9 0x5127f1 0x549576 0x593fce 0x5118f8 0x593dd7\n",
            "\u001b[K     |█████████████████████▋          | 1336.2 MB 1.4 MB/s eta 0:07:57tcmalloc: large alloc 1792966656 bytes == 0x238a000 @  0x7fd9b6ea0615 0x592b76 0x4df71e 0x59afff 0x515655 0x549576 0x593fce 0x548ae9 0x51566f 0x549576 0x593fce 0x548ae9 0x5127f1 0x598e3b 0x511f68 0x598e3b 0x511f68 0x598e3b 0x511f68 0x4bc98a 0x532e76 0x594b72 0x515600 0x549576 0x593fce 0x548ae9 0x5127f1 0x549576 0x593fce 0x5118f8 0x593dd7\n",
            "\u001b[K     |███████████████████████████▎    | 1691.1 MB 1.5 MB/s eta 0:03:20tcmalloc: large alloc 2241208320 bytes == 0x6d172000 @  0x7fd9b6ea0615 0x592b76 0x4df71e 0x59afff 0x515655 0x549576 0x593fce 0x548ae9 0x51566f 0x549576 0x593fce 0x548ae9 0x5127f1 0x598e3b 0x511f68 0x598e3b 0x511f68 0x598e3b 0x511f68 0x4bc98a 0x532e76 0x594b72 0x515600 0x549576 0x593fce 0x548ae9 0x5127f1 0x549576 0x593fce 0x5118f8 0x593dd7\n",
            "\u001b[K     |████████████████████████████████| 1982.2 MB 1.4 MB/s eta 0:00:01tcmalloc: large alloc 1982251008 bytes == 0xf2ad4000 @  0x7fd9b6e9f1e7 0x4a3940 0x4a39cc 0x592b76 0x4df71e 0x59afff 0x515655 0x549576 0x593fce 0x511e2c 0x549576 0x593fce 0x511e2c 0x549576 0x593fce 0x511e2c 0x549576 0x593fce 0x511e2c 0x549576 0x593fce 0x511e2c 0x593dd7 0x511e2c 0x549576 0x593fce 0x548ae9 0x5127f1 0x549576 0x593fce 0x548ae9\n",
            "tcmalloc: large alloc 2477817856 bytes == 0x168d40000 @  0x7fd9b6ea0615 0x592b76 0x4df71e 0x59afff 0x515655 0x549576 0x593fce 0x511e2c 0x549576 0x593fce 0x511e2c 0x549576 0x593fce 0x511e2c 0x549576 0x593fce 0x511e2c 0x549576 0x593fce 0x511e2c 0x593dd7 0x511e2c 0x549576 0x593fce 0x548ae9 0x5127f1 0x549576 0x593fce 0x548ae9 0x5127f1 0x549576\n",
            "\u001b[K     |████████████████████████████████| 1982.2 MB 4.7 kB/s \n",
            "\u001b[K     |████████████████████████████████| 17.6 MB 1.2 MB/s \n",
            "\u001b[K     |████████████████████████████████| 1.9 MB 5.1 MB/s \n",
            "\u001b[K     |████████████████████████████████| 7.1 MB 39.5 MB/s \n",
            "\u001b[K     |████████████████████████████████| 24.1 MB 1.8 MB/s \n",
            "\u001b[K     |████████████████████████████████| 50 kB 2.8 MB/s \n",
            "\u001b[?25h  Building wheel for python-Levenshtein (setup.py) ... \u001b[?25l\u001b[?25hdone\n",
            "  Building wheel for evaltools (setup.py) ... \u001b[?25l\u001b[?25hdone\n"
          ]
        }
      ],
      "source": [
        "# @title Install dependencies\n",
        "\n",
        "# @markdown There may be *errors* and/or *warnings* reported during the installation. However, they are to be ignored.\n",
        "!pip install torch==1.8.0+cu111 torchvision==0.9.0+cu111 torchaudio==0.8.0 torchtext==0.9.0 -f https://download.pytorch.org/whl/torch_stable.html --quiet\n",
        "!pip install --upgrade gensim --quiet\n",
        "!pip install nltk --quiet\n",
        "!pip install python-Levenshtein --quiet\n",
        "\n",
        "!pip install git+https://github.com/NeuromatchAcademy/evaltools --quiet\n",
        "\n",
        "from evaltools.airtable import AirtableForm\n",
        "atform = AirtableForm('appn7VdPRseSoMXEG', 'W2D5_T1', 'https://portal.neuromatchacademy.org/api/redirect/to/9c55f6cb-cdf9-4429-ac1c-ec44fe64c303')"
      ]
    },
    {
      "cell_type": "code",
      "execution_count": 3,
      "metadata": {
        "cellView": "form",
        "execution": {},
        "id": "9OVQe22I_f0Y",
        "outputId": "19a3b40d-c4d5-4dd6-dec4-f2f7c0b5a83b",
        "colab": {
          "base_uri": "https://localhost:8080/"
        }
      },
      "outputs": [
        {
          "output_type": "stream",
          "name": "stdout",
          "text": [
            "Downloading Started...\n",
            "Downloading Completed.\n",
            "Extracting all the files now...\n",
            "Done!\n",
            "\u001b[33m  DEPRECATION: A future pip version will change local packages to be built in-place without first copying to a temporary directory. We recommend you use --use-feature=in-tree-build to test your packages with this new behavior before it becomes the default.\n",
            "   pip 21.3 will remove support for this functionality. You can find discussion regarding this at https://github.com/pypa/pip/issues/7555.\u001b[0m\n",
            "  Building wheel for fasttext (setup.py) ... \u001b[?25l\u001b[?25hdone\n"
          ]
        }
      ],
      "source": [
        "# @title Install fastText\n",
        "# @markdown If you want to see the original code, go to repo: https://github.com/facebookresearch/fastText.git\n",
        "\n",
        "# !pip install git+https://github.com/facebookresearch/fastText.git --quiet\n",
        "\n",
        "import os, zipfile, requests\n",
        "\n",
        "url = \"https://osf.io/vkuz7/download\"\n",
        "fname = \"fastText-main.zip\"\n",
        "\n",
        "print('Downloading Started...')\n",
        "# Downloading the file by sending the request to the URL\n",
        "r = requests.get(url, stream=True)\n",
        "\n",
        "# Writing the file to the local file system\n",
        "with open(fname, 'wb') as f:\n",
        "  f.write(r.content)\n",
        "print('Downloading Completed.')\n",
        "\n",
        "# opening the zip file in READ mode\n",
        "with zipfile.ZipFile(fname, 'r') as zipObj:\n",
        "  # extracting all the files\n",
        "  print('Extracting all the files now...')\n",
        "  zipObj.extractall()\n",
        "  print('Done!')\n",
        "  os.remove(fname)\n",
        "\n",
        "# Install the package\n",
        "!pip install fastText-main/ --quiet"
      ]
    },
    {
      "cell_type": "code",
      "execution_count": 4,
      "metadata": {
        "execution": {},
        "id": "y-mvwFCT_f0Z"
      },
      "outputs": [],
      "source": [
        "# Imports\n",
        "import time\n",
        "import nltk\n",
        "import fasttext\n",
        "\n",
        "import numpy as np\n",
        "import matplotlib.pyplot as plt\n",
        "\n",
        "from nltk.corpus import brown\n",
        "from nltk.tokenize import word_tokenize\n",
        "from gensim.models import Word2Vec\n",
        "\n",
        "import torch.nn as nn\n",
        "from torch.nn import functional as F\n",
        "\n",
        "from torchtext.legacy import data, datasets\n",
        "from torchtext.vocab import FastText"
      ]
    },
    {
      "cell_type": "code",
      "execution_count": 5,
      "metadata": {
        "cellView": "form",
        "execution": {},
        "id": "JIVQnGtG_f0b"
      },
      "outputs": [],
      "source": [
        "# @title Figure Settings\n",
        "import ipywidgets as widgets\n",
        "%matplotlib inline\n",
        "%config InlineBackend.figure_format = 'retina'\n",
        "plt.style.use(\"https://raw.githubusercontent.com/NeuromatchAcademy/content-creation/main/nma.mplstyle\")"
      ]
    },
    {
      "cell_type": "code",
      "execution_count": 6,
      "metadata": {
        "cellView": "form",
        "execution": {},
        "id": "gcMndiR3_f0c",
        "outputId": "6b6b1ae4-8753-49b5-b69e-7365377d536a",
        "colab": {
          "base_uri": "https://localhost:8080/"
        }
      },
      "outputs": [
        {
          "output_type": "stream",
          "name": "stderr",
          "text": [
            "[nltk_data] Downloading package punkt to /root/nltk_data...\n",
            "[nltk_data]   Unzipping tokenizers/punkt.zip.\n",
            "[nltk_data] Downloading package brown to /root/nltk_data...\n",
            "[nltk_data]   Unzipping corpora/brown.zip.\n"
          ]
        },
        {
          "output_type": "execute_result",
          "data": {
            "text/plain": [
              "True"
            ]
          },
          "metadata": {},
          "execution_count": 6
        }
      ],
      "source": [
        "# @title  Load Dataset from `nltk`\n",
        "# No critical warnings, so we suppress it\n",
        "import warnings\n",
        "warnings.simplefilter(\"ignore\")\n",
        "\n",
        "nltk.download('punkt')\n",
        "nltk.download('brown')"
      ]
    },
    {
      "cell_type": "code",
      "execution_count": 7,
      "metadata": {
        "cellView": "form",
        "execution": {},
        "id": "fZ2oq7NW_f0c"
      },
      "outputs": [],
      "source": [
        "# @title Helper functions\n",
        "import requests\n",
        "\n",
        "\n",
        "def download_file_from_google_drive(id, destination):\n",
        "  URL = \"https://docs.google.com/uc?export=download\"\n",
        "  session = requests.Session()\n",
        "  response = session.get(URL, params={'id': id}, stream=True)\n",
        "  token = get_confirm_token(response)\n",
        "\n",
        "  if token:\n",
        "    params = {'id': id, 'confirm': token}\n",
        "    response = session.get(URL, params=params, stream=True)\n",
        "\n",
        "  save_response_content(response, destination)\n",
        "\n",
        "\n",
        "def get_confirm_token(response):\n",
        "  for key, value in response.cookies.items():\n",
        "    if key.startswith('download_warning'):\n",
        "      return value\n",
        "\n",
        "  return None\n",
        "\n",
        "\n",
        "def save_response_content(response, destination):\n",
        "  CHUNK_SIZE = 32768\n",
        "  with open(destination, \"wb\") as f:\n",
        "    for chunk in response.iter_content(CHUNK_SIZE):\n",
        "      if chunk:  # filter out keep-alive new chunks\n",
        "        f.write(chunk)"
      ]
    },
    {
      "cell_type": "code",
      "execution_count": 8,
      "metadata": {
        "cellView": "form",
        "execution": {},
        "id": "bPZUaZ06_f0d"
      },
      "outputs": [],
      "source": [
        "# @title Set random seed\n",
        "\n",
        "# @markdown Executing `set_seed(seed=seed)` you are setting the seed\n",
        "\n",
        "# For DL its critical to set the random seed so that students can have a\n",
        "# baseline to compare their results to expected results.\n",
        "# Read more here: https://pytorch.org/docs/stable/notes/randomness.html\n",
        "\n",
        "# Call `set_seed` function in the exercises to ensure reproducibility.\n",
        "import random\n",
        "import torch\n",
        "\n",
        "def set_seed(seed=None, seed_torch=True):\n",
        "  \"\"\"\n",
        "  Function that controls randomness.\n",
        "  NumPy and random modules must be imported.\n",
        "\n",
        "  Args:\n",
        "    seed : Integer\n",
        "      A non-negative integer that defines the random state. Default is `None`.\n",
        "    seed_torch : Boolean\n",
        "      If `True` sets the random seed for pytorch tensors, so pytorch module\n",
        "      must be imported. Default is `True`.\n",
        "\n",
        "  Returns:\n",
        "    Nothing.\n",
        "  \"\"\"\n",
        "  if seed is None:\n",
        "    seed = np.random.choice(2 ** 32)\n",
        "  random.seed(seed)\n",
        "  np.random.seed(seed)\n",
        "  if seed_torch:\n",
        "    torch.manual_seed(seed)\n",
        "    torch.cuda.manual_seed_all(seed)\n",
        "    torch.cuda.manual_seed(seed)\n",
        "    torch.backends.cudnn.benchmark = False\n",
        "    torch.backends.cudnn.deterministic = True\n",
        "\n",
        "  print(f'Random seed {seed} has been set.')\n",
        "\n",
        "# In case that `DataLoader` is used\n",
        "def seed_worker(worker_id):\n",
        "  \"\"\"\n",
        "  DataLoader will reseed workers following randomness in\n",
        "  multi-process data loading algorithm.\n",
        "\n",
        "  Args:\n",
        "    worker_id: integer\n",
        "      ID of subprocess to seed. 0 means that\n",
        "      the data will be loaded in the main process\n",
        "      Refer: https://pytorch.org/docs/stable/data.html#data-loading-randomness for more details\n",
        "\n",
        "  Returns:\n",
        "    Nothing\n",
        "  \"\"\"\n",
        "  worker_seed = torch.initial_seed() % 2**32\n",
        "  np.random.seed(worker_seed)\n",
        "  random.seed(worker_seed)"
      ]
    },
    {
      "cell_type": "code",
      "execution_count": 9,
      "metadata": {
        "cellView": "form",
        "execution": {},
        "id": "8zw1_O-m_f0e"
      },
      "outputs": [],
      "source": [
        "# @title Set device (GPU or CPU). Execute `set_device()`\n",
        "\n",
        "# Inform the user if the notebook uses GPU or CPU.\n",
        "\n",
        "def set_device():\n",
        "  \"\"\"\n",
        "  Set the device. CUDA if available, CPU otherwise\n",
        "\n",
        "  Args:\n",
        "    None\n",
        "\n",
        "  Returns:\n",
        "    Nothing\n",
        "  \"\"\"\n",
        "  device = \"cuda\" if torch.cuda.is_available() else \"cpu\"\n",
        "  if device != \"cuda\":\n",
        "    print(\"WARNING: For this notebook to perform best, \"\n",
        "        \"if possible, in the menu under `Runtime` -> \"\n",
        "        \"`Change runtime type.`  select `GPU` \")\n",
        "  else:\n",
        "    print(\"GPU is enabled in this notebook.\")\n",
        "\n",
        "  return device"
      ]
    },
    {
      "cell_type": "code",
      "execution_count": 10,
      "metadata": {
        "execution": {},
        "id": "mwVtuXze_f0e",
        "outputId": "7ff5844c-a106-47d4-bcf3-8de7a1aad3da",
        "colab": {
          "base_uri": "https://localhost:8080/"
        }
      },
      "outputs": [
        {
          "output_type": "stream",
          "name": "stdout",
          "text": [
            "WARNING: For this notebook to perform best, if possible, in the menu under `Runtime` -> `Change runtime type.`  select `GPU` \n",
            "Random seed 2021 has been set.\n"
          ]
        }
      ],
      "source": [
        "DEVICE = set_device()\n",
        "SEED = 2021\n",
        "set_seed(seed=SEED)"
      ]
    },
    {
      "cell_type": "markdown",
      "metadata": {
        "execution": {},
        "id": "dGk_V9XW_f0f"
      },
      "source": [
        "---\n",
        "# Section 1: Intro: What time series are there?\n",
        "\n",
        "*Time estimate: 20 mins*"
      ]
    },
    {
      "cell_type": "code",
      "execution_count": 11,
      "metadata": {
        "cellView": "form",
        "execution": {},
        "id": "d__26YCE_f0g",
        "outputId": "8fe8e44f-3f45-4cf4-b1e8-0647670990b9",
        "colab": {
          "base_uri": "https://localhost:8080/",
          "height": 581,
          "referenced_widgets": [
            "cf741ab9ee7e4fe28e064c085a10e868",
            "03c2a286874b44baa2c7fad1fd2f7cae",
            "25483a93da014a04a5f28aa7a8a7ebc0",
            "c6652bd619974fa691eb0d6658358008",
            "fb724d344fbf4d5294f836c72f9008f8",
            "34e7f9261f644cf985257197400a8023"
          ]
        }
      },
      "outputs": [
        {
          "output_type": "display_data",
          "data": {
            "text/plain": [
              "Tab(children=(Output(), Output()), _titles={'0': 'Youtube', '1': 'Bilibili'})"
            ],
            "application/vnd.jupyter.widget-view+json": {
              "version_major": 2,
              "version_minor": 0,
              "model_id": "cf741ab9ee7e4fe28e064c085a10e868"
            }
          },
          "metadata": {}
        }
      ],
      "source": [
        "# @title Video 1: Time Series and NLP\n",
        "from ipywidgets import widgets\n",
        "\n",
        "out2 = widgets.Output()\n",
        "with out2:\n",
        "  from IPython.display import IFrame\n",
        "  class BiliVideo(IFrame):\n",
        "    def __init__(self, id, page=1, width=400, height=300, **kwargs):\n",
        "      self.id=id\n",
        "      src = \"https://player.bilibili.com/player.html?bvid={0}&page={1}\".format(id, page)\n",
        "      super(BiliVideo, self).__init__(src, width, height, **kwargs)\n",
        "\n",
        "  video = BiliVideo(id=\"\", width=854, height=480, fs=1)\n",
        "  print(\"Video available at https://www.bilibili.com/video/{0}\".format(video.id))\n",
        "  display(video)\n",
        "\n",
        "out1 = widgets.Output()\n",
        "with out1:\n",
        "  from IPython.display import YouTubeVideo\n",
        "  video = YouTubeVideo(id=\"W4RTRXt7pO0\", width=854, height=480, fs=1, rel=0)\n",
        "  print(\"Video available at https://youtube.com/watch?v=\" + video.id)\n",
        "  display(video)\n",
        "\n",
        "out = widgets.Tab([out1, out2])\n",
        "out.set_title(0, 'Youtube')\n",
        "out.set_title(1, 'Bilibili')\n",
        "\n",
        "# Add event to airtable\n",
        "atform.add_event('Video 1: Time Series and NLP')\n",
        "\n",
        "display(out)"
      ]
    },
    {
      "cell_type": "code",
      "execution_count": 12,
      "metadata": {
        "cellView": "form",
        "execution": {},
        "id": "ad0fI-lD_f0g",
        "outputId": "5b229c36-6248-4318-f23c-ba5d1983e16b",
        "colab": {
          "base_uri": "https://localhost:8080/",
          "height": 581,
          "referenced_widgets": [
            "bf4b8d226f894ad6a89ce6074ee5571e",
            "18fb23b4b5f94aa7a034621a4a180c8c",
            "86d30f1c7eee40058e2dc9a44616039b",
            "f7b1748041e34a42a35ca89693dbbe1f",
            "1ba8ac910c064dbeb1aa8a59d9aca38c",
            "fdcd916f270f4059a09cfe1d1a4eee29"
          ]
        }
      },
      "outputs": [
        {
          "output_type": "display_data",
          "data": {
            "text/plain": [
              "Tab(children=(Output(), Output()), _titles={'0': 'Youtube', '1': 'Bilibili'})"
            ],
            "application/vnd.jupyter.widget-view+json": {
              "version_major": 2,
              "version_minor": 0,
              "model_id": "bf4b8d226f894ad6a89ce6074ee5571e"
            }
          },
          "metadata": {}
        }
      ],
      "source": [
        "# @title Video 2: What is NLP?\n",
        "from ipywidgets import widgets\n",
        "\n",
        "out2 = widgets.Output()\n",
        "with out2:\n",
        "  from IPython.display import IFrame\n",
        "  class BiliVideo(IFrame):\n",
        "    def __init__(self, id, page=1, width=400, height=300, **kwargs):\n",
        "      self.id=id\n",
        "      src = \"https://player.bilibili.com/player.html?bvid={0}&page={1}\".format(id, page)\n",
        "      super(BiliVideo, self).__init__(src, width, height, **kwargs)\n",
        "\n",
        "  video = BiliVideo(id=\"\", width=854, height=480, fs=1)\n",
        "  print(\"Video available at https://www.bilibili.com/video/{0}\".format(video.id))\n",
        "  display(video)\n",
        "\n",
        "out1 = widgets.Output()\n",
        "with out1:\n",
        "  from IPython.display import YouTubeVideo\n",
        "  video = YouTubeVideo(id=\"Q-PGZyaBQVk\", width=854, height=480, fs=1, rel=0)\n",
        "  print(\"Video available at https://youtube.com/watch?v=\" + video.id)\n",
        "  display(video)\n",
        "\n",
        "out = widgets.Tab([out1, out2])\n",
        "out.set_title(0, 'Youtube')\n",
        "out.set_title(1, 'Bilibili')\n",
        "\n",
        "# Add event to airtable\n",
        "atform.add_event('Video 2: What is NLP')\n",
        "\n",
        "display(out)"
      ]
    },
    {
      "cell_type": "markdown",
      "metadata": {
        "execution": {},
        "id": "JW2VLZZC_f0g"
      },
      "source": [
        "---\n",
        "# Section 2: Embeddings\n",
        "\n",
        "*Time estimate: 50 mins*"
      ]
    },
    {
      "cell_type": "code",
      "execution_count": 13,
      "metadata": {
        "cellView": "form",
        "execution": {},
        "id": "94_ohDYg_f0h",
        "outputId": "26576651-8353-4feb-c213-e1508d5edd9f",
        "colab": {
          "base_uri": "https://localhost:8080/",
          "height": 581,
          "referenced_widgets": [
            "4b8a2d67d2b8486d94746ca10f8c97c8",
            "89e2316a5aea4677bb7aee61b9b400d4",
            "37821d70d2b6462394f295cc65ef0eb4",
            "e4df0f58dcac47c0b3f12935e8b13572",
            "11b9728e83cf4c1a93da0dbe4a0f8c5f",
            "6f6f5f6ae70d41058131c5fabdf91042"
          ]
        }
      },
      "outputs": [
        {
          "output_type": "display_data",
          "data": {
            "text/plain": [
              "Tab(children=(Output(), Output()), _titles={'0': 'Youtube', '1': 'Bilibili'})"
            ],
            "application/vnd.jupyter.widget-view+json": {
              "version_major": 2,
              "version_minor": 0,
              "model_id": "4b8a2d67d2b8486d94746ca10f8c97c8"
            }
          },
          "metadata": {}
        }
      ],
      "source": [
        "# @title Video 3: Embeddings Rule!\n",
        "from ipywidgets import widgets\n",
        "\n",
        "out2 = widgets.Output()\n",
        "with out2:\n",
        "  from IPython.display import IFrame\n",
        "  class BiliVideo(IFrame):\n",
        "    def __init__(self, id, page=1, width=400, height=300, **kwargs):\n",
        "      self.id=id\n",
        "      src = \"https://player.bilibili.com/player.html?bvid={0}&page={1}\".format(id, page)\n",
        "      super(BiliVideo, self).__init__(src, width, height, **kwargs)\n",
        "\n",
        "  video = BiliVideo(id=\"\", width=854, height=480, fs=1)\n",
        "  print(\"Video available at https://www.bilibili.com/video/{0}\".format(video.id))\n",
        "  display(video)\n",
        "\n",
        "out1 = widgets.Output()\n",
        "with out1:\n",
        "  from IPython.display import YouTubeVideo\n",
        "  video = YouTubeVideo(id=\"7ijjjFpcOwI\", width=854, height=480, fs=1, rel=0)\n",
        "  print(\"Video available at https://youtube.com/watch?v=\" + video.id)\n",
        "  display(video)\n",
        "\n",
        "out = widgets.Tab([out1, out2])\n",
        "out.set_title(0, 'Youtube')\n",
        "out.set_title(1, 'Bilibili')\n",
        "\n",
        "# Add event to airtable\n",
        "atform.add_event('Video 3: Embeddings Rule!')\n",
        "\n",
        "display(out)"
      ]
    },
    {
      "cell_type": "markdown",
      "metadata": {
        "execution": {},
        "id": "H9EdV3Xk_f0h"
      },
      "source": [
        "## Section 2.1: Introduction\n",
        "\n",
        "[Word2vec](https://rare-technologies.com/word2vec-tutorial/) is a group of related models used to produce word embeddings. These models are shallow, two-layer neural networks trained to reconstruct linguistic contexts of words. Word2vec takes as its input a large corpus of text and produces a vector space, with each unique word in the corpus being assigned a corresponding vector in the space."
      ]
    },
    {
      "cell_type": "markdown",
      "metadata": {
        "execution": {},
        "id": "sk-1rFG7_f0j"
      },
      "source": [
        "### Creating Word Embeddings\n",
        "\n",
        "We will create embeddings for a subset of categories in [Brown corpus](https://www1.essex.ac.uk/linguistics/external/clmt/w3c/corpus_ling/content/corpora/list/private/brown/brown.html). To achieve this task we will use [gensim](https://radimrehurek.com/gensim/) library to create word2vec embeddings. Gensim’s word2vec expects a sequence of sentences as its input. Each sentence is a list of words.\n",
        "\n",
        "Calling Word2Vec(sentences, `iter=1`) will run two passes over the sentences iterator (generally, `iter+1` passes). The first pass collects words and their frequencies to build an internal dictionary tree structure. The second and subsequent passes train the neural model. \n",
        "Word2vec accepts several parameters that affect both training speed and quality.\n",
        "\n",
        "One of them is for pruning the internal dictionary. Words that appear only once or twice in a billion-word corpus are probably uninteresting typos and garbage. In addition, there are not enough data to make any meaningful training on those words, so it’s best to ignore them:\n",
        "\n",
        "```python\n",
        "model = Word2Vec(sentences, min_count=10)  # default value is 5\n",
        "```\n",
        "\n",
        "A reasonable value for `min_count` is bewteen 0-100, depending on the size of your dataset.\n",
        "\n",
        "Another parameter is the `size` of the NN layers, which correspond to the “degrees” of freedom the training algorithm has:\n",
        "\n",
        "```python\n",
        "model = Word2Vec(sentences, size=200)  # default value is 100\n",
        "```\n",
        "\n",
        "Bigger `size` values require more training data but can lead to better (more accurate) models. Reasonable values are in the tens to hundreds.\n",
        "\n",
        "The last of the major parameters (full list [here](https://radimrehurek.com/gensim/models/word2vec.html#gensim.models.word2vec.Word2Vec)) is for training parallelization, to speed up training:\n",
        "\n",
        "```python\n",
        "model = Word2Vec(sentences, workers=4)  # default = 1 worker = no parallelization\n",
        "```"
      ]
    },
    {
      "cell_type": "code",
      "execution_count": 14,
      "metadata": {
        "execution": {},
        "id": "Smmw2zs8_f0l"
      },
      "outputs": [],
      "source": [
        "# Categories used for the Brown corpus\n",
        "category = ['editorial', 'fiction', 'government', 'mystery', 'news', 'religion',\n",
        "            'reviews', 'romance', 'science_fiction']"
      ]
    },
    {
      "cell_type": "code",
      "execution_count": 15,
      "metadata": {
        "cellView": "form",
        "execution": {},
        "id": "1MFmvE9O_f0l"
      },
      "outputs": [],
      "source": [
        "# @markdown Word2Vec model\n",
        "\n",
        "def create_word2vec_model(category='news', size=50, sg=1, min_count=5):\n",
        "  sentences = brown.sents(categories=category)\n",
        "  model = Word2Vec(sentences, vector_size=size,\n",
        "                   sg=sg, min_count=min_count)\n",
        "  return model\n",
        "\n",
        "\n",
        "def model_dictionary(model):\n",
        "  print(w2vmodel.wv)\n",
        "  words = list(w2vmodel.wv)\n",
        "  return words\n",
        "\n",
        "\n",
        "def get_embedding(word, model):\n",
        "  if word in w2vmodel.wv:\n",
        "    return model.wv[word]\n",
        "  else:\n",
        "    return None"
      ]
    },
    {
      "cell_type": "markdown",
      "metadata": {
        "execution": {},
        "id": "Tb9V72jf_f0l"
      },
      "source": [
        "The cell will take 30-45 seconds to run."
      ]
    },
    {
      "cell_type": "code",
      "execution_count": 16,
      "metadata": {
        "execution": {},
        "id": "YEkCmdle_f0m"
      },
      "outputs": [],
      "source": [
        "# Create a word2vec model based on categories from Brown corpus\n",
        "w2vmodel = create_word2vec_model(category)"
      ]
    },
    {
      "cell_type": "markdown",
      "metadata": {
        "execution": {},
        "id": "bcd_h6NC_f0m"
      },
      "source": [
        "You can get the embedding vector for a word in the dictionary."
      ]
    },
    {
      "cell_type": "code",
      "execution_count": 17,
      "metadata": {
        "execution": {},
        "id": "a22kemjD_f0m",
        "outputId": "de7232cf-7238-4bf6-dc62-50cc7f024dc3",
        "colab": {
          "base_uri": "https://localhost:8080/"
        }
      },
      "outputs": [
        {
          "output_type": "stream",
          "name": "stdout",
          "text": [
            "Embedding of \"company\" is [ 0.23139277 -0.15163624 -0.00647079  0.12986575 -0.25432184  0.18049696\n",
            "  0.31500292  0.05686584  0.10281713 -0.03360285  0.13470729  0.14041749\n",
            "  0.10694839 -0.02258939 -0.32968894  0.12784107  0.32828796  0.01960532\n",
            "  0.0095154  -0.16136427  0.28325808 -0.11778703  0.1898417  -0.11214712\n",
            " -0.01947696  0.29311502 -0.31228653  0.05152532 -0.2911528   0.01436756\n",
            "  0.1779302  -0.07557947  0.5092937   0.01404037  0.01980879 -0.03370695\n",
            "  0.39671722  0.23562247  0.31747112 -0.36008713  0.176745    0.0715804\n",
            " -0.48616418 -0.09700944  0.40173066  0.00409307  0.18262173 -0.15649313\n",
            "  0.20099609  0.4124184 ]\n"
          ]
        }
      ],
      "source": [
        "# get word list from Brown corpus\n",
        "brown_wordlist = list(brown.words(categories=category))\n",
        "# generate a random word\n",
        "random_word = random.sample(brown_wordlist, 1)[0]\n",
        "# get embedding of the random word\n",
        "random_word_embedding = get_embedding(random_word, w2vmodel)\n",
        "print(f'Embedding of \"{random_word}\" is {random_word_embedding}')"
      ]
    },
    {
      "cell_type": "markdown",
      "metadata": {
        "execution": {},
        "id": "WQGcmFlh_f0m"
      },
      "source": [
        "### Visualizing Word Embeddings\n",
        "\n",
        "We can now obtain the word embeddings for any word in the dictionary using word2vec. Let's visualize these embeddings to get an intuition of what these embeddings mean. The word embeddings obtained from the word2vec model are in high dimensional space, and we will use tSNE to pick the two features that capture the most variance in the embeddings to represent them in a 2D space.\n",
        "\n",
        "For each word in `keys`, we pick the top 10 similar words (using cosine similarity) and plot them.\n",
        "\n",
        "Before you run the code, spend some time to think:\n",
        "\n",
        "- What should be the arrangement of similar words?\n",
        "- What should be the arrangement of the critical clusters with respect to each other?"
      ]
    },
    {
      "cell_type": "code",
      "execution_count": 18,
      "metadata": {
        "execution": {},
        "id": "pE0j_Y52_f0m"
      },
      "outputs": [],
      "source": [
        "keys = ['voters', 'magic', 'love', 'God', 'evidence', 'administration', 'governments']"
      ]
    },
    {
      "cell_type": "code",
      "execution_count": 19,
      "metadata": {
        "cellView": "form",
        "execution": {},
        "id": "X4a3m9nq_f0n"
      },
      "outputs": [],
      "source": [
        "# @markdown ### Cluster embeddings related functions\n",
        "\n",
        "# @markdown **Note:** We import [sklearn.manifold.TSNE](https://scikit-learn.org/stable/modules/generated/sklearn.manifold.TSNE.html)\n",
        "from sklearn.manifold import TSNE\n",
        "import matplotlib.cm as cm\n",
        "\n",
        "def get_cluster_embeddings(keys):\n",
        "  embedding_clusters = []\n",
        "  word_clusters = []\n",
        "\n",
        "  # find closest words and add them to cluster\n",
        "  for word in keys:\n",
        "    embeddings = []\n",
        "    words = []\n",
        "    if not word in w2vmodel.wv:\n",
        "      print(f'The word {word} is not in the dictionary')\n",
        "      continue\n",
        "\n",
        "    for similar_word, _ in w2vmodel.wv.most_similar(word, topn=10):\n",
        "      words.append(similar_word)\n",
        "      embeddings.append(w2vmodel.wv[similar_word])\n",
        "    embeddings.append(get_embedding(word, w2vmodel))\n",
        "    words.append(word)\n",
        "    embedding_clusters.append(embeddings)\n",
        "    word_clusters.append(words)\n",
        "\n",
        "  # get embeddings for the words in clusers\n",
        "  embedding_clusters = np.array(embedding_clusters)\n",
        "  n, m, k = embedding_clusters.shape\n",
        "  tsne_model_en_2d = TSNE(perplexity=10, n_components=2, init='pca', n_iter=3500, random_state=32)\n",
        "  embeddings_en_2d = np.array(tsne_model_en_2d.fit_transform(embedding_clusters.reshape(n * m, k))).reshape(n, m, 2)\n",
        "  return embeddings_en_2d, word_clusters\n",
        "\n",
        "\n",
        "def tsne_plot_similar_words(title, labels, embedding_clusters,\n",
        "                            word_clusters, opacity, filename=None):\n",
        "  plt.figure(figsize=(16, 9))\n",
        "  colors = cm.rainbow(np.linspace(0, 1, len(labels)))\n",
        "  for label, embeddings, words, color in zip(labels, embedding_clusters, word_clusters, colors):\n",
        "    x = embeddings[:, 0]\n",
        "    y = embeddings[:, 1]\n",
        "    plt.scatter(x, y, color=color, alpha=opacity, label=label)\n",
        "    # Plot the cluster centroids\n",
        "    plt.plot(np.mean(x), np.mean(y), 'x', color=color, markersize=16)\n",
        "    for i, word in enumerate(words):\n",
        "      size = 10 if i < 10 else 14\n",
        "      plt.annotate(word, alpha=0.5, xy=(x[i], y[i]), xytext=(5, 2),\n",
        "                    textcoords='offset points',\n",
        "                    ha='right', va='bottom', size=size)\n",
        "  plt.legend()\n",
        "  plt.title(title)\n",
        "  plt.grid(True)\n",
        "  if filename:\n",
        "    plt.savefig(filename, format='png', dpi=150, bbox_inches='tight')\n",
        "  plt.show()"
      ]
    },
    {
      "cell_type": "code",
      "execution_count": 20,
      "metadata": {
        "execution": {},
        "id": "90xgTQs__f0n",
        "outputId": "5328d55f-e105-48d5-ad84-a004801f0a81",
        "colab": {
          "base_uri": "https://localhost:8080/",
          "height": 646
        }
      },
      "outputs": [
        {
          "output_type": "display_data",
          "data": {
            "text/plain": [
              "<Figure size 1152x648 with 1 Axes>"
            ],
            "image/png": "[encoded data removed]"
          },
          "metadata": {
            "image/png": {
              "width": 1133,
              "height": 629
            },
            "needs_background": "light"
          }
        }
      ],
      "source": [
        "# Get closest words to the keys and get clusters of these words\n",
        "embeddings_en_2d, word_clusters = get_cluster_embeddings(keys)\n",
        "# tSNE plot of similar words to keys\n",
        "tsne_plot_similar_words(title='Similar words from Brown Corpus',\n",
        "                        labels=keys,\n",
        "                        embedding_clusters=embeddings_en_2d,\n",
        "                        word_clusters=word_clusters,\n",
        "                        opacity=0.7,\n",
        "                        filename='similar_words.png')"
      ]
    },
    {
      "cell_type": "markdown",
      "metadata": {
        "execution": {},
        "id": "uvZZbeTw_f0n"
      },
      "source": [
        "### Think! 2.1\n",
        "\n",
        "1. What does having higher similarity between two word embeddings mean?\n",
        "2. Why are cluster centroids (represented with X in the plot) close to some keys (represented with larger fonts) but farther from others?"
      ]
    },
    {
      "cell_type": "markdown",
      "metadata": {
        "execution": {},
        "id": "CEyfxDMJ_f0n"
      },
      "source": [
        "[*Click for solution*](https://github.com/NeuromatchAcademy/course-content-dl/tree/main//tutorials/W2D5_TimeSeriesAndNaturalLanguageProcessing/solutions/W2D5_Tutorial1_Solution_61e9bed5.py)\n",
        "\n"
      ]
    },
    {
      "cell_type": "code",
      "execution_count": 21,
      "metadata": {
        "cellView": "form",
        "execution": {},
        "id": "EXOlXqL0_f0n",
        "outputId": "04bef704-60e7-408c-cdda-2a69e8523790",
        "colab": {
          "base_uri": "https://localhost:8080/",
          "height": 93,
          "referenced_widgets": [
            "4f8379c887534eaa82a5e0bc1af80da4",
            "1d500b2bd7464bb094fa92e236810c82",
            "187cb97716534f4f9210eb4171dcbd59",
            "f1ee89b353504efb8d710cc7d5aee6de",
            "eaf60fa477ed47faa73934d0c008c59b",
            "442a51a15eb04148a519771eb697f5df"
          ]
        }
      },
      "outputs": [
        {
          "output_type": "display_data",
          "data": {
            "text/plain": [
              "Textarea(value='Type your answer here and click on `Submit!`', placeholder='Type something')"
            ],
            "application/vnd.jupyter.widget-view+json": {
              "version_major": 2,
              "version_minor": 0,
              "model_id": "4f8379c887534eaa82a5e0bc1af80da4"
            }
          },
          "metadata": {}
        },
        {
          "output_type": "display_data",
          "data": {
            "text/plain": [
              "Button(description='Submit!', style=ButtonStyle())"
            ],
            "application/vnd.jupyter.widget-view+json": {
              "version_major": 2,
              "version_minor": 0,
              "model_id": "f1ee89b353504efb8d710cc7d5aee6de"
            }
          },
          "metadata": {}
        }
      ],
      "source": [
        "# @title Student Response\n",
        "from ipywidgets import widgets\n",
        "\n",
        "\n",
        "text=widgets.Textarea(\n",
        "   value='Type your answer here and click on `Submit!`',\n",
        "   placeholder='Type something',\n",
        "   description='',\n",
        "   disabled=False\n",
        ")\n",
        "\n",
        "button = widgets.Button(description=\"Submit!\")\n",
        "\n",
        "display(text,button)\n",
        "\n",
        "def on_button_clicked(b):\n",
        "   atform.add_answer('q1' , text.value)\n",
        "   print(\"Submission successful!\")\n",
        "\n",
        "\n",
        "button.on_click(on_button_clicked)"
      ]
    },
    {
      "cell_type": "markdown",
      "metadata": {
        "execution": {},
        "id": "3HZrltIp_f0o"
      },
      "source": [
        "## Section 2.2: Embedding exploration"
      ]
    },
    {
      "cell_type": "code",
      "execution_count": 22,
      "metadata": {
        "cellView": "form",
        "execution": {},
        "id": "5Mw2elLV_f0o",
        "outputId": "1df4ad22-c5b2-4590-9a0e-d93069f37531",
        "colab": {
          "base_uri": "https://localhost:8080/",
          "height": 581,
          "referenced_widgets": [
            "3efc49f8ecf04c54b17d58da9dcb343d",
            "74c7c306ea214d6886c52ba4c094fd2b",
            "d4400f931b2442d8b59f10bccc14e68a",
            "90610915429146449a62a7cd8ea9c1c4",
            "d4b4f82c58664833ad32cd8fc78c81d9",
            "16dd07918adb4894a0e73d43c74baf35"
          ]
        }
      },
      "outputs": [
        {
          "output_type": "display_data",
          "data": {
            "text/plain": [
              "Tab(children=(Output(), Output()), _titles={'0': 'Youtube', '1': 'Bilibili'})"
            ],
            "application/vnd.jupyter.widget-view+json": {
              "version_major": 2,
              "version_minor": 0,
              "model_id": "3efc49f8ecf04c54b17d58da9dcb343d"
            }
          },
          "metadata": {}
        }
      ],
      "source": [
        "# @title Video 4: NLP tokenization\n",
        "from ipywidgets import widgets\n",
        "\n",
        "out2 = widgets.Output()\n",
        "with out2:\n",
        "  from IPython.display import IFrame\n",
        "  class BiliVideo(IFrame):\n",
        "    def __init__(self, id, page=1, width=400, height=300, **kwargs):\n",
        "      self.id=id\n",
        "      src = \"https://player.bilibili.com/player.html?bvid={0}&page={1}\".format(id, page)\n",
        "      super(BiliVideo, self).__init__(src, width, height, **kwargs)\n",
        "\n",
        "  video = BiliVideo(id=\"\", width=854, height=480, fs=1)\n",
        "  print(\"Video available at https://www.bilibili.com/video/{0}\".format(video.id))\n",
        "  display(video)\n",
        "\n",
        "out1 = widgets.Output()\n",
        "with out1:\n",
        "  from IPython.display import YouTubeVideo\n",
        "  video = YouTubeVideo(id=\"GLreyXm4rg8\", width=854, height=480, fs=1, rel=0)\n",
        "  print(\"Video available at https://youtube.com/watch?v=\" + video.id)\n",
        "  display(video)\n",
        "\n",
        "out = widgets.Tab([out1, out2])\n",
        "out.set_title(0, 'Youtube')\n",
        "out.set_title(1, 'Bilibili')\n",
        "\n",
        "# Add event to airtable\n",
        "#atform.add_event('Video 4: NLP Tokenization')\n",
        "\n",
        "display(out)"
      ]
    },
    {
      "cell_type": "code",
      "execution_count": 23,
      "metadata": {
        "cellView": "form",
        "execution": {},
        "id": "jG3uWXf8_f0o",
        "outputId": "4788e642-d104-496e-cce7-759089e085b3",
        "colab": {
          "base_uri": "https://localhost:8080/",
          "height": 581,
          "referenced_widgets": [
            "e73b013e6b3a4bc99c2e21011eb6bd46",
            "dd1b6e31dc5f4f8db3b358fc2c6c659d",
            "bb84fb271d6c4bc19a9fb415607ab208",
            "0bb7159a7d814697aff009cadfb44cb4",
            "ad5fb287496f4d5da32f8d8007cd99cb",
            "bc513ad51bf3445f8047da517dc691fe"
          ]
        }
      },
      "outputs": [
        {
          "output_type": "display_data",
          "data": {
            "text/plain": [
              "Tab(children=(Output(), Output()), _titles={'0': 'Youtube', '1': 'Bilibili'})"
            ],
            "application/vnd.jupyter.widget-view+json": {
              "version_major": 2,
              "version_minor": 0,
              "model_id": "e73b013e6b3a4bc99c2e21011eb6bd46"
            }
          },
          "metadata": {}
        }
      ],
      "source": [
        "# @title Video 5: Distributional Similarity\n",
        "from ipywidgets import widgets\n",
        "\n",
        "out2 = widgets.Output()\n",
        "with out2:\n",
        "  from IPython.display import IFrame\n",
        "  class BiliVideo(IFrame):\n",
        "    def __init__(self, id, page=1, width=400, height=300, **kwargs):\n",
        "      self.id=id\n",
        "      src = \"https://player.bilibili.com/player.html?bvid={0}&page={1}\".format(id, page)\n",
        "      super(BiliVideo, self).__init__(src, width, height, **kwargs)\n",
        "\n",
        "  video = BiliVideo(id=\"\", width=854, height=480, fs=1)\n",
        "  print(\"Video available at https://www.bilibili.com/video/{0}\".format(video.id))\n",
        "  display(video)\n",
        "\n",
        "out1 = widgets.Output()\n",
        "with out1:\n",
        "  from IPython.display import YouTubeVideo\n",
        "  video = YouTubeVideo(id=\"0vTuEIAnrII\", width=854, height=480, fs=1, rel=0)\n",
        "  print(\"Video available at https://youtube.com/watch?v=\" + video.id)\n",
        "  display(video)\n",
        "\n",
        "out = widgets.Tab([out1, out2])\n",
        "out.set_title(0, 'Youtube')\n",
        "out.set_title(1, 'Bilibili')\n",
        "\n",
        "# Add event to airtable\n",
        "atform.add_event('Video 5: Distributional Similarity')\n",
        "\n",
        "display(out)"
      ]
    },
    {
      "cell_type": "markdown",
      "metadata": {
        "execution": {},
        "id": "VcRsbBR__f0o"
      },
      "source": [
        "Words or subword units such as morphemes are the basic units we use to express meaning in language. The technique of mapping words to vectors of real numbers is known as word embedding.\n",
        "\n",
        "In this section, we will use pretrained fastText embeddings, a context-oblivious embedding similar to word2vec."
      ]
    },
    {
      "cell_type": "markdown",
      "metadata": {
        "execution": {},
        "id": "r6XkkRz9_f0o"
      },
      "source": [
        "### Embedding Manipulation\n",
        "\n",
        "Let's use the [FastText](https://fasttext.cc/) library to manipulate the embeddings. First, find the embedding for the word \"King\""
      ]
    },
    {
      "cell_type": "code",
      "execution_count": 24,
      "metadata": {
        "cellView": "form",
        "execution": {},
        "id": "suTS6QJN_f0p",
        "outputId": "6706f358-04cd-4994-87a3-138255d4efd8",
        "colab": {
          "base_uri": "https://localhost:8080/"
        }
      },
      "outputs": [
        {
          "output_type": "stream",
          "name": "stdout",
          "text": [
            "Downloading Started...\n",
            "Downloading Completed.\n",
            "Extracting all the files now...\n",
            "Done!\n"
          ]
        }
      ],
      "source": [
        "# @markdown ### Download FastText English Embeddings of dimension 100\n",
        "# @markdown This will take 1-2 minutes to run\n",
        "\n",
        "import os, zipfile, requests\n",
        "\n",
        "url = \"https://osf.io/2frqg/download\"\n",
        "fname = \"cc.en.100.bin.gz\"\n",
        "\n",
        "print('Downloading Started...')\n",
        "# Downloading the file by sending the request to the URL\n",
        "r = requests.get(url, stream=True)\n",
        "\n",
        "# Writing the file to the local file system\n",
        "with open(fname, 'wb') as f:\n",
        "  f.write(r.content)\n",
        "print('Downloading Completed.')\n",
        "\n",
        "# opening the zip file in READ mode\n",
        "with zipfile.ZipFile(fname, 'r') as zipObj:\n",
        "  # extracting all the files\n",
        "  print('Extracting all the files now...')\n",
        "  zipObj.extractall()\n",
        "  print('Done!')\n",
        "  os.remove(fname)"
      ]
    },
    {
      "cell_type": "code",
      "execution_count": 25,
      "metadata": {
        "execution": {},
        "id": "8PlNceSG_f0p",
        "outputId": "27306fe6-6cd7-40a5-c570-b6aeed2fd0f9",
        "colab": {
          "base_uri": "https://localhost:8080/"
        }
      },
      "outputs": [
        {
          "output_type": "stream",
          "name": "stdout",
          "text": [
            "Length of the embedding is: 100\n",
            "\n",
            "Embedding for the word King is:\n",
            " [-0.04045481 -0.10617249 -0.27222311  0.06879666  0.16408321  0.00276707\n",
            "  0.27080125 -0.05805573 -0.31865698  0.03748008 -0.00254088  0.13805169\n",
            " -0.00182498 -0.08973497  0.00319015 -0.19619396 -0.09858181 -0.10103802\n",
            " -0.08279888  0.0082208   0.13119364 -0.15956607  0.17203182  0.0315701\n",
            " -0.25064597  0.06182072  0.03929246  0.05157393  0.03543638  0.13660161\n",
            "  0.05473648  0.06072914 -0.04709269  0.17394426 -0.02101276 -0.11402624\n",
            " -0.24489872 -0.08576579 -0.00322696 -0.04509873 -0.00614253 -0.05772085\n",
            " -0.073414   -0.06718913 -0.06057961  0.10963406  0.1245006  -0.04819863\n",
            "  0.11408057  0.11081408  0.06752145 -0.01689911 -0.01186301 -0.11716368\n",
            " -0.01287614  0.10639337 -0.04243141  0.01057278 -0.0230855  -0.04930984\n",
            "  0.04717607  0.03696446  0.0015999  -0.02193867 -0.01331578  0.11102925\n",
            "  0.1686794   0.05814958 -0.00296521 -0.04252011 -0.00352389  0.06267346\n",
            " -0.07747819 -0.08959802 -0.02445797 -0.08913022  0.13422231  0.1258949\n",
            " -0.01296814  0.0531218  -0.00541025 -0.16908626  0.06323182 -0.11510128\n",
            " -0.08352032 -0.07224389  0.01023453  0.08263734 -0.03859017 -0.00798539\n",
            " -0.01498295  0.05448429  0.02708506  0.00549948  0.14634523 -0.12550676\n",
            "  0.04641578 -0.10164826  0.05370862  0.01217492]\n"
          ]
        }
      ],
      "source": [
        "# Load 100 dimension FastText Vectors using FastText library\n",
        "ft_en_vectors = fasttext.load_model('cc.en.100.bin')\n",
        "print(f\"Length of the embedding is: {len(ft_en_vectors.get_word_vector('king'))}\")\n",
        "print(f\"\\nEmbedding for the word King is:\\n {ft_en_vectors.get_word_vector('king')}\")"
      ]
    },
    {
      "cell_type": "markdown",
      "metadata": {
        "execution": {},
        "id": "7xXm_7jN_f0p"
      },
      "source": [
        "Cosine similarity is used for similarities between words. Similarity is a scalar between 0 and 1. Higher scalar value corresponds to higher similarity.\n",
        "\n",
        "Now find the 10 most similar words to \"king\"."
      ]
    },
    {
      "cell_type": "code",
      "execution_count": 26,
      "metadata": {
        "execution": {},
        "id": "GifkxxjT_f0p",
        "outputId": "6d4137ea-4367-417b-8571-0c4a51548ae8",
        "colab": {
          "base_uri": "https://localhost:8080/"
        }
      },
      "outputs": [
        {
          "output_type": "execute_result",
          "data": {
            "text/plain": [
              "[(0.8168574571609497, 'prince'),\n",
              " (0.796097457408905, 'emperor'),\n",
              " (0.7907207608222961, 'kings'),\n",
              " (0.7655220627784729, 'lord'),\n",
              " (0.7435404062271118, 'king-'),\n",
              " (0.7394551634788513, 'chieftain'),\n",
              " (0.7307553291320801, 'tyrant'),\n",
              " (0.7226710319519043, 'conqueror'),\n",
              " (0.719561755657196, 'kingly'),\n",
              " (0.718187689781189, 'queen')]"
            ]
          },
          "metadata": {},
          "execution_count": 26
        }
      ],
      "source": [
        "ft_en_vectors.get_nearest_neighbors(\"king\", 10)  # Most similar by key"
      ]
    },
    {
      "cell_type": "markdown",
      "metadata": {
        "execution": {},
        "id": "sR0DVZFl_f0p"
      },
      "source": [
        "### Word Similarity\n",
        "\n",
        "More on similarity between words. Let's check how similar different pairs of word are."
      ]
    },
    {
      "cell_type": "code",
      "execution_count": 27,
      "metadata": {
        "execution": {},
        "id": "hyVTKcxx_f0q",
        "outputId": "6b5d7e18-3c5f-4c0a-c903-254c687f506f",
        "colab": {
          "base_uri": "https://localhost:8080/"
        }
      },
      "outputs": [
        {
          "output_type": "stream",
          "name": "stdout",
          "text": [
            "Similarity between the words King and Queen: 0.7181877493858337\n",
            "Similarity between the words King and Knight: 0.6881008744239807\n",
            "Similarity between the words King and Rock: 0.2892838716506958\n",
            "Similarity between the words King and Twenty: 0.19655467569828033\n",
            "\n",
            "Similarity between the words Dog and Cat: 0.833964467048645\n",
            "Similarity between the words Ascending and Descending: 0.8707448840141296\n",
            "Similarity between the words Victory and Defeat: 0.7478055953979492\n",
            "Similarity between the words Less and More: 0.8461978435516357\n",
            "Similarity between the words True and False: 0.595384955406189\n"
          ]
        }
      ],
      "source": [
        "def cosine_similarity(vec_a, vec_b):\n",
        "  \"\"\"Compute cosine similarity between vec_a and vec_b\"\"\"\n",
        "  return np.dot(vec_a, vec_b) / (np.linalg.norm(vec_a) * np.linalg.norm(vec_b))\n",
        "\n",
        "\n",
        "def getSimilarity(word1, word2):\n",
        "  v1 = ft_en_vectors.get_word_vector(word1)\n",
        "  v2 = ft_en_vectors.get_word_vector(word2)\n",
        "  return cosine_similarity(v1, v2)\n",
        "\n",
        "\n",
        "print(f\"Similarity between the words King and Queen: {getSimilarity('king', 'queen')}\")\n",
        "print(f\"Similarity between the words King and Knight: {getSimilarity('king', 'knight')}\")\n",
        "print(f\"Similarity between the words King and Rock: {getSimilarity('king', 'rock')}\")\n",
        "print(f\"Similarity between the words King and Twenty: {getSimilarity('king', 'twenty')}\")\n",
        "\n",
        "print(f\"\\nSimilarity between the words Dog and Cat: {getSimilarity('dog', 'cat')}\")\n",
        "print(f\"Similarity between the words Ascending and Descending: {getSimilarity('ascending', 'descending')}\")\n",
        "print(f\"Similarity between the words Victory and Defeat: {getSimilarity('victory', 'defeat')}\")\n",
        "print(f\"Similarity between the words Less and More: {getSimilarity('less', 'more')}\")\n",
        "print(f\"Similarity between the words True and False: {getSimilarity('true', 'false')}\")"
      ]
    },
    {
      "cell_type": "code",
      "execution_count": 28,
      "metadata": {
        "cellView": "form",
        "execution": {},
        "id": "QLUIleAj_f0q",
        "outputId": "e8ccde2e-ae78-4d2f-c831-7f1ddd2984be",
        "colab": {
          "base_uri": "https://localhost:8080/"
        }
      },
      "outputs": [
        {
          "output_type": "stream",
          "name": "stdout",
          "text": [
            "Similarity between King and Frog: 0.5649225115776062\n"
          ]
        }
      ],
      "source": [
        "# @title Interactive Demo 2.2.1\n",
        "\n",
        "# @markdown Check similarity between words\n",
        "\n",
        "word1 = 'King'  # @param \\ {type:\"string\"}\n",
        "word2 = 'Frog'  # @param \\ {type:\"string\"}\n",
        "word_similarity = getSimilarity(word1, word2)\n",
        "print(f'Similarity between {word1} and {word2}: {word_similarity}')"
      ]
    },
    {
      "cell_type": "markdown",
      "metadata": {
        "execution": {},
        "id": "V4xHQXlt_f0q"
      },
      "source": [
        "Using embeddings, we can find the words that appear in similar contexts. But, what happens if the word has several different meanings? "
      ]
    },
    {
      "cell_type": "markdown",
      "metadata": {
        "execution": {},
        "id": "r4Byoae9_f0q"
      },
      "source": [
        "### Homonym Similarity\n",
        "\n",
        "Homonyms are words that have the same spelling or pronunciation but different meanings depending on the context. Let's explore how these words are embedded and their similarity in different contexts."
      ]
    },
    {
      "cell_type": "code",
      "execution_count": 29,
      "metadata": {
        "execution": {},
        "id": "CXE-ajHz_f0q",
        "outputId": "fc961362-85fd-4e29-e548-13a7d8927022",
        "colab": {
          "base_uri": "https://localhost:8080/"
        }
      },
      "outputs": [
        {
          "output_type": "stream",
          "name": "stdout",
          "text": [
            "Similarity between the words Cricket and Insect: 0.4072215259075165\n",
            "Similarity between the words Cricket and Sport: 0.5812374353408813\n"
          ]
        }
      ],
      "source": [
        "#######################     Words with multiple meanings     ##########################\n",
        "print(f\"Similarity between the words Cricket and Insect: {getSimilarity('cricket', 'insect')}\")\n",
        "print(f\"Similarity between the words Cricket and Sport: {getSimilarity('cricket', 'sport')}\")"
      ]
    },
    {
      "cell_type": "code",
      "execution_count": 30,
      "metadata": {
        "cellView": "form",
        "execution": {},
        "id": "tZR7wWqd_f0q",
        "outputId": "ff3407ad-9e46-48b3-e6ad-3eb806a14a97",
        "colab": {
          "base_uri": "https://localhost:8080/"
        }
      },
      "outputs": [
        {
          "output_type": "stream",
          "name": "stdout",
          "text": [
            "Similarity between minute and time: 0.7297980785369873\n",
            "Similarity between minute and small: 0.340322345495224\n"
          ]
        }
      ],
      "source": [
        "# @title Interactive Demo 2.2.2\n",
        "\n",
        "# @markdown Explore homonyms \\\\\n",
        "\n",
        "# @markdown examples - minute (time/small), pie (graph/food)\n",
        "\n",
        "word = 'minute'  # @param \\ {type:\"string\"}\n",
        "context_word_1 = 'time'  # @param \\ {type:\"string\"}\n",
        "context_word_2 = 'small'  # @param \\ {type:\"string\"}\n",
        "word_similarity_1 = getSimilarity(word, context_word_1)\n",
        "word_similarity_2 = getSimilarity(word, context_word_2)\n",
        "print(f'Similarity between {word} and {context_word_1}: {word_similarity_1}')\n",
        "print(f'Similarity between {word} and {context_word_2}: {word_similarity_2}')"
      ]
    },
    {
      "cell_type": "markdown",
      "metadata": {
        "execution": {},
        "id": "5MBYw_t-_f0q"
      },
      "source": [
        "### Word Analogies"
      ]
    },
    {
      "cell_type": "markdown",
      "metadata": {
        "execution": {},
        "id": "0uoCRXep_f0q"
      },
      "source": [
        "Embeddings can be used to find word analogies.\n",
        "Let's try it:\n",
        "1.   Man : Woman  ::  King : _____\n",
        "2.  Germany: Berlin :: France : _____\n",
        "3.  Leaf : Tree  ::  Petal : _____\n",
        "\n",
        "\n",
        "\n"
      ]
    },
    {
      "cell_type": "code",
      "execution_count": 31,
      "metadata": {
        "execution": {},
        "id": "B8BFFBUJ_f0r",
        "outputId": "d22a369b-2ead-4f6a-afde-2835c4477e47",
        "colab": {
          "base_uri": "https://localhost:8080/"
        }
      },
      "outputs": [
        {
          "output_type": "stream",
          "name": "stdout",
          "text": [
            "[(0.8162637948989868, 'queen')]\n",
            "[(0.8568049669265747, 'paris')]\n",
            "[(0.7037209272384644, 'flower')]\n"
          ]
        }
      ],
      "source": [
        "## Use get_analogies() funnction.\n",
        "# The words have to be in the order Positive, negative,  Positve\n",
        "\n",
        "# Man : Woman  ::  King : _____\n",
        "# Positive=(woman, king), Negative=(man)\n",
        "print(ft_en_vectors.get_analogies(\"woman\", \"man\", \"king\", 1))\n",
        "\n",
        "# Germany: Berlin :: France : ______\n",
        "# Positive=(berlin, frannce), Negative=(germany)\n",
        "print(ft_en_vectors.get_analogies(\"berlin\", \"germany\", \"france\", 1))\n",
        "\n",
        "# Leaf : Tree  ::  Petal : _____\n",
        "# Positive=(tree, petal), Negative=(leaf)\n",
        "print(ft_en_vectors.get_analogies(\"tree\", \"leaf\", \"petal\", 1))"
      ]
    },
    {
      "cell_type": "markdown",
      "metadata": {
        "execution": {},
        "id": "5ZMGOm1__f0r"
      },
      "source": [
        "But, does it always work?\n",
        "\n",
        "\n",
        "1.   Poverty : Wealth  :: Sickness : _____\n",
        "2.   train : board :: horse : _____"
      ]
    },
    {
      "cell_type": "code",
      "execution_count": 32,
      "metadata": {
        "execution": {},
        "id": "5_Tc_XYb_f0r",
        "outputId": "7e24e669-3385-4341-986a-b0ca71df0636",
        "colab": {
          "base_uri": "https://localhost:8080/"
        }
      },
      "outputs": [
        {
          "output_type": "stream",
          "name": "stdout",
          "text": [
            "[(0.615874171257019, 'affliction')]\n",
            "[(0.5437814593315125, 'bull')]\n"
          ]
        }
      ],
      "source": [
        "# Poverty : Wealth  :: Sickness : _____\n",
        "print(ft_en_vectors.get_analogies(\"wealth\", \"poverty\", \"sickness\", 1))\n",
        "\n",
        "# train : board :: horse : _____\n",
        "print(ft_en_vectors.get_analogies(\"board\", \"train\", \"horse\", 1))"
      ]
    },
    {
      "cell_type": "markdown",
      "metadata": {
        "execution": {},
        "id": "bq8glsCg_f0s"
      },
      "source": [
        "## Section 2.3: Neural Net with word embeddings"
      ]
    },
    {
      "cell_type": "code",
      "execution_count": 33,
      "metadata": {
        "cellView": "form",
        "execution": {},
        "id": "lmzr2_9k_f0s",
        "outputId": "bb8fe9ef-4ce9-4cb6-8114-dc4f1d13789c",
        "colab": {
          "base_uri": "https://localhost:8080/",
          "height": 581,
          "referenced_widgets": [
            "ec5f7d30f2ff4a238c2acf9400f2b152",
            "811f2236f5ee4e45adb9734ede724db4",
            "a5629614814c4f9493aa0bbc3b99e128",
            "82e9931d1dc3432c8a42f82b67180dbb",
            "a373024bcf6142f297f3b9ae921a80e3",
            "b25ec84ee876447da1c078440ca5fca5"
          ]
        }
      },
      "outputs": [
        {
          "output_type": "display_data",
          "data": {
            "text/plain": [
              "Tab(children=(Output(), Output()), _titles={'0': 'Youtube', '1': 'Bilibili'})"
            ],
            "application/vnd.jupyter.widget-view+json": {
              "version_major": 2,
              "version_minor": 0,
              "model_id": "ec5f7d30f2ff4a238c2acf9400f2b152"
            }
          },
          "metadata": {}
        }
      ],
      "source": [
        "# @title Video 6: Using Embeddings\n",
        "from ipywidgets import widgets\n",
        "\n",
        "out2 = widgets.Output()\n",
        "with out2:\n",
        "  from IPython.display import IFrame\n",
        "  class BiliVideo(IFrame):\n",
        "    def __init__(self, id, page=1, width=400, height=300, **kwargs):\n",
        "      self.id=id\n",
        "      src = \"https://player.bilibili.com/player.html?bvid={0}&page={1}\".format(id, page)\n",
        "      super(BiliVideo, self).__init__(src, width, height, **kwargs)\n",
        "\n",
        "  video = BiliVideo(id=\"\", width=854, height=480, fs=1)\n",
        "  print(\"Video available at https://www.bilibili.com/video/{0}\".format(video.id))\n",
        "  display(video)\n",
        "\n",
        "out1 = widgets.Output()\n",
        "with out1:\n",
        "  from IPython.display import YouTubeVideo\n",
        "  video = YouTubeVideo(id=\"9ujUgNoPeF0\", width=854, height=480, fs=1, rel=0)\n",
        "  print(\"Video available at https://youtube.com/watch?v=\" + video.id)\n",
        "  display(video)\n",
        "\n",
        "out = widgets.Tab([out1, out2])\n",
        "out.set_title(0, 'Youtube')\n",
        "out.set_title(1, 'Bilibili')\n",
        "\n",
        "# Add event to airtable\n",
        "atform.add_event('Video 6: Using Embeddings')\n",
        "\n",
        "display(out)"
      ]
    },
    {
      "cell_type": "markdown",
      "metadata": {
        "execution": {},
        "id": "c-m4Xwe6_f0s"
      },
      "source": [
        "Training context-oblivious word embeddings is relatively cheap, but most people still use pre-trained word embeddings. After we cover context-sensitive word embeddings, we'll see how to \"fine tune\" embeddings (adjust them to the task at hand).\n",
        "\n",
        "Let's use the pretrained FastText embeddings to train a neural network on the IMDB dataset.\n",
        "\n",
        "The data consists of reviews and sentiments attached to it, and it is a binary classification task."
      ]
    },
    {
      "cell_type": "markdown",
      "metadata": {
        "execution": {},
        "id": "Tc8CE7Nq_f0s"
      },
      "source": [
        "###  Coding Exercise 1: Simple feed forward net\n",
        "\n",
        "Define a vanilla neural network with linear layers. Then average the word embeddings to get an embedding for the entire review. The neural net will have one hidden layer of size 128."
      ]
    },
    {
      "cell_type": "code",
      "execution_count": 39,
      "metadata": {
        "execution": {},
        "id": "TchuHy01_f0s"
      },
      "outputs": [],
      "source": [
        "class NeuralNet(nn.Module):\n",
        "  \"\"\" A vanilla neural network. \"\"\"\n",
        "  def __init__(self, batch_size, output_size, hidden_size, vocab_size,\n",
        "               embedding_length, word_embeddings):\n",
        "    \"\"\"\n",
        "    Constructs a vanilla Neural Network Instance.\n",
        "\n",
        "    Args:\n",
        "      batch_size: Integer\n",
        "        Specifies probability of dropout hyperparameter\n",
        "      output_size: Integer\n",
        "        Specifies the size of output vector\n",
        "      hidden_size: Integer\n",
        "        Specifies the size of hidden layer\n",
        "      vocab_size: Integer\n",
        "        Specifies the size of the vocabulary\n",
        "        i.e. the number of tokens in the vocabulary\n",
        "      embedding_length: Integer\n",
        "        Specifies the size of the embedding vector\n",
        "      word_embeddings\n",
        "        Specifies the weights to create embeddings from\n",
        "        voabulary.\n",
        "\n",
        "    Returns:\n",
        "      Nothing\n",
        "    \"\"\"\n",
        "    super(NeuralNet, self).__init__()\n",
        "\n",
        "    self.batch_size = batch_size\n",
        "    self.output_size = output_size\n",
        "    self.hidden_size = hidden_size\n",
        "    self.vocab_size = vocab_size\n",
        "    self.embedding_length = embedding_length\n",
        "\n",
        "    self.word_embeddings = nn.Embedding(vocab_size, embedding_length)\n",
        "    self.word_embeddings.weight = nn.Parameter(word_embeddings, requires_grad=False)\n",
        "    self.fc1 = nn.Linear(embedding_length, hidden_size)\n",
        "    self.fc2 = nn.Linear(hidden_size, output_size)\n",
        "\n",
        "  def forward(self, inputs):\n",
        "    \"\"\"\n",
        "    Compute the final labels by taking tokens as input.\n",
        "\n",
        "    Args:\n",
        "      inputs: Tensor\n",
        "        Tensor of tokens in the text\n",
        "\n",
        "    Returns:\n",
        "      out: Tensor\n",
        "        Final prediction Tensor\n",
        "    \"\"\"\n",
        "    input = self.word_embeddings(inputs)  # convert text to embeddings\n",
        "    #################################################\n",
        "    # Implement a vanilla neural network\n",
        "    #raise NotImplementedError(\"Neural Net `forward`\")\n",
        "    #################################################\n",
        "    # Average the word embedddings in a sentence\n",
        "    # Use torch.nn.functional.avg_pool2d to compute the averages\n",
        "    pooled = F.avg_pool2d(..., (input.shape[1], 1)).squeeze(1)\n",
        "    # Pass the embeddings through the neural net\n",
        "    # Use ReLU as the non-linearity\n",
        "    x = self.fc1(pooled)\n",
        "    x = F.relu(x)\n",
        "    x = self.fc2(x)\n",
        "    output = F.log_softmax(x, dim=1)\n",
        "    return output\n",
        "\n",
        "\n",
        "# add event to airtable\n",
        "atform.add_event('Coding Exercise 1: Neural Net for text classification')"
      ]
    },
    {
      "cell_type": "markdown",
      "metadata": {
        "execution": {},
        "id": "x8iua3T7_f0s"
      },
      "source": [
        "[*Click for solution*](https://github.com/NeuromatchAcademy/course-content-dl/tree/main//tutorials/W2D5_TimeSeriesAndNaturalLanguageProcessing/solutions/W2D5_Tutorial1_Solution_e152469f.py)\n",
        "\n"
      ]
    },
    {
      "cell_type": "code",
      "execution_count": 35,
      "metadata": {
        "cellView": "form",
        "execution": {},
        "id": "fw6ycCAv_f0t"
      },
      "outputs": [],
      "source": [
        "# @markdown ### Helper functions\n",
        "\n",
        "# @markdown - `train(model, device, train_iter, valid_iter, epochs, learning_rate)`\n",
        "\n",
        "# @markdown - `test(model,  device, test_iter)`\n",
        "\n",
        "# @markdown - `load_dataset(emb_vectors, seed, sentence_length=50, batch_size=32)`\n",
        "\n",
        "# @markdown - `plot_train_val(x, train, val, train_label, val_label, title)`\n",
        "\n",
        "\n",
        "# Training\n",
        "def train(model, device, train_iter, valid_iter, epochs, learning_rate):\n",
        "  criterion = nn.CrossEntropyLoss()\n",
        "  optimizer = torch.optim.Adam(model.parameters(), lr=learning_rate)\n",
        "\n",
        "  train_loss, validation_loss = [], []\n",
        "  train_acc, validation_acc = [], []\n",
        "\n",
        "  for epoch in range(epochs):\n",
        "    # train\n",
        "    model.train()\n",
        "    running_loss = 0.\n",
        "    correct, total = 0, 0\n",
        "    steps = 0\n",
        "\n",
        "    for idx, batch in enumerate(train_iter):\n",
        "      text = batch.text[0]\n",
        "      target = batch.label\n",
        "      target = torch.autograd.Variable(target).long()\n",
        "      text, target = text.to(device), target.to(device)\n",
        "\n",
        "      # add micro for coding training loop\n",
        "      optimizer.zero_grad()\n",
        "      output = model(text)\n",
        "      loss = criterion(output, target)\n",
        "      loss.backward()\n",
        "      optimizer.step()\n",
        "      steps += 1\n",
        "      running_loss += loss.item()\n",
        "\n",
        "      # get accuracy\n",
        "      _, predicted = torch.max(output, 1)\n",
        "      total += target.size(0)\n",
        "      correct += (predicted == target).sum().item()\n",
        "    train_loss.append(running_loss/len(train_iter))\n",
        "    train_acc.append(correct/total)\n",
        "\n",
        "    print(f'Epoch: {epoch + 1},  Training Loss: {running_loss/len(train_iter):.4f}, Training Accuracy: {100*correct/total: .2f}%')\n",
        "\n",
        "    # evaluate on validation data\n",
        "    model.eval()\n",
        "    running_loss = 0.\n",
        "    correct, total = 0, 0\n",
        "\n",
        "    with torch.no_grad():\n",
        "      for idx, batch in enumerate(valid_iter):\n",
        "        text = batch.text[0]\n",
        "        target = batch.label\n",
        "        target = torch.autograd.Variable(target).long()\n",
        "        text, target = text.to(device), target.to(device)\n",
        "\n",
        "        optimizer.zero_grad()\n",
        "        output = model(text)\n",
        "\n",
        "        loss = criterion(output, target)\n",
        "        running_loss += loss.item()\n",
        "\n",
        "        # get accuracy\n",
        "        _, predicted = torch.max(output, 1)\n",
        "        total += target.size(0)\n",
        "        correct += (predicted == target).sum().item()\n",
        "\n",
        "    validation_loss.append(running_loss/len(valid_iter))\n",
        "    validation_acc.append(correct/total)\n",
        "\n",
        "    print (f'Validation Loss: {running_loss/len(valid_iter):.4f}, Validation Accuracy: {100*correct/total: .2f}% \\n')\n",
        "\n",
        "  return train_loss, train_acc, validation_loss, validation_acc\n",
        "\n",
        "\n",
        "# Testing\n",
        "def test(model, device, test_iter):\n",
        "  model.eval()\n",
        "  correct = 0\n",
        "  total = 0\n",
        "  with torch.no_grad():\n",
        "    for idx, batch in enumerate(test_iter):\n",
        "      text = batch.text[0]\n",
        "      target = batch.label\n",
        "      target = torch.autograd.Variable(target).long()\n",
        "      text, target = text.to(device), target.to(device)\n",
        "\n",
        "      outputs = model(text)\n",
        "      _, predicted = torch.max(outputs, 1)\n",
        "      total += target.size(0)\n",
        "      correct += (predicted == target).sum().item()\n",
        "\n",
        "    acc = 100 * correct / total\n",
        "    return acc\n",
        "\n",
        "\n",
        "def download_osf():\n",
        "  # Download IMDB dataset from OSF\n",
        "  import tarfile, requests, os\n",
        "  url = \"https://osf.io/dvse9/download\"\n",
        "  fname = \"aclImdb_v1.tar.gz\"\n",
        "\n",
        "  print('Downloading Started...')\n",
        "  # Downloading the file by sending the request to the URL\n",
        "  r = requests.get(url, stream=True)\n",
        "\n",
        "  # Writing the file to the local file system\n",
        "  with open(fname, 'wb') as f:\n",
        "    f.write(r.content)\n",
        "  print('Downloading Completed.')\n",
        "\n",
        "  with tarfile.open(fname) as f:\n",
        "    # extracting all the files\n",
        "    print('Extracting all the files now...')\n",
        "    f.extractall('.data/imdb')  # specify which folder to extract to\n",
        "    print('Done!')\n",
        "    os.remove(fname)\n",
        "\n",
        "\n",
        "def load_dataset(emb_vectors, seed, sentence_length=50, batch_size=32):\n",
        "  download_osf()\n",
        "  print(\"Dataset loading...\")\n",
        "  TEXT = data.Field(sequential=True, tokenize=tokenize, lower=True,\n",
        "                    include_lengths=True, batch_first=True,\n",
        "                    fix_length=sentence_length)\n",
        "  LABEL = data.LabelField(dtype=torch.float)\n",
        "\n",
        "  train_data, test_data = datasets.IMDB.splits(TEXT, LABEL)\n",
        "\n",
        "  TEXT.build_vocab(train_data, vectors=emb_vectors)\n",
        "  LABEL.build_vocab(train_data)\n",
        "\n",
        "  train_data, valid_data = train_data.split(split_ratio=0.7,\n",
        "                                            random_state=random.seed(seed))\n",
        "  datasets_ = (train_data, valid_data, test_data)\n",
        "  train_iter, valid_iter, test_iter = data.BucketIterator.splits(datasets_,\n",
        "                                                                 batch_size=batch_size,\n",
        "                                                                 sort_key=lambda x: len(x.text),\n",
        "                                                                 repeat=False,\n",
        "                                                                 shuffle=True)\n",
        "  vocab_size = len(TEXT.vocab)\n",
        "  print(\"Done!\")\n",
        "  return TEXT, vocab_size, train_iter, valid_iter, test_iter\n",
        "\n",
        "\n",
        "# Plotting\n",
        "def plot_train_val(x, train, val, train_label, val_label, title, ylabel):\n",
        "  plt.plot(x, train, label=train_label)\n",
        "  plt.plot(x, val, label=val_label)\n",
        "  plt.legend()\n",
        "  plt.xlabel('epoch')\n",
        "  plt.ylabel(ylabel)\n",
        "  plt.title(title)\n",
        "  plt.show()\n",
        "\n",
        "\n",
        "# Dataset\n",
        "def tokenize(sentences):\n",
        "  # Tokenize the sentence\n",
        "  # from nltk.tokenize library use word_tokenize\n",
        "  token = word_tokenize(sentences)\n",
        "  return token"
      ]
    },
    {
      "cell_type": "code",
      "execution_count": 40,
      "metadata": {
        "cellView": "form",
        "execution": {},
        "id": "GDgN0RHm_f0t",
        "outputId": "f06214b4-3e98-4113-c3e6-f31c08d2cf90",
        "colab": {
          "base_uri": "https://localhost:8080/"
        }
      },
      "outputs": [
        {
          "output_type": "stream",
          "name": "stdout",
          "text": [
            "Downloading Started...\n",
            "Downloading Completed.\n",
            "Extracting all the files now...\n",
            "Done!\n",
            "Dataset loading...\n",
            "Done!\n"
          ]
        }
      ],
      "source": [
        "# @markdown ### Download embeddings and load the dataset\n",
        "\n",
        "# @markdown This will load 300 dim FastText embeddings.\n",
        "\n",
        "# @markdown It will take around 3-4 minutes.\n",
        "\n",
        "embedding_fasttext = FastText('simple')\n",
        "TEXT, vocab_size, train_iter, valid_iter, test_iter = load_dataset(embedding_fasttext, seed=SEED)"
      ]
    },
    {
      "cell_type": "code",
      "execution_count": 41,
      "metadata": {
        "execution": {},
        "id": "bmx6pH7O_f0t",
        "outputId": "c0df980f-b643-4c42-fd2f-cda2365c8fe8",
        "colab": {
          "base_uri": "https://localhost:8080/",
          "height": 407
        }
      },
      "outputs": [
        {
          "output_type": "error",
          "ename": "TypeError",
          "evalue": "ignored",
          "traceback": [
            "\u001b[0;31m---------------------------------------------------------------------------\u001b[0m",
            "\u001b[0;31mTypeError\u001b[0m                                 Traceback (most recent call last)",
            "\u001b[0;32m<ipython-input-41-12383907b1be>\u001b[0m in \u001b[0;36m<module>\u001b[0;34m()\u001b[0m\n\u001b[1;32m     11\u001b[0m \u001b[0mnn_model\u001b[0m\u001b[0;34m.\u001b[0m\u001b[0mto\u001b[0m\u001b[0;34m(\u001b[0m\u001b[0mDEVICE\u001b[0m\u001b[0;34m)\u001b[0m\u001b[0;34m\u001b[0m\u001b[0;34m\u001b[0m\u001b[0m\n\u001b[1;32m     12\u001b[0m \u001b[0mnn_start_time\u001b[0m \u001b[0;34m=\u001b[0m \u001b[0mtime\u001b[0m\u001b[0;34m.\u001b[0m\u001b[0mtime\u001b[0m\u001b[0;34m(\u001b[0m\u001b[0;34m)\u001b[0m\u001b[0;34m\u001b[0m\u001b[0;34m\u001b[0m\u001b[0m\n\u001b[0;32m---> 13\u001b[0;31m \u001b[0mnn_train_loss\u001b[0m\u001b[0;34m,\u001b[0m \u001b[0mnn_train_acc\u001b[0m\u001b[0;34m,\u001b[0m \u001b[0mnn_validation_loss\u001b[0m\u001b[0;34m,\u001b[0m \u001b[0mnn_validation_acc\u001b[0m \u001b[0;34m=\u001b[0m \u001b[0mtrain\u001b[0m\u001b[0;34m(\u001b[0m\u001b[0mnn_model\u001b[0m\u001b[0;34m,\u001b[0m \u001b[0mDEVICE\u001b[0m\u001b[0;34m,\u001b[0m \u001b[0mtrain_iter\u001b[0m\u001b[0;34m,\u001b[0m \u001b[0mvalid_iter\u001b[0m\u001b[0;34m,\u001b[0m \u001b[0mepochs\u001b[0m\u001b[0;34m,\u001b[0m \u001b[0mlearning_rate\u001b[0m\u001b[0;34m)\u001b[0m\u001b[0;34m\u001b[0m\u001b[0;34m\u001b[0m\u001b[0m\n\u001b[0m\u001b[1;32m     14\u001b[0m \u001b[0mprint\u001b[0m\u001b[0;34m(\u001b[0m\u001b[0;34m)\u001b[0m\u001b[0;34m\u001b[0m\u001b[0;34m\u001b[0m\u001b[0m\n\u001b[1;32m     15\u001b[0m \u001b[0mprint\u001b[0m\u001b[0;34m(\u001b[0m\u001b[0;34mf\"--- Time taken to train = {time.time() - nn_start_time} seconds ---\"\u001b[0m\u001b[0;34m)\u001b[0m\u001b[0;34m\u001b[0m\u001b[0;34m\u001b[0m\u001b[0m\n",
            "\u001b[0;32m<ipython-input-35-e67a86c872d0>\u001b[0m in \u001b[0;36mtrain\u001b[0;34m(model, device, train_iter, valid_iter, epochs, learning_rate)\u001b[0m\n\u001b[1;32m     33\u001b[0m       \u001b[0;31m# add micro for coding training loop\u001b[0m\u001b[0;34m\u001b[0m\u001b[0;34m\u001b[0m\u001b[0;34m\u001b[0m\u001b[0m\n\u001b[1;32m     34\u001b[0m       \u001b[0moptimizer\u001b[0m\u001b[0;34m.\u001b[0m\u001b[0mzero_grad\u001b[0m\u001b[0;34m(\u001b[0m\u001b[0;34m)\u001b[0m\u001b[0;34m\u001b[0m\u001b[0;34m\u001b[0m\u001b[0m\n\u001b[0;32m---> 35\u001b[0;31m       \u001b[0moutput\u001b[0m \u001b[0;34m=\u001b[0m \u001b[0mmodel\u001b[0m\u001b[0;34m(\u001b[0m\u001b[0mtext\u001b[0m\u001b[0;34m)\u001b[0m\u001b[0;34m\u001b[0m\u001b[0;34m\u001b[0m\u001b[0m\n\u001b[0m\u001b[1;32m     36\u001b[0m       \u001b[0mloss\u001b[0m \u001b[0;34m=\u001b[0m \u001b[0mcriterion\u001b[0m\u001b[0;34m(\u001b[0m\u001b[0moutput\u001b[0m\u001b[0;34m,\u001b[0m \u001b[0mtarget\u001b[0m\u001b[0;34m)\u001b[0m\u001b[0;34m\u001b[0m\u001b[0;34m\u001b[0m\u001b[0m\n\u001b[1;32m     37\u001b[0m       \u001b[0mloss\u001b[0m\u001b[0;34m.\u001b[0m\u001b[0mbackward\u001b[0m\u001b[0;34m(\u001b[0m\u001b[0;34m)\u001b[0m\u001b[0;34m\u001b[0m\u001b[0;34m\u001b[0m\u001b[0m\n",
            "\u001b[0;32m/usr/local/lib/python3.7/dist-packages/torch/nn/modules/module.py\u001b[0m in \u001b[0;36m_call_impl\u001b[0;34m(self, *input, **kwargs)\u001b[0m\n\u001b[1;32m    887\u001b[0m             \u001b[0mresult\u001b[0m \u001b[0;34m=\u001b[0m \u001b[0mself\u001b[0m\u001b[0;34m.\u001b[0m\u001b[0m_slow_forward\u001b[0m\u001b[0;34m(\u001b[0m\u001b[0;34m*\u001b[0m\u001b[0minput\u001b[0m\u001b[0;34m,\u001b[0m \u001b[0;34m**\u001b[0m\u001b[0mkwargs\u001b[0m\u001b[0;34m)\u001b[0m\u001b[0;34m\u001b[0m\u001b[0;34m\u001b[0m\u001b[0m\n\u001b[1;32m    888\u001b[0m         \u001b[0;32melse\u001b[0m\u001b[0;34m:\u001b[0m\u001b[0;34m\u001b[0m\u001b[0;34m\u001b[0m\u001b[0m\n\u001b[0;32m--> 889\u001b[0;31m             \u001b[0mresult\u001b[0m \u001b[0;34m=\u001b[0m \u001b[0mself\u001b[0m\u001b[0;34m.\u001b[0m\u001b[0mforward\u001b[0m\u001b[0;34m(\u001b[0m\u001b[0;34m*\u001b[0m\u001b[0minput\u001b[0m\u001b[0;34m,\u001b[0m \u001b[0;34m**\u001b[0m\u001b[0mkwargs\u001b[0m\u001b[0;34m)\u001b[0m\u001b[0;34m\u001b[0m\u001b[0;34m\u001b[0m\u001b[0m\n\u001b[0m\u001b[1;32m    890\u001b[0m         for hook in itertools.chain(\n\u001b[1;32m    891\u001b[0m                 \u001b[0m_global_forward_hooks\u001b[0m\u001b[0;34m.\u001b[0m\u001b[0mvalues\u001b[0m\u001b[0;34m(\u001b[0m\u001b[0;34m)\u001b[0m\u001b[0;34m,\u001b[0m\u001b[0;34m\u001b[0m\u001b[0;34m\u001b[0m\u001b[0m\n",
            "\u001b[0;32m<ipython-input-39-c368726a7818>\u001b[0m in \u001b[0;36mforward\u001b[0;34m(self, inputs)\u001b[0m\n\u001b[1;32m     57\u001b[0m     \u001b[0;31m# Average the word embedddings in a sentence\u001b[0m\u001b[0;34m\u001b[0m\u001b[0;34m\u001b[0m\u001b[0;34m\u001b[0m\u001b[0m\n\u001b[1;32m     58\u001b[0m     \u001b[0;31m# Use torch.nn.functional.avg_pool2d to compute the averages\u001b[0m\u001b[0;34m\u001b[0m\u001b[0;34m\u001b[0m\u001b[0;34m\u001b[0m\u001b[0m\n\u001b[0;32m---> 59\u001b[0;31m     \u001b[0mpooled\u001b[0m \u001b[0;34m=\u001b[0m \u001b[0mF\u001b[0m\u001b[0;34m.\u001b[0m\u001b[0mavg_pool2d\u001b[0m\u001b[0;34m(\u001b[0m\u001b[0;34m...\u001b[0m\u001b[0;34m,\u001b[0m \u001b[0;34m(\u001b[0m\u001b[0minput\u001b[0m\u001b[0;34m.\u001b[0m\u001b[0mshape\u001b[0m\u001b[0;34m[\u001b[0m\u001b[0;36m1\u001b[0m\u001b[0;34m]\u001b[0m\u001b[0;34m,\u001b[0m \u001b[0;36m1\u001b[0m\u001b[0;34m)\u001b[0m\u001b[0;34m)\u001b[0m\u001b[0;34m.\u001b[0m\u001b[0msqueeze\u001b[0m\u001b[0;34m(\u001b[0m\u001b[0;36m1\u001b[0m\u001b[0;34m)\u001b[0m\u001b[0;34m\u001b[0m\u001b[0;34m\u001b[0m\u001b[0m\n\u001b[0m\u001b[1;32m     60\u001b[0m     \u001b[0;31m# Pass the embeddings through the neural net\u001b[0m\u001b[0;34m\u001b[0m\u001b[0;34m\u001b[0m\u001b[0;34m\u001b[0m\u001b[0m\n\u001b[1;32m     61\u001b[0m     \u001b[0;31m# Use ReLU as the non-linearity\u001b[0m\u001b[0;34m\u001b[0m\u001b[0;34m\u001b[0m\u001b[0;34m\u001b[0m\u001b[0m\n",
            "\u001b[0;31mTypeError\u001b[0m: avg_pool2d(): argument 'input' (position 1) must be Tensor, not ellipsis"
          ]
        }
      ],
      "source": [
        "learning_rate = 0.0003\n",
        "batch_size = 32\n",
        "output_size = 2\n",
        "hidden_size = 128\n",
        "embedding_length = 300\n",
        "epochs = 15\n",
        "word_embeddings = TEXT.vocab.vectors\n",
        "vocab_size = len(TEXT.vocab)\n",
        "\n",
        "nn_model = NeuralNet(batch_size, output_size, hidden_size, vocab_size, embedding_length, word_embeddings)\n",
        "nn_model.to(DEVICE)\n",
        "nn_start_time = time.time()\n",
        "nn_train_loss, nn_train_acc, nn_validation_loss, nn_validation_acc = train(nn_model, DEVICE, train_iter, valid_iter, epochs, learning_rate)\n",
        "print()\n",
        "print(f\"--- Time taken to train = {time.time() - nn_start_time} seconds ---\")\n",
        "test_accuracy = test(nn_model, DEVICE, test_iter)\n",
        "print()\n",
        "print(f'Test Accuracy: {test_accuracy}%')"
      ]
    },
    {
      "cell_type": "code",
      "execution_count": null,
      "metadata": {
        "execution": {},
        "id": "KDanHWon_f0t"
      },
      "outputs": [],
      "source": [
        "plot_train_val(np.arange(0, epochs), nn_train_acc, nn_validation_acc,\n",
        "               'training_accuracy', 'validation_accuracy',\n",
        "               'Neural Net on IMDB text classification', 'accuracy')\n",
        "plot_train_val(np.arange(0, epochs), nn_train_loss, nn_validation_loss,\n",
        "               'training_loss', 'validation_loss',\n",
        "               'Neural Net on IMDB text classification', 'loss')"
      ]
    },
    {
      "cell_type": "markdown",
      "metadata": {
        "execution": {},
        "id": "XiO7kCmV_f0t"
      },
      "source": [
        "---\n",
        "# Summary\n",
        "\n",
        "In this tutorial, we introduced how to process time series by taking language as an example. To process time series, we should convert them into embeddings.\n",
        "\n",
        "We can first tokenize the words for text and then create either context-oblivious or context-dependent embeddings.\n",
        "\n",
        "Finally, we saw how these word embeddings could be processed for applications such as text classification."
      ]
    },
    {
      "cell_type": "code",
      "execution_count": null,
      "metadata": {
        "cellView": "form",
        "execution": {},
        "id": "J_pE56Kg_f0u"
      },
      "outputs": [],
      "source": [
        "# @title Airtable Submission Link\n",
        "from IPython import display as IPydisplay\n",
        "IPydisplay.HTML(\n",
        "   f\"\"\"\n",
        " <div>\n",
        "   <a href= \"{atform.url()}\" target=\"_blank\">\n",
        "   <img src=\"https://github.com/NeuromatchAcademy/course-content-dl/blob/main/tutorials/static/AirtableSubmissionButton.png?raw=1\"\n",
        " alt=\"button link to Airtable\" style=\"width:410px\"></a>\n",
        "   </div>\"\"\" )"
      ]
    },
    {
      "cell_type": "markdown",
      "metadata": {
        "execution": {},
        "id": "EDVl6vLk_f0u"
      },
      "source": [
        "If you want to learn about **Multilingual Embeddings** see the Bonus tutorial on [colab](https://colab.research.google.com/github/NeuromatchAcademy/course-content-dl/blob/main/tutorials/W2D5_TimeSeriesAndNaturalLanguageProcessing/W2D5_Tutorial3.ipynb) or [kaggle](https://kaggle.com/kernels/welcome?src=https://raw.githubusercontent.com/NeuromatchAcademy/course-content-dl/main/tutorials/W2D5_TimeSeriesAndNaturalLanguageProcessing/W2D5_Tutorial3.ipynb). But first, we suggest completing the tutorial 2!"
      ]
    }
  ],
  "metadata": {
    "accelerator": "GPU",
    "colab": {
      "collapsed_sections": [],
      "name": "W2D5_Tutorial1",
      "provenance": [],
      "toc_visible": true,
      "include_colab_link": true
    },
    "gpuClass": "standard",
    "kernel": {
      "display_name": "Python 3",
      "language": "python",
      "name": "python3"
    },
    "kernelspec": {
      "display_name": "Python 3",
      "name": "python3"
    },
    "language_info": {
      "name": "python"
    },
    "widgets": {
      "application/vnd.jupyter.widget-state+json": {
        "cf741ab9ee7e4fe28e064c085a10e868": {
          "model_module": "@jupyter-widgets/controls",
          "model_name": "TabModel",
          "model_module_version": "1.5.0",
          "state": {
            "_dom_classes": [],
            "_model_module": "@jupyter-widgets/controls",
            "_model_module_version": "1.5.0",
            "_model_name": "TabModel",
            "_titles": {
              "0": "Youtube",
              "1": "Bilibili"
            },
            "_view_count": null,
            "_view_module": "@jupyter-widgets/controls",
            "_view_module_version": "1.5.0",
            "_view_name": "TabView",
            "box_style": "",
            "children": [
              "IPY_MODEL_03c2a286874b44baa2c7fad1fd2f7cae",
              "IPY_MODEL_25483a93da014a04a5f28aa7a8a7ebc0"
            ],
            "layout": "IPY_MODEL_c6652bd619974fa691eb0d6658358008",
            "selected_index": 0
          }
        },
        "03c2a286874b44baa2c7fad1fd2f7cae": {
          "model_module": "@jupyter-widgets/output",
          "model_name": "OutputModel",
          "model_module_version": "1.0.0",
          "state": {
            "_dom_classes": [],
            "_model_module": "@jupyter-widgets/output",
            "_model_module_version": "1.0.0",
            "_model_name": "OutputModel",
            "_view_count": null,
            "_view_module": "@jupyter-widgets/output",
            "_view_module_version": "1.0.0",
            "_view_name": "OutputView",
            "layout": "IPY_MODEL_fb724d344fbf4d5294f836c72f9008f8",
            "msg_id": "",
            "outputs": [
              {
                "output_type": "stream",
                "name": "stdout",
                "text": [
                  "Video available at https://youtube.com/watch?v=W4RTRXt7pO0\n"
                ]
              },
              {
                "output_type": "display_data",
                "data": {
                  "text/plain": "<IPython.lib.display.YouTubeVideo at 0x7f6f815be310>",
                  "text/html": "\n        <iframe\n            width=\"854\"\n            height=\"480\"\n            src=\"https://www.youtube.com/embed/W4RTRXt7pO0?fs=1&rel=0\"\n            frameborder=\"0\"\n            allowfullscreen\n        ></iframe>\n        ",
                  "image/jpeg": "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\n"
                },
                "metadata": {}
              }
            ]
          }
        },
        "25483a93da014a04a5f28aa7a8a7ebc0": {
          "model_module": "@jupyter-widgets/output",
          "model_name": "OutputModel",
          "model_module_version": "1.0.0",
          "state": {
            "_dom_classes": [],
            "_model_module": "@jupyter-widgets/output",
            "_model_module_version": "1.0.0",
            "_model_name": "OutputModel",
            "_view_count": null,
            "_view_module": "@jupyter-widgets/output",
            "_view_module_version": "1.0.0",
            "_view_name": "OutputView",
            "layout": "IPY_MODEL_34e7f9261f644cf985257197400a8023",
            "msg_id": "",
            "outputs": [
              {
                "output_type": "stream",
                "name": "stdout",
                "text": [
                  "Video available at https://www.bilibili.com/video/\n"
                ]
              },
              {
                "output_type": "display_data",
                "data": {
                  "text/plain": "<__main__.BiliVideo at 0x7f6f815da950>",
                  "text/html": "\n        <iframe\n            width=\"854\"\n            height=\"480\"\n            src=\"https://player.bilibili.com/player.html?bvid=&page=1?fs=1\"\n            frameborder=\"0\"\n            allowfullscreen\n        ></iframe>\n        "
                },
                "metadata": {}
              }
            ]
          }
        },
        "c6652bd619974fa691eb0d6658358008": {
          "model_module": "@jupyter-widgets/base",
          "model_name": "LayoutModel",
          "model_module_version": "1.2.0",
          "state": {
            "_model_module": "@jupyter-widgets/base",
            "_model_module_version": "1.2.0",
            "_model_name": "LayoutModel",
            "_view_count": null,
            "_view_module": "@jupyter-widgets/base",
            "_view_module_version": "1.2.0",
            "_view_name": "LayoutView",
            "align_content": null,
            "align_items": null,
            "align_self": null,
            "border": null,
            "bottom": null,
            "display": null,
            "flex": null,
            "flex_flow": null,
            "grid_area": null,
            "grid_auto_columns": null,
            "grid_auto_flow": null,
            "grid_auto_rows": null,
            "grid_column": null,
            "grid_gap": null,
            "grid_row": null,
            "grid_template_areas": null,
            "grid_template_columns": null,
            "grid_template_rows": null,
            "height": null,
            "justify_content": null,
            "justify_items": null,
            "left": null,
            "margin": null,
            "max_height": null,
            "max_width": null,
            "min_height": null,
            "min_width": null,
            "object_fit": null,
            "object_position": null,
            "order": null,
            "overflow": null,
            "overflow_x": null,
            "overflow_y": null,
            "padding": null,
            "right": null,
            "top": null,
            "visibility": null,
            "width": null
          }
        },
        "fb724d344fbf4d5294f836c72f9008f8": {
          "model_module": "@jupyter-widgets/base",
          "model_name": "LayoutModel",
          "model_module_version": "1.2.0",
          "state": {
            "_model_module": "@jupyter-widgets/base",
            "_model_module_version": "1.2.0",
            "_model_name": "LayoutModel",
            "_view_count": null,
            "_view_module": "@jupyter-widgets/base",
            "_view_module_version": "1.2.0",
            "_view_name": "LayoutView",
            "align_content": null,
            "align_items": null,
            "align_self": null,
            "border": null,
            "bottom": null,
            "display": null,
            "flex": null,
            "flex_flow": null,
            "grid_area": null,
            "grid_auto_columns": null,
            "grid_auto_flow": null,
            "grid_auto_rows": null,
            "grid_column": null,
            "grid_gap": null,
            "grid_row": null,
            "grid_template_areas": null,
            "grid_template_columns": null,
            "grid_template_rows": null,
            "height": null,
            "justify_content": null,
            "justify_items": null,
            "left": null,
            "margin": null,
            "max_height": null,
            "max_width": null,
            "min_height": null,
            "min_width": null,
            "object_fit": null,
            "object_position": null,
            "order": null,
            "overflow": null,
            "overflow_x": null,
            "overflow_y": null,
            "padding": null,
            "right": null,
            "top": null,
            "visibility": null,
            "width": null
          }
        },
        "34e7f9261f644cf985257197400a8023": {
          "model_module": "@jupyter-widgets/base",
          "model_name": "LayoutModel",
          "model_module_version": "1.2.0",
          "state": {
            "_model_module": "@jupyter-widgets/base",
            "_model_module_version": "1.2.0",
            "_model_name": "LayoutModel",
            "_view_count": null,
            "_view_module": "@jupyter-widgets/base",
            "_view_module_version": "1.2.0",
            "_view_name": "LayoutView",
            "align_content": null,
            "align_items": null,
            "align_self": null,
            "border": null,
            "bottom": null,
            "display": null,
            "flex": null,
            "flex_flow": null,
            "grid_area": null,
            "grid_auto_columns": null,
            "grid_auto_flow": null,
            "grid_auto_rows": null,
            "grid_column": null,
            "grid_gap": null,
            "grid_row": null,
            "grid_template_areas": null,
            "grid_template_columns": null,
            "grid_template_rows": null,
            "height": null,
            "justify_content": null,
            "justify_items": null,
            "left": null,
            "margin": null,
            "max_height": null,
            "max_width": null,
            "min_height": null,
            "min_width": null,
            "object_fit": null,
            "object_position": null,
            "order": null,
            "overflow": null,
            "overflow_x": null,
            "overflow_y": null,
            "padding": null,
            "right": null,
            "top": null,
            "visibility": null,
            "width": null
          }
        },
        "bf4b8d226f894ad6a89ce6074ee5571e": {
          "model_module": "@jupyter-widgets/controls",
          "model_name": "TabModel",
          "model_module_version": "1.5.0",
          "state": {
            "_dom_classes": [],
            "_model_module": "@jupyter-widgets/controls",
            "_model_module_version": "1.5.0",
            "_model_name": "TabModel",
            "_titles": {
              "0": "Youtube",
              "1": "Bilibili"
            },
            "_view_count": null,
            "_view_module": "@jupyter-widgets/controls",
            "_view_module_version": "1.5.0",
            "_view_name": "TabView",
            "box_style": "",
            "children": [
              "IPY_MODEL_18fb23b4b5f94aa7a034621a4a180c8c",
              "IPY_MODEL_86d30f1c7eee40058e2dc9a44616039b"
            ],
            "layout": "IPY_MODEL_f7b1748041e34a42a35ca89693dbbe1f",
            "selected_index": 0
          }
        },
        "18fb23b4b5f94aa7a034621a4a180c8c": {
          "model_module": "@jupyter-widgets/output",
          "model_name": "OutputModel",
          "model_module_version": "1.0.0",
          "state": {
            "_dom_classes": [],
            "_model_module": "@jupyter-widgets/output",
            "_model_module_version": "1.0.0",
            "_model_name": "OutputModel",
            "_view_count": null,
            "_view_module": "@jupyter-widgets/output",
            "_view_module_version": "1.0.0",
            "_view_name": "OutputView",
            "layout": "IPY_MODEL_1ba8ac910c064dbeb1aa8a59d9aca38c",
            "msg_id": "",
            "outputs": [
              {
                "output_type": "stream",
                "name": "stdout",
                "text": [
                  "Video available at https://youtube.com/watch?v=Q-PGZyaBQVk\n"
                ]
              },
              {
                "output_type": "display_data",
                "data": {
                  "text/plain": "<IPython.lib.display.YouTubeVideo at 0x7f6f815162d0>",
                  "text/html": "\n        <iframe\n            width=\"854\"\n            height=\"480\"\n            src=\"https://www.youtube.com/embed/Q-PGZyaBQVk?fs=1&rel=0\"\n            frameborder=\"0\"\n            allowfullscreen\n        ></iframe>\n        ",
                  "image/jpeg": "/9j/4AAQSkZJRgABAQAAAQABAAD/2wCEABALDBoYFhsaGBodHRsfHyAfICAgICknJSUnLycxMC4nLS01PVBCNThLOS0tRWFFS1NWW11bMkFlbWRYbFBZW1cBERISGRYZMBsbMGA9Nz1iV1ddXV9XV1dXV1ddV1dXXVdXV1dXV1dXV11XV1dXV1ddV1dXV1dXV11XV1dXV1dXV//AABEIAWgB4AMBIgACEQEDEQH/xAAbAAEAAQUBAAAAAAAAAAAAAAAABQECAwQGB//EAEsQAAIBAgIFBwcKAwcEAQUAAAABAgMRBBITITFRkgUWIkFSU9IGF2Fxc5HRFCMyMzRCgaGxshVigjVUY3KTweEkQ6LwB0R0s8Px/8QAGQEBAAMBAQAAAAAAAAAAAAAAAAIDBAEF/8QAJBEBAAICAgIBBQEBAAAAAAAAAAECAxESMSFRFAQTIjJBUmH/2gAMAwEAAhEDEQA/APPwAAAAAAAAAAAAAAAAAAAAAAAAAAAAAAAAAAAAAAAAAAAAAAAAAAAAAAAAAAAAAAAAAAAAAAAAAAAAAAAAAAAAAAAAAAAAAAAAAAAAAAAAAAAAAAAAAAAAAAAAAAAAAAAAAAAAAAAAAAAAAAAAAAAAAAAAAAAAAAAAdf5uMb3uG45+AebjG97huOfgA5AHX+bjG97huOfgHm4xve4bjn4AOQB1/m4xve4bjn4B5uMb3uG45+ADkAdf5uMb3uG45+AebjG97huOfgA5AHX+bjG97huOfgHm4xve4bjn4AOQB1/m4xve4bjn4B5uMb3uG45+ADkAdf5uMb3uG45+AebjG97huOfgA5AHX+bjG97huOfgHm4xve4bjn4AOQB1/m4xve4bjn4B5uMb3uG45+ADkAdf5uMb3uG45+AebjG97huOfgA5AHX+bjG97huOfgHm4xve4bjn4AOQB1/m4xve4bjn4B5uMb3uG45+ADkAdf5uMb3uG45+AebjG97huOfgA5AHX+bjG97huOfgHm4xve4bjn4AOQB1/m4xve4bjn4B5uMb3uG45+ADkAdf5uMb3uG45+AebjG97huOfgA5AHX+bjG97huOfgHm4xve4bjn4AOQB1/m4xve4bjn4B5uMb3uG45+ADkAdf5uMb3uG45+AebjG97huOfgA5AHX+bjG97huOfgHm4xve4bjn4AOQB1/m4xve4bjn4B5uMb3uG45+ADkAdf5uMb3uG45+AebjG97huOfgA5AHX+bjG97huOfgHm4xve4bjn4AOQB1/m4xve4bjn4A//AI5xqV9LhuOfgA5AEouQaz+9D3v4FVyBW7VP3v4ARQJdeTlbtU/fL4F8fJiu/vU/fL4AQoJ6PkliH9+lxS8Jlj5F4p/fo8UvCBzgOm5j4rvKHFPwlr8isUvv0eKXhA5sHQ8zcT26PFLwjmdie3R4peEDngdFzMxPbo8UvCWz8kMQts6PFLwgevgAAAAAAAAAAAAAAAAAAAAAAAAAAAAAAAAAAAAAAAAAAAAAAAAAAAAAAAAAAAABbP6L9TLi2ex+pged0diM+QQh+iMyiRkUpQsZ4xLYIzQQGWjE36cTUoo3Iuy1koNL7GKaI2ryq3Loal1byyOJnt1kOa6MPjy33EtsY6GMjJqMnab1L06rmw0dVzGmOxgxK1GyYMSuidnpx1IAOuI7DY6XyjE0qtkqShUg7W+blHr9Uoy/I0sHy7N4CvXqxUalJSbh64KdNevLOK9dy3yiwtSVWm6UZS08JYSq4p9GM2nne5JKev8AmLeVcHOWLp04wk6Nd0XUaXRhoJOfSfVm6K/ADZhytKlW0WIausNRqNQhKUpVHKanlirtpZV6jeocpUaipOE76VyUNTV3G+aOtamrPU9epmCnSl/Eas8ryvDUYqVtTaqVG1ffrXvNB4OfyWvKMWqtPFVsRSurXcZtr8JRur7pATixENK6V/nFFTcbPVFtpO/rT9xE8qcsVMPi4RcU8Po89VpdKCc8uf8AyrVf0XfUZuQfnITxUk08TJTintVJK1Ne7peuTLp0W+ULuDdN4Vwba6LbqfRvs2dQF+Ixso4vDUo5XCrCtJvr6OS1n/Uyv8Zw+dQzvXLIpZJ6NyvbLntlvfVt2kThMBWocoUKeWUsNSp19FU1vLGWX5qT9Djq9DW4wVnVq4VRqPEyxOlourT0ctGrVoN5ejbKlrTT6tbesCZw/LEZ4qth8slo1FqWSet9LNfVZJZdT676ja+X0tFCtn+bnkyys9edpR1bdbaI+DceUMQpRn89RoqnJQk4tx0ma8krK11ta2ojoVZSwGGwyo19LSlhI1E6U0o5KkMzzNWa1PY3v2AT/wDEqOmdFTvVUlFxUZNpuKlr1alZrXs6tpjjyxh3NQU30pZYycJqEpdlTtlb9TMfJ9KUcTjpOLWarTcW1ZSSowWp9avde8iJOpUw9FTeJliNNh5VoOm8kWq0XK3RsorqaetK+vWBO4LFSnWxUJWy0qkIxtts6UJO/wCMmWxxk3jp0NWRYeFVateZznF691oot5OpyWJxrcWlKrTcW1qktBTV1v1pr8DUxNfQ8oyqTp1pQlhacFKnRnUWZVJtrop21NASmLxlOik5t9J2jGMZSlJ+iMU2zFHlWg6LraS1OMssnJOLi7pWkmrp61t3mljcZKcqEl8ohh5aTO40pqeZWyKSy5oxfS126lr36M8PUlRxto1ZZ8Th5Rc4NSlFKjd2stSs+rq1gTmG5Uo1ajpRlLPbMlKE45o7LxcklJa1rW8w1eXsLDPmqNRp3zTyTcE1tjntlb9F7lcXSk8ZhpJOyhiE5JaldQtd9Wz8iEr13R5JrYWdGqqtPD1IS+blkdov5xVPo2e3bf0XA6aOJg6mjUumoKdrP6LbSfvTMcuUaKhKbn0YzdN6m3nTs4pWu3fcR1SvoMYqlSFRwnhoQUoUp1OlGcm4tRTa1SX5mtCVaFBtRrU4yxlWVXLC9WNJyk04pJ7Xlu1fU36wJrC8o0q2fJJpwtnjOMoSjfY3GSTS1PX6DBT5cw0rWqO0pRjBuE1GbbssjatLXuIqpg515Y2NN1WquDhTpzqxcbyvV6N2k3tW3Xr9Rkx/KCqUaEFRqwksRhVJTpygoWqx1XeqW7o39wErieVKNKeSUpOSSclCE55U9jllTyrbtNqnUjOKlBqUZJOLTumnsaZz0oToYjEaStiqaqVdJB0aMasZJxirN6OTUla1n1JWJnkvDKlh4QTqNa5fOWU+k3KzUUkrXtZAR9CpjK0qzp1qMIwrTpxjKg5ao22yU1v3GXCcu0pYelUrNU5z0iypOV3CWWWWyu9exbXc1sFyNCpLEyrKss2Iq2Sq1YRcdVnlUkmnvNuphVDFYRU6dqdOlXissejH6Fl6Nj/MDPieVaNJqMpScnFSywpznJRf3pKKbivWXz5Qoxoqs6kdE7ZZLXmvsSttb3Ij41/kuJxLqwquNaUJwnClOpdKEY5HlTaaab19r1mrSwtSnToV5UpZY4mvWlSis0oQqZ7NRW1rMm0t7sBMUOVKM4zkp5VTV56SMqbitetqSTS1PX6BheU6VWWSLkpWckp05wcl1uOZLMta2byP5UqPGYWoqEKt4TozWam6bnlmpNRVRa3Zdate3pLcHCNatSk6+NqOk3NKrQjTjF5XG0noot6pPUmBIUuVqE5qEZSd24qWjnkk11KdsrfqY/i1DPkzSvmyOShNwUr2yudst76rX26iKw05UqlOGFeJS0iU8PWoy0cIN9Jqo46rbV0mnsXoVJypVWsK8TGbq3eHnRbovNPpyU3G0U7uV1K3ovqAlf4hGDxDq1IKnSnCOpSvHNGLtN9bvLq1WaK4flSjVqaKEpZ7OSUoTipJbXFtJSWtbLkXjMPNxx9oSebEYdx6L6SUaN2t6Vn7mSWLpt4vDSSbUVWu7aleKtdgW1OXcNFzzVGlTupzyTcE1tjntlv6L36jHyhUxMVUqxr0KNGEc0c8HLNqu3N3WVX1WV/9iJnXdHkqthZ0qulp0K0H83LJLoy+c0n0bPbtv6LkziqMJSwmdTlad0lHNHNkdnPdbqe8Da5Pryq0KVScHCU4RlKD+62rtGwAAAAAAAAAALZ7H6mXFs9j9TA4iK2eovsUh1eovIy6rBGaCLIIywQGxSHKM2qE7bre92EDV5aqyjSSUbxbtJ7utHeodrG5c5icfOnqp5U+uUv0SKz5QqOlGalleZpu34l1ahSleU1rs31GXD04yotSWq+b07CuNNfGza5LxWeUJXT167fqdA0c3RcIRbp2udJBPKs22yv6+ssiGbJ4WtGDELos2GYKy6LJTHhVEumABx0KGtPHQjPRtVM2u1qcmmla7Tts1r3m0ANbHYNV4aOUpxi/pKEsuZWacW9ttfUbIAtjFJJJJJKyS2JFwAAAAChUAChUAAAAAAAjqnI9OV1OdaVNvM6UqjcG73s+tq/Ve3oJEAChUAWzimmnsaaeuxo0+SYKUJSnVqaN3hGpUclF2sn6X6XckAAKFQAAAAAAUKgAAABQqABHVeR6c7qc60qcnmdJ1G4PXez67ei9vQSBUAAAAAAAAAAAALZ7H6mXFs9j9TA4qHV6jIjFB7C+dWMIuU5KMVtbaS95CYdZomSJFz5cwsNtaL/y3l+hrVPKvDR2aSXqj8WiWh0LqZU2+pNnNVPKmOIzUVTahPKoybV9qetetdRir+WFNxajRm7prXJL4kBydhqjnGcY9FSTvLVF2ez0ndOb15SeMqJO7eow4fETV7OWTW/QX4yMlUV7arNJbPUZ8NTltyIriGnlM9suFxN80nFqyu0+v8DNyJ5QVq2JanJ2km7Xul6jBKndty1ZlKLS61axbhsPSpTU4Raav95svpjmY2w5vqK1txl2kaly2rsZp4PFxqJWevrW42ZvadmEq2iY3DqAAVptTE0JyqJxdvmq0M26UnDK/wAmY8FQcZ3VLRRUMslePSldWep9WvW9es3wAAAAAAAAAAAAAAAAAAAAAAAABQqAAAAAAAAAAAAAAAAAAAAAAAAAAAAAAAC2ex+plxbLY/UwOGhLUiL8q6lsNFb6kf0bJeHJ+IVvmanCyN8pOScVVp04woVZNSbdoPVqA4ovo0ZVJKEFeT1JElzax390rcDJfkTkLFUozlLDVFJu2uDvl9H/AL1EqxudIZLcazMRtq4bkeFJXqWqT3fdXxM9W7JOXJWJ7irwssfJGJ7irwM1RFYjw8u1sl53aEPjJt21a9Wsso4yeyXvJafI2J/u9XgZhfIOJt9mq8LMlqcZ8PWxZovX8/EsM22ld3dm2Y1LV+RvrkfFdeHq8DMT5Gxdn/09XgZopqtYjbBl3e8zEeGPCYt06kWvU/Vc6hSujl4cjYy+vDVuBk9gMPiI02qtKpFRV7uL2dYtqfKzFuk8Zh24AMzYAAAAAAAAAAAAAAAAAAAAAAAAAAAAAAAAAAAAAANPlbFuhhq1aKTlTg5JPY7HFc/sR3FH3y+JKKzPTk2iO3oIPP8An9iO4pe+RXn7iO4pe+XxO/bsjzh34OA5+4juKXvkOfuI7il75Hft2OcO/BwHP3EdxS98ij8vsR3FL3y+Jz7djnD0AHn/AD/xHcUvfL4lOf8AiO4o++XxH27O84egg8984GI7ij75fEp5wcR3FH3y+I4Scoehg88f/wAhYjuKPvl8SnnCxHcUffI5wk5Q9EBp8k4t18LRrSSTqU4zaWxXRuEUgAAAAAAAAAAAAAAAA1+UPqK3s5/tZsGvyh9RW9nP9rA2AAAAAAAARnlDj54bDOpTy5s0V0ldazk63lZipQlG9OOZNZoxakrranfadD5ZfYn/AJ4fqcCV2nyvx1iY8p2j5WYuEIx6ErJLNKLcnbrbvtL+eGK3UuF/E58HOUrOFfToOeGK3UuF/ErzwxW6lwv4nPl0jm5OEek7zwxW6lwvxDnhit1LhfxOfuT88HhKVOi6sarlUpqfReospW951VC80pG7Lud+K3UuF/Ec78VupcL+Jh/6Du6/EviM+A7qtxL4l3xc3pR8jAzc78VupcL+I534rdS4X8TBpMB3NbiXxK6XAdxV418R8XN6Pk4GdeV+K3UuF/Ec7sVupcL8RiVfAr/6epxlflGB/u0+P/k78XN6c+TgZed2K3UuF/Ec7sVupcL+Jj+VYH+7S4x8qwX92lxj4ub0fJwMnO3FbqXA/EOduK3UuF/ExrFYL+6y4zPhqmDqTjBYfK5Oycp6jk/S5o/hH1WCfC3nbit1LhfxN3kbyir18TTpTVPLLNe0Wnqi3v8AQU5Q5GptOEKejq2zQak2p22x9ZFeTStj6SeppzvwSKJi1Z8r44WrMxD0EAE1AAAIvyl/s/Feyn+h5QkeseUn2DE+yl+h5VYvxdKciiRfGGq+17uv1lDBiF0o2LZnUbVxG50yym11L3MppX6PcWyxVaGyo/1/UU+Ua9101wx+BTz/AOrOP/GWF5bI39VxUp5W1tM+IxE5U3eUvea9NdFFlLb8IWjXlY0UaMrRa0T05tiaKNGVotsRmEoliaLWjK0WNEXXrvk1/Z+F9jT/AEJQi/Jr+z8L7Gn+hKGeV4ADgAAAAAAAAAAAAABr8ofUVvZz/azYNflD6it7Of7WBsAAAAAAAAg/K+GbBNXS6cNb2bThXh3q+cgdx5Z/YX/nh+pwCer8Su3bRj/Vn+SvvoIo8N/jx/AwXKEVmmf5P/joulh9SvVia9xcGmXQLvV7ia5W+qwnsV+pAM6SvhXXo4ZxqU1lpKLzStrNf0dork3LJ9ZWbY9Q2sDQhLk9twi5ONV3a609TzdRsV+TYRnVqpK2iayOOpSUU7reRS5PrZNGsTTUOzpNQlg6724unst9b1bjbMxuZi/bHWJ1EcUvVoRTjKNGGfRTmo2TvU6OoyYfCRjOranFxlU7N0vm7u27WQfyGte/yune9/rXt3malDEQUEsXR6Db+ntbd3m3kJiNftCUb3+rP5MU4uFXNFPpxWuN/wAPQa3J0tFHGySjmgllurpdJ7DHDA1IuTji6UczvLLUauWR5MaTSxVFKW1Z9vrLeVJmZm3elXG+o/HrboVRg9GnCORToum7LpXi83rMdCpSqVKjpQjKpF06c3ltdZnmdvV+hCrAStFfLKVo/RWker1bhDk5xbccZRTe1qbTZVxx/wC1m7/5Tiw+XDVYxh0WsRJav5ujr9RyNycgqicf+toWUMiWbVa1tm8w4Xk2nGcZSxFCcU75c1rluHLTHvdtq8uK19ahNU5zlgYyr9GorOm19K/3fxZp0qMf4pQkpRU8snVgu1kewyco8qRitI505OKtSpwldKT+8yI8nJuXKFKUneTc236ckjzctomdPQxUmImXfgAiiAACM8pPsGJ9lL9Dyyx6p5R/YMT7KX6Hl9jTh6lRl7WWMFf6UTbsamN1OJPJH4oU7WYkxUtqLsRLUY6T1oytCWrr5pmKiuii+vL5sUF0Il+LtVk6UcS1xM1ijRfpTtgaLWjO4ljiRmEolgaLWjM0WNEJhKJer+TX9n4X2NP9CUIzyb/s/C+xh+hJmWe2kABwAAAAAAAAAAAAAA1+UPqK3s5/tZsGvyh9RW9nP9rA2AAAAAAAAQHlp9hftIfqcDBN3956F5W5fkbztpZ4a0cO40O8n+ZXbtoxfq0hc2HQodU5e5ldDR6qj9zIrWtcrcm+T+QI1VmlVcYvZq1tbyQXJeCw+uV6sv5nde5ajjjk7lHFHU1uVqX0NDBwXVlRq14cnTi21KjL+V6r+p6hsmJQCgtxfLD2SlbUzKqdPrqf+cfiXXpr/u++pH4ktSjuGrkW4ZFuNvSU++S/rh8Sjr0+/XHEak5VaqgtxTJray/ibLxFLv170X08RTm7Ktme5PX+A1LnKGrkW4qoLcjcz0+1P8UUvR/m/BIinpqqC3F6pqOqxn+a3z/IsnSovXmmDS1WJbyYf/XUf6/2SIrRUe1P3Er5MUqSx9Fxcm7z2r+SR2O3LdS9DABcyAAAjfKH7DiPZyPM8p6by+v+ixHs5Hm+U14I8Sz5p8sWU0uUFrj+JJZSP5U1Sh6mWZY/GUMc/k1KzLae1FJyuUg9ZiaUlVfQM+HXQj6jSnU6Jv4X6uPqNGH9lOXpWxRoyWKNGlRtiaLGjM0WNEXWGSMckZmjG0QlOJeq+Tn2DC+xh+hJEb5OfYML7GH6EkYp7ao6AAcdAAAAAAAAAAAAAA1+UPqK3s5/tZsGvyh9RW9nP9rA2AAAAAAAAQHlr9hftIfqee3PQvLX7C/aQ/U89dt5Xbtoxfqqmb/JOA007y+rj9L0vca+Bwcq88sNi1yfVFbzpNDooKEFZL/27ILWLE1ullhq6r9SOfx+PrZmqcE7O2Zu9/Ujb5bxropQV1KV7y3Lrt6TYXJNHvanBHxE8eK9/NY2jfJSviZ05edCvOTlJNt9d0U+Q1W9cb/1I6xcmUe8q8EfiV/htDt1uGPxLvsZv8qeeH+y5P8Ah0+qHvmtpV8mT6oJP0zOthyfQ25q3uiX/wAPob6//id+zn9OcsHuXILkirb7vEP4TVt933v4HX/I8P8A4z/GPwKywdC30K/EvCPj5/R9zB7cZiOTpwV3lexamakJNNNammmmdP5Q0qSw7cFUTzR+lJPV7jlkiM0tTxbtGZrP6dJ+T1hX6lctte2vqX6FfxM7VHSouUygC65LeS32+j/X+yRDuRLeSsl8vo6+3+yR2O3LdS9IKlCpcyAAA0OXfsdf2cjzvKeicufY6/s5HnyNv03UsmfuFmUi+WF0oepkw0RHLX0oeplmb9JQxfsjJCJRlYmBsbDeolsGvmo+oiL6iawS+ah6jR9P+yjN0uaKNGVoo4mzTNthaLGjO4lkkRmEolrtGOSNhoxSRCYTiXp/k79gw3sYfoSRHeT32HDeyh+hInn27bI6AAcdAAAAAAAAAAAAAA1+UPqK3s5/tZsGvyh9RW9nP9rA2AAAAAAAAQPlm0sC7pPpw1P1nn2ddiJ3/lr9hftKf6nC4HDaWrGPVe79S2lV+2nF+qe5OnoqKioqLl0pels2lUbi81mkm0zJKndWS9xWng5KDatJ7up+horlPbjvKZ5qsLdj9TpuTakHRalJRc4xir/5W7+jXbWc15R0XGUZfdvZejUui/TqJDBcpydGC+bVopJulBvUra7o2YM0Y4nf9ZsmOb28J+WJu21Visy+b12yK8XZvq1Jq3xK/LF0LVI2Skn08uvXsX3fX6TmavKWJjrvRa3qjD4ajB/G6/apf6VP4F/ycfqVfx7upxOIi6TSqJ2k7We3pN3at6dqLoY67Xztnkp623tT6S/H/Y5VctV+8p/6VP4CXLddPXVh/p0/gPlY9a0fHu6OOKjlmozUFnm7P70WtSt1/wDJXEco2byzutNKSV3Zx1fltOa/jVfvo/6dP4FHy3X76PBT+A+Xj31J8a/tteUlZShUcbNKcVHdlTsvyOUW33kvyhyjUqU3GdVSi2rpRgnt9CIhbSrLljJMTEEUmniU/TrRUY5oX1LXf0GR4iPVSX46zUjsXqX6F7ey5klsjpnVaNvoR/MqsT/hw/MwCxxJsLFW2U4fjclvJqtF4+ilBR+ns6uhI5+xNeS/9o0Lfz/skdjtG3UvRyoBcyAAA0OXfsdf2cjzzMegeULtgcQ/8OR5oqxr+nnUSzZo3LbzEVy0+lD1P/Y3NMR3Kk7uHqZZltukoY41ZosRKMrExNTOicwT+ah6iBJXC10qcV6DRgnVlOaNw3qtWMI5pOyvZb2/Qac+U0tlN26ru3+xrY/GNOKspRa1xf6+hmKFahL6Wlh6rTX52J5Ms71Eq6Y41uYbf8T/AJP/AC/4MkMZCWp3i/Ts95qKGHf/AHqn+kvEXN0Y7FOf+a0V7l8SEZbf2UppX+Q3Zxs7MwyL1Vc0pS2stkaJ8qoiY7em+T/2HDeyh+hIkd5P/YcN7KH6EiedbuW6vUAAOOgAAAAAAAAAAAAAa/KH1Fb2c/2s2DX5Q+orezn+1gbAAAAAAAAOf8tvsL9pT/U5nkCjaMqjTTepX3L/AN/I7HyjwdWvhnToJZ3OD12tZPXtI6HItZQUcq1elFdo8r8doirVWISRtYfEreYp8g1+pLiRmo8i1ltS96Ial3ce2DlDB0sRCVOVtfX6d5ydXyUxMW1CVOcep3a/Kx3q5MnHWopv0tGV0K7jZ04+pSRONwjOpcFLkPFSd5fJ46ktS9Ftw5tdqrFv0Q/5Oyq4LEP6NGP4zXxNCfI2Lbu6XunH4nJmzsVp/ZclX8n5wvo6lJ31dL/lMjcTyfVhK01G9upavyR2tXkLGvZQj+NSPxMc+QeUHb5mnZbOnF/7iJsTWntxHyOfo9zL/k9R6m1a1vo/8HZ83+UO5pcUPiU5v8odzT4ofEluXONPbjHgZb/yZWOBd9ez1HZPyf5Qe2hS98PiVn5O47uoW9Mo/Ebl3jT25lep+4y6rbJcJ0L8nsf1Uaa/qh8Sq5Bx6X1NPih8SGpT5V9uacv5Ze4rm/ll7jpHyBj+5p8UPiUXIHKHc03/AFQ+I1LvKPbnG/RL3Ex5Ku/KGHdn9/av5JG2+QMf3NNf1Q+JIcickYyliqc6tOEacc12nG/0Wlse87ETtG1o1264qUKlrMAACO8oVfA4j2cjzRUT1HlWhKrhqtOCvKUGktms47mzi+7jxxNOCaxE7lnyxO/DnJUmaOOpS1O2w7Hmzi+7jxxLX5L4vu48cS23C0a2hXlH8cGtusyKC7S9x2c/JDEvbRg/6oli8jMR3MOOPxKPtx/qFvOfTkYq+w3aNF5UdLHyUxS2Uo8cfiXc18X3S44/EspWkd2QtNp/jkMbSldO2pGsjuOa+L7pccfiY5+R+Je2hDij8TlqVmdxZ2trR4mHJU4R7X5GTqOm5mYjuY8cfiVj5IYpbKMeOPxIRSPcJcp9IGjJ2SMjJzmpjO6jxx+JbzUxvdR44/Evi1YjtVxn07Xyf+w4b2UP0JE0+SKEqWFo05q0oU4xkr31pG4Yrdy1R0AA46AAAAAAAAAAAAABr8ofUVvZz/azYNflD6it7Of7WBsAAAAABDz8oIxqRpvDYrPLM4rRfSUbXa1+le8mCIx39pYL2WK//WBJ0KmeEZZZRzJPLJWkvQ1vMeLxcaKg53tOpCmrL705KK/C7OXo495KM1iaksfKrCNTDZ3bXNKcHS2RjGOZ5rdV7k15RfV4f/7vC/8A5YgSxQ5LD4ypLFPPiIU66xTg6c6803Tz2UFQtld4Wakut3v1G95NOlGdeGmlKuq1fNTnVlJqCqvLLI3q1OOu2u4HQA5nlVzcuUZqrVi6FGnUpKNSUYxkqcpXstTvbY9RTF1fk86qlWxDpzwqqztUblmVRJuDf0L5rO1kvRYDpzXr4uNOpSpyvmqylGNlquouTv8AgmcvTx8lRxFPTvRwxVKM5wrOrKnRlCLk1Ueu2ZtX6te42a0KFSpgoUMROrT+UVk5xrynJPQSbiql7r331gdHUrxjKEXe821HU3rSb1tbNSe0yHNYPEVFUw1PSTcY43FUtcm3KEadRxjJ/etq27kYeR5VFT5Nq6atOddTjUU6kpRktDOS1PUmnFa1r33A6sHH8j42cpU5TxUI1WqirwdaU53UZX+ZcbQytdWqy67kh5K4hS0tPSOtKCp5qqrOrTndPpRbfQlq1x6tVgOgBzuJxFP5bWji8TOhk0boRVV0oyi4puWp9N5sys77Nms08djrLFSqYqpTxlOpUVCjGbSaT+aSpf8AcUla7s9r2WA64HJcoVKuXlKtpasKlDRSpxjUkowloYSay7Gm76ndF3K854d4ynTrVUvk9GqnKpKUozdWUW4t7LpLUtQHVg5nF4Vqti6ar4hRhh4V4fPTuqj0izXve3QXR+j6DE+VnBYiVavkdTA0KlJOVrzcKmZ01vvbZ6AOrMca0XOUFfNFRb1O1pXtr2PYzl5udR4tutWWiweHqwy1ZRSnkqPM0nr2LbqfWX4zH1rYmSqTitBgZSlHXo4zlPSzitieXXe3V6AOpKHNYivhVShCliqlSNSrZSWLllUsjdp1btxVley6+o06WKhVp8nVcTiZRi6daM6iruEc6SteSa6W3btA7IHILGVHip58TCnVjilGMJ15K9LOlGMaOXLJSjbpbbvarWJ3l2c6dJV6bl8xJVZxi/p00mpxa2PottelICSMVGvGom4t2UpR1prXFtPb6UzmMJUxkqtPD1XNfKJRxbmpW0VNO86Cd76no4/1sxYian8mniK9SFNY3GQlPTSgoq9XKsyatsSXo1dYHU4bFxqyqxje9KejlddeWMtX4SRsHJVFlWNxFOpUUoYylky1GoNONFO8dkrp9dya8o6soYSc4SlFxnRblFtNRVWGZ3XVlvf0XAkwcvjMfGtLG6LFwhTVPCZamkappudTMs8X0c1lFyX+xI8hco0p0KSU2pTlVjGM6ukcnCXSyTeucV1PcBLgAAAAAAAAAAAAAAAAAAAAAAAAAAAABr8ofUVvZz/azYNflD6it7Of7WBsAAAAABSxUAUyq97a94aKgCmVXvbXvFle9tZUAUyrXqWvb6RlW5bLfgVAFFFLYkUUUrWS1bNRcAKZVuW8oorVqWrZ6C4AUyq97K+8KKWxWKgCjintS1bBlV7217yoAplWvUte30lHFPakXAClluKZVuWrZqLgBblW5biqSKgC1QVrWVtuwZVa1lb1FwAplV72V94KgChTKrWsreouAFuVbkVKgC3Ity3bOorZatWzYVAAAAAAAAAAGDEVJxcckMyalfXa1rW/3NeWOqK16LTeVJZtre1LV1f7dQG+DVWInaL0WuV7pt6tdt27WY3i6zStRae5t+n0eoDeBqfKpKEpShlytLW2k1f6WzcWfLKlr6B7L7fy2btf/OoDeBpUMZOTV6byNu0le1lsezrfq2lZYmrdpUW0nNXcrXtstq6wNwGl8sq2+oexvW3v1LZ/76tZsUZyknmjl16td7qyd/zt+AGUAAAAAAAA1+UPqK3s5/tZsGvyh9RW9nP9rA2AR+ml2mNNLtMCQBH6aXaY00u0wJAEfppdpjTS7TAkAR+ml2mNNPewJAEfppdpjTS7TAkAR+ml2mNNLtMCQBH6aXaY00u0wJAEfppdpjTT3sCQBH6aXaY00u0wJAEfppdpjTS7TAkAR+ml2mNNLtMCQBH6aXaY00u0wJAEfppdpjTS7TAkAR+ml2mNNLtMCQBH6aXaZr4rlB07XlZvrk7RS3v4dYEuVOb5Rx+JpRVs1S8lGbgsijFtvOm272indfjq2ElTr1LdJpO71Rd1a+rXZdVgJIEfppdpjTS7TAkAR+ml2mNNLtMCQBH6aXaY00u0wJAEfppdpjTS7TAkAR+ml2mNNLtMCQBH6aXaY00u0wJAoaGml2mNNLtMCQBH6aXaY00u0wJAEfppdpjTS7TAkAR+ml2mNNLtMCQBH6aXaY00u0wJAEfppdpjTS7TAkAR+ml2mNNLtMCQNflD6it7Of7Wa0cS3snfq1O+sxY2tLQ1db+rn+1gXkPiqlejLETjCUk6lOcNacZJRhF07Xum2pdVr6zoNGtw0a3Ac7ChjYVPpXi5pyl0HfoUlezeqN1U1LXsMuMo1nUnGEZONSeHkpqaSgoSTmmr31pdSd7k7o1uGjW4DmcRUxlKF5Sm01BvKqbkpZZ3jFWta6p+nW7GVrGylZNxi8mv5vV04ZnHV2c+1bTodGtw0a3AaHyd6V1HUnlcMmj1Zb3vm336iNjgK1OL0SalpKzvmUrRcno/pN/dZ0OjW4aNbgOelDHJO0pS6VtlLNlVSaTjqSu46Nu/p2PUXco4evLQSinOcV0kmo08zy3bWZNbHZrNa71Mn9Gtw0a3AQNOGMc1nk1HS9Kyp/QtP6L3N6Par7TFQhjlGzdrU4KOVU2r5YX2tPNfP6LHR6Nbho1uAhMQ8Vo6ORNTsnU1wevVqd0k0+lrX/8AMNSGNWyUpRbi2los0VepdRurd3e/Ve2s6HRrcNGtwHOVsHiXHDOnJqdLDyUk5dGU7U1klr13Snr6nZ+vGsLidBUo5JZpTw8lNyi45UqKmnaSl92btqvr16zp9Gtw0a3AR+Bw7pUlCU3Npyd3frbdldt2V7LW9SNg2NGtw0a3Aa4NjRrcNGtwGuDY0a3DRrcBrg2NGtw0a3Aa4NjRrcNGtwGuDY0a3DRrcBrkXj8Uo1oRyTmptU5NQvGNtety1Wak1e5OaNbiyeGhJ3lFPoyjrvaztdNbHsQEK42lFRtOTTTjOSlKnLK0mrbF0pJvc/wJSKsktysbKpRWxIaNbgNcGxo1uGjW4DXBsaNbho1uA1wbGjW4aNbgNcGxo1uGjW4DXBsaNbho1uA1wbGjW4aNbgNcGxo1uGjW4DXBsaNbho1uA1wbGjW4aNbgNcGxo1uGjW4DXBsaNbho1uA1wbGjW4aNbgNcGxo1uGjW4CMwGGlTTUrbIpWd9ituVl6OreZMb9TV9nP9rN/RrcYMdTWgq6v+3P8AawNoFCikrtX2bQLgJ2irydtiKyjYCgLVJO9up2YUrtrcBcChUAAAAAAAAAAAAAAAAAAAAAAAAAAAAAAAAAAAAAAAAAAAAAAAAAAAAAAAAAAAAAAAAAAABgx31FX2c/2szmDHfUVfZz/awMzRbf8Ald/wPNef+N7NDgfiHP8AxvZocD8QHpcppq0ot+4rKpf7r/L4nmfP/G9mhwPxDn/jezQ4H4gPSk7bIvf1Bddk03vPNef+N7NDgfiHP/G9mhwPxAemFTzLn/jezQ4H4hz/AMb2aHA/EB6aDzLn/jezQ4H4hz/xvZocD8QHpoPMuf8AjezQ4H4hz/xvZocD8QHpoPMuf+N7NDgfiHP/ABvZocD8QHpoPMuf+N7NDgfiHP8AxvZocD8QHpoPMuf+N7NDgfiHP/G9mhwPxAemg8y5/wCN7NDgfiHP/G9mhwPxAemg8y5/43s0OB+Ic/8AG9mhwPxAemg8y5/43s0OB+Ic/wDG9mhwPxAemg8y5/43s0OB+Ic/8b2aHA/EB6aDzLn/AI3s0OB+Ic/8b2aHA/EB6aDzLn/jezQ4H4hz/wAb2aHA/EB6aDzLn/jezQ4H4hz/AMb2aHA/EB6aDzLn/jezQ4H4hz/xvZocD8QHpoPMuf8AjezQ4H4hz/xvZocD8QHpoPMuf+N7NDgfiHP/ABvZocD8QHpoPMuf+N7NDgfiHP8AxvZocD8QHpoPMuf+N7NDgfiHP/G9mhwPxAemg8y5/wCN7NDgfiHP/G9mhwPxAemg8y5/43s0OB+Ic/8AG9mhwPxAemg8y5/43s0OB+Ic/wDG9mhwPxAemg8y5/43s0OB+Ic/8b2aHA/EB6aDzLn/AI3s0OB+Ic/8b2aHA/EB6aDzLn/jezQ4H4hz/wAb2aHA/EB6aDzLn/jezQ4H4hz/AMb2aHA/EB6aDzLn/jezQ4H4hz/xvZocD8QHppgx31FX2c/2s855/wCN7NDgfiLKvl5jJxlFxo2knF9B7GrbwOYAAAAAAAAAAAAAAAAAAAAAAAAAAAAAAAAAAAAAAAAAAAAAAAAAAAAAAAAAAAAAAAAAAAAAAAAAAAAAAAAAAAAAAAAAAAAAAAAAAAAAAAAAAAAAAAAAAAAAAAAAAAAAAAAAAAAAAAAAAAAAAAAAAAAAAAAAAAAAAAAAAAAAAAAAAAAAAAAAAAAAAAAAAAAAAAAAAAAAAAAAAAAAAAAAAAAAAAAAAAAAAAAAAAAAAAAAAAAAAAB//9k=\n"
                },
                "metadata": {}
              }
            ]
          }
        },
        "86d30f1c7eee40058e2dc9a44616039b": {
          "model_module": "@jupyter-widgets/output",
          "model_name": "OutputModel",
          "model_module_version": "1.0.0",
          "state": {
            "_dom_classes": [],
            "_model_module": "@jupyter-widgets/output",
            "_model_module_version": "1.0.0",
            "_model_name": "OutputModel",
            "_view_count": null,
            "_view_module": "@jupyter-widgets/output",
            "_view_module_version": "1.0.0",
            "_view_name": "OutputView",
            "layout": "IPY_MODEL_fdcd916f270f4059a09cfe1d1a4eee29",
            "msg_id": "",
            "outputs": [
              {
                "output_type": "stream",
                "name": "stdout",
                "text": [
                  "Video available at https://www.bilibili.com/video/\n"
                ]
              },
              {
                "output_type": "display_data",
                "data": {
                  "text/plain": "<__main__.BiliVideo at 0x7f6f81549390>",
                  "text/html": "\n        <iframe\n            width=\"854\"\n            height=\"480\"\n            src=\"https://player.bilibili.com/player.html?bvid=&page=1?fs=1\"\n            frameborder=\"0\"\n            allowfullscreen\n        ></iframe>\n        "
                },
                "metadata": {}
              }
            ]
          }
        },
        "f7b1748041e34a42a35ca89693dbbe1f": {
          "model_module": "@jupyter-widgets/base",
          "model_name": "LayoutModel",
          "model_module_version": "1.2.0",
          "state": {
            "_model_module": "@jupyter-widgets/base",
            "_model_module_version": "1.2.0",
            "_model_name": "LayoutModel",
            "_view_count": null,
            "_view_module": "@jupyter-widgets/base",
            "_view_module_version": "1.2.0",
            "_view_name": "LayoutView",
            "align_content": null,
            "align_items": null,
            "align_self": null,
            "border": null,
            "bottom": null,
            "display": null,
            "flex": null,
            "flex_flow": null,
            "grid_area": null,
            "grid_auto_columns": null,
            "grid_auto_flow": null,
            "grid_auto_rows": null,
            "grid_column": null,
            "grid_gap": null,
            "grid_row": null,
            "grid_template_areas": null,
            "grid_template_columns": null,
            "grid_template_rows": null,
            "height": null,
            "justify_content": null,
            "justify_items": null,
            "left": null,
            "margin": null,
            "max_height": null,
            "max_width": null,
            "min_height": null,
            "min_width": null,
            "object_fit": null,
            "object_position": null,
            "order": null,
            "overflow": null,
            "overflow_x": null,
            "overflow_y": null,
            "padding": null,
            "right": null,
            "top": null,
            "visibility": null,
            "width": null
          }
        },
        "1ba8ac910c064dbeb1aa8a59d9aca38c": {
          "model_module": "@jupyter-widgets/base",
          "model_name": "LayoutModel",
          "model_module_version": "1.2.0",
          "state": {
            "_model_module": "@jupyter-widgets/base",
            "_model_module_version": "1.2.0",
            "_model_name": "LayoutModel",
            "_view_count": null,
            "_view_module": "@jupyter-widgets/base",
            "_view_module_version": "1.2.0",
            "_view_name": "LayoutView",
            "align_content": null,
            "align_items": null,
            "align_self": null,
            "border": null,
            "bottom": null,
            "display": null,
            "flex": null,
            "flex_flow": null,
            "grid_area": null,
            "grid_auto_columns": null,
            "grid_auto_flow": null,
            "grid_auto_rows": null,
            "grid_column": null,
            "grid_gap": null,
            "grid_row": null,
            "grid_template_areas": null,
            "grid_template_columns": null,
            "grid_template_rows": null,
            "height": null,
            "justify_content": null,
            "justify_items": null,
            "left": null,
            "margin": null,
            "max_height": null,
            "max_width": null,
            "min_height": null,
            "min_width": null,
            "object_fit": null,
            "object_position": null,
            "order": null,
            "overflow": null,
            "overflow_x": null,
            "overflow_y": null,
            "padding": null,
            "right": null,
            "top": null,
            "visibility": null,
            "width": null
          }
        },
        "fdcd916f270f4059a09cfe1d1a4eee29": {
          "model_module": "@jupyter-widgets/base",
          "model_name": "LayoutModel",
          "model_module_version": "1.2.0",
          "state": {
            "_model_module": "@jupyter-widgets/base",
            "_model_module_version": "1.2.0",
            "_model_name": "LayoutModel",
            "_view_count": null,
            "_view_module": "@jupyter-widgets/base",
            "_view_module_version": "1.2.0",
            "_view_name": "LayoutView",
            "align_content": null,
            "align_items": null,
            "align_self": null,
            "border": null,
            "bottom": null,
            "display": null,
            "flex": null,
            "flex_flow": null,
            "grid_area": null,
            "grid_auto_columns": null,
            "grid_auto_flow": null,
            "grid_auto_rows": null,
            "grid_column": null,
            "grid_gap": null,
            "grid_row": null,
            "grid_template_areas": null,
            "grid_template_columns": null,
            "grid_template_rows": null,
            "height": null,
            "justify_content": null,
            "justify_items": null,
            "left": null,
            "margin": null,
            "max_height": null,
            "max_width": null,
            "min_height": null,
            "min_width": null,
            "object_fit": null,
            "object_position": null,
            "order": null,
            "overflow": null,
            "overflow_x": null,
            "overflow_y": null,
            "padding": null,
            "right": null,
            "top": null,
            "visibility": null,
            "width": null
          }
        },
        "4b8a2d67d2b8486d94746ca10f8c97c8": {
          "model_module": "@jupyter-widgets/controls",
          "model_name": "TabModel",
          "model_module_version": "1.5.0",
          "state": {
            "_dom_classes": [],
            "_model_module": "@jupyter-widgets/controls",
            "_model_module_version": "1.5.0",
            "_model_name": "TabModel",
            "_titles": {
              "0": "Youtube",
              "1": "Bilibili"
            },
            "_view_count": null,
            "_view_module": "@jupyter-widgets/controls",
            "_view_module_version": "1.5.0",
            "_view_name": "TabView",
            "box_style": "",
            "children": [
              "IPY_MODEL_89e2316a5aea4677bb7aee61b9b400d4",
              "IPY_MODEL_37821d70d2b6462394f295cc65ef0eb4"
            ],
            "layout": "IPY_MODEL_e4df0f58dcac47c0b3f12935e8b13572",
            "selected_index": 0
          }
        },
        "89e2316a5aea4677bb7aee61b9b400d4": {
          "model_module": "@jupyter-widgets/output",
          "model_name": "OutputModel",
          "model_module_version": "1.0.0",
          "state": {
            "_dom_classes": [],
            "_model_module": "@jupyter-widgets/output",
            "_model_module_version": "1.0.0",
            "_model_name": "OutputModel",
            "_view_count": null,
            "_view_module": "@jupyter-widgets/output",
            "_view_module_version": "1.0.0",
            "_view_name": "OutputView",
            "layout": "IPY_MODEL_11b9728e83cf4c1a93da0dbe4a0f8c5f",
            "msg_id": "",
            "outputs": [
              {
                "output_type": "stream",
                "name": "stdout",
                "text": [
                  "Video available at https://youtube.com/watch?v=7ijjjFpcOwI\n"
                ]
              },
              {
                "output_type": "display_data",
                "data": {
                  "text/plain": "<IPython.lib.display.YouTubeVideo at 0x7f6f81549490>",
                  "text/html": "\n        <iframe\n            width=\"854\"\n            height=\"480\"\n            src=\"https://www.youtube.com/embed/7ijjjFpcOwI?fs=1&rel=0\"\n            frameborder=\"0\"\n            allowfullscreen\n        ></iframe>\n        ",
                  "image/jpeg": "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\n"
                },
                "metadata": {}
              }
            ]
          }
        },
        "37821d70d2b6462394f295cc65ef0eb4": {
          "model_module": "@jupyter-widgets/output",
          "model_name": "OutputModel",
          "model_module_version": "1.0.0",
          "state": {
            "_dom_classes": [],
            "_model_module": "@jupyter-widgets/output",
            "_model_module_version": "1.0.0",
            "_model_name": "OutputModel",
            "_view_count": null,
            "_view_module": "@jupyter-widgets/output",
            "_view_module_version": "1.0.0",
            "_view_name": "OutputView",
            "layout": "IPY_MODEL_6f6f5f6ae70d41058131c5fabdf91042",
            "msg_id": "",
            "outputs": [
              {
                "output_type": "stream",
                "name": "stdout",
                "text": [
                  "Video available at https://www.bilibili.com/video/\n"
                ]
              },
              {
                "output_type": "display_data",
                "data": {
                  "text/plain": "<__main__.BiliVideo at 0x7f6f81524850>",
                  "text/html": "\n        <iframe\n            width=\"854\"\n            height=\"480\"\n            src=\"https://player.bilibili.com/player.html?bvid=&page=1?fs=1\"\n            frameborder=\"0\"\n            allowfullscreen\n        ></iframe>\n        "
                },
                "metadata": {}
              }
            ]
          }
        },
        "e4df0f58dcac47c0b3f12935e8b13572": {
          "model_module": "@jupyter-widgets/base",
          "model_name": "LayoutModel",
          "model_module_version": "1.2.0",
          "state": {
            "_model_module": "@jupyter-widgets/base",
            "_model_module_version": "1.2.0",
            "_model_name": "LayoutModel",
            "_view_count": null,
            "_view_module": "@jupyter-widgets/base",
            "_view_module_version": "1.2.0",
            "_view_name": "LayoutView",
            "align_content": null,
            "align_items": null,
            "align_self": null,
            "border": null,
            "bottom": null,
            "display": null,
            "flex": null,
            "flex_flow": null,
            "grid_area": null,
            "grid_auto_columns": null,
            "grid_auto_flow": null,
            "grid_auto_rows": null,
            "grid_column": null,
            "grid_gap": null,
            "grid_row": null,
            "grid_template_areas": null,
            "grid_template_columns": null,
            "grid_template_rows": null,
            "height": null,
            "justify_content": null,
            "justify_items": null,
            "left": null,
            "margin": null,
            "max_height": null,
            "max_width": null,
            "min_height": null,
            "min_width": null,
            "object_fit": null,
            "object_position": null,
            "order": null,
            "overflow": null,
            "overflow_x": null,
            "overflow_y": null,
            "padding": null,
            "right": null,
            "top": null,
            "visibility": null,
            "width": null
          }
        },
        "11b9728e83cf4c1a93da0dbe4a0f8c5f": {
          "model_module": "@jupyter-widgets/base",
          "model_name": "LayoutModel",
          "model_module_version": "1.2.0",
          "state": {
            "_model_module": "@jupyter-widgets/base",
            "_model_module_version": "1.2.0",
            "_model_name": "LayoutModel",
            "_view_count": null,
            "_view_module": "@jupyter-widgets/base",
            "_view_module_version": "1.2.0",
            "_view_name": "LayoutView",
            "align_content": null,
            "align_items": null,
            "align_self": null,
            "border": null,
            "bottom": null,
            "display": null,
            "flex": null,
            "flex_flow": null,
            "grid_area": null,
            "grid_auto_columns": null,
            "grid_auto_flow": null,
            "grid_auto_rows": null,
            "grid_column": null,
            "grid_gap": null,
            "grid_row": null,
            "grid_template_areas": null,
            "grid_template_columns": null,
            "grid_template_rows": null,
            "height": null,
            "justify_content": null,
            "justify_items": null,
            "left": null,
            "margin": null,
            "max_height": null,
            "max_width": null,
            "min_height": null,
            "min_width": null,
            "object_fit": null,
            "object_position": null,
            "order": null,
            "overflow": null,
            "overflow_x": null,
            "overflow_y": null,
            "padding": null,
            "right": null,
            "top": null,
            "visibility": null,
            "width": null
          }
        },
        "6f6f5f6ae70d41058131c5fabdf91042": {
          "model_module": "@jupyter-widgets/base",
          "model_name": "LayoutModel",
          "model_module_version": "1.2.0",
          "state": {
            "_model_module": "@jupyter-widgets/base",
            "_model_module_version": "1.2.0",
            "_model_name": "LayoutModel",
            "_view_count": null,
            "_view_module": "@jupyter-widgets/base",
            "_view_module_version": "1.2.0",
            "_view_name": "LayoutView",
            "align_content": null,
            "align_items": null,
            "align_self": null,
            "border": null,
            "bottom": null,
            "display": null,
            "flex": null,
            "flex_flow": null,
            "grid_area": null,
            "grid_auto_columns": null,
            "grid_auto_flow": null,
            "grid_auto_rows": null,
            "grid_column": null,
            "grid_gap": null,
            "grid_row": null,
            "grid_template_areas": null,
            "grid_template_columns": null,
            "grid_template_rows": null,
            "height": null,
            "justify_content": null,
            "justify_items": null,
            "left": null,
            "margin": null,
            "max_height": null,
            "max_width": null,
            "min_height": null,
            "min_width": null,
            "object_fit": null,
            "object_position": null,
            "order": null,
            "overflow": null,
            "overflow_x": null,
            "overflow_y": null,
            "padding": null,
            "right": null,
            "top": null,
            "visibility": null,
            "width": null
          }
        },
        "4f8379c887534eaa82a5e0bc1af80da4": {
          "model_module": "@jupyter-widgets/controls",
          "model_name": "TextareaModel",
          "model_module_version": "1.5.0",
          "state": {
            "_dom_classes": [],
            "_model_module": "@jupyter-widgets/controls",
            "_model_module_version": "1.5.0",
            "_model_name": "TextareaModel",
            "_view_count": null,
            "_view_module": "@jupyter-widgets/controls",
            "_view_module_version": "1.5.0",
            "_view_name": "TextareaView",
            "continuous_update": true,
            "description": "",
            "description_tooltip": null,
            "disabled": false,
            "layout": "IPY_MODEL_1d500b2bd7464bb094fa92e236810c82",
            "placeholder": "Type something",
            "rows": null,
            "style": "IPY_MODEL_187cb97716534f4f9210eb4171dcbd59",
            "value": "Type your answer here and click on `Submit!`"
          }
        },
        "1d500b2bd7464bb094fa92e236810c82": {
          "model_module": "@jupyter-widgets/base",
          "model_name": "LayoutModel",
          "model_module_version": "1.2.0",
          "state": {
            "_model_module": "@jupyter-widgets/base",
            "_model_module_version": "1.2.0",
            "_model_name": "LayoutModel",
            "_view_count": null,
            "_view_module": "@jupyter-widgets/base",
            "_view_module_version": "1.2.0",
            "_view_name": "LayoutView",
            "align_content": null,
            "align_items": null,
            "align_self": null,
            "border": null,
            "bottom": null,
            "display": null,
            "flex": null,
            "flex_flow": null,
            "grid_area": null,
            "grid_auto_columns": null,
            "grid_auto_flow": null,
            "grid_auto_rows": null,
            "grid_column": null,
            "grid_gap": null,
            "grid_row": null,
            "grid_template_areas": null,
            "grid_template_columns": null,
            "grid_template_rows": null,
            "height": null,
            "justify_content": null,
            "justify_items": null,
            "left": null,
            "margin": null,
            "max_height": null,
            "max_width": null,
            "min_height": null,
            "min_width": null,
            "object_fit": null,
            "object_position": null,
            "order": null,
            "overflow": null,
            "overflow_x": null,
            "overflow_y": null,
            "padding": null,
            "right": null,
            "top": null,
            "visibility": null,
            "width": null
          }
        },
        "187cb97716534f4f9210eb4171dcbd59": {
          "model_module": "@jupyter-widgets/controls",
          "model_name": "DescriptionStyleModel",
          "model_module_version": "1.5.0",
          "state": {
            "_model_module": "@jupyter-widgets/controls",
            "_model_module_version": "1.5.0",
            "_model_name": "DescriptionStyleModel",
            "_view_count": null,
            "_view_module": "@jupyter-widgets/base",
            "_view_module_version": "1.2.0",
            "_view_name": "StyleView",
            "description_width": ""
          }
        },
        "f1ee89b353504efb8d710cc7d5aee6de": {
          "model_module": "@jupyter-widgets/controls",
          "model_name": "ButtonModel",
          "model_module_version": "1.5.0",
          "state": {
            "_dom_classes": [],
            "_model_module": "@jupyter-widgets/controls",
            "_model_module_version": "1.5.0",
            "_model_name": "ButtonModel",
            "_view_count": null,
            "_view_module": "@jupyter-widgets/controls",
            "_view_module_version": "1.5.0",
            "_view_name": "ButtonView",
            "button_style": "",
            "description": "Submit!",
            "disabled": false,
            "icon": "",
            "layout": "IPY_MODEL_eaf60fa477ed47faa73934d0c008c59b",
            "style": "IPY_MODEL_442a51a15eb04148a519771eb697f5df",
            "tooltip": ""
          }
        },
        "eaf60fa477ed47faa73934d0c008c59b": {
          "model_module": "@jupyter-widgets/base",
          "model_name": "LayoutModel",
          "model_module_version": "1.2.0",
          "state": {
            "_model_module": "@jupyter-widgets/base",
            "_model_module_version": "1.2.0",
            "_model_name": "LayoutModel",
            "_view_count": null,
            "_view_module": "@jupyter-widgets/base",
            "_view_module_version": "1.2.0",
            "_view_name": "LayoutView",
            "align_content": null,
            "align_items": null,
            "align_self": null,
            "border": null,
            "bottom": null,
            "display": null,
            "flex": null,
            "flex_flow": null,
            "grid_area": null,
            "grid_auto_columns": null,
            "grid_auto_flow": null,
            "grid_auto_rows": null,
            "grid_column": null,
            "grid_gap": null,
            "grid_row": null,
            "grid_template_areas": null,
            "grid_template_columns": null,
            "grid_template_rows": null,
            "height": null,
            "justify_content": null,
            "justify_items": null,
            "left": null,
            "margin": null,
            "max_height": null,
            "max_width": null,
            "min_height": null,
            "min_width": null,
            "object_fit": null,
            "object_position": null,
            "order": null,
            "overflow": null,
            "overflow_x": null,
            "overflow_y": null,
            "padding": null,
            "right": null,
            "top": null,
            "visibility": null,
            "width": null
          }
        },
        "442a51a15eb04148a519771eb697f5df": {
          "model_module": "@jupyter-widgets/controls",
          "model_name": "ButtonStyleModel",
          "model_module_version": "1.5.0",
          "state": {
            "_model_module": "@jupyter-widgets/controls",
            "_model_module_version": "1.5.0",
            "_model_name": "ButtonStyleModel",
            "_view_count": null,
            "_view_module": "@jupyter-widgets/base",
            "_view_module_version": "1.2.0",
            "_view_name": "StyleView",
            "button_color": null,
            "font_weight": ""
          }
        },
        "3efc49f8ecf04c54b17d58da9dcb343d": {
          "model_module": "@jupyter-widgets/controls",
          "model_name": "TabModel",
          "model_module_version": "1.5.0",
          "state": {
            "_dom_classes": [],
            "_model_module": "@jupyter-widgets/controls",
            "_model_module_version": "1.5.0",
            "_model_name": "TabModel",
            "_titles": {
              "0": "Youtube",
              "1": "Bilibili"
            },
            "_view_count": null,
            "_view_module": "@jupyter-widgets/controls",
            "_view_module_version": "1.5.0",
            "_view_name": "TabView",
            "box_style": "",
            "children": [
              "IPY_MODEL_74c7c306ea214d6886c52ba4c094fd2b",
              "IPY_MODEL_d4400f931b2442d8b59f10bccc14e68a"
            ],
            "layout": "IPY_MODEL_90610915429146449a62a7cd8ea9c1c4",
            "selected_index": 0
          }
        },
        "74c7c306ea214d6886c52ba4c094fd2b": {
          "model_module": "@jupyter-widgets/output",
          "model_name": "OutputModel",
          "model_module_version": "1.0.0",
          "state": {
            "_dom_classes": [],
            "_model_module": "@jupyter-widgets/output",
            "_model_module_version": "1.0.0",
            "_model_name": "OutputModel",
            "_view_count": null,
            "_view_module": "@jupyter-widgets/output",
            "_view_module_version": "1.0.0",
            "_view_name": "OutputView",
            "layout": "IPY_MODEL_d4b4f82c58664833ad32cd8fc78c81d9",
            "msg_id": "",
            "outputs": [
              {
                "output_type": "stream",
                "name": "stdout",
                "text": [
                  "Video available at https://youtube.com/watch?v=GLreyXm4rg8\n"
                ]
              },
              {
                "output_type": "display_data",
                "data": {
                  "text/plain": "<IPython.lib.display.YouTubeVideo at 0x7f6f7add78d0>",
                  "text/html": "\n        <iframe\n            width=\"854\"\n            height=\"480\"\n            src=\"https://www.youtube.com/embed/GLreyXm4rg8?fs=1&rel=0\"\n            frameborder=\"0\"\n            allowfullscreen\n        ></iframe>\n        ",
                  "image/jpeg": "/9j/4AAQSkZJRgABAQAAAQABAAD/2wCEABALDBoYFhsaGBoeHRsfIi4jIiIiIi4vJSUiLy03Mi8rMS00PFBCOUBLOTA3RGFFS1NWW1xbOkJlbWVYbFBZXlcBERISGBYZLRsbLVc9LT1jV1dXV1dXV11gX1dXV11XV2NXY1ddV11jV1ddY2RXXVdXZGNXV1dXV1dXV1dXXV1dV//AABEIAWgB4AMBIgACEQEDEQH/xAAbAAEAAQUBAAAAAAAAAAAAAAAAAgEDBAUHBv/EAEkQAAIBAwAGBwUEBwUHBAMAAAABAgMEEQUSEyExURcyQVJxktIGIlNhsRQVVJEzQnOBocHRFiM1svA0Q2NydIKzYsPh8Qc2Vf/EABkBAQEBAQEBAAAAAAAAAAAAAAACAQMEBf/EACARAQEAAgMAAQUAAAAAAAAAAAABAhEDITESBBMiQXH/2gAMAwEAAhEDEQA/AOfgAAAAAAAAAAAAAAAAAAAAAAAAAAAAAAAAAAAAAAAAAAAAAAAAAAAAAAAAAAAAAAAAAAAAAAAAAAAAAAAAAAAAAAAAAAAAAAAAAAAAAAAAAAAAAAAAAAAAAAAAAAAAAAAAAAAAAAAAAAAAAAAAAAAAAAAAAAAAAAAA9f0cXvxbfzT9A6OL34tv5p+gDyAPX9HF78W380/QOji9+Lb+afoA8gD1/Rxe/Ft/NP0Do4vfi2/mn6APIA9f0cXvxbfzT9A6OL34tv5p+gDyAPX9HF78W380/QOji9+Lb+afoA8gD1/Rxe/Ft/NP0Do4vfi2/mn6APIA9f0cXvxbfzT9A6OL34tv5p+gDyAPX9HF78W380/QOji9+Lb+afoA8gD1/Rxe/Ft/NP0Do4vfi2/mn6APIA9f0cXvxbfzT9A6OL34tv5p+gDyAPX9HF78W380/QOji9+Lb+afoA8gD1/Rxe/Ft/NP0Do4vfi2/mn6APIA9f0cXvxbfzT9A6OL34tv5p+gDyAPX9HF78W380/QOji9+Lb+afoA8gD1/Rxe/Ft/NP0FJf8A46vEm9rb7lnrT9AHkQXo20mk8reV+yy5oCwC/wDZZc0PssuaAsAv/ZZc0PssuaAsAv8A2WXND7LLmgLAL/2WXND7LLmgLAL/ANllzQ+yy5oCwC/9llzQ+yy5oCwC/wDZZc0PssuaAsAv/ZZc0FaS5oCwDb/2drd6n+b/AKBeztbvU/zf9ANQDc/2Zr96n+cv6E4+ylw/1qX5y9IGjB6GPsdcv9ej5pekux9h7p/r0PNL0g28yD1P9grv4lDzT9JF+w10v95Q80vSB5gHpH7FXXfo+aXpKf2Luu/R80vSB5wHpP7E3XxKPml6SM/Y25jxnR80vSB10AAAAAAAAAAAAAAAAAAAAAAAAAAAAAAAAAAAAAIVupLwf0JkK3Ul4P6AcTpdWPgiRGl1Y+CJBIAAAAAAAAAAAAAAAAAABKPFeJElHivED1kN5d1CShvJ4JqilEvwRGmi7BAX6ETYU4mJQRK8vVRiu2T4L+Zu9NmO7qM7BZqRNU9JVJfL92C/b6Rzuqbl3nwXiZ8tul4rO2Q4kGiMb6jOahGpGUnwSeeG8utBz0tli64GSyxcr3TR6QAGsAAAAAAAAAAAAAAAAAAAAAAAAAAAAAAAAAAAIVupLwf0JkK3Ul4P6AcTpdWPgiRGl1Y+CJBIAAAAAAAAAAAAAAAAAABKHFeJElDivED3GrvJYK9pIiqhBF6CIQRdga1k0kaH2ik3Va1nFJJPDxuxnGTf0zz+kauvUnGrHGJYS+XBP96WTL46cU7Y2j7tuMot6yjFtSznd4lLWUJTepJaye9J/VErVwU5RWFHVxjPP/SMihs0sxS8TY75Y1tqE9bUb45/lgzmjQWtSUatLK92c8Lf89/8j0Renky6qy0WLhe6zJkWa/VYs6TK34AMaAAAAAAAAAGp9qL+pbWVStSaU4uGG1lb5pPd4MDbA1Ps9pf7XReutWvT92rDhiXPHJ/1XYRqaQqLSsLbK2Tt3Uaxv1tbHEDcAtVriFNZqTjBPhrSS+pJVYuOspLV462d2PECYNZobS6ulV3Rg6dadNLWy5KP637zYxmpcGn2bn2gSBFTTbSabXFZ4eJHbw3e/H3niO9b3yXMC4C1WuadPG0nCGeGtJLP5k1JNZTTWMprgBIGp9l7+pc2NKtVac5OeWlhbptLd4I2wAAAAAAAAAhW6kvB/QmQrdSXg/oBxOl1Y+CJEaXVj4IkEgAAAAAAAAAAAAAAAAAAEocV4kSUOK8QPd9pMtJ7yU6kYJylJRiuLbwl+8ixcXoFyJq6mnbSHGvF/wDLmX0Map7W2seG0n4R/q0bIPQurqpt9iyeSq6Wjd1JzjFxW5JPGcJduC9/ayNXMKVvUm2muKX58cGstNEVKVOU5VIr3caq37/E3LztXHfy1PUatZayxF/lxNnbXWcRacd27PajWWtOTe6WIoz4U9++Wd6x8sGSOlzegq3KtrJ1VCMpxjr4fza/l9DS6D9oata5anJ4kuGfdXguwyLiq6tCpSb3uLhn+GcGl0bo2rQuYSeJR3puL4ZXanvO3xrxfewtuO+3vlPJGq9zLFGpwLknuH6dHogAc1AAAAAAAAB5728/wqv4w/8AJE9Car2m0bO7sqtCk4qc9XDk2lukn2J8gNbpu0nbThpG2WZQilcQX+8pYWX4pdvyXLDjQu4V9MUKtJ5hOzbT/wC97n8z00I4ik+WDzujPZl2ukZV6co/Z3CSjDL1ouTTwljGN3PtAt3Ctqt5XcLGd7Ui1GpOWo4QaWNSO0aXzaXayHs3SpSuNIWypyjb/wB29jNY1ZST11jxXZu4Y3GbQsLu0rV3bRo1aNeo6uJzcJQm+tvUXlbi9onRtend3VxXlTe2VPChndqprGH4rf2/LgBgex1hRX2moqcVOFzVpxljfGCaSivkZPsf+gr/APVVf8xXRFhd21erDFGVtUrTra+s9otb9XVxjjj+JZtNH39pUrQt9hUo1KkqkXUlJSg5cU0lvQF3Qn+36T/56f8A4zC9itFUZWlG4nHWqqU9RyeVBKcl7q4Lm/E2ehNF1qFW6qVqkajrSjJSiscI4eY9nJb3uRd9m9HTtLOnRqOLnFybcW2vem5LilzA1Mla1rm4lTsJ3jU9WpUlqOMZLc4Q2klw5Ln4Fz2ScY1L6lTUoUYVU4U5Jpw1o5ksPhvRes7G8s51YUI0a1GpUlUjrzcJQcuKeIvKMjQ2ja1Gtd1K0qcnXlGS1MrGI4xh8PzYFj2H/wAMo+NT/wAkjfmr9m9HTtLOnQqOLnFybcW2vem5LilzNoAAAAAAAAAIVupLwf0JkK3Ul4P6AcTpdWPgiRGl1Y+CJBIAAAAAAAAAAAAAAAAAABKHFeJElHivED2ylvNT7W1MWiXeqJfwbMj7xpZ/Sw8yNV7T3UatKnGnJTall6u/G41rzButD6IVSO0rZ1P1Yrc5fPwNTGjJtLGM9r4Hq1d00lFTjhLC39iLwkt7ef6nPLHHWHtXoxjCOrCKiuSX1Gs3CUFjmY32qHfj+ZV3UO/HPidM8Mcpp5ODk5OLk+erWBUpSUsmfarKUm+HEorynne4/mQdzDvRx4nCcd8r6eX1WGtyXf8AGXB9vN5JKpvMaN1Dvx/MjO5hrJqcceJ65ZI+LlhnllbZ69BY19amua3Gapbjz2jNIUoZUqkUmuaNitK26/39P8zjZqvqcOVuE37HtwAcXcAAAAAADW6b0o7SFKSgp7SrGnjOMa2d/D5AbIAAACgFQAAAKAVAAAAAAAAAAAAAAAAIVupLwf0JkK3Ul4P6AcTpdWPgiRGl1Y+CJBIAAAAAAAAAAAAAAAAAAAAAAA0AABUFAYAAAqCgAqRlwfgVKS4PwNHbgAYoAAAAADzvtp+htv8Aqqf8z0Rofa62q1aFHY05VJQrwm4x46sU+YG+NB7QVKSq0417yrSg47qNHOvOWX7zcE5Yx2fIl9+3H/8ANuPzh/UtV41LbSM7p0KlanVpRgnTWtOnKPFavHD5oDH0LcqnfqhRuZ17epSc9WpJynTnFpY371ufBkre3q3V7f05XNaFGFSHuQm098M4Uv1VzS4l6jTq1dKU7j7POlT2Eoa08azetuyk3j5fyMnRFrUheX85xajUnBwb4SShh4/eBi6HjO30jWtNtUq0tjGrHaScpRblqtJvsLGj7eppKdW4q161OjGpKnRp0puCxF41pNcW/wCpsadrUWlp1tV7N20YKXZrKecfkYNl9o0dOrS+zVLi3nUdSlKlquUdZ5cZJtcOf+kEtGqtS0tKhO4qVacbXWjrv/iJLWXBy4rWxnBlezlec53ynOUlG6nGOtJvVjhblngvkYWjatWemZyrU1Tk7TdDOXGO0WNZrdni93yK2tatZXN1GVpWrQrVnVhOkk17yW55axwAzNH15vSl7Bzk4RhScYtvVi2nnC4LJrLmVrOtVVfSNxKak1/dSnGnSWXhPUWqmlxbZnaGoXDvrytXpbJVYU1HDzjCe7PNbs43eJj6AqVbGj9lqWlec4SlipTinConJtS1m1h9m/5AS0RpipDR93UqT2ztalSEZt/pIxScW2ueeJXRmhKtajC4r3lyq9RKfuVNWEMrKiocN3b2MpobRE5Wl/Qr09jt69RxW5pRlGKTWOKTX8CWjb+8oUoW9WyqVKtNKEZwlHZzS3JuTe7d8v6AW9C6RqUrbSNWvOVWVCvU4t4erFbopt6qz2dmTFtJW9akqt3pRqvNazVO6UI0s71GMU+z5l/2etHcW+kqVVpOpc1YyceCk4pNxzyZKyuattTjQudH1Ks4JRVSjThKE0tyk22sPxAzvZjScq8KtOdSNWVCpqbWLTVSGMxlu3Zxx8DdmHoxydPWnQjQlJv3E03jsy1uzgzAAAAAAAQrdSXg/oTIVupLwf0A4nS6sfBEiNLqx8ESCQAAAAAAAAAAAAAAAAAAAAAAAAAAAAAAAAAACkuD8CpSXB+AHbgAFAAAAAACxe3caFGdWedWEdZ4WXhGmXtfbtZ2Vzq4zrbF4xzzyA9AUMfR9/SuaSq0JqcH29qfJp70zJAoVAAGor6LuVVnO3vZ01N6zhOmqkU//TnDS+RtwBrNFaIVvKpUnUlWr1ca9SeFlLgkluSNmAAAAEZRymt6ysbuJpI6Gu4x2cNIzVPgtalGVRLlr/zwbuclFOTeEllv5FjR99SuaUa1GWtTlnDw1weHufzQENF6Op2tFUqeWk23KTzKUnxk3zMwAAAAAAAAAAQrdSXg/oTIVupLwf0A4nS6sfBEiNLqx8ESCQAAAAAAAAAAAAAAAAAAAAAAAAAAAAAAAAAACkuD8CpSXB+AHbgAFAAAAADVe0/+H3X7JmDof2isqdlbwnc04yhRhGUc71JQSawZ3tR/h11+ykU0DZ0nY2rdKDboU224rLeot4Gl0JWlGjpO8ox1KU3KpQUlubjGTcscm8G00LcXdaFK4rypQoumnqRWZSzHrt/q88LsM3Tv+w3X7Cp/kZa0JT19G28eyVvBfnBAa6zur6/i69CrTtrdtqlmnrzmk8a0stY/14mZobStSc69vdKMa9DDk451JwayprP8f9Ja7QWmaVlQVpey2FWhmPvJ6s453Si+0u6Hpyu7q6vNWUKNSmqNJyWHKK4zw+zPACtndXt/F16FWFtbttUtanrzmk8azy9yMuvpKta2U6t3CEqsXqxVJvFRt4hx4Zfj/I12gtM0rKgrS9lsKtDMfeT1ZxzlSi+1F7TTekdHOdtCbcainCMk4uoovs7cNZwBe2GlNTa7eg6mM7DZe5/y6+c5+ZC99o39go3NGMYyrTjTzU6tKTbUnL5Jpmup19DuGtKdSEu2nKtW2il3dXWy2bWbtLWxgpUKitqjzKEoSm4a3vNzTy1v/iBdtqF9CdOTuaVxTbWunT1Go84OLefBmPcX9xXvqtrRrQt1SjFuUoKU6jks+6m8YX1NRi0p3Fv901ZOpOrHaUqcpSpuln33JPcsI2mmq2jatZ0r6ChOCWrOpFxUk1n3Ki44zz4gbSwV1CNRXMqc3HqTgnFyWN+tHgnnkzS09NVloNXa1I1Us7o+6v7zV6vgT9mZvWu40alSrZxxsZ1G372HrqMnvaW41S//AFf/ALf/AHgNxevSSoyuFWow1IuewVPWWqlnDm3xxySX1L95p9wsKFxCCdW4UI06be7aTWceC3mdpH/Yq37CX+Rnnq9tUlonR9alFzlb7KtqLjKMY70vzAzasdJ0KMq061Gs4wcpUlT1dXdn3J9uPmt/yNpoW6lXtKFWeNedNSlhYWWjVXftPa1rarGg5VKkqcls1BqUfdeXLKxFLnnwyZ/sx/h1r+yj9ANoAAAAAEK3Ul4P6EyFbqS8H9AOJ0urHwRIjS6sfBEgkAAAAAAAAAAAAAAAAAAAAAAAAAAAAAAAAAAApLg/AqUlwfgB24ABQAAAAAoCoAoCoAjKCfFJ+KKlQBGUE+KT8UVKgCOos5ws88bypUARjBLgkvBCUU+KT8USAFEscBgqAKGPfwrOlJW84Qq7nFzjmO55afjwyZIA89d0tI3FKVB07egqi1Z1FOUnqvc9WOFv8Wbqzto0aNOlDq04qK8EsF8AAAAAAAhW6kvB/QmQrdSXg/oBxOl1Y+CJEaXVj4IkEgAAAAAAAAAAAAAAAAAAAAAAAAAAAAAAAAAAFJcH4FSkuD8AO3AAKAAAAAFurWhBZnKMVwzJpLP7ytOpGa1oSUlzTyjD0lJKds5NJbbt4fo5mNXrqNSrUt8NRpPXcd8dfK1eG5tLWz8sfIDblTR3rm6Fda7cNjKW+cXLPZwXBrP5bi7f3Moqo6dR/wB1TUsuUVl72njHvZxh718t4G0dSOcZWc449uM4/ImaupLNbG7dcRxu/wCDklo+tLXUZzcpSg5JxlGVOSTW9YWVxW7h4gbIhKrFSUXKKk+EcrL8EYFzWevW1qzpbOKcVu3rGdZ5W/fux8hZKTuJzllSdGk3HsTevu/d/NgbEpKSSy2kvn8zVVZunO5kqjT1oZzj3YvVTnjHYm/luI3lVpVIKbqxjspdjak6i93O5b0k8f1QG5BqJ3lTUy24ydVQnHctksPCTfPd73brbsbie0qe7HXaTrKOU4uSWo24vdjj/IDZtpYy+PD5lTVRqSVSEHJySuJQy0s6uxcuOOb4kaVy9SrVVaUqajiCzHPHGvw3LPDO7G/tA2wTTzv4cfkaSvObVWnObxF0ZbpJ41ptP3sLduT3r+BeqV5Kc4qerF1oRc92VF0k+OO14WXz8ANsDUutPW1I1W47ZQ192cODbjnGHh9pl2MpZqxlJy1Kmqm+ONWMt/mAywAAAAAhW6kvB/QmQrdSXg/oBxOl1Y+CJEaXVj4IkEgAAAAAAAAAAAAAAAAAAAAAAAAAAAAAAAAAAFJcH4FSkuD8AO3AAKAAAAAEZwUt0kmvmisYpLCWF8ioAhGlFJpRST44XEpsYbvdjuWFuW5FwAR1VyXP95SNOKbaik3xwuJMARlTi2m0m1wyuBXHb2lQBHUWc4WcYzjfjkUjTilhRSXJLcTAEXBPOUt+57uKEYRSSSSS4JLgSAEdVclz/fwIxowXCMVnduS4FwAQVKKWFGOOGMLGCupHGMLD7MbiQAioJJJJJLgscCqX8SoAAAAAABCt1JeD+hMhW6kvB/QDidLqx8ESI0urHwRIJAAAAAAAAAAAAAAAAAAAAAAAAAAAAAAAAAAAKS4PwKlJcH4AduAAUAAAAAAAAAAAAAAAAAAAAAAAAAAAAAAAAAAAQrdSXg/oTIVupLwf0A4nS6sfBEiNLqx8ESCQAAAAAAAAAAAAAAAAAAAAAAAAAAAAAAAAAACkuD8CpSXB+AHbgAFAAAAAAAAAAAAAAAAAAAAAAAAAAAAAAAAAAAEK3Ul4P6EyFbqS8H9AOJ0urHwRIjS6sfBEgkAAAAAAAAAAAAAAAAAAAAAAAAAAAAAAAAAAApLg/AqUlwfgB24Gv20u8xtpc2FNgDX7aXNjbS5sDYA1+2lzY20ubA2ANftpc2NtLmwNgDX7aXNjbS5sDYA1+2lzY20ubA2ANftpd5jbS5sDYA1+2lzY20ubA2ANftpc2NtLvMDYA1+2l3mNtLvMDYA1+2l3mNtLvMDYA1+2l3mNtLvMDYA1+2l3mNtLvMDYA1+2l3mNtLvMDYEK3Ul4P6GFtpd5mPd37gsOS39sn7qXN/07QOUUurHwRI9tpDRdKlFJWlOpmWrJwhqKMXl6ybbziK3r9+42NPQdtj3rainl7ksrGd2/C7AzTnAOlfcdp+HpeUfcdp+HpeUGnNQdK+47T8PS8o+47T8PS8oNOag6V9x2n4el5R9x2n4el5Qac1B0r7jtPw9Lyj7jtPw9Lyg05qDpX3Hafh6XlH3Hafh6XlBpzUHSvuO0/D0vKPuO0/D0vKDTmoOlfcdp+HpeUfcdp+HpeUGnNQdK+47T8PS8o+47T8PS8oNOag6V9x2n4el5R9x2n4el5Qac1B0r7jtPw9Lyj7jtPw9Lyg05qDpX3Hafh6XlH3Hafh6XlBpzUHSvuO0/D0vKPuO0/D0vKDTmoOlfcdp+HpeUjU0NZRWZUKMVzaSQNOblJcH4HSloWzfC3pPHyRau9CWipVGremmoSa935MGm2NPc1K9GVxOMJSTnCcN6cZJRhF08Zym2n2YzvPQbNchs1yDXnYULyFTrZi5pyl7ry9Sms4b3Ryp7lv4F28o1nUnGEZONSdKWupJKChJOaaznel2J5yb3ZrkNmuQHmbipeUoZlKTTUW9VQclLVnmK3YxlQ+e94Lr+2ylhNxi9Xf8A3e73oazW7u6/FcT0OzXIbNcgMD7O9q6jqT1XDV2e7UznOtzz2GsjY1qcXsk1LaVHlyziLk9TrN9jPRbNchs1yA89KF8k8TlLfyp62qpzScdyWXHUbz8+DJaRt68thKKc5xXvJNRp6z1ctrXTXB4abxv3M3+zXIbNcgNDTjeOfvyajtN+FDqYn1XveH7i3rJZoQvlHDeMU4paqg1nVjni09bOt8sHpNmuQ2a5AaSu7rZ0dRNTxmpvg9+7c8pJp796/wDq1UheLhKUotrKWy1orM8qOVj4ec9mcbz0GzXIbNcgPOVrO5cbZ05NTpUJKScvdlUxBast+/KUt/Y9/jbVrc7GpR1Ja0p0pKbknFRSpKaeJKX6s3jdnfv3np9muQ2a5Aa+xt3SpKEpubTbzv7W3hZbeFnC3vcZBkbNchs1yAxwZGzXIbNcgMcGRs1yGzXIDHBkbNchs1yAxwZGzXIbNcgMcGRs1yGzXIDHNXf3SjWhHUlNTahJqGYxxv3uW7DUmsm82a5EJ20JPMo53OO/hqvGU1wfBAaVxacVHFSTTTjOSlKnLDSaxwXvNN8nu5GzjHCS5LBlKlFcEhs1yAxwZGzXIbNcgMcGRs1yGzXIDHBkbNchs1yAxwZGzXIbNcgMcGRs1yGzXIDHBkbNchs1yAxwZGzXIbNcgMcGRs1yGzXIDHBkbNchs1yAxwZGzXIbNcgMcGRs1yGzXIDHBkbNchs1yAxy1cRm44g0nzfYu3G57zN2a5DZrkBgW9uoN4SScYrC7NVNce3/AOBefoav/JL6Mz9muRYvqa2NXd/u5f5WBlAoUUllrlxAkCk2o41njPyZJxAoCKaecdm5hSy2uQEgUKgAAAAAAAAAAAAAAAAAAAAAAAAAAAAAAAAAAAAAAAAAAAAAAAAAAAAAAAAAAAAAAAAAAALF9+gq/s5f5WXyxffoKv7OX+VgXmR7c6rz+45r/b+97tHyP1DpAve7Q8j9QHS5STxmLePD+pVz/wDS/wCH9TmfSBe92h5H6h0gXvdoeR+oDpSeP1X/AAC7cJrPM5r0gXvdoeR+odIF73aHkfqA6YVOZdIF73aHkfqHSBe92h5H6gOmg5l0gXvdoeR+odIF73aHkfqA6aDmXSBe92h5H6h0gXvdoeR+oDpoOZdIF73aHkfqHSBe92h5H6gOmg5l0gXvdoeR+odIF73aHkfqA6aDmXSBe92h5H6h0gXvdoeR+oDpoOZdIF73aHkfqHSBe92h5H6gOmg5l0gXvdoeR+odIF73aHkfqA6aDmXSBe92h5H6h0gXvdoeR+oDpoOZdIF73aHkfqHSBe92h5H6gOmg5l0gXvdoeR+odIF73aHkfqA6aDmXSBe92h5H6h0gXvdoeR+oDpoOZdIF73aHkfqHSBe92h5H6gOmg5l0gXvdoeR+odIF73aHkfqA6aDmXSBe92h5H6h0gXvdoeR+oDpoOZdIF73aHkfqHSBe92h5H6gOmg5l0gXvdoeR+odIF73aHkfqA6aDmXSBe92h5H6h0gXvdoeR+oDpoOZdIF73aHkfqHSBe92h5H6gOmg5l0gXvdoeR+odIF73aHkfqA6aDmXSBe92h5H6h0gXvdoeR+oDpoOZdIF73aHkfqHSBe92h5H6gOmg5l0gXvdoeR+odIF73aHkfqA6aDmXSBe92h5H6h0gXvdoeR+oDpoOZdIF73aHkfqHSBe92h5H6gOmg5l0gXvdoeR+odIF73aHkfqA6aWL79BV/Zy/ys5z0gXvdoeR+ohV9vLycZRcaOJJp+4+DWO8B5gAAAAAAAAAAAAAAAAAAAAAAAAAAAAAAAAAAAAAAAAAAAAAAAAAAAAAAAAAAAAAAAAAAAAAAAAAAAAAAAAAAAAAAAAAAAAAAAAAAAAAAAAAAAAAAAAAAAAAAAAAAAAAAAAAAAAAAAAAAAAAAAAAAAAAAAAAAAAAAAAAAAAAAAAAAAAAAAAAAAAAAAAAAAAAAAAAAAAAAAAAAAAAAAAAAAAAAAAAAAAAAAAAAAAAAAAAAAAAAAH/2Q==\n"
                },
                "metadata": {}
              }
            ]
          }
        },
        "d4400f931b2442d8b59f10bccc14e68a": {
          "model_module": "@jupyter-widgets/output",
          "model_name": "OutputModel",
          "model_module_version": "1.0.0",
          "state": {
            "_dom_classes": [],
            "_model_module": "@jupyter-widgets/output",
            "_model_module_version": "1.0.0",
            "_model_name": "OutputModel",
            "_view_count": null,
            "_view_module": "@jupyter-widgets/output",
            "_view_module_version": "1.0.0",
            "_view_name": "OutputView",
            "layout": "IPY_MODEL_16dd07918adb4894a0e73d43c74baf35",
            "msg_id": "",
            "outputs": [
              {
                "output_type": "stream",
                "name": "stdout",
                "text": [
                  "Video available at https://www.bilibili.com/video/\n"
                ]
              },
              {
                "output_type": "display_data",
                "data": {
                  "text/plain": "<__main__.BiliVideo at 0x7f6f7adb9610>",
                  "text/html": "\n        <iframe\n            width=\"854\"\n            height=\"480\"\n            src=\"https://player.bilibili.com/player.html?bvid=&page=1?fs=1\"\n            frameborder=\"0\"\n            allowfullscreen\n        ></iframe>\n        "
                },
                "metadata": {}
              }
            ]
          }
        },
        "90610915429146449a62a7cd8ea9c1c4": {
          "model_module": "@jupyter-widgets/base",
          "model_name": "LayoutModel",
          "model_module_version": "1.2.0",
          "state": {
            "_model_module": "@jupyter-widgets/base",
            "_model_module_version": "1.2.0",
            "_model_name": "LayoutModel",
            "_view_count": null,
            "_view_module": "@jupyter-widgets/base",
            "_view_module_version": "1.2.0",
            "_view_name": "LayoutView",
            "align_content": null,
            "align_items": null,
            "align_self": null,
            "border": null,
            "bottom": null,
            "display": null,
            "flex": null,
            "flex_flow": null,
            "grid_area": null,
            "grid_auto_columns": null,
            "grid_auto_flow": null,
            "grid_auto_rows": null,
            "grid_column": null,
            "grid_gap": null,
            "grid_row": null,
            "grid_template_areas": null,
            "grid_template_columns": null,
            "grid_template_rows": null,
            "height": null,
            "justify_content": null,
            "justify_items": null,
            "left": null,
            "margin": null,
            "max_height": null,
            "max_width": null,
            "min_height": null,
            "min_width": null,
            "object_fit": null,
            "object_position": null,
            "order": null,
            "overflow": null,
            "overflow_x": null,
            "overflow_y": null,
            "padding": null,
            "right": null,
            "top": null,
            "visibility": null,
            "width": null
          }
        },
        "d4b4f82c58664833ad32cd8fc78c81d9": {
          "model_module": "@jupyter-widgets/base",
          "model_name": "LayoutModel",
          "model_module_version": "1.2.0",
          "state": {
            "_model_module": "@jupyter-widgets/base",
            "_model_module_version": "1.2.0",
            "_model_name": "LayoutModel",
            "_view_count": null,
            "_view_module": "@jupyter-widgets/base",
            "_view_module_version": "1.2.0",
            "_view_name": "LayoutView",
            "align_content": null,
            "align_items": null,
            "align_self": null,
            "border": null,
            "bottom": null,
            "display": null,
            "flex": null,
            "flex_flow": null,
            "grid_area": null,
            "grid_auto_columns": null,
            "grid_auto_flow": null,
            "grid_auto_rows": null,
            "grid_column": null,
            "grid_gap": null,
            "grid_row": null,
            "grid_template_areas": null,
            "grid_template_columns": null,
            "grid_template_rows": null,
            "height": null,
            "justify_content": null,
            "justify_items": null,
            "left": null,
            "margin": null,
            "max_height": null,
            "max_width": null,
            "min_height": null,
            "min_width": null,
            "object_fit": null,
            "object_position": null,
            "order": null,
            "overflow": null,
            "overflow_x": null,
            "overflow_y": null,
            "padding": null,
            "right": null,
            "top": null,
            "visibility": null,
            "width": null
          }
        },
        "16dd07918adb4894a0e73d43c74baf35": {
          "model_module": "@jupyter-widgets/base",
          "model_name": "LayoutModel",
          "model_module_version": "1.2.0",
          "state": {
            "_model_module": "@jupyter-widgets/base",
            "_model_module_version": "1.2.0",
            "_model_name": "LayoutModel",
            "_view_count": null,
            "_view_module": "@jupyter-widgets/base",
            "_view_module_version": "1.2.0",
            "_view_name": "LayoutView",
            "align_content": null,
            "align_items": null,
            "align_self": null,
            "border": null,
            "bottom": null,
            "display": null,
            "flex": null,
            "flex_flow": null,
            "grid_area": null,
            "grid_auto_columns": null,
            "grid_auto_flow": null,
            "grid_auto_rows": null,
            "grid_column": null,
            "grid_gap": null,
            "grid_row": null,
            "grid_template_areas": null,
            "grid_template_columns": null,
            "grid_template_rows": null,
            "height": null,
            "justify_content": null,
            "justify_items": null,
            "left": null,
            "margin": null,
            "max_height": null,
            "max_width": null,
            "min_height": null,
            "min_width": null,
            "object_fit": null,
            "object_position": null,
            "order": null,
            "overflow": null,
            "overflow_x": null,
            "overflow_y": null,
            "padding": null,
            "right": null,
            "top": null,
            "visibility": null,
            "width": null
          }
        },
        "e73b013e6b3a4bc99c2e21011eb6bd46": {
          "model_module": "@jupyter-widgets/controls",
          "model_name": "TabModel",
          "model_module_version": "1.5.0",
          "state": {
            "_dom_classes": [],
            "_model_module": "@jupyter-widgets/controls",
            "_model_module_version": "1.5.0",
            "_model_name": "TabModel",
            "_titles": {
              "0": "Youtube",
              "1": "Bilibili"
            },
            "_view_count": null,
            "_view_module": "@jupyter-widgets/controls",
            "_view_module_version": "1.5.0",
            "_view_name": "TabView",
            "box_style": "",
            "children": [
              "IPY_MODEL_dd1b6e31dc5f4f8db3b358fc2c6c659d",
              "IPY_MODEL_bb84fb271d6c4bc19a9fb415607ab208"
            ],
            "layout": "IPY_MODEL_0bb7159a7d814697aff009cadfb44cb4",
            "selected_index": 0
          }
        },
        "dd1b6e31dc5f4f8db3b358fc2c6c659d": {
          "model_module": "@jupyter-widgets/output",
          "model_name": "OutputModel",
          "model_module_version": "1.0.0",
          "state": {
            "_dom_classes": [],
            "_model_module": "@jupyter-widgets/output",
            "_model_module_version": "1.0.0",
            "_model_name": "OutputModel",
            "_view_count": null,
            "_view_module": "@jupyter-widgets/output",
            "_view_module_version": "1.0.0",
            "_view_name": "OutputView",
            "layout": "IPY_MODEL_ad5fb287496f4d5da32f8d8007cd99cb",
            "msg_id": "",
            "outputs": [
              {
                "output_type": "stream",
                "name": "stdout",
                "text": [
                  "Video available at https://youtube.com/watch?v=0vTuEIAnrII\n"
                ]
              },
              {
                "output_type": "display_data",
                "data": {
                  "text/plain": "<IPython.lib.display.YouTubeVideo at 0x7f6f7ae33850>",
                  "text/html": "\n        <iframe\n            width=\"854\"\n            height=\"480\"\n            src=\"https://www.youtube.com/embed/0vTuEIAnrII?fs=1&rel=0\"\n            frameborder=\"0\"\n            allowfullscreen\n        ></iframe>\n        ",
                  "image/jpeg": "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\n"
                },
                "metadata": {}
              }
            ]
          }
        },
        "bb84fb271d6c4bc19a9fb415607ab208": {
          "model_module": "@jupyter-widgets/output",
          "model_name": "OutputModel",
          "model_module_version": "1.0.0",
          "state": {
            "_dom_classes": [],
            "_model_module": "@jupyter-widgets/output",
            "_model_module_version": "1.0.0",
            "_model_name": "OutputModel",
            "_view_count": null,
            "_view_module": "@jupyter-widgets/output",
            "_view_module_version": "1.0.0",
            "_view_name": "OutputView",
            "layout": "IPY_MODEL_bc513ad51bf3445f8047da517dc691fe",
            "msg_id": "",
            "outputs": [
              {
                "output_type": "stream",
                "name": "stdout",
                "text": [
                  "Video available at https://www.bilibili.com/video/\n"
                ]
              },
              {
                "output_type": "display_data",
                "data": {
                  "text/plain": "<__main__.BiliVideo at 0x7f6f7ae33510>",
                  "text/html": "\n        <iframe\n            width=\"854\"\n            height=\"480\"\n            src=\"https://player.bilibili.com/player.html?bvid=&page=1?fs=1\"\n            frameborder=\"0\"\n            allowfullscreen\n        ></iframe>\n        "
                },
                "metadata": {}
              }
            ]
          }
        },
        "0bb7159a7d814697aff009cadfb44cb4": {
          "model_module": "@jupyter-widgets/base",
          "model_name": "LayoutModel",
          "model_module_version": "1.2.0",
          "state": {
            "_model_module": "@jupyter-widgets/base",
            "_model_module_version": "1.2.0",
            "_model_name": "LayoutModel",
            "_view_count": null,
            "_view_module": "@jupyter-widgets/base",
            "_view_module_version": "1.2.0",
            "_view_name": "LayoutView",
            "align_content": null,
            "align_items": null,
            "align_self": null,
            "border": null,
            "bottom": null,
            "display": null,
            "flex": null,
            "flex_flow": null,
            "grid_area": null,
            "grid_auto_columns": null,
            "grid_auto_flow": null,
            "grid_auto_rows": null,
            "grid_column": null,
            "grid_gap": null,
            "grid_row": null,
            "grid_template_areas": null,
            "grid_template_columns": null,
            "grid_template_rows": null,
            "height": null,
            "justify_content": null,
            "justify_items": null,
            "left": null,
            "margin": null,
            "max_height": null,
            "max_width": null,
            "min_height": null,
            "min_width": null,
            "object_fit": null,
            "object_position": null,
            "order": null,
            "overflow": null,
            "overflow_x": null,
            "overflow_y": null,
            "padding": null,
            "right": null,
            "top": null,
            "visibility": null,
            "width": null
          }
        },
        "ad5fb287496f4d5da32f8d8007cd99cb": {
          "model_module": "@jupyter-widgets/base",
          "model_name": "LayoutModel",
          "model_module_version": "1.2.0",
          "state": {
            "_model_module": "@jupyter-widgets/base",
            "_model_module_version": "1.2.0",
            "_model_name": "LayoutModel",
            "_view_count": null,
            "_view_module": "@jupyter-widgets/base",
            "_view_module_version": "1.2.0",
            "_view_name": "LayoutView",
            "align_content": null,
            "align_items": null,
            "align_self": null,
            "border": null,
            "bottom": null,
            "display": null,
            "flex": null,
            "flex_flow": null,
            "grid_area": null,
            "grid_auto_columns": null,
            "grid_auto_flow": null,
            "grid_auto_rows": null,
            "grid_column": null,
            "grid_gap": null,
            "grid_row": null,
            "grid_template_areas": null,
            "grid_template_columns": null,
            "grid_template_rows": null,
            "height": null,
            "justify_content": null,
            "justify_items": null,
            "left": null,
            "margin": null,
            "max_height": null,
            "max_width": null,
            "min_height": null,
            "min_width": null,
            "object_fit": null,
            "object_position": null,
            "order": null,
            "overflow": null,
            "overflow_x": null,
            "overflow_y": null,
            "padding": null,
            "right": null,
            "top": null,
            "visibility": null,
            "width": null
          }
        },
        "bc513ad51bf3445f8047da517dc691fe": {
          "model_module": "@jupyter-widgets/base",
          "model_name": "LayoutModel",
          "model_module_version": "1.2.0",
          "state": {
            "_model_module": "@jupyter-widgets/base",
            "_model_module_version": "1.2.0",
            "_model_name": "LayoutModel",
            "_view_count": null,
            "_view_module": "@jupyter-widgets/base",
            "_view_module_version": "1.2.0",
            "_view_name": "LayoutView",
            "align_content": null,
            "align_items": null,
            "align_self": null,
            "border": null,
            "bottom": null,
            "display": null,
            "flex": null,
            "flex_flow": null,
            "grid_area": null,
            "grid_auto_columns": null,
            "grid_auto_flow": null,
            "grid_auto_rows": null,
            "grid_column": null,
            "grid_gap": null,
            "grid_row": null,
            "grid_template_areas": null,
            "grid_template_columns": null,
            "grid_template_rows": null,
            "height": null,
            "justify_content": null,
            "justify_items": null,
            "left": null,
            "margin": null,
            "max_height": null,
            "max_width": null,
            "min_height": null,
            "min_width": null,
            "object_fit": null,
            "object_position": null,
            "order": null,
            "overflow": null,
            "overflow_x": null,
            "overflow_y": null,
            "padding": null,
            "right": null,
            "top": null,
            "visibility": null,
            "width": null
          }
        },
        "ec5f7d30f2ff4a238c2acf9400f2b152": {
          "model_module": "@jupyter-widgets/controls",
          "model_name": "TabModel",
          "model_module_version": "1.5.0",
          "state": {
            "_dom_classes": [],
            "_model_module": "@jupyter-widgets/controls",
            "_model_module_version": "1.5.0",
            "_model_name": "TabModel",
            "_titles": {
              "0": "Youtube",
              "1": "Bilibili"
            },
            "_view_count": null,
            "_view_module": "@jupyter-widgets/controls",
            "_view_module_version": "1.5.0",
            "_view_name": "TabView",
            "box_style": "",
            "children": [
              "IPY_MODEL_811f2236f5ee4e45adb9734ede724db4",
              "IPY_MODEL_a5629614814c4f9493aa0bbc3b99e128"
            ],
            "layout": "IPY_MODEL_82e9931d1dc3432c8a42f82b67180dbb",
            "selected_index": 0
          }
        },
        "811f2236f5ee4e45adb9734ede724db4": {
          "model_module": "@jupyter-widgets/output",
          "model_name": "OutputModel",
          "model_module_version": "1.0.0",
          "state": {
            "_dom_classes": [],
            "_model_module": "@jupyter-widgets/output",
            "_model_module_version": "1.0.0",
            "_model_name": "OutputModel",
            "_view_count": null,
            "_view_module": "@jupyter-widgets/output",
            "_view_module_version": "1.0.0",
            "_view_name": "OutputView",
            "layout": "IPY_MODEL_a373024bcf6142f297f3b9ae921a80e3",
            "msg_id": "",
            "outputs": [
              {
                "output_type": "stream",
                "name": "stdout",
                "text": [
                  "Video available at https://youtube.com/watch?v=9ujUgNoPeF0\n"
                ]
              },
              {
                "output_type": "display_data",
                "data": {
                  "text/plain": "<IPython.lib.display.YouTubeVideo at 0x7f6f7ae02a10>",
                  "text/html": "\n        <iframe\n            width=\"854\"\n            height=\"480\"\n            src=\"https://www.youtube.com/embed/9ujUgNoPeF0?fs=1&rel=0\"\n            frameborder=\"0\"\n            allowfullscreen\n        ></iframe>\n        ",
                  "image/jpeg": "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\n"
                },
                "metadata": {}
              }
            ]
          }
        },
        "a5629614814c4f9493aa0bbc3b99e128": {
          "model_module": "@jupyter-widgets/output",
          "model_name": "OutputModel",
          "model_module_version": "1.0.0",
          "state": {
            "_dom_classes": [],
            "_model_module": "@jupyter-widgets/output",
            "_model_module_version": "1.0.0",
            "_model_name": "OutputModel",
            "_view_count": null,
            "_view_module": "@jupyter-widgets/output",
            "_view_module_version": "1.0.0",
            "_view_name": "OutputView",
            "layout": "IPY_MODEL_b25ec84ee876447da1c078440ca5fca5",
            "msg_id": "",
            "outputs": [
              {
                "output_type": "stream",
                "name": "stdout",
                "text": [
                  "Video available at https://www.bilibili.com/video/\n"
                ]
              },
              {
                "output_type": "display_data",
                "data": {
                  "text/plain": "<__main__.BiliVideo at 0x7f707fce33d0>",
                  "text/html": "\n        <iframe\n            width=\"854\"\n            height=\"480\"\n            src=\"https://player.bilibili.com/player.html?bvid=&page=1?fs=1\"\n            frameborder=\"0\"\n            allowfullscreen\n        ></iframe>\n        "
                },
                "metadata": {}
              }
            ]
          }
        },
        "82e9931d1dc3432c8a42f82b67180dbb": {
          "model_module": "@jupyter-widgets/base",
          "model_name": "LayoutModel",
          "model_module_version": "1.2.0",
          "state": {
            "_model_module": "@jupyter-widgets/base",
            "_model_module_version": "1.2.0",
            "_model_name": "LayoutModel",
            "_view_count": null,
            "_view_module": "@jupyter-widgets/base",
            "_view_module_version": "1.2.0",
            "_view_name": "LayoutView",
            "align_content": null,
            "align_items": null,
            "align_self": null,
            "border": null,
            "bottom": null,
            "display": null,
            "flex": null,
            "flex_flow": null,
            "grid_area": null,
            "grid_auto_columns": null,
            "grid_auto_flow": null,
            "grid_auto_rows": null,
            "grid_column": null,
            "grid_gap": null,
            "grid_row": null,
            "grid_template_areas": null,
            "grid_template_columns": null,
            "grid_template_rows": null,
            "height": null,
            "justify_content": null,
            "justify_items": null,
            "left": null,
            "margin": null,
            "max_height": null,
            "max_width": null,
            "min_height": null,
            "min_width": null,
            "object_fit": null,
            "object_position": null,
            "order": null,
            "overflow": null,
            "overflow_x": null,
            "overflow_y": null,
            "padding": null,
            "right": null,
            "top": null,
            "visibility": null,
            "width": null
          }
        },
        "a373024bcf6142f297f3b9ae921a80e3": {
          "model_module": "@jupyter-widgets/base",
          "model_name": "LayoutModel",
          "model_module_version": "1.2.0",
          "state": {
            "_model_module": "@jupyter-widgets/base",
            "_model_module_version": "1.2.0",
            "_model_name": "LayoutModel",
            "_view_count": null,
            "_view_module": "@jupyter-widgets/base",
            "_view_module_version": "1.2.0",
            "_view_name": "LayoutView",
            "align_content": null,
            "align_items": null,
            "align_self": null,
            "border": null,
            "bottom": null,
            "display": null,
            "flex": null,
            "flex_flow": null,
            "grid_area": null,
            "grid_auto_columns": null,
            "grid_auto_flow": null,
            "grid_auto_rows": null,
            "grid_column": null,
            "grid_gap": null,
            "grid_row": null,
            "grid_template_areas": null,
            "grid_template_columns": null,
            "grid_template_rows": null,
            "height": null,
            "justify_content": null,
            "justify_items": null,
            "left": null,
            "margin": null,
            "max_height": null,
            "max_width": null,
            "min_height": null,
            "min_width": null,
            "object_fit": null,
            "object_position": null,
            "order": null,
            "overflow": null,
            "overflow_x": null,
            "overflow_y": null,
            "padding": null,
            "right": null,
            "top": null,
            "visibility": null,
            "width": null
          }
        },
        "b25ec84ee876447da1c078440ca5fca5": {
          "model_module": "@jupyter-widgets/base",
          "model_name": "LayoutModel",
          "model_module_version": "1.2.0",
          "state": {
            "_model_module": "@jupyter-widgets/base",
            "_model_module_version": "1.2.0",
            "_model_name": "LayoutModel",
            "_view_count": null,
            "_view_module": "@jupyter-widgets/base",
            "_view_module_version": "1.2.0",
            "_view_name": "LayoutView",
            "align_content": null,
            "align_items": null,
            "align_self": null,
            "border": null,
            "bottom": null,
            "display": null,
            "flex": null,
            "flex_flow": null,
            "grid_area": null,
            "grid_auto_columns": null,
            "grid_auto_flow": null,
            "grid_auto_rows": null,
            "grid_column": null,
            "grid_gap": null,
            "grid_row": null,
            "grid_template_areas": null,
            "grid_template_columns": null,
            "grid_template_rows": null,
            "height": null,
            "justify_content": null,
            "justify_items": null,
            "left": null,
            "margin": null,
            "max_height": null,
            "max_width": null,
            "min_height": null,
            "min_width": null,
            "object_fit": null,
            "object_position": null,
            "order": null,
            "overflow": null,
            "overflow_x": null,
            "overflow_y": null,
            "padding": null,
            "right": null,
            "top": null,
            "visibility": null,
            "width": null
          }
        }
      }
    }
  },
  "nbformat": 4,
  "nbformat_minor": 0
}