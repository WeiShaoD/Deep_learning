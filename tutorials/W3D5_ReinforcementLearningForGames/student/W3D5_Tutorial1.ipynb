{
  "cells": [
    {
      "cell_type": "markdown",
      "metadata": {
        "id": "view-in-github",
        "colab_type": "text"
      },
      "source": [
        "<a href=\"https://colab.research.google.com/github/WeiShaoD/Deep_learning/blob/main/tutorials/W3D5_ReinforcementLearningForGames/student/W3D5_Tutorial1.ipynb\" target=\"_parent\"><img src=\"https://colab.research.google.com/assets/colab-badge.svg\" alt=\"Open In Colab\"/></a>"
      ]
    },
    {
      "cell_type": "markdown",
      "metadata": {
        "execution": {},
        "id": "v3micc_jPFBS"
      },
      "source": [
        "# Tutorial 1: Game Set-Up and Random Player\n",
        "\n",
        "**Week 3, Day 5: Reinforcement Learning for Games**\n",
        "\n",
        "**By Neuromatch Academy**\n",
        "\n",
        "__Content creators:__ Mandana Samiei, Raymond Chua, Tim Lilicrap, Blake Richards\n",
        "\n",
        "__Content reviewers:__ Arush Tagade, Lily Cheng, Melvin Selim Atay, Kelson Shilling-Scrivo\n",
        "\n",
        "__Content editors:__ Melvin Selim Atay, Spiros Chavlis, Gunnar Blohm\n",
        "\n",
        "__Production editors:__ Namrata Bafna, Gagana B, Spiros Chavlis"
      ]
    },
    {
      "cell_type": "markdown",
      "metadata": {
        "execution": {},
        "id": "o5EpX-xjPFBU"
      },
      "source": [
        "\n",
        "<p align='center'><img src='https://github.com/NeuromatchAcademy/widgets/blob/master/sponsors.png?raw=True'/></p>"
      ]
    },
    {
      "cell_type": "markdown",
      "metadata": {
        "execution": {},
        "id": "IAh0rDsLPFBU"
      },
      "source": [
        "---\n",
        "# Tutorial Objectives\n",
        "\n",
        "In this tutorial, you will learn how to implement a game loop and create a random player. In future tutorials, you will be training other types of players using reinforcement learning.\n",
        "\n",
        "The specific objectives for this tutorial:\n",
        "*   Understand the format of two-players games, Othello specifically\n",
        "*   Understand how to create random players\n"
      ]
    },
    {
      "cell_type": "code",
      "execution_count": 1,
      "metadata": {
        "cellView": "form",
        "execution": {},
        "id": "XKUyP5jaPFBV",
        "outputId": "a1a3cdbd-3254-4e7a-f563-ab060470655a",
        "colab": {
          "base_uri": "https://localhost:8080/",
          "height": 501
        }
      },
      "outputs": [
        {
          "output_type": "execute_result",
          "data": {
            "text/plain": [
              "<IPython.lib.display.IFrame at 0x7ff06131cd10>"
            ],
            "text/html": [
              "\n",
              "        <iframe\n",
              "            width=\"854\"\n",
              "            height=\"480\"\n",
              "            src=\"https://mfr.ca-1.osf.io/render?url=https://osf.io/4p2ek/?direct%26mode=render%26action=download%26mode=render\"\n",
              "            frameborder=\"0\"\n",
              "            allowfullscreen\n",
              "        ></iframe>\n",
              "        "
            ]
          },
          "metadata": {},
          "execution_count": 1
        }
      ],
      "source": [
        "# @title Tutorial slides\n",
        "\n",
        "from IPython.display import IFrame\n",
        "IFrame(src=f\"https://mfr.ca-1.osf.io/render?url=https://osf.io/4p2ek/?direct%26mode=render%26action=download%26mode=render\", width=854, height=480)"
      ]
    },
    {
      "cell_type": "markdown",
      "metadata": {
        "execution": {},
        "id": "rQEIk5HmPFBW"
      },
      "source": [
        "These are the slides for the videos in the tutorial. If you want to locally download the slides, click [here](https://osf.io/4p2ek/download)."
      ]
    },
    {
      "cell_type": "markdown",
      "metadata": {
        "execution": {},
        "id": "4Zo4UFQePFBW"
      },
      "source": [
        "---\n",
        "# Setup"
      ]
    },
    {
      "cell_type": "code",
      "execution_count": 2,
      "metadata": {
        "cellView": "form",
        "execution": {},
        "id": "vGHEmqerPFBW",
        "outputId": "d8a655d3-e33b-441f-f830-c1fb5658c45e",
        "colab": {
          "base_uri": "https://localhost:8080/"
        }
      },
      "outputs": [
        {
          "output_type": "stream",
          "name": "stdout",
          "text": [
            "\u001b[?25l\r\u001b[K     |███████▏                        | 10 kB 26.6 MB/s eta 0:00:01\r\u001b[K     |██████████████▎                 | 20 kB 33.0 MB/s eta 0:00:01\r\u001b[K     |█████████████████████▍          | 30 kB 28.2 MB/s eta 0:00:01\r\u001b[K     |████████████████████████████▌   | 40 kB 5.3 MB/s eta 0:00:01\r\u001b[K     |████████████████████████████████| 46 kB 2.7 MB/s \n",
            "\u001b[?25h\u001b[?25l\r\u001b[K     |███▊                            | 10 kB 33.0 MB/s eta 0:00:01\r\u001b[K     |███████▌                        | 20 kB 33.5 MB/s eta 0:00:01\r\u001b[K     |███████████▎                    | 30 kB 39.5 MB/s eta 0:00:01\r\u001b[K     |███████████████                 | 40 kB 26.7 MB/s eta 0:00:01\r\u001b[K     |██████████████████▉             | 51 kB 5.3 MB/s eta 0:00:01\r\u001b[K     |██████████████████████▋         | 61 kB 6.3 MB/s eta 0:00:01\r\u001b[K     |██████████████████████████▍     | 71 kB 7.0 MB/s eta 0:00:01\r\u001b[K     |██████████████████████████████▏ | 81 kB 7.8 MB/s eta 0:00:01\r\u001b[K     |████████████████████████████████| 86 kB 4.0 MB/s \n",
            "\u001b[?25h  Building wheel for evaltools (setup.py) ... \u001b[?25l\u001b[?25hdone\n"
          ]
        }
      ],
      "source": [
        "# @title Install dependencies\n",
        "!pip install coloredlogs --quiet\n",
        "\n",
        "!pip install git+https://github.com/NeuromatchAcademy/evaltools --quiet\n",
        "from evaltools.airtable import AirtableForm\n",
        "\n",
        "# generate airtable form\n",
        "atform = AirtableForm('appn7VdPRseSoMXEG', 'W3D5_T1', 'https://portal.neuromatchacademy.org/api/redirect/to/9c55f6cb-cdf9-4429-ac1c-ec44fe64c303')"
      ]
    },
    {
      "cell_type": "code",
      "execution_count": 3,
      "metadata": {
        "execution": {},
        "id": "8KjtIqw6PFBZ"
      },
      "outputs": [],
      "source": [
        "# Imports\n",
        "import os\n",
        "import torch\n",
        "import random\n",
        "import logging\n",
        "import coloredlogs\n",
        "import numpy as np\n",
        "import torch.optim as optim\n",
        "\n",
        "log = logging.getLogger(__name__)\n",
        "coloredlogs.install(level='INFO')  # Change this to DEBUG to see more info."
      ]
    },
    {
      "cell_type": "code",
      "execution_count": 4,
      "metadata": {
        "cellView": "form",
        "execution": {},
        "id": "trxgv3jlPFBa"
      },
      "outputs": [],
      "source": [
        "# @title Set random seed\n",
        "\n",
        "# @markdown Executing `set_seed(seed=seed)` you are setting the seed\n",
        "\n",
        "# For DL its critical to set the random seed so that students can have a\n",
        "# baseline to compare their results to expected results.\n",
        "# Read more here: https://pytorch.org/docs/stable/notes/randomness.html\n",
        "\n",
        "# Call `set_seed` function in the exercises to ensure reproducibility.\n",
        "import random\n",
        "import torch\n",
        "\n",
        "def set_seed(seed=None, seed_torch=True):\n",
        "  \"\"\"\n",
        "  Function that controls randomness. NumPy and random modules must be imported.\n",
        "\n",
        "  Args:\n",
        "    seed : Integer\n",
        "      A non-negative integer that defines the random state. Default is `None`.\n",
        "    seed_torch : Boolean\n",
        "      If `True` sets the random seed for pytorch tensors, so pytorch module\n",
        "      must be imported. Default is `True`.\n",
        "\n",
        "  Returns:\n",
        "    Nothing.\n",
        "  \"\"\"\n",
        "  if seed is None:\n",
        "    seed = np.random.choice(2 ** 32)\n",
        "  random.seed(seed)\n",
        "  np.random.seed(seed)\n",
        "  if seed_torch:\n",
        "    torch.manual_seed(seed)\n",
        "    torch.cuda.manual_seed_all(seed)\n",
        "    torch.cuda.manual_seed(seed)\n",
        "    torch.backends.cudnn.benchmark = False\n",
        "    torch.backends.cudnn.deterministic = True\n",
        "\n",
        "  print(f'Random seed {seed} has been set.')\n",
        "\n",
        "\n",
        "# In case that `DataLoader` is used\n",
        "def seed_worker(worker_id):\n",
        "  \"\"\"\n",
        "  DataLoader will reseed workers following randomness in\n",
        "  multi-process data loading algorithm.\n",
        "\n",
        "  Args:\n",
        "    worker_id: integer\n",
        "      ID of subprocess to seed. 0 means that\n",
        "      the data will be loaded in the main process\n",
        "      Refer: https://pytorch.org/docs/stable/data.html#data-loading-randomness for more details\n",
        "\n",
        "  Returns:\n",
        "    Nothing\n",
        "  \"\"\"\n",
        "  worker_seed = torch.initial_seed() % 2**32\n",
        "  np.random.seed(worker_seed)\n",
        "  random.seed(worker_seed)"
      ]
    },
    {
      "cell_type": "code",
      "execution_count": 5,
      "metadata": {
        "cellView": "form",
        "execution": {},
        "id": "wYct2Sq_PFBa"
      },
      "outputs": [],
      "source": [
        "# @title Set device (GPU or CPU). Execute `set_device()`\n",
        "# especially if torch modules used.\n",
        "\n",
        "# Inform the user if the notebook uses GPU or CPU.\n",
        "\n",
        "def set_device():\n",
        "  \"\"\"\n",
        "  Set the device. CUDA if available, CPU otherwise\n",
        "\n",
        "  Args:\n",
        "    None\n",
        "\n",
        "  Returns:\n",
        "    Nothing\n",
        "  \"\"\"\n",
        "  device = \"cuda\" if torch.cuda.is_available() else \"cpu\"\n",
        "  if device != \"cuda\":\n",
        "    print(\"WARNING: For this notebook to perform best, \"\n",
        "        \"if possible, in the menu under `Runtime` -> \"\n",
        "        \"`Change runtime type.`  select `GPU` \")\n",
        "  else:\n",
        "    print(\"GPU is enabled in this notebook.\")\n",
        "\n",
        "  return device"
      ]
    },
    {
      "cell_type": "code",
      "execution_count": 6,
      "metadata": {
        "execution": {},
        "id": "nDNHISY8PFBb",
        "outputId": "d9d1009f-cb22-4ad3-e4b3-1201932fbacd",
        "colab": {
          "base_uri": "https://localhost:8080/"
        }
      },
      "outputs": [
        {
          "output_type": "stream",
          "name": "stdout",
          "text": [
            "Random seed 2021 has been set.\n",
            "GPU is enabled in this notebook.\n"
          ]
        }
      ],
      "source": [
        "SEED = 2021\n",
        "set_seed(seed=SEED)\n",
        "DEVICE = set_device()"
      ]
    },
    {
      "cell_type": "code",
      "execution_count": 7,
      "metadata": {
        "cellView": "form",
        "execution": {},
        "id": "WNXtNFVvPFBb",
        "outputId": "12e97cb9-dcbe-44d5-8708-a6d1b8c95f07",
        "colab": {
          "base_uri": "https://localhost:8080/"
        }
      },
      "outputs": [
        {
          "output_type": "stream",
          "name": "stdout",
          "text": [
            "Downloading and unzipping the file... Please wait.\n",
            "Download completed.\n",
            "Add the nma_rl_games in the path and import the modules.\n"
          ]
        }
      ],
      "source": [
        "# @title Download the modules\n",
        "\n",
        "# @markdown Run this cell!\n",
        "\n",
        "# @markdown Download from OSF. The original repo is https://github.com/raymondchua/nma_rl_games.git\n",
        "\n",
        "import os, io, sys, shutil, zipfile\n",
        "from urllib.request import urlopen\n",
        "\n",
        "# download from github repo directly\n",
        "#!git clone git://github.com/raymondchua/nma_rl_games.git --quiet\n",
        "REPO_PATH = 'nma_rl_games'\n",
        "\n",
        "if os.path.exists(REPO_PATH):\n",
        "  download_string = \"Redownloading\"\n",
        "  shutil.rmtree(REPO_PATH)\n",
        "else:\n",
        "  download_string = \"Downloading\"\n",
        "\n",
        "zipurl = 'https://osf.io/kf4p9/download'\n",
        "print(f\"{download_string} and unzipping the file... Please wait.\")\n",
        "with urlopen(zipurl) as zipresp:\n",
        "  with zipfile.ZipFile(io.BytesIO(zipresp.read())) as zfile:\n",
        "    zfile.extractall()\n",
        "print(\"Download completed.\")\n",
        "\n",
        "print(f\"Add the {REPO_PATH} in the path and import the modules.\")\n",
        "# add the repo in the path\n",
        "sys.path.append('nma_rl_games/alpha-zero')\n",
        "\n",
        "# @markdown Import modules designed for use in this notebook\n",
        "import Arena\n",
        "\n",
        "from utils import *\n",
        "from Game import Game\n",
        "from MCTS import MCTS\n",
        "from NeuralNet import NeuralNet\n",
        "\n",
        "# from othello.OthelloPlayers import *\n",
        "from othello.OthelloLogic import Board\n",
        "# from othello.OthelloGame import OthelloGame\n",
        "# from othello.pytorch.NNet import NNetWrapper as NNet"
      ]
    },
    {
      "cell_type": "markdown",
      "metadata": {
        "execution": {},
        "id": "SaZKoksSPFBb"
      },
      "source": [
        "The hyperparameters used throughout the notebook."
      ]
    },
    {
      "cell_type": "code",
      "execution_count": 8,
      "metadata": {
        "execution": {},
        "id": "TzAH0OpoPFBb"
      },
      "outputs": [],
      "source": [
        "args = dotdict({\n",
        "    'numIters': 1,            # In training, number of iterations = 1000 and num of episodes = 100\n",
        "    'numEps': 1,              # Number of complete self-play games to simulate during a new iteration.\n",
        "    'tempThreshold': 15,      # To control exploration and exploitation\n",
        "    'updateThreshold': 0.6,   # During arena playoff, new neural net will be accepted if threshold or more of games are won.\n",
        "    'maxlenOfQueue': 200,     # Number of game examples to train the neural networks.\n",
        "    'numMCTSSims': 15,        # Number of games moves for MCTS to simulate.\n",
        "    'arenaCompare': 10,       # Number of games to play during arena play to determine if new net will be accepted.\n",
        "    'cpuct': 1,\n",
        "    'maxDepth':5,             # Maximum number of rollouts\n",
        "    'numMCsims': 5,           # Number of monte carlo simulations\n",
        "    'mc_topk': 3,             # Top k actions for monte carlo rollout\n",
        "\n",
        "    'checkpoint': './temp/',\n",
        "    'load_model': False,\n",
        "    'load_folder_file': ('/dev/models/8x100x50','best.pth.tar'),\n",
        "    'numItersForTrainExamplesHistory': 20,\n",
        "\n",
        "    # Define neural network arguments\n",
        "    'lr': 0.001,               # lr: Learning Rate\n",
        "    'dropout': 0.3,\n",
        "    'epochs': 10,\n",
        "    'batch_size': 64,\n",
        "    'device': DEVICE,\n",
        "    'num_channels': 512,\n",
        "})"
      ]
    },
    {
      "cell_type": "markdown",
      "metadata": {
        "execution": {},
        "id": "SE8b5__TPFBc"
      },
      "source": [
        "---\n",
        "# Section 0: Introduction"
      ]
    },
    {
      "cell_type": "code",
      "execution_count": 9,
      "metadata": {
        "cellView": "form",
        "execution": {},
        "id": "DmTaNWTjPFBc",
        "outputId": "bdfcdaa2-b31b-49d0-ad5b-4fd8030b6ffc",
        "colab": {
          "base_uri": "https://localhost:8080/",
          "height": 581,
          "referenced_widgets": [
            "ac40a44d53b649969182182a0aed869d",
            "9db0540ddd374ecda26f7457d83bb7d4",
            "1904dcd735304336b96cdc8c0864b4a1",
            "9c6d048c1d3c4d76821b3e3ad1debcfa",
            "782a49c2ca0f48c0b58dc8c686cfb4c6",
            "c661f78500664249bc81a2321a533771"
          ]
        }
      },
      "outputs": [
        {
          "output_type": "display_data",
          "data": {
            "text/plain": [
              "Tab(children=(Output(), Output()), _titles={'0': 'Youtube', '1': 'Bilibili'})"
            ],
            "application/vnd.jupyter.widget-view+json": {
              "version_major": 2,
              "version_minor": 0,
              "model_id": "ac40a44d53b649969182182a0aed869d"
            }
          },
          "metadata": {}
        }
      ],
      "source": [
        "# @title Video 0: Introduction\n",
        "from ipywidgets import widgets\n",
        "\n",
        "out2 = widgets.Output()\n",
        "with out2:\n",
        "  from IPython.display import IFrame\n",
        "  class BiliVideo(IFrame):\n",
        "    def __init__(self, id, page=1, width=400, height=300, **kwargs):\n",
        "      self.id=id\n",
        "      src = \"https://player.bilibili.com/player.html?bvid={0}&page={1}\".format(id, page)\n",
        "      super(BiliVideo, self).__init__(src, width, height, **kwargs)\n",
        "\n",
        "  video = BiliVideo(id=f\"BV1Yh411B7EP\", width=854, height=480, fs=1)\n",
        "  print(\"Video available at https://www.bilibili.com/video/{0}\".format(video.id))\n",
        "  display(video)\n",
        "\n",
        "out1 = widgets.Output()\n",
        "with out1:\n",
        "  from IPython.display import YouTubeVideo\n",
        "  video = YouTubeVideo(id=f\"5kQ-xGbjlJo\", width=854, height=480, fs=1, rel=0)\n",
        "  print(\"Video available at https://youtube.com/watch?v=\" + video.id)\n",
        "  display(video)\n",
        "\n",
        "out = widgets.Tab([out1, out2])\n",
        "out.set_title(0, 'Youtube')\n",
        "out.set_title(1, 'Bilibili')\n",
        "\n",
        "# add event to airtable\n",
        "atform.add_event('Video 0: Introduction')\n",
        "\n",
        "display(out)"
      ]
    },
    {
      "cell_type": "markdown",
      "metadata": {
        "execution": {},
        "id": "k4DE18q7PFBc"
      },
      "source": [
        "---\n",
        "# Section 1: Create a game/agent loop for RL\n",
        "\n",
        "*Time estimate: ~20mins*"
      ]
    },
    {
      "cell_type": "code",
      "execution_count": 10,
      "metadata": {
        "cellView": "form",
        "execution": {},
        "id": "lpEzW1BaPFBc",
        "outputId": "fe15e3f3-8ed5-4c90-9403-4f343895fca2",
        "colab": {
          "base_uri": "https://localhost:8080/",
          "height": 581,
          "referenced_widgets": [
            "9bb37fc6cfcc42e3b9de287ecc027fc5",
            "fe713fc62bcb4a67952df3e5e84945f2",
            "b3b114239ba04bfd8fad9566c8b00ee5",
            "6d851db36474466e8dfe005c18482947",
            "bd0ec51c86014010af137fa9ff79d299",
            "c4215d93008448c5a3ee176cd3ec9c29"
          ]
        }
      },
      "outputs": [
        {
          "output_type": "display_data",
          "data": {
            "text/plain": [
              "Tab(children=(Output(), Output()), _titles={'0': 'Youtube', '1': 'Bilibili'})"
            ],
            "application/vnd.jupyter.widget-view+json": {
              "version_major": 2,
              "version_minor": 0,
              "model_id": "9bb37fc6cfcc42e3b9de287ecc027fc5"
            }
          },
          "metadata": {}
        }
      ],
      "source": [
        "# @title Video 1: A game loop for RL\n",
        "from ipywidgets import widgets\n",
        "\n",
        "out2 = widgets.Output()\n",
        "with out2:\n",
        "  from IPython.display import IFrame\n",
        "  class BiliVideo(IFrame):\n",
        "    def __init__(self, id, page=1, width=400, height=300, **kwargs):\n",
        "      self.id=id\n",
        "      src = \"https://player.bilibili.com/player.html?bvid={0}&page={1}\".format(id, page)\n",
        "      super(BiliVideo, self).__init__(src, width, height, **kwargs)\n",
        "\n",
        "  video = BiliVideo(id=f\"BV1Wy4y1V7bt\", width=854, height=480, fs=1)\n",
        "  print(\"Video available at https://www.bilibili.com/video/{0}\".format(video.id))\n",
        "  display(video)\n",
        "\n",
        "out1 = widgets.Output()\n",
        "with out1:\n",
        "  from IPython.display import YouTubeVideo\n",
        "  video = YouTubeVideo(id=f\"aH2Hs8f6KrQ\", width=854, height=480, fs=1, rel=0)\n",
        "  print(\"Video available at https://youtube.com/watch?v=\" + video.id)\n",
        "  display(video)\n",
        "\n",
        "out = widgets.Tab([out1, out2])\n",
        "out.set_title(0, 'Youtube')\n",
        "out.set_title(1, 'Bilibili')\n",
        "\n",
        "# add event to airtable\n",
        "atform.add_event('Video 1: A game loop for RL')\n",
        "\n",
        "display(out)"
      ]
    },
    {
      "cell_type": "markdown",
      "metadata": {
        "execution": {},
        "id": "Iha9hLY_PFBc"
      },
      "source": [
        "## Section 1.1: Introduction to OthelloGame\n",
        "\n",
        "Othello is a board game played by two players on a board of 64 squares arranged in an eight-by-eight grid, with 64 playing pieces that are black on one side and white on the other. \n",
        "\n",
        "**Setup**:\n",
        "The board will start with 2 black discs and 2 white discs at the centre of the board. They are arranged with black forming a North-East to South-West direction. White is forming a North-West to South-East direction. Each player gets 32 discs and black always starts the game.\n",
        "\n",
        "**Game rules**: \n",
        "* Players take turns placing a single disk at a time. \n",
        "* A move is made by placing a disc of the player's color on the board to surround (i.e. \"outflank\") discs of the opposite color. In other words, the player with black discs must place on so that there is a straight line between the newly placed disc and another black disc, with one or more white pieces between them.\n",
        "* Surrounded disks get flipped (i.e. change color). \n",
        "* If a player does not have a valid move (they cannot place their disc to outflank the oppponent's discs), they pass on their turn\n",
        "* A player can not voluntarily forfeit his turn.\n",
        "* When both players can not make a valid move the game ends.\n",
        "\n",
        "There are nice rules/diagrams here if useful: https://www.eothello.com/. You can play an example Othello game there if you like!\n",
        "\n",
        "**Note**: we will use a 6x6 board to speed computations up"
      ]
    },
    {
      "cell_type": "markdown",
      "metadata": {
        "execution": {},
        "id": "c399dGDmPFBc"
      },
      "source": [
        "\n",
        "***Exercise Goal***: How to setup a game environment with multiple players for reinforcement learning experiments.\n",
        "\n",
        "***Exercise***: \n",
        "\n",
        "*   Build an agent that plays random moves\n",
        "*   Connect with connect 4 game\n",
        "*   Generate games including wins and losses"
      ]
    },
    {
      "cell_type": "markdown",
      "metadata": {
        "execution": {},
        "id": "0jV2F_WtPFBc"
      },
      "source": [
        "Execute the following code to enable the `OthelloGame` class. This class represents a game board and has methods such `getInitBoard` to create the intial board, `getValidMove` to return the options of valid moves, and other helpful functionality to play the game. You do not need to understand every line of code in this class but try to get a sense of the possible methods"
      ]
    },
    {
      "cell_type": "code",
      "execution_count": 11,
      "metadata": {
        "execution": {},
        "id": "Tuzo3BwHPFBc"
      },
      "outputs": [],
      "source": [
        "class OthelloGame(Game):\n",
        "  \"\"\"\n",
        "  Instantiate Othello Game\n",
        "  \"\"\"\n",
        "  square_content = {\n",
        "      -1: \"X\",\n",
        "      +0: \"-\",\n",
        "      +1: \"O\"\n",
        "      }\n",
        "\n",
        "  @staticmethod\n",
        "  def getSquarePiece(piece):\n",
        "    return OthelloGame.square_content[piece]\n",
        "\n",
        "  def __init__(self, n):\n",
        "    self.n = n\n",
        "\n",
        "  def getInitBoard(self):\n",
        "    # Return initial board (numpy board)\n",
        "    b = Board(self.n)\n",
        "    return np.array(b.pieces)\n",
        "\n",
        "  def getBoardSize(self):\n",
        "    # (a,b) tuple\n",
        "    return (self.n, self.n)\n",
        "\n",
        "  def getActionSize(self):\n",
        "    # Return number of actions, n is the board size and +1 is for no-op action\n",
        "    return self.n*self.n + 1\n",
        "\n",
        "  def getCanonicalForm(self, board, player):\n",
        "    # Return state if player==1, else return -state if player==-1\n",
        "    return player*board\n",
        "\n",
        "  def stringRepresentation(self, board):\n",
        "    return board.tobytes()\n",
        "\n",
        "  def stringRepresentationReadable(self, board):\n",
        "    board_s = \"\".join(self.square_content[square] for row in board for square in row)\n",
        "    return board_s\n",
        "\n",
        "  def getScore(self, board, player):\n",
        "    b = Board(self.n)\n",
        "    b.pieces = np.copy(board)\n",
        "    return b.countDiff(player)\n",
        "\n",
        "  @staticmethod\n",
        "  def display(board):\n",
        "    n = board.shape[0]\n",
        "    print(\"   \", end=\"\")\n",
        "    for y in range(n):\n",
        "      print(y, end=\" \")\n",
        "    print(\"\")\n",
        "    print(\"-----------------------\")\n",
        "    for y in range(n):\n",
        "      print(y, \"|\", end=\"\")    # Print the row\n",
        "      for x in range(n):\n",
        "        piece = board[y][x]    # Get the piece to print\n",
        "        print(OthelloGame.square_content[piece], end=\" \")\n",
        "      print(\"|\")\n",
        "    print(\"-----------------------\")\n",
        "\n",
        "  @staticmethod\n",
        "  def displayValidMoves(moves):\n",
        "      # Display possible moves\n",
        "      A=np.reshape(moves[0:-1], board.shape)\n",
        "      n = board.shape[0]\n",
        "      print(\"  \")\n",
        "      print(\"possible moves\")\n",
        "      print(\"   \", end=\"\")\n",
        "      for y in range(n):\n",
        "        print(y, end=\" \")\n",
        "      print(\"\")\n",
        "      print(\"-----------------------\")\n",
        "      for y in range(n):\n",
        "        print(y, \"|\", end=\"\")    # Print the row\n",
        "        for x in range(n):\n",
        "          piece = A[y][x]    # Get the piece to print\n",
        "          print(OthelloGame.square_content[piece], end=\" \")\n",
        "        print(\"|\")\n",
        "      print(\"-----------------------\")\n",
        "\n",
        "  def getNextState(self, board, player, action):\n",
        "    \"\"\"\n",
        "    Helper function to make valid move\n",
        "    If player takes action on board, return next (board,player)\n",
        "    and action must be a valid move\n",
        "\n",
        "    Args:\n",
        "      board: np.ndarray\n",
        "        Board of size n x n [6x6 in this case]\n",
        "      player: Integer\n",
        "        ID of current player\n",
        "      action: np.ndarray\n",
        "        Space of actions\n",
        "\n",
        "    Returns:\n",
        "      (board,player) tuple signifying next state\n",
        "    \"\"\"\n",
        "    if action == self.n*self.n:\n",
        "      return (board, -player)\n",
        "    b = Board(self.n)\n",
        "    b.pieces = np.copy(board)\n",
        "    move = (int(action/self.n), action%self.n)\n",
        "    b.execute_move(move, player)\n",
        "    return (b.pieces, -player)\n",
        "\n",
        "  def getValidMoves(self, board, player):\n",
        "    \"\"\"\n",
        "    Helper function to make valid move\n",
        "    If player takes action on board, return next (board,player)\n",
        "    and action must be a valid move\n",
        "\n",
        "    Args:\n",
        "      board: np.ndarray\n",
        "        Board of size n x n [6x6 in this case]\n",
        "      player: Integer\n",
        "        ID of current player\n",
        "      action: np.ndarray\n",
        "        Space of action\n",
        "\n",
        "    Returns:\n",
        "      valids: np.ndarray\n",
        "        Returns a fixed size binary vector\n",
        "    \"\"\"\n",
        "    valids = [0]*self.getActionSize()\n",
        "    b = Board(self.n)\n",
        "    b.pieces = np.copy(board)\n",
        "    legalMoves =  b.get_legal_moves(player)\n",
        "    if len(legalMoves)==0:\n",
        "      valids[-1]=1\n",
        "      return np.array(valids)\n",
        "    for x, y in legalMoves:\n",
        "      valids[self.n*x+y]=1\n",
        "    return np.array(valids)\n",
        "\n",
        "  def getGameEnded(self, board, player):\n",
        "    \"\"\"\n",
        "    Helper function to signify if game has ended\n",
        "\n",
        "    Args:\n",
        "      board: np.ndarray\n",
        "        Board of size n x n [6x6 in this case]\n",
        "      player: Integer\n",
        "        ID of current player\n",
        "\n",
        "    Returns:\n",
        "      0 if not ended, 1 if player 1 won, -1 if player 1 lost\n",
        "    \"\"\"\n",
        "    b = Board(self.n)\n",
        "    b.pieces = np.copy(board)\n",
        "    if b.has_legal_moves(player):\n",
        "      return 0\n",
        "    if b.has_legal_moves(-player):\n",
        "      return 0\n",
        "    if b.countDiff(player) > 0:\n",
        "      return 1\n",
        "    return -1\n",
        "\n",
        "  def getSymmetries(self, board, pi):\n",
        "    \"\"\"\n",
        "    Get mirror/rotational configurations of board\n",
        "\n",
        "    Args:\n",
        "      board: np.ndarray\n",
        "        Board of size n x n [6x6 in this case]\n",
        "      pi: np.ndarray\n",
        "        Dimension of board\n",
        "\n",
        "    Returns:\n",
        "      l: list\n",
        "        90 degree of board, 90 degree of pi_board\n",
        "    \"\"\"\n",
        "    assert(len(pi) == self.n**2+1)  # 1 for pass\n",
        "    pi_board = np.reshape(pi[:-1], (self.n, self.n))\n",
        "    l = []\n",
        "\n",
        "    for i in range(1, 5):\n",
        "      for j in [True, False]:\n",
        "        newB = np.rot90(board, i)\n",
        "        newPi = np.rot90(pi_board, i)\n",
        "        if j:\n",
        "          newB = np.fliplr(newB)\n",
        "          newPi = np.fliplr(newPi)\n",
        "        l += [(newB, list(newPi.ravel()) + [pi[-1]])]\n",
        "    return l"
      ]
    },
    {
      "cell_type": "markdown",
      "metadata": {
        "execution": {},
        "id": "lLZI_yuJPFBd"
      },
      "source": [
        "Below, we initialize and view a board."
      ]
    },
    {
      "cell_type": "code",
      "execution_count": 12,
      "metadata": {
        "execution": {},
        "id": "5JrBVXxQPFBd",
        "outputId": "dd0740e7-9ab4-4203-9a4c-b11f6b0d3183",
        "colab": {
          "base_uri": "https://localhost:8080/"
        }
      },
      "outputs": [
        {
          "output_type": "stream",
          "name": "stdout",
          "text": [
            "Random seed 2021 has been set.\n",
            "   0 1 2 3 4 5 \n",
            "-----------------------\n",
            "0 |- - - - - - |\n",
            "1 |- - - - - - |\n",
            "2 |- - X O - - |\n",
            "3 |- - O X - - |\n",
            "4 |- - - - - - |\n",
            "5 |- - - - - - |\n",
            "-----------------------\n",
            "Board size = (6, 6)\n",
            "Action size = 37\n"
          ]
        }
      ],
      "source": [
        "# Display the board\n",
        "set_seed(seed=SEED)\n",
        "\n",
        "# Set up the game\n",
        "game = OthelloGame(6)\n",
        "\n",
        "# Get the initial board\n",
        "board = game.getInitBoard()\n",
        "\n",
        "# Display the board\n",
        "game.display(board)\n",
        "\n",
        "# Observe the game board size\n",
        "print(f'Board size = {game.getBoardSize()}')\n",
        "\n",
        "# Observe the action size\n",
        "print(f'Action size = {game.getActionSize()}')"
      ]
    },
    {
      "cell_type": "markdown",
      "metadata": {
        "execution": {},
        "id": "XXYDALX2PFBd"
      },
      "source": [
        "Now let's look at the valid actions for player 1 (the circles). `game.getValidMoves` returns 1s and 0s for every position on the board, 1 indicates if it is a valid place to put a new disc. Note that it turns a list (this could be reshaped into the board shape).\n",
        "\n",
        "We also have a method to visualize the valid actions. Compare the valid actions to the board above."
      ]
    },
    {
      "cell_type": "code",
      "execution_count": 13,
      "metadata": {
        "execution": {},
        "id": "cDMbXOmJPFBd",
        "outputId": "b8bfd935-3fab-41f0-f236-328a9c963e29",
        "colab": {
          "base_uri": "https://localhost:8080/"
        }
      },
      "outputs": [
        {
          "output_type": "stream",
          "name": "stdout",
          "text": [
            "[0 0 0 0 0 0 0 0 1 0 0 0 0 1 0 0 0 0 0 0 0 0 1 0 0 0 0 1 0 0 0 0 0 0 0 0 0]\n",
            "  \n",
            "possible moves\n",
            "   0 1 2 3 4 5 \n",
            "-----------------------\n",
            "0 |- - - - - - |\n",
            "1 |- - O - - - |\n",
            "2 |- O - - - - |\n",
            "3 |- - - - O - |\n",
            "4 |- - - O - - |\n",
            "5 |- - - - - - |\n",
            "-----------------------\n"
          ]
        }
      ],
      "source": [
        "# Get valid moves\n",
        "valids = game.getValidMoves(board, 1)\n",
        "print(valids)\n",
        "\n",
        "# Visualize the moves\n",
        "game.displayValidMoves(valids)"
      ]
    },
    {
      "cell_type": "markdown",
      "metadata": {
        "execution": {},
        "id": "2ywNxjyfPFBd"
      },
      "source": [
        "## Section 1.2: Create a random player"
      ]
    },
    {
      "cell_type": "markdown",
      "metadata": {
        "execution": {},
        "id": "a9rHs4RDPFBd"
      },
      "source": [
        "Let's start by setting up the game loop using a random player to start with so that we we can test the game loop and make sure it works correctly.\n",
        "\n",
        "To do so, we will first implement a random player in 3 steps:\n",
        "1. determine which moves are possible at all\n",
        "2. assign a uniform probability to each more (remember, this is a random player): 1/N for N valid moves\n",
        "3. randomly choose a move from the possible moves"
      ]
    },
    {
      "cell_type": "markdown",
      "metadata": {
        "execution": {},
        "id": "sfBRgNkAPFBd"
      },
      "source": [
        "### Coding Exercise 1.2: Implement a random player"
      ]
    },
    {
      "cell_type": "code",
      "execution_count": 16,
      "metadata": {
        "execution": {},
        "id": "cz0c92FtPFBd"
      },
      "outputs": [],
      "source": [
        "class RandomPlayer():\n",
        "  \"\"\"\n",
        "  Simulates Random Player\n",
        "  \"\"\"\n",
        "\n",
        "  def __init__(self, game):\n",
        "    self.game = game\n",
        "\n",
        "  def play(self, board):\n",
        "    \"\"\"\n",
        "    Simulates game play\n",
        "\n",
        "    Args:\n",
        "      board: np.ndarray\n",
        "        Board of size n x n [6x6 in this case]\n",
        "\n",
        "    Returns:\n",
        "      a: int\n",
        "        Randomly chosen move\n",
        "    \"\"\"\n",
        "    #################################################\n",
        "    ## TODO for students: ##\n",
        "    ## 1. Please compute the valid moves using getValidMoves() and the game class self.game. ##\n",
        "    ## 2. Compute the probability over actions.##\n",
        "    ## 3. Pick a random action based on the probability computed above.##\n",
        "    # Fill out function and remove ##\n",
        "    # raise NotImplementedError(\"Implement the random player\")\n",
        "    #################################################\n",
        "\n",
        "    # Compute the valid moves using getValidMoves()\n",
        "    valids = self.game.getValidMoves(board, 1)\n",
        "\n",
        "    # Compute the probability of each move being played (random player means this should\n",
        "    # be uniform for valid moves, 0 for others)\n",
        "    prob = valids/valids.sum()\n",
        "\n",
        "    # Pick a random action based on the probabilities (hint: np.choice is useful)\n",
        "    a = np.random.choice(self.game.getActionSize(), p=prob)\n",
        "\n",
        "    return a\n",
        "\n",
        "\n",
        "# Add event to airtable\n",
        "atform.add_event('Coding Exercise 1.2: Implement a random player')"
      ]
    },
    {
      "cell_type": "markdown",
      "metadata": {
        "execution": {},
        "id": "naKC35IbPFBd"
      },
      "source": [
        "[*Click for solution*](https://github.com/NeuromatchAcademy/course-content-dl/tree/main//tutorials/W3D5_ReinforcementLearningForGames/solutions/W3D5_Tutorial1_Solution_8fbd97fa.py)\n",
        "\n"
      ]
    },
    {
      "cell_type": "markdown",
      "metadata": {
        "execution": {},
        "id": "c8DRGsD5PFBe"
      },
      "source": [
        "## Section 1.3: Create two random agents to play against each other\n",
        "\n",
        "Now we create 2 random players and let them play against one another for a number of times... We will use some nice functionality we imported above, including the `Arena` class that allows multiple game plays. You can check out the code here if you want, but it is not necessary: https://github.com/raymondchua/nma_rl_games\n"
      ]
    },
    {
      "cell_type": "code",
      "execution_count": 17,
      "metadata": {
        "execution": {},
        "id": "P2GslRLxPFBe",
        "outputId": "2e921c8c-1019-49a6-ccfd-f841bb344b43",
        "colab": {
          "base_uri": "https://localhost:8080/"
        }
      },
      "outputs": [
        {
          "output_type": "stream",
          "name": "stdout",
          "text": [
            "Random seed 2021 has been set.\n"
          ]
        },
        {
          "output_type": "stream",
          "name": "stderr",
          "text": [
            "Arena.playGames (1): 100%|██████████| 10/10 [00:00<00:00, 26.67it/s]\n",
            "Arena.playGames (2): 100%|██████████| 10/10 [00:00<00:00, 25.69it/s]"
          ]
        },
        {
          "output_type": "stream",
          "name": "stdout",
          "text": [
            "\n",
            "\n",
            "(11, 9, 0)\n"
          ]
        },
        {
          "output_type": "stream",
          "name": "stderr",
          "text": [
            "\n"
          ]
        }
      ],
      "source": [
        "# Define the random player\n",
        "player1 = RandomPlayer(game).play  # Player 1 is a random player\n",
        "player2 = RandomPlayer(game).play  # Player 2 is a random player\n",
        "\n",
        "# Define number of games\n",
        "num_games = 20\n",
        "\n",
        "# Start the competition\n",
        "set_seed(seed=SEED)\n",
        "arena = Arena.Arena(player1, player2 , game, display=None)  # To see the steps of the competition set \"display=OthelloGame.display\"\n",
        "result = arena.playGames(num_games, verbose=False)  # return  ( number of games won by player1, num of games won by player2, num of games won by nobody)\n",
        "print(f\"\\n\\n{result}\")"
      ]
    },
    {
      "cell_type": "markdown",
      "metadata": {
        "execution": {},
        "id": "0ewryIsvPFBe"
      },
      "source": [
        "```\n",
        "(11, 9, 0)\n",
        "```"
      ]
    },
    {
      "cell_type": "markdown",
      "metadata": {
        "execution": {},
        "id": "TWGMEWPhPFBe"
      },
      "source": [
        "The results are displayed in the following way: (Number of player 1 wins, number of player 2 wins, number of ties)"
      ]
    },
    {
      "cell_type": "markdown",
      "metadata": {
        "execution": {},
        "id": "6chq5RdSPFBe"
      },
      "source": [
        "## Section 1.4: Compute win rate for the random player (player 1)"
      ]
    },
    {
      "cell_type": "code",
      "execution_count": 18,
      "metadata": {
        "execution": {},
        "id": "qXoJnnuBPFBe",
        "outputId": "421eee2b-9f86-451b-b390-8464684918d0",
        "colab": {
          "base_uri": "https://localhost:8080/"
        }
      },
      "outputs": [
        {
          "output_type": "stream",
          "name": "stdout",
          "text": [
            "Number of games won by player1 = 11, Number of games won by player2 = 9 out of 20 games\n",
            "\n",
            "Win rate for player1 over 20 games: 55.0%\n"
          ]
        }
      ],
      "source": [
        "print(f\"Number of games won by player1 = {result[0]}, \"\n",
        "      f\"Number of games won by player2 = {result[1]} out of {num_games} games\")\n",
        "win_rate_player1 = result[0]/num_games\n",
        "print(f\"\\nWin rate for player1 over 20 games: {round(win_rate_player1*100, 1)}%\")"
      ]
    },
    {
      "cell_type": "markdown",
      "metadata": {
        "execution": {},
        "id": "K4pXAy3JPFBe"
      },
      "source": [
        "```\n",
        "Number of games won by player1 = 11, Number of games won by player2 = 9 out of 20 games\n",
        "\n",
        "Win rate for player1 over 20 games: 55.0%\n",
        "```"
      ]
    },
    {
      "cell_type": "markdown",
      "metadata": {
        "execution": {},
        "id": "d07stpr1PFBe"
      },
      "source": [
        "**Note**: the random player is purely policy-based. It contains no estimates of value. Next we'll see how to estimate and use value functions for game playing."
      ]
    },
    {
      "cell_type": "markdown",
      "metadata": {
        "execution": {},
        "id": "s3FWCB23PFBe"
      },
      "source": [
        "---\n",
        "# Summary\n",
        "\n",
        "In this tutorial, you have learned about the Othello game, how to implement a game loop, and create a random player. "
      ]
    },
    {
      "cell_type": "code",
      "execution_count": null,
      "metadata": {
        "cellView": "form",
        "execution": {},
        "id": "3jiuxqbXPFBe"
      },
      "outputs": [],
      "source": [
        "# @title Airtable Submission Link\n",
        "from IPython import display as IPyDisplay\n",
        "IPyDisplay.HTML(\n",
        "    f\"\"\"\n",
        "  <div>\n",
        "    <a href= \"{atform.url()}\" target=\"_blank\">\n",
        "    <img src=\"https://github.com/NeuromatchAcademy/course-content-dl/blob/main/tutorials/static/AirtableSubmissionButton.png?raw=1\"\n",
        "  alt=\"button link to Airtable\" style=\"width:410px\"></a>\n",
        "    </div>\"\"\" )"
      ]
    }
  ],
  "metadata": {
    "accelerator": "GPU",
    "colab": {
      "collapsed_sections": [],
      "name": "W3D5_Tutorial1",
      "provenance": [],
      "toc_visible": true,
      "include_colab_link": true
    },
    "kernel": {
      "display_name": "Python 3",
      "language": "python",
      "name": "python3"
    },
    "kernelspec": {
      "display_name": "Python 3",
      "name": "python3"
    },
    "language_info": {
      "name": "python"
    },
    "widgets": {
      "application/vnd.jupyter.widget-state+json": {
        "ac40a44d53b649969182182a0aed869d": {
          "model_module": "@jupyter-widgets/controls",
          "model_name": "TabModel",
          "model_module_version": "1.5.0",
          "state": {
            "_dom_classes": [],
            "_model_module": "@jupyter-widgets/controls",
            "_model_module_version": "1.5.0",
            "_model_name": "TabModel",
            "_titles": {
              "0": "Youtube",
              "1": "Bilibili"
            },
            "_view_count": null,
            "_view_module": "@jupyter-widgets/controls",
            "_view_module_version": "1.5.0",
            "_view_name": "TabView",
            "box_style": "",
            "children": [
              "IPY_MODEL_9db0540ddd374ecda26f7457d83bb7d4",
              "IPY_MODEL_1904dcd735304336b96cdc8c0864b4a1"
            ],
            "layout": "IPY_MODEL_9c6d048c1d3c4d76821b3e3ad1debcfa",
            "selected_index": 0
          }
        },
        "9db0540ddd374ecda26f7457d83bb7d4": {
          "model_module": "@jupyter-widgets/output",
          "model_name": "OutputModel",
          "model_module_version": "1.0.0",
          "state": {
            "_dom_classes": [],
            "_model_module": "@jupyter-widgets/output",
            "_model_module_version": "1.0.0",
            "_model_name": "OutputModel",
            "_view_count": null,
            "_view_module": "@jupyter-widgets/output",
            "_view_module_version": "1.0.0",
            "_view_name": "OutputView",
            "layout": "IPY_MODEL_782a49c2ca0f48c0b58dc8c686cfb4c6",
            "msg_id": "",
            "outputs": [
              {
                "output_type": "stream",
                "name": "stdout",
                "text": [
                  "Video available at https://youtube.com/watch?v=5kQ-xGbjlJo\n"
                ]
              },
              {
                "output_type": "display_data",
                "data": {
                  "text/plain": "<IPython.lib.display.YouTubeVideo at 0x7fefea1676d0>",
                  "text/html": "\n        <iframe\n            width=\"854\"\n            height=\"480\"\n            src=\"https://www.youtube.com/embed/5kQ-xGbjlJo?fs=1&rel=0\"\n            frameborder=\"0\"\n            allowfullscreen\n        ></iframe>\n        ",
                  "image/jpeg": "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\n"
                },
                "metadata": {}
              }
            ]
          }
        },
        "1904dcd735304336b96cdc8c0864b4a1": {
          "model_module": "@jupyter-widgets/output",
          "model_name": "OutputModel",
          "model_module_version": "1.0.0",
          "state": {
            "_dom_classes": [],
            "_model_module": "@jupyter-widgets/output",
            "_model_module_version": "1.0.0",
            "_model_name": "OutputModel",
            "_view_count": null,
            "_view_module": "@jupyter-widgets/output",
            "_view_module_version": "1.0.0",
            "_view_name": "OutputView",
            "layout": "IPY_MODEL_c661f78500664249bc81a2321a533771",
            "msg_id": "",
            "outputs": [
              {
                "output_type": "stream",
                "name": "stdout",
                "text": [
                  "Video available at https://www.bilibili.com/video/BV1Yh411B7EP\n"
                ]
              },
              {
                "output_type": "display_data",
                "data": {
                  "text/plain": "<__main__.BiliVideo at 0x7fefea0fc590>",
                  "text/html": "\n        <iframe\n            width=\"854\"\n            height=\"480\"\n            src=\"https://player.bilibili.com/player.html?bvid=BV1Yh411B7EP&page=1?fs=1\"\n            frameborder=\"0\"\n            allowfullscreen\n        ></iframe>\n        "
                },
                "metadata": {}
              }
            ]
          }
        },
        "9c6d048c1d3c4d76821b3e3ad1debcfa": {
          "model_module": "@jupyter-widgets/base",
          "model_name": "LayoutModel",
          "model_module_version": "1.2.0",
          "state": {
            "_model_module": "@jupyter-widgets/base",
            "_model_module_version": "1.2.0",
            "_model_name": "LayoutModel",
            "_view_count": null,
            "_view_module": "@jupyter-widgets/base",
            "_view_module_version": "1.2.0",
            "_view_name": "LayoutView",
            "align_content": null,
            "align_items": null,
            "align_self": null,
            "border": null,
            "bottom": null,
            "display": null,
            "flex": null,
            "flex_flow": null,
            "grid_area": null,
            "grid_auto_columns": null,
            "grid_auto_flow": null,
            "grid_auto_rows": null,
            "grid_column": null,
            "grid_gap": null,
            "grid_row": null,
            "grid_template_areas": null,
            "grid_template_columns": null,
            "grid_template_rows": null,
            "height": null,
            "justify_content": null,
            "justify_items": null,
            "left": null,
            "margin": null,
            "max_height": null,
            "max_width": null,
            "min_height": null,
            "min_width": null,
            "object_fit": null,
            "object_position": null,
            "order": null,
            "overflow": null,
            "overflow_x": null,
            "overflow_y": null,
            "padding": null,
            "right": null,
            "top": null,
            "visibility": null,
            "width": null
          }
        },
        "782a49c2ca0f48c0b58dc8c686cfb4c6": {
          "model_module": "@jupyter-widgets/base",
          "model_name": "LayoutModel",
          "model_module_version": "1.2.0",
          "state": {
            "_model_module": "@jupyter-widgets/base",
            "_model_module_version": "1.2.0",
            "_model_name": "LayoutModel",
            "_view_count": null,
            "_view_module": "@jupyter-widgets/base",
            "_view_module_version": "1.2.0",
            "_view_name": "LayoutView",
            "align_content": null,
            "align_items": null,
            "align_self": null,
            "border": null,
            "bottom": null,
            "display": null,
            "flex": null,
            "flex_flow": null,
            "grid_area": null,
            "grid_auto_columns": null,
            "grid_auto_flow": null,
            "grid_auto_rows": null,
            "grid_column": null,
            "grid_gap": null,
            "grid_row": null,
            "grid_template_areas": null,
            "grid_template_columns": null,
            "grid_template_rows": null,
            "height": null,
            "justify_content": null,
            "justify_items": null,
            "left": null,
            "margin": null,
            "max_height": null,
            "max_width": null,
            "min_height": null,
            "min_width": null,
            "object_fit": null,
            "object_position": null,
            "order": null,
            "overflow": null,
            "overflow_x": null,
            "overflow_y": null,
            "padding": null,
            "right": null,
            "top": null,
            "visibility": null,
            "width": null
          }
        },
        "c661f78500664249bc81a2321a533771": {
          "model_module": "@jupyter-widgets/base",
          "model_name": "LayoutModel",
          "model_module_version": "1.2.0",
          "state": {
            "_model_module": "@jupyter-widgets/base",
            "_model_module_version": "1.2.0",
            "_model_name": "LayoutModel",
            "_view_count": null,
            "_view_module": "@jupyter-widgets/base",
            "_view_module_version": "1.2.0",
            "_view_name": "LayoutView",
            "align_content": null,
            "align_items": null,
            "align_self": null,
            "border": null,
            "bottom": null,
            "display": null,
            "flex": null,
            "flex_flow": null,
            "grid_area": null,
            "grid_auto_columns": null,
            "grid_auto_flow": null,
            "grid_auto_rows": null,
            "grid_column": null,
            "grid_gap": null,
            "grid_row": null,
            "grid_template_areas": null,
            "grid_template_columns": null,
            "grid_template_rows": null,
            "height": null,
            "justify_content": null,
            "justify_items": null,
            "left": null,
            "margin": null,
            "max_height": null,
            "max_width": null,
            "min_height": null,
            "min_width": null,
            "object_fit": null,
            "object_position": null,
            "order": null,
            "overflow": null,
            "overflow_x": null,
            "overflow_y": null,
            "padding": null,
            "right": null,
            "top": null,
            "visibility": null,
            "width": null
          }
        },
        "9bb37fc6cfcc42e3b9de287ecc027fc5": {
          "model_module": "@jupyter-widgets/controls",
          "model_name": "TabModel",
          "model_module_version": "1.5.0",
          "state": {
            "_dom_classes": [],
            "_model_module": "@jupyter-widgets/controls",
            "_model_module_version": "1.5.0",
            "_model_name": "TabModel",
            "_titles": {
              "0": "Youtube",
              "1": "Bilibili"
            },
            "_view_count": null,
            "_view_module": "@jupyter-widgets/controls",
            "_view_module_version": "1.5.0",
            "_view_name": "TabView",
            "box_style": "",
            "children": [
              "IPY_MODEL_fe713fc62bcb4a67952df3e5e84945f2",
              "IPY_MODEL_b3b114239ba04bfd8fad9566c8b00ee5"
            ],
            "layout": "IPY_MODEL_6d851db36474466e8dfe005c18482947",
            "selected_index": 0
          }
        },
        "fe713fc62bcb4a67952df3e5e84945f2": {
          "model_module": "@jupyter-widgets/output",
          "model_name": "OutputModel",
          "model_module_version": "1.0.0",
          "state": {
            "_dom_classes": [],
            "_model_module": "@jupyter-widgets/output",
            "_model_module_version": "1.0.0",
            "_model_name": "OutputModel",
            "_view_count": null,
            "_view_module": "@jupyter-widgets/output",
            "_view_module_version": "1.0.0",
            "_view_name": "OutputView",
            "layout": "IPY_MODEL_bd0ec51c86014010af137fa9ff79d299",
            "msg_id": "",
            "outputs": [
              {
                "output_type": "stream",
                "name": "stdout",
                "text": [
                  "Video available at https://youtube.com/watch?v=aH2Hs8f6KrQ\n"
                ]
              },
              {
                "output_type": "display_data",
                "data": {
                  "text/plain": "<IPython.lib.display.YouTubeVideo at 0x7fefe9c937d0>",
                  "text/html": "\n        <iframe\n            width=\"854\"\n            height=\"480\"\n            src=\"https://www.youtube.com/embed/aH2Hs8f6KrQ?fs=1&rel=0\"\n            frameborder=\"0\"\n            allowfullscreen\n        ></iframe>\n        ",
                  "image/jpeg": "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\n"
                },
                "metadata": {}
              }
            ]
          }
        },
        "b3b114239ba04bfd8fad9566c8b00ee5": {
          "model_module": "@jupyter-widgets/output",
          "model_name": "OutputModel",
          "model_module_version": "1.0.0",
          "state": {
            "_dom_classes": [],
            "_model_module": "@jupyter-widgets/output",
            "_model_module_version": "1.0.0",
            "_model_name": "OutputModel",
            "_view_count": null,
            "_view_module": "@jupyter-widgets/output",
            "_view_module_version": "1.0.0",
            "_view_name": "OutputView",
            "layout": "IPY_MODEL_c4215d93008448c5a3ee176cd3ec9c29",
            "msg_id": "",
            "outputs": [
              {
                "output_type": "stream",
                "name": "stdout",
                "text": [
                  "Video available at https://www.bilibili.com/video/BV1Wy4y1V7bt\n"
                ]
              },
              {
                "output_type": "display_data",
                "data": {
                  "text/plain": "<__main__.BiliVideo at 0x7fefe9c93910>",
                  "text/html": "\n        <iframe\n            width=\"854\"\n            height=\"480\"\n            src=\"https://player.bilibili.com/player.html?bvid=BV1Wy4y1V7bt&page=1?fs=1\"\n            frameborder=\"0\"\n            allowfullscreen\n        ></iframe>\n        "
                },
                "metadata": {}
              }
            ]
          }
        },
        "6d851db36474466e8dfe005c18482947": {
          "model_module": "@jupyter-widgets/base",
          "model_name": "LayoutModel",
          "model_module_version": "1.2.0",
          "state": {
            "_model_module": "@jupyter-widgets/base",
            "_model_module_version": "1.2.0",
            "_model_name": "LayoutModel",
            "_view_count": null,
            "_view_module": "@jupyter-widgets/base",
            "_view_module_version": "1.2.0",
            "_view_name": "LayoutView",
            "align_content": null,
            "align_items": null,
            "align_self": null,
            "border": null,
            "bottom": null,
            "display": null,
            "flex": null,
            "flex_flow": null,
            "grid_area": null,
            "grid_auto_columns": null,
            "grid_auto_flow": null,
            "grid_auto_rows": null,
            "grid_column": null,
            "grid_gap": null,
            "grid_row": null,
            "grid_template_areas": null,
            "grid_template_columns": null,
            "grid_template_rows": null,
            "height": null,
            "justify_content": null,
            "justify_items": null,
            "left": null,
            "margin": null,
            "max_height": null,
            "max_width": null,
            "min_height": null,
            "min_width": null,
            "object_fit": null,
            "object_position": null,
            "order": null,
            "overflow": null,
            "overflow_x": null,
            "overflow_y": null,
            "padding": null,
            "right": null,
            "top": null,
            "visibility": null,
            "width": null
          }
        },
        "bd0ec51c86014010af137fa9ff79d299": {
          "model_module": "@jupyter-widgets/base",
          "model_name": "LayoutModel",
          "model_module_version": "1.2.0",
          "state": {
            "_model_module": "@jupyter-widgets/base",
            "_model_module_version": "1.2.0",
            "_model_name": "LayoutModel",
            "_view_count": null,
            "_view_module": "@jupyter-widgets/base",
            "_view_module_version": "1.2.0",
            "_view_name": "LayoutView",
            "align_content": null,
            "align_items": null,
            "align_self": null,
            "border": null,
            "bottom": null,
            "display": null,
            "flex": null,
            "flex_flow": null,
            "grid_area": null,
            "grid_auto_columns": null,
            "grid_auto_flow": null,
            "grid_auto_rows": null,
            "grid_column": null,
            "grid_gap": null,
            "grid_row": null,
            "grid_template_areas": null,
            "grid_template_columns": null,
            "grid_template_rows": null,
            "height": null,
            "justify_content": null,
            "justify_items": null,
            "left": null,
            "margin": null,
            "max_height": null,
            "max_width": null,
            "min_height": null,
            "min_width": null,
            "object_fit": null,
            "object_position": null,
            "order": null,
            "overflow": null,
            "overflow_x": null,
            "overflow_y": null,
            "padding": null,
            "right": null,
            "top": null,
            "visibility": null,
            "width": null
          }
        },
        "c4215d93008448c5a3ee176cd3ec9c29": {
          "model_module": "@jupyter-widgets/base",
          "model_name": "LayoutModel",
          "model_module_version": "1.2.0",
          "state": {
            "_model_module": "@jupyter-widgets/base",
            "_model_module_version": "1.2.0",
            "_model_name": "LayoutModel",
            "_view_count": null,
            "_view_module": "@jupyter-widgets/base",
            "_view_module_version": "1.2.0",
            "_view_name": "LayoutView",
            "align_content": null,
            "align_items": null,
            "align_self": null,
            "border": null,
            "bottom": null,
            "display": null,
            "flex": null,
            "flex_flow": null,
            "grid_area": null,
            "grid_auto_columns": null,
            "grid_auto_flow": null,
            "grid_auto_rows": null,
            "grid_column": null,
            "grid_gap": null,
            "grid_row": null,
            "grid_template_areas": null,
            "grid_template_columns": null,
            "grid_template_rows": null,
            "height": null,
            "justify_content": null,
            "justify_items": null,
            "left": null,
            "margin": null,
            "max_height": null,
            "max_width": null,
            "min_height": null,
            "min_width": null,
            "object_fit": null,
            "object_position": null,
            "order": null,
            "overflow": null,
            "overflow_x": null,
            "overflow_y": null,
            "padding": null,
            "right": null,
            "top": null,
            "visibility": null,
            "width": null
          }
        }
      }
    }
  },
  "nbformat": 4,
  "nbformat_minor": 0
}