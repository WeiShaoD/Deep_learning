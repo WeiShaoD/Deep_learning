{
  "nbformat": 4,
  "nbformat_minor": 0,
  "metadata": {
    "colab": {
      "name": "W1D3_Tutorial1",
      "provenance": [],
      "collapsed_sections": [],
      "toc_visible": true,
      "include_colab_link": true
    },
    "kernel": {
      "display_name": "Python 3",
      "language": "python",
      "name": "python3"
    },
    "kernelspec": {
      "display_name": "Python 3",
      "name": "python3"
    },
    "language_info": {
      "codemirror_mode": {
        "name": "ipython",
        "version": 3
      },
      "file_extension": ".py",
      "mimetype": "text/x-python",
      "name": "python",
      "nbconvert_exporter": "python",
      "pygments_lexer": "ipython3",
      "version": "3.7.11"
    },
    "widgets": {
      "application/vnd.jupyter.widget-state+json": {
        "4e18c38e32754408ac47030fa73ce4c4": {
          "model_module": "@jupyter-widgets/controls",
          "model_name": "TabModel",
          "model_module_version": "1.5.0",
          "state": {
            "_view_name": "TabView",
            "_dom_classes": [],
            "_titles": {
              "0": "Youtube",
              "1": "Bilibili"
            },
            "_model_name": "TabModel",
            "_view_module": "@jupyter-widgets/controls",
            "selected_index": 0,
            "_model_module_version": "1.5.0",
            "_view_count": null,
            "_view_module_version": "1.5.0",
            "box_style": "",
            "layout": "IPY_MODEL_db99bd6c5bcf4d03974bd971e6429e87",
            "_model_module": "@jupyter-widgets/controls",
            "children": [
              "IPY_MODEL_1d893691064341d9a7a8f3b9f5b9b9e2",
              "IPY_MODEL_e6913ecbeeba414ab4aa8fb4fe4ad407"
            ]
          }
        },
        "db99bd6c5bcf4d03974bd971e6429e87": {
          "model_module": "@jupyter-widgets/base",
          "model_name": "LayoutModel",
          "model_module_version": "1.2.0",
          "state": {
            "_view_name": "LayoutView",
            "grid_template_rows": null,
            "right": null,
            "justify_content": null,
            "_view_module": "@jupyter-widgets/base",
            "overflow": null,
            "_model_module_version": "1.2.0",
            "_view_count": null,
            "flex_flow": null,
            "width": null,
            "min_width": null,
            "border": null,
            "align_items": null,
            "bottom": null,
            "_model_module": "@jupyter-widgets/base",
            "top": null,
            "grid_column": null,
            "overflow_y": null,
            "overflow_x": null,
            "grid_auto_flow": null,
            "grid_area": null,
            "grid_template_columns": null,
            "flex": null,
            "_model_name": "LayoutModel",
            "justify_items": null,
            "grid_row": null,
            "max_height": null,
            "align_content": null,
            "visibility": null,
            "align_self": null,
            "height": null,
            "min_height": null,
            "padding": null,
            "grid_auto_rows": null,
            "grid_gap": null,
            "max_width": null,
            "order": null,
            "_view_module_version": "1.2.0",
            "grid_template_areas": null,
            "object_position": null,
            "object_fit": null,
            "grid_auto_columns": null,
            "margin": null,
            "display": null,
            "left": null
          }
        },
        "1d893691064341d9a7a8f3b9f5b9b9e2": {
          "model_module": "@jupyter-widgets/output",
          "model_name": "OutputModel",
          "model_module_version": "1.0.0",
          "state": {
            "_view_name": "OutputView",
            "msg_id": "",
            "_dom_classes": [],
            "_model_name": "OutputModel",
            "outputs": [
              {
                "output_type": "stream",
                "metadata": {
                  "tags": []
                },
                "text": "Video available at https://youtube.com/watch?v=Gh0KYl7ViAc\n",
                "stream": "stdout"
              },
              {
                "output_type": "display_data",
                "metadata": {
                  "tags": []
                },
                "text/html": "\n        <iframe\n            width=\"854\"\n            height=\"480\"\n            src=\"https://www.youtube.com/embed/Gh0KYl7ViAc?fs=1&rel=0\"\n            frameborder=\"0\"\n            allowfullscreen\n        ></iframe>\n        ",
                "text/plain": "<IPython.lib.display.YouTubeVideo at 0x7f27b8429950>",
                "image/jpeg": "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\n"
              }
            ],
            "_view_module": "@jupyter-widgets/output",
            "_model_module_version": "1.0.0",
            "_view_count": null,
            "_view_module_version": "1.0.0",
            "layout": "IPY_MODEL_bb46fa357f2043818ee94d53fe3df263",
            "_model_module": "@jupyter-widgets/output"
          }
        },
        "e6913ecbeeba414ab4aa8fb4fe4ad407": {
          "model_module": "@jupyter-widgets/output",
          "model_name": "OutputModel",
          "model_module_version": "1.0.0",
          "state": {
            "_view_name": "OutputView",
            "msg_id": "",
            "_dom_classes": [],
            "_model_name": "OutputModel",
            "outputs": [
              {
                "output_type": "stream",
                "metadata": {
                  "tags": []
                },
                "text": "Video available at https://www.bilibili.com/video/BV1E3411r7TL\n",
                "stream": "stdout"
              },
              {
                "output_type": "display_data",
                "metadata": {
                  "tags": []
                },
                "text/html": "\n        <iframe\n            width=\"854\"\n            height=\"480\"\n            src=\"https://player.bilibili.com/player.html?bvid=BV1E3411r7TL&page=1?fs=1\"\n            frameborder=\"0\"\n            allowfullscreen\n        ></iframe>\n        ",
                "text/plain": "<__main__.BiliVideo at 0x7f27b8429690>"
              }
            ],
            "_view_module": "@jupyter-widgets/output",
            "_model_module_version": "1.0.0",
            "_view_count": null,
            "_view_module_version": "1.0.0",
            "layout": "IPY_MODEL_94c8df84d0454e36851878253454e64c",
            "_model_module": "@jupyter-widgets/output"
          }
        },
        "bb46fa357f2043818ee94d53fe3df263": {
          "model_module": "@jupyter-widgets/base",
          "model_name": "LayoutModel",
          "model_module_version": "1.2.0",
          "state": {
            "_view_name": "LayoutView",
            "grid_template_rows": null,
            "right": null,
            "justify_content": null,
            "_view_module": "@jupyter-widgets/base",
            "overflow": null,
            "_model_module_version": "1.2.0",
            "_view_count": null,
            "flex_flow": null,
            "width": null,
            "min_width": null,
            "border": null,
            "align_items": null,
            "bottom": null,
            "_model_module": "@jupyter-widgets/base",
            "top": null,
            "grid_column": null,
            "overflow_y": null,
            "overflow_x": null,
            "grid_auto_flow": null,
            "grid_area": null,
            "grid_template_columns": null,
            "flex": null,
            "_model_name": "LayoutModel",
            "justify_items": null,
            "grid_row": null,
            "max_height": null,
            "align_content": null,
            "visibility": null,
            "align_self": null,
            "height": null,
            "min_height": null,
            "padding": null,
            "grid_auto_rows": null,
            "grid_gap": null,
            "max_width": null,
            "order": null,
            "_view_module_version": "1.2.0",
            "grid_template_areas": null,
            "object_position": null,
            "object_fit": null,
            "grid_auto_columns": null,
            "margin": null,
            "display": null,
            "left": null
          }
        },
        "94c8df84d0454e36851878253454e64c": {
          "model_module": "@jupyter-widgets/base",
          "model_name": "LayoutModel",
          "model_module_version": "1.2.0",
          "state": {
            "_view_name": "LayoutView",
            "grid_template_rows": null,
            "right": null,
            "justify_content": null,
            "_view_module": "@jupyter-widgets/base",
            "overflow": null,
            "_model_module_version": "1.2.0",
            "_view_count": null,
            "flex_flow": null,
            "width": null,
            "min_width": null,
            "border": null,
            "align_items": null,
            "bottom": null,
            "_model_module": "@jupyter-widgets/base",
            "top": null,
            "grid_column": null,
            "overflow_y": null,
            "overflow_x": null,
            "grid_auto_flow": null,
            "grid_area": null,
            "grid_template_columns": null,
            "flex": null,
            "_model_name": "LayoutModel",
            "justify_items": null,
            "grid_row": null,
            "max_height": null,
            "align_content": null,
            "visibility": null,
            "align_self": null,
            "height": null,
            "min_height": null,
            "padding": null,
            "grid_auto_rows": null,
            "grid_gap": null,
            "max_width": null,
            "order": null,
            "_view_module_version": "1.2.0",
            "grid_template_areas": null,
            "object_position": null,
            "object_fit": null,
            "grid_auto_columns": null,
            "margin": null,
            "display": null,
            "left": null
          }
        },
        "80b478738eb942c0b6f920bdd9fd45a5": {
          "model_module": "@jupyter-widgets/controls",
          "model_name": "TabModel",
          "model_module_version": "1.5.0",
          "state": {
            "_view_name": "TabView",
            "_dom_classes": [],
            "_titles": {
              "0": "Youtube",
              "1": "Bilibili"
            },
            "_model_name": "TabModel",
            "_view_module": "@jupyter-widgets/controls",
            "selected_index": 0,
            "_model_module_version": "1.5.0",
            "_view_count": null,
            "_view_module_version": "1.5.0",
            "box_style": "",
            "layout": "IPY_MODEL_76aaf88aa14440f08464e66ce6b49f0c",
            "_model_module": "@jupyter-widgets/controls",
            "children": [
              "IPY_MODEL_dfb6178fc2b74cc1a614fd5a32229fe9",
              "IPY_MODEL_c0fca4177b4a438da59aa33d9db2d363"
            ]
          }
        },
        "76aaf88aa14440f08464e66ce6b49f0c": {
          "model_module": "@jupyter-widgets/base",
          "model_name": "LayoutModel",
          "model_module_version": "1.2.0",
          "state": {
            "_view_name": "LayoutView",
            "grid_template_rows": null,
            "right": null,
            "justify_content": null,
            "_view_module": "@jupyter-widgets/base",
            "overflow": null,
            "_model_module_version": "1.2.0",
            "_view_count": null,
            "flex_flow": null,
            "width": null,
            "min_width": null,
            "border": null,
            "align_items": null,
            "bottom": null,
            "_model_module": "@jupyter-widgets/base",
            "top": null,
            "grid_column": null,
            "overflow_y": null,
            "overflow_x": null,
            "grid_auto_flow": null,
            "grid_area": null,
            "grid_template_columns": null,
            "flex": null,
            "_model_name": "LayoutModel",
            "justify_items": null,
            "grid_row": null,
            "max_height": null,
            "align_content": null,
            "visibility": null,
            "align_self": null,
            "height": null,
            "min_height": null,
            "padding": null,
            "grid_auto_rows": null,
            "grid_gap": null,
            "max_width": null,
            "order": null,
            "_view_module_version": "1.2.0",
            "grid_template_areas": null,
            "object_position": null,
            "object_fit": null,
            "grid_auto_columns": null,
            "margin": null,
            "display": null,
            "left": null
          }
        },
        "dfb6178fc2b74cc1a614fd5a32229fe9": {
          "model_module": "@jupyter-widgets/output",
          "model_name": "OutputModel",
          "model_module_version": "1.0.0",
          "state": {
            "_view_name": "OutputView",
            "msg_id": "",
            "_dom_classes": [],
            "_model_name": "OutputModel",
            "outputs": [
              {
                "output_type": "stream",
                "metadata": {
                  "tags": []
                },
                "text": "Video available at https://youtube.com/watch?v=tg8HHKo1aH4\n",
                "stream": "stdout"
              },
              {
                "output_type": "display_data",
                "metadata": {
                  "tags": []
                },
                "text/html": "\n        <iframe\n            width=\"854\"\n            height=\"480\"\n            src=\"https://www.youtube.com/embed/tg8HHKo1aH4?fs=1&rel=0\"\n            frameborder=\"0\"\n            allowfullscreen\n        ></iframe>\n        ",
                "text/plain": "<IPython.lib.display.YouTubeVideo at 0x7f27b7868c50>",
                "image/jpeg": "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\n"
              }
            ],
            "_view_module": "@jupyter-widgets/output",
            "_model_module_version": "1.0.0",
            "_view_count": null,
            "_view_module_version": "1.0.0",
            "layout": "IPY_MODEL_4899ff5eb92a444c9cfbfcafe720f600",
            "_model_module": "@jupyter-widgets/output"
          }
        },
        "c0fca4177b4a438da59aa33d9db2d363": {
          "model_module": "@jupyter-widgets/output",
          "model_name": "OutputModel",
          "model_module_version": "1.0.0",
          "state": {
            "_view_name": "OutputView",
            "msg_id": "",
            "_dom_classes": [],
            "_model_name": "OutputModel",
            "outputs": [
              {
                "output_type": "stream",
                "metadata": {
                  "tags": []
                },
                "text": "Video available at https://www.bilibili.com/video/BV1SP4y147Uv\n",
                "stream": "stdout"
              },
              {
                "output_type": "display_data",
                "metadata": {
                  "tags": []
                },
                "text/html": "\n        <iframe\n            width=\"854\"\n            height=\"480\"\n            src=\"https://player.bilibili.com/player.html?bvid=BV1SP4y147Uv&page=1?fs=1\"\n            frameborder=\"0\"\n            allowfullscreen\n        ></iframe>\n        ",
                "text/plain": "<__main__.BiliVideo at 0x7f27b785ab10>"
              }
            ],
            "_view_module": "@jupyter-widgets/output",
            "_model_module_version": "1.0.0",
            "_view_count": null,
            "_view_module_version": "1.0.0",
            "layout": "IPY_MODEL_ca37244e154f4a91a153f3d9e822905c",
            "_model_module": "@jupyter-widgets/output"
          }
        },
        "4899ff5eb92a444c9cfbfcafe720f600": {
          "model_module": "@jupyter-widgets/base",
          "model_name": "LayoutModel",
          "model_module_version": "1.2.0",
          "state": {
            "_view_name": "LayoutView",
            "grid_template_rows": null,
            "right": null,
            "justify_content": null,
            "_view_module": "@jupyter-widgets/base",
            "overflow": null,
            "_model_module_version": "1.2.0",
            "_view_count": null,
            "flex_flow": null,
            "width": null,
            "min_width": null,
            "border": null,
            "align_items": null,
            "bottom": null,
            "_model_module": "@jupyter-widgets/base",
            "top": null,
            "grid_column": null,
            "overflow_y": null,
            "overflow_x": null,
            "grid_auto_flow": null,
            "grid_area": null,
            "grid_template_columns": null,
            "flex": null,
            "_model_name": "LayoutModel",
            "justify_items": null,
            "grid_row": null,
            "max_height": null,
            "align_content": null,
            "visibility": null,
            "align_self": null,
            "height": null,
            "min_height": null,
            "padding": null,
            "grid_auto_rows": null,
            "grid_gap": null,
            "max_width": null,
            "order": null,
            "_view_module_version": "1.2.0",
            "grid_template_areas": null,
            "object_position": null,
            "object_fit": null,
            "grid_auto_columns": null,
            "margin": null,
            "display": null,
            "left": null
          }
        },
        "ca37244e154f4a91a153f3d9e822905c": {
          "model_module": "@jupyter-widgets/base",
          "model_name": "LayoutModel",
          "model_module_version": "1.2.0",
          "state": {
            "_view_name": "LayoutView",
            "grid_template_rows": null,
            "right": null,
            "justify_content": null,
            "_view_module": "@jupyter-widgets/base",
            "overflow": null,
            "_model_module_version": "1.2.0",
            "_view_count": null,
            "flex_flow": null,
            "width": null,
            "min_width": null,
            "border": null,
            "align_items": null,
            "bottom": null,
            "_model_module": "@jupyter-widgets/base",
            "top": null,
            "grid_column": null,
            "overflow_y": null,
            "overflow_x": null,
            "grid_auto_flow": null,
            "grid_area": null,
            "grid_template_columns": null,
            "flex": null,
            "_model_name": "LayoutModel",
            "justify_items": null,
            "grid_row": null,
            "max_height": null,
            "align_content": null,
            "visibility": null,
            "align_self": null,
            "height": null,
            "min_height": null,
            "padding": null,
            "grid_auto_rows": null,
            "grid_gap": null,
            "max_width": null,
            "order": null,
            "_view_module_version": "1.2.0",
            "grid_template_areas": null,
            "object_position": null,
            "object_fit": null,
            "grid_auto_columns": null,
            "margin": null,
            "display": null,
            "left": null
          }
        },
        "57c0053c2eb6408d8c12862e895031dd": {
          "model_module": "@jupyter-widgets/controls",
          "model_name": "TabModel",
          "model_module_version": "1.5.0",
          "state": {
            "_view_name": "TabView",
            "_dom_classes": [],
            "_titles": {
              "0": "Youtube",
              "1": "Bilibili"
            },
            "_model_name": "TabModel",
            "_view_module": "@jupyter-widgets/controls",
            "selected_index": 0,
            "_model_module_version": "1.5.0",
            "_view_count": null,
            "_view_module_version": "1.5.0",
            "box_style": "",
            "layout": "IPY_MODEL_15f1d9e026884987a1ddebded8abb0e2",
            "_model_module": "@jupyter-widgets/controls",
            "children": [
              "IPY_MODEL_83f75b80e9cc479ca3fa6120c28fb740",
              "IPY_MODEL_f0b6dc6181db440b9afddd678511d4c1"
            ]
          }
        },
        "5f21ef00304840b7a4ae1d505f1455ed": {
          "model_module": "@jupyter-widgets/controls",
          "model_name": "TabModel",
          "model_module_version": "1.5.0",
          "state": {
            "_view_name": "TabView",
            "_dom_classes": [],
            "_titles": {
              "0": "Youtube",
              "1": "Bilibili"
            },
            "_model_name": "TabModel",
            "_view_module": "@jupyter-widgets/controls",
            "selected_index": 0,
            "_model_module_version": "1.5.0",
            "_view_count": null,
            "_view_module_version": "1.5.0",
            "box_style": "",
            "layout": "IPY_MODEL_3aa32e36b26a4f45a0a1219016e0acc8",
            "_model_module": "@jupyter-widgets/controls",
            "children": [
              "IPY_MODEL_589ab2e3905c4342bb2663680109aeeb",
              "IPY_MODEL_b828e85294ed40e98bc76b94a9b578cf"
            ]
          }
        }
      }
    }
  },
  "cells": [
    {
      "cell_type": "markdown",
      "metadata": {
        "id": "view-in-github",
        "colab_type": "text"
      },
      "source": [
        "<a href=\"https://colab.research.google.com/github/WeiShaoD/Deep_learning/blob/main/tutorials/W1D3_MultiLayerPerceptrons/student/W1D3_Tutorial1.ipynb\" target=\"_parent\"><img src=\"https://colab.research.google.com/assets/colab-badge.svg\" alt=\"Open In Colab\"/></a>"
      ]
    },
    {
      "cell_type": "markdown",
      "metadata": {
        "execution": {},
        "id": "__ZlDyJEL6q5"
      },
      "source": [
        "# Tutorial 1: Biological vs. Artificial Neural Networks\n",
        "\n",
        "**Week 1, Day 3: Multi Layer Perceptrons**\n",
        "\n",
        "**By Neuromatch Academy**\n",
        "\n",
        "__Content creators:__ Arash Ash, Surya Ganguli\n",
        "\n",
        "__Content reviewers:__ Saeed Salehi, Felix Bartsch, Yu-Fang Yang, Antoine De Comite, Melvin Selim Atay, Kelson Shilling-Scrivo\n",
        "\n",
        "__Content editors:__ Gagana B, Kelson Shilling-Scrivo, Spiros Chavlis\n",
        "\n",
        "__Production editors:__ Anoop Kulkarni, Kelson Shilling-Scrivo, Spiros Chavlis"
      ]
    },
    {
      "cell_type": "markdown",
      "metadata": {
        "execution": {},
        "id": "5uffg-SBL6q-"
      },
      "source": [
        "**Our 2021 Sponsors, including Presenting Sponsor Facebook Reality Labs**\n",
        "\n",
        "<p align='center'><img src='https://github.com/NeuromatchAcademy/widgets/blob/master/sponsors.png?raw=True'/></p>"
      ]
    },
    {
      "cell_type": "markdown",
      "metadata": {
        "execution": {},
        "id": "p2SPEVDiL6q-"
      },
      "source": [
        "---\n",
        "# Tutorial objectives\n",
        "\n",
        "In this tutorial, we will explore the Multi-layer Perceptrons (MLPs). MLPs are arguably one of the most tractable models (due to their flexibility) that we can use to study deep learning fundamentals. Here we will learn why they are: \n",
        "\n",
        "* similar to biological networks\n",
        "* good at function approximation\n",
        "* implemented the way they are in PyTorch"
      ]
    },
    {
      "cell_type": "code",
      "metadata": {
        "cellView": "form",
        "execution": {},
        "id": "8Uo7ft0KL6rB",
        "outputId": "5d9501c1-2c04-4c12-a547-5863fa7a3a3d",
        "colab": {
          "base_uri": "https://localhost:8080/",
          "height": 501
        }
      },
      "source": [
        "# @title Tutorial slides\n",
        "\n",
        "# @markdown These are the slides for the videos in all tutorials today\n",
        "\n",
        "# @markdown If you want to locally download the slides, click [here](https://osf.io/4ye56/download)\n",
        "from IPython.display import IFrame\n",
        "IFrame(src=f\"https://mfr.ca-1.osf.io/render?url=https://osf.io/4ye56/?direct%26mode=render%26action=download%26mode=render\", width=854, height=480)"
      ],
      "execution_count": 2,
      "outputs": [
        {
          "output_type": "execute_result",
          "data": {
            "text/html": [
              "\n",
              "        <iframe\n",
              "            width=\"854\"\n",
              "            height=\"480\"\n",
              "            src=\"https://mfr.ca-1.osf.io/render?url=https://osf.io/4ye56/?direct%26mode=render%26action=download%26mode=render\"\n",
              "            frameborder=\"0\"\n",
              "            allowfullscreen\n",
              "        ></iframe>\n",
              "        "
            ],
            "text/plain": [
              "<IPython.lib.display.IFrame at 0x7f2813a6c110>"
            ]
          },
          "metadata": {
            "tags": []
          },
          "execution_count": 2
        }
      ]
    },
    {
      "cell_type": "markdown",
      "metadata": {
        "execution": {},
        "id": "095vsTi9L6rC"
      },
      "source": [
        "---\n",
        "# Setup\n",
        "\n",
        "This is a GPU free notebook!"
      ]
    },
    {
      "cell_type": "code",
      "metadata": {
        "execution": {},
        "id": "5Wzqp5cNL6rC",
        "outputId": "0bfca49b-8b49-4b7b-a7df-a0b734bd8574",
        "colab": {
          "base_uri": "https://localhost:8080/"
        }
      },
      "source": [
        "# @title Install dependencies\n",
        "!pip install git+https://github.com/NeuromatchAcademy/evaltools --quiet\n",
        "from evaltools.airtable import AirtableForm\n",
        "\n",
        "# generate airtable form\n",
        "atform = AirtableForm('appn7VdPRseSoMXEG','W1D3_T1','https://portal.neuromatchacademy.org/api/redirect/to/9c55f6cb-cdf9-4429-ac1c-ec44fe64c303')"
      ],
      "execution_count": 3,
      "outputs": [
        {
          "output_type": "stream",
          "text": [
            "  Building wheel for evaltools (setup.py) ... \u001b[?25l\u001b[?25hdone\n"
          ],
          "name": "stdout"
        }
      ]
    },
    {
      "cell_type": "code",
      "metadata": {
        "execution": {},
        "id": "X0HyN-chL6rT"
      },
      "source": [
        "# Imports\n",
        "import random\n",
        "\n",
        "import torch\n",
        "import numpy as np\n",
        "import matplotlib.pyplot as plt\n",
        "\n",
        "import torch.nn as nn\n",
        "import torch.optim as optim\n",
        "from tqdm.auto import tqdm\n",
        "from IPython.display import display\n",
        "from torch.utils.data import DataLoader, TensorDataset\n",
        "\n",
        "import time\n",
        "\n",
        "from torchvision import datasets\n",
        "from torchvision.transforms import ToTensor\n",
        "from torch.utils.data import DataLoader"
      ],
      "execution_count": 4,
      "outputs": []
    },
    {
      "cell_type": "code",
      "metadata": {
        "execution": {},
        "id": "CQjHN20RL6rW"
      },
      "source": [
        "# @title Figure settings\n",
        "import ipywidgets as widgets       # interactive display\n",
        "%config InlineBackend.figure_format = 'retina'\n",
        "plt.style.use(\"https://raw.githubusercontent.com/NeuromatchAcademy/content-creation/main/nma.mplstyle\")"
      ],
      "execution_count": 5,
      "outputs": []
    },
    {
      "cell_type": "code",
      "metadata": {
        "cellView": "form",
        "execution": {},
        "id": "iG5DAGPZL6rY"
      },
      "source": [
        "# @title Plotting functions\n",
        "\n",
        "def imshow(img):\n",
        "  img = img / 2 + 0.5     # unnormalize\n",
        "  npimg = img.numpy()\n",
        "  plt.imshow(np.transpose(npimg, (1, 2, 0)))\n",
        "  plt.axis(False)\n",
        "  plt.show()\n",
        "\n",
        "\n",
        "def plot_function_approximation(x, relu_acts, y_hat):\n",
        "  fig, axes = plt.subplots(2, 1)\n",
        "\n",
        "  # Plot ReLU Activations\n",
        "  axes[0].plot(x, relu_acts.T);\n",
        "  axes[0].set(xlabel='x',\n",
        "              ylabel='Activation',\n",
        "              title='ReLU Activations - Basis Functions')\n",
        "  labels = [f\"ReLU {i + 1}\" for i in range(relu_acts.shape[0])]\n",
        "  axes[0].legend(labels, ncol = 2)\n",
        "\n",
        "  # Plot function approximation\n",
        "  axes[1].plot(x, torch.sin(x), label='truth')\n",
        "  axes[1].plot(x, y_hat, label='estimated')\n",
        "  axes[1].legend()\n",
        "  axes[1].set(xlabel='x',\n",
        "              ylabel='y(x)',\n",
        "              title='Function Approximation')\n",
        "\n",
        "  plt.tight_layout()\n",
        "  plt.show()"
      ],
      "execution_count": 6,
      "outputs": []
    },
    {
      "cell_type": "code",
      "metadata": {
        "cellView": "form",
        "execution": {},
        "id": "5f3lTV7GL6rZ"
      },
      "source": [
        "# @title Set random seed\n",
        "\n",
        "# @markdown Executing `set_seed(seed=seed)` you are setting the seed\n",
        "\n",
        "# for DL its critical to set the random seed so that students can have a\n",
        "# baseline to compare their results to expected results.\n",
        "# Read more here: https://pytorch.org/docs/stable/notes/randomness.html\n",
        "\n",
        "# Call `set_seed` function in the exercises to ensure reproducibility.\n",
        "import random\n",
        "import torch\n",
        "\n",
        "def set_seed(seed=None, seed_torch=True):\n",
        "  if seed is None:\n",
        "    seed = np.random.choice(2 ** 32)\n",
        "  random.seed(seed)\n",
        "  np.random.seed(seed)\n",
        "  if seed_torch:\n",
        "    torch.manual_seed(seed)\n",
        "    torch.cuda.manual_seed_all(seed)\n",
        "    torch.cuda.manual_seed(seed)\n",
        "    torch.backends.cudnn.benchmark = False\n",
        "    torch.backends.cudnn.deterministic = True\n",
        "\n",
        "  print(f'Random seed {seed} has been set.')\n",
        "\n",
        "\n",
        "# In case that `DataLoader` is used\n",
        "def seed_worker(worker_id):\n",
        "  worker_seed = torch.initial_seed() % 2**32\n",
        "  np.random.seed(worker_seed)\n",
        "  random.seed(worker_seed)"
      ],
      "execution_count": 7,
      "outputs": []
    },
    {
      "cell_type": "code",
      "metadata": {
        "execution": {},
        "id": "l9sPdSk4L6ra"
      },
      "source": [
        "# @title Set device (GPU or CPU). Execute `set_device()`\n",
        "# especially if torch modules used.\n",
        "\n",
        "# inform the user if the notebook uses GPU or CPU.\n",
        "\n",
        "def set_device():\n",
        "  device = \"cuda\" if torch.cuda.is_available() else \"cpu\"\n",
        "  if device != \"cuda\":\n",
        "    print(\"GPU is not enabled in this notebook. \\n\"\n",
        "          \"If you want to enable it, in the menu under `Runtime` -> \\n\"\n",
        "          \"`Hardware accelerator.` and select `GPU` from the dropdown menu\")\n",
        "  else:\n",
        "    print(\"GPU is enabled in this notebook. \\n\"\n",
        "          \"If you want to disable it, in the menu under `Runtime` -> \\n\"\n",
        "          \"`Hardware accelerator.` and select `None` from the dropdown menu\")\n",
        "\n",
        "  return device"
      ],
      "execution_count": 8,
      "outputs": []
    },
    {
      "cell_type": "code",
      "metadata": {
        "execution": {},
        "id": "2ZH8X_c8L6ra",
        "outputId": "ce5641b6-15ed-4607-b9fb-7a28f41288a2",
        "colab": {
          "base_uri": "https://localhost:8080/"
        }
      },
      "source": [
        "SEED = 2021\n",
        "set_seed(seed=SEED)\n",
        "DEVICE = set_device()"
      ],
      "execution_count": 9,
      "outputs": [
        {
          "output_type": "stream",
          "text": [
            "Random seed 2021 has been set.\n",
            "GPU is not enabled in this notebook. \n",
            "If you want to enable it, in the menu under `Runtime` -> \n",
            "`Hardware accelerator.` and select `GPU` from the dropdown menu\n"
          ],
          "name": "stdout"
        }
      ]
    },
    {
      "cell_type": "markdown",
      "metadata": {
        "execution": {},
        "id": "vB1k4YCSL6rb"
      },
      "source": [
        "---\n",
        "# Section 0: Introduction to MLPs"
      ]
    },
    {
      "cell_type": "code",
      "metadata": {
        "cellView": "form",
        "execution": {},
        "id": "w7O-isNkL6rb",
        "outputId": "6272f3f0-bc61-42d8-fb13-ee157f74adf0",
        "colab": {
          "base_uri": "https://localhost:8080/",
          "height": 580,
          "referenced_widgets": [
            "4e18c38e32754408ac47030fa73ce4c4",
            "db99bd6c5bcf4d03974bd971e6429e87",
            "1d893691064341d9a7a8f3b9f5b9b9e2",
            "e6913ecbeeba414ab4aa8fb4fe4ad407",
            "bb46fa357f2043818ee94d53fe3df263",
            "94c8df84d0454e36851878253454e64c"
          ]
        }
      },
      "source": [
        "# @title Video 0: Introduction\n",
        "from ipywidgets import widgets\n",
        "\n",
        "out2 = widgets.Output()\n",
        "with out2:\n",
        "  from IPython.display import IFrame\n",
        "  class BiliVideo(IFrame):\n",
        "    def __init__(self, id, page=1, width=400, height=300, **kwargs):\n",
        "      self.id=id\n",
        "      src = \"https://player.bilibili.com/player.html?bvid={0}&page={1}\".format(id, page)\n",
        "      super(BiliVideo, self).__init__(src, width, height, **kwargs)\n",
        "\n",
        "  video = BiliVideo(id=f\"BV1E3411r7TL\", width=854, height=480, fs=1)\n",
        "  print(\"Video available at https://www.bilibili.com/video/{0}\".format(video.id))\n",
        "  display(video)\n",
        "\n",
        "out1 = widgets.Output()\n",
        "with out1:\n",
        "  from IPython.display import YouTubeVideo\n",
        "  video = YouTubeVideo(id=f\"Gh0KYl7ViAc\", width=854, height=480, fs=1, rel=0)\n",
        "  print(\"Video available at https://youtube.com/watch?v=\" + video.id)\n",
        "  display(video)\n",
        "\n",
        "out = widgets.Tab([out1, out2])\n",
        "out.set_title(0, 'Youtube')\n",
        "out.set_title(1, 'Bilibili')\n",
        "\n",
        "#add event to airtable\n",
        "atform.add_event('Video 0: Introduction')\n",
        "\n",
        "display(out)"
      ],
      "execution_count": 10,
      "outputs": [
        {
          "output_type": "display_data",
          "data": {
            "application/vnd.jupyter.widget-view+json": {
              "model_id": "4e18c38e32754408ac47030fa73ce4c4",
              "version_minor": 0,
              "version_major": 2
            },
            "text/plain": [
              "Tab(children=(Output(), Output()), _titles={'0': 'Youtube', '1': 'Bilibili'})"
            ]
          },
          "metadata": {
            "tags": []
          }
        }
      ]
    },
    {
      "cell_type": "markdown",
      "metadata": {
        "execution": {},
        "id": "HvHUb91_L6rc"
      },
      "source": [
        "---\n",
        "# Section 1: The Need for MLPs\n",
        "\n",
        "*Time estimate: ~35 mins*"
      ]
    },
    {
      "cell_type": "code",
      "metadata": {
        "cellView": "form",
        "execution": {},
        "id": "0XTbb4tIL6rc",
        "outputId": "b3447eac-7072-4949-acf0-881bf6ae21b8",
        "colab": {
          "base_uri": "https://localhost:8080/",
          "height": 580,
          "referenced_widgets": [
            "80b478738eb942c0b6f920bdd9fd45a5",
            "76aaf88aa14440f08464e66ce6b49f0c",
            "dfb6178fc2b74cc1a614fd5a32229fe9",
            "c0fca4177b4a438da59aa33d9db2d363",
            "4899ff5eb92a444c9cfbfcafe720f600",
            "ca37244e154f4a91a153f3d9e822905c"
          ]
        }
      },
      "source": [
        "# @title Video 1: Universal Approximation Theorem\n",
        "from ipywidgets import widgets\n",
        "\n",
        "out2 = widgets.Output()\n",
        "with out2:\n",
        "  from IPython.display import IFrame\n",
        "  class BiliVideo(IFrame):\n",
        "    def __init__(self, id, page=1, width=400, height=300, **kwargs):\n",
        "      self.id=id\n",
        "      src = \"https://player.bilibili.com/player.html?bvid={0}&page={1}\".format(id, page)\n",
        "      super(BiliVideo, self).__init__(src, width, height, **kwargs)\n",
        "\n",
        "  video = BiliVideo(id=f\"BV1SP4y147Uv\", width=854, height=480, fs=1)\n",
        "  print(\"Video available at https://www.bilibili.com/video/{0}\".format(video.id))\n",
        "  display(video)\n",
        "\n",
        "out1 = widgets.Output()\n",
        "with out1:\n",
        "  from IPython.display import YouTubeVideo\n",
        "  video = YouTubeVideo(id=f\"tg8HHKo1aH4\", width=854, height=480, fs=1, rel=0)\n",
        "  print(\"Video available at https://youtube.com/watch?v=\" + video.id)\n",
        "  display(video)\n",
        "\n",
        "out = widgets.Tab([out1, out2])\n",
        "out.set_title(0, 'Youtube')\n",
        "out.set_title(1, 'Bilibili')\n",
        "\n",
        "# add event to airtable\n",
        "atform.add_event('Video 1: Universal Approximation Theorem')\n",
        "\n",
        "display(out)"
      ],
      "execution_count": 11,
      "outputs": [
        {
          "output_type": "display_data",
          "data": {
            "application/vnd.jupyter.widget-view+json": {
              "model_id": "80b478738eb942c0b6f920bdd9fd45a5",
              "version_minor": 0,
              "version_major": 2
            },
            "text/plain": [
              "Tab(children=(Output(), Output()), _titles={'0': 'Youtube', '1': 'Bilibili'})"
            ]
          },
          "metadata": {
            "tags": []
          }
        }
      ]
    },
    {
      "cell_type": "markdown",
      "metadata": {
        "execution": {},
        "id": "8aG8CKckL6rd"
      },
      "source": [
        "## Coding Exercise 1: Function approximation with ReLU\n",
        "We learned that one hidden layer MLPs are enough to approximate any smooth function! Now let's manually fit a sine function using ReLU activation. \n",
        "\n",
        "We will approximate the sine function using a linear combination (a weighted sum) of ReLUs with slope 1. We need to determine the bias terms (which determines where the ReLU inflection point from 0 to linear occurs) and how to weight each ReLU. The idea is to set the weights iteratively so that the slope changes in the new sample's direction.\n",
        "\n",
        "First, we generate our \"training data\" from a sine function using `torch.sine` function.\n",
        "\n",
        "```python\n",
        ">>> import torch\n",
        ">>> torch.manual_seed(2021)\n",
        "<torch._C.Generator object at 0x7f8734c83830>\n",
        ">>> a = torch.randn(5)\n",
        ">>> print(a)\n",
        "tensor([ 2.2871,  0.6413, -0.8615, -0.3649, -0.6931])\n",
        ">>> torch.sin(a)\n",
        "tensor([ 0.7542,  0.5983, -0.7588, -0.3569, -0.6389])\n",
        "```\n",
        "\n",
        "These are the points we will use to learn how to approximate the function. We have 10 training data points so we will have 9 ReLUs (we don't need a ReLU for the last data point as we don't have anything to the right of it to model). \n",
        "\n",
        "We first need to figure out the bias term for each ReLU and compute the activation of each ReLU where:\n",
        "\n",
        "\\begin{equation}\n",
        "y(x) = \\text{max}(0,x+b)\n",
        "\\end{equation}\n",
        "\n",
        "We then need to figure out the correct weights on each ReLU so the linear combination approximates the desired function."
      ]
    },
    {
      "cell_type": "code",
      "metadata": {
        "execution": {},
        "id": "gsYVDjcrL6re",
        "outputId": "0b7f98a6-ec8c-4608-dec2-1bf8e9628b8e",
        "colab": {
          "base_uri": "https://localhost:8080/",
          "height": 431
        }
      },
      "source": [
        "def approximate_function(x_train, y_train):\n",
        "\n",
        "  ####################################################################\n",
        "  # Fill in missing code below (...),\n",
        "  # then remove or comment the line below to test your function\n",
        "  #raise NotImplementedError(\"Complete approximate_function!\")\n",
        "  ####################################################################\n",
        "\n",
        "  # Number of relus\n",
        "  n_relus = x_train.shape[0] - 1\n",
        "\n",
        "  # x axis points (more than x train)\n",
        "  x = torch.linspace(torch.min(x_train), torch.max(x_train), 1000)\n",
        "\n",
        "  ## COMPUTE RELU ACTIVATIONS\n",
        "\n",
        "  # First determine what bias terms should be for each of `n_relus` ReLUs\n",
        "  b = -x_train[:-1]\n",
        "\n",
        "  # Compute ReLU activations for each point along the x axis (x)\n",
        "  relu_acts = torch.zeros((n_relus, x.shape[0]))\n",
        "\n",
        "  for i_relu in range(n_relus):\n",
        "    relu_acts[i_relu, :] = torch.relu(x + b[i_relu])\n",
        "\n",
        "  ## COMBINE RELU ACTIVATIONS\n",
        "\n",
        "  # Set up weights for weighted sum of ReLUs\n",
        "  combination_weights = torch.zeros((n_relus, ))\n",
        "\n",
        "  # Figure out weights on each ReLU\n",
        "  prev_slope = 0\n",
        "  for i in range(n_relus):\n",
        "    delta_x = x_train[i+1] - x_train[i]\n",
        "    slope = (y_train[i+1] - y_train[i]) / delta_x\n",
        "    combination_weights[i] = slope - prev_slope\n",
        "    prev_slope = slope\n",
        "\n",
        "  # Get output of weighted sum of ReLU activations for every point along x axis\n",
        "  y_hat = combination_weights @ relu_acts\n",
        "\n",
        "  return y_hat, relu_acts, x\n",
        "\n",
        "# add event to airtable\n",
        "atform.add_event('Coding Exercise 1: Function approximation with ReLU')\n",
        "\n",
        "\n",
        "# Make training data from sine function\n",
        "N_train = 15\n",
        "x_train = torch.linspace(0, 2*np.pi, N_train).view(-1, 1)\n",
        "y_train = torch.sin(x_train)\n",
        "\n",
        "## Uncomment the lines below to test your function approximation\n",
        "y_hat, relu_acts, x = approximate_function(x_train, y_train)\n",
        "plot_function_approximation(x, relu_acts, y_hat)"
      ],
      "execution_count": 12,
      "outputs": [
        {
          "output_type": "display_data",
          "data": {
            "image/png": "[encoded data removed]",
            "text/plain": [
              "<Figure size 576x432 with 2 Axes>"
            ]
          },
          "metadata": {
            "tags": [],
            "image/png": {
              "width": 558,
              "height": 414
            },
            "needs_background": "light"
          }
        }
      ]
    },
    {
      "cell_type": "markdown",
      "metadata": {
        "execution": {},
        "id": "0GuZaAxtL6re"
      },
      "source": [
        "[*Click for solution*](https://github.com/NeuromatchAcademy/course-content-dl/tree/main//tutorials/W1D3_MultiLayerPerceptrons/solutions/W1D3_Tutorial1_Solution_e09a57e7.py)\n",
        "\n",
        "*Example output:*\n",
        "\n",
        "<img alt='Solution hint' align='left' width=1120.0 height=832.0 src=https://raw.githubusercontent.com/NeuromatchAcademy/course-content-dl/main/tutorials/W1D3_MultiLayerPerceptrons/static/W1D3_Tutorial1_Solution_e09a57e7_0.png>\n",
        "\n"
      ]
    },
    {
      "cell_type": "markdown",
      "metadata": {
        "execution": {},
        "id": "n4bi2ZPPL6rf"
      },
      "source": [
        "As you see in the top panel, we obtain 10 shifted ReLUs with the same slope. These are the basis functions that MLP uses to span the functional space, i.e., MLP finds a linear combination of these ReLUs."
      ]
    },
    {
      "cell_type": "markdown",
      "metadata": {
        "execution": {},
        "id": "-4s-KXf_L6rf"
      },
      "source": [
        "---\n",
        "# Section 2: MLPs in Pytorch\n",
        "\n",
        "*Time estimate: ~1hr and 20 mins*"
      ]
    },
    {
      "cell_type": "code",
      "metadata": {
        "cellView": "form",
        "execution": {},
        "id": "XDgXG4t2L6rf",
        "outputId": "8939ba37-6397-43e8-90fa-96167d6cdcb7",
        "colab": {
          "base_uri": "https://localhost:8080/",
          "referenced_widgets": [
            "57c0053c2eb6408d8c12862e895031dd"
          ]
        }
      },
      "source": [
        "# @title Video 2: Building MLPs in PyTorch\n",
        "from ipywidgets import widgets\n",
        "\n",
        "out2 = widgets.Output()\n",
        "with out2:\n",
        "  from IPython.display import IFrame\n",
        "  class BiliVideo(IFrame):\n",
        "    def __init__(self, id, page=1, width=400, height=300, **kwargs):\n",
        "      self.id=id\n",
        "      src = \"https://player.bilibili.com/player.html?bvid={0}&page={1}\".format(id, page)\n",
        "      super(BiliVideo, self).__init__(src, width, height, **kwargs)\n",
        "\n",
        "  video = BiliVideo(id=f\"BV1zh411z7LY\", width=854, height=480, fs=1)\n",
        "  print(\"Video available at https://www.bilibili.com/video/{0}\".format(video.id))\n",
        "  display(video)\n",
        "\n",
        "out1 = widgets.Output()\n",
        "with out1:\n",
        "  from IPython.display import YouTubeVideo\n",
        "  video = YouTubeVideo(id=f\"XtwLnaYJ7uc\", width=854, height=480, fs=1, rel=0)\n",
        "  print(\"Video available at https://youtube.com/watch?v=\" + video.id)\n",
        "  display(video)\n",
        "\n",
        "out = widgets.Tab([out1, out2])\n",
        "out.set_title(0, 'Youtube')\n",
        "out.set_title(1, 'Bilibili')\n",
        "\n",
        "# add event to airtable\n",
        "atform.add_event('Video 2: Building MLPs in PyTorch')\n",
        "\n",
        "display(out)"
      ],
      "execution_count": 13,
      "outputs": [
        {
          "output_type": "display_data",
          "data": {
            "application/vnd.jupyter.widget-view+json": {
              "model_id": "57c0053c2eb6408d8c12862e895031dd",
              "version_minor": 0,
              "version_major": 2
            },
            "text/plain": [
              "Tab(children=(Output(), Output()), _titles={'0': 'Youtube', '1': 'Bilibili'})"
            ]
          },
          "metadata": {
            "tags": []
          }
        }
      ]
    },
    {
      "cell_type": "markdown",
      "metadata": {
        "execution": {},
        "id": "NAiJ2PywL6rf"
      },
      "source": [
        "In the previous segment, we implemented a function to approximate any smooth function using MLPs. We saw that using Lipschitz continuity; we can prove that our approximation is mathematically correct. MLPs are fascinating, but before we get into the details on designing them, let's familiarize ourselves with some basic terminology of MLPs- layer, neuron, depth, width, weight, bias, and activation function. Armed with these ideas, we can now design an MLP given its input, hidden layers, and output size."
      ]
    },
    {
      "cell_type": "markdown",
      "metadata": {
        "execution": {},
        "id": "W3K_WYBtL6rg"
      },
      "source": [
        "## Coding Exercise 2: Implement a general-purpose MLP in Pytorch\n",
        "The objective is to design an MLP with these properties:\n",
        "* works with any input (1D, 2D, etc.)\n",
        "* construct any number of given hidden layers using `nn.Sequential()` and `add_module()` function\n",
        "* use the same given activation function (i.e., [Leaky ReLU](https://pytorch.org/docs/stable/generated/torch.nn.LeakyReLU.html)) in all hidden layers.\n",
        "\n",
        "**Leaky ReLU** is described by the following mathematical formula:\n",
        "\n",
        "\\begin{equation}\n",
        "\\text{LeakyReLU}(x) = \\text{max}(0,x) + \\text{negative_slope} \\cdot \\text{min}(0, x) =\n",
        "\\left\\{\n",
        "  \\begin{array}{ll}\n",
        "  x & ,\\; \\text{if} \\; x \\ge 0 \\\\\n",
        "  \\text{negative_slope} \\cdot x & ,\\;  \\text{otherwise}\n",
        "  \\end{array}\n",
        "\\right.\n",
        "\\end{equation}"
      ]
    },
    {
      "cell_type": "code",
      "metadata": {
        "execution": {},
        "id": "XkpqUxJnL6rg",
        "outputId": "f1a3d7fa-262d-42d2-c986-c1ba6dcbfe13",
        "colab": {
          "base_uri": "https://localhost:8080/"
        }
      },
      "source": [
        "class Net(nn.Module):\n",
        "  def __init__(self, actv, input_feature_num, hidden_unit_nums, output_feature_num):\n",
        "    super(Net, self).__init__()\n",
        "    self.input_feature_num = input_feature_num # save the input size for reshapinng later\n",
        "    self.mlp = nn.Sequential() # Initialize layers of MLP\n",
        "\n",
        "    in_num = input_feature_num # initialize the temporary input feature to each layer\n",
        "    for i in range(len(hidden_unit_nums)): # Loop over layers and create each one\n",
        "\n",
        "      ####################################################################\n",
        "      # Fill in missing code below (...),\n",
        "      # then remove or comment the line below to test your function\n",
        "      # raise NotImplementedError(\"Create MLP Layer\")\n",
        "      ####################################################################\n",
        "\n",
        "      out_num = hidden_unit_nums[i] # assign the current layer hidden unit from list\n",
        "      layer = nn.Linear(in_num, out_num) # use nn.Linear to define the layer\n",
        "      in_num = out_num # assign next layer input using current layer output\n",
        "      self.mlp.add_module('Linear_%d'%i, layer) # append layer to the model with a name\n",
        "\n",
        "      actv_layer = eval('nn.%s'%actv) # Assign activation function (eval allows us to instantiate object from string)\n",
        "      self.mlp.add_module('Activation_%d'%i, actv_layer) # append activation to the model with a name\n",
        "\n",
        "    out_layer = nn.Linear(in_num, output_feature_num) # Create final layer\n",
        "    self.mlp.add_module('Output_Linear', out_layer) # append the final layer\n",
        "\n",
        "  def forward(self, x):\n",
        "    # reshape inputs to (batch_size, input_feature_num)\n",
        "    # just in case the input vector is not 2D, like an image!\n",
        "    x = x.view(-1, self.input_feature_num)\n",
        "\n",
        "    ####################################################################\n",
        "    # Fill in missing code below (...),\n",
        "    # then remove or comment the line below to test your function\n",
        "    # raise NotImplementedError(\"Run MLP model\")\n",
        "    ####################################################################\n",
        "\n",
        "    logits = self.mlp(x)  # forward pass of MLP\n",
        "    return logits\n",
        "\n",
        "# add event to airtable\n",
        "atform.add_event('Coding Exercise 2: Implement a general-purpose MLP in Pytorch')\n",
        "\n",
        "\n",
        "input = torch.zeros((100, 2))\n",
        "## Uncomment below to create network and test it on input\n",
        "net = Net(actv='LeakyReLU(0.1)', input_feature_num=2, hidden_unit_nums=[100, 10, 5], output_feature_num=1).to(DEVICE)\n",
        "y = net(input.to(DEVICE))\n",
        "print(f'The output shape is {y.shape} for an input of shape {input.shape}')"
      ],
      "execution_count": 14,
      "outputs": [
        {
          "output_type": "stream",
          "text": [
            "The output shape is torch.Size([100, 1]) for an input of shape torch.Size([100, 2])\n"
          ],
          "name": "stdout"
        }
      ]
    },
    {
      "cell_type": "markdown",
      "metadata": {
        "execution": {},
        "id": "bj_c7HRcL6rg"
      },
      "source": [
        "[*Click for solution*](https://github.com/NeuromatchAcademy/course-content-dl/tree/main//tutorials/W1D3_MultiLayerPerceptrons/solutions/W1D3_Tutorial1_Solution_b0675c60.py)\n",
        "\n"
      ]
    },
    {
      "cell_type": "markdown",
      "metadata": {
        "execution": {},
        "id": "mGn567gdL6rh"
      },
      "source": [
        "```\n",
        "The output shape is torch.Size([100, 1]) for an input of shape torch.Size([100, 2])\n",
        "```"
      ]
    },
    {
      "cell_type": "markdown",
      "metadata": {
        "execution": {},
        "id": "qa-uGu9FL6rl"
      },
      "source": [
        "## Section 2.1: Classification with MLPs"
      ]
    },
    {
      "cell_type": "code",
      "metadata": {
        "cellView": "form",
        "execution": {},
        "id": "VCvO_RWNL6rl",
        "outputId": "fc58a4d5-0425-4014-c1df-12b19ba74be7",
        "colab": {
          "base_uri": "https://localhost:8080/",
          "referenced_widgets": [
            "5f21ef00304840b7a4ae1d505f1455ed"
          ]
        }
      },
      "source": [
        "# @title Video 3: Cross Entropy\n",
        "from ipywidgets import widgets\n",
        "\n",
        "out2 = widgets.Output()\n",
        "with out2:\n",
        "  from IPython.display import IFrame\n",
        "  class BiliVideo(IFrame):\n",
        "    def __init__(self, id, page=1, width=400, height=300, **kwargs):\n",
        "      self.id=id\n",
        "      src = \"https://player.bilibili.com/player.html?bvid={0}&page={1}\".format(id, page)\n",
        "      super(BiliVideo, self).__init__(src, width, height, **kwargs)\n",
        "\n",
        "  video = BiliVideo(id=f\"BV1Ag41177mB\", width=854, height=480, fs=1)\n",
        "  print(\"Video available at https://www.bilibili.com/video/{0}\".format(video.id))\n",
        "  display(video)\n",
        "\n",
        "out1 = widgets.Output()\n",
        "with out1:\n",
        "  from IPython.display import YouTubeVideo\n",
        "  video = YouTubeVideo(id=f\"N8pVCbTlves\", width=854, height=480, fs=1, rel=0)\n",
        "  print(\"Video available at https://youtube.com/watch?v=\" + video.id)\n",
        "  display(video)\n",
        "\n",
        "out = widgets.Tab([out1, out2])\n",
        "out.set_title(0, 'Youtube')\n",
        "out.set_title(1, 'Bilibili')\n",
        "\n",
        "# add event to airtable\n",
        "atform.add_event('Video 3: Cross Entropy')\n",
        "\n",
        "display(out)"
      ],
      "execution_count": 15,
      "outputs": [
        {
          "output_type": "display_data",
          "data": {
            "application/vnd.jupyter.widget-view+json": {
              "model_id": "5f21ef00304840b7a4ae1d505f1455ed",
              "version_minor": 0,
              "version_major": 2
            },
            "text/plain": [
              "Tab(children=(Output(), Output()), _titles={'0': 'Youtube', '1': 'Bilibili'})"
            ]
          },
          "metadata": {
            "tags": []
          }
        }
      ]
    },
    {
      "cell_type": "markdown",
      "metadata": {
        "execution": {},
        "id": "-D7bN7INL6rm"
      },
      "source": [
        "The main loss function we could use out of the box for multi-class classification for `N` samples and `C` number of classes is:\n",
        "* CrossEntropyLoss:\n",
        "This criterion expects a batch of predictions `x` with shape `(N, C)` and class index in the range $[0, C-1]$ as the target (label) for each `N` samples, hence a batch of `labels` with shape `(N, )`. There are other optional parameters like class weights and class ignores. Feel free to check the PyTorch documentation [here](https://pytorch.org/docs/stable/generated/torch.nn.CrossEntropyLoss.html) for more detail. Additionally, [here](https://sparrow.dev/cross-entropy-loss-in-pytorch/) you can learn where is appropriate to use the CrossEntropyLoss.\n",
        "\n",
        "To get CrossEntropyLoss of a sample $i$, we could first calculate $-\\log(\\text{softmax(x}))$ and then take the element corresponding to $\\text { labels }_i$ as the loss. However, due to numerical stability, we implement this more stable equivalent form,\n",
        "\n",
        "\\begin{equation}\n",
        "\\operatorname{loss}(x_i, \\text { labels }_i)=-\\log \\left(\\frac{\\exp (x[\\text { labels }_i])}{\\sum_{j} \\exp (x[j])}\\right)=-x_i[\\text { labels }_i]+\\log \\left(\\sum_{j=1}^C \\exp (x_i[j])\\right)\n",
        "\\end{equation}"
      ]
    },
    {
      "cell_type": "markdown",
      "metadata": {
        "execution": {},
        "id": "OJpY4bW-L6rm"
      },
      "source": [
        "### Coding Exercise 2.1: Implement Batch Cross Entropy Loss\n",
        "\n",
        "To recap, since we will be doing batch learning, we'd like a loss function that given:\n",
        "* a batch of predictions `x` with shape `(N, C)` \n",
        "* a batch of `labels` with shape `(N, )` that ranges from `0` to `C-1`\n",
        "\n",
        "returns the average loss $L$ calculated according to:\n",
        "\n",
        "\\begin{align}\n",
        "loss(x_i, \\text { labels }_i) &= -x_i[\\text { labels }_i]+\\log \\left(\\sum_{j=1}^C \\exp (x_i[j])\\right) \\\\\n",
        "L &= \\frac{1}{N} \\sum_{i=1}^{N}{loss(x_i, \\text { labels }_i)}\n",
        "\\end{align}\n",
        "\n",
        "Steps:\n",
        "\n",
        "1.   Use indexing operation to get predictions of class corresponding to the labels (i.e., $x_i[\\text { labels }_i]$)\n",
        "2.   Compute $loss(x_i, \\text { labels }_i)$ vector (`losses`) using `torch.log()` and `torch.exp()` without Loops!\n",
        "3. Return the average of the loss vector\n",
        "\n"
      ]
    },
    {
      "cell_type": "code",
      "metadata": {
        "execution": {},
        "id": "QRUfVYA9L6rn",
        "outputId": "c73f4105-e545-42f3-91cb-d4e70bb9883e",
        "colab": {
          "base_uri": "https://localhost:8080/"
        }
      },
      "source": [
        "def cross_entropy_loss(x, labels):\n",
        "  # x is the model predictions we'd like to evaluate using lables\n",
        "  x_of_labels = torch.zeros(len(labels))\n",
        "  ####################################################################\n",
        "  # Fill in missing code below (...),\n",
        "  # then remove or comment the line below to test your function\n",
        "  # raise NotImplementedError(\"Cross Entropy Loss\")\n",
        "  ####################################################################\n",
        "  # 1. prediction for each class corresponding to the label\n",
        "  for i, label in enumerate(labels):\n",
        "    x_of_labels[i] = x[i, label]\n",
        "  # 2. loss vector for the batch\n",
        "  losses = -x_of_labels + torch.log(torch.sum(torch.exp(x), axis = 1))  \n",
        "\n",
        "#-x_of_labels + torch.log(torch.sum(torch.exp(x), axis=1))\n",
        "\n",
        "  # 3. Return the average of the loss vector\n",
        "  avg_loss = torch.mean(losses)\n",
        "\n",
        "  return avg_loss\n",
        "\n",
        "# add event to airtable\n",
        "atform.add_event('Coding Exercise 2.1: Implement Batch Cross Entropy Loss')\n",
        "\n",
        "\n",
        "labels = torch.tensor([0, 1])\n",
        "x = torch.tensor([[10.0, 1.0, -1.0, -20.0],  # correctly classified\n",
        "                  [10.0, 10.0, 2.0, -10.0]])  # Not correctly classified\n",
        "CE = nn.CrossEntropyLoss()\n",
        "pytorch_loss = CE(x, labels).item()\n",
        "## Uncomment below to test your function\n",
        "our_loss = cross_entropy_loss(x, labels).item()\n",
        "print(f'Our CE loss: {our_loss:0.8f}, Pytorch CE loss: {pytorch_loss:0.8f}')\n",
        "print(f'Difference: {np.abs(our_loss - pytorch_loss):0.8f}')"
      ],
      "execution_count": 16,
      "outputs": [
        {
          "output_type": "stream",
          "text": [
            "Our CE loss: 0.34672737, Pytorch CE loss: 0.34672749\n",
            "Difference: 0.00000012\n"
          ],
          "name": "stdout"
        }
      ]
    },
    {
      "cell_type": "markdown",
      "metadata": {
        "execution": {},
        "id": "mqEdfjDdL6rn"
      },
      "source": [
        "[*Click for solution*](https://github.com/NeuromatchAcademy/course-content-dl/tree/main//tutorials/W1D3_MultiLayerPerceptrons/solutions/W1D3_Tutorial1_Solution_f3376d8f.py)\n",
        "\n"
      ]
    },
    {
      "cell_type": "markdown",
      "metadata": {
        "execution": {},
        "id": "3lV8QWSqL6ro"
      },
      "source": [
        "```\n",
        "Our CE loss: 0.34672737, Pytorch CE loss: 0.34672749\n",
        "Difference: 0.00000012\n",
        "```"
      ]
    },
    {
      "cell_type": "markdown",
      "metadata": {
        "execution": {},
        "id": "cH7RiMy2L6ro"
      },
      "source": [
        "## Section 2.2: Spiral classification dataset\n",
        "Before we could start optimizing these loss functions, we need a dataset!\n",
        "\n",
        "Let's turn this fancy-looking equation into a classification dataset"
      ]
    },
    {
      "cell_type": "markdown",
      "metadata": {
        "execution": {},
        "id": "40yO8YTOL6ro"
      },
      "source": [
        "\\begin{equation}\n",
        "\\begin{array}{c}\n",
        "X_{k}(t)=t\\left(\\begin{array}{c}\n",
        "\\sin \\left[\\frac{2 \\pi}{K}\\left(2 t+k-1\\right)\\right]+\\mathcal{N}\\left(0, \\sigma\\right) \\\\\n",
        "\\cos \\left[\\frac{2 \\pi}{K}\\left(2 t+k-1\\right)\\right]+\\mathcal{N}\\left(0, \\sigma\\right) \n",
        "\\end{array}\\right)\n",
        "\\end{array}, \\quad 0 \\leq t \\leq 1, \\quad k=1, \\ldots, K\n",
        "\\end{equation}"
      ]
    },
    {
      "cell_type": "code",
      "metadata": {
        "execution": {},
        "id": "k-oJ5tAaL6ro",
        "outputId": "17b531ea-f709-4ce7-a5b8-11dc2dc02520",
        "colab": {
          "base_uri": "https://localhost:8080/"
        }
      },
      "source": [
        "def create_spiral_dataset(K, sigma, N):\n",
        "\n",
        "  # Initialize t, X, y\n",
        "  t = torch.linspace(0, 1, N)\n",
        "  X = torch.zeros(K*N, 2)\n",
        "  y = torch.zeros(K*N)\n",
        "\n",
        "  # Create data\n",
        "  for k in range(K):\n",
        "    X[k*N:(k+1)*N, 0] = t*(torch.sin(2*np.pi/K*(2*t+k)) + sigma*torch.randn(N))\n",
        "    X[k*N:(k+1)*N, 1] = t*(torch.cos(2*np.pi/K*(2*t+k)) + sigma*torch.randn(N))\n",
        "    y[k*N:(k+1)*N] = k\n",
        "\n",
        "  return X, y\n",
        "\n",
        "\n",
        "# Set parameters\n",
        "K = 20\n",
        "sigma = 0.16\n",
        "N = 1000\n",
        "\n",
        "set_seed(seed=SEED)\n",
        "X, y = create_spiral_dataset(K, sigma, N)\n",
        "plt.scatter(X[:, 0], X[:, 1], c = y)\n",
        "plt.show()\n",
        "\n"
      ],
      "execution_count": null,
      "outputs": [
        {
          "output_type": "stream",
          "text": [
            "Random seed 2021 has been set.\n"
          ],
          "name": "stdout"
        }
      ]
    },
    {
      "cell_type": "markdown",
      "metadata": {
        "execution": {},
        "id": "WD5R6KpXL6ro"
      },
      "source": [
        "## Section 2.3: Training and Evaluation"
      ]
    },
    {
      "cell_type": "code",
      "metadata": {
        "cellView": "form",
        "execution": {},
        "id": "ZvqESpUeL6ro"
      },
      "source": [
        "# @title Video 4: Training and Evaluating an MLP\n",
        "from ipywidgets import widgets\n",
        "\n",
        "out2 = widgets.Output()\n",
        "with out2:\n",
        "  from IPython.display import IFrame\n",
        "  class BiliVideo(IFrame):\n",
        "    def __init__(self, id, page=1, width=400, height=300, **kwargs):\n",
        "      self.id=id\n",
        "      src = \"https://player.bilibili.com/player.html?bvid={0}&page={1}\".format(id, page)\n",
        "      super(BiliVideo, self).__init__(src, width, height, **kwargs)\n",
        "\n",
        "  video = BiliVideo(id=f\"BV1QV411p7mF\", width=854, height=480, fs=1)\n",
        "  print(\"Video available at https://www.bilibili.com/video/{0}\".format(video.id))\n",
        "  display(video)\n",
        "\n",
        "out1 = widgets.Output()\n",
        "with out1:\n",
        "  from IPython.display import YouTubeVideo\n",
        "  video = YouTubeVideo(id=f\"DfXZhRfBEqQ\", width=854, height=480, fs=1, rel=0)\n",
        "  print(\"Video available at https://youtube.com/watch?v=\" + video.id)\n",
        "  display(video)\n",
        "\n",
        "out = widgets.Tab([out1, out2])\n",
        "out.set_title(0, 'Youtube')\n",
        "out.set_title(1, 'Bilibili')\n",
        "\n",
        "# add event to airtable\n",
        "atform.add_event('Video 4: Training and Evaluating an MLP')\n",
        "\n",
        "display(out)"
      ],
      "execution_count": null,
      "outputs": []
    },
    {
      "cell_type": "markdown",
      "metadata": {
        "execution": {},
        "id": "LRB6B1uZL6rp"
      },
      "source": [
        "### Coding Exercise 2.3: Implement it for a classfication task\n",
        "Now that we have the Spiral dataset and a loss function, it's your turn to implement a simple train/test split for training and validation.\n",
        "\n",
        "Steps to follow: \n",
        "  * Dataset shuffle\n",
        "  * Train/Test split (20% for test)\n",
        "  * Dataloader definition\n",
        "  * Training and Evaluation"
      ]
    },
    {
      "cell_type": "code",
      "metadata": {
        "execution": {},
        "id": "cgnPZNRWL6rp"
      },
      "source": [
        "def shuffle_and_split_data(X, y, seed):\n",
        "  # set seed for reproducibility\n",
        "  torch.manual_seed(seed)\n",
        "  # Number of samples\n",
        "  N = X.shape[0]\n",
        "  ####################################################################\n",
        "  # Fill in missing code below (...),\n",
        "  # then remove or comment the line below to test your function\n",
        "  # raise NotImplementedError(\"Shuffle & split data\")\n",
        "  ####################################################################\n",
        "  # Shuffle data\n",
        "  shuffled_indices = torch.randperm(N)   # get indices to shuffle data, could use torch.randperm\n",
        "  X = X[shuffled_indices]\n",
        "  y = y[shuffled_indices]\n",
        "\n",
        "  # Split data into train/test\n",
        "  test_size =  int(0.2 * N)   # assign test datset size using 20% of samples\n",
        "  X_test = X[:test_size]\n",
        "  y_test = y[:test_size]\n",
        "  X_train = X[test_size:]\n",
        "  y_train = y[test_size:]\n",
        "\n",
        "  return X_test, y_test, X_train, y_train\n",
        "\n",
        "# add event to airtable\n",
        "atform.add_event('Coding Exercise 2.3: Implement for a classfication task')\n",
        "\n",
        "\n",
        "## Uncomment below to test your function\n",
        "X_test, y_test, X_train, y_train = shuffle_and_split_data(X, y, seed=SEED)\n",
        "plt.scatter(X_test[:, 0], X_test[:, 1], c=y_test)\n",
        "plt.title('Test data')\n",
        "plt.show()"
      ],
      "execution_count": null,
      "outputs": []
    },
    {
      "cell_type": "markdown",
      "metadata": {
        "execution": {},
        "id": "Qr96T55hL6rp"
      },
      "source": [
        "[*Click for solution*](https://github.com/NeuromatchAcademy/course-content-dl/tree/main//tutorials/W1D3_MultiLayerPerceptrons/solutions/W1D3_Tutorial1_Solution_083a4d77.py)\n",
        "\n",
        "*Example output:*\n",
        "\n",
        "<img alt='Solution hint' align='left' width=1120.0 height=832.0 src=https://raw.githubusercontent.com/NeuromatchAcademy/course-content-dl/main/tutorials/W1D3_MultiLayerPerceptrons/static/W1D3_Tutorial1_Solution_083a4d77_0.png>\n",
        "\n"
      ]
    },
    {
      "cell_type": "markdown",
      "metadata": {
        "execution": {},
        "id": "TODi9V12L6rp"
      },
      "source": [
        "And we need to make a Pytorch data loader out of it. Data loading in PyTorch can be separated in 2 parts:\n",
        "* Data must be wrapped on a Dataset parent class where the methods __getitem__ and __len__ must be overrided. Note that at this point the data is not loaded on memory. PyTorch will only load what is needed to the memory. Here `TensorDataset` does this for us directly.\n",
        "* Use a Dataloader that will actually read the data in batches and put into memory. Also, the option of `num_workers > 0` allows multithreading, which prepares multiple batches in the queue to speed things up."
      ]
    },
    {
      "cell_type": "code",
      "metadata": {
        "execution": {},
        "id": "7sb-5isnL6rp"
      },
      "source": [
        "g_seed = torch.Generator()\n",
        "g_seed.manual_seed(SEED)\n",
        "\n",
        "batch_size = 128\n",
        "test_data = TensorDataset(X_test, y_test)\n",
        "test_loader = DataLoader(test_data, batch_size=batch_size,\n",
        "                         shuffle=False, num_workers=2,\n",
        "                         worker_init_fn=seed_worker,\n",
        "                         generator=g_seed)\n",
        "\n",
        "train_data = TensorDataset(X_train, y_train)\n",
        "train_loader = DataLoader(train_data, batch_size=batch_size, drop_last=True,\n",
        "                        shuffle=True, num_workers=2,\n",
        "                         worker_init_fn=seed_worker,\n",
        "                         generator=g_seed)"
      ],
      "execution_count": null,
      "outputs": []
    },
    {
      "cell_type": "markdown",
      "metadata": {
        "execution": {},
        "id": "jvYy2qsjL6rp"
      },
      "source": [
        "Let's write a general-purpose training and evaluation code and keep it in our pocket for next tutorial as well. So make sure you review it to see what it does.\n",
        "\n",
        "Note that `model.train()` tells your model that you are training the model. So layers like dropout, batchnorm etc. which behave different on the train and test procedures know what is going on and hence can behave accordingly. And to turn off training mode we set `model.eval()`"
      ]
    },
    {
      "cell_type": "code",
      "metadata": {
        "execution": {},
        "id": "1nTX41NFL6rp"
      },
      "source": [
        "def train_test_classification(net, criterion, optimizer, train_loader,\n",
        "                              test_loader, num_epochs=1, verbose=True,\n",
        "                              training_plot=False, device='cpu'):\n",
        "\n",
        "  net.train()\n",
        "  training_losses = []\n",
        "  for epoch in tqdm(range(num_epochs)):  # loop over the dataset multiple times\n",
        "    running_loss = 0.0\n",
        "    for i, data in enumerate(train_loader, 0):\n",
        "      # get the inputs; data is a list of [inputs, labels]\n",
        "      inputs, labels = data\n",
        "      inputs = inputs.to(device).float()\n",
        "      labels = labels.to(device).long()\n",
        "\n",
        "      # zero the parameter gradients\n",
        "      optimizer.zero_grad()\n",
        "\n",
        "      # forward + backward + optimize\n",
        "      outputs = net(inputs)\n",
        "\n",
        "      loss = criterion(outputs, labels)\n",
        "      loss.backward()\n",
        "      optimizer.step()\n",
        "\n",
        "      # print statistics\n",
        "      if verbose:\n",
        "        training_losses += [loss.item()]\n",
        "\n",
        "  net.eval()\n",
        "  def test(data_loader):\n",
        "    correct = 0\n",
        "    total = 0\n",
        "    for data in data_loader:\n",
        "      inputs, labels = data\n",
        "      inputs = inputs.to(device).float()\n",
        "      labels = labels.to(device).long()\n",
        "\n",
        "      outputs = net(inputs)\n",
        "      _, predicted = torch.max(outputs, 1)\n",
        "      total += labels.size(0)\n",
        "      correct += (predicted == labels).sum().item()\n",
        "\n",
        "    acc = 100 * correct / total\n",
        "    return total, acc\n",
        "\n",
        "  train_total, train_acc = test(train_loader)\n",
        "  test_total, test_acc = test(test_loader)\n",
        "\n",
        "  if verbose:\n",
        "    print(f\"Accuracy on the {train_total} training samples: {train_acc:0.2f}\")\n",
        "    print(f\"Accuracy on the {test_total} testing samples: {test_acc:0.2f}\")\n",
        "\n",
        "  if training_plot:\n",
        "    plt.plot(training_losses)\n",
        "    plt.xlabel('Batch')\n",
        "    plt.ylabel('Training loss')\n",
        "    plt.show()\n",
        "\n",
        "  return train_acc, test_acc"
      ],
      "execution_count": null,
      "outputs": []
    },
    {
      "cell_type": "markdown",
      "metadata": {
        "execution": {},
        "id": "jJWxemISL6rp"
      },
      "source": [
        "### Think! 2.3.1: What's the point of .eval() and .train()?\n",
        "\n",
        "Is it necessary to use `net.train()` and `net.eval()` for our MLP model? why?"
      ]
    },
    {
      "cell_type": "code",
      "metadata": {
        "execution": {},
        "id": "YuJpSbWmL6rq"
      },
      "source": [
        "# @title Student Response\n",
        "from ipywidgets import widgets\n",
        "\n",
        "\n",
        "text=widgets.Textarea(\n",
        "   value='Type your answer here and click on `Submit!`',\n",
        "   placeholder='Type something',\n",
        "   description='',\n",
        "   disabled=False\n",
        ")\n",
        "\n",
        "button = widgets.Button(description=\"Submit!\")\n",
        "\n",
        "display(text,button)\n",
        "\n",
        "def on_button_clicked(b):\n",
        "   atform.add_answer('q1', text.value)\n",
        "   print(\"Submission successful!\")\n",
        "\n",
        "\n",
        "button.on_click(on_button_clicked)"
      ],
      "execution_count": null,
      "outputs": []
    },
    {
      "cell_type": "markdown",
      "metadata": {
        "execution": {},
        "id": "rdwOuqPXL6rq"
      },
      "source": [
        "[*Click for solution*](https://github.com/NeuromatchAcademy/course-content-dl/tree/main//tutorials/W1D3_MultiLayerPerceptrons/solutions/W1D3_Tutorial1_Solution_51988471.py)\n",
        "\n"
      ]
    },
    {
      "cell_type": "markdown",
      "metadata": {
        "execution": {},
        "id": "cbO74FsBL6rq"
      },
      "source": [
        "Now let's put everything together and train your first deep-ish model!"
      ]
    },
    {
      "cell_type": "code",
      "metadata": {
        "execution": {},
        "id": "hdlnl2WOL6rq"
      },
      "source": [
        "set_seed(SEED)\n",
        "net = Net('ReLU()', X_train.shape[1], [128], K).to(DEVICE)\n",
        "criterion = nn.CrossEntropyLoss()\n",
        "optimizer = optim.Adam(net.parameters(), lr=1e-3)\n",
        "num_epochs = 1000\n",
        "\n",
        "_, _ = train_test_classification(net, criterion, optimizer, train_loader,\n",
        "                                 test_loader, num_epochs=num_epochs,\n",
        "                                 training_plot=True, device=DEVICE)\n",
        "\n",
        "print(torch.cuda.is_available())\n",
        "print(X_train.shape.device)\n"
      ],
      "execution_count": null,
      "outputs": []
    },
    {
      "cell_type": "markdown",
      "metadata": {
        "execution": {},
        "id": "fDiaU6kmL6rq"
      },
      "source": [
        "And finally, let's visualize the learned decision-map. We know you're probably running out of time, so we won't make you write code now! But make sure you have reviewed it since we'll start with another visualization technique next time."
      ]
    },
    {
      "cell_type": "code",
      "metadata": {
        "execution": {},
        "id": "1Qdg5WZUL6rq"
      },
      "source": [
        "def sample_grid(M=500, x_max=2.0):\n",
        "  ii, jj = torch.meshgrid(torch.linspace(-x_max, x_max, M),\n",
        "                          torch.linspace(-x_max, x_max, M))\n",
        "  X_all = torch.cat([ii.unsqueeze(-1),\n",
        "                     jj.unsqueeze(-1)],\n",
        "                     dim=-1).view(-1, 2)\n",
        "  return X_all\n",
        "\n",
        "\n",
        "def plot_decision_map(X_all, y_pred, X_test, y_test,\n",
        "                      M=500, x_max=2.0, eps=1e-3):\n",
        "  decision_map = torch.argmax(y_pred, dim=1)\n",
        "\n",
        "  for i in range(len(X_test)):\n",
        "    indices = (X_all[:, 0] - X_test[i, 0])**2 + (X_all[:, 1] - X_test[i, 1])**2 < eps\n",
        "    decision_map[indices] = (K + y_test[i]).long()\n",
        "\n",
        "  decision_map = decision_map.view(M, M)\n",
        "  plt.imshow(decision_map, extent=[-x_max, x_max, -x_max, x_max], cmap='jet')\n",
        "  plt.show()"
      ],
      "execution_count": null,
      "outputs": []
    },
    {
      "cell_type": "code",
      "metadata": {
        "execution": {},
        "id": "L8uK2N4ML6rq"
      },
      "source": [
        "X_all = sample_grid()\n",
        "y_pred = net(X_all)\n",
        "plot_decision_map(X_all, y_pred, X_test, y_test)"
      ],
      "execution_count": null,
      "outputs": []
    },
    {
      "cell_type": "markdown",
      "metadata": {
        "execution": {},
        "id": "jvdFgsWYL6rq"
      },
      "source": [
        "### Think! 2.3.2: Does it generalize well?\n",
        "Do you think this model is performing well outside its training distribution? Why?"
      ]
    },
    {
      "cell_type": "code",
      "metadata": {
        "cellView": "form",
        "execution": {},
        "id": "S8cBO1Y6L6rr"
      },
      "source": [
        "# @title Student Response\n",
        "from ipywidgets import widgets\n",
        "\n",
        "\n",
        "text=widgets.Textarea(\n",
        "   value='Type your answer here and click on `Submit!`',\n",
        "   placeholder='Type something',\n",
        "   description='',\n",
        "   disabled=False\n",
        ")\n",
        "\n",
        "button = widgets.Button(description=\"Submit!\")\n",
        "\n",
        "display(text,button)\n",
        "\n",
        "def on_button_clicked(b):\n",
        "   atform.add_answer('q2' , text.value)\n",
        "   print(\"Submission successful!\")\n",
        "\n",
        "\n",
        "button.on_click(on_button_clicked)"
      ],
      "execution_count": null,
      "outputs": []
    },
    {
      "cell_type": "markdown",
      "metadata": {
        "execution": {},
        "id": "pc3aqU4lL6rr"
      },
      "source": [
        "[*Click for solution*](https://github.com/NeuromatchAcademy/course-content-dl/tree/main//tutorials/W1D3_MultiLayerPerceptrons/solutions/W1D3_Tutorial1_Solution_d90d9e4b.py)\n",
        "\n"
      ]
    },
    {
      "cell_type": "markdown",
      "metadata": {
        "execution": {},
        "id": "jIN7g1A4L6ru"
      },
      "source": [
        "What would be your suggestions to increase models ability to generalize? Think about it and discuss with your pod."
      ]
    },
    {
      "cell_type": "markdown",
      "metadata": {
        "execution": {},
        "id": "2oQv_dkbL6ru"
      },
      "source": [
        "---\n",
        "# Summary\n",
        "\n",
        "In this tutorial we have explored the Multi-leayer Perceptrons (MLPs). More specifically, we have discuss the similarities of artificial and biological neural networks (for more information see the Bonus section), we have learned the Universal Approximation Theorem, and we have implemented MLPs in PyTorch."
      ]
    },
    {
      "cell_type": "code",
      "metadata": {
        "cellView": "form",
        "execution": {},
        "id": "N7z5R-LNL6rv"
      },
      "source": [
        "# @title Airtable Submission Link\n",
        "from IPython import display as IPydisplay\n",
        "IPydisplay.HTML(\n",
        "   f\"\"\"\n",
        " <div>\n",
        "   <a href= \"{atform.url()}\" target=\"_blank\">\n",
        "   <img src=\"https://github.com/NeuromatchAcademy/course-content-dl/blob/main/tutorials/static/AirtableSubmissionButton.png?raw=1\"\n",
        " alt=\"button link to Airtable\" style=\"width:410px\"></a>\n",
        "   </div>\"\"\" )"
      ],
      "execution_count": null,
      "outputs": []
    },
    {
      "cell_type": "markdown",
      "metadata": {
        "execution": {},
        "id": "cXfiEJdrL6rv"
      },
      "source": [
        "---\n",
        "# Bonus: Neuron Physiology and Motivation to Deep Learning\n",
        "\n",
        "This section will motivate one of the most popular nonlinearities in deep learning, the ReLU nonlinearity, by starting from the biophysics of neurons and obtaining the ReLU nonlinearity through a sequence of approximations. We will also show that neuronal biophysics sets a time scale for signal propagation speed through the brain. This time scale implies that neural circuits underlying fast perceptual and motor processing in the brain may not be excessively deep. \n",
        "\n",
        "This biological motivation for deep learning is not strictly necessary to follow the rest of this course, so this section can be safely skipped and **is a bonus section**."
      ]
    },
    {
      "cell_type": "code",
      "metadata": {
        "cellView": "form",
        "execution": {},
        "id": "I4caJ_SnL6rw"
      },
      "source": [
        "# @title Video 5: Biological to Artificial Neurons\n",
        "from ipywidgets import widgets\n",
        "\n",
        "out2 = widgets.Output()\n",
        "with out2:\n",
        "  from IPython.display import IFrame\n",
        "  class BiliVideo(IFrame):\n",
        "    def __init__(self, id, page=1, width=400, height=300, **kwargs):\n",
        "      self.id=id\n",
        "      src = \"https://player.bilibili.com/player.html?bvid={0}&page={1}\".format(id, page)\n",
        "      super(BiliVideo, self).__init__(src, width, height, **kwargs)\n",
        "\n",
        "  video = BiliVideo(id=f\"BV1mf4y157vf\", width=854, height=480, fs=1)\n",
        "  print(\"Video available at https://www.bilibili.com/video/{0}\".format(video.id))\n",
        "  display(video)\n",
        "\n",
        "out1 = widgets.Output()\n",
        "with out1:\n",
        "  from IPython.display import YouTubeVideo\n",
        "  video = YouTubeVideo(id=f\"ELAbflymSLo\", width=854, height=480, fs=1, rel=0)\n",
        "  print(\"Video available at https://youtube.com/watch?v=\" + video.id)\n",
        "  display(video)\n",
        "\n",
        "out = widgets.Tab([out1, out2])\n",
        "out.set_title(0, 'Youtube')\n",
        "out.set_title(1, 'Bilibili')\n",
        "\n",
        "# add event to airtable\n",
        "atform.add_event('Video 5: Biological to Artificial Neurons')\n",
        "\n",
        "display(out)"
      ],
      "execution_count": null,
      "outputs": []
    },
    {
      "cell_type": "markdown",
      "metadata": {
        "execution": {},
        "id": "gv8Yw3aiL6rw"
      },
      "source": [
        "## Leaky Integrate-and-fire (LIF)\n",
        "The basic idea of LIF neuron was proposed in 1907 by Louis Édouard Lapicque, long before we understood the electrophysiology of a neuron (see a translation of [Lapicque's paper](https://pubmed.ncbi.nlm.nih.gov/17968583/) ). More details of the model can be found in the book [**Theoretical neuroscience**](http://www.gatsby.ucl.ac.uk/~dayan/book/) by Peter Dayan and Laurence F. Abbott.\n",
        "\n",
        "The model dynamics is defined with the following formula,\n",
        "\n",
        "\n",
        "\\begin{equation}\n",
        "\\frac{d V}{d t}=\\left\\{\\begin{array}{cc}\n",
        "\\frac{1}{C}\\left(-\\frac{V}{R}+I \\right) & t>t_{r e s t} \\\\\n",
        "0 & \\text { otherwise }\n",
        "\\end{array}\\right.\n",
        "\\end{equation}\n",
        "\n",
        "\n",
        "Note that $V$, $C$, and $R$ are the membrane voltage, capacitance, and resitance of the neuron respectively and $-\\frac{V}{R}$ is the leakage current. When $I$ is sufficiently strong such that $V$ reaches a certain threshold value $V_{\\rm th}$, it momentarily spikes and then $V$ is reset to $V_{\\rm reset}< V_{\\rm th}$, and voltage stays at $V_{\\rm reset}$ for $\\tau_{\\rm ref}$ ms, mimicking the refractoriness of the neuron during an action potential (note that $V_{\\rm reset}$ and $\\tau_{\\rm ref}$ is assumed to be zero in the lecture):\n",
        "\n",
        "\n",
        "\\begin{eqnarray}\n",
        "V(t)=V_{\\rm reset} \\text{  for } t\\in(t_{\\text{sp}}, t_{\\text{sp}} + \\tau_{\\text{ref}}]\n",
        "\\end{eqnarray}\n",
        "\n",
        "\n",
        "where $t_{\\rm sp}$ is the spike time when $V(t)$ just exceeded $V_{\\rm th}$.\n",
        "\n",
        "Thus, the LIF model captures the facts that a neuron:\n",
        "- performs spatial and temporal integration of synaptic inputs \n",
        "- generates a spike when the voltage reaches a certain threshold\n",
        "- goes refractory during the action potential\n",
        "- has a leaky membrane \n",
        "\n",
        "For in-depth content on computational models of neurons, follow the [NMA](https://www.neuromatchacademy.org/) tutorial 1 of *Biological Neuron Models*. Specifically, for NMA-CN 2021 follow this [Tutorial](https://github.com/NeuromatchAcademy/course-content/blob/master/tutorials/W2D3_BiologicalNeuronModels/W2D3_Tutorial1.ipynb).\n"
      ]
    },
    {
      "cell_type": "markdown",
      "metadata": {
        "execution": {},
        "id": "_q3bBKnIL6rw"
      },
      "source": [
        "## Simulating an LIF Neuron\n",
        "\n",
        "In the cell below is given a function for LIF neuron model with it's arguments described.\n",
        "\n",
        "Note that we will use Euler's method to make a numerical approximation to a derivative. Hence we will use the following implementation of the model dynamics,\n",
        "\n",
        "\\begin{equation}\n",
        "V_n=\\left\\{\\begin{array}{cc}\n",
        "V_{n-1} + \\frac{1}{C}\\left(-\\frac{V}{R}+I \\right) \\Delta t & t>t_{r e s t} \\\\\n",
        "0 & \\text { otherwise }\n",
        "\\end{array}\\right.\n",
        "\\end{equation}"
      ]
    },
    {
      "cell_type": "code",
      "metadata": {
        "execution": {},
        "id": "s5eESX3LL6rw"
      },
      "source": [
        "def run_LIF(I, T=50, dt=0.1, t_ref=10,\n",
        "            Rm=1, Cm=10, Vth=1, V_spike=0.5):\n",
        "  \"\"\"\n",
        "  Simulate the LIF dynamics with external input current\n",
        "\n",
        "  Args:\n",
        "    I          : input current (mA)\n",
        "    T          : total time to simulate (msec)\n",
        "    dt         : simulation time step (msec)\n",
        "    t_ref      : refractory period (msec)\n",
        "    Rm         : resistance (kOhm)\n",
        "    Cm         : capacitance (uF)\n",
        "    Vth        : spike threshold (V)\n",
        "    V_spike    : spike delta (V)\n",
        "\n",
        "  Returns:\n",
        "    time       : time points\n",
        "    Vm         : membrane potentials\n",
        "  \"\"\"\n",
        "\n",
        "  # Set up array of time steps\n",
        "  time = torch.arange(0, T+dt, dt)\n",
        "\n",
        "  # Set up array for tracking Vm\n",
        "  Vm = torch.zeros(len(time))\n",
        "\n",
        "  # Iterate over each time step\n",
        "  t_rest = 0\n",
        "  for i, t in enumerate(time):\n",
        "\n",
        "    # If t is after refractory period\n",
        "    if t > t_rest:\n",
        "      Vm[i] = Vm[i-1] + 1/Cm*(-Vm[i-1]/Rm + I)  * dt\n",
        "\n",
        "    # If Vm is over the threshold\n",
        "    if Vm[i] >= Vth:\n",
        "\n",
        "      # Increase volatage by change due to spike\n",
        "      Vm[i] += V_spike\n",
        "\n",
        "      # Set up new refactory period\n",
        "      t_rest = t + t_ref\n",
        "\n",
        "  return time, Vm\n",
        "\n",
        "\n",
        "sim_time, Vm = run_LIF(1.5)\n",
        "# Plot the membrane voltage across time\n",
        "plt.plot(sim_time, Vm)\n",
        "plt.title('LIF Neuron Output')\n",
        "plt.ylabel('Membrane Potential (V)')\n",
        "plt.xlabel('Time (msec)')\n",
        "plt.show()"
      ],
      "execution_count": null,
      "outputs": []
    },
    {
      "cell_type": "markdown",
      "metadata": {
        "execution": {},
        "id": "eQz8ugHdL6rw"
      },
      "source": [
        "### Interactive Demo: Neuron's transfer function explorer for different $R_m$ and $t_{ref}$\n",
        "We know that real neurons communicate by modulating the spike count meaning that more input current causes a neuron to spike more often. Therefore, to find an input-output relationship, it makes sense to characterize their spike count as a function of input current. This is called the neuron's input-output transfer function. Let's plot the neuron's transfer function and see how it changes with respect to the **membrane resistance** and **refractory time**? "
      ]
    },
    {
      "cell_type": "code",
      "metadata": {
        "cellView": "form",
        "execution": {},
        "id": "Yz6lyXT9L6rw"
      },
      "source": [
        "# @title\n",
        "\n",
        "# @markdown Make sure you execute this cell to enable the widget!\n",
        "my_layout = widgets.Layout()\n",
        "\n",
        "@widgets.interact(Rm=widgets.FloatSlider(1., min=1, max=100.,\n",
        "                                         step=0.1, layout=my_layout),\n",
        "                  t_ref=widgets.FloatSlider(1., min=1, max=100.,\n",
        "                                            step=0.1, layout=my_layout)\n",
        "                  )\n",
        "\n",
        "\n",
        "def plot_IF_curve(Rm, t_ref):\n",
        "  T = 1000 # total time to simulate (msec)\n",
        "  dt = 1 # simulation time step (msec)\n",
        "  Vth = 1 # spike threshold (V)\n",
        "  Is_max = 2\n",
        "  Is = torch.linspace(0, Is_max, 10)\n",
        "  spike_counts = []\n",
        "  for I in Is:\n",
        "    _, Vm = run_LIF(I, T=T, dt=dt, Vth=Vth, Rm=Rm, t_ref=t_ref)\n",
        "    spike_counts += [torch.sum(Vm > Vth)]\n",
        "\n",
        "  plt.plot(Is, spike_counts)\n",
        "  plt.title('LIF Neuron: Transfer Function')\n",
        "  plt.ylabel('Spike count')\n",
        "  plt.xlabel('I (mA)')\n",
        "  plt.xlim(0, Is_max)\n",
        "  plt.ylim(0, 80)\n",
        "  plt.show()"
      ],
      "execution_count": null,
      "outputs": []
    },
    {
      "cell_type": "markdown",
      "metadata": {
        "execution": {},
        "id": "D770vAuCL6rx"
      },
      "source": [
        "### Think!: Real and Artificial neuron similarities\n",
        "\n",
        "What happens at infinite membrane resistance ($R_m$) and small refactory time ($t_{ref}$)? Why?\n",
        "\n",
        "Take 10 mins to discuss the similarity between a real neuron and an artificial one with your pod."
      ]
    },
    {
      "cell_type": "markdown",
      "metadata": {
        "execution": {},
        "id": "qh3PFFcCL6rx"
      },
      "source": [
        "[*Click for solution*](https://github.com/NeuromatchAcademy/course-content-dl/tree/main//tutorials/W1D3_MultiLayerPerceptrons/solutions/W1D3_Tutorial1_Solution_d58d2933.py)\n",
        "\n"
      ]
    }
  ]
}