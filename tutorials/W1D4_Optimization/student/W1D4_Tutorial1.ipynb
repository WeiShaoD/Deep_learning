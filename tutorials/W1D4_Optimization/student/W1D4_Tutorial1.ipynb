{
  "nbformat": 4,
  "nbformat_minor": 0,
  "metadata": {
    "colab": {
      "name": "W1D4_Tutorial1",
      "provenance": [],
      "collapsed_sections": [],
      "toc_visible": true,
      "include_colab_link": true
    },
    "kernel": {
      "display_name": "Python 3",
      "language": "python",
      "name": "python3"
    },
    "kernelspec": {
      "display_name": "Python 3",
      "language": "python",
      "name": "python3"
    },
    "language_info": {
      "codemirror_mode": {
        "name": "ipython",
        "version": 3
      },
      "file_extension": ".py",
      "mimetype": "text/x-python",
      "name": "python",
      "nbconvert_exporter": "python",
      "pygments_lexer": "ipython3",
      "version": "3.7.11"
    },
    "toc-autonumbering": true,
    "varInspector": {
      "cols": {
        "lenName": 16,
        "lenType": 16,
        "lenVar": 40
      },
      "kernels_config": {
        "python": {
          "delete_cmd_postfix": "",
          "delete_cmd_prefix": "del ",
          "library": "var_list.py",
          "varRefreshCmd": "print(var_dic_list())"
        },
        "r": {
          "delete_cmd_postfix": ") ",
          "delete_cmd_prefix": "rm(",
          "library": "var_list.r",
          "varRefreshCmd": "cat(var_dic_list()) "
        }
      },
      "types_to_exclude": [
        "module",
        "function",
        "builtin_function_or_method",
        "instance",
        "_Feature"
      ],
      "window_display": false
    },
    "accelerator": "GPU",
    "widgets": {
      "application/vnd.jupyter.widget-state+json": {
        "22c2ca9f919f469c92f8a3f9aa1547a0": {
          "model_module": "@jupyter-widgets/controls",
          "model_name": "TabModel",
          "model_module_version": "1.5.0",
          "state": {
            "_view_name": "TabView",
            "_dom_classes": [],
            "_titles": {
              "0": "Youtube",
              "1": "Bilibili"
            },
            "_model_name": "TabModel",
            "_view_module": "@jupyter-widgets/controls",
            "selected_index": 0,
            "_model_module_version": "1.5.0",
            "_view_count": null,
            "_view_module_version": "1.5.0",
            "box_style": "",
            "layout": "IPY_MODEL_104a22d5c988434093af0b2002b83cdd",
            "_model_module": "@jupyter-widgets/controls",
            "children": [
              "IPY_MODEL_1e3a6d93aa9a4b5f920d2470bc2dcd85",
              "IPY_MODEL_849b1ab9ac684d50ae06fcd6786dda18"
            ]
          }
        },
        "104a22d5c988434093af0b2002b83cdd": {
          "model_module": "@jupyter-widgets/base",
          "model_name": "LayoutModel",
          "model_module_version": "1.2.0",
          "state": {
            "_view_name": "LayoutView",
            "grid_template_rows": null,
            "right": null,
            "justify_content": null,
            "_view_module": "@jupyter-widgets/base",
            "overflow": null,
            "_model_module_version": "1.2.0",
            "_view_count": null,
            "flex_flow": null,
            "width": null,
            "min_width": null,
            "border": null,
            "align_items": null,
            "bottom": null,
            "_model_module": "@jupyter-widgets/base",
            "top": null,
            "grid_column": null,
            "overflow_y": null,
            "overflow_x": null,
            "grid_auto_flow": null,
            "grid_area": null,
            "grid_template_columns": null,
            "flex": null,
            "_model_name": "LayoutModel",
            "justify_items": null,
            "grid_row": null,
            "max_height": null,
            "align_content": null,
            "visibility": null,
            "align_self": null,
            "height": null,
            "min_height": null,
            "padding": null,
            "grid_auto_rows": null,
            "grid_gap": null,
            "max_width": null,
            "order": null,
            "_view_module_version": "1.2.0",
            "grid_template_areas": null,
            "object_position": null,
            "object_fit": null,
            "grid_auto_columns": null,
            "margin": null,
            "display": null,
            "left": null
          }
        },
        "1e3a6d93aa9a4b5f920d2470bc2dcd85": {
          "model_module": "@jupyter-widgets/output",
          "model_name": "OutputModel",
          "model_module_version": "1.0.0",
          "state": {
            "_view_name": "OutputView",
            "msg_id": "",
            "_dom_classes": [],
            "_model_name": "OutputModel",
            "outputs": [
              {
                "output_type": "stream",
                "metadata": {
                  "tags": []
                },
                "text": "Video available at https://youtube.com/watch?v=zm9oekdkJbQ\n",
                "stream": "stdout"
              },
              {
                "output_type": "display_data",
                "metadata": {
                  "tags": []
                },
                "text/html": "\n        <iframe\n            width=\"854\"\n            height=\"480\"\n            src=\"https://www.youtube.com/embed/zm9oekdkJbQ?fs=1&rel=0\"\n            frameborder=\"0\"\n            allowfullscreen\n        ></iframe>\n        ",
                "text/plain": "<IPython.lib.display.YouTubeVideo at 0x7f6943515fd0>",
                "image/jpeg": "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\n"
              }
            ],
            "_view_module": "@jupyter-widgets/output",
            "_model_module_version": "1.0.0",
            "_view_count": null,
            "_view_module_version": "1.0.0",
            "layout": "IPY_MODEL_68eeee88426842d7906072118918121c",
            "_model_module": "@jupyter-widgets/output"
          }
        },
        "849b1ab9ac684d50ae06fcd6786dda18": {
          "model_module": "@jupyter-widgets/output",
          "model_name": "OutputModel",
          "model_module_version": "1.0.0",
          "state": {
            "_view_name": "OutputView",
            "msg_id": "",
            "_dom_classes": [],
            "_model_name": "OutputModel",
            "outputs": [
              {
                "output_type": "stream",
                "metadata": {
                  "tags": []
                },
                "text": "Video available at https://www.bilibili.com/video/BV1VB4y1K7Vr\n",
                "stream": "stdout"
              },
              {
                "output_type": "display_data",
                "metadata": {
                  "tags": []
                },
                "text/html": "\n        <iframe\n            width=\"854\"\n            height=\"480\"\n            src=\"https://player.bilibili.com/player.html?bvid=BV1VB4y1K7Vr&page=1?fs=1\"\n            frameborder=\"0\"\n            allowfullscreen\n        ></iframe>\n        ",
                "text/plain": "<__main__.BiliVideo at 0x7f6942d592d0>"
              }
            ],
            "_view_module": "@jupyter-widgets/output",
            "_model_module_version": "1.0.0",
            "_view_count": null,
            "_view_module_version": "1.0.0",
            "layout": "IPY_MODEL_9d3404c963dc487ab6d9125e15239e65",
            "_model_module": "@jupyter-widgets/output"
          }
        },
        "68eeee88426842d7906072118918121c": {
          "model_module": "@jupyter-widgets/base",
          "model_name": "LayoutModel",
          "model_module_version": "1.2.0",
          "state": {
            "_view_name": "LayoutView",
            "grid_template_rows": null,
            "right": null,
            "justify_content": null,
            "_view_module": "@jupyter-widgets/base",
            "overflow": null,
            "_model_module_version": "1.2.0",
            "_view_count": null,
            "flex_flow": null,
            "width": null,
            "min_width": null,
            "border": null,
            "align_items": null,
            "bottom": null,
            "_model_module": "@jupyter-widgets/base",
            "top": null,
            "grid_column": null,
            "overflow_y": null,
            "overflow_x": null,
            "grid_auto_flow": null,
            "grid_area": null,
            "grid_template_columns": null,
            "flex": null,
            "_model_name": "LayoutModel",
            "justify_items": null,
            "grid_row": null,
            "max_height": null,
            "align_content": null,
            "visibility": null,
            "align_self": null,
            "height": null,
            "min_height": null,
            "padding": null,
            "grid_auto_rows": null,
            "grid_gap": null,
            "max_width": null,
            "order": null,
            "_view_module_version": "1.2.0",
            "grid_template_areas": null,
            "object_position": null,
            "object_fit": null,
            "grid_auto_columns": null,
            "margin": null,
            "display": null,
            "left": null
          }
        },
        "9d3404c963dc487ab6d9125e15239e65": {
          "model_module": "@jupyter-widgets/base",
          "model_name": "LayoutModel",
          "model_module_version": "1.2.0",
          "state": {
            "_view_name": "LayoutView",
            "grid_template_rows": null,
            "right": null,
            "justify_content": null,
            "_view_module": "@jupyter-widgets/base",
            "overflow": null,
            "_model_module_version": "1.2.0",
            "_view_count": null,
            "flex_flow": null,
            "width": null,
            "min_width": null,
            "border": null,
            "align_items": null,
            "bottom": null,
            "_model_module": "@jupyter-widgets/base",
            "top": null,
            "grid_column": null,
            "overflow_y": null,
            "overflow_x": null,
            "grid_auto_flow": null,
            "grid_area": null,
            "grid_template_columns": null,
            "flex": null,
            "_model_name": "LayoutModel",
            "justify_items": null,
            "grid_row": null,
            "max_height": null,
            "align_content": null,
            "visibility": null,
            "align_self": null,
            "height": null,
            "min_height": null,
            "padding": null,
            "grid_auto_rows": null,
            "grid_gap": null,
            "max_width": null,
            "order": null,
            "_view_module_version": "1.2.0",
            "grid_template_areas": null,
            "object_position": null,
            "object_fit": null,
            "grid_auto_columns": null,
            "margin": null,
            "display": null,
            "left": null
          }
        },
        "442e9418e3044b1ca86836e9732a18e6": {
          "model_module": "@jupyter-widgets/controls",
          "model_name": "TabModel",
          "model_module_version": "1.5.0",
          "state": {
            "_view_name": "TabView",
            "_dom_classes": [],
            "_titles": {
              "0": "Youtube",
              "1": "Bilibili"
            },
            "_model_name": "TabModel",
            "_view_module": "@jupyter-widgets/controls",
            "selected_index": 0,
            "_model_module_version": "1.5.0",
            "_view_count": null,
            "_view_module_version": "1.5.0",
            "box_style": "",
            "layout": "IPY_MODEL_810827fd05974a519f9d7c76cbd6eb14",
            "_model_module": "@jupyter-widgets/controls",
            "children": [
              "IPY_MODEL_8202bf5896e74cbe81027299bd4380b4",
              "IPY_MODEL_28eb844cd5284d918f5d491d8b872f1f"
            ]
          }
        },
        "810827fd05974a519f9d7c76cbd6eb14": {
          "model_module": "@jupyter-widgets/base",
          "model_name": "LayoutModel",
          "model_module_version": "1.2.0",
          "state": {
            "_view_name": "LayoutView",
            "grid_template_rows": null,
            "right": null,
            "justify_content": null,
            "_view_module": "@jupyter-widgets/base",
            "overflow": null,
            "_model_module_version": "1.2.0",
            "_view_count": null,
            "flex_flow": null,
            "width": null,
            "min_width": null,
            "border": null,
            "align_items": null,
            "bottom": null,
            "_model_module": "@jupyter-widgets/base",
            "top": null,
            "grid_column": null,
            "overflow_y": null,
            "overflow_x": null,
            "grid_auto_flow": null,
            "grid_area": null,
            "grid_template_columns": null,
            "flex": null,
            "_model_name": "LayoutModel",
            "justify_items": null,
            "grid_row": null,
            "max_height": null,
            "align_content": null,
            "visibility": null,
            "align_self": null,
            "height": null,
            "min_height": null,
            "padding": null,
            "grid_auto_rows": null,
            "grid_gap": null,
            "max_width": null,
            "order": null,
            "_view_module_version": "1.2.0",
            "grid_template_areas": null,
            "object_position": null,
            "object_fit": null,
            "grid_auto_columns": null,
            "margin": null,
            "display": null,
            "left": null
          }
        },
        "8202bf5896e74cbe81027299bd4380b4": {
          "model_module": "@jupyter-widgets/output",
          "model_name": "OutputModel",
          "model_module_version": "1.0.0",
          "state": {
            "_view_name": "OutputView",
            "msg_id": "",
            "_dom_classes": [],
            "_model_name": "OutputModel",
            "outputs": [
              {
                "output_type": "stream",
                "metadata": {
                  "tags": []
                },
                "text": "Video available at https://youtube.com/watch?v=pJc2ENhYbqA\n",
                "stream": "stdout"
              },
              {
                "output_type": "display_data",
                "metadata": {
                  "tags": []
                },
                "text/html": "\n        <iframe\n            width=\"854\"\n            height=\"480\"\n            src=\"https://www.youtube.com/embed/pJc2ENhYbqA?fs=1&rel=0\"\n            frameborder=\"0\"\n            allowfullscreen\n        ></iframe>\n        ",
                "text/plain": "<IPython.lib.display.YouTubeVideo at 0x7f6942d80ed0>",
                "image/jpeg": "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\n"
              }
            ],
            "_view_module": "@jupyter-widgets/output",
            "_model_module_version": "1.0.0",
            "_view_count": null,
            "_view_module_version": "1.0.0",
            "layout": "IPY_MODEL_aac90606e9914a328605eb4e405242e9",
            "_model_module": "@jupyter-widgets/output"
          }
        },
        "28eb844cd5284d918f5d491d8b872f1f": {
          "model_module": "@jupyter-widgets/output",
          "model_name": "OutputModel",
          "model_module_version": "1.0.0",
          "state": {
            "_view_name": "OutputView",
            "msg_id": "",
            "_dom_classes": [],
            "_model_name": "OutputModel",
            "outputs": [
              {
                "output_type": "stream",
                "metadata": {
                  "tags": []
                },
                "text": "Video available at https://www.bilibili.com/video/BV1GB4y1K7Ha\n",
                "stream": "stdout"
              },
              {
                "output_type": "display_data",
                "metadata": {
                  "tags": []
                },
                "text/html": "\n        <iframe\n            width=\"854\"\n            height=\"480\"\n            src=\"https://player.bilibili.com/player.html?bvid=BV1GB4y1K7Ha&page=1?fs=1\"\n            frameborder=\"0\"\n            allowfullscreen\n        ></iframe>\n        ",
                "text/plain": "<__main__.BiliVideo at 0x7f69a43ab2d0>"
              }
            ],
            "_view_module": "@jupyter-widgets/output",
            "_model_module_version": "1.0.0",
            "_view_count": null,
            "_view_module_version": "1.0.0",
            "layout": "IPY_MODEL_1d170dc89a944478b114b072847a65c0",
            "_model_module": "@jupyter-widgets/output"
          }
        },
        "aac90606e9914a328605eb4e405242e9": {
          "model_module": "@jupyter-widgets/base",
          "model_name": "LayoutModel",
          "model_module_version": "1.2.0",
          "state": {
            "_view_name": "LayoutView",
            "grid_template_rows": null,
            "right": null,
            "justify_content": null,
            "_view_module": "@jupyter-widgets/base",
            "overflow": null,
            "_model_module_version": "1.2.0",
            "_view_count": null,
            "flex_flow": null,
            "width": null,
            "min_width": null,
            "border": null,
            "align_items": null,
            "bottom": null,
            "_model_module": "@jupyter-widgets/base",
            "top": null,
            "grid_column": null,
            "overflow_y": null,
            "overflow_x": null,
            "grid_auto_flow": null,
            "grid_area": null,
            "grid_template_columns": null,
            "flex": null,
            "_model_name": "LayoutModel",
            "justify_items": null,
            "grid_row": null,
            "max_height": null,
            "align_content": null,
            "visibility": null,
            "align_self": null,
            "height": null,
            "min_height": null,
            "padding": null,
            "grid_auto_rows": null,
            "grid_gap": null,
            "max_width": null,
            "order": null,
            "_view_module_version": "1.2.0",
            "grid_template_areas": null,
            "object_position": null,
            "object_fit": null,
            "grid_auto_columns": null,
            "margin": null,
            "display": null,
            "left": null
          }
        },
        "1d170dc89a944478b114b072847a65c0": {
          "model_module": "@jupyter-widgets/base",
          "model_name": "LayoutModel",
          "model_module_version": "1.2.0",
          "state": {
            "_view_name": "LayoutView",
            "grid_template_rows": null,
            "right": null,
            "justify_content": null,
            "_view_module": "@jupyter-widgets/base",
            "overflow": null,
            "_model_module_version": "1.2.0",
            "_view_count": null,
            "flex_flow": null,
            "width": null,
            "min_width": null,
            "border": null,
            "align_items": null,
            "bottom": null,
            "_model_module": "@jupyter-widgets/base",
            "top": null,
            "grid_column": null,
            "overflow_y": null,
            "overflow_x": null,
            "grid_auto_flow": null,
            "grid_area": null,
            "grid_template_columns": null,
            "flex": null,
            "_model_name": "LayoutModel",
            "justify_items": null,
            "grid_row": null,
            "max_height": null,
            "align_content": null,
            "visibility": null,
            "align_self": null,
            "height": null,
            "min_height": null,
            "padding": null,
            "grid_auto_rows": null,
            "grid_gap": null,
            "max_width": null,
            "order": null,
            "_view_module_version": "1.2.0",
            "grid_template_areas": null,
            "object_position": null,
            "object_fit": null,
            "grid_auto_columns": null,
            "margin": null,
            "display": null,
            "left": null
          }
        },
        "758b9bf189324c639defa8f740061259": {
          "model_module": "@jupyter-widgets/controls",
          "model_name": "TabModel",
          "model_module_version": "1.5.0",
          "state": {
            "_view_name": "TabView",
            "_dom_classes": [],
            "_titles": {
              "0": "Youtube",
              "1": "Bilibili"
            },
            "_model_name": "TabModel",
            "_view_module": "@jupyter-widgets/controls",
            "selected_index": 0,
            "_model_module_version": "1.5.0",
            "_view_count": null,
            "_view_module_version": "1.5.0",
            "box_style": "",
            "layout": "IPY_MODEL_7cccc9bea9b84dd9b76e5cbee8626b77",
            "_model_module": "@jupyter-widgets/controls",
            "children": [
              "IPY_MODEL_a9ce4aa3688e4a3da1ee0f67b897ff46",
              "IPY_MODEL_e84ab9c2096e44f49af9e418285979b9"
            ]
          }
        },
        "7cccc9bea9b84dd9b76e5cbee8626b77": {
          "model_module": "@jupyter-widgets/base",
          "model_name": "LayoutModel",
          "model_module_version": "1.2.0",
          "state": {
            "_view_name": "LayoutView",
            "grid_template_rows": null,
            "right": null,
            "justify_content": null,
            "_view_module": "@jupyter-widgets/base",
            "overflow": null,
            "_model_module_version": "1.2.0",
            "_view_count": null,
            "flex_flow": null,
            "width": null,
            "min_width": null,
            "border": null,
            "align_items": null,
            "bottom": null,
            "_model_module": "@jupyter-widgets/base",
            "top": null,
            "grid_column": null,
            "overflow_y": null,
            "overflow_x": null,
            "grid_auto_flow": null,
            "grid_area": null,
            "grid_template_columns": null,
            "flex": null,
            "_model_name": "LayoutModel",
            "justify_items": null,
            "grid_row": null,
            "max_height": null,
            "align_content": null,
            "visibility": null,
            "align_self": null,
            "height": null,
            "min_height": null,
            "padding": null,
            "grid_auto_rows": null,
            "grid_gap": null,
            "max_width": null,
            "order": null,
            "_view_module_version": "1.2.0",
            "grid_template_areas": null,
            "object_position": null,
            "object_fit": null,
            "grid_auto_columns": null,
            "margin": null,
            "display": null,
            "left": null
          }
        },
        "a9ce4aa3688e4a3da1ee0f67b897ff46": {
          "model_module": "@jupyter-widgets/output",
          "model_name": "OutputModel",
          "model_module_version": "1.0.0",
          "state": {
            "_view_name": "OutputView",
            "msg_id": "",
            "_dom_classes": [],
            "_model_name": "OutputModel",
            "outputs": [
              {
                "output_type": "stream",
                "metadata": {
                  "tags": []
                },
                "text": "Video available at https://youtube.com/watch?v=aSJTRdjRvvw\n",
                "stream": "stdout"
              },
              {
                "output_type": "display_data",
                "metadata": {
                  "tags": []
                },
                "text/html": "\n        <iframe\n            width=\"854\"\n            height=\"480\"\n            src=\"https://www.youtube.com/embed/aSJTRdjRvvw?fs=1&rel=0\"\n            frameborder=\"0\"\n            allowfullscreen\n        ></iframe>\n        ",
                "text/plain": "<IPython.lib.display.YouTubeVideo at 0x7f6939edb190>",
                "image/jpeg": "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\n"
              }
            ],
            "_view_module": "@jupyter-widgets/output",
            "_model_module_version": "1.0.0",
            "_view_count": null,
            "_view_module_version": "1.0.0",
            "layout": "IPY_MODEL_8ce236702d0d42998cbae5c323a87117",
            "_model_module": "@jupyter-widgets/output"
          }
        },
        "e84ab9c2096e44f49af9e418285979b9": {
          "model_module": "@jupyter-widgets/output",
          "model_name": "OutputModel",
          "model_module_version": "1.0.0",
          "state": {
            "_view_name": "OutputView",
            "msg_id": "",
            "_dom_classes": [],
            "_model_name": "OutputModel",
            "outputs": [
              {
                "output_type": "stream",
                "metadata": {
                  "tags": []
                },
                "text": "Video available at https://www.bilibili.com/video/BV1aL411H7Ce\n",
                "stream": "stdout"
              },
              {
                "output_type": "display_data",
                "metadata": {
                  "tags": []
                },
                "text/html": "\n        <iframe\n            width=\"854\"\n            height=\"480\"\n            src=\"https://player.bilibili.com/player.html?bvid=BV1aL411H7Ce&page=1?fs=1\"\n            frameborder=\"0\"\n            allowfullscreen\n        ></iframe>\n        ",
                "text/plain": "<__main__.BiliVideo at 0x7f6931cad210>"
              }
            ],
            "_view_module": "@jupyter-widgets/output",
            "_model_module_version": "1.0.0",
            "_view_count": null,
            "_view_module_version": "1.0.0",
            "layout": "IPY_MODEL_d2d3aade6b8448fe96f9087c0407bc5e",
            "_model_module": "@jupyter-widgets/output"
          }
        },
        "8ce236702d0d42998cbae5c323a87117": {
          "model_module": "@jupyter-widgets/base",
          "model_name": "LayoutModel",
          "model_module_version": "1.2.0",
          "state": {
            "_view_name": "LayoutView",
            "grid_template_rows": null,
            "right": null,
            "justify_content": null,
            "_view_module": "@jupyter-widgets/base",
            "overflow": null,
            "_model_module_version": "1.2.0",
            "_view_count": null,
            "flex_flow": null,
            "width": null,
            "min_width": null,
            "border": null,
            "align_items": null,
            "bottom": null,
            "_model_module": "@jupyter-widgets/base",
            "top": null,
            "grid_column": null,
            "overflow_y": null,
            "overflow_x": null,
            "grid_auto_flow": null,
            "grid_area": null,
            "grid_template_columns": null,
            "flex": null,
            "_model_name": "LayoutModel",
            "justify_items": null,
            "grid_row": null,
            "max_height": null,
            "align_content": null,
            "visibility": null,
            "align_self": null,
            "height": null,
            "min_height": null,
            "padding": null,
            "grid_auto_rows": null,
            "grid_gap": null,
            "max_width": null,
            "order": null,
            "_view_module_version": "1.2.0",
            "grid_template_areas": null,
            "object_position": null,
            "object_fit": null,
            "grid_auto_columns": null,
            "margin": null,
            "display": null,
            "left": null
          }
        },
        "d2d3aade6b8448fe96f9087c0407bc5e": {
          "model_module": "@jupyter-widgets/base",
          "model_name": "LayoutModel",
          "model_module_version": "1.2.0",
          "state": {
            "_view_name": "LayoutView",
            "grid_template_rows": null,
            "right": null,
            "justify_content": null,
            "_view_module": "@jupyter-widgets/base",
            "overflow": null,
            "_model_module_version": "1.2.0",
            "_view_count": null,
            "flex_flow": null,
            "width": null,
            "min_width": null,
            "border": null,
            "align_items": null,
            "bottom": null,
            "_model_module": "@jupyter-widgets/base",
            "top": null,
            "grid_column": null,
            "overflow_y": null,
            "overflow_x": null,
            "grid_auto_flow": null,
            "grid_area": null,
            "grid_template_columns": null,
            "flex": null,
            "_model_name": "LayoutModel",
            "justify_items": null,
            "grid_row": null,
            "max_height": null,
            "align_content": null,
            "visibility": null,
            "align_self": null,
            "height": null,
            "min_height": null,
            "padding": null,
            "grid_auto_rows": null,
            "grid_gap": null,
            "max_width": null,
            "order": null,
            "_view_module_version": "1.2.0",
            "grid_template_areas": null,
            "object_position": null,
            "object_fit": null,
            "grid_auto_columns": null,
            "margin": null,
            "display": null,
            "left": null
          }
        },
        "ebdd422c70ef4c47b252f40f9ecbbbd9": {
          "model_module": "@jupyter-widgets/controls",
          "model_name": "TextareaModel",
          "model_module_version": "1.5.0",
          "state": {
            "_view_name": "TextareaView",
            "style": "IPY_MODEL_333e05700cfa4adfa0f7402d5e2cac1e",
            "rows": null,
            "_dom_classes": [],
            "description": "",
            "_model_name": "TextareaModel",
            "placeholder": "Type something",
            "_view_module": "@jupyter-widgets/controls",
            "_model_module_version": "1.5.0",
            "value": "Type your answer here and click on `Submit!`",
            "_view_count": null,
            "disabled": false,
            "_view_module_version": "1.5.0",
            "continuous_update": true,
            "description_tooltip": null,
            "_model_module": "@jupyter-widgets/controls",
            "layout": "IPY_MODEL_b5265a22bfa246259a37e1e18b62557a"
          }
        },
        "333e05700cfa4adfa0f7402d5e2cac1e": {
          "model_module": "@jupyter-widgets/controls",
          "model_name": "DescriptionStyleModel",
          "model_module_version": "1.5.0",
          "state": {
            "_view_name": "StyleView",
            "_model_name": "DescriptionStyleModel",
            "description_width": "",
            "_view_module": "@jupyter-widgets/base",
            "_model_module_version": "1.5.0",
            "_view_count": null,
            "_view_module_version": "1.2.0",
            "_model_module": "@jupyter-widgets/controls"
          }
        },
        "b5265a22bfa246259a37e1e18b62557a": {
          "model_module": "@jupyter-widgets/base",
          "model_name": "LayoutModel",
          "model_module_version": "1.2.0",
          "state": {
            "_view_name": "LayoutView",
            "grid_template_rows": null,
            "right": null,
            "justify_content": null,
            "_view_module": "@jupyter-widgets/base",
            "overflow": null,
            "_model_module_version": "1.2.0",
            "_view_count": null,
            "flex_flow": null,
            "width": null,
            "min_width": null,
            "border": null,
            "align_items": null,
            "bottom": null,
            "_model_module": "@jupyter-widgets/base",
            "top": null,
            "grid_column": null,
            "overflow_y": null,
            "overflow_x": null,
            "grid_auto_flow": null,
            "grid_area": null,
            "grid_template_columns": null,
            "flex": null,
            "_model_name": "LayoutModel",
            "justify_items": null,
            "grid_row": null,
            "max_height": null,
            "align_content": null,
            "visibility": null,
            "align_self": null,
            "height": null,
            "min_height": null,
            "padding": null,
            "grid_auto_rows": null,
            "grid_gap": null,
            "max_width": null,
            "order": null,
            "_view_module_version": "1.2.0",
            "grid_template_areas": null,
            "object_position": null,
            "object_fit": null,
            "grid_auto_columns": null,
            "margin": null,
            "display": null,
            "left": null
          }
        },
        "209ab7bbe2c34632be422ec640d1b5b7": {
          "model_module": "@jupyter-widgets/controls",
          "model_name": "ButtonModel",
          "model_module_version": "1.5.0",
          "state": {
            "_view_name": "ButtonView",
            "style": "IPY_MODEL_6c84d530d1ae498dadc819ccba7d81cc",
            "_dom_classes": [],
            "description": "Submit!",
            "_model_name": "ButtonModel",
            "button_style": "",
            "_view_module": "@jupyter-widgets/controls",
            "_model_module_version": "1.5.0",
            "tooltip": "",
            "_view_count": null,
            "disabled": false,
            "_view_module_version": "1.5.0",
            "layout": "IPY_MODEL_06b5c2e540554ccaa0a5bbaec2e58dbf",
            "_model_module": "@jupyter-widgets/controls",
            "icon": ""
          }
        },
        "6c84d530d1ae498dadc819ccba7d81cc": {
          "model_module": "@jupyter-widgets/controls",
          "model_name": "ButtonStyleModel",
          "model_module_version": "1.5.0",
          "state": {
            "_view_name": "StyleView",
            "_model_name": "ButtonStyleModel",
            "_view_module": "@jupyter-widgets/base",
            "_model_module_version": "1.5.0",
            "_view_count": null,
            "button_color": null,
            "font_weight": "",
            "_view_module_version": "1.2.0",
            "_model_module": "@jupyter-widgets/controls"
          }
        },
        "06b5c2e540554ccaa0a5bbaec2e58dbf": {
          "model_module": "@jupyter-widgets/base",
          "model_name": "LayoutModel",
          "model_module_version": "1.2.0",
          "state": {
            "_view_name": "LayoutView",
            "grid_template_rows": null,
            "right": null,
            "justify_content": null,
            "_view_module": "@jupyter-widgets/base",
            "overflow": null,
            "_model_module_version": "1.2.0",
            "_view_count": null,
            "flex_flow": null,
            "width": null,
            "min_width": null,
            "border": null,
            "align_items": null,
            "bottom": null,
            "_model_module": "@jupyter-widgets/base",
            "top": null,
            "grid_column": null,
            "overflow_y": null,
            "overflow_x": null,
            "grid_auto_flow": null,
            "grid_area": null,
            "grid_template_columns": null,
            "flex": null,
            "_model_name": "LayoutModel",
            "justify_items": null,
            "grid_row": null,
            "max_height": null,
            "align_content": null,
            "visibility": null,
            "align_self": null,
            "height": null,
            "min_height": null,
            "padding": null,
            "grid_auto_rows": null,
            "grid_gap": null,
            "max_width": null,
            "order": null,
            "_view_module_version": "1.2.0",
            "grid_template_areas": null,
            "object_position": null,
            "object_fit": null,
            "grid_auto_columns": null,
            "margin": null,
            "display": null,
            "left": null
          }
        },
        "2046e982025a4ad1a6f25143f4ba14f6": {
          "model_module": "@jupyter-widgets/controls",
          "model_name": "TabModel",
          "model_module_version": "1.5.0",
          "state": {
            "_view_name": "TabView",
            "_dom_classes": [],
            "_titles": {
              "0": "Youtube",
              "1": "Bilibili"
            },
            "_model_name": "TabModel",
            "_view_module": "@jupyter-widgets/controls",
            "selected_index": 0,
            "_model_module_version": "1.5.0",
            "_view_count": null,
            "_view_module_version": "1.5.0",
            "box_style": "",
            "layout": "IPY_MODEL_3b79e6bc68784a5a93b51530be7bf6a8",
            "_model_module": "@jupyter-widgets/controls",
            "children": [
              "IPY_MODEL_23dc04427a9e4bcdbe39f7e10b638a3e",
              "IPY_MODEL_1cccd200b3644f3a9c92b7848dbca300"
            ]
          }
        },
        "3b79e6bc68784a5a93b51530be7bf6a8": {
          "model_module": "@jupyter-widgets/base",
          "model_name": "LayoutModel",
          "model_module_version": "1.2.0",
          "state": {
            "_view_name": "LayoutView",
            "grid_template_rows": null,
            "right": null,
            "justify_content": null,
            "_view_module": "@jupyter-widgets/base",
            "overflow": null,
            "_model_module_version": "1.2.0",
            "_view_count": null,
            "flex_flow": null,
            "width": null,
            "min_width": null,
            "border": null,
            "align_items": null,
            "bottom": null,
            "_model_module": "@jupyter-widgets/base",
            "top": null,
            "grid_column": null,
            "overflow_y": null,
            "overflow_x": null,
            "grid_auto_flow": null,
            "grid_area": null,
            "grid_template_columns": null,
            "flex": null,
            "_model_name": "LayoutModel",
            "justify_items": null,
            "grid_row": null,
            "max_height": null,
            "align_content": null,
            "visibility": null,
            "align_self": null,
            "height": null,
            "min_height": null,
            "padding": null,
            "grid_auto_rows": null,
            "grid_gap": null,
            "max_width": null,
            "order": null,
            "_view_module_version": "1.2.0",
            "grid_template_areas": null,
            "object_position": null,
            "object_fit": null,
            "grid_auto_columns": null,
            "margin": null,
            "display": null,
            "left": null
          }
        },
        "23dc04427a9e4bcdbe39f7e10b638a3e": {
          "model_module": "@jupyter-widgets/output",
          "model_name": "OutputModel",
          "model_module_version": "1.0.0",
          "state": {
            "_view_name": "OutputView",
            "msg_id": "",
            "_dom_classes": [],
            "_model_name": "OutputModel",
            "outputs": [
              {
                "output_type": "stream",
                "metadata": {
                  "tags": []
                },
                "text": "Video available at https://youtube.com/watch?v=3ES5O58Y_2M\n",
                "stream": "stdout"
              },
              {
                "output_type": "display_data",
                "metadata": {
                  "tags": []
                },
                "text/html": "\n        <iframe\n            width=\"854\"\n            height=\"480\"\n            src=\"https://www.youtube.com/embed/3ES5O58Y_2M?fs=1&rel=0\"\n            frameborder=\"0\"\n            allowfullscreen\n        ></iframe>\n        ",
                "text/plain": "<IPython.lib.display.YouTubeVideo at 0x7f69302be0d0>",
                "image/jpeg": "/9j/4AAQSkZJRgABAQAAAQABAAD/2wCEABALDBoYFhoaGRoeHRsfIC8lIiIhIiUoJiYuMy0xNi4yLTM1Q1BCNjhLOS4tR2FFS1NWW11bMkFlbWRYbVBZW1cBERISGRYZLxsbMFc9NUJYV1dXV1dXV1dXV1dXV15XV1dXXldXV11dV1ddV1dXV1djV1dXXVdXV1dXV1dXV1dXV//AABEIAWgB4AMBIgACEQEDEQH/xAAbAAEAAgMBAQAAAAAAAAAAAAAAAgQBAwUGB//EAEUQAAIBAgMECAMGAwUIAgMAAAECAAMRBBIhEzFBUQUXIlNhcZLSUoGRBhQyQqHRFSOxYnOywfAHJDM0Q4Lh8XKiFlR0/8QAGAEBAQEBAQAAAAAAAAAAAAAAAAECAwT/xAAmEQEBAAICAQMEAgMAAAAAAAAAAQIRITESA0FREzJhcSLhgZHR/9oADAMBAAIRAxEAPwD5/ERAREQEREBERAREQEREBERAREQEREBERAREQEREBERAREQEREBERAREQEREBERAREQEREBERAREQEREBERAREQEREBERAREQEREBERAREQEREBERAREQEREBERAREQEREBERAREQEREBERAREQEREBERAREQEREBERAREQEREBERAREQEREBERAREQEREBERAREQEREBE9f1cY3vcP6qntjq4xve4f1VPbA8hE9f1cY3vcP6qntjq4xve4f1VPbA8hE9f1cY3vcP6qntjq4xve4f1VPbA8hE9f1cY3vcP6qntjq4xve4f1VPbA8hE9f1cY3vcP6qntjq4xve4f1VPbA8hE9f1cY3vcP6qntjq4xve4f1VPbA8hE9f1cY3vcP6qntjq4xve4f1VPbA8hE9f1cY3vcP6qntjq4xve4f1VPbA8hE9f1cY3vcP6qntjq4xve4f1VPbA8hE9f1cY3vcP6qntjq4xve4f1VPbA8hE9f1cY3vcP6qntjq4xve4f1VPbA8hE9f1cY3vcP6qntjq4xve4f1VPbA8hE9f1cY3vcP6qntjq4xve4f1VPbA8hE9f1cY3vcP6qntjq4xve4f1VPbA8hE9f1cY3vcP6qntjq4xve4f1VPbA8hE9f1cY3vcP6qntjq4xve4f1VPbA8hE9f1cY3vcP6qntjq4xve4f1VPbA8hE9f1cY3vcP6qntjq4xve4f1VPbA8hE9f1cY3vcP6qntjq4xve4f1VPbA8hE9f1cY3vcP6qntjq4xve4f1VPbA8hE9f1cY3vcP6qntjq4xve4f1VPbA8hE9f1cY3vcP6qntjq4xve4f1VPbA8hE9f1cY3vcP6qntjq4xve4f1VPbA8hE9f1cY3vcP6qntlPpP7FYnCoHqPRILZeyzk3sTxUcoHnInSHQtX4k+p/aSHQNU/mT6t+0m4uq5cTrj7O1j+an9W/aSH2Zr/FT+rftG4arjRO1/8AjFf46X1b9pCt9nqlMXerRUeLN+0bhquRE6eH6FarfJWomxt+Jv2m/wD/ABiv8VL6t+0bhpxYnZP2ar/FT+rftIn7OVvip/Vv2jcNVyInVP2frfFT+rftMHoKr8SfVv2jcNV9riIlQiIgIiICIiAiIgIiICIiAiIgIiICIiAiIgIiICIiAiIgIiICIiAiIgIiICIiAiIgIiICIiAiIgJwPtiP92T+9H+Fp355/wC2Zthk/vR/haS9LHklE3oJVR5ZptObaygm1RNaOOYm1XXmJFUumq7UsOWVspJAvx+U8o5q1iCczkaAmei+0oDUqYBv293/AGmabU6WVGIU2Gkty0sx8u3BfCVU1KlfG89B0F0ptP5VQ3cfhJ/MP3luo9MIM7LY7r63nLwVCmMcCLZcpddbC8ky32ZYePT0DCa2E2M6/EPrIEg7jeVGlhNTjSb2E1ONDCPo8RE6uZESi/TGFV9mcRSD3tYuN/LzgXoiICImutWWmpZ2CqN5JsBA2RICqt2XMLrYsLi4vuvy3QaqhgpYZmBIFxcgb7D5wJxEQESD1FXKGYAsbC5tc8hJwEREBETXWrLTQu7BUUXLMbAQNkTXQrpUUOjBlO4jdNkBERARNdOsrgMrAg6Ag77b/wChmVqKSwDAldGAOo0vry0gTiQeqqlVZgCxsoJ3mxNh8gYp1VcXVgwuRcG+o3iBOIiAiIgIiQp1Fa+Vg1iQbG9iN4PjAnERAREgaqhwhYZ2BIW+pAtcjyuPrAnESLsFBJNgBck8BAlEijhgGU3BFwRuImFqKSwDAlTZgDqOOvKBOIiAiReoqgkkAKLkk6DzmVYEAg3B3EQMxEQE879tf+VT+9H+Fp6Ked+23/K0/wC9H+FpL0seMUyxSaVgZvozm230RcmWVWVqEtU2BGkjSvj6IIQ/DUU/raasfhM1VidBz8N02YrFqrFHBK7jbQgia0Jc3LZgfwZt4I1sfpMWuuM4Yq4LOcu7J/oSvRw9qwPwoR9T/wCJ0atZc6kgi5B+e7WaDTKVahbcxFvL/RkxvKZ9JFZPDcZDaDnJ4Vgb2nVybGmp+M3NNT8YR9FiInVzcz7R1WTBV2Ripy2LDeoJAZh5Ak/KWaWAorQFFaabHLbLYZSPHnLDoGUqwBUixB1BB3gzljoOy7NcViFo92GWwHwhiM4H/dAw71KmJbDUamwp0aSElVUsS2YKBmBAAC/rK79IYgU6lPOu2pYmnS2mUWZXKEErzytY24jhL+I6KDMr0qlShUVMmZMpuo3Bg4INuB36nnCdEU1pCnmcnaiqzkgs7hgbtp4AacN1oGjbVaFdlqVTWQ0HqaqoKlCtwMoGhDceU53SSYh+j2rVK986oxphFyKCymykdq401JPlPQVMIrVlqm9wjJbSxDFSb+kTnt9n1NI0fvFfYaZad0stiCADlzEC24kwKHTbu69KoGChMOjaKt2BSpcE2uQbfLhL9Nmp1cIrNn/k1CWZVzaZLWIGm/hvlmr0VTdsSWLH7zTFNxcWAAYaePaMzQ6OytSZqr1GpKygtkFw2XflA3ZRA5YxWKOD+/CsP+HthRyLkyWvlJtmzZeN9/CWBXrV8XUppWNKmKFOoLIha7F+JBHAcDJnoFLGntqv3cm5oXTJa98t7Zst+F7cN2kvU8Eq13rAnM6KhGlgFLEW9Rgcaj0hUdcHnKsxxb0mYquoQVRcfCTlG6SatiXo4qquIybGpVCKKaEEITYPcXO7haX6fQ1NRSAZ/wCXXasN2rNmuDpu7Z/SbU6OVaValma1VnZjpcZ73t9YFJsTWxFdaVOpsVWitV2VVLEuSFAzAgAZTfTlLHRNaqz4pKrhzSrBFIULps0b+rGV+kcLlekyDEKy08m1ohGNtOyysDfne2k29BYV6Yru4ddrWzgOQXsEVbtbicpNuF4GKlStXxNWlTqmilELcqqlmZgT+YEBQLfXwnNx1WrWoZHqWeji0psVVbP20KtYg2IBBsNLzsYro3PU2tOrUo1CoVmp5DmAvYEMCNLnXfrC9E0xRFIF7CoKpYm7MwYNdieZH7Wgb8SzU6DkNdlpk5iBqQu+26ccVsUDgycRf7z2WGzXKv8ALL3Xjfs8SRru4TuV6QdGQ7mUqbeItK56PQ/d9W/3c3Xdr2CmvyYwOS+Pr06eNU1M7UKtNVcqoJDhCbgC35jwnUxWIZcVhqYPZcVMwsNbAW/rI1eiKbjEglv94ILWIGUhQoK8vwg+cxR6LtVp1alerVemGC58gFmAB0VQOG/fA4pouydHZarJfE1ALBTY2rG+oOvDlrLVfpGpTbHZMucVqNOmSo0LrTF2tq1i1/laX6nQ6mlSRalRDSqGojrlLAnNfeCCLMRumX6HpMMQHLNtypbUAgqqhSpG49kHzgVK+Hq08TgtpXNUGq34lVSDsn3ZQNPA/WQp4qrsqQpsqF8ZUpkhFtlBqcBx7I15y7S6KIqUqlTEVqrUiSufIBqpXUKovv375sTotAKYzN2KzVhu1LZrg6bu2foIFCn95ariaH3phsQrK+zp5zmBNjpawtwF9ZpHTFSomDXM1NquHFao9Ok1Rty6KADa5O8jS3jOzTwSrVrVATeqFDDSwyggW+srfwZBSoIlSpTegmSnUXLntYAg3BUg2GhHCBRq9JV0w+Jszk08hp1alEpfMbEEEAEjXUDcRLeavSxdBHrbRKwe6lFUKVAIK21tv0N5vfozPQelUrVamcgl2yX0IOgAAA05TfWwivVpVCTelmsBaxzCxvA5HR+Oq7VFxFapSrMxBpPSApNv0pvbXw7RPhIpjqgQpTyrUq42pSVsgsoBYkkDebKd/E6y+nRJzJnxFaoiMGVHyWuN12Chmt4nzvMt0RTNNkzOM1VqwYEBkckm6nwvx4b7wNVOpWoYhKVSqayVUYqzKodWW1/wgAgg8uHjKdPE4n7rh8Ua9yxpZqeRAhDsqnhe+u+9vCdPC9GBKhq1KtStUy5Qz5BlU7woUAC9hra+kz/DE+7U8PmbJTyWOmY5GBF9LcIFLH4p2q1RSr1F2YFxToqyqbX7ZIJPDRbWBkMLiTWxPR9UgA1MHUcgbgW2J/zl9ujP5lRkrVEFU3dFy2JsBcXBIJAG48JnDdFpSOHKsx2FE0VvbVTk1Om/sD9YEOk8RUD0KNJgjVWN3IvlVRc2B0J3DWVK1arTath6tQ1VbDPURyqhhbRg2UAHeCD5zpY7ArXC3LI6NmR0sGU2IuL3G4kWOk00eigNoXq1KtSomQ1Hy3C66KFAA3k7oHOD4jD4WjiNtmULTzUiihcpyjsn8VxfiZiv0o9E45gFzLiKdNOxfV1pi7ZdWtm89LS23QwVEDVq9WlSsVokoQSu7WwZtRexNpDB4DbffTWpstOvVDKD2XsqIA2mqnMtx5QMYbGVFr0lD1qyOSHz4dqeTskhgcoFri1jzEl0e2IxCLiNvs1ZrrSCKVyg2sx/ESQOBFry5hME9Nrvia1WwsA+zAHnlUXPnNSdEZG/l161OkWzGkpTLcm5sSMwBPAGByqSPTbpZ9qWy37LKhBOxQgnThutu5y/hMcyVEWqw2dTDrUQ2AClQNoNPAqR85vqdEKz4hhUqKuIUiogy5b5cuYXFwbAcbeEY7oenXo06TlstMixBsSAMpB8CCQfOBzf4rWKYdWZkbEZ6t1pF2SmCMqhQD2rMtyQePhL/RWKqNUqU2NR0ChkqPSamdbgqbgAkWBuBuPhLONwC1chDNTembo6WzLpY7wQQRwItJ4TDNTBz1qlUni+UW8goAH0gWJ5z7b/APK0/wC9H+Fp6Oec+3H/ACtP++H+FpL0seKUyxRlcKRvlilSJ8BOVunWY2tiPYHnLGEosFsdJOjQVdZR6W6aWkMiWL8uXnMbt4jepO1fpQlHDE3HHxlXAY5A75tUY3tvIM5WIxL1Td2v/QTROsw45Yvqc8Pb1qlOpRurC41HnIislVQCdbfOeNWqw3MfrLFLHsp118eMzfTvsv1Ze3dxGEYfhNx4zf0XdQwbQ3lDDdKhhYnWX6NZWkts7Xxl6XWM1PxmDR5GRbNrxiZRLhX0mIid3AiIgIiICIiAiIgIiICIiBiJmICIiAiJgmBmYkS0iTAnmmM8heLwJ5ozSF5mBINJTkdI9Jmi4VQjaa6m485ewFR3phqgAJ1AHAcJq42TbEzlulqIiZbIiICIiAiIgIiIGImYgIiICIiAiIgJ537aG2Gpm1/5w/wtPRTlfaHox8VRVKbKpDhrte1rEcPOS9Lj28JTW+plqm4E6I+x+J72l/8Ab9phvsdiT/1qX/2/acfCu/nHC6TxrCkxQgHn8+E8uWJNzqTPcdXuIYnaYhGHD8Q/ymnq4xHf0fo37Trjjpyyy28ZE9n1cYnv6P0b9o6uMT39H6N+00w8XE9p1cYnv6P0b9o6uMR39H6N+0Dxd5cwuMYG2+eqb/ZtWtpiad//AItMD/ZviP8A9ilfho0lm1l05+E6SvoTL/3hSJup/wCz3Ea5sRTvwsG/WbB9h8WoP+8UT8nnK+m6z1Pl7+IidnEiIgIiICIiAiIgIiICIiAiIgJi8wWnE+0lV0Sk6MVYPa48Ru8d0luptrDHyymLtFpEmUOicXUrUQ9RQL7iD+LxtwlwmJdzaZS43VSvMSBaYvKy2RNRNtTpKv3xnOWgM3Nz+EfvLJazbIt1660xdzYf18pVDVq269KmeP5z5cpsoYEKc7k1KnxNw8hwlsS7k6TVvaumApBMuQWuCb7yRzMtpIzYoktt7bkk6ZiIkUiIgIiICIiAiIgIiYgZiUUx9lxDONKVTKAu89lSN/G7TXU6YVA2enUDLcZeySWspCixsSc4t84HSiU/4ihpPUAZlVsotbtnS2X5m2ttRMN0hlDZ6bqVTMR2Tpe3AwLsTnfxde0Wp1FUbQAnL2zTbKQtje5O69rzXiemsoqBabM6qSBmSxysFYXvpYn9IHViUK/SqU6bOVey7S4Fr/ywSeP9k2mF6VU1RTKMDmCtqvZYi9iAbneNRca+dg6ETEzARKOI6Q2dc02ViuzDDJTdze5GuUGw0Eq9H9MNUp0iaZepURGypYAXQM2rHdr+o84HYicrDdL5yp2bbN9nlbs9nOoIDC973IGnPzlmpjrO6im7CmO2wy2U5c1tTc6W3cx42C5MSi/SgDKq03dmIsBlG9S3Ejgpkf4whAKqxuFNuyNWzdnU/iGU3HCB0YnMwnTAqutkYJUFM0201zoz6i+mizL9MooYlHyqF17Nrs5RRv3kjfuHOB0pF9x8pqwmJFVSwBFiQQbcORGhE2vuPlAlERAREQEREBERAREQEREBETEBIlpgmRJgCZFgDYkDTUX4QTIEwjm0j93xBp7qVY3T+y/EfOdKV8dhRWplNx3qeTDcZownSKmleqQrocrjjmHLzmZxdOmX8sfL47/6vytXxiocou7/AArv+fKa71a269Knz/Of2lihh0piyi3M8T5mddSduG7elcYV6mtY6cKa7vnzl2moGgFgOAgCTAmbbVmMjMyIAkgLyNMqJOYmYUiIgIiICIiAiIgIiICIiBTboyiXdyrXe+YZ3ym4tqt8u7wmafR1FQtkvlfOCxZmzWtckkkm2mssvextvtpK/R2KNanmIAYEhgOBEuuNpvnSa4OmKWxCAU7EZeGuv9ZpbouiQoKscumtSob3N+1r2ted5diRVdsFSIUFAQr7Rb8GuTf6k/WQboyic3YPaDA9prdo3awvpc66cZbiBSboqgSxKE5gQQXcjUWbS9gSN54zd91TabSxDcbMwB0tcqDYm3Eib4gYiJUrYphiKdJbagl78Bwlk2lulnZLmL27RGW/hcm36mUa3RNPIq0rU8trHtGwVcoGhB3ab/O86M5qYpxj2ok9g0gyiw0N7H/OZt03Mdt+G6OpU6aUwLhAlid5yABTp5CTqYKmz7Qqc1rGzMAdLdoA2O/jN8zKyqUOjqVMgqpuDcEszHcV3kngSJn+H0rGyWu5qEqWU5iLE3BvumnpzEtSwtR0OVtAD5kS5QvkW5ucoufG0m+dNePG1b+E0LABCAqqoyu4sF/Dax0IBIvvtJjo+kFKZOyQAdTwJI14EEk3lqJWWujSCKFW9hzYsfqbmSfcfKSkX3HygSiIgIiICIiAiIgIiICIiBiQYzLGRgYJmDEi8IiTESFRSVYKcpINja9jzgTmj7pT2hqZBnO8zct7C+/jMwEATIWTAgYAkgIAkwsDAF5OJmFIiICIiAiIgIiICIiAiIgIiICcyh/Kxbp+WqMy+fH/ADnTnO6YpnItVfxUjm+XGax70xn1v4dCZmujVDorDcwuJsmWyIiAiIgYnN6N/mVa1bgTlXyH+hN/SuI2dFrfibsr5mbMFQ2VJE5DXz4zc4x2xectfCxOP0h2MfhX+MMh/wAv6zsTj/aPs06NUf8ATqqfl/q05Z9O/pfdr54deIiac3I+0hvSp0/jqqJ15yOlu3i8HT/tFz8v/U7EzO66ZfZjP2RETTmSL7j5SUi+4+UCUREBERAREQEREBERATBmZFt0CEwZmYMIxMMLzMQNeUzOUycQIhJICZtMgQMWmQJILJQrAWSiICIiAiIgIiICIiAiIgIiICIiAiIgJhlBBB1B0MzEDmdFsab1MO35TmTxUzpzndK0iMtdPx09/ivGXaFYVEV13EXm8uf5MY8fxbIiJhsmJmVsdihRpM/HcBzPCWTaW6m1V/52LC70o6n/AOX+v6Tpyn0ZhjTp9r8bHM3mZclyvszhON33JQ6bo58JWHJbj5a/5S/IsoIIO4ixmLNx0xurKr9GVtph6T80F/O2v6yzOR9m2IotSO+lUZf1/wDc7EmN3GvUmsrHH/H0n4UqP6k/sZ2Jxuhu3iMXV51Ag/7R/wCp2Yx+V9TuT4kIiJpzJF9x8pKRfcfKBKIiAiIgIiICIiAiIgJgiZmIGuJsImMsCEWk8kZYEJkCTtMwIBZK0zEDETMQEREBERAREQEREBERAREQEREBERAREQEREDE5VM/dKuQ/8GoeyfhPKdaa69FailWFwZrG67Zym+u05mcpXrYXsspq0RuYfiUeM2fxqhbe1+WU3l8L7cp5z34dAmwudAJy6P8AvVbaH/g0z2P7R5wwq4rQg0qPG/4mnSp0wqhVFgNAI+39p9/6SmYiYdCYmZiBx8P/ACekaqflrIHHmN/+c6eMrilSeofyqTKHTuHYqlemL1KLZrc14iU8dj1xgpUKJJ2hDVP7KjUg+P8ArjOe/Hcejx89X/f+P6Xvs9QKYVL73u5+f/i06ciigAAbgLCSm5NTTjll5ZWkRErJIvuPlJSL7j5QJREQK2JxRR0pquZ2BIBYKLC19fmJFMepqLSYFKjKTlJBIsfA/OYx9EvlBopVXkTZgeBEq08DVAQE76dRCc1ygYgrqdWsBaBfTF0mzWqKcoubEaDn5TNLE03JCOrEbwCDac2phXFFy6kFKLqDnBGo3AAbtOPhLVCk7VabsioEpldDfNfL+gtAstiaYYIXUMeBOuu6ajj6ai9Rlp6tozL+UkE6eU018PU22amCt2Us2YZWAtfMpG+263hrNVXDVcipkDJndnGYC4LkqPLXX6QL74qmpALqCdwJGt90mtQEkAglTY24G19fqJzq2CcvV0JWqBcBwLdkAg6btOHOdCnfUEWAOhvcsLDUwNkqYnHrSqU0YGz37XBdQBfzJAluVMRhdpVUsAaezdGB45iv7GBP72oNQMcopkAkkW1AP+cl96p5M+dcu699L8vOc0dHVgHu2YiqrIb2LKq21PxePhNj4FyA4zBhUzkFxcjKV32sDr+kC82LphA5dchNgbixPLzihiBUVmXcCRe9724iUlwjqyVAt2DsWVnBOoAuDawOn6mWcJSZUcMACzs1gbjUwFPpCmUpszKhdQwDEX1mw4qmGKl1DAXIuLgAXN/qJyqvR9Y0DT33w4pizgANlIObmNR/4ljEYUhMSTlGZlYE7iFC6N4XUiBcp4ukwJWopAFybjQczJ0a6VBdGDDdoZyTfFGqUyjsU9VYMCVctYsBb+u+X8HRYMzsGBIA7TAkgX5DxMCNLpKmzVdVCUzlLFhv8uXD5GbjjKQUOaiZToDcWP8AqxlQ4NwzOACRX2gUneMgX5HeflCYNzUWoyqL1i5W97DZlR5m9jAvVayIuZ2CrzJsJA4ykFDGogVtxzCxtvmnpHDO5pOgVjTa+VjYG4tv5iVKHRrh6bMFttXqMoNwt1sAOes3JNM23bonGUggqGouQ7muLTargjMCCpF7g6TinouqMrLa61HOUMBo24g2IBl2lgSMK1LVSwb817E+NhFk+Ulo/StPNlQh+wzXDC3Z4E8N8308WhygsoZgDlzAnUX+fGcwYCsxF6aJag1PstvJtbhN9Ho5u3msC1FUDbyCFIMtmJLkvUsVTfNkqK2XfYg2mir0rQVC20VgCB2SCbmUKfRNQoyt2TsiitnBGvgANNJtr4SrUoshpU0YZMtjvynXhoI8cd9m8l1MYpNS5UIgBzZlsQRe/hJjGUsofaJlJtfMLX5TnV+j6jmo2VQS1NwpNwco1UyLdHVHYuyouasjFAbgKoIPmTHjj8m661GulQZkYMN1wbzZKeCwzU6lckAK7grbllA/rLkxfw1CIiRSIiAiIgImmtiAjUlIJNRygtwIRm1+SmRqY6kjMrVFUqCTc7gBc/pr5QLESr/EaF1XardrWF99zZfqd3ObKOKp1CQjhiN4B/1pA3SOUXvYX8pVbpOiCozg5nyCwJ1sT9NDrJfxGhZjtVspAJvzNh53OnnAtRNAxlLZ7TOuS9s1+N7W876W5zXU6SoqCzOAgAOY7rEE/Lcd8C3E0LjKRfIHUvyv4Xt521tym+AiUsT0iErCiEZ3K5rAqNL20zEZj4DdpzF8v0rh1JBrICL313WNj9Dv5QLchToIhJVFUnfYAX85oq9IUlzDMCyi5Ub94B+hIvJLjU2e0Y5VzFdd5IYrpbyMCxMymvSdElxnHYIB3/mFxbnpykv4jQuq7VLsARrvDaL9SDbnAtRNFTF01bIWGe18vHjbyvY/Sa06SomwLhSUz2J3LYEm+6wBGt4FuRfcfKQoV0qC6MGANjbgeR5cJN9x8oEoiICIiAiIgIiICIiAkDUUMFLAMQSBfU232k5zOkMNtcRSAOVhTdkb4WDJY/8AjiLwOiHBJAIJG8cvOSnB+81LVmy5G2qLU1ICjILkNY2F7a23GTavUFMWdTTNWxYVWOVcp0NTLcdq2vja8DtyKsDexBsbG3OcgVmy0xUq2pF2GdKhO4aKXsON9fAC8tdHn+VUKsSM72Y6/PxgX4nDpYhtm6ioWbsdtKmcasATqOyd+m6bCGU1SKlT+XWQKCxIs2S4PP8AEd+6B1wJBKyt+FgdL6Hhz8py6eJY10IY61WQoXJNgG3paw1AIPlvvM9Ejtp//Ov+JoHT2yZ8mYZ7Xy31t5TZOM10fEHMyqcQodrnsrs0ufDXS/AeUbViQiVHNI1lUPe5IKMWGbiLga+PhA7MwWA3m05fTtZ6dKlldkQ1AtWourKljrfhrbWcTE1GekrNWqGhTxahKp35basTbXKbgGZuWnbD0vKb29bTqqxYKwJU2axvY8j46iSnlqmdPvNanVqLlxagAWysCKYJOmuh/ST++Yg4pl2gVxXyhGcgFL8Ey63H5r75PJfo/FenkKlVUALMFBIAubXJ0A85zOg87ipUqVHb+Y6hTbKAHNrTjYjEF2tUrVNqMWo2NuyEFQZSNOVje+sty4TH0t5Wb6ero10qAlGDAEqbG9iN485snmkqVXdKYqvTD4murFLA2F7cP1kExmIOKKmoFcV8oRnIBS/BMutxrmvvk8j6P5enms4hMyrnXM4JUXF2tvtznAwdY1WdauJrLiCXBpDQAC9rCx4WN+MrdGV3WlhNkxdhRq9ki+Vwq2XduB4R5L9H8vWTM8nh8dUt/Lr1KpOHdq2Yf8NwultOyb6Wl7o6pVXFUVarUdauGzsHtYNcbtNN8sy2mXo2e7vRETTiREQERECtjMKahplXyNTfODa4/Cy6jyYyliehdqXL1Ccwa5y69qmUNtd2pIHOdaIHLxOCqGt2NKbVKbvcjehHz3KB+029HdGLhwoBzBEyJcdoLpoTfXcOW6X4gc2n0VlNxUtZwwAWy/mB0vvIY6i24aTS/Q7LTVabi6tTykjUKlRWN9ddBwtunYiBS/h/8lqZYMWfOxZbgm993AfO/jeaW6JOUKKzflzZhmzBb2Bub2uRx4DfrOnECjS6OC1c+a4zF7EbmIsSDfQb+F9d8vRECh0l0ccQCpeyEWIyKSP7SHereOu4SNTolWDDO2qVk3D/AKrBj9LToxA5jdDguzGodc3DXtMG1N9bZbDkJuqYAGlswR+MvdlvqWLcCCN+8EGXYgcs9EbjtWJUqwLC5zBShJsRe4P14zA6KbOwzhaRWmCAouxVmY+VyRz+W+dWIFLEYDPVFTNlsLGw7RGuhN9RruIPylc9D3DK1UlTTWmOyLqFAtY+YudNfpOrECvhMNsw1yCzG5IBF9AOJPLnNz7j5SUi+4+UCUREBERAREQEREBERATEzEBMTMQMWmYiBiZiIGJmIgYiZiBiLTMQExaZiBiJmIGItMxAxaLTMQMWiZiAiIgIiICIiAiIgIiICIiAiIgIiICIiAiIgIiICIiAkX3HykpF9x8oEoiIFTEYhxUSnTVWLKzXZiALEDgDzkaXSKFAX7LZmXKLtqps1rDUeMzisAtWqjOqsiqwseZK2P6GRfCtTdXoKlgmTISVAF7gggHx4QNz42koUlxZhmFrm456cNd8l97p5lUOCzAEAa3B3Hy8ZTo4OrRymnkclMrBiVAOYtdbA6XY6eWs2YHBGkwuQQKSpy1BYnTgNYFiviqdMgO1iRe1iTYbzpw8ZF8bSVspcX08hfdc7hfxmutSqLVNSmEbMoUhmK2sSQQQDffummtg6pFamMmSsbsxJDLcAGwtru0Nx+kC0cbSDZM4zZsp36E7gTuBkKvSCKwUEM2cId9rk667rjlIHBtlqC47VZXG/cCv69kzWuEqi1OybMVdoGzHMRnzWy23677wNq9IrnVCO0wc6XI7LW32/wDUn9/phVLsBmQNpcgA8SbbvE2mhcFUVkIym21DakWDtmBGmu7dI0sHWpKAmzbNSVGzEjKVFrjQ5hru0/WBaq46khIZwCACd+gO4nkPGGxiqWzkLZ8o1uSct7Wtv8JW/hzCnWQMO3RWmpPgrC5+om1sGxqB7i22D/LZ5freBs+/UsobPoSVGhuSN4tvvoZto11qLmRgy3IuOY0M5+IptRZal1vtH0bMBZrbyAbHTlN/RatsiWFi1R23EaFiRvgb3xNNVLF1sBc63k2qAKWGotfTW4twnPfocWOWowa2hK0iL8L9mXKGHFKmEQ7hoTrrzPz4CBWw2Od02mRChQsCtTMRpex0/pNo6QphVLsFLKGI1OUHmeA8TKv3Co1TOUpUzlYE0ySalxbtaCwvrxmRgaqI6JkIqIFYsSMpCBSQLdoWG7SBeOKpjewHbCf9xtYeeok0qK2axvlNj4H/AEZz6nRhLHtDIU057QLlDfS30lmhhSKBpue0wbOV5te9vrAyuPpEEhxYC9zcC3ME7x4iZGOpZWbOAFIDXuLX3XB53lc4es9LZvs1y5cpUkhipBFxYWGm65mHwlSoWd8isdmAqksLI+Y3NhqdeEC1TxlNjYNrmy2IIN7XtY+GsPjKY3trmy2AJNwLnQb5or4Nm2pBAYsrITfRlAtfw0t5GaW6OdRSKnMyqwcZ2TMWIJII8Rut/SBd++U7oM4JcXW2tx4SKY6kzBQ4JYkLv1te9jx3Ga8PgijKdAMjAgMSbs2Y6nfxlCgrOcPR0K0rgsuYG2zZQSCBlOo0uYHUTHUjezjQE8bEDeRzHlFPG0mvZxoua+4ZedzvHjKNPo18mRrHKhVW2jm5KlQcp0Gh8ZtxHRzVAozAAUWpk79TksbcR2YFhcdSKls+gte4I37t++/CbaNZXBKm9jY7wQeRB3SnXoVqqDOERkYMoV21te9zYEb+F5uwVApmLCzMde2z7hpqYFqIiAiIgIiICIiAiIgIiICIiAiIgIiICIiAiIgIiICIiAkX3HykpF9x8oGYlDbN8RjbN8RgX4lDbN8RjbN8RgX4lDbN8RjbPzMC/EobZ/iMbZviMC/EobZviMbZviMC/EobZ/iMbZviMC/EobZviMbZviMC/EobZviMbZviMC/EobZviMbZviMC/EobZviMbZviMC/EobZviMbZviMC/EobZviMbZviMC/EobZviMbZviMC/Mzn7ZviMbZviMC/EobZviM0YrpA0wLtqd1zYDdqTy1H1gdaJ5zpHpHEUk0zVCdG2a5bBtzAsTcgA3HjfSdKniKhF2Njc7jcW4a25QOjEobZviMbZviMC/EobZviMbZviMC/EobZviMbZviMC/EobZviMbZviMC/EobZviMbZviMC/EobZviMbZviMC/EobZ/iMbZviMC/EobZviMbZviMC/EobZ/iMbZviMC/EobZviMbZ/iMC/EobZviMbZviMC/EobZviMbZviMC/EobZviMi+Ly2zVALmwuQLnwgdGYfcfKc9MXmvlqA2NjYg2PjMvWax7R3QIzjYqni1q1TSvlZ7rYod1NALhtyXD3trynodmvKNmvKB51RjmdwSUQtoRsiV/4mg01GlPeL6waeMa+YmxsMnYAHZpm9xrfNtBvnotmvKNmvKB556OKq4avTqFg7OAjAopy3F7Zd1hfeTKY6Px2dmZzmYWuGAC2SqoKjgSdmT4t4T1uzXlGzXlA8vToYxS7AOSbWJanmHZogm2q37NTS39ZqrVsa4aixbaNRYZVCBQdk2pO8Nntre26et2a8o2Y5QPPA47NTuN189tmVOrbhvsBltrfXWWMLSrvhwKrvTqB7lhkzEA8gLC/KdnZryjZrygef6XwtZ6jFFqNemBSKVMgp1Lm7MLi4/Dz/AAkW110t98ctZqmVagvYUlvlqr+Djqoa+bfp4z02zXlGzHKB5vY40KoVyllIsBSOuVze5B/NkHzPykVxiv2Q2W9RiAaWUk/gGuo14jkNJ6LZryjZrygeYNHGtkLFzwIJpgW2tMgta2uXNu5eOs1XHtoWKi+ptRuDle+XQjJm2dr9rfeek2a8o2a8oFSiWyLn/FlGbztr+snLGzXlGzXlArxLGzXlGzXlArxLGzXlGzXlArxLGzXlGzXlArxLGzXlGzXlArxLGzXlGzXlArzldJ4tUqUxlZgzCm1kuF1Da30sRfXhO7sxykHwyMQSL2BG82sd+nGBxLZWXL/MY3/lu4ZqZs1rAbh2jc8vlOnSTKire+VQL87C0tLQUblA8pnZDlArxLGyHKNkOUCvEsbIco2Q5QK8SxshyjZDlArxLGyHKNkOUCvEsbIco2Q5QK80Y6ialGogJVmUgEGxB4H6y/shyjZDlA8mmGx4Je5DWzgZlNmdlzqL6dlVNr6dqbq9PHurqToaVhYILtk5g3Vs3LS09NshyjZDlA4WJw+Iq4IqzMK+/ssq3IOgBH5eXHnxnQ2R2xfaNlK2yaZQb3zc7y7shyjZDlA8tQwuKpi9NKinKQ5aqrZmLizKGLAWXNy32lro+riTWCVTotMPU0X8RFsmgtvBbTmOE7+yHKNkOUDhdH4bELWxBqtpUVcrKxIB7X4QRpYFfpx1k8fgGfDLTzPUqKV7WYox7QzE5SOF52tkOUbIcoHmqtLGWyLnVKb6FTTuyisMoBOptTve++2t5OkMcWUMSFzjObUt2V7hbfkvswL9rUz0WyHKNkOUDzKU8aSqEEUwqfmTeDTOhGveXvfdOk9B/vdOoCxp7J1YX7IN0y6cz2tZ1NkOUbIcoFaV8ZRaouVba7ySQR+48OM6OyHKNkvKBzqFFhUd2y9oAAAk7iee7fum99x8pa2S8pF6QsdOEDbERAREQEREBERAREQEREBERAREQEREBERAREQEREBERAREQEREBERAREQEREBERAREQEREBERAREQEREBERAREQEREBERAREQEi+4+UlIvuPlAlE+adYWM7vD+l/dHWFjO7w/pf3QPpcT5p1hYzu8P6X90dYWM7vD+l/dA+lxPmnWFjO7w/pf3R1hYzu8P6X90D6XE+adYWM7vD+l/dHWFjO7w/pf3QPpcT5p1hYzu8P6X90dYWM7vD+l/dA+lxPmnWFjO7w/pf3R1hYzu8P6X90D6XE+adYWM7vD+l/dHWFjO7w/pf3QPpcT5p1hYzu8P6X90dYWM7vD+l/dA+lxPmnWFjO7w/pf3R1hYzu8P6X90D6XE+adYWM7vD+l/dHWFjO7w/pf3QPpcT5p1hYzu8P6X90dYWM7vD+l/dA+lxPmnWFjO7w/pf3R1hYzu8P6X90D6XE+adYWM7vD+l/dHWFjO7w/pf3QPpcT5p1hYzu8P6X90dYWM7vD+l/dA+lxPmnWFjO7w/pf3R1hYzu8P6X90D6XE+adYWM7vD+l/dHWFjO7w/pf3QPpcT5p1hYzu8P6X90dYWM7vD+l/dA+lxPmnWFjO7w/pf3R1hYzu8P6X90D6XE+adYWM7vD+l/dHWFjO7w/pf3QPpcT5p1hYzu8P6X90dYWM7vD+l/dA+lxPmnWFjO7w/pf3R1hYzu8P6X90D6XE+adYWM7vD+l/dHWFjO7w/pf3QPpcT5p1hYzu8P6X90dYWM7vD+l/dA+lxPmnWFjO7w/pf3R1hYzu8P6X90D6XE+adYWM7vD+l/dHWFjO7w/pf3QPpcT5p1hYzu8P6X90dYWM7vD+l/dA+lxPmnWFjO7w/pf3R1hYzu8P6X90D6XE+adYWM7vD+l/dHWFjO7w/pf3QPpcT5p1hYzu8P6X90dYWM7vD+l/dA+lyL7j5T5t1hYzu8P6X90H/aDjO7w/pf3QPJxEQEREBERAREQEREBERAREQEREBERAREQEREBERAREQEREBERAREQEREBERAREQEREBERAREQEREBERAREQEREBERAREQEREBERAREQEREBERAREQEREBERAREQEREBERAREQEREBERAREQEREBERAREQEREBERAREQEREBERAREQEREBERAREQEREBERAREQEREBERAREQEREBERAREQEREBERAREQEREBERAREQEREBERAREQEREBERAREQEREBERAREQEREBERAREQEREBERAREQEREBERAREQEREBERA//2Q==\n"
              }
            ],
            "_view_module": "@jupyter-widgets/output",
            "_model_module_version": "1.0.0",
            "_view_count": null,
            "_view_module_version": "1.0.0",
            "layout": "IPY_MODEL_b758974f2c074928948649cd089b9d8e",
            "_model_module": "@jupyter-widgets/output"
          }
        },
        "1cccd200b3644f3a9c92b7848dbca300": {
          "model_module": "@jupyter-widgets/output",
          "model_name": "OutputModel",
          "model_module_version": "1.0.0",
          "state": {
            "_view_name": "OutputView",
            "msg_id": "",
            "_dom_classes": [],
            "_model_name": "OutputModel",
            "outputs": [
              {
                "output_type": "stream",
                "metadata": {
                  "tags": []
                },
                "text": "Video available at https://www.bilibili.com/video/BV1NL411H71t\n",
                "stream": "stdout"
              },
              {
                "output_type": "display_data",
                "metadata": {
                  "tags": []
                },
                "text/html": "\n        <iframe\n            width=\"854\"\n            height=\"480\"\n            src=\"https://player.bilibili.com/player.html?bvid=BV1NL411H71t&page=1?fs=1\"\n            frameborder=\"0\"\n            allowfullscreen\n        ></iframe>\n        ",
                "text/plain": "<__main__.BiliVideo at 0x7f693b3b4790>"
              }
            ],
            "_view_module": "@jupyter-widgets/output",
            "_model_module_version": "1.0.0",
            "_view_count": null,
            "_view_module_version": "1.0.0",
            "layout": "IPY_MODEL_d387b52f74c040bbbcfad2b3720d5c1a",
            "_model_module": "@jupyter-widgets/output"
          }
        },
        "b758974f2c074928948649cd089b9d8e": {
          "model_module": "@jupyter-widgets/base",
          "model_name": "LayoutModel",
          "model_module_version": "1.2.0",
          "state": {
            "_view_name": "LayoutView",
            "grid_template_rows": null,
            "right": null,
            "justify_content": null,
            "_view_module": "@jupyter-widgets/base",
            "overflow": null,
            "_model_module_version": "1.2.0",
            "_view_count": null,
            "flex_flow": null,
            "width": null,
            "min_width": null,
            "border": null,
            "align_items": null,
            "bottom": null,
            "_model_module": "@jupyter-widgets/base",
            "top": null,
            "grid_column": null,
            "overflow_y": null,
            "overflow_x": null,
            "grid_auto_flow": null,
            "grid_area": null,
            "grid_template_columns": null,
            "flex": null,
            "_model_name": "LayoutModel",
            "justify_items": null,
            "grid_row": null,
            "max_height": null,
            "align_content": null,
            "visibility": null,
            "align_self": null,
            "height": null,
            "min_height": null,
            "padding": null,
            "grid_auto_rows": null,
            "grid_gap": null,
            "max_width": null,
            "order": null,
            "_view_module_version": "1.2.0",
            "grid_template_areas": null,
            "object_position": null,
            "object_fit": null,
            "grid_auto_columns": null,
            "margin": null,
            "display": null,
            "left": null
          }
        },
        "d387b52f74c040bbbcfad2b3720d5c1a": {
          "model_module": "@jupyter-widgets/base",
          "model_name": "LayoutModel",
          "model_module_version": "1.2.0",
          "state": {
            "_view_name": "LayoutView",
            "grid_template_rows": null,
            "right": null,
            "justify_content": null,
            "_view_module": "@jupyter-widgets/base",
            "overflow": null,
            "_model_module_version": "1.2.0",
            "_view_count": null,
            "flex_flow": null,
            "width": null,
            "min_width": null,
            "border": null,
            "align_items": null,
            "bottom": null,
            "_model_module": "@jupyter-widgets/base",
            "top": null,
            "grid_column": null,
            "overflow_y": null,
            "overflow_x": null,
            "grid_auto_flow": null,
            "grid_area": null,
            "grid_template_columns": null,
            "flex": null,
            "_model_name": "LayoutModel",
            "justify_items": null,
            "grid_row": null,
            "max_height": null,
            "align_content": null,
            "visibility": null,
            "align_self": null,
            "height": null,
            "min_height": null,
            "padding": null,
            "grid_auto_rows": null,
            "grid_gap": null,
            "max_width": null,
            "order": null,
            "_view_module_version": "1.2.0",
            "grid_template_areas": null,
            "object_position": null,
            "object_fit": null,
            "grid_auto_columns": null,
            "margin": null,
            "display": null,
            "left": null
          }
        },
        "5a419fb9baed45c68314527beee7a026": {
          "model_module": "@jupyter-widgets/controls",
          "model_name": "HBoxModel",
          "model_module_version": "1.5.0",
          "state": {
            "_view_name": "HBoxView",
            "_dom_classes": [],
            "_model_name": "HBoxModel",
            "_view_module": "@jupyter-widgets/controls",
            "_model_module_version": "1.5.0",
            "_view_count": null,
            "_view_module_version": "1.5.0",
            "box_style": "",
            "layout": "IPY_MODEL_3eeebb1af30f43c198fff26a0f385320",
            "_model_module": "@jupyter-widgets/controls",
            "children": [
              "IPY_MODEL_3475300d4c54427cb6822ba315872710",
              "IPY_MODEL_982471f8ac024f25a67607e10179b83c",
              "IPY_MODEL_1ad21e2cdc84405ca1689d4eb0c31071"
            ]
          }
        },
        "3eeebb1af30f43c198fff26a0f385320": {
          "model_module": "@jupyter-widgets/base",
          "model_name": "LayoutModel",
          "model_module_version": "1.2.0",
          "state": {
            "_view_name": "LayoutView",
            "grid_template_rows": null,
            "right": null,
            "justify_content": null,
            "_view_module": "@jupyter-widgets/base",
            "overflow": null,
            "_model_module_version": "1.2.0",
            "_view_count": null,
            "flex_flow": null,
            "width": null,
            "min_width": null,
            "border": null,
            "align_items": null,
            "bottom": null,
            "_model_module": "@jupyter-widgets/base",
            "top": null,
            "grid_column": null,
            "overflow_y": null,
            "overflow_x": null,
            "grid_auto_flow": null,
            "grid_area": null,
            "grid_template_columns": null,
            "flex": null,
            "_model_name": "LayoutModel",
            "justify_items": null,
            "grid_row": null,
            "max_height": null,
            "align_content": null,
            "visibility": null,
            "align_self": null,
            "height": null,
            "min_height": null,
            "padding": null,
            "grid_auto_rows": null,
            "grid_gap": null,
            "max_width": null,
            "order": null,
            "_view_module_version": "1.2.0",
            "grid_template_areas": null,
            "object_position": null,
            "object_fit": null,
            "grid_auto_columns": null,
            "margin": null,
            "display": null,
            "left": null
          }
        },
        "3475300d4c54427cb6822ba315872710": {
          "model_module": "@jupyter-widgets/controls",
          "model_name": "HTMLModel",
          "model_module_version": "1.5.0",
          "state": {
            "_view_name": "HTMLView",
            "style": "IPY_MODEL_85ff02a3da27463e9199e88c0aa3f30a",
            "_dom_classes": [],
            "description": "",
            "_model_name": "HTMLModel",
            "placeholder": "​",
            "_view_module": "@jupyter-widgets/controls",
            "_model_module_version": "1.5.0",
            "value": "100%",
            "_view_count": null,
            "_view_module_version": "1.5.0",
            "description_tooltip": null,
            "_model_module": "@jupyter-widgets/controls",
            "layout": "IPY_MODEL_65ecbda0796a42d7952b220d91fde9c5"
          }
        },
        "982471f8ac024f25a67607e10179b83c": {
          "model_module": "@jupyter-widgets/controls",
          "model_name": "FloatProgressModel",
          "model_module_version": "1.5.0",
          "state": {
            "_view_name": "ProgressView",
            "style": "IPY_MODEL_254b1c4124f24e7ca256ce91b9a294b4",
            "_dom_classes": [],
            "description": "",
            "_model_name": "FloatProgressModel",
            "bar_style": "success",
            "max": 200,
            "_view_module": "@jupyter-widgets/controls",
            "_model_module_version": "1.5.0",
            "value": 200,
            "_view_count": null,
            "_view_module_version": "1.5.0",
            "orientation": "horizontal",
            "min": 0,
            "description_tooltip": null,
            "_model_module": "@jupyter-widgets/controls",
            "layout": "IPY_MODEL_7f878b7a12db449a93f3cdfbf58f405e"
          }
        },
        "1ad21e2cdc84405ca1689d4eb0c31071": {
          "model_module": "@jupyter-widgets/controls",
          "model_name": "HTMLModel",
          "model_module_version": "1.5.0",
          "state": {
            "_view_name": "HTMLView",
            "style": "IPY_MODEL_6f6a1c0d2bc044a483b85c493d94769d",
            "_dom_classes": [],
            "description": "",
            "_model_name": "HTMLModel",
            "placeholder": "​",
            "_view_module": "@jupyter-widgets/controls",
            "_model_module_version": "1.5.0",
            "value": " 200/200 [00:01&lt;00:00, 131.54it/s]",
            "_view_count": null,
            "_view_module_version": "1.5.0",
            "description_tooltip": null,
            "_model_module": "@jupyter-widgets/controls",
            "layout": "IPY_MODEL_93eba909b83c4e629218716e1172250d"
          }
        },
        "85ff02a3da27463e9199e88c0aa3f30a": {
          "model_module": "@jupyter-widgets/controls",
          "model_name": "DescriptionStyleModel",
          "model_module_version": "1.5.0",
          "state": {
            "_view_name": "StyleView",
            "_model_name": "DescriptionStyleModel",
            "description_width": "",
            "_view_module": "@jupyter-widgets/base",
            "_model_module_version": "1.5.0",
            "_view_count": null,
            "_view_module_version": "1.2.0",
            "_model_module": "@jupyter-widgets/controls"
          }
        },
        "65ecbda0796a42d7952b220d91fde9c5": {
          "model_module": "@jupyter-widgets/base",
          "model_name": "LayoutModel",
          "model_module_version": "1.2.0",
          "state": {
            "_view_name": "LayoutView",
            "grid_template_rows": null,
            "right": null,
            "justify_content": null,
            "_view_module": "@jupyter-widgets/base",
            "overflow": null,
            "_model_module_version": "1.2.0",
            "_view_count": null,
            "flex_flow": null,
            "width": null,
            "min_width": null,
            "border": null,
            "align_items": null,
            "bottom": null,
            "_model_module": "@jupyter-widgets/base",
            "top": null,
            "grid_column": null,
            "overflow_y": null,
            "overflow_x": null,
            "grid_auto_flow": null,
            "grid_area": null,
            "grid_template_columns": null,
            "flex": null,
            "_model_name": "LayoutModel",
            "justify_items": null,
            "grid_row": null,
            "max_height": null,
            "align_content": null,
            "visibility": null,
            "align_self": null,
            "height": null,
            "min_height": null,
            "padding": null,
            "grid_auto_rows": null,
            "grid_gap": null,
            "max_width": null,
            "order": null,
            "_view_module_version": "1.2.0",
            "grid_template_areas": null,
            "object_position": null,
            "object_fit": null,
            "grid_auto_columns": null,
            "margin": null,
            "display": null,
            "left": null
          }
        },
        "254b1c4124f24e7ca256ce91b9a294b4": {
          "model_module": "@jupyter-widgets/controls",
          "model_name": "ProgressStyleModel",
          "model_module_version": "1.5.0",
          "state": {
            "_view_name": "StyleView",
            "_model_name": "ProgressStyleModel",
            "description_width": "",
            "_view_module": "@jupyter-widgets/base",
            "_model_module_version": "1.5.0",
            "_view_count": null,
            "_view_module_version": "1.2.0",
            "bar_color": null,
            "_model_module": "@jupyter-widgets/controls"
          }
        },
        "7f878b7a12db449a93f3cdfbf58f405e": {
          "model_module": "@jupyter-widgets/base",
          "model_name": "LayoutModel",
          "model_module_version": "1.2.0",
          "state": {
            "_view_name": "LayoutView",
            "grid_template_rows": null,
            "right": null,
            "justify_content": null,
            "_view_module": "@jupyter-widgets/base",
            "overflow": null,
            "_model_module_version": "1.2.0",
            "_view_count": null,
            "flex_flow": null,
            "width": null,
            "min_width": null,
            "border": null,
            "align_items": null,
            "bottom": null,
            "_model_module": "@jupyter-widgets/base",
            "top": null,
            "grid_column": null,
            "overflow_y": null,
            "overflow_x": null,
            "grid_auto_flow": null,
            "grid_area": null,
            "grid_template_columns": null,
            "flex": null,
            "_model_name": "LayoutModel",
            "justify_items": null,
            "grid_row": null,
            "max_height": null,
            "align_content": null,
            "visibility": null,
            "align_self": null,
            "height": null,
            "min_height": null,
            "padding": null,
            "grid_auto_rows": null,
            "grid_gap": null,
            "max_width": null,
            "order": null,
            "_view_module_version": "1.2.0",
            "grid_template_areas": null,
            "object_position": null,
            "object_fit": null,
            "grid_auto_columns": null,
            "margin": null,
            "display": null,
            "left": null
          }
        },
        "6f6a1c0d2bc044a483b85c493d94769d": {
          "model_module": "@jupyter-widgets/controls",
          "model_name": "DescriptionStyleModel",
          "model_module_version": "1.5.0",
          "state": {
            "_view_name": "StyleView",
            "_model_name": "DescriptionStyleModel",
            "description_width": "",
            "_view_module": "@jupyter-widgets/base",
            "_model_module_version": "1.5.0",
            "_view_count": null,
            "_view_module_version": "1.2.0",
            "_model_module": "@jupyter-widgets/controls"
          }
        },
        "93eba909b83c4e629218716e1172250d": {
          "model_module": "@jupyter-widgets/base",
          "model_name": "LayoutModel",
          "model_module_version": "1.2.0",
          "state": {
            "_view_name": "LayoutView",
            "grid_template_rows": null,
            "right": null,
            "justify_content": null,
            "_view_module": "@jupyter-widgets/base",
            "overflow": null,
            "_model_module_version": "1.2.0",
            "_view_count": null,
            "flex_flow": null,
            "width": null,
            "min_width": null,
            "border": null,
            "align_items": null,
            "bottom": null,
            "_model_module": "@jupyter-widgets/base",
            "top": null,
            "grid_column": null,
            "overflow_y": null,
            "overflow_x": null,
            "grid_auto_flow": null,
            "grid_area": null,
            "grid_template_columns": null,
            "flex": null,
            "_model_name": "LayoutModel",
            "justify_items": null,
            "grid_row": null,
            "max_height": null,
            "align_content": null,
            "visibility": null,
            "align_self": null,
            "height": null,
            "min_height": null,
            "padding": null,
            "grid_auto_rows": null,
            "grid_gap": null,
            "max_width": null,
            "order": null,
            "_view_module_version": "1.2.0",
            "grid_template_areas": null,
            "object_position": null,
            "object_fit": null,
            "grid_auto_columns": null,
            "margin": null,
            "display": null,
            "left": null
          }
        },
        "3eb03d68b5444c9ea8876c7ddb911102": {
          "model_module": "@jupyter-widgets/controls",
          "model_name": "VBoxModel",
          "model_module_version": "1.5.0",
          "state": {
            "_view_name": "VBoxView",
            "_dom_classes": [
              "widget-interact"
            ],
            "_model_name": "VBoxModel",
            "_view_module": "@jupyter-widgets/controls",
            "_model_module_version": "1.5.0",
            "_view_count": null,
            "_view_module_version": "1.5.0",
            "box_style": "",
            "layout": "IPY_MODEL_0c84598009b94d27a37e918d433ecd3c",
            "_model_module": "@jupyter-widgets/controls",
            "children": [
              "IPY_MODEL_56996bb14bf446089bc8d2ae495c8a89",
              "IPY_MODEL_bf3a4cbc988147c685ab4fa6ed04774d",
              "IPY_MODEL_4dca128935ac4cbebaaee444666bdf86",
              "IPY_MODEL_fef3fb2b6b8f497ea9458a2889665c89",
              "IPY_MODEL_856dc8f6fa48480cbaef2ce3b6516c93"
            ]
          }
        },
        "0c84598009b94d27a37e918d433ecd3c": {
          "model_module": "@jupyter-widgets/base",
          "model_name": "LayoutModel",
          "model_module_version": "1.2.0",
          "state": {
            "_view_name": "LayoutView",
            "grid_template_rows": null,
            "right": null,
            "justify_content": null,
            "_view_module": "@jupyter-widgets/base",
            "overflow": null,
            "_model_module_version": "1.2.0",
            "_view_count": null,
            "flex_flow": null,
            "width": null,
            "min_width": null,
            "border": null,
            "align_items": null,
            "bottom": null,
            "_model_module": "@jupyter-widgets/base",
            "top": null,
            "grid_column": null,
            "overflow_y": null,
            "overflow_x": null,
            "grid_auto_flow": null,
            "grid_area": null,
            "grid_template_columns": null,
            "flex": null,
            "_model_name": "LayoutModel",
            "justify_items": null,
            "grid_row": null,
            "max_height": null,
            "align_content": null,
            "visibility": null,
            "align_self": null,
            "height": null,
            "min_height": null,
            "padding": null,
            "grid_auto_rows": null,
            "grid_gap": null,
            "max_width": null,
            "order": null,
            "_view_module_version": "1.2.0",
            "grid_template_areas": null,
            "object_position": null,
            "object_fit": null,
            "grid_auto_columns": null,
            "margin": null,
            "display": null,
            "left": null
          }
        },
        "56996bb14bf446089bc8d2ae495c8a89": {
          "model_module": "@jupyter-widgets/controls",
          "model_name": "IntSliderModel",
          "model_module_version": "1.5.0",
          "state": {
            "_view_name": "IntSliderView",
            "style": "IPY_MODEL_1ec8799f8bfc4a9cbfeaaf55a43e0578",
            "_dom_classes": [],
            "description": "max_steps",
            "step": 5,
            "_model_name": "IntSliderModel",
            "orientation": "horizontal",
            "max": 500,
            "_view_module": "@jupyter-widgets/controls",
            "_model_module_version": "1.5.0",
            "value": 300,
            "_view_count": null,
            "disabled": false,
            "_view_module_version": "1.5.0",
            "min": 50,
            "continuous_update": true,
            "readout_format": "d",
            "description_tooltip": null,
            "readout": true,
            "_model_module": "@jupyter-widgets/controls",
            "layout": "IPY_MODEL_f9a5177a0eb34d6c8c91559cc4565f43"
          }
        },
        "bf3a4cbc988147c685ab4fa6ed04774d": {
          "model_module": "@jupyter-widgets/controls",
          "model_name": "FloatLogSliderModel",
          "model_module_version": "1.5.0",
          "state": {
            "_view_name": "FloatLogSliderView",
            "orientation": "horizontal",
            "_view_module": "@jupyter-widgets/controls",
            "_model_module_version": "1.5.0",
            "_view_count": null,
            "disabled": false,
            "readout_format": ".3g",
            "_model_module": "@jupyter-widgets/controls",
            "style": "IPY_MODEL_4dec85e080d549eaa87c14acd9914bb1",
            "layout": "IPY_MODEL_ac214b5ee4434efdbcb526ed2f37ed1c",
            "min": -3,
            "continuous_update": true,
            "description_tooltip": null,
            "_dom_classes": [],
            "description": "lr",
            "_model_name": "FloatLogSliderModel",
            "max": 0.7,
            "readout": true,
            "step": 0.1,
            "base": 10,
            "value": 0.1,
            "_view_module_version": "1.5.0"
          }
        },
        "4dca128935ac4cbebaaee444666bdf86": {
          "model_module": "@jupyter-widgets/controls",
          "model_name": "FloatSliderModel",
          "model_module_version": "1.5.0",
          "state": {
            "_view_name": "FloatSliderView",
            "style": "IPY_MODEL_c04dc6d581c7405ab8fa70880484d9e4",
            "_dom_classes": [],
            "description": "beta",
            "step": 0.01,
            "_model_name": "FloatSliderModel",
            "orientation": "horizontal",
            "max": 1,
            "_view_module": "@jupyter-widgets/controls",
            "_model_module_version": "1.5.0",
            "value": 0.9,
            "_view_count": null,
            "disabled": false,
            "_view_module_version": "1.5.0",
            "min": 0,
            "continuous_update": true,
            "readout_format": ".2f",
            "description_tooltip": null,
            "readout": true,
            "_model_module": "@jupyter-widgets/controls",
            "layout": "IPY_MODEL_c02758fee2e740fa9b5d432f731dd8a1"
          }
        },
        "fef3fb2b6b8f497ea9458a2889665c89": {
          "model_module": "@jupyter-widgets/controls",
          "model_name": "ButtonModel",
          "model_module_version": "1.5.0",
          "state": {
            "_view_name": "ButtonView",
            "style": "IPY_MODEL_9858b046bdc746f88852b9b1081e174e",
            "_dom_classes": [],
            "description": "Run Interact",
            "_model_name": "ButtonModel",
            "button_style": "",
            "_view_module": "@jupyter-widgets/controls",
            "_model_module_version": "1.5.0",
            "tooltip": "",
            "_view_count": null,
            "disabled": false,
            "_view_module_version": "1.5.0",
            "layout": "IPY_MODEL_dcfcdd8eff404318abcce8e8aef33deb",
            "_model_module": "@jupyter-widgets/controls",
            "icon": ""
          }
        },
        "856dc8f6fa48480cbaef2ce3b6516c93": {
          "model_module": "@jupyter-widgets/output",
          "model_name": "OutputModel",
          "model_module_version": "1.0.0",
          "state": {
            "_view_name": "OutputView",
            "msg_id": "",
            "_dom_classes": [],
            "_model_name": "OutputModel",
            "outputs": [],
            "_view_module": "@jupyter-widgets/output",
            "_model_module_version": "1.0.0",
            "_view_count": null,
            "_view_module_version": "1.0.0",
            "layout": "IPY_MODEL_3636c5c9b8c142b19ca890a0b907649b",
            "_model_module": "@jupyter-widgets/output"
          }
        },
        "1ec8799f8bfc4a9cbfeaaf55a43e0578": {
          "model_module": "@jupyter-widgets/controls",
          "model_name": "SliderStyleModel",
          "model_module_version": "1.5.0",
          "state": {
            "_view_name": "StyleView",
            "handle_color": null,
            "_model_name": "SliderStyleModel",
            "description_width": "",
            "_view_module": "@jupyter-widgets/base",
            "_model_module_version": "1.5.0",
            "_view_count": null,
            "_view_module_version": "1.2.0",
            "_model_module": "@jupyter-widgets/controls"
          }
        },
        "f9a5177a0eb34d6c8c91559cc4565f43": {
          "model_module": "@jupyter-widgets/base",
          "model_name": "LayoutModel",
          "model_module_version": "1.2.0",
          "state": {
            "_view_name": "LayoutView",
            "grid_template_rows": null,
            "right": null,
            "justify_content": null,
            "_view_module": "@jupyter-widgets/base",
            "overflow": null,
            "_model_module_version": "1.2.0",
            "_view_count": null,
            "flex_flow": null,
            "width": null,
            "min_width": null,
            "border": null,
            "align_items": null,
            "bottom": null,
            "_model_module": "@jupyter-widgets/base",
            "top": null,
            "grid_column": null,
            "overflow_y": null,
            "overflow_x": null,
            "grid_auto_flow": null,
            "grid_area": null,
            "grid_template_columns": null,
            "flex": null,
            "_model_name": "LayoutModel",
            "justify_items": null,
            "grid_row": null,
            "max_height": null,
            "align_content": null,
            "visibility": null,
            "align_self": null,
            "height": null,
            "min_height": null,
            "padding": null,
            "grid_auto_rows": null,
            "grid_gap": null,
            "max_width": null,
            "order": null,
            "_view_module_version": "1.2.0",
            "grid_template_areas": null,
            "object_position": null,
            "object_fit": null,
            "grid_auto_columns": null,
            "margin": null,
            "display": null,
            "left": null
          }
        },
        "4dec85e080d549eaa87c14acd9914bb1": {
          "model_module": "@jupyter-widgets/controls",
          "model_name": "SliderStyleModel",
          "model_module_version": "1.5.0",
          "state": {
            "_view_name": "StyleView",
            "handle_color": null,
            "_model_name": "SliderStyleModel",
            "description_width": "",
            "_view_module": "@jupyter-widgets/base",
            "_model_module_version": "1.5.0",
            "_view_count": null,
            "_view_module_version": "1.2.0",
            "_model_module": "@jupyter-widgets/controls"
          }
        },
        "ac214b5ee4434efdbcb526ed2f37ed1c": {
          "model_module": "@jupyter-widgets/base",
          "model_name": "LayoutModel",
          "model_module_version": "1.2.0",
          "state": {
            "_view_name": "LayoutView",
            "grid_template_rows": null,
            "right": null,
            "justify_content": null,
            "_view_module": "@jupyter-widgets/base",
            "overflow": null,
            "_model_module_version": "1.2.0",
            "_view_count": null,
            "flex_flow": null,
            "width": null,
            "min_width": null,
            "border": null,
            "align_items": null,
            "bottom": null,
            "_model_module": "@jupyter-widgets/base",
            "top": null,
            "grid_column": null,
            "overflow_y": null,
            "overflow_x": null,
            "grid_auto_flow": null,
            "grid_area": null,
            "grid_template_columns": null,
            "flex": null,
            "_model_name": "LayoutModel",
            "justify_items": null,
            "grid_row": null,
            "max_height": null,
            "align_content": null,
            "visibility": null,
            "align_self": null,
            "height": null,
            "min_height": null,
            "padding": null,
            "grid_auto_rows": null,
            "grid_gap": null,
            "max_width": null,
            "order": null,
            "_view_module_version": "1.2.0",
            "grid_template_areas": null,
            "object_position": null,
            "object_fit": null,
            "grid_auto_columns": null,
            "margin": null,
            "display": null,
            "left": null
          }
        },
        "c04dc6d581c7405ab8fa70880484d9e4": {
          "model_module": "@jupyter-widgets/controls",
          "model_name": "SliderStyleModel",
          "model_module_version": "1.5.0",
          "state": {
            "_view_name": "StyleView",
            "handle_color": null,
            "_model_name": "SliderStyleModel",
            "description_width": "",
            "_view_module": "@jupyter-widgets/base",
            "_model_module_version": "1.5.0",
            "_view_count": null,
            "_view_module_version": "1.2.0",
            "_model_module": "@jupyter-widgets/controls"
          }
        },
        "c02758fee2e740fa9b5d432f731dd8a1": {
          "model_module": "@jupyter-widgets/base",
          "model_name": "LayoutModel",
          "model_module_version": "1.2.0",
          "state": {
            "_view_name": "LayoutView",
            "grid_template_rows": null,
            "right": null,
            "justify_content": null,
            "_view_module": "@jupyter-widgets/base",
            "overflow": null,
            "_model_module_version": "1.2.0",
            "_view_count": null,
            "flex_flow": null,
            "width": null,
            "min_width": null,
            "border": null,
            "align_items": null,
            "bottom": null,
            "_model_module": "@jupyter-widgets/base",
            "top": null,
            "grid_column": null,
            "overflow_y": null,
            "overflow_x": null,
            "grid_auto_flow": null,
            "grid_area": null,
            "grid_template_columns": null,
            "flex": null,
            "_model_name": "LayoutModel",
            "justify_items": null,
            "grid_row": null,
            "max_height": null,
            "align_content": null,
            "visibility": null,
            "align_self": null,
            "height": null,
            "min_height": null,
            "padding": null,
            "grid_auto_rows": null,
            "grid_gap": null,
            "max_width": null,
            "order": null,
            "_view_module_version": "1.2.0",
            "grid_template_areas": null,
            "object_position": null,
            "object_fit": null,
            "grid_auto_columns": null,
            "margin": null,
            "display": null,
            "left": null
          }
        },
        "9858b046bdc746f88852b9b1081e174e": {
          "model_module": "@jupyter-widgets/controls",
          "model_name": "ButtonStyleModel",
          "model_module_version": "1.5.0",
          "state": {
            "_view_name": "StyleView",
            "_model_name": "ButtonStyleModel",
            "_view_module": "@jupyter-widgets/base",
            "_model_module_version": "1.5.0",
            "_view_count": null,
            "button_color": null,
            "font_weight": "",
            "_view_module_version": "1.2.0",
            "_model_module": "@jupyter-widgets/controls"
          }
        },
        "dcfcdd8eff404318abcce8e8aef33deb": {
          "model_module": "@jupyter-widgets/base",
          "model_name": "LayoutModel",
          "model_module_version": "1.2.0",
          "state": {
            "_view_name": "LayoutView",
            "grid_template_rows": null,
            "right": null,
            "justify_content": null,
            "_view_module": "@jupyter-widgets/base",
            "overflow": null,
            "_model_module_version": "1.2.0",
            "_view_count": null,
            "flex_flow": null,
            "width": null,
            "min_width": null,
            "border": null,
            "align_items": null,
            "bottom": null,
            "_model_module": "@jupyter-widgets/base",
            "top": null,
            "grid_column": null,
            "overflow_y": null,
            "overflow_x": null,
            "grid_auto_flow": null,
            "grid_area": null,
            "grid_template_columns": null,
            "flex": null,
            "_model_name": "LayoutModel",
            "justify_items": null,
            "grid_row": null,
            "max_height": null,
            "align_content": null,
            "visibility": null,
            "align_self": null,
            "height": null,
            "min_height": null,
            "padding": null,
            "grid_auto_rows": null,
            "grid_gap": null,
            "max_width": null,
            "order": null,
            "_view_module_version": "1.2.0",
            "grid_template_areas": null,
            "object_position": null,
            "object_fit": null,
            "grid_auto_columns": null,
            "margin": null,
            "display": null,
            "left": null
          }
        },
        "3636c5c9b8c142b19ca890a0b907649b": {
          "model_module": "@jupyter-widgets/base",
          "model_name": "LayoutModel",
          "model_module_version": "1.2.0",
          "state": {
            "_view_name": "LayoutView",
            "grid_template_rows": null,
            "right": null,
            "justify_content": null,
            "_view_module": "@jupyter-widgets/base",
            "overflow": null,
            "_model_module_version": "1.2.0",
            "_view_count": null,
            "flex_flow": null,
            "width": null,
            "min_width": null,
            "border": null,
            "align_items": null,
            "bottom": null,
            "_model_module": "@jupyter-widgets/base",
            "top": null,
            "grid_column": null,
            "overflow_y": null,
            "overflow_x": null,
            "grid_auto_flow": null,
            "grid_area": null,
            "grid_template_columns": null,
            "flex": null,
            "_model_name": "LayoutModel",
            "justify_items": null,
            "grid_row": null,
            "max_height": null,
            "align_content": null,
            "visibility": null,
            "align_self": null,
            "height": null,
            "min_height": null,
            "padding": null,
            "grid_auto_rows": null,
            "grid_gap": null,
            "max_width": null,
            "order": null,
            "_view_module_version": "1.2.0",
            "grid_template_areas": null,
            "object_position": null,
            "object_fit": null,
            "grid_auto_columns": null,
            "margin": null,
            "display": null,
            "left": null
          }
        },
        "c98199fb3fdb4b7db57968e8f13f500a": {
          "model_module": "@jupyter-widgets/controls",
          "model_name": "TextareaModel",
          "model_module_version": "1.5.0",
          "state": {
            "_view_name": "TextareaView",
            "style": "IPY_MODEL_857bbe204ad2410c9cd3485e83c05d33",
            "rows": null,
            "_dom_classes": [],
            "description": "",
            "_model_name": "TextareaModel",
            "placeholder": "Type something",
            "_view_module": "@jupyter-widgets/controls",
            "_model_module_version": "1.5.0",
            "value": "Type your answer here and click on `Submit!`",
            "_view_count": null,
            "disabled": false,
            "_view_module_version": "1.5.0",
            "continuous_update": true,
            "description_tooltip": null,
            "_model_module": "@jupyter-widgets/controls",
            "layout": "IPY_MODEL_33f0cb9b088d4d15b4eee460a2489101"
          }
        },
        "857bbe204ad2410c9cd3485e83c05d33": {
          "model_module": "@jupyter-widgets/controls",
          "model_name": "DescriptionStyleModel",
          "model_module_version": "1.5.0",
          "state": {
            "_view_name": "StyleView",
            "_model_name": "DescriptionStyleModel",
            "description_width": "",
            "_view_module": "@jupyter-widgets/base",
            "_model_module_version": "1.5.0",
            "_view_count": null,
            "_view_module_version": "1.2.0",
            "_model_module": "@jupyter-widgets/controls"
          }
        },
        "33f0cb9b088d4d15b4eee460a2489101": {
          "model_module": "@jupyter-widgets/base",
          "model_name": "LayoutModel",
          "model_module_version": "1.2.0",
          "state": {
            "_view_name": "LayoutView",
            "grid_template_rows": null,
            "right": null,
            "justify_content": null,
            "_view_module": "@jupyter-widgets/base",
            "overflow": null,
            "_model_module_version": "1.2.0",
            "_view_count": null,
            "flex_flow": null,
            "width": null,
            "min_width": null,
            "border": null,
            "align_items": null,
            "bottom": null,
            "_model_module": "@jupyter-widgets/base",
            "top": null,
            "grid_column": null,
            "overflow_y": null,
            "overflow_x": null,
            "grid_auto_flow": null,
            "grid_area": null,
            "grid_template_columns": null,
            "flex": null,
            "_model_name": "LayoutModel",
            "justify_items": null,
            "grid_row": null,
            "max_height": null,
            "align_content": null,
            "visibility": null,
            "align_self": null,
            "height": null,
            "min_height": null,
            "padding": null,
            "grid_auto_rows": null,
            "grid_gap": null,
            "max_width": null,
            "order": null,
            "_view_module_version": "1.2.0",
            "grid_template_areas": null,
            "object_position": null,
            "object_fit": null,
            "grid_auto_columns": null,
            "margin": null,
            "display": null,
            "left": null
          }
        },
        "c2e2857da65a42c2bbf9a42b2d582ddb": {
          "model_module": "@jupyter-widgets/controls",
          "model_name": "ButtonModel",
          "model_module_version": "1.5.0",
          "state": {
            "_view_name": "ButtonView",
            "style": "IPY_MODEL_b41670c562fd4ec39215a7e69a3623ef",
            "_dom_classes": [],
            "description": "Submit!",
            "_model_name": "ButtonModel",
            "button_style": "",
            "_view_module": "@jupyter-widgets/controls",
            "_model_module_version": "1.5.0",
            "tooltip": "",
            "_view_count": null,
            "disabled": false,
            "_view_module_version": "1.5.0",
            "layout": "IPY_MODEL_cf1f812573154e82b076c3fc43b118a6",
            "_model_module": "@jupyter-widgets/controls",
            "icon": ""
          }
        },
        "b41670c562fd4ec39215a7e69a3623ef": {
          "model_module": "@jupyter-widgets/controls",
          "model_name": "ButtonStyleModel",
          "model_module_version": "1.5.0",
          "state": {
            "_view_name": "StyleView",
            "_model_name": "ButtonStyleModel",
            "_view_module": "@jupyter-widgets/base",
            "_model_module_version": "1.5.0",
            "_view_count": null,
            "button_color": null,
            "font_weight": "",
            "_view_module_version": "1.2.0",
            "_model_module": "@jupyter-widgets/controls"
          }
        },
        "cf1f812573154e82b076c3fc43b118a6": {
          "model_module": "@jupyter-widgets/base",
          "model_name": "LayoutModel",
          "model_module_version": "1.2.0",
          "state": {
            "_view_name": "LayoutView",
            "grid_template_rows": null,
            "right": null,
            "justify_content": null,
            "_view_module": "@jupyter-widgets/base",
            "overflow": null,
            "_model_module_version": "1.2.0",
            "_view_count": null,
            "flex_flow": null,
            "width": null,
            "min_width": null,
            "border": null,
            "align_items": null,
            "bottom": null,
            "_model_module": "@jupyter-widgets/base",
            "top": null,
            "grid_column": null,
            "overflow_y": null,
            "overflow_x": null,
            "grid_auto_flow": null,
            "grid_area": null,
            "grid_template_columns": null,
            "flex": null,
            "_model_name": "LayoutModel",
            "justify_items": null,
            "grid_row": null,
            "max_height": null,
            "align_content": null,
            "visibility": null,
            "align_self": null,
            "height": null,
            "min_height": null,
            "padding": null,
            "grid_auto_rows": null,
            "grid_gap": null,
            "max_width": null,
            "order": null,
            "_view_module_version": "1.2.0",
            "grid_template_areas": null,
            "object_position": null,
            "object_fit": null,
            "grid_auto_columns": null,
            "margin": null,
            "display": null,
            "left": null
          }
        },
        "212e30d3b74c446e9390fa794f498317": {
          "model_module": "@jupyter-widgets/controls",
          "model_name": "TabModel",
          "model_module_version": "1.5.0",
          "state": {
            "_view_name": "TabView",
            "_dom_classes": [],
            "_titles": {
              "0": "Youtube",
              "1": "Bilibili"
            },
            "_model_name": "TabModel",
            "_view_module": "@jupyter-widgets/controls",
            "selected_index": 0,
            "_model_module_version": "1.5.0",
            "_view_count": null,
            "_view_module_version": "1.5.0",
            "box_style": "",
            "layout": "IPY_MODEL_b54c9f0a459046f7a2fe8b1ff8222783",
            "_model_module": "@jupyter-widgets/controls",
            "children": [
              "IPY_MODEL_87b1c15cbe4d441e8cb8fe5d5a3f9b6f",
              "IPY_MODEL_98364bc81ae14c9dbb82bb9542c35e10"
            ]
          }
        },
        "b54c9f0a459046f7a2fe8b1ff8222783": {
          "model_module": "@jupyter-widgets/base",
          "model_name": "LayoutModel",
          "model_module_version": "1.2.0",
          "state": {
            "_view_name": "LayoutView",
            "grid_template_rows": null,
            "right": null,
            "justify_content": null,
            "_view_module": "@jupyter-widgets/base",
            "overflow": null,
            "_model_module_version": "1.2.0",
            "_view_count": null,
            "flex_flow": null,
            "width": null,
            "min_width": null,
            "border": null,
            "align_items": null,
            "bottom": null,
            "_model_module": "@jupyter-widgets/base",
            "top": null,
            "grid_column": null,
            "overflow_y": null,
            "overflow_x": null,
            "grid_auto_flow": null,
            "grid_area": null,
            "grid_template_columns": null,
            "flex": null,
            "_model_name": "LayoutModel",
            "justify_items": null,
            "grid_row": null,
            "max_height": null,
            "align_content": null,
            "visibility": null,
            "align_self": null,
            "height": null,
            "min_height": null,
            "padding": null,
            "grid_auto_rows": null,
            "grid_gap": null,
            "max_width": null,
            "order": null,
            "_view_module_version": "1.2.0",
            "grid_template_areas": null,
            "object_position": null,
            "object_fit": null,
            "grid_auto_columns": null,
            "margin": null,
            "display": null,
            "left": null
          }
        },
        "87b1c15cbe4d441e8cb8fe5d5a3f9b6f": {
          "model_module": "@jupyter-widgets/output",
          "model_name": "OutputModel",
          "model_module_version": "1.0.0",
          "state": {
            "_view_name": "OutputView",
            "msg_id": "",
            "_dom_classes": [],
            "_model_name": "OutputModel",
            "outputs": [
              {
                "output_type": "stream",
                "metadata": {
                  "tags": []
                },
                "text": "Video available at https://youtube.com/watch?v=7vUpUEKKl5o\n",
                "stream": "stdout"
              },
              {
                "output_type": "display_data",
                "metadata": {
                  "tags": []
                },
                "text/html": "\n        <iframe\n            width=\"854\"\n            height=\"480\"\n            src=\"https://www.youtube.com/embed/7vUpUEKKl5o?fs=1&rel=0\"\n            frameborder=\"0\"\n            allowfullscreen\n        ></iframe>\n        ",
                "text/plain": "<IPython.lib.display.YouTubeVideo at 0x7f693a54e650>",
                "image/jpeg": "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\n"
              }
            ],
            "_view_module": "@jupyter-widgets/output",
            "_model_module_version": "1.0.0",
            "_view_count": null,
            "_view_module_version": "1.0.0",
            "layout": "IPY_MODEL_d6691eca002645c88964d8976562acad",
            "_model_module": "@jupyter-widgets/output"
          }
        },
        "98364bc81ae14c9dbb82bb9542c35e10": {
          "model_module": "@jupyter-widgets/output",
          "model_name": "OutputModel",
          "model_module_version": "1.0.0",
          "state": {
            "_view_name": "OutputView",
            "msg_id": "",
            "_dom_classes": [],
            "_model_name": "OutputModel",
            "outputs": [
              {
                "output_type": "stream",
                "metadata": {
                  "tags": []
                },
                "text": "Video available at https://www.bilibili.com/video/BV16h41167Jr\n",
                "stream": "stdout"
              },
              {
                "output_type": "display_data",
                "metadata": {
                  "tags": []
                },
                "text/html": "\n        <iframe\n            width=\"854\"\n            height=\"480\"\n            src=\"https://player.bilibili.com/player.html?bvid=BV16h41167Jr&page=1?fs=1\"\n            frameborder=\"0\"\n            allowfullscreen\n        ></iframe>\n        ",
                "text/plain": "<__main__.BiliVideo at 0x7f6939e815d0>"
              }
            ],
            "_view_module": "@jupyter-widgets/output",
            "_model_module_version": "1.0.0",
            "_view_count": null,
            "_view_module_version": "1.0.0",
            "layout": "IPY_MODEL_a533a6d7791a45bd80de3191e027468b",
            "_model_module": "@jupyter-widgets/output"
          }
        },
        "d6691eca002645c88964d8976562acad": {
          "model_module": "@jupyter-widgets/base",
          "model_name": "LayoutModel",
          "model_module_version": "1.2.0",
          "state": {
            "_view_name": "LayoutView",
            "grid_template_rows": null,
            "right": null,
            "justify_content": null,
            "_view_module": "@jupyter-widgets/base",
            "overflow": null,
            "_model_module_version": "1.2.0",
            "_view_count": null,
            "flex_flow": null,
            "width": null,
            "min_width": null,
            "border": null,
            "align_items": null,
            "bottom": null,
            "_model_module": "@jupyter-widgets/base",
            "top": null,
            "grid_column": null,
            "overflow_y": null,
            "overflow_x": null,
            "grid_auto_flow": null,
            "grid_area": null,
            "grid_template_columns": null,
            "flex": null,
            "_model_name": "LayoutModel",
            "justify_items": null,
            "grid_row": null,
            "max_height": null,
            "align_content": null,
            "visibility": null,
            "align_self": null,
            "height": null,
            "min_height": null,
            "padding": null,
            "grid_auto_rows": null,
            "grid_gap": null,
            "max_width": null,
            "order": null,
            "_view_module_version": "1.2.0",
            "grid_template_areas": null,
            "object_position": null,
            "object_fit": null,
            "grid_auto_columns": null,
            "margin": null,
            "display": null,
            "left": null
          }
        },
        "a533a6d7791a45bd80de3191e027468b": {
          "model_module": "@jupyter-widgets/base",
          "model_name": "LayoutModel",
          "model_module_version": "1.2.0",
          "state": {
            "_view_name": "LayoutView",
            "grid_template_rows": null,
            "right": null,
            "justify_content": null,
            "_view_module": "@jupyter-widgets/base",
            "overflow": null,
            "_model_module_version": "1.2.0",
            "_view_count": null,
            "flex_flow": null,
            "width": null,
            "min_width": null,
            "border": null,
            "align_items": null,
            "bottom": null,
            "_model_module": "@jupyter-widgets/base",
            "top": null,
            "grid_column": null,
            "overflow_y": null,
            "overflow_x": null,
            "grid_auto_flow": null,
            "grid_area": null,
            "grid_template_columns": null,
            "flex": null,
            "_model_name": "LayoutModel",
            "justify_items": null,
            "grid_row": null,
            "max_height": null,
            "align_content": null,
            "visibility": null,
            "align_self": null,
            "height": null,
            "min_height": null,
            "padding": null,
            "grid_auto_rows": null,
            "grid_gap": null,
            "max_width": null,
            "order": null,
            "_view_module_version": "1.2.0",
            "grid_template_areas": null,
            "object_position": null,
            "object_fit": null,
            "grid_auto_columns": null,
            "margin": null,
            "display": null,
            "left": null
          }
        },
        "085a7b4d56d744c9951d833d6c261d3d": {
          "model_module": "@jupyter-widgets/controls",
          "model_name": "VBoxModel",
          "model_module_version": "1.5.0",
          "state": {
            "_view_name": "VBoxView",
            "_dom_classes": [
              "widget-interact"
            ],
            "_model_name": "VBoxModel",
            "_view_module": "@jupyter-widgets/controls",
            "_model_module_version": "1.5.0",
            "_view_count": null,
            "_view_module_version": "1.5.0",
            "box_style": "",
            "layout": "IPY_MODEL_5d70ac578f1142389e7703967d467dc4",
            "_model_module": "@jupyter-widgets/controls",
            "children": [
              "IPY_MODEL_01f936908f02432da8f7c5121f502793",
              "IPY_MODEL_722aa466ddb64d85b0895308c23ec400",
              "IPY_MODEL_39bc332d3cf847eab45cce6d0ef3b5de",
              "IPY_MODEL_f4ec78160ccd475987d048161cfad7fb",
              "IPY_MODEL_946ab0ebdd2942ce9194f2aa08f1371a",
              "IPY_MODEL_1885faf97f774e41925474f0ccad4360"
            ]
          }
        },
        "5d70ac578f1142389e7703967d467dc4": {
          "model_module": "@jupyter-widgets/base",
          "model_name": "LayoutModel",
          "model_module_version": "1.2.0",
          "state": {
            "_view_name": "LayoutView",
            "grid_template_rows": null,
            "right": null,
            "justify_content": null,
            "_view_module": "@jupyter-widgets/base",
            "overflow": null,
            "_model_module_version": "1.2.0",
            "_view_count": null,
            "flex_flow": null,
            "width": null,
            "min_width": null,
            "border": null,
            "align_items": null,
            "bottom": null,
            "_model_module": "@jupyter-widgets/base",
            "top": null,
            "grid_column": null,
            "overflow_y": null,
            "overflow_x": null,
            "grid_auto_flow": null,
            "grid_area": null,
            "grid_template_columns": null,
            "flex": null,
            "_model_name": "LayoutModel",
            "justify_items": null,
            "grid_row": null,
            "max_height": null,
            "align_content": null,
            "visibility": null,
            "align_self": null,
            "height": null,
            "min_height": null,
            "padding": null,
            "grid_auto_rows": null,
            "grid_gap": null,
            "max_width": null,
            "order": null,
            "_view_module_version": "1.2.0",
            "grid_template_areas": null,
            "object_position": null,
            "object_fit": null,
            "grid_auto_columns": null,
            "margin": null,
            "display": null,
            "left": null
          }
        },
        "01f936908f02432da8f7c5121f502793": {
          "model_module": "@jupyter-widgets/controls",
          "model_name": "IntSliderModel",
          "model_module_version": "1.5.0",
          "state": {
            "_view_name": "IntSliderView",
            "style": "IPY_MODEL_b795109297ce48bc8ea85709c359e0fa",
            "_dom_classes": [],
            "description": "max_steps",
            "step": 5,
            "_model_name": "IntSliderModel",
            "orientation": "horizontal",
            "max": 500,
            "_view_module": "@jupyter-widgets/controls",
            "_model_module_version": "1.5.0",
            "value": 150,
            "_view_count": null,
            "disabled": false,
            "_view_module_version": "1.5.0",
            "min": 50,
            "continuous_update": true,
            "readout_format": "d",
            "description_tooltip": null,
            "readout": true,
            "_model_module": "@jupyter-widgets/controls",
            "layout": "IPY_MODEL_078d8ff9a0914b79af15ac0d2319c38c"
          }
        },
        "722aa466ddb64d85b0895308c23ec400": {
          "model_module": "@jupyter-widgets/controls",
          "model_name": "DropdownModel",
          "model_module_version": "1.5.0",
          "state": {
            "_options_labels": [
              "10",
              "20, 20",
              "100, 100"
            ],
            "_view_name": "DropdownView",
            "style": "IPY_MODEL_e434f5194b614832a238866d0898e839",
            "_dom_classes": [],
            "description": "hidden_dims",
            "_model_name": "DropdownModel",
            "index": 0,
            "_view_module": "@jupyter-widgets/controls",
            "_model_module_version": "1.5.0",
            "_view_count": null,
            "disabled": false,
            "_view_module_version": "1.5.0",
            "description_tooltip": null,
            "_model_module": "@jupyter-widgets/controls",
            "layout": "IPY_MODEL_26fcf7d5f6054cdc9152712dffb7fb3e"
          }
        },
        "39bc332d3cf847eab45cce6d0ef3b5de": {
          "model_module": "@jupyter-widgets/controls",
          "model_name": "FloatLogSliderModel",
          "model_module_version": "1.5.0",
          "state": {
            "_view_name": "FloatLogSliderView",
            "orientation": "horizontal",
            "_view_module": "@jupyter-widgets/controls",
            "_model_module_version": "1.5.0",
            "_view_count": null,
            "disabled": false,
            "readout_format": ".3g",
            "_model_module": "@jupyter-widgets/controls",
            "style": "IPY_MODEL_b8a86dfc56e04911900b16cd5bcb616b",
            "layout": "IPY_MODEL_0991ca87c7ff4348b0aedf4bf2fd27c9",
            "min": -3,
            "continuous_update": true,
            "description_tooltip": null,
            "_dom_classes": [],
            "description": "lr",
            "_model_name": "FloatLogSliderModel",
            "max": 0,
            "readout": true,
            "step": 0.1,
            "base": 10,
            "value": 0.05,
            "_view_module_version": "1.5.0"
          }
        },
        "f4ec78160ccd475987d048161cfad7fb": {
          "model_module": "@jupyter-widgets/controls",
          "model_name": "IntSliderModel",
          "model_module_version": "1.5.0",
          "state": {
            "_view_name": "IntSliderView",
            "style": "IPY_MODEL_af6ccf2017cc4ebfbe17f1f470844776",
            "_dom_classes": [],
            "description": "num_inits",
            "step": 1,
            "_model_name": "IntSliderModel",
            "orientation": "horizontal",
            "max": 10,
            "_view_module": "@jupyter-widgets/controls",
            "_model_module_version": "1.5.0",
            "value": 7,
            "_view_count": null,
            "disabled": false,
            "_view_module_version": "1.5.0",
            "min": 5,
            "continuous_update": true,
            "readout_format": "d",
            "description_tooltip": null,
            "readout": true,
            "_model_module": "@jupyter-widgets/controls",
            "layout": "IPY_MODEL_79b11b1ff7e1414a990e1f87271a0dc1"
          }
        },
        "946ab0ebdd2942ce9194f2aa08f1371a": {
          "model_module": "@jupyter-widgets/controls",
          "model_name": "ButtonModel",
          "model_module_version": "1.5.0",
          "state": {
            "_view_name": "ButtonView",
            "style": "IPY_MODEL_dcb93107cc6a4d3d9bd011e30b38f283",
            "_dom_classes": [],
            "description": "Run Interact",
            "_model_name": "ButtonModel",
            "button_style": "",
            "_view_module": "@jupyter-widgets/controls",
            "_model_module_version": "1.5.0",
            "tooltip": "",
            "_view_count": null,
            "disabled": false,
            "_view_module_version": "1.5.0",
            "layout": "IPY_MODEL_608a18e5318a458f96ef7c0078daa4d2",
            "_model_module": "@jupyter-widgets/controls",
            "icon": ""
          }
        },
        "1885faf97f774e41925474f0ccad4360": {
          "model_module": "@jupyter-widgets/output",
          "model_name": "OutputModel",
          "model_module_version": "1.0.0",
          "state": {
            "_view_name": "OutputView",
            "msg_id": "",
            "_dom_classes": [],
            "_model_name": "OutputModel",
            "outputs": [],
            "_view_module": "@jupyter-widgets/output",
            "_model_module_version": "1.0.0",
            "_view_count": null,
            "_view_module_version": "1.0.0",
            "layout": "IPY_MODEL_74406dc8f44a4a9292d221e061a38ad6",
            "_model_module": "@jupyter-widgets/output"
          }
        },
        "b795109297ce48bc8ea85709c359e0fa": {
          "model_module": "@jupyter-widgets/controls",
          "model_name": "SliderStyleModel",
          "model_module_version": "1.5.0",
          "state": {
            "_view_name": "StyleView",
            "handle_color": null,
            "_model_name": "SliderStyleModel",
            "description_width": "",
            "_view_module": "@jupyter-widgets/base",
            "_model_module_version": "1.5.0",
            "_view_count": null,
            "_view_module_version": "1.2.0",
            "_model_module": "@jupyter-widgets/controls"
          }
        },
        "078d8ff9a0914b79af15ac0d2319c38c": {
          "model_module": "@jupyter-widgets/base",
          "model_name": "LayoutModel",
          "model_module_version": "1.2.0",
          "state": {
            "_view_name": "LayoutView",
            "grid_template_rows": null,
            "right": null,
            "justify_content": null,
            "_view_module": "@jupyter-widgets/base",
            "overflow": null,
            "_model_module_version": "1.2.0",
            "_view_count": null,
            "flex_flow": null,
            "width": null,
            "min_width": null,
            "border": null,
            "align_items": null,
            "bottom": null,
            "_model_module": "@jupyter-widgets/base",
            "top": null,
            "grid_column": null,
            "overflow_y": null,
            "overflow_x": null,
            "grid_auto_flow": null,
            "grid_area": null,
            "grid_template_columns": null,
            "flex": null,
            "_model_name": "LayoutModel",
            "justify_items": null,
            "grid_row": null,
            "max_height": null,
            "align_content": null,
            "visibility": null,
            "align_self": null,
            "height": null,
            "min_height": null,
            "padding": null,
            "grid_auto_rows": null,
            "grid_gap": null,
            "max_width": null,
            "order": null,
            "_view_module_version": "1.2.0",
            "grid_template_areas": null,
            "object_position": null,
            "object_fit": null,
            "grid_auto_columns": null,
            "margin": null,
            "display": null,
            "left": null
          }
        },
        "e434f5194b614832a238866d0898e839": {
          "model_module": "@jupyter-widgets/controls",
          "model_name": "DescriptionStyleModel",
          "model_module_version": "1.5.0",
          "state": {
            "_view_name": "StyleView",
            "_model_name": "DescriptionStyleModel",
            "description_width": "",
            "_view_module": "@jupyter-widgets/base",
            "_model_module_version": "1.5.0",
            "_view_count": null,
            "_view_module_version": "1.2.0",
            "_model_module": "@jupyter-widgets/controls"
          }
        },
        "26fcf7d5f6054cdc9152712dffb7fb3e": {
          "model_module": "@jupyter-widgets/base",
          "model_name": "LayoutModel",
          "model_module_version": "1.2.0",
          "state": {
            "_view_name": "LayoutView",
            "grid_template_rows": null,
            "right": null,
            "justify_content": null,
            "_view_module": "@jupyter-widgets/base",
            "overflow": null,
            "_model_module_version": "1.2.0",
            "_view_count": null,
            "flex_flow": null,
            "width": null,
            "min_width": null,
            "border": null,
            "align_items": null,
            "bottom": null,
            "_model_module": "@jupyter-widgets/base",
            "top": null,
            "grid_column": null,
            "overflow_y": null,
            "overflow_x": null,
            "grid_auto_flow": null,
            "grid_area": null,
            "grid_template_columns": null,
            "flex": null,
            "_model_name": "LayoutModel",
            "justify_items": null,
            "grid_row": null,
            "max_height": null,
            "align_content": null,
            "visibility": null,
            "align_self": null,
            "height": null,
            "min_height": null,
            "padding": null,
            "grid_auto_rows": null,
            "grid_gap": null,
            "max_width": null,
            "order": null,
            "_view_module_version": "1.2.0",
            "grid_template_areas": null,
            "object_position": null,
            "object_fit": null,
            "grid_auto_columns": null,
            "margin": null,
            "display": null,
            "left": null
          }
        },
        "b8a86dfc56e04911900b16cd5bcb616b": {
          "model_module": "@jupyter-widgets/controls",
          "model_name": "SliderStyleModel",
          "model_module_version": "1.5.0",
          "state": {
            "_view_name": "StyleView",
            "handle_color": null,
            "_model_name": "SliderStyleModel",
            "description_width": "",
            "_view_module": "@jupyter-widgets/base",
            "_model_module_version": "1.5.0",
            "_view_count": null,
            "_view_module_version": "1.2.0",
            "_model_module": "@jupyter-widgets/controls"
          }
        },
        "0991ca87c7ff4348b0aedf4bf2fd27c9": {
          "model_module": "@jupyter-widgets/base",
          "model_name": "LayoutModel",
          "model_module_version": "1.2.0",
          "state": {
            "_view_name": "LayoutView",
            "grid_template_rows": null,
            "right": null,
            "justify_content": null,
            "_view_module": "@jupyter-widgets/base",
            "overflow": null,
            "_model_module_version": "1.2.0",
            "_view_count": null,
            "flex_flow": null,
            "width": null,
            "min_width": null,
            "border": null,
            "align_items": null,
            "bottom": null,
            "_model_module": "@jupyter-widgets/base",
            "top": null,
            "grid_column": null,
            "overflow_y": null,
            "overflow_x": null,
            "grid_auto_flow": null,
            "grid_area": null,
            "grid_template_columns": null,
            "flex": null,
            "_model_name": "LayoutModel",
            "justify_items": null,
            "grid_row": null,
            "max_height": null,
            "align_content": null,
            "visibility": null,
            "align_self": null,
            "height": null,
            "min_height": null,
            "padding": null,
            "grid_auto_rows": null,
            "grid_gap": null,
            "max_width": null,
            "order": null,
            "_view_module_version": "1.2.0",
            "grid_template_areas": null,
            "object_position": null,
            "object_fit": null,
            "grid_auto_columns": null,
            "margin": null,
            "display": null,
            "left": null
          }
        },
        "af6ccf2017cc4ebfbe17f1f470844776": {
          "model_module": "@jupyter-widgets/controls",
          "model_name": "SliderStyleModel",
          "model_module_version": "1.5.0",
          "state": {
            "_view_name": "StyleView",
            "handle_color": null,
            "_model_name": "SliderStyleModel",
            "description_width": "",
            "_view_module": "@jupyter-widgets/base",
            "_model_module_version": "1.5.0",
            "_view_count": null,
            "_view_module_version": "1.2.0",
            "_model_module": "@jupyter-widgets/controls"
          }
        },
        "79b11b1ff7e1414a990e1f87271a0dc1": {
          "model_module": "@jupyter-widgets/base",
          "model_name": "LayoutModel",
          "model_module_version": "1.2.0",
          "state": {
            "_view_name": "LayoutView",
            "grid_template_rows": null,
            "right": null,
            "justify_content": null,
            "_view_module": "@jupyter-widgets/base",
            "overflow": null,
            "_model_module_version": "1.2.0",
            "_view_count": null,
            "flex_flow": null,
            "width": null,
            "min_width": null,
            "border": null,
            "align_items": null,
            "bottom": null,
            "_model_module": "@jupyter-widgets/base",
            "top": null,
            "grid_column": null,
            "overflow_y": null,
            "overflow_x": null,
            "grid_auto_flow": null,
            "grid_area": null,
            "grid_template_columns": null,
            "flex": null,
            "_model_name": "LayoutModel",
            "justify_items": null,
            "grid_row": null,
            "max_height": null,
            "align_content": null,
            "visibility": null,
            "align_self": null,
            "height": null,
            "min_height": null,
            "padding": null,
            "grid_auto_rows": null,
            "grid_gap": null,
            "max_width": null,
            "order": null,
            "_view_module_version": "1.2.0",
            "grid_template_areas": null,
            "object_position": null,
            "object_fit": null,
            "grid_auto_columns": null,
            "margin": null,
            "display": null,
            "left": null
          }
        },
        "dcb93107cc6a4d3d9bd011e30b38f283": {
          "model_module": "@jupyter-widgets/controls",
          "model_name": "ButtonStyleModel",
          "model_module_version": "1.5.0",
          "state": {
            "_view_name": "StyleView",
            "_model_name": "ButtonStyleModel",
            "_view_module": "@jupyter-widgets/base",
            "_model_module_version": "1.5.0",
            "_view_count": null,
            "button_color": null,
            "font_weight": "",
            "_view_module_version": "1.2.0",
            "_model_module": "@jupyter-widgets/controls"
          }
        },
        "608a18e5318a458f96ef7c0078daa4d2": {
          "model_module": "@jupyter-widgets/base",
          "model_name": "LayoutModel",
          "model_module_version": "1.2.0",
          "state": {
            "_view_name": "LayoutView",
            "grid_template_rows": null,
            "right": null,
            "justify_content": null,
            "_view_module": "@jupyter-widgets/base",
            "overflow": null,
            "_model_module_version": "1.2.0",
            "_view_count": null,
            "flex_flow": null,
            "width": null,
            "min_width": null,
            "border": null,
            "align_items": null,
            "bottom": null,
            "_model_module": "@jupyter-widgets/base",
            "top": null,
            "grid_column": null,
            "overflow_y": null,
            "overflow_x": null,
            "grid_auto_flow": null,
            "grid_area": null,
            "grid_template_columns": null,
            "flex": null,
            "_model_name": "LayoutModel",
            "justify_items": null,
            "grid_row": null,
            "max_height": null,
            "align_content": null,
            "visibility": null,
            "align_self": null,
            "height": null,
            "min_height": null,
            "padding": null,
            "grid_auto_rows": null,
            "grid_gap": null,
            "max_width": null,
            "order": null,
            "_view_module_version": "1.2.0",
            "grid_template_areas": null,
            "object_position": null,
            "object_fit": null,
            "grid_auto_columns": null,
            "margin": null,
            "display": null,
            "left": null
          }
        },
        "74406dc8f44a4a9292d221e061a38ad6": {
          "model_module": "@jupyter-widgets/base",
          "model_name": "LayoutModel",
          "model_module_version": "1.2.0",
          "state": {
            "_view_name": "LayoutView",
            "grid_template_rows": null,
            "right": null,
            "justify_content": null,
            "_view_module": "@jupyter-widgets/base",
            "overflow": null,
            "_model_module_version": "1.2.0",
            "_view_count": null,
            "flex_flow": null,
            "width": null,
            "min_width": null,
            "border": null,
            "align_items": null,
            "bottom": null,
            "_model_module": "@jupyter-widgets/base",
            "top": null,
            "grid_column": null,
            "overflow_y": null,
            "overflow_x": null,
            "grid_auto_flow": null,
            "grid_area": null,
            "grid_template_columns": null,
            "flex": null,
            "_model_name": "LayoutModel",
            "justify_items": null,
            "grid_row": null,
            "max_height": null,
            "align_content": null,
            "visibility": null,
            "align_self": null,
            "height": null,
            "min_height": null,
            "padding": null,
            "grid_auto_rows": null,
            "grid_gap": null,
            "max_width": null,
            "order": null,
            "_view_module_version": "1.2.0",
            "grid_template_areas": null,
            "object_position": null,
            "object_fit": null,
            "grid_auto_columns": null,
            "margin": null,
            "display": null,
            "left": null
          }
        },
        "f9f9191647354e9d95560bb9cc5ed631": {
          "model_module": "@jupyter-widgets/controls",
          "model_name": "TextareaModel",
          "model_module_version": "1.5.0",
          "state": {
            "_view_name": "TextareaView",
            "style": "IPY_MODEL_260bd189c9a04b428a607c866f46158c",
            "rows": null,
            "_dom_classes": [],
            "description": "",
            "_model_name": "TextareaModel",
            "placeholder": "Type something",
            "_view_module": "@jupyter-widgets/controls",
            "_model_module_version": "1.5.0",
            "value": "Type your answer here and click on `Submit!`",
            "_view_count": null,
            "disabled": false,
            "_view_module_version": "1.5.0",
            "continuous_update": true,
            "description_tooltip": null,
            "_model_module": "@jupyter-widgets/controls",
            "layout": "IPY_MODEL_eef5806c2f8342e688151b5000c42bf3"
          }
        },
        "260bd189c9a04b428a607c866f46158c": {
          "model_module": "@jupyter-widgets/controls",
          "model_name": "DescriptionStyleModel",
          "model_module_version": "1.5.0",
          "state": {
            "_view_name": "StyleView",
            "_model_name": "DescriptionStyleModel",
            "description_width": "",
            "_view_module": "@jupyter-widgets/base",
            "_model_module_version": "1.5.0",
            "_view_count": null,
            "_view_module_version": "1.2.0",
            "_model_module": "@jupyter-widgets/controls"
          }
        },
        "eef5806c2f8342e688151b5000c42bf3": {
          "model_module": "@jupyter-widgets/base",
          "model_name": "LayoutModel",
          "model_module_version": "1.2.0",
          "state": {
            "_view_name": "LayoutView",
            "grid_template_rows": null,
            "right": null,
            "justify_content": null,
            "_view_module": "@jupyter-widgets/base",
            "overflow": null,
            "_model_module_version": "1.2.0",
            "_view_count": null,
            "flex_flow": null,
            "width": null,
            "min_width": null,
            "border": null,
            "align_items": null,
            "bottom": null,
            "_model_module": "@jupyter-widgets/base",
            "top": null,
            "grid_column": null,
            "overflow_y": null,
            "overflow_x": null,
            "grid_auto_flow": null,
            "grid_area": null,
            "grid_template_columns": null,
            "flex": null,
            "_model_name": "LayoutModel",
            "justify_items": null,
            "grid_row": null,
            "max_height": null,
            "align_content": null,
            "visibility": null,
            "align_self": null,
            "height": null,
            "min_height": null,
            "padding": null,
            "grid_auto_rows": null,
            "grid_gap": null,
            "max_width": null,
            "order": null,
            "_view_module_version": "1.2.0",
            "grid_template_areas": null,
            "object_position": null,
            "object_fit": null,
            "grid_auto_columns": null,
            "margin": null,
            "display": null,
            "left": null
          }
        },
        "a9c8be7f8c674944bda7a90e85c4f11f": {
          "model_module": "@jupyter-widgets/controls",
          "model_name": "ButtonModel",
          "model_module_version": "1.5.0",
          "state": {
            "_view_name": "ButtonView",
            "style": "IPY_MODEL_f1e790b4f2274208a1fb805e84cd9a9d",
            "_dom_classes": [],
            "description": "Submit!",
            "_model_name": "ButtonModel",
            "button_style": "",
            "_view_module": "@jupyter-widgets/controls",
            "_model_module_version": "1.5.0",
            "tooltip": "",
            "_view_count": null,
            "disabled": false,
            "_view_module_version": "1.5.0",
            "layout": "IPY_MODEL_461d6bfdc4ca4c28ab55c0e71299daa4",
            "_model_module": "@jupyter-widgets/controls",
            "icon": ""
          }
        },
        "f1e790b4f2274208a1fb805e84cd9a9d": {
          "model_module": "@jupyter-widgets/controls",
          "model_name": "ButtonStyleModel",
          "model_module_version": "1.5.0",
          "state": {
            "_view_name": "StyleView",
            "_model_name": "ButtonStyleModel",
            "_view_module": "@jupyter-widgets/base",
            "_model_module_version": "1.5.0",
            "_view_count": null,
            "button_color": null,
            "font_weight": "",
            "_view_module_version": "1.2.0",
            "_model_module": "@jupyter-widgets/controls"
          }
        },
        "461d6bfdc4ca4c28ab55c0e71299daa4": {
          "model_module": "@jupyter-widgets/base",
          "model_name": "LayoutModel",
          "model_module_version": "1.2.0",
          "state": {
            "_view_name": "LayoutView",
            "grid_template_rows": null,
            "right": null,
            "justify_content": null,
            "_view_module": "@jupyter-widgets/base",
            "overflow": null,
            "_model_module_version": "1.2.0",
            "_view_count": null,
            "flex_flow": null,
            "width": null,
            "min_width": null,
            "border": null,
            "align_items": null,
            "bottom": null,
            "_model_module": "@jupyter-widgets/base",
            "top": null,
            "grid_column": null,
            "overflow_y": null,
            "overflow_x": null,
            "grid_auto_flow": null,
            "grid_area": null,
            "grid_template_columns": null,
            "flex": null,
            "_model_name": "LayoutModel",
            "justify_items": null,
            "grid_row": null,
            "max_height": null,
            "align_content": null,
            "visibility": null,
            "align_self": null,
            "height": null,
            "min_height": null,
            "padding": null,
            "grid_auto_rows": null,
            "grid_gap": null,
            "max_width": null,
            "order": null,
            "_view_module_version": "1.2.0",
            "grid_template_areas": null,
            "object_position": null,
            "object_fit": null,
            "grid_auto_columns": null,
            "margin": null,
            "display": null,
            "left": null
          }
        },
        "3379c0ceea5241a2bd16444f13f38ee6": {
          "model_module": "@jupyter-widgets/controls",
          "model_name": "TabModel",
          "model_module_version": "1.5.0",
          "state": {
            "_view_name": "TabView",
            "_dom_classes": [],
            "_titles": {
              "0": "Youtube",
              "1": "Bilibili"
            },
            "_model_name": "TabModel",
            "_view_module": "@jupyter-widgets/controls",
            "selected_index": 0,
            "_model_module_version": "1.5.0",
            "_view_count": null,
            "_view_module_version": "1.5.0",
            "box_style": "",
            "layout": "IPY_MODEL_d02490cd222448adadeffef1869c5625",
            "_model_module": "@jupyter-widgets/controls",
            "children": [
              "IPY_MODEL_3895b371589e4d22985122c389d49d33",
              "IPY_MODEL_b22659e269a64ec4bb208ccf08ca509c"
            ]
          }
        },
        "d02490cd222448adadeffef1869c5625": {
          "model_module": "@jupyter-widgets/base",
          "model_name": "LayoutModel",
          "model_module_version": "1.2.0",
          "state": {
            "_view_name": "LayoutView",
            "grid_template_rows": null,
            "right": null,
            "justify_content": null,
            "_view_module": "@jupyter-widgets/base",
            "overflow": null,
            "_model_module_version": "1.2.0",
            "_view_count": null,
            "flex_flow": null,
            "width": null,
            "min_width": null,
            "border": null,
            "align_items": null,
            "bottom": null,
            "_model_module": "@jupyter-widgets/base",
            "top": null,
            "grid_column": null,
            "overflow_y": null,
            "overflow_x": null,
            "grid_auto_flow": null,
            "grid_area": null,
            "grid_template_columns": null,
            "flex": null,
            "_model_name": "LayoutModel",
            "justify_items": null,
            "grid_row": null,
            "max_height": null,
            "align_content": null,
            "visibility": null,
            "align_self": null,
            "height": null,
            "min_height": null,
            "padding": null,
            "grid_auto_rows": null,
            "grid_gap": null,
            "max_width": null,
            "order": null,
            "_view_module_version": "1.2.0",
            "grid_template_areas": null,
            "object_position": null,
            "object_fit": null,
            "grid_auto_columns": null,
            "margin": null,
            "display": null,
            "left": null
          }
        },
        "3895b371589e4d22985122c389d49d33": {
          "model_module": "@jupyter-widgets/output",
          "model_name": "OutputModel",
          "model_module_version": "1.0.0",
          "state": {
            "_view_name": "OutputView",
            "msg_id": "",
            "_dom_classes": [],
            "_model_name": "OutputModel",
            "outputs": [
              {
                "output_type": "stream",
                "metadata": {
                  "tags": []
                },
                "text": "Video available at https://youtube.com/watch?v=hbqUxpNBUGk\n",
                "stream": "stdout"
              },
              {
                "output_type": "display_data",
                "metadata": {
                  "tags": []
                },
                "text/html": "\n        <iframe\n            width=\"854\"\n            height=\"480\"\n            src=\"https://www.youtube.com/embed/hbqUxpNBUGk?fs=1&rel=0\"\n            frameborder=\"0\"\n            allowfullscreen\n        ></iframe>\n        ",
                "text/plain": "<IPython.lib.display.YouTubeVideo at 0x7f6939e7b350>",
                "image/jpeg": "/9j/4AAQSkZJRgABAQAAAQABAAD/2wCEABALDBgYFhwaGRkeHRsfJColIyIiIisvLSctMS8yMTgnNzE1PlBCNT1LPS01RWFFS1NWW11bMkFlbWRYbFBZW1cBERISGRUYJRYaLlc2LTZXV2RXV1daV1dXV1dXV1dXV1dXV1dXV1dXV1dXXVdXV1dXV1dXV1dXV1dXV1dXV1dXV//AABEIAWgB4AMBIgACEQEDEQH/xAAbAAEAAgMBAQAAAAAAAAAAAAAABAUBAgMGB//EAEUQAAIBAgQCBwYDBQUIAgMAAAECAAMRBBIhMRNRBRciQWGS0jJSU3GBkRQjoQZCscHRFVRyc7IkMzSCouHw8QdDFmJj/8QAFwEBAQEBAAAAAAAAAAAAAAAAAAIBA//EABsRAQEBAQADAQAAAAAAAAAAAAABEQISITED/9oADAMBAAIRAxEAPwD5/ERAREQEREBERAREQEREBERAREQEREBERAREQEREBERAREQEREBERAREQEREBERAREQEREBERAREQEREBERAREQEREBERAREQEREBERAREQEREBERAREQEREBERAREQEREBERAREQEREBERAREQEREBERAREQEREBERAREQEREBERAREQEREBERAREQEREBERAREQEREBE9f1cY74uH8z+iOrjHfFw/mf0QPIRPX9XGO+Lh/M/ojq4x3xcP5n9EDyET1/Vxjvi4fzP6I6uMd8XD+Z/RA8hE9f1cY74uH8z+iOrjHfFw/mf0QPIRPX9XGO+Lh/M/ojq4x3xcP5n9EDyET1/Vxjvi4fzP6I6uMd8XD+Z/RA8hE9f1cY74uH8z+iOrjHfFw/mf0QPIRPX9XGO+Lh/M/ojq4x3xcP5n9EDyET1/Vxjvi4fzP6I6uMd8XD+Z/RA8hE9f1cY74uH8z+iOrjHfFw/mf0QPIRPX9XGO+Lh/M/ojq4x3xcP5n9EDyET1/Vxjvi4fzP6I6uMd8XD+Z/RA8hE9f1cY74uH8z+iOrjHfFw/mf0QPIRPX9XGO+Lh/M/ojq4x3xcP5n9EDyET1/Vxjvi4fzP6I6uMd8XD+Z/RA8hE9f1cY74uH8z+iOrjHfFw/mf0QPIRPX9XGO+Lh/M/ojq4x3xcP5n9EDyET1/Vxjvi4fzP6I6uMd8XD+Z/RA8hE9f1cY74uH8z+iOrjHfFw/mf0QPIRPX9XGO+Lh/M/ojq4x3xcP5n9EDyET1/Vxjvi4fzP6I6uMd8XD+Z/RA8hE9f1cY74uH8z+iOrjHfFw/mf0QPIRPX9XGO+Lh/M/ojq4x3xcP5n9EDyET1/Vxjvi4fzP6JE6S/YnF4ZA71KJBbL2Wa97E96jlA83Esx0FW95Puf6Tcfs9WP71P7n+kzY3KqYlyP2arn96n92/pNh+y+I9+l92/pGwyqSJef/iuI9+l929M54j9nK1JC71KQUeLemNhlU8TqaFh7S/r/AEmEoksBcC5tc3sJrHOJdH9mMR79L7t/San9m6/vU/u39JmxuVTxLY/s9W96n9z/AEmD0BWH71P7n+kbDK+1RETWEREBERAREQEREBERAREQEREBERAREQEREBERAREQEREBERAREQEREBERAREQEREBERAREQEREBKL9rv+GT/MH+lpeyh/bD/hk/zB/paZWx5RbTshEizrTMhabTnZRI1OoOYklKi8xMa3Cyj/AGmq3WnQXdzc/If9/wCEvc68xKSrTZ8ZUqMLqoCp/P8AW8zc9tnO3EbB9E0T2WAZu/X+UY3oBMhNO4YbDuPhOv4UrUUkhe8GwH2knEV6ufQkrbS1ip/n9RI27uuvjM+I37O4rPRNMklkPfvbu/pLJpUdCUBxa1Um2pQC++tz/KW5IOxnVwciJzcaGdjObjSGvosRE6ORE51qyU0LuwVVFyxNgBzmaVRXUMpDKwuCNiD3wN4keljqLqHSqjKWyhgwsW92/OSICJoaihgpYZiCQL6kDc2+sxVrIgBdgoJCi53JNgPmTA6REQETF5mAiaUqquuZGDDUXB5Gx/UQKilioYZgASL6gHY2+kDeIiAiIgInNqyAlSwBC5iCdl5/KbIwYAgggi4I2I5wNoiICIiAiJpTqK4urBhci4N9RoRA3iIgIiICIiAiIgIiICIiAiIgIiICIiAiIgJQfth/wyf5g/0tL+UH7Y/8Mn+YP9LTK2PIXnRJxBnRDJU3p6k/OS0WRKO5+cm0bEXEirjYrpI1VeHmYnexH1kptpH6To5lWxINpN+L5vtAqUS7Bjdvr7P0BktamSkVcar7PjKR2rU3sNRJeGd21fa95l5b5O2Fw5RAGsWuSbcybyThu+acVec2wzAk2nRxruZzfadDNG2mj6HEROjmqv2oNujsSf8A+ZlZ+IbD0a2Bpm1XMEw/glW9m+Sdv6KJf9IYNcRQqUXJC1FKkrvY8rzWp0dSbEU8QR+ZTVlU+DW/7/cwKDBqMPhslMAKuOCAFQdM4Hf3+MmrUxNZ8ZlxBpijUKoFRD/9atY3BuLn5+MmHoinlK5nsa/H7vazZrbbTtQwCoa5Bb89i7XtocoXT6LAq8L0m1Spg6jgWqYV6rWW5v8AlnTS/edBvpNemsatehSNLOpGJoAGpSddeILGzAXEscL0TTpGgVZjwKRpLe2oOXU6b9gTr0jgFxKKjsyhXVwVNjdTcawIivXoYmkj1jWp1g47SqGRlGbTKBcEX320kE9JVRw6yVqjo9VFsaIWmyswW6m2Yb3BJ1t4y0odFBavFq1qldwpVeJkAUHewVQLmw1PKcV6DAppS49U0qbIyJ2NMjBlW+W5AtbU7QIVBmoYjpGs1RnFMK5WyDN+XcC4HcNP43ljgqGJ7FSpic2YXankXJqNlI7WnMkzp/Zq8epVztlqgCpTspVrDLc3F9uRmmE6LNJltia7U09mmxWw7gCcuZgPEmBT02xFLAPiEr5RSaqwp5FysBUa4YnXXXYiTsdinp1caUyg08Mjqcovf83c947I0MmN0Uhwr4bM2Rw4J0v2ySe63fNsR0YlRq5LMONSFJrW0AzajTftn9IEN6mIpVcKzV861nyMmRQovTZgVI13XvJ3nOjWxNanVxC1+GFaqqUwilbUyVuxIuSSpOhEtK+CVzRJJ/JfOtranKy6/RjKXGYVlNdaSYtRULflIU4bsw9rPugJNzYjv0gWXRj1qtLDVmq6NRBdco7TEA5r91tdPGOlMRVFShQpNkaqzXewOVVFzYHS5038ZvgcC1JKANRvyqQQqLZWNh2iLb6afOb4/ArXC3ZkdGzI6EZlNrd9wdDsRaBWlKlPEVg9Ti2wpIZlUH2m0IGh+00q4usqUCWqUqBoqS9GkH7ZGxGU5QBbYSfS6KAZ3etVqO9PhszFdrk6AAAb9wmX6NayCnia1LIgTs5CCBsSGUgHxFoEZ8XUqth6NGuv5iNUasqjVVsOyDcAkt42sZtiqlegKINbiZ8QiZiig5CDdTbS9xuAJ1boanw6S03em1K5SopGYZtWvcEG/eCLRU6JD0sj16zPnFQVSVzKw2IAGUDwtbeBpisXWGKalTsf9mZ1U2sXzWGs49GYxmfI1eoauQk0a1IIb81IAuB4FpJpdEAVGqtXrVKjUzTLEqNCb3GUAA/KZo9FkOr1MRVrFAQmbIMtxYnsKLm2msCH0XjahqU1r1qi1mHao1KIVSbbIwGtv8R0E44TH1mpUqaFUetXrrnCDsqjvchRoWIAGvO5vLKn0UeIjVMRWqimcyK+SwNiLkqoLaE7kzA6FpiiKYZwVqNVSoCMyszEkjS37xFiNt4HD8RWoVXovV4oNF6qOVUMChAINgAfaBGnOcqVbFLTwtdsRm4ppB6eRQtnG47wbm+/0k6h0WFLs9WpVqOmQu+W4X3QFAA57azoej04VKldstIoVOlzkta/2gS5mYmYCIiAiIgIiICIiAiIgIiICIiAiIgJ5/8AbL/hk/zB/paegnnv20P+yp/mj/S0ytjxwnRDOOadaclTpTNgxnGh0vQpLZnueSgn/tKfG41mBQHs3N/HWV8eJenocT+0YOlNPq39BJvRHSIr08rNeqt7g94vuJ5KASDcGxHeIvEswndl17j8Krbyp6TrpSYKGFzuB3eJlKcfXIsa1S3LMZHk8/nl3VX9NmYtDiL98suhnurfOeaBtLboTGqrcNtMx0PjynSxzlegM5sdJsTObGQt9HiInRzIiICIiAiIgIiICIiAiIgJiZiAiIgIiICIiAiIgIiICIiAiIgIiICIiAiIgIiICIiAiIgIiICIiAnnP23P+yp/mj/S09HKn9oui3xdFaaMqkOGu1+RHd84o+ehpGx+MyLlU9o/oJ6r/wDC8R8Wl/1f0nLEfsHWqDWtTBA0Nm+3yk4rXhGOw8JrPYn/AOOcV/eKP2b+kyf/AI6xR/8Avo/Zv6SkvGxPY9XOK/vFH7N/SOrrFf3ij9m/pA8fE9h1dYr+8Ufs39I6usV/eKP2b+kDx0X5bz2PV1iv7xR+zf0jq5xP94o/Zv6QOWExHEpK/Ma/Pvm7NLPo/wDYvE0kKtWpEXuLZv6SQ37KV7H8yn/1f0kYvXr4iJaCIlD030fi6uIpvRqWQAfvWym+pt3wL6au4UFmIAGpJ7pmRukKTPSsozEMrZfeysDl+toG1DGU6hsra72IIuOYuNR4iSJU1nrPxMnFymm+jIFytbQA7k7zGPoMCVRW7KXQgOxLXJOt9Dtqd79+0C1dwouTYXA+pNh/GEcMLg3Go+2kqqtIl2zJUNTiqQwvlyZl+lgNxz1mhpVeznDFPzP3Waxzmxspvtse7wgXU1Vwb2INjY+B3t+sq6uFco5OdnWmmQ3I7QvrYHfaSsFSyVK/ZIu+a5vYgqNjtveBMiU16gRFIqAotXOSDbY2175g0nIPBWqo4fbuSCzXXYk6nLm1HMawLcVAWK37QAJHgb2/gZkuAQCRc7DnKg0rGpw6bimeGNQ+wLXIW9z3aePfMUsO2akSrdl3CmzaAjs6bgX5wLqJS0cPUKkE1FbhkPlVrknvuTZjyt+km9HBgjDLYA9nRlDaD91tVgTYlFTpVdbK4zUjnADiz3XS5Op1OonbFYZhUIGYLlHDIDNlOtzcHQ3N7n7wLeJD6QFQKr0wWdTaw78wtf6Gx+kh/h6wDr+YVpgKpzaupYMxvzygC++8C4iVK0CzWVai0S62BzD91sxtuBtp85hqVQPUFIMWIezMGGU27PavlYXsAO6Bbznx0zZc3ava3ja9vtIXR1Mhie0oygFSrDXndibnxG/Ocgjktk/3gqVdeRK9kn6FYFtEpqdBija1FGQBgEa97jU3Y5job23B32mKlNuGvYbslsqhHyttY5b5kPLlrAuokLG5jSQZTqRnGrZRbkNW10kRKTZU4q1GpjiCwDXBzdkkA3225QLiJXU6dqpLpUJuvDN2IC2GhN7DW977+MjDimkqZamZaVQMbH2raa9/gRAupqGBuAb2Nj4G1/5ypx9BgMqK+lMlCA7Evqd76HbU8/pFegwNXKrdqorNYMcyZQDax11vcDW0C1NQBgpPaIJA52tf+Im8qaaENRAJ/wB6SAVK2XIQbAkkC9t+ctoCIiAiIgIiICIiAiIgIiICYmYgIiICIiAiIgIiICav7J+Rm01f2T8jA2iIgImJRdN4zG069NaCEoQNluGN9QT3d3KBfTF4kXpJCaLEe0lnHzU3/lb6wJV4lCCXIHdi2Df8qtf9aYAkrBYuq7rdhqWDIWXs2voABe403gWsxIOLxFquRq3BUJmB7PaNyCO0O7TT/wDacDjX46gP2TVNMqSvcpN7WuNQLG/ftAtpgmV+Cq1CaJaoWFSmWIIFgRl2sPGR+k69xXVquXLlC0+z2gQpvrqdSRpygXBAIsdQYAlWcY+c/mDPxcnB09m9r8727V9p16QquHsrlAKTvoBqVK23B5wJ8zKlsVUVTeoSWWkQeyMpckHW2g077/WKGIquypxSO26lhlJIABGtrd/KBbRKj8ZVVVGa7VVy0zYaOCQSfpr/AMpkvG1SpprxOGrEhn07hoNdBf8AlAlkgbmCZUUCatagzOWAFW2gswVlAfbvB3H0mvSXt1hxDqKJCHLYfmbgWv3frAuolTXxNSmWTOSBUVc5ygqCt97W301HfCV6rNTTi2BFU5lyEnKUtc2tcXO0C2mJX9HVqjZC75s9JXtYAAnlbu177zQO5rZFfIGepfKFubBbbjxgWk1AFyRa53lbUqs+BLlyrZSSwsNj/wBpzDMrVnSqSBUpj90hrqgudOR7rQLiJVUMXUatbMB+YylCy7C+w9q9gDOmOxLJVH5lksvZUrmuWtchhqDtoecCxiVAxr8YWfss1RcpK3GUNrYC41XvJ3mlWvWWk78YkrQFX2V9qx0220/7wLqJVNi6hrMoYLlcKELKAV01sRmJNzax7vnO3SNdlZVVyhKs17qBpbvYG512/WBPiU5xVVqYqCpl7NE2Ci13IB3175t+KcM1NquVRVKcQhb24auBtYXLHu7oFplF721GgPz/APQm0q8Pj7FOJUXKRVsxsA+VlAb7E7bziuKqtTZ+KRkoUqlgF1JBJvpsbQLqJBwB/NxANQsRUHZJGgKqe4eP6SNRxTsU/Nu7lg9MBb07A6jS4sQN73vAtgQdolRw8vR3ZYqeGGLCwPceX6zZqrcUKlSweqFLALdhwc19rbjeBbRKhcTWVA+cuxp1DlIG6EAHQX+f8pI6PrOzEFw65Qb5lJBP+EbGBPiVX4x+MLOMpdkykrplUm9gLjUc9jOvReIL5lZ87AKSQVK631BUDlsYFhEqqeMYuv5t3NRlNKw7Ki+vPQAG50N/ETkmMrLSR85dnoM+UgWDKFtawv3wLqYuNu+QejqzMzXqB1sCDmUkE390DQ/1kek3CqZmqaPWcMzZRspsL2HIfaBbEiZnn61c1Kecm9w4B8BXAH6AS0x9Yq1MGpwka9303A0W50F9ftAmRKrCYmo5UmoSoWoxso7WVyB3cuU4rj6gVjxAQUVr3VsgLWLaAbA3sb7bwLq8Sn4g4vZqCqM9EZjlPvaaC0xRx1VlLZxfK5ZCV7JAOwtfQ2BvAupiUuMqVMjKazWNNKl7KLHNrbTb58pOx1VgiFKgFyNcygsLHYkWv37QJsSjOLYM1RXYk0FZVbLrq12sN7b6f0m7YxwhPGGXPTGfMjEBjrewta0C5mr+yfkZFwFYtxBn4iq1lfTXQEi40Nie6Sn9k/IwNoiICIiAmJmIGIyi97a85HrV2Ba1rILm+5+X2kiAIB3EZRe9tecjdIVWSldTlJZVze7mYDN9LyM9UUGe3GJCMwDtdWy2N7kkjfwGsCyiw3tK+vj6itkyAsFDGwcg3JsosPDc/aZqdIkOAF7OZFOjXBa25tYEZhpAn2F7215xImCrVGoszWZgz2A0vZiAP0nKnj3IAsucsq5TmW1wdwRfu+sCwIEASubpJgeGVHEDFSQGIsFDXsBfZh+sweknOUBLMQSbq/cSugAvra9yOUCc1AF1c3ut7C+gv325zoQDodRKvGY2q1GsyKEyUsxzEhgSpOnK0lNiyA3Z2qLT397Lr/1QJUWG9pAXHVOyxRcruyAAm9xmsddNcv6zrgcU1S4cBWFrrZgRfmCNdtxvAlEQBK6li6hFkCk/mm7sf3XK20H/AKkh8UeClRVF3yWBO2Yjv+sCTEgnGVM3Dypnzhb3OWxQtf8ATaanpIh9QCl3FwG/dBJ1IsfZI0/WBYWgCV2JxGIFIOMi5mp2sSdGcCx05HebJi3LmmoBYs+rE2AXLfb/ABDT5wJ9he9tecEDTTbaV9bpB1YqKdygGYAObki9gQLff9JYQGUb21MTMQMWF7215wQDuJmIGLQQDoRvMxAwQOUWmYgYt3xYXvbWZiBi0ATMQMQABsLTMQMWF721gKBsLTMQMWF721iZiBgADYWggHcTMQMWnOtRzgdplt3qf/AZ1iBzo0lRQq7D6nne83AA2FpmIGAANhGUXvbU7zMQMETBUEWIFuU2iBi3fOdSgrAAjQMGFtNQbzrEDAAGg0Ew/sn5GbTV/ZPyMDaIiAiJW4/pujh6i03zXIubDRQe8wLKJicMbWammcWsGXN/hJAP8b/SB1ampIJUEjYkbTeVbdIv+aAFvmVaXjdshJ+TA/SSaWPRmAANmJCtpZiL+N+47wJLqGBDAEHQg7GcEwFIX7F7jLqSdD3C50HymMXjlpXurNlXOxFtF56nw2mv427ZcpQhlBDAG4IJB0Om36bQO1bCo5BYajS4JGnI23HhMNg6ZbMV1uDubXFrG219Br4SO3SQKFlRhdWZGIFmsCb6G/3nN+lCKRPDbOEVgDaxB0vvAnJh0UMANGJJFzbXf5Tg/R1MgAA+0CSSSTa9hcm/fOtfEBApKsSxChRa97E23t3TkMeCBam5c5uxpcZTY3N7bkd/fA6fgqWULl0BzXub355r3v8AWHwdMhQVPZ0BDEH5XBvOdDHZ6gVUOQpmzG2hvaxF7+HznOpjXFZltlRWpoLqDcsR4+MDvWwNJ/aS91ynUi45G2/1mWwdItnK63B3NrjY22vpvOY6RXcqypZjnNrdnfvv3TNHFs9RVKMgKM3aAubFbbHxOkBQ6PppqRma7G5vbtE30vYGxtedaOGSnfKDc95JO3dr3eEinHvmccM9mqE7u0CAee+v2nT+0FsOw2ckjIctxl31va2o7+8QO6YdF2UDf/qNz+s0rYVWprT2VSungpBt+kwcanBNbXKN+ehsR95q+NsgYo2psBmT+N7QOlPC01tZdjmuSSb2te51OhtC4SmGzBdbk7mwJvcgbC9z95wfpRAuYK5XKrkgDRWvqdfDabHpBQDdGDBsoU2uTbNve22u/dA3GApZSuXQ20udLG4trpY8ps+DpkWK9+a4JBue+4N4p4pWps+oy3zDS4I3Ejt0oozXpVAFCsTYaK17Nv4HTfSB3OCpEg5bWAGhI0GwNjr9ZIkM42zZcpdizhQoA0W29z47zX+0Vtn1KlUIAXtXdstt+cCdEh08eCwU03W7FCTawa17aHl3iH6RprTFQhspptU27lAJ+usCZEhf2iMxBpVBYqGvl0DaA7yRiqhSk7DdVYj5gQOsSGuPGzo6mwIuBqCQLix5kaTOIxmVgqoWOdVO2lxfvMCXE4VcQFdEyszPci1tALXJ804DpSnbMQwUgsraHMAL6AG+2usCdEjUsYGCnKRnbKNVN9Cb3BPKRsZ0kUzFFuFSqSDzQgc9tTAsokL8dYkFWJuoCgC4LKTYm9u6ZGPBygU3Lkt2NLjKbEnW1tR398CZEj/i14PFs2W17W13ttOX9oi9jTqLZwhJtYFrW2PfcbQJsSGnSCEjssEYkK5tlJF/G/cd5zHSWqkqyUyjPdhuBlsRY6b7HWBYRID9IaWClXumjWN1Zwt9D4zthsWKpOVTYEi+ncbWsDcfWBJiRamOVaopkHUgXuNztpe/1tNB0ipAIRu0SFByjNbc6nQDxgTYkb8anBNXXKt7jvBBsR9xORxzZqIFM2qMVOqmwCk3BBsdv0MCdErFx7lgOyRlon2SPbqFT3nuEmV8TkZUCs7MCbLbYWudSOYgd4kJekkIBytlKZySBZV11OvhtMp0gpvdWBC5gDl1HPew+sCZEgDpHNky02N3yNqunZzXuDY6W28ZPgIiICav7J+Rm01f2T8jA2iIgJDxfRdCs6vUQMy7G523secmRATStTDoyHZgQfrN4gQ06OQGibsTRBAv+9cbn+PzmcPgVptdScovZbLpfxteS4gRsRhFqBwSRnTIbdw11/WGwamoXubkqbf4b/1kmIFVTwDkhGzCmqsoBZTYEZQBYdw5yTV6PVhbMw/L4fdsDe/z0kyIHGpQzZLk3Rg1+ZsR/OcjgRfMrsrXY3FtmNyLEcwPtJcQI1LBhGUqzdlSpBsc1ze58b6xUwasxJJ1dH+q7D9JJiBFOBQqqG5UBhbmGBBH6zNHClWDNUZyFKjNbYkHuG+kkxAjfgxnLZjqwe2m4Fv4CaVOj1Y5rkNmLA2B3tcWI20EmRA5CjankDEae0At/ta36SMnRiqQysQwLG9lt2gARa1h7I/XnJ0QIK9GIKZp5msaa0+7Zb6/rN62BVyWuQSwYHQ2IXLsd9P4yXEDiuHAplCb3BBNgN/kLTlVwCuHBJ7aKh22W+v/AFSXECMuDUVA9zcFzb/Fa/8ACcx0agUDM2mTl+4+cfrJsQI/4UXvc+3xPra1pHPRSlMhqOV4bUwNNFa3hqdJYRAj1MIrFzc9vJf/AJTcTPBZqbo7XzZhcdwN7D6Cd4gQm6PDXzVHY5cqnTsi4Omm9wPtMnA7k1GzFlbNZdCBba1rSZEDk1EGor31VWW3+LL6ZwoYAU9FcgAELot1+trm3j+smRAgr0cBchyHLBswCjUAja1tiYPRilSpdjdaik6X/MIJO3hJ0QIq4IZsxYlrq3dqVUr/ADnKvhGBDU82a7m4Kg2YgkaixFwPtJ8QIlLCH8OKTnW2pHO99++bVMGrXuTq6P8AVcth/wBMkxAhr0eoIBZiiklUNrC9xyudzb5zUdGrYKzu6hDTANtFNuQ30GsnRAiLgRlsXJ1U+yo9lg3cO+0zTwYWrxCxZrEDQDQm+thrt3yVECG2ABctmNi4qWsPaFu+1+6D0euVFBN0vY2B33BBFv8A1JkQOS0bU8gYg+8AL/O1rfpI9Po5VIIYhg+e4AAvlykWtYaSbECEvRygg5m0CDu/cYsP1MzjKLlkemDmAIurKNDbSzAju37pMiBBwvR4WkFfUmmKbDu77/6jM/2cMhUuTe1jlUEZSCDoNdQJNiBDGBtrnbMXD3su+XLa1uUmREBERATV/ZPyM2mr+yfkYG0REBETEDMTE0q1VSxY2uQo+Z0EDpEjtjaQ4na/3RAfQ6EgEDx3E7wMxExAzExMK4JIB1U2PgbX/gYG0Tj+JS6jNqxYD5rvOsDMRMXgZiao4YAi9iLi4sfsYRwb2vobagj+O8DaJzoVVqIrqbqwBB8DqJl6iqLk2FwPqTYD7mBvE1ZgASe7WYp1Ayhl1BAI+RgbxMTWpUCqWY2UC5PIQN4mJq9VVKgnViQPoL/ygbxMTMBExEDMTEQMxMTDMACTsNTA2iaqwIBBuDqPGa8Zb2vftZdATY2vry0gdIiYgZiYnGlikanxASE5kEXHPXugd4miVVYsAdVNj87A/wACJtAzE1ZgASdhrCOGUMNiLj5QNomiVAwJBuASPqDYibwETkcQoYrrmGW9gT7RIB/QzapUVQWY2A3MDeJq7hRc33A0BO5t3TFOoGF1Nxcj6gkH9RA3iau4UFibAC5PICYVwSRrpY7G2vj3wN4mIgZiIgIiICav7J+Rm01f2T8jA2iIgJQ9NdD16+Ip1KdQKoAGpIKkG+YW3/7S+iBicMdRNSk6j2rXX/ENR+oEkRAqEwVUmkWW2c5q2o7JDGoB46m30m2CwlRailwQylizhV7d77te57tLaWlrECvx2EapUsPYqLaoQdspuLfO5E4HDVWVTVp3LMWcAKxBACrodLWH6y1dwouxAHMmGcAgEgE6C538IFQmAZqJFRLuKAVb20YZtuR1Gsm4Sjkq1TktmKnNpr2QLc9wZLBBFxqIBB+kCppYDtoDRARalQnQWIN8pt3905nBVAEDJmUKyhbK2XtG2hItpbXwlyrAi4II5iZgQ8Rhi1Gmhu9mp5r7kAi5M4LgMrIVpgEVH1FtEKtYfK5Gks5hWBAIIIOxECnfo9zSe6XqClTCHS4ZRrbkb98sKNJwW1yguTa17jTx0kqIFJhMJUWnSC0clRaRDkkWY5bBdDrrr4Wj8Acr/lErek2UqguVe7aA2vbTxl1MwKxaBzPmolnJYrU7OgI0F73FtrTj/Z9RUUU1Ck0MrWIF2umh5m2bXxlzNGqKCAWAJ2BOp+UCq/Bko3YcAlewEQDS+uW5B31+Q5TvUw7vg2ptTUOVYBQABucul7A7d+ksYgU9fCs2e1E5mC8JuyOFYAW30sbnTe8l9IUcxpE0+IqsSw090jY76ybEClODqWS9O9McS1MhWyXa66EgbaeEmVcMxwy09WN6d7nWwZSb/STVYEXBuIgVNfBNxWsvZOXIyqpyAACwJIy2IJ275rRpZnJWkc4xBPE00UNqL3vtcW8ZcRoPAbwKf8C60qQyXsSai2DXJ2NiQDb+cVMG4VCEZ2ANg6oVF2vl3utuYO3O0uAYgVa4R+MSym/EzBwF9m+2a9wLaWtOadHMEp/ljMVqCptrcGwPPW0uYgUdXCVGpqBSIK0lCWVbhhe9zfTuItJP4Q8RrU7A1QxOlmUoR/G/3llMKwOoIPy8IFS2DrMjg7oAia+2gYEn5lQBryPOS+jqJUMcpUEjs5Qo+YAJ/wDBJkQKrD4Nr0w1OzAtxahtaoCCLczckGx2tOv4P/YlpcMZgi3XT2gBfwveWMQKtsFcu4p2Y1KTJtcKBTv8tjNcPhHFW7Kbh2bOFXUEmwLXvaxAtbultECtx2HLVGJpGqDTypt2Wu19zpe66+E4NhKhK3p9peFlIC7C2a5vcHfb9ZcxAp/whAycHs8V2NlQ3BuVIB0trbwndMPU/BimQc4ABW+4B1W/iNPrLGIFSmFbiMyUjTQmjYdkeyzEmwOm4nE4FuHUQUbjKLZwuYkNe1we1pfU/wA5eRAqmwbEVGFOxarSK7XCA0yR4eydPCYpYVg62pFXFV2NTTVSzG173NwQLS2iBTfhqj0lpmkezRdDmK2LELa2vhvNmwrliRSPD/KvT0Fwua62vbQkG3fLeYgVlHB3IzU7U+IzBDbsjLbbbU3NvGTMDSKUgpFrFrDkMxt+lp3mYCIiAiIgJq/sn5GbTV/ZPyMDaIiAiIgIiIETEZsx9u9uxlva/j3ffSSpmIEHpemHoFSLhmQEeBdbyAFqNVomoDejUFME/vHK13+oC/rL2IFHxKnCch2Xh4dHULYDN2jtbwGkn0HqZ6mVVI4gvc5bDImu2u5k2IFH0fVKpSyM7NZs9PkAGINu7W1ud++c6lRnp1AahK5abkhi1jn11sLad3h3T0EQK2nVBqtmqsDcBFGzLlGu2t9de7wkXDmrTo0uGWJbDscp1AZQtrD6n5y8iBTiq5R8tYZezqXY631GbL2bj7eElUsQfwzPZyVDW1uTa+oNtRyNpOiBTU6tQ3UVCRmpWZWze0TmsxHh9JtxanFK57MrqFVmOqafu5e1cX1voeVpbxAg46pZ0Du1OmQxLA27QtYE92l/nKzFU3qJUZy+Y4Y6WtfU93dfe09DECoq13NQhalrZeESxswsNbBTmubg/wAt5uGqZg+d/wDflMvdl10t/OWkQK3pGsyVFOY2AHYVrMTfcaWflY/znOnWqmtYuA3EIylj7F/dy8tb337+6W0QKMVXCoubIopAocxW7XN/3Te2mnjJKVCapFWoyMCoRV2YFRcjTXW/yt3SziBRUqhVEXOQl3zEuVswOikgG2mtu+b1qr5SKtQr+SCmXZ2Oa/dqbZdLd+0uogQcTUK0E3F8oJvYAW3JsbDS31kbDMS9FndtDVUa6GzaC9tdPvaW8QIGJdw9RrvZKQYKttT2/DXYSItapqq1CQXpdpWze0xDAEjw+kuogVBqMGyPUdaQqMue+vsqQC3K5OvgBOWGqWVQ9R0pk1jmGhLcQ2ubctbd8u5mBTtUrMhYu6stOm1gANSzXJFuQGklYSrlqVUdyRxAqZtzdA1r/eTpqVBtcbajwgbRMTMBERAREQEREBERAREQEREBERAREQEREBNX9k/Izaav7J+RgbREQEREBERAi18QVLWKjKAbHdvlr9PnJIggcpmBHxlY00utrllUX2BYgXPhrIrYusH4X5ZfOFzZTaxVm2vuMvOWDoGBVgCDuDsZzp4amgAVFABuLDv2v84HDHVmQqRuFc99tFvteZwtaoXyvkN0VxlBFr7jUm8kvTVvaAO+456GZCAG4Ava305QIBxtS5fs5BVFPLY5vay3ve25va20xTxdZsgvTBqMwBymwC38dSbeHfJhwtPPxMi5/etrFTDU2XIyKVve1tL84FdSxdUWQWLFqpLZSw7NQiwFxz56SVh8RVeoAVVAEVmBBJuSwsDe37onZsJSKhTTXKDcC21+U6JTVdlA0A0HcNh+sCFiMY61LKAUVkVuyd2I/evyYHYyNQNYVVJqA5qlQMMrahb6e1ptp/OWbYamzZiiltNSOW32mWw6G10U2bMNNm5/PWBXJ0jWNI1cgymmzjskBdLgE37XLS0l13cUCWIzaezcDUjxvOi4OkCxFNbtcHTe+/3nVkBFiARygQExdXMCcmQ1mp2Cm+l7G9/DlIyV6vDY5hl4CNl7V7nNrmzX7v4S24Ke6N823fz+c1OFpadhdBlGmw5fKBEONfiqAAabVDTvlI1AJ3vrqttvrNqVSoMJTZBmfKm+u9rncXNr98k/hqebPkXNe97d9rX+dps1BCmQqCmnZtpptAr1r1HdMjqDkqXujAXDL+7e9/rNk6RY0neygrRSoBruwY2+XZk2nQRbZVAsCBYc9T95o2Com16SHKMo7I0HKBWV1qmq/wCYLGsqWs3s5Q1tG/8ANflFPFulMsNSOJbMSR/vivPlLg0lvfKL3zbd+1/nNfw9O1si2+Q7zf8AjrAhtiqoY0yaeYuqhspAAKltRfU6Eb94nXD4pylYvYmmzDsAi9lB2JOus6YnDCopHZBa17qCDbmIweFFJSo7ySbADX5DbaBAxGLrCmbtTu9FqilQeza3jro2+m20kVlqJRphHAbMgJIJvcjm1+/nJCYOkubLTUZtGsBqOU3q0VdcrqGU9x8IEL8ZVsxulzUNNAFJJsTf94dw8NvpOFTpCoKZqWGdEraagEoyja//AJzlm2HQrlKC172t373+cx+Fp5cvDXLYi1hax3H1gRHxFQVCjlTZqRBUMujEix119n9dpouPqhRUbIVKucqgg9m5Gtzy5SxNJSblQTprblt9rmY4K2AAAte1gNL8oEbD1qvEVHNNg1Mv2AR3gd5NxrvNHxlRKjZwAnayjKe1Zb+1e19DoROmDwC0mLdm9rdlAotv3bmdhhqYfOEXPztr84FdVxdc0XYWX8ssGyEWOmnta3B38NparewuQT3kCw+05Jg6ShgKagMLEWGo5fKdUQKAqiwAsBygbREQEREBERAREQEREBERAREQEREBERATV/ZPyM2mr+yfkYG0Sv4z+8Y4z+8YFhEr+M/vGOM/vGBYRK/jP7xjjP7xgWESv4z+8Y4z+8YFhEr+M/vGOM/vGBYRK/jP7xjjP7xgWESv4z+8Y4z+8YFhEr+M/vGOM/vGBYRK/jP7xjjP7xgWESv4z+8Y4z+8YFhEr+M/vGOM/vGBYRK/jP7xjjP7xgWESv4z+8Y4z+8YFhEr+M/vGOM/vGBYRK/jP7xnDFdIGmBdtTzNgNtSfqPvAt5iec6R6RxNJOzmqE6HhrlsG2YFibkAG48b6Syp4ioRdjY67G+ndrblAsolfxn94xxn94wLCJX8Z/eMcZ/eMCwiV/Gf3jHGf3jAsIlfxn94xxn94wLCJX8Z/eMcZ/eMCwiV/Gf3jHGf3jAsIlfxn94xxn94wLCJX8Z/eMcZ/eMCwiV/Gf3jHGf3jAsIlfxn94xxn94wLCJX8Z/eMcZ/eMCwiV/Gf3jHGf3jAsIlfxn94zDYhhu9u7U957oFjNX9k/Iyup4zNfLUDW3sQbTZ6z2PaO0DWU2Kp4xatU0b5We62KHamgFw2yXDXtrynoeEvKOEvKB51Bj2dgSUQnQjhkj/AHmg01Gibi+sGnjWvmJsbDJ2APZpm9xrfNnG89Fwl5Rwl5QPPPRxdXDVqdQsHZgEYFFOW4vbLtYX3JkMdH4/OzM5zMLXDABbJVUEDuuchPi3hPW8JeUcJeUDy9OhjVLsA9zaxLJmFxRBNtVv2X0t/Gcq9bHMDRbNxGpMMqhLA8I6ltw2e2t7bT1vCXlHCHKB54HH5qdxtfPbhlTq2w3sBltrfXWSMLSxD4cCq706ga5YZLkA8gLC/KXPCXlHCXlA8/0vhaz1GKLUa9MCkUqZRTqXPaYXFx7PP2SLa68X/GuWs1TKri9hTW+Wqvsd+qhr5t9J6bhLyjhLygeb4OOCqFcpYEWApnXK5vcg/vZRysT9NiuNV+yGy3qsQDTsSfYGuo17xyGk9Fwl5Rwl5QPMGjjmyZi57iCaYFuLTa7WtrlzbcvHXdV6RbQsVF9TalcHK+i6EZM2S1+1veek4S8o4S8oESiWyLn9qwzfO2s2knhLyjhLygRoknhLyjhLygRoknhLyjhLygRoknhLyjhLygRoknhLyjhLygRoknhLyjhLygRpV9J4tUqIMrMHIptZLhdQ1zfSxF9e6XvCXlNHwyMQSt7Ajc2sd9O+BSWysoXtsb/ls4LUzZrWA2HbNzy+ks6SZUVb3ygC/OwtJS0EGygfKZ4S8oEeJI4S8o4S8oEeJI4S8o4S8oEeJI4S8o4S8oEeJI4S8o4S8oEeJI4S8o4S8oEecMdRNSjUQEqzKQCDYg9x+8n8JeUcJeUDya4bpAEvchrZ7ZlNmqMuZBfTsqptfTtTtXp9IOrqToaVhYKLtk5g3Vs3LS09Nwl5Rwl5QKLFYfEVcEVZmFfU9lgtyDsCP3eXfz75YcI8YvxGylbcPTKDe+bneTeEvKOEvKB5ahhsXTF6aVFOUh71VbMxcWZQxYCy5uW9rSV0fVxRrBKp0VFd9F9ojLw7gW3GfTmO6X/CXlHCXlAouj8NiVrYg1W0qKuVle9j2vZBGlgV+3frN8fgGfDLTzPUqKV7WcqTqMxOUjuvLrhLyjhLygeaqUsbbIudUpvoVKXZRWGUAnU2p3vfe2t5vSGPLAMSFzjObU9sr3C2/cvkAv2tTPRcJeUcJeUDzNOnjiVQgimFT95N1NM3BGvv3vfaWT0H/FpUBY0+G6sL9kG6ZdOZ7WstOEvKOEvKBHkbF4U1ChDWykG1gRowN/nYEfWWPCXlHCXlArcJh2Qtc9nuUMT3k312328JIbY/KSuEvKavSWx07oHWIiAiIgIiICIiAiIgIiICIiAiIgIiICIiAiIgIiICIiAiIgIiICIiAiIgIiICIiAiIgIiICIiAiIgIiICIiAiIgIiICIiAiIgJq+x+U2mr7H5QNonzTrCxvwsP5X9cdYWN+Fh/K/rgfS4nzTrCxvwsP5X9cdYWN+Fh/K/rgfS4nzTrCxvwsP5X9cdYWN+Fh/K/rgfS4nzTrCxvwsP5X9cdYWN+Fh/K/rgfS4nzTrCxvwsP5X9cdYWN+Fh/K/rgfS4nzTrCxvwsP5X9cdYWN+Fh/K/rgfS4nzTrCxvwsP5X9cdYWN+Fh/K/rgfS4nzTrCxvwsP5X9cdYWN+Fh/K/rgfS4nzTrCxvwsP5X9cdYWN+Fh/K/rgfS4nzTrCxvwsP5X9cdYWN+Fh/K/rgfS4nzTrCxvwsP5X9cdYWN+Fh/K/rgfS4nzTrCxvwsP5X9cdYWN+Fh/K/rgfS4nzTrCxvwsP5X9cdYWN+Fh/K/rgfS4nzTrCxvwsP5X9cdYWN+Fh/K/rgfS4nzTrCxvwsP5X9cdYWN+Fh/K/rgfS4nzTrCxvwsP5X9cdYWN+Fh/K/rgfS4nzTrCxvwsP5X9cdYWN+Fh/K/rgfS4nzTrCxvwsP5X9cdYWN+Fh/K/rgfS4nzTrCxvwsP5X9cdYWN+Fh/K/rgfS4nzTrCxvwsP5X9cdYWN+Fh/K/rgfS4nzTrCxvwsP5X9cdYWN+Fh/K/rgfS4nzTrCxvwsP5X9cdYWN+Fh/K/rgfS4nzTrCxvwsP5X9cdYWN+Fh/K/rgfS4nzTrCxvwsP5X9cdYWN+Fh/K/rgfS4nzTrCxvwsP5X9cdYWN+Fh/K/rgfS4nzTrCxvwsP5X9cdYWN+Fh/K/rgfS4nzTrCxvwsP5X9cdYWN+Fh/K/rgfS4nzTrCxvwsP5X9cdYWN+Fh/K/rgfS4nzTrCxvwsP5X9cdYWN+Fh/K/rgfS5q+x+U+bdYWN+Fh/K/rg//ION+Fh/K/qgeTiIgIiICIiAiIgIiICIiAiIgIiICIiAiIgIiICIiAiIgIiICIiAiIgIiICIiAiIgIiICIiAiIgIiICIiAiIgIiICIiAiIgIiICIiAiIgIiICIiAiIgIiICIiAiIgIiICIiAiIgIiICIiAiIgIiICIiAiIgIiICIiAiIgIiICIiAiIgIiICIiAiIgIiICIiAiIgIiICIiAiIgIiICIiAiIgIiICIiAiIgIiICIiAiIgIiICIiAiIgIiICIiAiIgIiICIiAiIgIiICIiAiIgIiICIiAiIgIiICIiAiIgIiICIiB//2Q==\n"
              }
            ],
            "_view_module": "@jupyter-widgets/output",
            "_model_module_version": "1.0.0",
            "_view_count": null,
            "_view_module_version": "1.0.0",
            "layout": "IPY_MODEL_98d3d65e1f0b473995f592395af80ced",
            "_model_module": "@jupyter-widgets/output"
          }
        },
        "b22659e269a64ec4bb208ccf08ca509c": {
          "model_module": "@jupyter-widgets/output",
          "model_name": "OutputModel",
          "model_module_version": "1.0.0",
          "state": {
            "_view_name": "OutputView",
            "msg_id": "",
            "_dom_classes": [],
            "_model_name": "OutputModel",
            "outputs": [
              {
                "output_type": "stream",
                "metadata": {
                  "tags": []
                },
                "text": "Video available at https://www.bilibili.com/video/BV1ty4y1T7Uh\n",
                "stream": "stdout"
              },
              {
                "output_type": "display_data",
                "metadata": {
                  "tags": []
                },
                "text/html": "\n        <iframe\n            width=\"854\"\n            height=\"480\"\n            src=\"https://player.bilibili.com/player.html?bvid=BV1ty4y1T7Uh&page=1?fs=1\"\n            frameborder=\"0\"\n            allowfullscreen\n        ></iframe>\n        ",
                "text/plain": "<__main__.BiliVideo at 0x7f693a512810>"
              }
            ],
            "_view_module": "@jupyter-widgets/output",
            "_model_module_version": "1.0.0",
            "_view_count": null,
            "_view_module_version": "1.0.0",
            "layout": "IPY_MODEL_f1aa1dc69f8e4bc3911019911cd2ea50",
            "_model_module": "@jupyter-widgets/output"
          }
        },
        "98d3d65e1f0b473995f592395af80ced": {
          "model_module": "@jupyter-widgets/base",
          "model_name": "LayoutModel",
          "model_module_version": "1.2.0",
          "state": {
            "_view_name": "LayoutView",
            "grid_template_rows": null,
            "right": null,
            "justify_content": null,
            "_view_module": "@jupyter-widgets/base",
            "overflow": null,
            "_model_module_version": "1.2.0",
            "_view_count": null,
            "flex_flow": null,
            "width": null,
            "min_width": null,
            "border": null,
            "align_items": null,
            "bottom": null,
            "_model_module": "@jupyter-widgets/base",
            "top": null,
            "grid_column": null,
            "overflow_y": null,
            "overflow_x": null,
            "grid_auto_flow": null,
            "grid_area": null,
            "grid_template_columns": null,
            "flex": null,
            "_model_name": "LayoutModel",
            "justify_items": null,
            "grid_row": null,
            "max_height": null,
            "align_content": null,
            "visibility": null,
            "align_self": null,
            "height": null,
            "min_height": null,
            "padding": null,
            "grid_auto_rows": null,
            "grid_gap": null,
            "max_width": null,
            "order": null,
            "_view_module_version": "1.2.0",
            "grid_template_areas": null,
            "object_position": null,
            "object_fit": null,
            "grid_auto_columns": null,
            "margin": null,
            "display": null,
            "left": null
          }
        },
        "f1aa1dc69f8e4bc3911019911cd2ea50": {
          "model_module": "@jupyter-widgets/base",
          "model_name": "LayoutModel",
          "model_module_version": "1.2.0",
          "state": {
            "_view_name": "LayoutView",
            "grid_template_rows": null,
            "right": null,
            "justify_content": null,
            "_view_module": "@jupyter-widgets/base",
            "overflow": null,
            "_model_module_version": "1.2.0",
            "_view_count": null,
            "flex_flow": null,
            "width": null,
            "min_width": null,
            "border": null,
            "align_items": null,
            "bottom": null,
            "_model_module": "@jupyter-widgets/base",
            "top": null,
            "grid_column": null,
            "overflow_y": null,
            "overflow_x": null,
            "grid_auto_flow": null,
            "grid_area": null,
            "grid_template_columns": null,
            "flex": null,
            "_model_name": "LayoutModel",
            "justify_items": null,
            "grid_row": null,
            "max_height": null,
            "align_content": null,
            "visibility": null,
            "align_self": null,
            "height": null,
            "min_height": null,
            "padding": null,
            "grid_auto_rows": null,
            "grid_gap": null,
            "max_width": null,
            "order": null,
            "_view_module_version": "1.2.0",
            "grid_template_areas": null,
            "object_position": null,
            "object_fit": null,
            "grid_auto_columns": null,
            "margin": null,
            "display": null,
            "left": null
          }
        },
        "4443ba8b2c9348ba82f3d6077ed7f3e1": {
          "model_module": "@jupyter-widgets/controls",
          "model_name": "VBoxModel",
          "model_module_version": "1.5.0",
          "state": {
            "_view_name": "VBoxView",
            "_dom_classes": [
              "widget-interact"
            ],
            "_model_name": "VBoxModel",
            "_view_module": "@jupyter-widgets/controls",
            "_model_module_version": "1.5.0",
            "_view_count": null,
            "_view_module_version": "1.5.0",
            "box_style": "",
            "layout": "IPY_MODEL_8dfcd654f9a84626bcd902f7aa36830d",
            "_model_module": "@jupyter-widgets/controls",
            "children": [
              "IPY_MODEL_3a1679e308e446709fb72097fa412abd",
              "IPY_MODEL_04c72ecbc562484e831ed86b35cfa678"
            ]
          }
        },
        "8dfcd654f9a84626bcd902f7aa36830d": {
          "model_module": "@jupyter-widgets/base",
          "model_name": "LayoutModel",
          "model_module_version": "1.2.0",
          "state": {
            "_view_name": "LayoutView",
            "grid_template_rows": null,
            "right": null,
            "justify_content": null,
            "_view_module": "@jupyter-widgets/base",
            "overflow": null,
            "_model_module_version": "1.2.0",
            "_view_count": null,
            "flex_flow": null,
            "width": null,
            "min_width": null,
            "border": null,
            "align_items": null,
            "bottom": null,
            "_model_module": "@jupyter-widgets/base",
            "top": null,
            "grid_column": null,
            "overflow_y": null,
            "overflow_x": null,
            "grid_auto_flow": null,
            "grid_area": null,
            "grid_template_columns": null,
            "flex": null,
            "_model_name": "LayoutModel",
            "justify_items": null,
            "grid_row": null,
            "max_height": null,
            "align_content": null,
            "visibility": null,
            "align_self": null,
            "height": null,
            "min_height": null,
            "padding": null,
            "grid_auto_rows": null,
            "grid_gap": null,
            "max_width": null,
            "order": null,
            "_view_module_version": "1.2.0",
            "grid_template_areas": null,
            "object_position": null,
            "object_fit": null,
            "grid_auto_columns": null,
            "margin": null,
            "display": null,
            "left": null
          }
        },
        "3a1679e308e446709fb72097fa412abd": {
          "model_module": "@jupyter-widgets/controls",
          "model_name": "DropdownModel",
          "model_module_version": "1.5.0",
          "state": {
            "_options_labels": [
              "1",
              "100",
              "50, 50"
            ],
            "_view_name": "DropdownView",
            "style": "IPY_MODEL_5429322e8f3d48ac80c122b2f5ac07f8",
            "_dom_classes": [],
            "description": "hidden_dims",
            "_model_name": "DropdownModel",
            "index": 1,
            "_view_module": "@jupyter-widgets/controls",
            "_model_module_version": "1.5.0",
            "_view_count": null,
            "disabled": false,
            "_view_module_version": "1.5.0",
            "description_tooltip": null,
            "_model_module": "@jupyter-widgets/controls",
            "layout": "IPY_MODEL_52633d5c9103442f9a00dbeaae000079"
          }
        },
        "04c72ecbc562484e831ed86b35cfa678": {
          "model_module": "@jupyter-widgets/output",
          "model_name": "OutputModel",
          "model_module_version": "1.0.0",
          "state": {
            "_view_name": "OutputView",
            "msg_id": "",
            "_dom_classes": [],
            "_model_name": "OutputModel",
            "outputs": [
              {
                "output_type": "display_data",
                "metadata": {
                  "tags": [],
                  "image/png": {
                    "width": 342,
                    "height": 270
                  },
                  "needs_background": "light"
                },
                "image/png": "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\n",
                "text/plain": "<Figure size 360x288 with 1 Axes>"
              }
            ],
            "_view_module": "@jupyter-widgets/output",
            "_model_module_version": "1.0.0",
            "_view_count": null,
            "_view_module_version": "1.0.0",
            "layout": "IPY_MODEL_7f0d5a0f75524414a9db8aaeb4accafb",
            "_model_module": "@jupyter-widgets/output"
          }
        },
        "5429322e8f3d48ac80c122b2f5ac07f8": {
          "model_module": "@jupyter-widgets/controls",
          "model_name": "DescriptionStyleModel",
          "model_module_version": "1.5.0",
          "state": {
            "_view_name": "StyleView",
            "_model_name": "DescriptionStyleModel",
            "description_width": "",
            "_view_module": "@jupyter-widgets/base",
            "_model_module_version": "1.5.0",
            "_view_count": null,
            "_view_module_version": "1.2.0",
            "_model_module": "@jupyter-widgets/controls"
          }
        },
        "52633d5c9103442f9a00dbeaae000079": {
          "model_module": "@jupyter-widgets/base",
          "model_name": "LayoutModel",
          "model_module_version": "1.2.0",
          "state": {
            "_view_name": "LayoutView",
            "grid_template_rows": null,
            "right": null,
            "justify_content": null,
            "_view_module": "@jupyter-widgets/base",
            "overflow": null,
            "_model_module_version": "1.2.0",
            "_view_count": null,
            "flex_flow": null,
            "width": null,
            "min_width": null,
            "border": null,
            "align_items": null,
            "bottom": null,
            "_model_module": "@jupyter-widgets/base",
            "top": null,
            "grid_column": null,
            "overflow_y": null,
            "overflow_x": null,
            "grid_auto_flow": null,
            "grid_area": null,
            "grid_template_columns": null,
            "flex": null,
            "_model_name": "LayoutModel",
            "justify_items": null,
            "grid_row": null,
            "max_height": null,
            "align_content": null,
            "visibility": null,
            "align_self": null,
            "height": null,
            "min_height": null,
            "padding": null,
            "grid_auto_rows": null,
            "grid_gap": null,
            "max_width": null,
            "order": null,
            "_view_module_version": "1.2.0",
            "grid_template_areas": null,
            "object_position": null,
            "object_fit": null,
            "grid_auto_columns": null,
            "margin": null,
            "display": null,
            "left": null
          }
        },
        "7f0d5a0f75524414a9db8aaeb4accafb": {
          "model_module": "@jupyter-widgets/base",
          "model_name": "LayoutModel",
          "model_module_version": "1.2.0",
          "state": {
            "_view_name": "LayoutView",
            "grid_template_rows": null,
            "right": null,
            "justify_content": null,
            "_view_module": "@jupyter-widgets/base",
            "overflow": null,
            "_model_module_version": "1.2.0",
            "_view_count": null,
            "flex_flow": null,
            "width": null,
            "min_width": null,
            "border": null,
            "align_items": null,
            "bottom": null,
            "_model_module": "@jupyter-widgets/base",
            "top": null,
            "grid_column": null,
            "overflow_y": null,
            "overflow_x": null,
            "grid_auto_flow": null,
            "grid_area": null,
            "grid_template_columns": null,
            "flex": null,
            "_model_name": "LayoutModel",
            "justify_items": null,
            "grid_row": null,
            "max_height": null,
            "align_content": null,
            "visibility": null,
            "align_self": null,
            "height": null,
            "min_height": null,
            "padding": null,
            "grid_auto_rows": null,
            "grid_gap": null,
            "max_width": null,
            "order": null,
            "_view_module_version": "1.2.0",
            "grid_template_areas": null,
            "object_position": null,
            "object_fit": null,
            "grid_auto_columns": null,
            "margin": null,
            "display": null,
            "left": null
          }
        },
        "52022fa69eb44a89a866ff6f3fad4ada": {
          "model_module": "@jupyter-widgets/controls",
          "model_name": "VBoxModel",
          "model_module_version": "1.5.0",
          "state": {
            "_view_name": "VBoxView",
            "_dom_classes": [
              "widget-interact"
            ],
            "_model_name": "VBoxModel",
            "_view_module": "@jupyter-widgets/controls",
            "_model_module_version": "1.5.0",
            "_view_count": null,
            "_view_module_version": "1.5.0",
            "box_style": "",
            "layout": "IPY_MODEL_4304d78e14844b98ba4ccd0572f522dd",
            "_model_module": "@jupyter-widgets/controls",
            "children": [
              "IPY_MODEL_f0ecf7c966314c73802f204b8c04be94",
              "IPY_MODEL_6a35b38a010842ad8d98b105719f47a0",
              "IPY_MODEL_627bb286542b47fcbe1dc0f1a68ff2fc",
              "IPY_MODEL_e41e149619bf45f3b1e2695995b5f5f8",
              "IPY_MODEL_2d7c0dacea70469087bab2663bb2611e"
            ]
          }
        },
        "4304d78e14844b98ba4ccd0572f522dd": {
          "model_module": "@jupyter-widgets/base",
          "model_name": "LayoutModel",
          "model_module_version": "1.2.0",
          "state": {
            "_view_name": "LayoutView",
            "grid_template_rows": null,
            "right": null,
            "justify_content": null,
            "_view_module": "@jupyter-widgets/base",
            "overflow": null,
            "_model_module_version": "1.2.0",
            "_view_count": null,
            "flex_flow": null,
            "width": null,
            "min_width": null,
            "border": null,
            "align_items": null,
            "bottom": null,
            "_model_module": "@jupyter-widgets/base",
            "top": null,
            "grid_column": null,
            "overflow_y": null,
            "overflow_x": null,
            "grid_auto_flow": null,
            "grid_area": null,
            "grid_template_columns": null,
            "flex": null,
            "_model_name": "LayoutModel",
            "justify_items": null,
            "grid_row": null,
            "max_height": null,
            "align_content": null,
            "visibility": null,
            "align_self": null,
            "height": null,
            "min_height": null,
            "padding": null,
            "grid_auto_rows": null,
            "grid_gap": null,
            "max_width": null,
            "order": null,
            "_view_module_version": "1.2.0",
            "grid_template_areas": null,
            "object_position": null,
            "object_fit": null,
            "grid_auto_columns": null,
            "margin": null,
            "display": null,
            "left": null
          }
        },
        "f0ecf7c966314c73802f204b8c04be94": {
          "model_module": "@jupyter-widgets/controls",
          "model_name": "TextModel",
          "model_module_version": "1.5.0",
          "state": {
            "_view_name": "TextView",
            "style": "IPY_MODEL_948a3681cd90411c82675595a99c764c",
            "_dom_classes": [],
            "description": "batch_sizes",
            "_model_name": "TextModel",
            "placeholder": "​",
            "_view_module": "@jupyter-widgets/controls",
            "_model_module_version": "1.5.0",
            "value": "20, 250, 1000",
            "_view_count": null,
            "disabled": false,
            "_view_module_version": "1.5.0",
            "continuous_update": true,
            "description_tooltip": null,
            "_model_module": "@jupyter-widgets/controls",
            "layout": "IPY_MODEL_c199a622942c4434bd78ea9e155baff5"
          }
        },
        "6a35b38a010842ad8d98b105719f47a0": {
          "model_module": "@jupyter-widgets/controls",
          "model_name": "TextModel",
          "model_module_version": "1.5.0",
          "state": {
            "_view_name": "TextView",
            "style": "IPY_MODEL_3ec6451ce9354289ab48010a69ec0cd0",
            "_dom_classes": [],
            "description": "lrs",
            "_model_name": "TextModel",
            "placeholder": "​",
            "_view_module": "@jupyter-widgets/controls",
            "_model_module_version": "1.5.0",
            "value": "5e-3, 5e-3, 5e-3",
            "_view_count": null,
            "disabled": false,
            "_view_module_version": "1.5.0",
            "continuous_update": true,
            "description_tooltip": null,
            "_model_module": "@jupyter-widgets/controls",
            "layout": "IPY_MODEL_5f19fda7e17b4a5eb66c078c17c9b5da"
          }
        },
        "627bb286542b47fcbe1dc0f1a68ff2fc": {
          "model_module": "@jupyter-widgets/controls",
          "model_name": "DropdownModel",
          "model_module_version": "1.5.0",
          "state": {
            "_options_labels": [
              "2.5",
              "5",
              "10"
            ],
            "_view_name": "DropdownView",
            "style": "IPY_MODEL_d81fd88da54b4830905165d419007726",
            "_dom_classes": [],
            "description": "time_budget",
            "_model_name": "DropdownModel",
            "index": 0,
            "_view_module": "@jupyter-widgets/controls",
            "_model_module_version": "1.5.0",
            "_view_count": null,
            "disabled": false,
            "_view_module_version": "1.5.0",
            "description_tooltip": null,
            "_model_module": "@jupyter-widgets/controls",
            "layout": "IPY_MODEL_26ab5e2f9a3140a8987b75c4cd0ba56d"
          }
        },
        "e41e149619bf45f3b1e2695995b5f5f8": {
          "model_module": "@jupyter-widgets/controls",
          "model_name": "ButtonModel",
          "model_module_version": "1.5.0",
          "state": {
            "_view_name": "ButtonView",
            "style": "IPY_MODEL_3c047abfc79a43b5bb85ecd24c5d91f1",
            "_dom_classes": [],
            "description": "Run Interact",
            "_model_name": "ButtonModel",
            "button_style": "",
            "_view_module": "@jupyter-widgets/controls",
            "_model_module_version": "1.5.0",
            "tooltip": "",
            "_view_count": null,
            "disabled": false,
            "_view_module_version": "1.5.0",
            "layout": "IPY_MODEL_0a3373db2f214eca9b98293ca20b9d38",
            "_model_module": "@jupyter-widgets/controls",
            "icon": ""
          }
        },
        "2d7c0dacea70469087bab2663bb2611e": {
          "model_module": "@jupyter-widgets/output",
          "model_name": "OutputModel",
          "model_module_version": "1.0.0",
          "state": {
            "_view_name": "OutputView",
            "msg_id": "",
            "_dom_classes": [],
            "_model_name": "OutputModel",
            "outputs": [],
            "_view_module": "@jupyter-widgets/output",
            "_model_module_version": "1.0.0",
            "_view_count": null,
            "_view_module_version": "1.0.0",
            "layout": "IPY_MODEL_60e6faa3571941189d3175b1609b217b",
            "_model_module": "@jupyter-widgets/output"
          }
        },
        "948a3681cd90411c82675595a99c764c": {
          "model_module": "@jupyter-widgets/controls",
          "model_name": "DescriptionStyleModel",
          "model_module_version": "1.5.0",
          "state": {
            "_view_name": "StyleView",
            "_model_name": "DescriptionStyleModel",
            "description_width": "",
            "_view_module": "@jupyter-widgets/base",
            "_model_module_version": "1.5.0",
            "_view_count": null,
            "_view_module_version": "1.2.0",
            "_model_module": "@jupyter-widgets/controls"
          }
        },
        "c199a622942c4434bd78ea9e155baff5": {
          "model_module": "@jupyter-widgets/base",
          "model_name": "LayoutModel",
          "model_module_version": "1.2.0",
          "state": {
            "_view_name": "LayoutView",
            "grid_template_rows": null,
            "right": null,
            "justify_content": null,
            "_view_module": "@jupyter-widgets/base",
            "overflow": null,
            "_model_module_version": "1.2.0",
            "_view_count": null,
            "flex_flow": null,
            "width": null,
            "min_width": null,
            "border": null,
            "align_items": null,
            "bottom": null,
            "_model_module": "@jupyter-widgets/base",
            "top": null,
            "grid_column": null,
            "overflow_y": null,
            "overflow_x": null,
            "grid_auto_flow": null,
            "grid_area": null,
            "grid_template_columns": null,
            "flex": null,
            "_model_name": "LayoutModel",
            "justify_items": null,
            "grid_row": null,
            "max_height": null,
            "align_content": null,
            "visibility": null,
            "align_self": null,
            "height": null,
            "min_height": null,
            "padding": null,
            "grid_auto_rows": null,
            "grid_gap": null,
            "max_width": null,
            "order": null,
            "_view_module_version": "1.2.0",
            "grid_template_areas": null,
            "object_position": null,
            "object_fit": null,
            "grid_auto_columns": null,
            "margin": null,
            "display": null,
            "left": null
          }
        },
        "3ec6451ce9354289ab48010a69ec0cd0": {
          "model_module": "@jupyter-widgets/controls",
          "model_name": "DescriptionStyleModel",
          "model_module_version": "1.5.0",
          "state": {
            "_view_name": "StyleView",
            "_model_name": "DescriptionStyleModel",
            "description_width": "",
            "_view_module": "@jupyter-widgets/base",
            "_model_module_version": "1.5.0",
            "_view_count": null,
            "_view_module_version": "1.2.0",
            "_model_module": "@jupyter-widgets/controls"
          }
        },
        "5f19fda7e17b4a5eb66c078c17c9b5da": {
          "model_module": "@jupyter-widgets/base",
          "model_name": "LayoutModel",
          "model_module_version": "1.2.0",
          "state": {
            "_view_name": "LayoutView",
            "grid_template_rows": null,
            "right": null,
            "justify_content": null,
            "_view_module": "@jupyter-widgets/base",
            "overflow": null,
            "_model_module_version": "1.2.0",
            "_view_count": null,
            "flex_flow": null,
            "width": null,
            "min_width": null,
            "border": null,
            "align_items": null,
            "bottom": null,
            "_model_module": "@jupyter-widgets/base",
            "top": null,
            "grid_column": null,
            "overflow_y": null,
            "overflow_x": null,
            "grid_auto_flow": null,
            "grid_area": null,
            "grid_template_columns": null,
            "flex": null,
            "_model_name": "LayoutModel",
            "justify_items": null,
            "grid_row": null,
            "max_height": null,
            "align_content": null,
            "visibility": null,
            "align_self": null,
            "height": null,
            "min_height": null,
            "padding": null,
            "grid_auto_rows": null,
            "grid_gap": null,
            "max_width": null,
            "order": null,
            "_view_module_version": "1.2.0",
            "grid_template_areas": null,
            "object_position": null,
            "object_fit": null,
            "grid_auto_columns": null,
            "margin": null,
            "display": null,
            "left": null
          }
        },
        "d81fd88da54b4830905165d419007726": {
          "model_module": "@jupyter-widgets/controls",
          "model_name": "DescriptionStyleModel",
          "model_module_version": "1.5.0",
          "state": {
            "_view_name": "StyleView",
            "_model_name": "DescriptionStyleModel",
            "description_width": "",
            "_view_module": "@jupyter-widgets/base",
            "_model_module_version": "1.5.0",
            "_view_count": null,
            "_view_module_version": "1.2.0",
            "_model_module": "@jupyter-widgets/controls"
          }
        },
        "26ab5e2f9a3140a8987b75c4cd0ba56d": {
          "model_module": "@jupyter-widgets/base",
          "model_name": "LayoutModel",
          "model_module_version": "1.2.0",
          "state": {
            "_view_name": "LayoutView",
            "grid_template_rows": null,
            "right": null,
            "justify_content": null,
            "_view_module": "@jupyter-widgets/base",
            "overflow": null,
            "_model_module_version": "1.2.0",
            "_view_count": null,
            "flex_flow": null,
            "width": null,
            "min_width": null,
            "border": null,
            "align_items": null,
            "bottom": null,
            "_model_module": "@jupyter-widgets/base",
            "top": null,
            "grid_column": null,
            "overflow_y": null,
            "overflow_x": null,
            "grid_auto_flow": null,
            "grid_area": null,
            "grid_template_columns": null,
            "flex": null,
            "_model_name": "LayoutModel",
            "justify_items": null,
            "grid_row": null,
            "max_height": null,
            "align_content": null,
            "visibility": null,
            "align_self": null,
            "height": null,
            "min_height": null,
            "padding": null,
            "grid_auto_rows": null,
            "grid_gap": null,
            "max_width": null,
            "order": null,
            "_view_module_version": "1.2.0",
            "grid_template_areas": null,
            "object_position": null,
            "object_fit": null,
            "grid_auto_columns": null,
            "margin": null,
            "display": null,
            "left": null
          }
        },
        "3c047abfc79a43b5bb85ecd24c5d91f1": {
          "model_module": "@jupyter-widgets/controls",
          "model_name": "ButtonStyleModel",
          "model_module_version": "1.5.0",
          "state": {
            "_view_name": "StyleView",
            "_model_name": "ButtonStyleModel",
            "_view_module": "@jupyter-widgets/base",
            "_model_module_version": "1.5.0",
            "_view_count": null,
            "button_color": null,
            "font_weight": "",
            "_view_module_version": "1.2.0",
            "_model_module": "@jupyter-widgets/controls"
          }
        },
        "0a3373db2f214eca9b98293ca20b9d38": {
          "model_module": "@jupyter-widgets/base",
          "model_name": "LayoutModel",
          "model_module_version": "1.2.0",
          "state": {
            "_view_name": "LayoutView",
            "grid_template_rows": null,
            "right": null,
            "justify_content": null,
            "_view_module": "@jupyter-widgets/base",
            "overflow": null,
            "_model_module_version": "1.2.0",
            "_view_count": null,
            "flex_flow": null,
            "width": null,
            "min_width": null,
            "border": null,
            "align_items": null,
            "bottom": null,
            "_model_module": "@jupyter-widgets/base",
            "top": null,
            "grid_column": null,
            "overflow_y": null,
            "overflow_x": null,
            "grid_auto_flow": null,
            "grid_area": null,
            "grid_template_columns": null,
            "flex": null,
            "_model_name": "LayoutModel",
            "justify_items": null,
            "grid_row": null,
            "max_height": null,
            "align_content": null,
            "visibility": null,
            "align_self": null,
            "height": null,
            "min_height": null,
            "padding": null,
            "grid_auto_rows": null,
            "grid_gap": null,
            "max_width": null,
            "order": null,
            "_view_module_version": "1.2.0",
            "grid_template_areas": null,
            "object_position": null,
            "object_fit": null,
            "grid_auto_columns": null,
            "margin": null,
            "display": null,
            "left": null
          }
        },
        "60e6faa3571941189d3175b1609b217b": {
          "model_module": "@jupyter-widgets/base",
          "model_name": "LayoutModel",
          "model_module_version": "1.2.0",
          "state": {
            "_view_name": "LayoutView",
            "grid_template_rows": null,
            "right": null,
            "justify_content": null,
            "_view_module": "@jupyter-widgets/base",
            "overflow": null,
            "_model_module_version": "1.2.0",
            "_view_count": null,
            "flex_flow": null,
            "width": null,
            "min_width": null,
            "border": null,
            "align_items": null,
            "bottom": null,
            "_model_module": "@jupyter-widgets/base",
            "top": null,
            "grid_column": null,
            "overflow_y": null,
            "overflow_x": null,
            "grid_auto_flow": null,
            "grid_area": null,
            "grid_template_columns": null,
            "flex": null,
            "_model_name": "LayoutModel",
            "justify_items": null,
            "grid_row": null,
            "max_height": null,
            "align_content": null,
            "visibility": null,
            "align_self": null,
            "height": null,
            "min_height": null,
            "padding": null,
            "grid_auto_rows": null,
            "grid_gap": null,
            "max_width": null,
            "order": null,
            "_view_module_version": "1.2.0",
            "grid_template_areas": null,
            "object_position": null,
            "object_fit": null,
            "grid_auto_columns": null,
            "margin": null,
            "display": null,
            "left": null
          }
        },
        "99ff62da256d49bc8b8cd0ad53510e53": {
          "model_module": "@jupyter-widgets/controls",
          "model_name": "TabModel",
          "model_module_version": "1.5.0",
          "state": {
            "_view_name": "TabView",
            "_dom_classes": [],
            "_titles": {
              "0": "Youtube",
              "1": "Bilibili"
            },
            "_model_name": "TabModel",
            "_view_module": "@jupyter-widgets/controls",
            "selected_index": 0,
            "_model_module_version": "1.5.0",
            "_view_count": null,
            "_view_module_version": "1.5.0",
            "box_style": "",
            "layout": "IPY_MODEL_09cddda6a16f4933a547d6e70343dc1e",
            "_model_module": "@jupyter-widgets/controls",
            "children": [
              "IPY_MODEL_05ae4eb16dfc49c78a66fa20ae722068",
              "IPY_MODEL_d62a17a7e3a648b68581f8a821c3861d"
            ]
          }
        },
        "09cddda6a16f4933a547d6e70343dc1e": {
          "model_module": "@jupyter-widgets/base",
          "model_name": "LayoutModel",
          "model_module_version": "1.2.0",
          "state": {
            "_view_name": "LayoutView",
            "grid_template_rows": null,
            "right": null,
            "justify_content": null,
            "_view_module": "@jupyter-widgets/base",
            "overflow": null,
            "_model_module_version": "1.2.0",
            "_view_count": null,
            "flex_flow": null,
            "width": null,
            "min_width": null,
            "border": null,
            "align_items": null,
            "bottom": null,
            "_model_module": "@jupyter-widgets/base",
            "top": null,
            "grid_column": null,
            "overflow_y": null,
            "overflow_x": null,
            "grid_auto_flow": null,
            "grid_area": null,
            "grid_template_columns": null,
            "flex": null,
            "_model_name": "LayoutModel",
            "justify_items": null,
            "grid_row": null,
            "max_height": null,
            "align_content": null,
            "visibility": null,
            "align_self": null,
            "height": null,
            "min_height": null,
            "padding": null,
            "grid_auto_rows": null,
            "grid_gap": null,
            "max_width": null,
            "order": null,
            "_view_module_version": "1.2.0",
            "grid_template_areas": null,
            "object_position": null,
            "object_fit": null,
            "grid_auto_columns": null,
            "margin": null,
            "display": null,
            "left": null
          }
        },
        "05ae4eb16dfc49c78a66fa20ae722068": {
          "model_module": "@jupyter-widgets/output",
          "model_name": "OutputModel",
          "model_module_version": "1.0.0",
          "state": {
            "_view_name": "OutputView",
            "msg_id": "",
            "_dom_classes": [],
            "_model_name": "OutputModel",
            "outputs": [
              {
                "output_type": "stream",
                "metadata": {
                  "tags": []
                },
                "text": "Video available at https://youtube.com/watch?v=Zr6r2kfmQUM\n",
                "stream": "stdout"
              },
              {
                "output_type": "display_data",
                "metadata": {
                  "tags": []
                },
                "text/html": "\n        <iframe\n            width=\"854\"\n            height=\"480\"\n            src=\"https://www.youtube.com/embed/Zr6r2kfmQUM?fs=1&rel=0\"\n            frameborder=\"0\"\n            allowfullscreen\n        ></iframe>\n        ",
                "text/plain": "<IPython.lib.display.YouTubeVideo at 0x7f693a8891d0>",
                "image/jpeg": "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\n"
              }
            ],
            "_view_module": "@jupyter-widgets/output",
            "_model_module_version": "1.0.0",
            "_view_count": null,
            "_view_module_version": "1.0.0",
            "layout": "IPY_MODEL_5042ca0bef9f4db4ad68c8a0369530dd",
            "_model_module": "@jupyter-widgets/output"
          }
        },
        "d62a17a7e3a648b68581f8a821c3861d": {
          "model_module": "@jupyter-widgets/output",
          "model_name": "OutputModel",
          "model_module_version": "1.0.0",
          "state": {
            "_view_name": "OutputView",
            "msg_id": "",
            "_dom_classes": [],
            "_model_name": "OutputModel",
            "outputs": [
              {
                "output_type": "stream",
                "metadata": {
                  "tags": []
                },
                "text": "Video available at https://www.bilibili.com/video/BV1eq4y1W7JG\n",
                "stream": "stdout"
              },
              {
                "output_type": "display_data",
                "metadata": {
                  "tags": []
                },
                "text/html": "\n        <iframe\n            width=\"854\"\n            height=\"480\"\n            src=\"https://player.bilibili.com/player.html?bvid=BV1eq4y1W7JG&page=1?fs=1\"\n            frameborder=\"0\"\n            allowfullscreen\n        ></iframe>\n        ",
                "text/plain": "<__main__.BiliVideo at 0x7f693a4fb690>"
              }
            ],
            "_view_module": "@jupyter-widgets/output",
            "_model_module_version": "1.0.0",
            "_view_count": null,
            "_view_module_version": "1.0.0",
            "layout": "IPY_MODEL_7735729d95914c079bd1ba7eb5055b76",
            "_model_module": "@jupyter-widgets/output"
          }
        },
        "5042ca0bef9f4db4ad68c8a0369530dd": {
          "model_module": "@jupyter-widgets/base",
          "model_name": "LayoutModel",
          "model_module_version": "1.2.0",
          "state": {
            "_view_name": "LayoutView",
            "grid_template_rows": null,
            "right": null,
            "justify_content": null,
            "_view_module": "@jupyter-widgets/base",
            "overflow": null,
            "_model_module_version": "1.2.0",
            "_view_count": null,
            "flex_flow": null,
            "width": null,
            "min_width": null,
            "border": null,
            "align_items": null,
            "bottom": null,
            "_model_module": "@jupyter-widgets/base",
            "top": null,
            "grid_column": null,
            "overflow_y": null,
            "overflow_x": null,
            "grid_auto_flow": null,
            "grid_area": null,
            "grid_template_columns": null,
            "flex": null,
            "_model_name": "LayoutModel",
            "justify_items": null,
            "grid_row": null,
            "max_height": null,
            "align_content": null,
            "visibility": null,
            "align_self": null,
            "height": null,
            "min_height": null,
            "padding": null,
            "grid_auto_rows": null,
            "grid_gap": null,
            "max_width": null,
            "order": null,
            "_view_module_version": "1.2.0",
            "grid_template_areas": null,
            "object_position": null,
            "object_fit": null,
            "grid_auto_columns": null,
            "margin": null,
            "display": null,
            "left": null
          }
        },
        "7735729d95914c079bd1ba7eb5055b76": {
          "model_module": "@jupyter-widgets/base",
          "model_name": "LayoutModel",
          "model_module_version": "1.2.0",
          "state": {
            "_view_name": "LayoutView",
            "grid_template_rows": null,
            "right": null,
            "justify_content": null,
            "_view_module": "@jupyter-widgets/base",
            "overflow": null,
            "_model_module_version": "1.2.0",
            "_view_count": null,
            "flex_flow": null,
            "width": null,
            "min_width": null,
            "border": null,
            "align_items": null,
            "bottom": null,
            "_model_module": "@jupyter-widgets/base",
            "top": null,
            "grid_column": null,
            "overflow_y": null,
            "overflow_x": null,
            "grid_auto_flow": null,
            "grid_area": null,
            "grid_template_columns": null,
            "flex": null,
            "_model_name": "LayoutModel",
            "justify_items": null,
            "grid_row": null,
            "max_height": null,
            "align_content": null,
            "visibility": null,
            "align_self": null,
            "height": null,
            "min_height": null,
            "padding": null,
            "grid_auto_rows": null,
            "grid_gap": null,
            "max_width": null,
            "order": null,
            "_view_module_version": "1.2.0",
            "grid_template_areas": null,
            "object_position": null,
            "object_fit": null,
            "grid_auto_columns": null,
            "margin": null,
            "display": null,
            "left": null
          }
        },
        "f6778288f80f47e18ea3a50f4bf2bb22": {
          "model_module": "@jupyter-widgets/controls",
          "model_name": "VBoxModel",
          "model_module_version": "1.5.0",
          "state": {
            "_view_name": "VBoxView",
            "_dom_classes": [
              "widget-interact"
            ],
            "_model_name": "VBoxModel",
            "_view_module": "@jupyter-widgets/controls",
            "_model_module_version": "1.5.0",
            "_view_count": null,
            "_view_module_version": "1.5.0",
            "box_style": "",
            "layout": "IPY_MODEL_29c77b0235614739a11045abb9a78900",
            "_model_module": "@jupyter-widgets/controls",
            "children": [
              "IPY_MODEL_5ed517704e804d4396b56b693eb6c5ce",
              "IPY_MODEL_6f6c3428bcb94bee94422a2e2866e3b0",
              "IPY_MODEL_252a51eb57584d6d9e180db89f7f523b",
              "IPY_MODEL_9d93931f8ca646648c9ba81d919fcefd",
              "IPY_MODEL_749e96044e084e949c39cdaf325d7b2a"
            ]
          }
        },
        "29c77b0235614739a11045abb9a78900": {
          "model_module": "@jupyter-widgets/base",
          "model_name": "LayoutModel",
          "model_module_version": "1.2.0",
          "state": {
            "_view_name": "LayoutView",
            "grid_template_rows": null,
            "right": null,
            "justify_content": null,
            "_view_module": "@jupyter-widgets/base",
            "overflow": null,
            "_model_module_version": "1.2.0",
            "_view_count": null,
            "flex_flow": null,
            "width": null,
            "min_width": null,
            "border": null,
            "align_items": null,
            "bottom": null,
            "_model_module": "@jupyter-widgets/base",
            "top": null,
            "grid_column": null,
            "overflow_y": null,
            "overflow_x": null,
            "grid_auto_flow": null,
            "grid_area": null,
            "grid_template_columns": null,
            "flex": null,
            "_model_name": "LayoutModel",
            "justify_items": null,
            "grid_row": null,
            "max_height": null,
            "align_content": null,
            "visibility": null,
            "align_self": null,
            "height": null,
            "min_height": null,
            "padding": null,
            "grid_auto_rows": null,
            "grid_gap": null,
            "max_width": null,
            "order": null,
            "_view_module_version": "1.2.0",
            "grid_template_areas": null,
            "object_position": null,
            "object_fit": null,
            "grid_auto_columns": null,
            "margin": null,
            "display": null,
            "left": null
          }
        },
        "5ed517704e804d4396b56b693eb6c5ce": {
          "model_module": "@jupyter-widgets/controls",
          "model_name": "IntSliderModel",
          "model_module_version": "1.5.0",
          "state": {
            "_view_name": "IntSliderView",
            "style": "IPY_MODEL_4facc85c5ca94bb0b9f63da4ebeb5f36",
            "_dom_classes": [],
            "description": "batch_size",
            "step": 5,
            "_model_name": "IntSliderModel",
            "orientation": "horizontal",
            "max": 250,
            "_view_module": "@jupyter-widgets/controls",
            "_model_module_version": "1.5.0",
            "value": 135,
            "_view_count": null,
            "disabled": false,
            "_view_module_version": "1.5.0",
            "min": 25,
            "continuous_update": true,
            "readout_format": "d",
            "description_tooltip": null,
            "readout": true,
            "_model_module": "@jupyter-widgets/controls",
            "layout": "IPY_MODEL_4c7b2d08eba2495696a037093caa2a7e"
          }
        },
        "6f6c3428bcb94bee94422a2e2866e3b0": {
          "model_module": "@jupyter-widgets/controls",
          "model_name": "FloatLogSliderModel",
          "model_module_version": "1.5.0",
          "state": {
            "_view_name": "FloatLogSliderView",
            "orientation": "horizontal",
            "_view_module": "@jupyter-widgets/controls",
            "_model_module_version": "1.5.0",
            "_view_count": null,
            "disabled": false,
            "readout_format": ".3g",
            "_model_module": "@jupyter-widgets/controls",
            "style": "IPY_MODEL_fcdfb478f68c4a3b9893d97cf3284e63",
            "layout": "IPY_MODEL_25c0f07ba86749239f949729dfbcf9de",
            "min": -5,
            "continuous_update": true,
            "description_tooltip": null,
            "_dom_classes": [],
            "description": "lr",
            "_model_name": "FloatLogSliderModel",
            "max": 0,
            "readout": true,
            "step": 0.1,
            "base": 10,
            "value": 0.002,
            "_view_module_version": "1.5.0"
          }
        },
        "252a51eb57584d6d9e180db89f7f523b": {
          "model_module": "@jupyter-widgets/controls",
          "model_name": "IntSliderModel",
          "model_module_version": "1.5.0",
          "state": {
            "_view_name": "IntSliderView",
            "style": "IPY_MODEL_1344db4072404da0915d50c1c0bf740a",
            "_dom_classes": [],
            "description": "max_steps",
            "step": 5,
            "_model_name": "IntSliderModel",
            "orientation": "horizontal",
            "max": 500,
            "_view_module": "@jupyter-widgets/controls",
            "_model_module_version": "1.5.0",
            "value": 275,
            "_view_count": null,
            "disabled": false,
            "_view_module_version": "1.5.0",
            "min": 50,
            "continuous_update": true,
            "readout_format": "d",
            "description_tooltip": null,
            "readout": true,
            "_model_module": "@jupyter-widgets/controls",
            "layout": "IPY_MODEL_08283fee5afd46eb9ba895f68fffd599"
          }
        },
        "9d93931f8ca646648c9ba81d919fcefd": {
          "model_module": "@jupyter-widgets/controls",
          "model_name": "ButtonModel",
          "model_module_version": "1.5.0",
          "state": {
            "_view_name": "ButtonView",
            "style": "IPY_MODEL_48ff5e713f614de3bbc94cbd3ef97dc5",
            "_dom_classes": [],
            "description": "Run Interact",
            "_model_name": "ButtonModel",
            "button_style": "",
            "_view_module": "@jupyter-widgets/controls",
            "_model_module_version": "1.5.0",
            "tooltip": "",
            "_view_count": null,
            "disabled": false,
            "_view_module_version": "1.5.0",
            "layout": "IPY_MODEL_bcfc184e52f44d6da0bfab9b843a2d5a",
            "_model_module": "@jupyter-widgets/controls",
            "icon": ""
          }
        },
        "749e96044e084e949c39cdaf325d7b2a": {
          "model_module": "@jupyter-widgets/output",
          "model_name": "OutputModel",
          "model_module_version": "1.0.0",
          "state": {
            "_view_name": "OutputView",
            "msg_id": "",
            "_dom_classes": [],
            "_model_name": "OutputModel",
            "outputs": [],
            "_view_module": "@jupyter-widgets/output",
            "_model_module_version": "1.0.0",
            "_view_count": null,
            "_view_module_version": "1.0.0",
            "layout": "IPY_MODEL_8df8316193474fed8fd05f8b07ec608c",
            "_model_module": "@jupyter-widgets/output"
          }
        },
        "4facc85c5ca94bb0b9f63da4ebeb5f36": {
          "model_module": "@jupyter-widgets/controls",
          "model_name": "SliderStyleModel",
          "model_module_version": "1.5.0",
          "state": {
            "_view_name": "StyleView",
            "handle_color": null,
            "_model_name": "SliderStyleModel",
            "description_width": "",
            "_view_module": "@jupyter-widgets/base",
            "_model_module_version": "1.5.0",
            "_view_count": null,
            "_view_module_version": "1.2.0",
            "_model_module": "@jupyter-widgets/controls"
          }
        },
        "4c7b2d08eba2495696a037093caa2a7e": {
          "model_module": "@jupyter-widgets/base",
          "model_name": "LayoutModel",
          "model_module_version": "1.2.0",
          "state": {
            "_view_name": "LayoutView",
            "grid_template_rows": null,
            "right": null,
            "justify_content": null,
            "_view_module": "@jupyter-widgets/base",
            "overflow": null,
            "_model_module_version": "1.2.0",
            "_view_count": null,
            "flex_flow": null,
            "width": null,
            "min_width": null,
            "border": null,
            "align_items": null,
            "bottom": null,
            "_model_module": "@jupyter-widgets/base",
            "top": null,
            "grid_column": null,
            "overflow_y": null,
            "overflow_x": null,
            "grid_auto_flow": null,
            "grid_area": null,
            "grid_template_columns": null,
            "flex": null,
            "_model_name": "LayoutModel",
            "justify_items": null,
            "grid_row": null,
            "max_height": null,
            "align_content": null,
            "visibility": null,
            "align_self": null,
            "height": null,
            "min_height": null,
            "padding": null,
            "grid_auto_rows": null,
            "grid_gap": null,
            "max_width": null,
            "order": null,
            "_view_module_version": "1.2.0",
            "grid_template_areas": null,
            "object_position": null,
            "object_fit": null,
            "grid_auto_columns": null,
            "margin": null,
            "display": null,
            "left": null
          }
        },
        "fcdfb478f68c4a3b9893d97cf3284e63": {
          "model_module": "@jupyter-widgets/controls",
          "model_name": "SliderStyleModel",
          "model_module_version": "1.5.0",
          "state": {
            "_view_name": "StyleView",
            "handle_color": null,
            "_model_name": "SliderStyleModel",
            "description_width": "",
            "_view_module": "@jupyter-widgets/base",
            "_model_module_version": "1.5.0",
            "_view_count": null,
            "_view_module_version": "1.2.0",
            "_model_module": "@jupyter-widgets/controls"
          }
        },
        "25c0f07ba86749239f949729dfbcf9de": {
          "model_module": "@jupyter-widgets/base",
          "model_name": "LayoutModel",
          "model_module_version": "1.2.0",
          "state": {
            "_view_name": "LayoutView",
            "grid_template_rows": null,
            "right": null,
            "justify_content": null,
            "_view_module": "@jupyter-widgets/base",
            "overflow": null,
            "_model_module_version": "1.2.0",
            "_view_count": null,
            "flex_flow": null,
            "width": null,
            "min_width": null,
            "border": null,
            "align_items": null,
            "bottom": null,
            "_model_module": "@jupyter-widgets/base",
            "top": null,
            "grid_column": null,
            "overflow_y": null,
            "overflow_x": null,
            "grid_auto_flow": null,
            "grid_area": null,
            "grid_template_columns": null,
            "flex": null,
            "_model_name": "LayoutModel",
            "justify_items": null,
            "grid_row": null,
            "max_height": null,
            "align_content": null,
            "visibility": null,
            "align_self": null,
            "height": null,
            "min_height": null,
            "padding": null,
            "grid_auto_rows": null,
            "grid_gap": null,
            "max_width": null,
            "order": null,
            "_view_module_version": "1.2.0",
            "grid_template_areas": null,
            "object_position": null,
            "object_fit": null,
            "grid_auto_columns": null,
            "margin": null,
            "display": null,
            "left": null
          }
        },
        "1344db4072404da0915d50c1c0bf740a": {
          "model_module": "@jupyter-widgets/controls",
          "model_name": "SliderStyleModel",
          "model_module_version": "1.5.0",
          "state": {
            "_view_name": "StyleView",
            "handle_color": null,
            "_model_name": "SliderStyleModel",
            "description_width": "",
            "_view_module": "@jupyter-widgets/base",
            "_model_module_version": "1.5.0",
            "_view_count": null,
            "_view_module_version": "1.2.0",
            "_model_module": "@jupyter-widgets/controls"
          }
        },
        "08283fee5afd46eb9ba895f68fffd599": {
          "model_module": "@jupyter-widgets/base",
          "model_name": "LayoutModel",
          "model_module_version": "1.2.0",
          "state": {
            "_view_name": "LayoutView",
            "grid_template_rows": null,
            "right": null,
            "justify_content": null,
            "_view_module": "@jupyter-widgets/base",
            "overflow": null,
            "_model_module_version": "1.2.0",
            "_view_count": null,
            "flex_flow": null,
            "width": null,
            "min_width": null,
            "border": null,
            "align_items": null,
            "bottom": null,
            "_model_module": "@jupyter-widgets/base",
            "top": null,
            "grid_column": null,
            "overflow_y": null,
            "overflow_x": null,
            "grid_auto_flow": null,
            "grid_area": null,
            "grid_template_columns": null,
            "flex": null,
            "_model_name": "LayoutModel",
            "justify_items": null,
            "grid_row": null,
            "max_height": null,
            "align_content": null,
            "visibility": null,
            "align_self": null,
            "height": null,
            "min_height": null,
            "padding": null,
            "grid_auto_rows": null,
            "grid_gap": null,
            "max_width": null,
            "order": null,
            "_view_module_version": "1.2.0",
            "grid_template_areas": null,
            "object_position": null,
            "object_fit": null,
            "grid_auto_columns": null,
            "margin": null,
            "display": null,
            "left": null
          }
        },
        "48ff5e713f614de3bbc94cbd3ef97dc5": {
          "model_module": "@jupyter-widgets/controls",
          "model_name": "ButtonStyleModel",
          "model_module_version": "1.5.0",
          "state": {
            "_view_name": "StyleView",
            "_model_name": "ButtonStyleModel",
            "_view_module": "@jupyter-widgets/base",
            "_model_module_version": "1.5.0",
            "_view_count": null,
            "button_color": null,
            "font_weight": "",
            "_view_module_version": "1.2.0",
            "_model_module": "@jupyter-widgets/controls"
          }
        },
        "bcfc184e52f44d6da0bfab9b843a2d5a": {
          "model_module": "@jupyter-widgets/base",
          "model_name": "LayoutModel",
          "model_module_version": "1.2.0",
          "state": {
            "_view_name": "LayoutView",
            "grid_template_rows": null,
            "right": null,
            "justify_content": null,
            "_view_module": "@jupyter-widgets/base",
            "overflow": null,
            "_model_module_version": "1.2.0",
            "_view_count": null,
            "flex_flow": null,
            "width": null,
            "min_width": null,
            "border": null,
            "align_items": null,
            "bottom": null,
            "_model_module": "@jupyter-widgets/base",
            "top": null,
            "grid_column": null,
            "overflow_y": null,
            "overflow_x": null,
            "grid_auto_flow": null,
            "grid_area": null,
            "grid_template_columns": null,
            "flex": null,
            "_model_name": "LayoutModel",
            "justify_items": null,
            "grid_row": null,
            "max_height": null,
            "align_content": null,
            "visibility": null,
            "align_self": null,
            "height": null,
            "min_height": null,
            "padding": null,
            "grid_auto_rows": null,
            "grid_gap": null,
            "max_width": null,
            "order": null,
            "_view_module_version": "1.2.0",
            "grid_template_areas": null,
            "object_position": null,
            "object_fit": null,
            "grid_auto_columns": null,
            "margin": null,
            "display": null,
            "left": null
          }
        },
        "8df8316193474fed8fd05f8b07ec608c": {
          "model_module": "@jupyter-widgets/base",
          "model_name": "LayoutModel",
          "model_module_version": "1.2.0",
          "state": {
            "_view_name": "LayoutView",
            "grid_template_rows": null,
            "right": null,
            "justify_content": null,
            "_view_module": "@jupyter-widgets/base",
            "overflow": null,
            "_model_module_version": "1.2.0",
            "_view_count": null,
            "flex_flow": null,
            "width": null,
            "min_width": null,
            "border": null,
            "align_items": null,
            "bottom": null,
            "_model_module": "@jupyter-widgets/base",
            "top": null,
            "grid_column": null,
            "overflow_y": null,
            "overflow_x": null,
            "grid_auto_flow": null,
            "grid_area": null,
            "grid_template_columns": null,
            "flex": null,
            "_model_name": "LayoutModel",
            "justify_items": null,
            "grid_row": null,
            "max_height": null,
            "align_content": null,
            "visibility": null,
            "align_self": null,
            "height": null,
            "min_height": null,
            "padding": null,
            "grid_auto_rows": null,
            "grid_gap": null,
            "max_width": null,
            "order": null,
            "_view_module_version": "1.2.0",
            "grid_template_areas": null,
            "object_position": null,
            "object_fit": null,
            "grid_auto_columns": null,
            "margin": null,
            "display": null,
            "left": null
          }
        },
        "b3bdb78e280049d1aec08b2387e088c3": {
          "model_module": "@jupyter-widgets/controls",
          "model_name": "TextareaModel",
          "model_module_version": "1.5.0",
          "state": {
            "_view_name": "TextareaView",
            "style": "IPY_MODEL_d283cf50a25b4d94a0a6faa44b2c1266",
            "rows": null,
            "_dom_classes": [],
            "description": "",
            "_model_name": "TextareaModel",
            "placeholder": "Type something",
            "_view_module": "@jupyter-widgets/controls",
            "_model_module_version": "1.5.0",
            "value": "Type your answer here and click on `Submit!`",
            "_view_count": null,
            "disabled": false,
            "_view_module_version": "1.5.0",
            "continuous_update": true,
            "description_tooltip": null,
            "_model_module": "@jupyter-widgets/controls",
            "layout": "IPY_MODEL_67f49ca7f75643c0acb1a819a42d00df"
          }
        },
        "d283cf50a25b4d94a0a6faa44b2c1266": {
          "model_module": "@jupyter-widgets/controls",
          "model_name": "DescriptionStyleModel",
          "model_module_version": "1.5.0",
          "state": {
            "_view_name": "StyleView",
            "_model_name": "DescriptionStyleModel",
            "description_width": "",
            "_view_module": "@jupyter-widgets/base",
            "_model_module_version": "1.5.0",
            "_view_count": null,
            "_view_module_version": "1.2.0",
            "_model_module": "@jupyter-widgets/controls"
          }
        },
        "67f49ca7f75643c0acb1a819a42d00df": {
          "model_module": "@jupyter-widgets/base",
          "model_name": "LayoutModel",
          "model_module_version": "1.2.0",
          "state": {
            "_view_name": "LayoutView",
            "grid_template_rows": null,
            "right": null,
            "justify_content": null,
            "_view_module": "@jupyter-widgets/base",
            "overflow": null,
            "_model_module_version": "1.2.0",
            "_view_count": null,
            "flex_flow": null,
            "width": null,
            "min_width": null,
            "border": null,
            "align_items": null,
            "bottom": null,
            "_model_module": "@jupyter-widgets/base",
            "top": null,
            "grid_column": null,
            "overflow_y": null,
            "overflow_x": null,
            "grid_auto_flow": null,
            "grid_area": null,
            "grid_template_columns": null,
            "flex": null,
            "_model_name": "LayoutModel",
            "justify_items": null,
            "grid_row": null,
            "max_height": null,
            "align_content": null,
            "visibility": null,
            "align_self": null,
            "height": null,
            "min_height": null,
            "padding": null,
            "grid_auto_rows": null,
            "grid_gap": null,
            "max_width": null,
            "order": null,
            "_view_module_version": "1.2.0",
            "grid_template_areas": null,
            "object_position": null,
            "object_fit": null,
            "grid_auto_columns": null,
            "margin": null,
            "display": null,
            "left": null
          }
        },
        "a4a8e56a7c2b4352a9090777d403937b": {
          "model_module": "@jupyter-widgets/controls",
          "model_name": "ButtonModel",
          "model_module_version": "1.5.0",
          "state": {
            "_view_name": "ButtonView",
            "style": "IPY_MODEL_75b83863e35e40d8befc7882af706e78",
            "_dom_classes": [],
            "description": "Submit!",
            "_model_name": "ButtonModel",
            "button_style": "",
            "_view_module": "@jupyter-widgets/controls",
            "_model_module_version": "1.5.0",
            "tooltip": "",
            "_view_count": null,
            "disabled": false,
            "_view_module_version": "1.5.0",
            "layout": "IPY_MODEL_507ca23367624d5eaa230a13155c0299",
            "_model_module": "@jupyter-widgets/controls",
            "icon": ""
          }
        },
        "75b83863e35e40d8befc7882af706e78": {
          "model_module": "@jupyter-widgets/controls",
          "model_name": "ButtonStyleModel",
          "model_module_version": "1.5.0",
          "state": {
            "_view_name": "StyleView",
            "_model_name": "ButtonStyleModel",
            "_view_module": "@jupyter-widgets/base",
            "_model_module_version": "1.5.0",
            "_view_count": null,
            "button_color": null,
            "font_weight": "",
            "_view_module_version": "1.2.0",
            "_model_module": "@jupyter-widgets/controls"
          }
        },
        "507ca23367624d5eaa230a13155c0299": {
          "model_module": "@jupyter-widgets/base",
          "model_name": "LayoutModel",
          "model_module_version": "1.2.0",
          "state": {
            "_view_name": "LayoutView",
            "grid_template_rows": null,
            "right": null,
            "justify_content": null,
            "_view_module": "@jupyter-widgets/base",
            "overflow": null,
            "_model_module_version": "1.2.0",
            "_view_count": null,
            "flex_flow": null,
            "width": null,
            "min_width": null,
            "border": null,
            "align_items": null,
            "bottom": null,
            "_model_module": "@jupyter-widgets/base",
            "top": null,
            "grid_column": null,
            "overflow_y": null,
            "overflow_x": null,
            "grid_auto_flow": null,
            "grid_area": null,
            "grid_template_columns": null,
            "flex": null,
            "_model_name": "LayoutModel",
            "justify_items": null,
            "grid_row": null,
            "max_height": null,
            "align_content": null,
            "visibility": null,
            "align_self": null,
            "height": null,
            "min_height": null,
            "padding": null,
            "grid_auto_rows": null,
            "grid_gap": null,
            "max_width": null,
            "order": null,
            "_view_module_version": "1.2.0",
            "grid_template_areas": null,
            "object_position": null,
            "object_fit": null,
            "grid_auto_columns": null,
            "margin": null,
            "display": null,
            "left": null
          }
        },
        "f1e8c4ebfa034b45b3bbb23ff00f06f7": {
          "model_module": "@jupyter-widgets/controls",
          "model_name": "TabModel",
          "model_module_version": "1.5.0",
          "state": {
            "_view_name": "TabView",
            "_dom_classes": [],
            "_titles": {
              "0": "Youtube",
              "1": "Bilibili"
            },
            "_model_name": "TabModel",
            "_view_module": "@jupyter-widgets/controls",
            "selected_index": 0,
            "_model_module_version": "1.5.0",
            "_view_count": null,
            "_view_module_version": "1.5.0",
            "box_style": "",
            "layout": "IPY_MODEL_f8966ffb69754cc58ee5fb9e3fbcf7c9",
            "_model_module": "@jupyter-widgets/controls",
            "children": [
              "IPY_MODEL_7aa90a150b31480bb42dfcaf68119697",
              "IPY_MODEL_2198965dc65449348bfe59f3461788bf"
            ]
          }
        },
        "f8966ffb69754cc58ee5fb9e3fbcf7c9": {
          "model_module": "@jupyter-widgets/base",
          "model_name": "LayoutModel",
          "model_module_version": "1.2.0",
          "state": {
            "_view_name": "LayoutView",
            "grid_template_rows": null,
            "right": null,
            "justify_content": null,
            "_view_module": "@jupyter-widgets/base",
            "overflow": null,
            "_model_module_version": "1.2.0",
            "_view_count": null,
            "flex_flow": null,
            "width": null,
            "min_width": null,
            "border": null,
            "align_items": null,
            "bottom": null,
            "_model_module": "@jupyter-widgets/base",
            "top": null,
            "grid_column": null,
            "overflow_y": null,
            "overflow_x": null,
            "grid_auto_flow": null,
            "grid_area": null,
            "grid_template_columns": null,
            "flex": null,
            "_model_name": "LayoutModel",
            "justify_items": null,
            "grid_row": null,
            "max_height": null,
            "align_content": null,
            "visibility": null,
            "align_self": null,
            "height": null,
            "min_height": null,
            "padding": null,
            "grid_auto_rows": null,
            "grid_gap": null,
            "max_width": null,
            "order": null,
            "_view_module_version": "1.2.0",
            "grid_template_areas": null,
            "object_position": null,
            "object_fit": null,
            "grid_auto_columns": null,
            "margin": null,
            "display": null,
            "left": null
          }
        },
        "7aa90a150b31480bb42dfcaf68119697": {
          "model_module": "@jupyter-widgets/output",
          "model_name": "OutputModel",
          "model_module_version": "1.0.0",
          "state": {
            "_view_name": "OutputView",
            "msg_id": "",
            "_dom_classes": [],
            "_model_name": "OutputModel",
            "outputs": [
              {
                "output_type": "stream",
                "metadata": {
                  "tags": []
                },
                "text": "Video available at https://youtube.com/watch?v=0EthSI0cknI\n",
                "stream": "stdout"
              },
              {
                "output_type": "display_data",
                "metadata": {
                  "tags": []
                },
                "text/html": "\n        <iframe\n            width=\"854\"\n            height=\"480\"\n            src=\"https://www.youtube.com/embed/0EthSI0cknI?fs=1&rel=0\"\n            frameborder=\"0\"\n            allowfullscreen\n        ></iframe>\n        ",
                "text/plain": "<IPython.lib.display.YouTubeVideo at 0x7f693a8891d0>",
                "image/jpeg": "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\n"
              }
            ],
            "_view_module": "@jupyter-widgets/output",
            "_model_module_version": "1.0.0",
            "_view_count": null,
            "_view_module_version": "1.0.0",
            "layout": "IPY_MODEL_a361d4ba82af4c08a37854ba5556797c",
            "_model_module": "@jupyter-widgets/output"
          }
        },
        "2198965dc65449348bfe59f3461788bf": {
          "model_module": "@jupyter-widgets/output",
          "model_name": "OutputModel",
          "model_module_version": "1.0.0",
          "state": {
            "_view_name": "OutputView",
            "msg_id": "",
            "_dom_classes": [],
            "_model_name": "OutputModel",
            "outputs": [
              {
                "output_type": "stream",
                "metadata": {
                  "tags": []
                },
                "text": "Video available at https://www.bilibili.com/video/BV1TU4y1G7Je\n",
                "stream": "stdout"
              },
              {
                "output_type": "display_data",
                "metadata": {
                  "tags": []
                },
                "text/html": "\n        <iframe\n            width=\"854\"\n            height=\"480\"\n            src=\"https://player.bilibili.com/player.html?bvid=BV1TU4y1G7Je&page=1?fs=1\"\n            frameborder=\"0\"\n            allowfullscreen\n        ></iframe>\n        ",
                "text/plain": "<__main__.BiliVideo at 0x7f693041b090>"
              }
            ],
            "_view_module": "@jupyter-widgets/output",
            "_model_module_version": "1.0.0",
            "_view_count": null,
            "_view_module_version": "1.0.0",
            "layout": "IPY_MODEL_e1fe23dc452a43fc865cdde4ace5f5f0",
            "_model_module": "@jupyter-widgets/output"
          }
        },
        "a361d4ba82af4c08a37854ba5556797c": {
          "model_module": "@jupyter-widgets/base",
          "model_name": "LayoutModel",
          "model_module_version": "1.2.0",
          "state": {
            "_view_name": "LayoutView",
            "grid_template_rows": null,
            "right": null,
            "justify_content": null,
            "_view_module": "@jupyter-widgets/base",
            "overflow": null,
            "_model_module_version": "1.2.0",
            "_view_count": null,
            "flex_flow": null,
            "width": null,
            "min_width": null,
            "border": null,
            "align_items": null,
            "bottom": null,
            "_model_module": "@jupyter-widgets/base",
            "top": null,
            "grid_column": null,
            "overflow_y": null,
            "overflow_x": null,
            "grid_auto_flow": null,
            "grid_area": null,
            "grid_template_columns": null,
            "flex": null,
            "_model_name": "LayoutModel",
            "justify_items": null,
            "grid_row": null,
            "max_height": null,
            "align_content": null,
            "visibility": null,
            "align_self": null,
            "height": null,
            "min_height": null,
            "padding": null,
            "grid_auto_rows": null,
            "grid_gap": null,
            "max_width": null,
            "order": null,
            "_view_module_version": "1.2.0",
            "grid_template_areas": null,
            "object_position": null,
            "object_fit": null,
            "grid_auto_columns": null,
            "margin": null,
            "display": null,
            "left": null
          }
        },
        "e1fe23dc452a43fc865cdde4ace5f5f0": {
          "model_module": "@jupyter-widgets/base",
          "model_name": "LayoutModel",
          "model_module_version": "1.2.0",
          "state": {
            "_view_name": "LayoutView",
            "grid_template_rows": null,
            "right": null,
            "justify_content": null,
            "_view_module": "@jupyter-widgets/base",
            "overflow": null,
            "_model_module_version": "1.2.0",
            "_view_count": null,
            "flex_flow": null,
            "width": null,
            "min_width": null,
            "border": null,
            "align_items": null,
            "bottom": null,
            "_model_module": "@jupyter-widgets/base",
            "top": null,
            "grid_column": null,
            "overflow_y": null,
            "overflow_x": null,
            "grid_auto_flow": null,
            "grid_area": null,
            "grid_template_columns": null,
            "flex": null,
            "_model_name": "LayoutModel",
            "justify_items": null,
            "grid_row": null,
            "max_height": null,
            "align_content": null,
            "visibility": null,
            "align_self": null,
            "height": null,
            "min_height": null,
            "padding": null,
            "grid_auto_rows": null,
            "grid_gap": null,
            "max_width": null,
            "order": null,
            "_view_module_version": "1.2.0",
            "grid_template_areas": null,
            "object_position": null,
            "object_fit": null,
            "grid_auto_columns": null,
            "margin": null,
            "display": null,
            "left": null
          }
        },
        "c9249f91328c42aaa3406c71dd88d0c9": {
          "model_module": "@jupyter-widgets/controls",
          "model_name": "TabModel",
          "model_module_version": "1.5.0",
          "state": {
            "_view_name": "TabView",
            "_dom_classes": [],
            "_titles": {
              "0": "Youtube",
              "1": "Bilibili"
            },
            "_model_name": "TabModel",
            "_view_module": "@jupyter-widgets/controls",
            "selected_index": 0,
            "_model_module_version": "1.5.0",
            "_view_count": null,
            "_view_module_version": "1.5.0",
            "box_style": "",
            "layout": "IPY_MODEL_736cb030bea44fcc8968c63663109938",
            "_model_module": "@jupyter-widgets/controls",
            "children": [
              "IPY_MODEL_c29c178fc5dc431fb5cd8364c9dc8631",
              "IPY_MODEL_92233cbfe708447b8eaeb5c21339b3fd"
            ]
          }
        },
        "736cb030bea44fcc8968c63663109938": {
          "model_module": "@jupyter-widgets/base",
          "model_name": "LayoutModel",
          "model_module_version": "1.2.0",
          "state": {
            "_view_name": "LayoutView",
            "grid_template_rows": null,
            "right": null,
            "justify_content": null,
            "_view_module": "@jupyter-widgets/base",
            "overflow": null,
            "_model_module_version": "1.2.0",
            "_view_count": null,
            "flex_flow": null,
            "width": null,
            "min_width": null,
            "border": null,
            "align_items": null,
            "bottom": null,
            "_model_module": "@jupyter-widgets/base",
            "top": null,
            "grid_column": null,
            "overflow_y": null,
            "overflow_x": null,
            "grid_auto_flow": null,
            "grid_area": null,
            "grid_template_columns": null,
            "flex": null,
            "_model_name": "LayoutModel",
            "justify_items": null,
            "grid_row": null,
            "max_height": null,
            "align_content": null,
            "visibility": null,
            "align_self": null,
            "height": null,
            "min_height": null,
            "padding": null,
            "grid_auto_rows": null,
            "grid_gap": null,
            "max_width": null,
            "order": null,
            "_view_module_version": "1.2.0",
            "grid_template_areas": null,
            "object_position": null,
            "object_fit": null,
            "grid_auto_columns": null,
            "margin": null,
            "display": null,
            "left": null
          }
        },
        "c29c178fc5dc431fb5cd8364c9dc8631": {
          "model_module": "@jupyter-widgets/output",
          "model_name": "OutputModel",
          "model_module_version": "1.0.0",
          "state": {
            "_view_name": "OutputView",
            "msg_id": "",
            "_dom_classes": [],
            "_model_name": "OutputModel",
            "outputs": [
              {
                "output_type": "stream",
                "metadata": {
                  "tags": []
                },
                "text": "Video available at https://youtube.com/watch?v=DP9c13vLiOM\n",
                "stream": "stdout"
              },
              {
                "output_type": "display_data",
                "metadata": {
                  "tags": []
                },
                "text/html": "\n        <iframe\n            width=\"854\"\n            height=\"480\"\n            src=\"https://www.youtube.com/embed/DP9c13vLiOM?fs=1&rel=0\"\n            frameborder=\"0\"\n            allowfullscreen\n        ></iframe>\n        ",
                "text/plain": "<IPython.lib.display.YouTubeVideo at 0x7f693a37e4d0>",
                "image/jpeg": "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\n"
              }
            ],
            "_view_module": "@jupyter-widgets/output",
            "_model_module_version": "1.0.0",
            "_view_count": null,
            "_view_module_version": "1.0.0",
            "layout": "IPY_MODEL_856f2d7d9ba940618604b2e53fa51ab1",
            "_model_module": "@jupyter-widgets/output"
          }
        },
        "92233cbfe708447b8eaeb5c21339b3fd": {
          "model_module": "@jupyter-widgets/output",
          "model_name": "OutputModel",
          "model_module_version": "1.0.0",
          "state": {
            "_view_name": "OutputView",
            "msg_id": "",
            "_dom_classes": [],
            "_model_name": "OutputModel",
            "outputs": [
              {
                "output_type": "stream",
                "metadata": {
                  "tags": []
                },
                "text": "Video available at https://www.bilibili.com/video/BV1MK4y1u7u2\n",
                "stream": "stdout"
              },
              {
                "output_type": "display_data",
                "metadata": {
                  "tags": []
                },
                "text/html": "\n        <iframe\n            width=\"854\"\n            height=\"480\"\n            src=\"https://player.bilibili.com/player.html?bvid=BV1MK4y1u7u2&page=1?fs=1\"\n            frameborder=\"0\"\n            allowfullscreen\n        ></iframe>\n        ",
                "text/plain": "<__main__.BiliVideo at 0x7f6930369c10>"
              }
            ],
            "_view_module": "@jupyter-widgets/output",
            "_model_module_version": "1.0.0",
            "_view_count": null,
            "_view_module_version": "1.0.0",
            "layout": "IPY_MODEL_b993fdf2a9ab4055a54d0b466474850c",
            "_model_module": "@jupyter-widgets/output"
          }
        },
        "856f2d7d9ba940618604b2e53fa51ab1": {
          "model_module": "@jupyter-widgets/base",
          "model_name": "LayoutModel",
          "model_module_version": "1.2.0",
          "state": {
            "_view_name": "LayoutView",
            "grid_template_rows": null,
            "right": null,
            "justify_content": null,
            "_view_module": "@jupyter-widgets/base",
            "overflow": null,
            "_model_module_version": "1.2.0",
            "_view_count": null,
            "flex_flow": null,
            "width": null,
            "min_width": null,
            "border": null,
            "align_items": null,
            "bottom": null,
            "_model_module": "@jupyter-widgets/base",
            "top": null,
            "grid_column": null,
            "overflow_y": null,
            "overflow_x": null,
            "grid_auto_flow": null,
            "grid_area": null,
            "grid_template_columns": null,
            "flex": null,
            "_model_name": "LayoutModel",
            "justify_items": null,
            "grid_row": null,
            "max_height": null,
            "align_content": null,
            "visibility": null,
            "align_self": null,
            "height": null,
            "min_height": null,
            "padding": null,
            "grid_auto_rows": null,
            "grid_gap": null,
            "max_width": null,
            "order": null,
            "_view_module_version": "1.2.0",
            "grid_template_areas": null,
            "object_position": null,
            "object_fit": null,
            "grid_auto_columns": null,
            "margin": null,
            "display": null,
            "left": null
          }
        },
        "b993fdf2a9ab4055a54d0b466474850c": {
          "model_module": "@jupyter-widgets/base",
          "model_name": "LayoutModel",
          "model_module_version": "1.2.0",
          "state": {
            "_view_name": "LayoutView",
            "grid_template_rows": null,
            "right": null,
            "justify_content": null,
            "_view_module": "@jupyter-widgets/base",
            "overflow": null,
            "_model_module_version": "1.2.0",
            "_view_count": null,
            "flex_flow": null,
            "width": null,
            "min_width": null,
            "border": null,
            "align_items": null,
            "bottom": null,
            "_model_module": "@jupyter-widgets/base",
            "top": null,
            "grid_column": null,
            "overflow_y": null,
            "overflow_x": null,
            "grid_auto_flow": null,
            "grid_area": null,
            "grid_template_columns": null,
            "flex": null,
            "_model_name": "LayoutModel",
            "justify_items": null,
            "grid_row": null,
            "max_height": null,
            "align_content": null,
            "visibility": null,
            "align_self": null,
            "height": null,
            "min_height": null,
            "padding": null,
            "grid_auto_rows": null,
            "grid_gap": null,
            "max_width": null,
            "order": null,
            "_view_module_version": "1.2.0",
            "grid_template_areas": null,
            "object_position": null,
            "object_fit": null,
            "grid_auto_columns": null,
            "margin": null,
            "display": null,
            "left": null
          }
        },
        "89dbf094299a4045af9b13a4d502fa37": {
          "model_module": "@jupyter-widgets/controls",
          "model_name": "HBoxModel",
          "model_module_version": "1.5.0",
          "state": {
            "_view_name": "HBoxView",
            "_dom_classes": [],
            "_model_name": "HBoxModel",
            "_view_module": "@jupyter-widgets/controls",
            "_model_module_version": "1.5.0",
            "_view_count": null,
            "_view_module_version": "1.5.0",
            "box_style": "",
            "layout": "IPY_MODEL_eb47e5d8731e41b9a17f8d220bf957e8",
            "_model_module": "@jupyter-widgets/controls",
            "children": [
              "IPY_MODEL_9df6f4f84fc34e968f823bf0e43b7911",
              "IPY_MODEL_be8af4bf41c4433ea697f33a8b1537b7",
              "IPY_MODEL_d0126b6ac57742d993ce01cec0b182d2"
            ]
          }
        },
        "eb47e5d8731e41b9a17f8d220bf957e8": {
          "model_module": "@jupyter-widgets/base",
          "model_name": "LayoutModel",
          "model_module_version": "1.2.0",
          "state": {
            "_view_name": "LayoutView",
            "grid_template_rows": null,
            "right": null,
            "justify_content": null,
            "_view_module": "@jupyter-widgets/base",
            "overflow": null,
            "_model_module_version": "1.2.0",
            "_view_count": null,
            "flex_flow": null,
            "width": null,
            "min_width": null,
            "border": null,
            "align_items": null,
            "bottom": null,
            "_model_module": "@jupyter-widgets/base",
            "top": null,
            "grid_column": null,
            "overflow_y": null,
            "overflow_x": null,
            "grid_auto_flow": null,
            "grid_area": null,
            "grid_template_columns": null,
            "flex": null,
            "_model_name": "LayoutModel",
            "justify_items": null,
            "grid_row": null,
            "max_height": null,
            "align_content": null,
            "visibility": null,
            "align_self": null,
            "height": null,
            "min_height": null,
            "padding": null,
            "grid_auto_rows": null,
            "grid_gap": null,
            "max_width": null,
            "order": null,
            "_view_module_version": "1.2.0",
            "grid_template_areas": null,
            "object_position": null,
            "object_fit": null,
            "grid_auto_columns": null,
            "margin": null,
            "display": null,
            "left": null
          }
        },
        "9df6f4f84fc34e968f823bf0e43b7911": {
          "model_module": "@jupyter-widgets/controls",
          "model_name": "HTMLModel",
          "model_module_version": "1.5.0",
          "state": {
            "_view_name": "HTMLView",
            "style": "IPY_MODEL_e6dcf69c5e3f4e4ab8b2a25f9ba9e4a5",
            "_dom_classes": [],
            "description": "",
            "_model_name": "HTMLModel",
            "placeholder": "​",
            "_view_module": "@jupyter-widgets/controls",
            "_model_module_version": "1.5.0",
            "value": "100%",
            "_view_count": null,
            "_view_module_version": "1.5.0",
            "description_tooltip": null,
            "_model_module": "@jupyter-widgets/controls",
            "layout": "IPY_MODEL_43a9665ca371413fa25a42714158ac7c"
          }
        },
        "be8af4bf41c4433ea697f33a8b1537b7": {
          "model_module": "@jupyter-widgets/controls",
          "model_name": "FloatProgressModel",
          "model_module_version": "1.5.0",
          "state": {
            "_view_name": "ProgressView",
            "style": "IPY_MODEL_f3b7eefd13084877a19438adfb695d5b",
            "_dom_classes": [],
            "description": "",
            "_model_name": "FloatProgressModel",
            "bar_style": "success",
            "max": 100,
            "_view_module": "@jupyter-widgets/controls",
            "_model_module_version": "1.5.0",
            "value": 100,
            "_view_count": null,
            "_view_module_version": "1.5.0",
            "orientation": "horizontal",
            "min": 0,
            "description_tooltip": null,
            "_model_module": "@jupyter-widgets/controls",
            "layout": "IPY_MODEL_bec3d158a215416aa2a4eac0f799dcc4"
          }
        },
        "d0126b6ac57742d993ce01cec0b182d2": {
          "model_module": "@jupyter-widgets/controls",
          "model_name": "HTMLModel",
          "model_module_version": "1.5.0",
          "state": {
            "_view_name": "HTMLView",
            "style": "IPY_MODEL_edf7f40a43464c44ac75cff942f09e68",
            "_dom_classes": [],
            "description": "",
            "_model_name": "HTMLModel",
            "placeholder": "​",
            "_view_module": "@jupyter-widgets/controls",
            "_model_module_version": "1.5.0",
            "value": " 100/100 [10:32&lt;00:00,  6.15s/it]",
            "_view_count": null,
            "_view_module_version": "1.5.0",
            "description_tooltip": null,
            "_model_module": "@jupyter-widgets/controls",
            "layout": "IPY_MODEL_2cf9326a748e4429a20fd9e3431a0eeb"
          }
        },
        "e6dcf69c5e3f4e4ab8b2a25f9ba9e4a5": {
          "model_module": "@jupyter-widgets/controls",
          "model_name": "DescriptionStyleModel",
          "model_module_version": "1.5.0",
          "state": {
            "_view_name": "StyleView",
            "_model_name": "DescriptionStyleModel",
            "description_width": "",
            "_view_module": "@jupyter-widgets/base",
            "_model_module_version": "1.5.0",
            "_view_count": null,
            "_view_module_version": "1.2.0",
            "_model_module": "@jupyter-widgets/controls"
          }
        },
        "43a9665ca371413fa25a42714158ac7c": {
          "model_module": "@jupyter-widgets/base",
          "model_name": "LayoutModel",
          "model_module_version": "1.2.0",
          "state": {
            "_view_name": "LayoutView",
            "grid_template_rows": null,
            "right": null,
            "justify_content": null,
            "_view_module": "@jupyter-widgets/base",
            "overflow": null,
            "_model_module_version": "1.2.0",
            "_view_count": null,
            "flex_flow": null,
            "width": null,
            "min_width": null,
            "border": null,
            "align_items": null,
            "bottom": null,
            "_model_module": "@jupyter-widgets/base",
            "top": null,
            "grid_column": null,
            "overflow_y": null,
            "overflow_x": null,
            "grid_auto_flow": null,
            "grid_area": null,
            "grid_template_columns": null,
            "flex": null,
            "_model_name": "LayoutModel",
            "justify_items": null,
            "grid_row": null,
            "max_height": null,
            "align_content": null,
            "visibility": null,
            "align_self": null,
            "height": null,
            "min_height": null,
            "padding": null,
            "grid_auto_rows": null,
            "grid_gap": null,
            "max_width": null,
            "order": null,
            "_view_module_version": "1.2.0",
            "grid_template_areas": null,
            "object_position": null,
            "object_fit": null,
            "grid_auto_columns": null,
            "margin": null,
            "display": null,
            "left": null
          }
        },
        "f3b7eefd13084877a19438adfb695d5b": {
          "model_module": "@jupyter-widgets/controls",
          "model_name": "ProgressStyleModel",
          "model_module_version": "1.5.0",
          "state": {
            "_view_name": "StyleView",
            "_model_name": "ProgressStyleModel",
            "description_width": "",
            "_view_module": "@jupyter-widgets/base",
            "_model_module_version": "1.5.0",
            "_view_count": null,
            "_view_module_version": "1.2.0",
            "bar_color": null,
            "_model_module": "@jupyter-widgets/controls"
          }
        },
        "bec3d158a215416aa2a4eac0f799dcc4": {
          "model_module": "@jupyter-widgets/base",
          "model_name": "LayoutModel",
          "model_module_version": "1.2.0",
          "state": {
            "_view_name": "LayoutView",
            "grid_template_rows": null,
            "right": null,
            "justify_content": null,
            "_view_module": "@jupyter-widgets/base",
            "overflow": null,
            "_model_module_version": "1.2.0",
            "_view_count": null,
            "flex_flow": null,
            "width": null,
            "min_width": null,
            "border": null,
            "align_items": null,
            "bottom": null,
            "_model_module": "@jupyter-widgets/base",
            "top": null,
            "grid_column": null,
            "overflow_y": null,
            "overflow_x": null,
            "grid_auto_flow": null,
            "grid_area": null,
            "grid_template_columns": null,
            "flex": null,
            "_model_name": "LayoutModel",
            "justify_items": null,
            "grid_row": null,
            "max_height": null,
            "align_content": null,
            "visibility": null,
            "align_self": null,
            "height": null,
            "min_height": null,
            "padding": null,
            "grid_auto_rows": null,
            "grid_gap": null,
            "max_width": null,
            "order": null,
            "_view_module_version": "1.2.0",
            "grid_template_areas": null,
            "object_position": null,
            "object_fit": null,
            "grid_auto_columns": null,
            "margin": null,
            "display": null,
            "left": null
          }
        },
        "edf7f40a43464c44ac75cff942f09e68": {
          "model_module": "@jupyter-widgets/controls",
          "model_name": "DescriptionStyleModel",
          "model_module_version": "1.5.0",
          "state": {
            "_view_name": "StyleView",
            "_model_name": "DescriptionStyleModel",
            "description_width": "",
            "_view_module": "@jupyter-widgets/base",
            "_model_module_version": "1.5.0",
            "_view_count": null,
            "_view_module_version": "1.2.0",
            "_model_module": "@jupyter-widgets/controls"
          }
        },
        "2cf9326a748e4429a20fd9e3431a0eeb": {
          "model_module": "@jupyter-widgets/base",
          "model_name": "LayoutModel",
          "model_module_version": "1.2.0",
          "state": {
            "_view_name": "LayoutView",
            "grid_template_rows": null,
            "right": null,
            "justify_content": null,
            "_view_module": "@jupyter-widgets/base",
            "overflow": null,
            "_model_module_version": "1.2.0",
            "_view_count": null,
            "flex_flow": null,
            "width": null,
            "min_width": null,
            "border": null,
            "align_items": null,
            "bottom": null,
            "_model_module": "@jupyter-widgets/base",
            "top": null,
            "grid_column": null,
            "overflow_y": null,
            "overflow_x": null,
            "grid_auto_flow": null,
            "grid_area": null,
            "grid_template_columns": null,
            "flex": null,
            "_model_name": "LayoutModel",
            "justify_items": null,
            "grid_row": null,
            "max_height": null,
            "align_content": null,
            "visibility": null,
            "align_self": null,
            "height": null,
            "min_height": null,
            "padding": null,
            "grid_auto_rows": null,
            "grid_gap": null,
            "max_width": null,
            "order": null,
            "_view_module_version": "1.2.0",
            "grid_template_areas": null,
            "object_position": null,
            "object_fit": null,
            "grid_auto_columns": null,
            "margin": null,
            "display": null,
            "left": null
          }
        }
      }
    }
  },
  "cells": [
    {
      "cell_type": "markdown",
      "metadata": {
        "id": "view-in-github",
        "colab_type": "text"
      },
      "source": [
        "<a href=\"https://colab.research.google.com/github/WeiShaoD/Deep_learning/blob/main/tutorials/W1D4_Optimization/student/W1D4_Tutorial1.ipynb\" target=\"_parent\"><img src=\"https://colab.research.google.com/assets/colab-badge.svg\" alt=\"Open In Colab\"/></a>"
      ]
    },
    {
      "cell_type": "markdown",
      "metadata": {
        "execution": {},
        "id": "rK265IEoPEmy"
      },
      "source": [
        "# Tutorial 1: Optimization techniques\n",
        "**Week 1, Day 4: Optimization**\n",
        "\n",
        "**By Neuromatch Academy**\n",
        "\n",
        "__Content creators:__ Jose Gallego-Posada, Ioannis Mitliagkas\n",
        "\n",
        "__Content reviewers:__ Piyush Chauhan, Vladimir Haltakov, Siwei Bai, Kelson Shilling-Scrivo\n",
        "\n",
        "__Content editors:__ Charles J Edelson, Gagana B, Spiros Chavlis\n",
        "\n",
        "__Production editors:__ Arush Tagade, Spiros Chavlis"
      ]
    },
    {
      "cell_type": "markdown",
      "metadata": {
        "execution": {},
        "id": "WIKMOGi_PEm0"
      },
      "source": [
        "**Our 2021 Sponsors, including Presenting Sponsor Facebook Reality Labs**\n",
        "\n",
        "<p align='center'><img src='https://github.com/NeuromatchAcademy/widgets/blob/master/sponsors.png?raw=True'/></p>"
      ]
    },
    {
      "cell_type": "markdown",
      "metadata": {
        "execution": {},
        "id": "Cqsfab7HPEm1"
      },
      "source": [
        "---\n",
        "# Tutorial Objectives\n",
        "\n",
        "Objectives:\n",
        "*   Necessity and importance of optimization\n",
        "*   Introduction to commonly used optimization techniques\n",
        "*   Optimization in non-convex loss landscapes \n",
        "*   'Adaptive' hyperparameter tuning \n",
        "*   Ethical concerns\n",
        "\n"
      ]
    },
    {
      "cell_type": "code",
      "metadata": {
        "cellView": "form",
        "execution": {},
        "id": "nfs1QY8FPEm2",
        "outputId": "eaf84586-6146-4ae6-bc3a-b4b0db87ea5c",
        "colab": {
          "base_uri": "https://localhost:8080/",
          "height": 501
        }
      },
      "source": [
        "# @title Tutorial slides\n",
        "\n",
        "# @markdown These are the slides for the videos in this tutorial\n",
        "\n",
        "# @markdown If you want to locally download the slides, click [here](https://osf.io/ft2sz/download)\n",
        "from IPython.display import IFrame\n",
        "IFrame(src=f\"https://mfr.ca-1.osf.io/render?url=https://osf.io/ft2sz/?direct%26mode=render%26action=download%26mode=render\", width=854, height=480)"
      ],
      "execution_count": 2,
      "outputs": [
        {
          "output_type": "execute_result",
          "data": {
            "text/html": [
              "\n",
              "        <iframe\n",
              "            width=\"854\"\n",
              "            height=\"480\"\n",
              "            src=\"https://mfr.ca-1.osf.io/render?url=https://osf.io/ft2sz/?direct%26mode=render%26action=download%26mode=render\"\n",
              "            frameborder=\"0\"\n",
              "            allowfullscreen\n",
              "        ></iframe>\n",
              "        "
            ],
            "text/plain": [
              "<IPython.lib.display.IFrame at 0x7f699eb28a50>"
            ]
          },
          "metadata": {
            "tags": []
          },
          "execution_count": 2
        }
      ]
    },
    {
      "cell_type": "markdown",
      "metadata": {
        "execution": {},
        "id": "TwmFxzjaPEm2"
      },
      "source": [
        "---\n",
        "# Setup"
      ]
    },
    {
      "cell_type": "code",
      "metadata": {
        "cellView": "form",
        "execution": {},
        "id": "ZsQRVmWDPEm3",
        "outputId": "794480c1-0512-4706-8230-683d63bfe99a",
        "colab": {
          "base_uri": "https://localhost:8080/"
        }
      },
      "source": [
        "# @title Install dependencies\n",
        "!pip install git+https://github.com/NeuromatchAcademy/evaltools --quiet\n",
        "from evaltools.airtable import AirtableForm\n",
        "\n",
        "# generate airtable form\n",
        "atform = AirtableForm('appn7VdPRseSoMXEG','W1D4_T1','https://portal.neuromatchacademy.org/api/redirect/to/9548a279-c9f9-4586-b89c-f0ceceba5c14')"
      ],
      "execution_count": 3,
      "outputs": [
        {
          "output_type": "stream",
          "text": [
            "  Building wheel for evaltools (setup.py) ... \u001b[?25l\u001b[?25hdone\n"
          ],
          "name": "stdout"
        }
      ]
    },
    {
      "cell_type": "code",
      "metadata": {
        "execution": {},
        "id": "T81K_3FbPEm9"
      },
      "source": [
        "# Imports\n",
        "import time\n",
        "import copy\n",
        "import torch\n",
        "import torchvision\n",
        "\n",
        "import numpy as np\n",
        "import ipywidgets as widgets\n",
        "import matplotlib.pyplot as plt\n",
        "\n",
        "import torch.nn as nn\n",
        "import torch.optim as optim\n",
        "import torch.nn.functional as F\n",
        "import torchvision.datasets as datasets\n",
        "\n",
        "from tqdm.auto import tqdm"
      ],
      "execution_count": 4,
      "outputs": []
    },
    {
      "cell_type": "code",
      "metadata": {
        "cellView": "form",
        "execution": {},
        "id": "4EDz3PngPEm-"
      },
      "source": [
        "# @title Figure settings\n",
        "import ipywidgets as widgets       # interactive display\n",
        "%config InlineBackend.figure_format = 'retina'\n",
        "plt.style.use(\"https://raw.githubusercontent.com/NeuromatchAcademy/content-creation/main/nma.mplstyle\")\n",
        "plt.rc('axes', unicode_minus=False)"
      ],
      "execution_count": 5,
      "outputs": []
    },
    {
      "cell_type": "code",
      "metadata": {
        "cellView": "form",
        "execution": {},
        "id": "IFDs2hh9PEm_"
      },
      "source": [
        "# @title Helper functions\n",
        "def print_params(model):\n",
        "  for name, param in model.named_parameters():\n",
        "    if param.requires_grad:\n",
        "      print(name, param.data)"
      ],
      "execution_count": 6,
      "outputs": []
    },
    {
      "cell_type": "code",
      "metadata": {
        "cellView": "form",
        "execution": {},
        "id": "XKBwrpgaPEm_"
      },
      "source": [
        "# @title Set random seed\n",
        "\n",
        "# @markdown Executing `set_seed(seed=seed)` you are setting the seed\n",
        "\n",
        "# for DL its critical to set the random seed so that students can have a\n",
        "# baseline to compare their results to expected results.\n",
        "# Read more here: https://pytorch.org/docs/stable/notes/randomness.html\n",
        "\n",
        "# Call `set_seed` function in the exercises to ensure reproducibility.\n",
        "import random\n",
        "import torch\n",
        "\n",
        "def set_seed(seed=None, seed_torch=True):\n",
        "  if seed is None:\n",
        "    seed = np.random.choice(2 ** 32)\n",
        "  random.seed(seed)\n",
        "  np.random.seed(seed)\n",
        "  if seed_torch:\n",
        "    torch.manual_seed(seed)\n",
        "    torch.cuda.manual_seed_all(seed)\n",
        "    torch.cuda.manual_seed(seed)\n",
        "    torch.backends.cudnn.benchmark = False\n",
        "    torch.backends.cudnn.deterministic = True\n",
        "\n",
        "  print(f'Random seed {seed} has been set.')\n",
        "\n",
        "\n",
        "# In case that `DataLoader` is used\n",
        "def seed_worker(worker_id):\n",
        "  worker_seed = torch.initial_seed() % 2**32\n",
        "  np.random.seed(worker_seed)\n",
        "  random.seed(worker_seed)"
      ],
      "execution_count": 7,
      "outputs": []
    },
    {
      "cell_type": "code",
      "metadata": {
        "cellView": "form",
        "execution": {},
        "id": "f8tLzrU1PEnA"
      },
      "source": [
        "# @title Set device (GPU or CPU). Execute `set_device()`\n",
        "# especially if torch modules used.\n",
        "\n",
        "# inform the user if the notebook uses GPU or CPU.\n",
        "\n",
        "def set_device():\n",
        "  device = \"cuda\" if torch.cuda.is_available() else \"cpu\"\n",
        "  if device != \"cuda\":\n",
        "    print(\"WARNING: For this notebook to perform best, \"\n",
        "        \"if possible, in the menu under `Runtime` -> \"\n",
        "        \"`Change runtime type.`  select `GPU` \")\n",
        "  else:\n",
        "    print(\"GPU is enabled in this notebook.\")\n",
        "\n",
        "  return device"
      ],
      "execution_count": 8,
      "outputs": []
    },
    {
      "cell_type": "code",
      "metadata": {
        "execution": {},
        "id": "g7kQP9WhPEnA",
        "outputId": "96e19607-af5a-44c9-abf2-a47a8230c9cf",
        "colab": {
          "base_uri": "https://localhost:8080/"
        }
      },
      "source": [
        "SEED = 2021\n",
        "set_seed(seed=SEED)\n",
        "DEVICE = set_device()"
      ],
      "execution_count": 9,
      "outputs": [
        {
          "output_type": "stream",
          "text": [
            "Random seed 2021 has been set.\n",
            "GPU is enabled in this notebook.\n"
          ],
          "name": "stdout"
        }
      ]
    },
    {
      "cell_type": "markdown",
      "metadata": {
        "execution": {},
        "id": "fmpRoVNyPEnA"
      },
      "source": [
        "---\n",
        "# Section 1. Introduction\n",
        "\n",
        "*Time estimate: ~15 mins*"
      ]
    },
    {
      "cell_type": "code",
      "metadata": {
        "cellView": "form",
        "execution": {},
        "id": "bVEK8k4RPEnB",
        "outputId": "e3fdd3bc-b1a9-4406-c667-a8d888c3d79a",
        "colab": {
          "base_uri": "https://localhost:8080/",
          "height": 580,
          "referenced_widgets": [
            "22c2ca9f919f469c92f8a3f9aa1547a0",
            "104a22d5c988434093af0b2002b83cdd",
            "1e3a6d93aa9a4b5f920d2470bc2dcd85",
            "849b1ab9ac684d50ae06fcd6786dda18",
            "68eeee88426842d7906072118918121c",
            "9d3404c963dc487ab6d9125e15239e65"
          ]
        }
      },
      "source": [
        "# @title Video 1: Introduction\n",
        "from ipywidgets import widgets\n",
        "\n",
        "out2 = widgets.Output()\n",
        "with out2:\n",
        "  from IPython.display import IFrame\n",
        "  class BiliVideo(IFrame):\n",
        "    def __init__(self, id, page=1, width=400, height=300, **kwargs):\n",
        "      self.id=id\n",
        "      src = \"https://player.bilibili.com/player.html?bvid={0}&page={1}\".format(id, page)\n",
        "      super(BiliVideo, self).__init__(src, width, height, **kwargs)\n",
        "\n",
        "  video = BiliVideo(id=f\"BV1VB4y1K7Vr\", width=854, height=480, fs=1)\n",
        "  print(\"Video available at https://www.bilibili.com/video/{0}\".format(video.id))\n",
        "  display(video)\n",
        "\n",
        "out1 = widgets.Output()\n",
        "with out1:\n",
        "  from IPython.display import YouTubeVideo\n",
        "  video = YouTubeVideo(id=f\"zm9oekdkJbQ\", width=854, height=480, fs=1, rel=0)\n",
        "  print(\"Video available at https://youtube.com/watch?v=\" + video.id)\n",
        "  display(video)\n",
        "\n",
        "out = widgets.Tab([out1, out2])\n",
        "out.set_title(0, 'Youtube')\n",
        "out.set_title(1, 'Bilibili')\n",
        "\n",
        "# add event to airtable\n",
        "atform.add_event('Video 1: Introduction')\n",
        "\n",
        "display(out)"
      ],
      "execution_count": 10,
      "outputs": [
        {
          "output_type": "display_data",
          "data": {
            "application/vnd.jupyter.widget-view+json": {
              "model_id": "22c2ca9f919f469c92f8a3f9aa1547a0",
              "version_minor": 0,
              "version_major": 2
            },
            "text/plain": [
              "Tab(children=(Output(), Output()), _titles={'0': 'Youtube', '1': 'Bilibili'})"
            ]
          },
          "metadata": {
            "tags": []
          }
        }
      ]
    },
    {
      "cell_type": "markdown",
      "metadata": {
        "execution": {},
        "id": "xg3buEhGPEnB"
      },
      "source": [
        "## Discuss: Unexpected consequences\n",
        "\n",
        "Can you think of examples from your own experience/life where poorly chosen incentives or objectives have lead to unexpected consequences?"
      ]
    },
    {
      "cell_type": "markdown",
      "metadata": {
        "execution": {},
        "id": "hAUnUQkaPEnC"
      },
      "source": [
        "[*Click for solution*](https://github.com/NeuromatchAcademy/course-content-dl/tree/main//tutorials/W1D4_Optimization/solutions/W1D4_Tutorial1_Solution_b8bbba6f.py)\n",
        "\n"
      ]
    },
    {
      "cell_type": "markdown",
      "metadata": {
        "execution": {},
        "id": "YxSIMggaPEnC"
      },
      "source": [
        "---\n",
        "# Section 2: Case study: successfully training an MLP for image classification\n",
        "\n",
        "*Time estimate: ~40 mins*"
      ]
    },
    {
      "cell_type": "markdown",
      "metadata": {
        "execution": {},
        "id": "hk4rwbguPEnC"
      },
      "source": [
        "Many of the core ideas (and tricks) in modern optimization for deep learning can be illustrated in the simple setting of training an MLP to solve an image classification task. In this tutorial we will guide you through the key challenges that arise when optimizing high-dimensional, non-convex$^\\dagger$ problems. We will use these challenges to motivate and explain some commonly used solutions.\n",
        "\n",
        "**Disclaimer:** Some of the functions you will code in this tutorial are already implemented in Pytorch and many other libraries. For pedagogical reasons, we decided to bring these simple coding tasks into the spotlight and place a relatively higher emphasis in your understanding of the algorithms, rather than the use of a specific library. \n",
        "\n",
        "In 'day-to-day' research projects you will likely to rely on the community-vetted, optimized libraries rather than the 'manual implementations' you will write today. In Section 8 you will have a chance to 'put it all together' and use the full power of Pytorch to tune the parameters of an MLP to classify handwritten digits."
      ]
    },
    {
      "cell_type": "markdown",
      "metadata": {
        "execution": {},
        "id": "uA7OjS-tPEnD"
      },
      "source": [
        "$^\\dagger$: A **convex** function has one, global minimum - a nice property, as an optimization algorithm won't get stuck in a local minimum that isn't a global one (e.g., $f(x)=x^2 + 2x + 1$). A **non-convex** function is wavy - has some 'valleys' (local minima) that aren't as deep as the overall deepest 'valley' (global minimum). Thus, the optimization algorithms can get stuck in the local minimum, and it can be hard to tell when this happens (e.g., $f(x) = x^4 + x^3 - 2x^2 - 2x$). See also **Section 5** for more details."
      ]
    },
    {
      "cell_type": "code",
      "metadata": {
        "cellView": "form",
        "execution": {},
        "id": "6gbKkGbyPEnD",
        "outputId": "b697fed3-293f-43de-c543-96c8cafe3020",
        "colab": {
          "base_uri": "https://localhost:8080/",
          "height": 580,
          "referenced_widgets": [
            "442e9418e3044b1ca86836e9732a18e6",
            "810827fd05974a519f9d7c76cbd6eb14",
            "8202bf5896e74cbe81027299bd4380b4",
            "28eb844cd5284d918f5d491d8b872f1f",
            "aac90606e9914a328605eb4e405242e9",
            "1d170dc89a944478b114b072847a65c0"
          ]
        }
      },
      "source": [
        "# @title Video 2: Case Study - MLP Classification\n",
        "from ipywidgets import widgets\n",
        "\n",
        "out2 = widgets.Output()\n",
        "with out2:\n",
        "  from IPython.display import IFrame\n",
        "  class BiliVideo(IFrame):\n",
        "    def __init__(self, id, page=1, width=400, height=300, **kwargs):\n",
        "      self.id=id\n",
        "      src = \"https://player.bilibili.com/player.html?bvid={0}&page={1}\".format(id, page)\n",
        "      super(BiliVideo, self).__init__(src, width, height, **kwargs)\n",
        "\n",
        "  video = BiliVideo(id=f\"BV1GB4y1K7Ha\", width=854, height=480, fs=1)\n",
        "  print(\"Video available at https://www.bilibili.com/video/{0}\".format(video.id))\n",
        "  display(video)\n",
        "\n",
        "out1 = widgets.Output()\n",
        "with out1:\n",
        "  from IPython.display import YouTubeVideo\n",
        "  video = YouTubeVideo(id=f\"pJc2ENhYbqA\", width=854, height=480, fs=1, rel=0)\n",
        "  print(\"Video available at https://youtube.com/watch?v=\" + video.id)\n",
        "  display(video)\n",
        "\n",
        "out = widgets.Tab([out1, out2])\n",
        "out.set_title(0, 'Youtube')\n",
        "out.set_title(1, 'Bilibili')\n",
        "\n",
        "# add event to airtable\n",
        "atform.add_event('Video 2: Case Study - MLP Classification')\n",
        "\n",
        "display(out)"
      ],
      "execution_count": 11,
      "outputs": [
        {
          "output_type": "display_data",
          "data": {
            "application/vnd.jupyter.widget-view+json": {
              "model_id": "442e9418e3044b1ca86836e9732a18e6",
              "version_minor": 0,
              "version_major": 2
            },
            "text/plain": [
              "Tab(children=(Output(), Output()), _titles={'0': 'Youtube', '1': 'Bilibili'})"
            ]
          },
          "metadata": {
            "tags": []
          }
        }
      ]
    },
    {
      "cell_type": "markdown",
      "metadata": {
        "execution": {},
        "id": "-AziK1yxPEnD"
      },
      "source": [
        "## Section 2.1: Data\n",
        "\n",
        "We will use the MNIST dataset of handwritten digits. We load the data via the Pytorch `datasets` module, as you learned in W1D1.\n",
        "\n",
        "**Note:** Although we can download the MNIST dataset directly from `datasets` using the optional argument `download=True`, we are going to download them from NMA directory on OSF to ensure network reliability.\n"
      ]
    },
    {
      "cell_type": "code",
      "metadata": {
        "execution": {},
        "id": "IXzmoAR2PEnE",
        "outputId": "c9bf0da2-edcb-4b2f-c636-5e72b6b4c461",
        "colab": {
          "base_uri": "https://localhost:8080/"
        }
      },
      "source": [
        "# @title Download MNIST dataset\n",
        "import tarfile, requests, os\n",
        "\n",
        "fname = 'MNIST.tar.gz'\n",
        "name = 'MNIST'\n",
        "url = 'https://osf.io/y2fj6/download'\n",
        "\n",
        "if not os.path.exists(name):\n",
        "  print('\\nDownloading MNIST dataset...')\n",
        "  r = requests.get(url, allow_redirects=True)\n",
        "  with open(fname, 'wb') as fh:\n",
        "    fh.write(r.content)\n",
        "  print('\\nDownloading MNIST completed.')\n",
        "\n",
        "if not os.path.exists(name):\n",
        "  with tarfile.open(fname) as tar:\n",
        "    tar.extractall()\n",
        "    os.remove(fname)\n",
        "else:\n",
        "  print('MNIST dataset has been dowloaded.')"
      ],
      "execution_count": 12,
      "outputs": [
        {
          "output_type": "stream",
          "text": [
            "\n",
            "Downloading MNIST dataset...\n",
            "\n",
            "Downloading MNIST completed.\n"
          ],
          "name": "stdout"
        }
      ]
    },
    {
      "cell_type": "code",
      "metadata": {
        "execution": {},
        "id": "0GkhfTcbPEnE"
      },
      "source": [
        "def load_mnist_data(change_tensors=False, download=False):\n",
        "  \"\"\"Load training and test examples for the MNIST digits dataset\n",
        "\n",
        "  Returns:\n",
        "    train_data (tensor): training input tensor of size (train_size x 784)\n",
        "    train_target (tensor): training 0-9 integer label tensor of size (train_size)\n",
        "    test_data (tensor): test input tensor of size (70k-train_size x 784)\n",
        "    test_target (tensor): training 0-9 integer label tensor of size (70k-train_size)\n",
        "\n",
        "  \"\"\"\n",
        "  # Load train and test sets\n",
        "  train_set = datasets.MNIST(root='.', train=True, download=download,\n",
        "                             transform=torchvision.transforms.ToTensor())\n",
        "  test_set = datasets.MNIST(root='.', train=False, download=download,\n",
        "                            transform=torchvision.transforms.ToTensor())\n",
        "\n",
        "  # Original data is in range [0, 255]. We normalize the data wrt its mean and std_dev.\n",
        "  ## Note that we only used *training set* information to compute mean and std\n",
        "  mean = train_set.data.float().mean()\n",
        "  std = train_set.data.float().std()\n",
        "\n",
        "  if change_tensors:\n",
        "    # Apply normalization directly to the tensors containing the dataset\n",
        "    train_set.data = (train_set.data.float() - mean) / std\n",
        "    test_set.data = (test_set.data.float() - mean) / std\n",
        "  else:\n",
        "    tform = torchvision.transforms.Compose([torchvision.transforms.ToTensor(),\n",
        "                                            torchvision.transforms.Normalize(mean=[mean / 255.], std=[std / 255.])\n",
        "                                            ])\n",
        "    train_set = datasets.MNIST(root='.', train=True, download=download,\n",
        "                               transform=tform)\n",
        "    test_set = datasets.MNIST(root='.', train=False, download=download,\n",
        "                              transform=tform)\n",
        "\n",
        "  return train_set, test_set\n",
        "\n",
        "\n",
        "train_set, test_set = load_mnist_data(change_tensors=True)"
      ],
      "execution_count": 13,
      "outputs": []
    },
    {
      "cell_type": "markdown",
      "metadata": {
        "execution": {},
        "id": "d-Nthx0CPEnF"
      },
      "source": [
        "As we are just getting started, we will concentrate on a small subset of only 500 examples out of the 60.000 data points contained in the whole training set.\n",
        "\n"
      ]
    },
    {
      "cell_type": "code",
      "metadata": {
        "execution": {},
        "id": "ZXcBfjqfPEnF"
      },
      "source": [
        "# Sample a random subset of 500 indices\n",
        "subset_index = np.random.choice(len(train_set.data), 1000)\n",
        "\n",
        "# We will use these symbols to represent the training data and labels, to stay\n",
        "# as close to the mathematical expressions as possible.\n",
        "X, y = train_set.data[subset_index, :], train_set.targets[subset_index]"
      ],
      "execution_count": 14,
      "outputs": []
    },
    {
      "cell_type": "markdown",
      "metadata": {
        "execution": {},
        "id": "7F-ocJXnPEnF"
      },
      "source": [
        "Run the following cell to visualize the content of three examples in our training set. Note how the pre-processing we applied to the data changes the range of pixel values after normalization.\n"
      ]
    },
    {
      "cell_type": "code",
      "metadata": {
        "execution": {},
        "id": "_QNENCwSPEnF",
        "outputId": "64ba8440-8f0a-4714-d2ad-1fdcac4cc694",
        "colab": {
          "base_uri": "https://localhost:8080/",
          "height": 374
        }
      },
      "source": [
        "# @title Run me!\n",
        "num_figures = 3\n",
        "fig, axs = plt.subplots(1, num_figures, figsize=(5 * num_figures, 5))\n",
        "\n",
        "for sample_id, ax in enumerate(axs):\n",
        "  # Plot the pixel values for each image\n",
        "  ax.matshow(X[sample_id, :], cmap='gray_r')\n",
        "  # 'Write' the pixel value in the corresponding location\n",
        "  for (i, j), z in np.ndenumerate(X[sample_id, :]):\n",
        "    text = '{:.1f}'.format(z)\n",
        "    ax.text(j, i, text, ha='center',\n",
        "            va='center', fontsize=6, c='steelblue')\n",
        "\n",
        "  ax.set_title('Label: ' + str(y[sample_id].item()))\n",
        "  ax.axis('off')\n",
        "\n",
        "plt.show()"
      ],
      "execution_count": 15,
      "outputs": [
        {
          "output_type": "display_data",
          "data": {
            "image/png": "[encoded data removed]",
            "text/plain": [
              "<Figure size 1080x360 with 3 Axes>"
            ]
          },
          "metadata": {
            "tags": [],
            "image/png": {
              "width": 1032,
              "height": 357
            },
            "needs_background": "light"
          }
        }
      ]
    },
    {
      "cell_type": "markdown",
      "metadata": {
        "execution": {},
        "id": "ijRJhTB3PEnJ"
      },
      "source": [
        "## Section 2.2: Model\n",
        "\n",
        "As you will see next week, there are specific model architectures that are better suited to image-like data, such as Convolutional Neural Networks (CNNs). For simplicity, in this tutorial we will focus exclusively on Multi-Layer Perceptron (MLP) models as they allow us to highlight many important optimization challenges shared with more advanced neural network designs."
      ]
    },
    {
      "cell_type": "code",
      "metadata": {
        "execution": {},
        "id": "CVa_mH2PPEnJ"
      },
      "source": [
        "class MLP(nn.Module):\n",
        "  \"\"\" This class implements MLPs in Pytorch of an arbitrary number of hidden\n",
        "  layers of potentially different sizes. Since we concentrate on classification\n",
        "  tasks in this tutorial, we have a log_softmax layer at prediction time.\n",
        "  \"\"\"\n",
        "\n",
        "  def __init__(self, in_dim=784, out_dim=10, hidden_dims=[], use_bias=True):\n",
        "    \"\"\"Constructs a MultiLayerPerceptron\n",
        "\n",
        "    Args:\n",
        "        in_dim (int): dimensionality of input data\n",
        "        out_dim (int): number of classes\n",
        "        hidden_dims (list): contains the dimensions of the hidden layers, an empty\n",
        "            list corresponds to a linear model (in_dim, out_dim)\n",
        "    \"\"\"\n",
        "\n",
        "    super(MLP, self).__init__()\n",
        "\n",
        "    self.in_dim = in_dim\n",
        "    self.out_dim = out_dim\n",
        "\n",
        "    # If we have no hidden layer, just initialize a linear model (e.g. in logistic regression)\n",
        "    if len(hidden_dims) == 0:\n",
        "      layers = [nn.Linear(in_dim, out_dim, bias=use_bias)]\n",
        "    else:\n",
        "      # 'Actual' MLP with dimensions in_dim - num_hidden_layers*[hidden_dim] - out_dim\n",
        "      layers = [nn.Linear(in_dim, hidden_dims[0], bias=use_bias), nn.ReLU()]\n",
        "\n",
        "      # Loop until before the last layer\n",
        "      for i, hidden_dim in enumerate(hidden_dims[:-1]):\n",
        "        layers += [nn.Linear(hidden_dim, hidden_dims[i + 1], bias=use_bias),\n",
        "                   nn.ReLU()]\n",
        "\n",
        "      # Add final layer to the number of classes\n",
        "      layers += [nn.Linear(hidden_dims[-1], out_dim, bias=use_bias)]\n",
        "\n",
        "    self.main = nn.Sequential(*layers)\n",
        "\n",
        "  def forward(self, x):\n",
        "    # Flatten the images into 'vectors'\n",
        "    transformed_x = x.view(-1, self.in_dim)\n",
        "    hidden_output = self.main(transformed_x)\n",
        "    output = F.log_softmax(hidden_output, dim=1)\n",
        "    return output"
      ],
      "execution_count": 16,
      "outputs": []
    },
    {
      "cell_type": "markdown",
      "metadata": {
        "execution": {},
        "id": "QpjIS5k6PEnK"
      },
      "source": [
        "Linear models constitute a very special kind of MLPs: they are equivalent to an MLP with *zero* hidden layers. This is simply an affine transformation, in other words a 'linear' map $W x$ with an 'offset' $b$; followed by a softmax function.\n",
        "\n",
        "$$f(x) = \\text{softmax}(W x + b)$$\n",
        "\n",
        "Here $x \\in \\mathbb{R}^{784}$, $W \\in \\mathbb{R}^{10 \\times 784}$ and $b \\in \\mathbb{R}^{10}$. Notice that the dimensions of the weight matrix are $10 \\times 784$ as the input tensors are flattened images, i.e., $28 \\times 28 = 784$-dimensional tensors and the output layer consists of $10$ nodes."
      ]
    },
    {
      "cell_type": "code",
      "metadata": {
        "execution": {},
        "id": "8iLrEEXnPEnK",
        "outputId": "b6ff5aef-ba0f-4d5d-8a9d-4a3257790f8c",
        "colab": {
          "base_uri": "https://localhost:8080/"
        }
      },
      "source": [
        "# Empty hidden_dims means we take a model with zero hidden layers.\n",
        "model = MLP(in_dim=784, out_dim=10, hidden_dims=[])\n",
        "\n",
        "# We print the model structure with 784 inputs and 10 outputs\n",
        "print(model)"
      ],
      "execution_count": 17,
      "outputs": [
        {
          "output_type": "stream",
          "text": [
            "MLP(\n",
            "  (main): Sequential(\n",
            "    (0): Linear(in_features=784, out_features=10, bias=True)\n",
            "  )\n",
            ")\n"
          ],
          "name": "stdout"
        }
      ]
    },
    {
      "cell_type": "markdown",
      "metadata": {
        "execution": {},
        "id": "7vvVdMGUPEnK"
      },
      "source": [
        "## Section 2.3: Loss\n",
        "\n",
        "While we care about the accuracy of the model, the 'discrete' nature of the 0-1 loss makes it challenging to optimize. In order to learn good parameters for this model, we will use the cross entropy loss (negative log-likelihood), which you saw in last lecture, as a surrogate objective to be minimized. \n",
        "\n",
        "This particular choice of model and optimization objective leads to a *convex* optimization problem with respect to the parameters $W$ and $b$. "
      ]
    },
    {
      "cell_type": "code",
      "metadata": {
        "execution": {},
        "id": "C-yx037LPEnK"
      },
      "source": [
        "loss_fn = F.nll_loss"
      ],
      "execution_count": 18,
      "outputs": []
    },
    {
      "cell_type": "markdown",
      "metadata": {
        "execution": {},
        "id": "RQntI2UZPEnR"
      },
      "source": [
        "## Section 2.4: Interpretability"
      ]
    },
    {
      "cell_type": "markdown",
      "metadata": {
        "execution": {},
        "id": "D9RneXapPEnR"
      },
      "source": [
        "In last lecture, you saw that inspecting the weights of a model can provide insights on what 'concepts' the model has learned. Here we show the weights of a partially trained model. The weights corresponding to each class 'learn' to _fire_ when an input of the class is detected.\n"
      ]
    },
    {
      "cell_type": "code",
      "metadata": {
        "execution": {},
        "id": "uVNxKiuNPEnS"
      },
      "source": [
        "#@markdown Run _this cell_ to train the model. If you are curious about how the training\n",
        "#@markdown takes place, double-click this cell to find out. At the end of this tutorial\n",
        "#@markdown you will have the opportunity to train a more complex model on your own.\n",
        "\n",
        "cell_verbose = False\n",
        "partial_trained_model = MLP(in_dim=784, out_dim=10, hidden_dims=[])\n",
        "\n",
        "if cell_verbose:\n",
        "  print('Init loss', loss_fn(partial_trained_model(X), y).item()) # This matches around np.log(10 = # of classes)\n",
        "\n",
        "optimizer = optim.Adam(partial_trained_model.parameters(), lr=7e-4)\n",
        "for _ in range(200):\n",
        "  loss = loss_fn(partial_trained_model(X), y)\n",
        "  optimizer.zero_grad()\n",
        "  loss.backward()\n",
        "  optimizer.step()\n",
        "\n",
        "if cell_verbose:\n",
        "  print('End loss', loss_fn(partial_trained_model(X), y).item()) # This should be less than 1e-2"
      ],
      "execution_count": 19,
      "outputs": []
    },
    {
      "cell_type": "code",
      "metadata": {
        "execution": {},
        "id": "uySyVcrqPEnS",
        "outputId": "de83230f-1b3b-47ca-b4c3-ca5e1c4676b5",
        "colab": {
          "base_uri": "https://localhost:8080/",
          "height": 177
        }
      },
      "source": [
        "# Show class filters of a trained model\n",
        "W = partial_trained_model.main[0].weight.data.numpy()\n",
        "\n",
        "fig, axs = plt.subplots(1, 10, figsize=(20, 6))\n",
        "for class_id in range(10):\n",
        "  axs[class_id].imshow(W[class_id, :].reshape(28, 28), cmap='gray_r')\n",
        "  axs[class_id].axis('off')\n",
        "  axs[class_id].set_title('Class ' + str(class_id) )\n",
        "\n",
        "plt.show()"
      ],
      "execution_count": 20,
      "outputs": [
        {
          "output_type": "display_data",
          "data": {
            "image/png": "[encoded data removed]",
            "text/plain": [
              "<Figure size 1440x432 with 10 Axes>"
            ]
          },
          "metadata": {
            "tags": [],
            "image/png": {
              "width": 1422,
              "height": 160
            },
            "needs_background": "light"
          }
        }
      ]
    },
    {
      "cell_type": "markdown",
      "metadata": {
        "execution": {},
        "id": "c0WjWG7EPEnS"
      },
      "source": [
        "---\n",
        "# Section 3: High dimensional search\n",
        "\n",
        "*Time estimate: ~25 mins*"
      ]
    },
    {
      "cell_type": "markdown",
      "metadata": {
        "execution": {},
        "id": "WKOgbprnPEnT"
      },
      "source": [
        "We now have a model with its corresponding trainable parameters as well as an objective to optimize. Where do we go to next? How do we find a 'good' configuration of parameters?\n",
        "\n",
        "One idea is to choose a random direction and move only if the objective is reduced. However, this is inefficient in high dimensions and you will see how gradient descent (with a suitable step-size) can guarantee consistent improvement in terms of the objective function."
      ]
    },
    {
      "cell_type": "code",
      "metadata": {
        "cellView": "form",
        "execution": {},
        "id": "JtVbhiHgPEnT",
        "outputId": "1a163ee5-9d05-4d9b-fa51-f048947b64d9",
        "colab": {
          "base_uri": "https://localhost:8080/",
          "height": 580,
          "referenced_widgets": [
            "758b9bf189324c639defa8f740061259",
            "7cccc9bea9b84dd9b76e5cbee8626b77",
            "a9ce4aa3688e4a3da1ee0f67b897ff46",
            "e84ab9c2096e44f49af9e418285979b9",
            "8ce236702d0d42998cbae5c323a87117",
            "d2d3aade6b8448fe96f9087c0407bc5e"
          ]
        }
      },
      "source": [
        "# @title Video 3: Optimization of an Objective Function\n",
        "from ipywidgets import widgets\n",
        "\n",
        "out2 = widgets.Output()\n",
        "with out2:\n",
        "  from IPython.display import IFrame\n",
        "  class BiliVideo(IFrame):\n",
        "    def __init__(self, id, page=1, width=400, height=300, **kwargs):\n",
        "      self.id=id\n",
        "      src = \"https://player.bilibili.com/player.html?bvid={0}&page={1}\".format(id, page)\n",
        "      super(BiliVideo, self).__init__(src, width, height, **kwargs)\n",
        "\n",
        "  video = BiliVideo(id=f\"BV1aL411H7Ce\", width=854, height=480, fs=1)\n",
        "  print(\"Video available at https://www.bilibili.com/video/{0}\".format(video.id))\n",
        "  display(video)\n",
        "\n",
        "out1 = widgets.Output()\n",
        "with out1:\n",
        "  from IPython.display import YouTubeVideo\n",
        "  video = YouTubeVideo(id=f\"aSJTRdjRvvw\", width=854, height=480, fs=1, rel=0)\n",
        "  print(\"Video available at https://youtube.com/watch?v=\" + video.id)\n",
        "  display(video)\n",
        "\n",
        "out = widgets.Tab([out1, out2])\n",
        "out.set_title(0, 'Youtube')\n",
        "out.set_title(1, 'Bilibili')\n",
        "\n",
        "# add event to airtable\n",
        "atform.add_event('Video 3: Optimization of an Objective Function')\n",
        "\n",
        "display(out)"
      ],
      "execution_count": 21,
      "outputs": [
        {
          "output_type": "display_data",
          "data": {
            "application/vnd.jupyter.widget-view+json": {
              "model_id": "758b9bf189324c639defa8f740061259",
              "version_minor": 0,
              "version_major": 2
            },
            "text/plain": [
              "Tab(children=(Output(), Output()), _titles={'0': 'Youtube', '1': 'Bilibili'})"
            ]
          },
          "metadata": {
            "tags": []
          }
        }
      ]
    },
    {
      "cell_type": "markdown",
      "metadata": {
        "execution": {},
        "id": "7FPqBWd_PEnT"
      },
      "source": [
        "## Coding Exercise 3: Implement gradient descent\n",
        "\n",
        "In this exercise you will use PyTorch automatic differentiation capabilities to compute the gradient of the loss with respect to the parameters of the model. You will then use these gradients to implement the update performed by the gradient descent method.  "
      ]
    },
    {
      "cell_type": "code",
      "metadata": {
        "execution": {},
        "id": "0oX5edvvPEnT"
      },
      "source": [
        "def zero_grad(params):\n",
        "  \"\"\"Clear up gradients as Pytorch automatically accumulates gradients from\n",
        "  successive backward calls\n",
        "  \"\"\"\n",
        "  for par in params:\n",
        "    if not(par.grad is None):\n",
        "      par.grad.data.zero_()\n",
        "\n",
        "\n",
        "def random_update(model, noise_scale=0.1, normalized=False):\n",
        "  \"\"\" Performs a random update on the parameters of the model\n",
        "  \"\"\"\n",
        "  for par in model.parameters():\n",
        "    noise = torch.randn_like(par)\n",
        "    if normalized:\n",
        "      noise /= torch.norm(noise)\n",
        "    par.data +=  noise_scale * noise"
      ],
      "execution_count": 22,
      "outputs": []
    },
    {
      "cell_type": "code",
      "metadata": {
        "execution": {},
        "id": "GshcsvbJPEni",
        "outputId": "f8c30c82-87b3-49db-ca0f-f545d3118205",
        "colab": {
          "base_uri": "https://localhost:8080/"
        }
      },
      "source": [
        "def gradient_update(loss, params, lr=1e-3):\n",
        "  \"\"\"Perform a gradient descent update on a given loss over a collection of parameters\n",
        "\n",
        "  Args:\n",
        "    loss (tensor): A scalar tensor containing the loss whose gradient will be computed\n",
        "    params (iterable): Collection of parameters with respect to which we compute gradients\n",
        "    lr (float): Scalar specifying the learning rate or step-size for the update\n",
        "  \"\"\"\n",
        "  # Clear up gradients as Pytorch automatically accumulates gradients from\n",
        "  # successive backward calls\n",
        "  zero_grad(params)\n",
        "\n",
        "  # Compute gradients on given objective\n",
        "  loss.backward()\n",
        "\n",
        "  with torch.no_grad():\n",
        "    for par in params:\n",
        "      #################################################\n",
        "      ## TODO for students: update the value of the parameter ##\n",
        "      # raise NotImplementedError(\"Student exercise: implement gradient update\")\n",
        "      #################################################\n",
        "      # Here we work with the 'data' attribute of the parameter rather than the\n",
        "      # parameter itself.\n",
        "      par.data -= lr  * par.grad.data\n",
        "\n",
        "\n",
        "# add event to airtable\n",
        "atform.add_event('Coding Exercise 3: Implement gradient descent')\n",
        "\n",
        "\n",
        "set_seed(seed=SEED)\n",
        "model1 = MLP(in_dim=784, out_dim=10, hidden_dims=[])\n",
        "print('\\n The model1 parameters before the update are: \\n')\n",
        "print_params(model1)\n",
        "loss = loss_fn(model1(X), y)\n",
        "\n",
        "## Uncomment below to test your function\n",
        "gradient_update(loss, list(model1.parameters()), lr=1e-1)\n",
        "print('\\n The model1 parameters after the update are: \\n')\n",
        "print_params(model1)"
      ],
      "execution_count": 23,
      "outputs": [
        {
          "output_type": "stream",
          "text": [
            "Random seed 2021 has been set.\n",
            "\n",
            " The model1 parameters before the update are: \n",
            "\n",
            "main.0.weight tensor([[-0.0264,  0.0010,  0.0173,  ...,  0.0297,  0.0278, -0.0221],\n",
            "        [-0.0040, -0.0295, -0.0086,  ..., -0.0070,  0.0254, -0.0233],\n",
            "        [ 0.0240, -0.0231,  0.0342,  ...,  0.0124,  0.0270, -0.0180],\n",
            "        ...,\n",
            "        [-0.0005,  0.0157,  0.0111,  ...,  0.0144, -0.0301, -0.0144],\n",
            "        [ 0.0181,  0.0303,  0.0255,  ..., -0.0110, -0.0175,  0.0205],\n",
            "        [ 0.0208, -0.0353, -0.0183,  ..., -0.0271,  0.0099,  0.0003]])\n",
            "main.0.bias tensor([-0.0290, -0.0033,  0.0100, -0.0320,  0.0022,  0.0221,  0.0307,  0.0243,\n",
            "         0.0159, -0.0064])\n",
            "\n",
            " The model1 parameters after the update are: \n",
            "\n",
            "main.0.weight tensor([[-0.0259,  0.0014,  0.0178,  ...,  0.0302,  0.0282, -0.0216],\n",
            "        [-0.0050, -0.0305, -0.0096,  ..., -0.0081,  0.0244, -0.0243],\n",
            "        [ 0.0236, -0.0235,  0.0338,  ...,  0.0119,  0.0265, -0.0185],\n",
            "        ...,\n",
            "        [-0.0009,  0.0154,  0.0107,  ...,  0.0141, -0.0304, -0.0147],\n",
            "        [ 0.0165,  0.0287,  0.0239,  ..., -0.0126, -0.0191,  0.0189],\n",
            "        [ 0.0209, -0.0352, -0.0182,  ..., -0.0270,  0.0100,  0.0004]])\n",
            "main.0.bias tensor([-0.0301, -0.0009,  0.0110, -0.0366,  0.0064,  0.0164,  0.0301,  0.0252,\n",
            "         0.0197, -0.0065])\n"
          ],
          "name": "stdout"
        }
      ]
    },
    {
      "cell_type": "markdown",
      "metadata": {
        "execution": {},
        "id": "9V_EFyUWPEni"
      },
      "source": [
        "[*Click for solution*](https://github.com/NeuromatchAcademy/course-content-dl/tree/main//tutorials/W1D4_Optimization/solutions/W1D4_Tutorial1_Solution_1c2b3d1a.py)\n",
        "\n"
      ]
    },
    {
      "cell_type": "markdown",
      "metadata": {
        "execution": {},
        "id": "onjZ9xsWPEnj"
      },
      "source": [
        "```\n",
        " The model1 parameters after the update are: \n",
        "\n",
        "main.0.weight tensor([[-0.0263,  0.0010,  0.0174,  ...,  0.0298,  0.0278, -0.0220],\n",
        "        [-0.0047, -0.0302, -0.0093,  ..., -0.0077,  0.0248, -0.0240],\n",
        "        [ 0.0234, -0.0237,  0.0335,  ...,  0.0117,  0.0263, -0.0187],\n",
        "        ...,\n",
        "        [-0.0006,  0.0156,  0.0110,  ...,  0.0143, -0.0302, -0.0145],\n",
        "        [ 0.0164,  0.0286,  0.0238,  ..., -0.0127, -0.0191,  0.0188],\n",
        "        [ 0.0206, -0.0354, -0.0184,  ..., -0.0272,  0.0098,  0.0002]])\n",
        "main.0.bias tensor([-0.0292, -0.0018,  0.0115, -0.0370,  0.0054,  0.0155,  0.0317,  0.0246,\n",
        "         0.0198, -0.0061])\n",
        "```"
      ]
    },
    {
      "cell_type": "markdown",
      "metadata": {
        "execution": {},
        "id": "6UTWSVZtPEnj"
      },
      "source": [
        "## Comparing updates\n",
        "\n",
        "These plots compare the effectiveness of updating random directions for the problem of optimizing the parameters of a high-dimensional linear model. We contrast the behavior at initialization and during an intermediate stage of training by showing the histograms of change in loss over 100 different random directions vs the changed in loss induced by the gradient descent update\n",
        "\n",
        "**Remember:** since we are trying to minimize, here negative is better!\n"
      ]
    },
    {
      "cell_type": "code",
      "metadata": {
        "cellView": "form",
        "execution": {},
        "id": "IfzyKVX2PEnj",
        "outputId": "9e182d56-ef87-4091-d16f-36a4f4f1f7fc",
        "colab": {
          "base_uri": "https://localhost:8080/",
          "height": 311
        }
      },
      "source": [
        "# @markdown _Run this cell_ to visualize the results\n",
        "fig, axs = plt.subplots(1, 2, figsize=(10, 4))\n",
        "\n",
        "for id, (model_name, my_model) in enumerate([('Initialization', model),\n",
        "                                              ('Partially trained', partial_trained_model)]):\n",
        "  # Compue the loss we will be comparing to\n",
        "  base_loss = loss_fn(my_model(X), y)\n",
        "\n",
        "  # Compute the improvement via gradient descent\n",
        "  dummy_model = copy.deepcopy(my_model)\n",
        "  loss1 = loss_fn(dummy_model(X), y)\n",
        "  gradient_update(loss1, list(dummy_model.parameters()), lr=1e-2)\n",
        "  gd_delta = loss_fn(dummy_model(X), y) - base_loss\n",
        "\n",
        "  deltas = []\n",
        "  for trial_id in range(100):\n",
        "    # Compute the improvement obtained with a random direction\n",
        "    dummy_model = copy.deepcopy(my_model)\n",
        "    random_update(dummy_model, noise_scale=1e-2)\n",
        "    deltas.append((loss_fn(dummy_model(X), y) - base_loss).item())\n",
        "\n",
        "  # Plot histogram for random direction and vertical line for gradient descent\n",
        "  axs[id].hist(deltas, label='Random Directions', bins=20)\n",
        "  axs[id].set_title(model_name)\n",
        "  axs[id].set_xlabel('Change in loss')\n",
        "  axs[id].set_ylabel('% samples')\n",
        "  axs[id].axvline(0, c='green', alpha=0.5)\n",
        "  axs[id].axvline(gd_delta.item(), linestyle='--', c='red', alpha=1,\n",
        "                  label='Gradient Descent')\n",
        "\n",
        "\n",
        "handles, labels = axs[id].get_legend_handles_labels()\n",
        "fig.legend(handles, labels, loc='upper center',\n",
        "           bbox_to_anchor=(0.5, 1.05),\n",
        "           fancybox=False, shadow=False, ncol=2)\n",
        "\n",
        "plt.show()"
      ],
      "execution_count": 24,
      "outputs": [
        {
          "output_type": "display_data",
          "data": {
            "image/png": "[encoded data removed]",
            "text/plain": [
              "<Figure size 720x288 with 2 Axes>"
            ]
          },
          "metadata": {
            "tags": [],
            "image/png": {
              "width": 713,
              "height": 294
            },
            "needs_background": "light"
          }
        }
      ]
    },
    {
      "cell_type": "markdown",
      "metadata": {
        "execution": {},
        "id": "cWUk40kRPEnj"
      },
      "source": [
        "## Think! 3: Gradient descent vs. random search\n",
        "\n",
        "Compare the behavior of gradient descent and random search based on the histograms above. Is any of the two methods more reliable? How can you explain the changes between behavior of the methods at initialization vs during training?"
      ]
    },
    {
      "cell_type": "code",
      "metadata": {
        "execution": {},
        "id": "qu3VnkAiPEnj",
        "outputId": "23931599-c45a-48f9-b380-58eb61912718",
        "colab": {
          "base_uri": "https://localhost:8080/",
          "height": 93,
          "referenced_widgets": [
            "ebdd422c70ef4c47b252f40f9ecbbbd9",
            "333e05700cfa4adfa0f7402d5e2cac1e",
            "b5265a22bfa246259a37e1e18b62557a",
            "209ab7bbe2c34632be422ec640d1b5b7",
            "6c84d530d1ae498dadc819ccba7d81cc",
            "06b5c2e540554ccaa0a5bbaec2e58dbf"
          ]
        }
      },
      "source": [
        "# @title Student Response\n",
        "from ipywidgets import widgets\n",
        "\n",
        "\n",
        "text=widgets.Textarea(\n",
        "   value='Type your answer here and click on `Submit!`',\n",
        "   placeholder='Type something',\n",
        "   description='',\n",
        "   disabled=False\n",
        ")\n",
        "\n",
        "button = widgets.Button(description=\"Submit!\")\n",
        "\n",
        "display(text,button)\n",
        "\n",
        "def on_button_clicked(b):\n",
        "   atform.add_answer('q1' , text.value)\n",
        "   print(\"Submission successful!\")\n",
        "\n",
        "\n",
        "button.on_click(on_button_clicked)"
      ],
      "execution_count": 25,
      "outputs": [
        {
          "output_type": "display_data",
          "data": {
            "application/vnd.jupyter.widget-view+json": {
              "model_id": "ebdd422c70ef4c47b252f40f9ecbbbd9",
              "version_minor": 0,
              "version_major": 2
            },
            "text/plain": [
              "Textarea(value='Type your answer here and click on `Submit!`', placeholder='Type something')"
            ]
          },
          "metadata": {
            "tags": []
          }
        },
        {
          "output_type": "display_data",
          "data": {
            "application/vnd.jupyter.widget-view+json": {
              "model_id": "209ab7bbe2c34632be422ec640d1b5b7",
              "version_minor": 0,
              "version_major": 2
            },
            "text/plain": [
              "Button(description='Submit!', style=ButtonStyle())"
            ]
          },
          "metadata": {
            "tags": []
          }
        }
      ]
    },
    {
      "cell_type": "markdown",
      "metadata": {
        "execution": {},
        "id": "GK6QfrUTPEnj"
      },
      "source": [
        "[*Click for solution*](https://github.com/NeuromatchAcademy/course-content-dl/tree/main//tutorials/W1D4_Optimization/solutions/W1D4_Tutorial1_Solution_2de57667.py)\n",
        "\n"
      ]
    },
    {
      "cell_type": "markdown",
      "metadata": {
        "execution": {},
        "id": "2TeMFfoDPEnj"
      },
      "source": [
        "---\n",
        "# Section 4: Poor conditioning\n",
        "\n",
        "*Time estimate: ~30 mins*"
      ]
    },
    {
      "cell_type": "markdown",
      "metadata": {
        "execution": {},
        "id": "XrQfxUo5PEnj"
      },
      "source": [
        "Already in this 'simple' logistic regression problem, the issue of bad conditioning is haunting us. Not all parameters are created equal and the sensitivity of the network to changes on the parameters will have a big impact in the dynamics of the optimization.\n"
      ]
    },
    {
      "cell_type": "code",
      "metadata": {
        "cellView": "form",
        "execution": {},
        "id": "mztjyJoCPEnk",
        "outputId": "3526a112-871b-46e5-b80c-1d5f654029a5",
        "colab": {
          "base_uri": "https://localhost:8080/",
          "height": 580,
          "referenced_widgets": [
            "2046e982025a4ad1a6f25143f4ba14f6",
            "3b79e6bc68784a5a93b51530be7bf6a8",
            "23dc04427a9e4bcdbe39f7e10b638a3e",
            "1cccd200b3644f3a9c92b7848dbca300",
            "b758974f2c074928948649cd089b9d8e",
            "d387b52f74c040bbbcfad2b3720d5c1a"
          ]
        }
      },
      "source": [
        "# @title Video 4: Momentum\n",
        "from ipywidgets import widgets\n",
        "\n",
        "out2 = widgets.Output()\n",
        "with out2:\n",
        "  from IPython.display import IFrame\n",
        "  class BiliVideo(IFrame):\n",
        "    def __init__(self, id, page=1, width=400, height=300, **kwargs):\n",
        "      self.id=id\n",
        "      src = \"https://player.bilibili.com/player.html?bvid={0}&page={1}\".format(id, page)\n",
        "      super(BiliVideo, self).__init__(src, width, height, **kwargs)\n",
        "\n",
        "  video = BiliVideo(id=f\"BV1NL411H71t\", width=854, height=480, fs=1)\n",
        "  print(\"Video available at https://www.bilibili.com/video/{0}\".format(video.id))\n",
        "  display(video)\n",
        "\n",
        "out1 = widgets.Output()\n",
        "with out1:\n",
        "  from IPython.display import YouTubeVideo\n",
        "  video = YouTubeVideo(id=f\"3ES5O58Y_2M\", width=854, height=480, fs=1, rel=0)\n",
        "  print(\"Video available at https://youtube.com/watch?v=\" + video.id)\n",
        "  display(video)\n",
        "\n",
        "out = widgets.Tab([out1, out2])\n",
        "out.set_title(0, 'Youtube')\n",
        "out.set_title(1, 'Bilibili')\n",
        "\n",
        "# add event to airtable\n",
        "atform.add_event('Video 4: Momentum')\n",
        "\n",
        "display(out)"
      ],
      "execution_count": 26,
      "outputs": [
        {
          "output_type": "display_data",
          "data": {
            "application/vnd.jupyter.widget-view+json": {
              "model_id": "2046e982025a4ad1a6f25143f4ba14f6",
              "version_minor": 0,
              "version_major": 2
            },
            "text/plain": [
              "Tab(children=(Output(), Output()), _titles={'0': 'Youtube', '1': 'Bilibili'})"
            ]
          },
          "metadata": {
            "tags": []
          }
        }
      ]
    },
    {
      "cell_type": "markdown",
      "metadata": {
        "execution": {},
        "id": "uTo8zm6_PEnk"
      },
      "source": [
        "We illustrate this issue in a 2-dimensional setting. We freeze all but two parameters of the network: one of them is an element of the weight matrix (filter) for class 0, while the other is the bias for class 7. This results in an optimization with two decision variables.\n",
        "\n",
        "How much difference is there in the behavior of these two parameters under gradient descent? What is the effect of momentum in bridging that gap?\n"
      ]
    },
    {
      "cell_type": "code",
      "metadata": {
        "cellView": "form",
        "execution": {},
        "id": "AZRk1HZEPEnk"
      },
      "source": [
        "# @markdown _Run this cell_ to setup some helper functions.\n",
        "\n",
        "def loss_2d(model, u, v, mask_idx=(0, 378), bias_id=7):\n",
        "  \"\"\"Defines a 2-dim function by freezing all but two parameters of a linear\n",
        "  model.\n",
        "\n",
        "  Args:\n",
        "    model (torch module): a pytorch 0-hidden layer (linear) model\n",
        "    u (scalar): first free parameter\n",
        "    v (scalar): second free parameter\n",
        "    mask_idx (tuple): selects parameter in weight matrix replaced by u\n",
        "    bias_idx (int): selects parameter in bias vector replaced by v\n",
        "\n",
        "  Returns:\n",
        "    scalar: loss of the 'new' model over inputs X, y (defined externally)\n",
        "  \"\"\"\n",
        "\n",
        "  # We zero out the element of the weight tensor that will be\n",
        "  # replaced by u\n",
        "  mask = torch.ones_like(model.main[0].weight)\n",
        "  mask[mask_idx[0], mask_idx[1]] = 0.\n",
        "  masked_weights = model.main[0].weight * mask\n",
        "\n",
        "  # u is replacing an element of the weight matrix\n",
        "  masked_weights[mask_idx[0], mask_idx[1]] = u\n",
        "\n",
        "  res = X.reshape(-1, 784) @ masked_weights.T + model.main[0].bias\n",
        "\n",
        "  # v is replacing a bias for class 7\n",
        "  res[:, 7] += v - model.main[0].bias[7]\n",
        "  res =  F.log_softmax(res, dim=1)\n",
        "\n",
        "  return loss_fn(res, y)\n",
        "\n",
        "\n",
        "def plot_surface(U, V, Z, fig):\n",
        "  \"\"\" Plot a 3D loss surface given meshed inputs U, V and values Z\n",
        "  \"\"\"\n",
        "  ax = fig.add_subplot(1, 2, 2, projection='3d')\n",
        "  ax.view_init(45, -130)\n",
        "\n",
        "  surf = ax.plot_surface(U, V, Z, cmap=plt.cm.coolwarm,\n",
        "                      linewidth=0, antialiased=True, alpha=0.5)\n",
        "\n",
        "  # Select certain level contours to plot\n",
        "  # levels = Z.min() * np.array([1.005, 1.1, 1.3, 1.5, 2.])\n",
        "  # plt.contour(U, V, Z)# levels=levels, alpha=0.5)\n",
        "\n",
        "  ax.set_xlabel('Weight')\n",
        "  ax.set_ylabel('Bias')\n",
        "  ax.set_zlabel('Loss', rotation=90)\n",
        "\n",
        "  return ax\n",
        "\n",
        "\n",
        "def plot_param_distance(best_u, best_v, trajs, fig, styles, labels,\n",
        "                        use_log=False, y_min_v=-12.0, y_max_v=1.5):\n",
        "  \"\"\" Plot the distance to each of the two parameters for a collection of 'trajectories'\n",
        "  \"\"\"\n",
        "  ax = fig.add_subplot(1, 1, 1)\n",
        "\n",
        "  for traj, style, label in zip(trajs, styles, labels):\n",
        "    d0 = np.array([np.abs(_[0] - best_u) for _ in traj])\n",
        "    d1 = np.array([np.abs(_[1] - best_v) for _ in traj])\n",
        "    if use_log:\n",
        "      d0 = np.log(1e-16 + d0)\n",
        "      d1 = np.log(1e-16 + d1)\n",
        "    ax.plot(range(len(traj)), d0, style, label='weight - ' + label)\n",
        "    ax.plot(range(len(traj)), d1, style, label='bias - ' + label)\n",
        "  ax.set_xlabel('Iteration')\n",
        "  if use_log:\n",
        "    ax.set_ylabel('Log distance to optimum (per dimension)')\n",
        "    ax.set_ylim(y_min_v, y_max_v)\n",
        "  else:\n",
        "    ax.set_ylabel('Abs distance to optimum (per dimension)')\n",
        "  ax.legend(loc='right', bbox_to_anchor=(1.5, 0.5),\n",
        "            fancybox=False, shadow=False, ncol=1)\n",
        "\n",
        "  return ax\n",
        "\n",
        "\n",
        "def run_optimizer(inits, eval_fn, update_fn, max_steps=500,\n",
        "                  optim_kwargs={'lr':1e-2}, log_traj=True):\n",
        "  \"\"\"Runs an optimizer on a given objective and logs parameter trajectory\n",
        "\n",
        "  Args:\n",
        "      inits list(scalar): initialization of parameters\n",
        "      eval_fn (callable): function computing the objective to be minimized\n",
        "      update_fn (callable): function executing parameter update\n",
        "      max_steps (int): number of iterations to run\n",
        "      optim_kwargs (dict): customize optimizer hyperparameters\n",
        "\n",
        "  Returns:\n",
        "      list[list]: trajectory information [*params, loss] for each optimization step\n",
        "  \"\"\"\n",
        "\n",
        "  # Initialize parameters and optimizer\n",
        "  params = [nn.Parameter(torch.tensor(_)) for _ in inits]\n",
        "  # Methods like momentum and rmsprop keep and auxiliary vector of parameters\n",
        "  aux_tensors = [torch.zeros_like(_) for _ in params]\n",
        "  if log_traj:\n",
        "    traj = np.zeros((max_steps, len(params)+1))\n",
        "  for _ in range(max_steps):\n",
        "    # Evaluate loss\n",
        "    loss = eval_fn(*params)\n",
        "    # Store 'trajectory' information\n",
        "    if log_traj:\n",
        "      traj[_, :] = [_.item() for _ in params] + [loss.item()]\n",
        "    # Perform update\n",
        "    if update_fn == gradient_update:\n",
        "      gradient_update(loss, params, **optim_kwargs)\n",
        "    else:\n",
        "      update_fn(loss, params, aux_tensors, **optim_kwargs)\n",
        "  if log_traj:\n",
        "    return traj\n",
        "\n",
        "\n",
        "L = 4.\n",
        "xs = np.linspace(-L, L, 30)\n",
        "ys = np.linspace(-L, L, 30)\n",
        "U, V = np.meshgrid(xs, ys)"
      ],
      "execution_count": 27,
      "outputs": []
    },
    {
      "cell_type": "markdown",
      "metadata": {
        "execution": {},
        "id": "RAkbe2GVPEnk"
      },
      "source": [
        "## Coding Exercise 4: Implement momentum\n",
        "\n",
        "In this exercise you will implement the momentum update given by:\n",
        "\n",
        "\\begin{equation}\n",
        "w_{t+1} = w_t - \\eta \\nabla J(w_t) + \\beta (w_t - w_{t-1})\n",
        "\\end{equation}\n",
        "\n",
        "It is convenient to re-express this update rule in terms of a recursion. For that, we define 'velocity' as the quantity:\n",
        "\\begin{equation}\n",
        "v_{t-1} := w_{t} - w_{t-1}\n",
        "\\end{equation}\n",
        "\n",
        "which leads to the two-step update rule:\n",
        "\n",
        "\\begin{equation}\n",
        "v_t = - \\eta \\nabla J(w_t) + \\beta (\\underbrace{w_t - w_{t-1}}_{v_{t-1}})\n",
        "\\end{equation}\n",
        "\n",
        "\\begin{equation}\n",
        "w_{t+1} \\leftarrow w_t + v_{t}\n",
        "\\end{equation}\n",
        "\n",
        "Pay attention to the positive sign of the update in the last equation, given the definition of $v_t$, above. "
      ]
    },
    {
      "cell_type": "code",
      "metadata": {
        "execution": {},
        "id": "NhCxHtokPEnk",
        "outputId": "a58b8402-cc47-47a9-fd01-80b28e886433",
        "colab": {
          "base_uri": "https://localhost:8080/"
        }
      },
      "source": [
        "def momentum_update(loss, params, grad_vel, lr=1e-3, beta=0.8):\n",
        "  \"\"\"Perform a momentum update over a collection of parameters given a loss and 'velocities'\n",
        "\n",
        "  Args:\n",
        "    loss (tensor): A scalar tensor containing the loss whose gradient will be computed\n",
        "    params (iterable): Collection of parameters with respect to which we compute gradients\n",
        "    grad_vel (iterable): Collection containing the 'velocity' v_t for each parameter\n",
        "    lr (float): Scalar specifying the learning rate or step-size for the update\n",
        "    beta (float): Scalar 'momentum' parameter\n",
        "  \"\"\"\n",
        "  # Clear up gradients as Pytorch automatically accumulates gradients from\n",
        "  # successive backward calls\n",
        "  zero_grad(params)\n",
        "  # Compute gradients on given objective\n",
        "  loss.backward()\n",
        "\n",
        "  with torch.no_grad():\n",
        "    for (par, vel) in zip(params, grad_vel):\n",
        "      #################################################\n",
        "      ## TODO for students: update the value of the parameter ##\n",
        "      # raise NotImplementedError(\"Student exercise: implement momentum update\")\n",
        "      #################################################\n",
        "      # Update 'velocity'\n",
        "      vel.data = -lr * par.grad.data + beta * vel.data\n",
        "      # Update parameters\n",
        "      par.data += vel.data\n",
        "\n",
        "\n",
        "# add event to airtable\n",
        "atform.add_event('Coding Exercise 4: Implement momentum')\n",
        "\n",
        "\n",
        "set_seed(seed=SEED)\n",
        "model2 = MLP(in_dim=784, out_dim=10, hidden_dims=[])\n",
        "print('\\n The model2 parameters before the update are: \\n')\n",
        "print_params(model2)\n",
        "loss = loss_fn(model2(X), y)\n",
        "initial_vel = [torch.randn_like(p) for p in model2.parameters()]\n",
        "\n",
        "## Uncomment below to test your function\n",
        "momentum_update(loss, list(model2.parameters()), grad_vel=initial_vel, lr=1e-1, beta=0.9)\n",
        "print('\\n The model2 parameters after the update are: \\n')\n",
        "print_params(model2)"
      ],
      "execution_count": 28,
      "outputs": [
        {
          "output_type": "stream",
          "text": [
            "Random seed 2021 has been set.\n",
            "\n",
            " The model2 parameters before the update are: \n",
            "\n",
            "main.0.weight tensor([[-0.0264,  0.0010,  0.0173,  ...,  0.0297,  0.0278, -0.0221],\n",
            "        [-0.0040, -0.0295, -0.0086,  ..., -0.0070,  0.0254, -0.0233],\n",
            "        [ 0.0240, -0.0231,  0.0342,  ...,  0.0124,  0.0270, -0.0180],\n",
            "        ...,\n",
            "        [-0.0005,  0.0157,  0.0111,  ...,  0.0144, -0.0301, -0.0144],\n",
            "        [ 0.0181,  0.0303,  0.0255,  ..., -0.0110, -0.0175,  0.0205],\n",
            "        [ 0.0208, -0.0353, -0.0183,  ..., -0.0271,  0.0099,  0.0003]])\n",
            "main.0.bias tensor([-0.0290, -0.0033,  0.0100, -0.0320,  0.0022,  0.0221,  0.0307,  0.0243,\n",
            "         0.0159, -0.0064])\n",
            "\n",
            " The model2 parameters after the update are: \n",
            "\n",
            "main.0.weight tensor([[ 1.5902,  0.0120, -2.0236,  ..., -1.0867,  0.4034, -0.9573],\n",
            "        [ 0.4650,  0.6019, -0.7366,  ...,  0.5481, -0.2750, -0.6543],\n",
            "        [-1.4115, -1.1043,  0.6494,  ..., -1.0199,  0.6505,  0.1312],\n",
            "        ...,\n",
            "        [-0.5101,  0.5073, -0.0720,  ...,  1.1190,  0.2898, -0.9660],\n",
            "        [-0.4404, -0.1174,  0.7542,  ...,  0.0793, -0.1856,  0.3537],\n",
            "        [-1.0822,  1.0082, -0.4251,  ..., -0.3758, -1.7489,  0.6027]])\n",
            "main.0.bias tensor([ 0.4138, -1.0431,  0.8715, -1.6197, -0.9622,  0.9439, -0.5196,  1.3423,\n",
            "         0.6573,  0.3672])\n"
          ],
          "name": "stdout"
        }
      ]
    },
    {
      "cell_type": "markdown",
      "metadata": {
        "execution": {},
        "id": "PqQcuri8PEnl"
      },
      "source": [
        "[*Click for solution*](https://github.com/NeuromatchAcademy/course-content-dl/tree/main//tutorials/W1D4_Optimization/solutions/W1D4_Tutorial1_Solution_ba72f88a.py)\n",
        "\n"
      ]
    },
    {
      "cell_type": "markdown",
      "metadata": {
        "execution": {},
        "id": "kmfsG9CdPEnl"
      },
      "source": [
        "```\n",
        " The model2 parameters after the update are: \n",
        "\n",
        "main.0.weight tensor([[ 1.5898,  0.0116, -2.0239,  ..., -1.0871,  0.4030, -0.9577],\n",
        "        [ 0.4653,  0.6022, -0.7363,  ...,  0.5485, -0.2747, -0.6539],\n",
        "        [-1.4117, -1.1045,  0.6492,  ..., -1.0201,  0.6503,  0.1310],\n",
        "        ...,\n",
        "        [-0.5098,  0.5075, -0.0718,  ...,  1.1192,  0.2900, -0.9657],\n",
        "        [-0.4405, -0.1174,  0.7542,  ...,  0.0792, -0.1857,  0.3537],\n",
        "        [-1.0824,  1.0080, -0.4254,  ..., -0.3760, -1.7491,  0.6025]])\n",
        "main.0.bias tensor([ 0.4147, -1.0440,  0.8720, -1.6201, -0.9632,  0.9430, -0.5180,  1.3417,\n",
        "         0.6574,  0.3677])\n",
        "```"
      ]
    },
    {
      "cell_type": "markdown",
      "metadata": {
        "execution": {},
        "id": "r-S-jPhuPEnl"
      },
      "source": [
        "## Interactive Demo 4: Momentum vs. GD\n",
        "\n",
        "The plots below show the distance to the optimum for both variables across the two methods, as well as the parameter trajectory over the loss surface."
      ]
    },
    {
      "cell_type": "code",
      "metadata": {
        "cellView": "form",
        "execution": {},
        "id": "mADS4q94PEnl",
        "outputId": "c9e62758-a962-4d42-c262-dc361db72c04",
        "colab": {
          "base_uri": "https://localhost:8080/",
          "height": 194,
          "referenced_widgets": [
            "5a419fb9baed45c68314527beee7a026",
            "3eeebb1af30f43c198fff26a0f385320",
            "3475300d4c54427cb6822ba315872710",
            "982471f8ac024f25a67607e10179b83c",
            "1ad21e2cdc84405ca1689d4eb0c31071",
            "85ff02a3da27463e9199e88c0aa3f30a",
            "65ecbda0796a42d7952b220d91fde9c5",
            "254b1c4124f24e7ca256ce91b9a294b4",
            "7f878b7a12db449a93f3cdfbf58f405e",
            "6f6a1c0d2bc044a483b85c493d94769d",
            "93eba909b83c4e629218716e1172250d",
            "3eb03d68b5444c9ea8876c7ddb911102",
            "0c84598009b94d27a37e918d433ecd3c",
            "56996bb14bf446089bc8d2ae495c8a89",
            "bf3a4cbc988147c685ab4fa6ed04774d",
            "4dca128935ac4cbebaaee444666bdf86",
            "fef3fb2b6b8f497ea9458a2889665c89",
            "856dc8f6fa48480cbaef2ce3b6516c93",
            "1ec8799f8bfc4a9cbfeaaf55a43e0578",
            "f9a5177a0eb34d6c8c91559cc4565f43",
            "4dec85e080d549eaa87c14acd9914bb1",
            "ac214b5ee4434efdbcb526ed2f37ed1c",
            "c04dc6d581c7405ab8fa70880484d9e4",
            "c02758fee2e740fa9b5d432f731dd8a1",
            "9858b046bdc746f88852b9b1081e174e",
            "dcfcdd8eff404318abcce8e8aef33deb",
            "3636c5c9b8c142b19ca890a0b907649b"
          ]
        }
      },
      "source": [
        "# @markdown Run this cell to enable the widget!\n",
        "from matplotlib.lines import Line2D\n",
        "\n",
        "# Find the optimum of this 2D problem using Newton's method\n",
        "def run_newton(func, init_list=[0., 0.], max_iter=200):\n",
        "\n",
        "  par_tensor = torch.tensor(init_list, requires_grad=True)\n",
        "  t_g = lambda par_tensor: func(par_tensor[0], par_tensor[1])\n",
        "\n",
        "  for _ in tqdm(range(max_iter)):\n",
        "    eval_loss = t_g(par_tensor)\n",
        "    eval_grad = torch.autograd.grad(eval_loss, [par_tensor])[0]\n",
        "    eval_hess = torch.autograd.functional.hessian(t_g, par_tensor)\n",
        "    # Newton's update is:  - inverse(Hessian) x gradient\n",
        "    par_tensor.data -= torch.inverse(eval_hess) @ eval_grad\n",
        "\n",
        "  return par_tensor.data.numpy()\n",
        "\n",
        "\n",
        "set_seed(2021)\n",
        "model = MLP(in_dim=784, out_dim=10, hidden_dims=[])\n",
        "# Define 2d loss objectives and surface values\n",
        "g = lambda u, v: loss_2d(copy.deepcopy(model), u, v)\n",
        "Z = np.fromiter(map(g, U.ravel(), V.ravel()), U.dtype).reshape(V.shape)\n",
        "\n",
        "best_u, best_v  = run_newton(func=g)\n",
        "\n",
        "# Initialization of the variables\n",
        "INITS = [2.5, 3.7]\n",
        "\n",
        "# Used for plotting\n",
        "LABELS = ['GD', 'Momentum']\n",
        "COLORS = ['black', 'red']\n",
        "LSTYLES = ['-', '--']\n",
        "\n",
        "\n",
        "@widgets.interact_manual\n",
        "def momentum_experiment(max_steps=widgets.IntSlider(300, 50, 500, 5),\n",
        "                        lr=widgets.FloatLogSlider(value=1e-1, min=-3, max=0.7, step=0.1),\n",
        "                        beta=widgets.FloatSlider(value=9e-1, min=0, max=1., step=0.01)\n",
        "                        ):\n",
        "\n",
        "  # Execute both optimizers\n",
        "  sgd_traj = run_optimizer(INITS, eval_fn=g, update_fn=gradient_update,\n",
        "                           max_steps=max_steps, optim_kwargs={'lr': lr})\n",
        "  mom_traj = run_optimizer(INITS, eval_fn=g, update_fn=momentum_update,\n",
        "                           max_steps=max_steps, optim_kwargs={'lr': lr, 'beta':beta})\n",
        "\n",
        "  TRAJS = [sgd_traj, mom_traj]\n",
        "\n",
        "  # Plot distances\n",
        "  fig = plt.figure(figsize=(9,4))\n",
        "  plot_param_distance(best_u, best_v, TRAJS, fig,\n",
        "                      LSTYLES, LABELS, use_log=True, y_min_v=-12.0, y_max_v=1.5)\n",
        "\n",
        "  # # Plot trajectories\n",
        "  fig = plt.figure(figsize=(12, 5))\n",
        "  ax = plot_surface(U, V, Z, fig)\n",
        "  for traj, c, label in zip(TRAJS, COLORS, LABELS):\n",
        "    ax.plot3D(*traj.T, c, linewidth=0.3, label=label)\n",
        "    ax.scatter3D(*traj.T, '.-', s=1, c=c)\n",
        "\n",
        "  # Plot optimum point\n",
        "  ax.scatter(best_u, best_v, Z.min(), marker='*', s=80, c='lime', label='Opt.');\n",
        "  lines = [Line2D([0], [0],\n",
        "                  color=c,\n",
        "                  linewidth=3,\n",
        "                  linestyle='--') for c in COLORS]\n",
        "  lines.append(Line2D([0], [0], color='lime', linewidth=0, marker='*'))\n",
        "  ax.legend(lines, LABELS + ['Optimum'], loc='right',\n",
        "            bbox_to_anchor=(.8, -0.1), ncol=len(LABELS) + 1)"
      ],
      "execution_count": 29,
      "outputs": [
        {
          "output_type": "stream",
          "text": [
            "Random seed 2021 has been set.\n"
          ],
          "name": "stdout"
        },
        {
          "output_type": "display_data",
          "data": {
            "application/vnd.jupyter.widget-view+json": {
              "model_id": "5a419fb9baed45c68314527beee7a026",
              "version_minor": 0,
              "version_major": 2
            },
            "text/plain": [
              "  0%|          | 0/200 [00:00<?, ?it/s]"
            ]
          },
          "metadata": {
            "tags": []
          }
        },
        {
          "output_type": "display_data",
          "data": {
            "application/vnd.jupyter.widget-view+json": {
              "model_id": "3eb03d68b5444c9ea8876c7ddb911102",
              "version_minor": 0,
              "version_major": 2
            },
            "text/plain": [
              "interactive(children=(IntSlider(value=300, description='max_steps', max=500, min=50, step=5), FloatLogSlider(v…"
            ]
          },
          "metadata": {
            "tags": []
          }
        }
      ]
    },
    {
      "cell_type": "markdown",
      "metadata": {
        "execution": {},
        "id": "JT1rfJumPEnl"
      },
      "source": [
        "## Think! 4: Momentum and oscillations\n",
        "\n",
        "- Discuss how this specific example illustrates the issue of poor conditioning in optimization? How does momentum help resolve these difficulties?\n",
        "\n",
        "- Do you see oscillations for any of these methods? Why does this happen?\n",
        "\n",
        "- Finally, tune the learning rate and momentum parameters to achieve a loss below $10^{-6}$ (for both dimensions) within 100 iterations."
      ]
    },
    {
      "cell_type": "code",
      "metadata": {
        "cellView": "form",
        "execution": {},
        "id": "c89ZeWDuPEnm",
        "outputId": "3040dbb1-081b-49ca-b908-1d2419db1dcf",
        "colab": {
          "base_uri": "https://localhost:8080/",
          "height": 93,
          "referenced_widgets": [
            "c98199fb3fdb4b7db57968e8f13f500a",
            "857bbe204ad2410c9cd3485e83c05d33",
            "33f0cb9b088d4d15b4eee460a2489101",
            "c2e2857da65a42c2bbf9a42b2d582ddb",
            "b41670c562fd4ec39215a7e69a3623ef",
            "cf1f812573154e82b076c3fc43b118a6"
          ]
        }
      },
      "source": [
        "# @title Student Response\n",
        "from ipywidgets import widgets\n",
        "\n",
        "\n",
        "text=widgets.Textarea(\n",
        "   value='Type your answer here and click on `Submit!`',\n",
        "   placeholder='Type something',\n",
        "   description='',\n",
        "   disabled=False\n",
        ")\n",
        "\n",
        "button = widgets.Button(description=\"Submit!\")\n",
        "\n",
        "display(text,button)\n",
        "\n",
        "def on_button_clicked(b):\n",
        "   atform.add_answer('q2' , text.value)\n",
        "   print(\"Submission successful!\")\n",
        "\n",
        "\n",
        "button.on_click(on_button_clicked)"
      ],
      "execution_count": 30,
      "outputs": [
        {
          "output_type": "display_data",
          "data": {
            "application/vnd.jupyter.widget-view+json": {
              "model_id": "c98199fb3fdb4b7db57968e8f13f500a",
              "version_minor": 0,
              "version_major": 2
            },
            "text/plain": [
              "Textarea(value='Type your answer here and click on `Submit!`', placeholder='Type something')"
            ]
          },
          "metadata": {
            "tags": []
          }
        },
        {
          "output_type": "display_data",
          "data": {
            "application/vnd.jupyter.widget-view+json": {
              "model_id": "c2e2857da65a42c2bbf9a42b2d582ddb",
              "version_minor": 0,
              "version_major": 2
            },
            "text/plain": [
              "Button(description='Submit!', style=ButtonStyle())"
            ]
          },
          "metadata": {
            "tags": []
          }
        }
      ]
    },
    {
      "cell_type": "markdown",
      "metadata": {
        "execution": {},
        "id": "fD7IO0GbPEnm"
      },
      "source": [
        "[*Click for solution*](https://github.com/NeuromatchAcademy/course-content-dl/tree/main//tutorials/W1D4_Optimization/solutions/W1D4_Tutorial1_Solution_5eaa9306.py)\n",
        "\n"
      ]
    },
    {
      "cell_type": "markdown",
      "metadata": {
        "execution": {},
        "id": "HkqhVT4FPEnm"
      },
      "source": [
        "---\n",
        "# Section 5: Non-convexity\n",
        "\n",
        "*Time estimate: ~30 mins*"
      ]
    },
    {
      "cell_type": "markdown",
      "metadata": {
        "execution": {},
        "id": "xnuf782qPEnm"
      },
      "source": [
        "The introduction of even just 1 hidden layer in the neural network transforms the previous convex optimization problem into a non-convex one. And with great non-convexity, comes great responsibility... (Sorry, we couldn't help it!)\n",
        "\n",
        "**Note:** From this section onwards we will be dealing with non-convex optimization problems for the remaining of the tutorial. "
      ]
    },
    {
      "cell_type": "code",
      "metadata": {
        "cellView": "form",
        "execution": {},
        "id": "mAct-dOSPEnm",
        "outputId": "a70ff9d0-3d55-4bd2-cf2f-9d1dddadab86",
        "colab": {
          "base_uri": "https://localhost:8080/",
          "height": 580,
          "referenced_widgets": [
            "212e30d3b74c446e9390fa794f498317",
            "b54c9f0a459046f7a2fe8b1ff8222783",
            "87b1c15cbe4d441e8cb8fe5d5a3f9b6f",
            "98364bc81ae14c9dbb82bb9542c35e10",
            "d6691eca002645c88964d8976562acad",
            "a533a6d7791a45bd80de3191e027468b"
          ]
        }
      },
      "source": [
        "# @title Video 5: Overparametrization\n",
        "from ipywidgets import widgets\n",
        "\n",
        "out2 = widgets.Output()\n",
        "with out2:\n",
        "  from IPython.display import IFrame\n",
        "  class BiliVideo(IFrame):\n",
        "    def __init__(self, id, page=1, width=400, height=300, **kwargs):\n",
        "      self.id=id\n",
        "      src = \"https://player.bilibili.com/player.html?bvid={0}&page={1}\".format(id, page)\n",
        "      super(BiliVideo, self).__init__(src, width, height, **kwargs)\n",
        "\n",
        "  video = BiliVideo(id=f\"BV16h41167Jr\", width=854, height=480, fs=1)\n",
        "  print(\"Video available at https://www.bilibili.com/video/{0}\".format(video.id))\n",
        "  display(video)\n",
        "\n",
        "out1 = widgets.Output()\n",
        "with out1:\n",
        "  from IPython.display import YouTubeVideo\n",
        "  video = YouTubeVideo(id=f\"7vUpUEKKl5o\", width=854, height=480, fs=1, rel=0)\n",
        "  print(\"Video available at https://youtube.com/watch?v=\" + video.id)\n",
        "  display(video)\n",
        "\n",
        "out = widgets.Tab([out1, out2])\n",
        "out.set_title(0, 'Youtube')\n",
        "out.set_title(1, 'Bilibili')\n",
        "\n",
        "# add event to airtable\n",
        "atform.add_event(\"Video 5: Overparametrization\")\n",
        "\n",
        "display(out)"
      ],
      "execution_count": 31,
      "outputs": [
        {
          "output_type": "display_data",
          "data": {
            "application/vnd.jupyter.widget-view+json": {
              "model_id": "212e30d3b74c446e9390fa794f498317",
              "version_minor": 0,
              "version_major": 2
            },
            "text/plain": [
              "Tab(children=(Output(), Output()), _titles={'0': 'Youtube', '1': 'Bilibili'})"
            ]
          },
          "metadata": {
            "tags": []
          }
        }
      ]
    },
    {
      "cell_type": "markdown",
      "metadata": {
        "execution": {},
        "id": "f7y9VWqKPEnm"
      },
      "source": [
        "Take a couple of minutes to play with a more complex 3D visualization of the loss landscape of a neural network on a non-convex problem. Visit https://losslandscape.com/explorer.\n",
        "\n",
        "1. Explore the features on the bottom left corner. You can see an explanation for each icon by clicking on the [i] button located on the top right corner.\n",
        "2. Use the 'gradient descent' feature to perform a thought experiment:\n",
        "    -   Choose an initialization\n",
        "    -   Choose the learning rate\n",
        "    -   Mentally formulate your hypothesis about what kind of trajectory you expect to observe \n",
        "3. Run the experiment and contrast your intuition with the observed behavior.\n",
        "4. Repeat this experiment a handful of times for several initialization/learning rate configurations\n"
      ]
    },
    {
      "cell_type": "markdown",
      "metadata": {
        "execution": {},
        "id": "NjRTVH_fPEnm"
      },
      "source": [
        "## Interactive Demo 5: Overparametrization to the rescue!\n",
        "\n",
        "As you may have seen, the non-convex nature of the surface can lead the optimization process to get stuck in undesirable local-optima. There is ample empirical evidence supporting the claim that 'overparameterized' models are easier to train.\n",
        "\n",
        "We will explore this assertion in the context of our MLP training. For this, we initialize a fixed model and construct several models by small random perturbations to the original initialized weights. Now, we train each of these perturbed models and see how the loss evolves. If we were in the convex setting, we should reach very similar objective values upon convergence since all these models were very close at the beginning of training, and in convex problems, every local optimum is also a global optimum.\n",
        "\n",
        "Use the interactive plot below to visualize the loss progression for these perturbed models:\n",
        "\n",
        "1. Select different settings from the `hidden_dims` drop-down menu.\n",
        "2. Explore the effect of the number of steps and learning rate."
      ]
    },
    {
      "cell_type": "code",
      "metadata": {
        "execution": {},
        "id": "R6sD1Q0mPEnm",
        "outputId": "615f0107-04f2-42eb-9ec8-cc13183850b4",
        "colab": {
          "base_uri": "https://localhost:8080/",
          "height": 177,
          "referenced_widgets": [
            "085a7b4d56d744c9951d833d6c261d3d",
            "5d70ac578f1142389e7703967d467dc4",
            "01f936908f02432da8f7c5121f502793",
            "722aa466ddb64d85b0895308c23ec400",
            "39bc332d3cf847eab45cce6d0ef3b5de",
            "f4ec78160ccd475987d048161cfad7fb",
            "946ab0ebdd2942ce9194f2aa08f1371a",
            "1885faf97f774e41925474f0ccad4360",
            "b795109297ce48bc8ea85709c359e0fa",
            "078d8ff9a0914b79af15ac0d2319c38c",
            "e434f5194b614832a238866d0898e839",
            "26fcf7d5f6054cdc9152712dffb7fb3e",
            "b8a86dfc56e04911900b16cd5bcb616b",
            "0991ca87c7ff4348b0aedf4bf2fd27c9",
            "af6ccf2017cc4ebfbe17f1f470844776",
            "79b11b1ff7e1414a990e1f87271a0dc1",
            "dcb93107cc6a4d3d9bd011e30b38f283",
            "608a18e5318a458f96ef7c0078daa4d2",
            "74406dc8f44a4a9292d221e061a38ad6"
          ]
        }
      },
      "source": [
        "# @markdown Execute this cell to enable the widget!\n",
        "\n",
        "@widgets.interact_manual\n",
        "def overparam(max_steps=widgets.IntSlider(150, 50, 500, 5),\n",
        "              hidden_dims=widgets.Dropdown(options=[\"10\", \"20, 20\", \"100, 100\"],\n",
        "                                           value=\"10\"),\n",
        "              lr=widgets.FloatLogSlider(value=5e-2, min=-3, max=0, step=0.1),\n",
        "              num_inits=widgets.IntSlider(7, 5, 10, 1)):\n",
        "\n",
        "    X, y = train_set.data[subset_index, :], train_set.targets[subset_index]\n",
        "\n",
        "    hdims = [int(s) for s in hidden_dims.split(',')]\n",
        "    base_model = MLP(in_dim=784, out_dim=10, hidden_dims=hdims)\n",
        "\n",
        "    fig, axs = plt.subplots(1, 1, figsize=(5, 4))\n",
        "\n",
        "    for _ in tqdm(range(num_inits)):\n",
        "      model = copy.deepcopy(base_model)\n",
        "      random_update(model, noise_scale=2e-1)\n",
        "\n",
        "      loss_hist = np.zeros((max_steps, 2))\n",
        "      for step in range(max_steps):\n",
        "        loss = loss_fn(model(X), y)\n",
        "        gradient_update(loss, list(model.parameters()), lr=lr)\n",
        "        loss_hist[step] = np.array([step, loss.item()])\n",
        "\n",
        "      plt.plot(loss_hist[:, 0], loss_hist[:, 1])\n",
        "\n",
        "    plt.xlabel('Iteration')\n",
        "    plt.ylabel('Loss')\n",
        "    plt.ylim(0, 3)\n",
        "    plt.show()\n",
        "\n",
        "    num_params = sum([np.prod(_.shape) for _ in model.parameters()])\n",
        "    print('Number of paramaters in model:  ' + str(num_params))"
      ],
      "execution_count": 32,
      "outputs": [
        {
          "output_type": "display_data",
          "data": {
            "application/vnd.jupyter.widget-view+json": {
              "model_id": "085a7b4d56d744c9951d833d6c261d3d",
              "version_minor": 0,
              "version_major": 2
            },
            "text/plain": [
              "interactive(children=(IntSlider(value=150, description='max_steps', max=500, min=50, step=5), Dropdown(descrip…"
            ]
          },
          "metadata": {
            "tags": []
          }
        }
      ]
    },
    {
      "cell_type": "markdown",
      "metadata": {
        "execution": {},
        "id": "lb4PKarOPEnn"
      },
      "source": [
        "### Think! 5.1: Width and depth of the network\n",
        "\n",
        "- We see that as we increase the width/depth of the network, training becomes faster and more consistent across different initializations. What might be the reasons for this behavior? \n",
        "\n",
        "- What are some potential downsides of this approach to dealing with non-convexity? \n"
      ]
    },
    {
      "cell_type": "code",
      "metadata": {
        "cellView": "form",
        "execution": {},
        "id": "vH7Gkz4-PEnn",
        "outputId": "89ce696c-7084-4af6-fcf7-02c595792ff7",
        "colab": {
          "base_uri": "https://localhost:8080/",
          "height": 93,
          "referenced_widgets": [
            "f9f9191647354e9d95560bb9cc5ed631",
            "260bd189c9a04b428a607c866f46158c",
            "eef5806c2f8342e688151b5000c42bf3",
            "a9c8be7f8c674944bda7a90e85c4f11f",
            "f1e790b4f2274208a1fb805e84cd9a9d",
            "461d6bfdc4ca4c28ab55c0e71299daa4"
          ]
        }
      },
      "source": [
        "# @title Student Response\n",
        "from ipywidgets import widgets\n",
        "\n",
        "\n",
        "text=widgets.Textarea(\n",
        "   value='Type your answer here and click on `Submit!`',\n",
        "   placeholder='Type something',\n",
        "   description='',\n",
        "   disabled=False\n",
        ")\n",
        "\n",
        "button = widgets.Button(description=\"Submit!\")\n",
        "\n",
        "display(text,button)\n",
        "\n",
        "def on_button_clicked(b):\n",
        "   atform.add_answer('q3' , text.value)\n",
        "   print(\"Submission successful!\")"
      ],
      "execution_count": 33,
      "outputs": [
        {
          "output_type": "display_data",
          "data": {
            "application/vnd.jupyter.widget-view+json": {
              "model_id": "f9f9191647354e9d95560bb9cc5ed631",
              "version_minor": 0,
              "version_major": 2
            },
            "text/plain": [
              "Textarea(value='Type your answer here and click on `Submit!`', placeholder='Type something')"
            ]
          },
          "metadata": {
            "tags": []
          }
        },
        {
          "output_type": "display_data",
          "data": {
            "application/vnd.jupyter.widget-view+json": {
              "model_id": "a9c8be7f8c674944bda7a90e85c4f11f",
              "version_minor": 0,
              "version_major": 2
            },
            "text/plain": [
              "Button(description='Submit!', style=ButtonStyle())"
            ]
          },
          "metadata": {
            "tags": []
          }
        }
      ]
    },
    {
      "cell_type": "markdown",
      "metadata": {
        "execution": {},
        "id": "W1Jv1a5SPEnn"
      },
      "source": [
        "[*Click for solution*](https://github.com/NeuromatchAcademy/course-content-dl/tree/main//tutorials/W1D4_Optimization/solutions/W1D4_Tutorial1_Solution_d69ca8d7.py)\n",
        "\n"
      ]
    },
    {
      "cell_type": "markdown",
      "metadata": {
        "execution": {},
        "id": "hkckKDdkPEnn"
      },
      "source": [
        "---\n",
        "# Section 6: Full gradients are expensive\n",
        "\n",
        "*Time estimate: ~25 mins*"
      ]
    },
    {
      "cell_type": "markdown",
      "metadata": {
        "execution": {},
        "id": "jyY3uUd-PEnn"
      },
      "source": [
        "So far we have used only a small (fixed) subset of 500 training examples to perform the updates on the model parameters in our quest to minimize the loss. But what if we decided to use the training set? Do our current approach scale to datasets with tens of thousands, or millions of datapoints?\n",
        "\n",
        "In this section we explore an efficient alternative to avoid having to perform computations on all the training examples before performing a parameter update."
      ]
    },
    {
      "cell_type": "code",
      "metadata": {
        "cellView": "form",
        "execution": {},
        "id": "pYO8aAxGPEnn",
        "outputId": "02cc9481-c5ad-4e4a-eebf-7cbf2f720009",
        "colab": {
          "base_uri": "https://localhost:8080/",
          "height": 580,
          "referenced_widgets": [
            "3379c0ceea5241a2bd16444f13f38ee6",
            "d02490cd222448adadeffef1869c5625",
            "3895b371589e4d22985122c389d49d33",
            "b22659e269a64ec4bb208ccf08ca509c",
            "98d3d65e1f0b473995f592395af80ced",
            "f1aa1dc69f8e4bc3911019911cd2ea50"
          ]
        }
      },
      "source": [
        "# @title Video 6: Mini-batches\n",
        "from ipywidgets import widgets\n",
        "\n",
        "out2 = widgets.Output()\n",
        "with out2:\n",
        "  from IPython.display import IFrame\n",
        "  class BiliVideo(IFrame):\n",
        "    def __init__(self, id, page=1, width=400, height=300, **kwargs):\n",
        "      self.id=id\n",
        "      src = \"https://player.bilibili.com/player.html?bvid={0}&page={1}\".format(id, page)\n",
        "      super(BiliVideo, self).__init__(src, width, height, **kwargs)\n",
        "\n",
        "  video = BiliVideo(id=f\"BV1ty4y1T7Uh\", width=854, height=480, fs=1)\n",
        "  print(\"Video available at https://www.bilibili.com/video/{0}\".format(video.id))\n",
        "  display(video)\n",
        "\n",
        "out1 = widgets.Output()\n",
        "with out1:\n",
        "  from IPython.display import YouTubeVideo\n",
        "  video = YouTubeVideo(id=f\"hbqUxpNBUGk\", width=854, height=480, fs=1, rel=0)\n",
        "  print(\"Video available at https://youtube.com/watch?v=\" + video.id)\n",
        "  display(video)\n",
        "\n",
        "out = widgets.Tab([out1, out2])\n",
        "out.set_title(0, 'Youtube')\n",
        "out.set_title(1, 'Bilibili')\n",
        "\n",
        "# add event to airtable\n",
        "atform.add_event(\"Video 6: Mini-batches\")\n",
        "\n",
        "display(out)"
      ],
      "execution_count": 34,
      "outputs": [
        {
          "output_type": "display_data",
          "data": {
            "application/vnd.jupyter.widget-view+json": {
              "model_id": "3379c0ceea5241a2bd16444f13f38ee6",
              "version_minor": 0,
              "version_major": 2
            },
            "text/plain": [
              "Tab(children=(Output(), Output()), _titles={'0': 'Youtube', '1': 'Bilibili'})"
            ]
          },
          "metadata": {
            "tags": []
          }
        }
      ]
    },
    {
      "cell_type": "markdown",
      "metadata": {
        "execution": {},
        "id": "8beghLdhPEnn"
      },
      "source": [
        "## Interactive Demo 6.1: Cost of computation\n",
        "\n",
        "Evaluating a neural network is a relatively fast process. However, when repeated millions of times, the computational cost of performing forward and backward passes through the network starts to become significant.\n",
        "\n",
        "In the visualization below, we show the time (averaged over 5 runs) of computing a forward and backward pass with a changing number of input examples. Choose from the different options in the drop-down box and note how the vertical scale changes depending on the size of the network. \n",
        "\n",
        "**Remarks:** Note that the computational cost of a forward pass shows a clear linear relationship with the number of input examples, and the cost of the corresponding backward pass exhibits a similar computational complexity."
      ]
    },
    {
      "cell_type": "code",
      "metadata": {
        "cellView": "form",
        "execution": {},
        "id": "PwCssTnoPEnn",
        "outputId": "c676fd38-e6a9-471a-a8b9-6890f66d4d46",
        "colab": {
          "base_uri": "https://localhost:8080/",
          "height": 319,
          "referenced_widgets": [
            "4443ba8b2c9348ba82f3d6077ed7f3e1",
            "8dfcd654f9a84626bcd902f7aa36830d",
            "3a1679e308e446709fb72097fa412abd",
            "04c72ecbc562484e831ed86b35cfa678",
            "5429322e8f3d48ac80c122b2f5ac07f8",
            "52633d5c9103442f9a00dbeaae000079",
            "7f0d5a0f75524414a9db8aaeb4accafb"
          ]
        }
      },
      "source": [
        "# @markdown Execute this cell to enable the widget!\n",
        "\n",
        "def measure_update_time(model, num_points):\n",
        "  X, y = train_set.data[:num_points], train_set.targets[:num_points]\n",
        "  start_time = time.time()\n",
        "  loss = loss_fn(model(X), y)\n",
        "  loss_time = time.time()\n",
        "  gradient_update(loss, list(model.parameters()), lr=0)\n",
        "  gradient_time = time.time()\n",
        "  return loss_time - start_time, gradient_time - loss_time\n",
        "\n",
        "\n",
        "@widgets.interact\n",
        "def computation_time(hidden_dims=widgets.Dropdown(options=[\"1\", \"100\", \"50, 50\"],\n",
        "                                                  value=\"100\")):\n",
        "\n",
        "  hdims = [int(s) for s in hidden_dims.split(',')]\n",
        "  model = MLP(in_dim=784, out_dim=10, hidden_dims=hdims)\n",
        "\n",
        "  NUM_POINTS = [1, 5, 10, 100, 200, 500, 1000, 5000, 10000, 20000, 30000, 50000]\n",
        "  times_list = []\n",
        "  for _ in range(5):\n",
        "    times_list.append(np.array([measure_update_time(model, _) for _ in NUM_POINTS]))\n",
        "\n",
        "  times = np.array(times_list).mean(axis=0)\n",
        "\n",
        "  fig, axs = plt.subplots(1, 1, figsize=(5,4))\n",
        "  plt.plot(NUM_POINTS, times[:, 0], label='Forward')\n",
        "  plt.plot(NUM_POINTS, times[:, 1], label='Backward')\n",
        "  plt.xlabel('Number of data points')\n",
        "  plt.ylabel('Seconds')\n",
        "  plt.legend()"
      ],
      "execution_count": 35,
      "outputs": [
        {
          "output_type": "display_data",
          "data": {
            "application/vnd.jupyter.widget-view+json": {
              "model_id": "4443ba8b2c9348ba82f3d6077ed7f3e1",
              "version_minor": 0,
              "version_major": 2
            },
            "text/plain": [
              "interactive(children=(Dropdown(description='hidden_dims', index=1, options=('1', '100', '50, 50'), value='100'…"
            ]
          },
          "metadata": {
            "tags": []
          }
        }
      ]
    },
    {
      "cell_type": "markdown",
      "metadata": {
        "execution": {},
        "id": "X4al3KsrPEnn"
      },
      "source": [
        "## Coding Exercise 6: Implement minibatch sampling\n",
        "\n",
        "Complete the code in `sample_minibatch` so as to produce IID subsets of the training set of the desired size. (This is _not_ a trick question.) "
      ]
    },
    {
      "cell_type": "code",
      "metadata": {
        "execution": {},
        "id": "hV_lshoRPEnn",
        "outputId": "35f3efa3-b09e-4f9a-d0f1-d3db8580762e",
        "colab": {
          "base_uri": "https://localhost:8080/"
        }
      },
      "source": [
        "def sample_minibatch(input_data, target_data, num_points=100):\n",
        "  \"\"\"Sample a minibatch of size num_point from the provided input-target data\n",
        "\n",
        "  Args:\n",
        "    input_data (tensor): Multi-dimensional tensor containing the input data\n",
        "    target_data (tensor): 1D tensor containing the class labels\n",
        "    num_points (int): Number of elements to be included in minibatch\n",
        "\n",
        "  Returns:\n",
        "    batch_inputs (tensor): Minibatch inputs\n",
        "    batch_targets (tensor): Minibatch targets\n",
        "  \"\"\"\n",
        "  #################################################\n",
        "  ## TODO for students: sample minibatch of data ##\n",
        "  #raise NotImplementedError(\"Student exercise: implement gradient update\")\n",
        "  #################################################\n",
        "  # Sample a collection of IID indices from the existing data\n",
        "  batch_indices = np.random.choice(len(input_data), num_points)\n",
        "  # Use batch_indices to extract entries from the input and target data tensors\n",
        "  batch_inputs = input_data[batch_indices]\n",
        "  batch_targets = target_data[batch_indices]\n",
        "\n",
        "  return batch_inputs, batch_targets\n",
        "\n",
        "# add event to airtable\n",
        "atform.add_event('Coding Exercise 6: Implement minibatch sampling')\n",
        "\n",
        "\n",
        "## Uncomment to test your function\n",
        "x_batch, y_batch = sample_minibatch(X, y, num_points=100)\n",
        "print(f\"The input shape is {x_batch.shape} and the target shape is: {y_batch.shape}\")"
      ],
      "execution_count": 36,
      "outputs": [
        {
          "output_type": "stream",
          "text": [
            "The input shape is torch.Size([100, 28, 28]) and the target shape is: torch.Size([100])\n"
          ],
          "name": "stdout"
        }
      ]
    },
    {
      "cell_type": "markdown",
      "metadata": {
        "execution": {},
        "id": "P_4gWwQePEno"
      },
      "source": [
        "[*Click for solution*](https://github.com/NeuromatchAcademy/course-content-dl/tree/main//tutorials/W1D4_Optimization/solutions/W1D4_Tutorial1_Solution_6bf245d5.py)\n",
        "\n"
      ]
    },
    {
      "cell_type": "markdown",
      "metadata": {
        "execution": {},
        "id": "U6LpHfuXPEno"
      },
      "source": [
        "```\n",
        "The input shape is torch.Size([100, 28, 28]) and the target shape is: torch.Size([100])\n",
        "```"
      ]
    },
    {
      "cell_type": "markdown",
      "metadata": {
        "execution": {},
        "id": "Ibkeo6PzPEno"
      },
      "source": [
        "## Interactive Demo 6.2: *Compare* different minibatch sizes\n",
        "\n",
        "What are the trade-offs induced by the choice of minibatch size? The interactive plot below shows the training evolution of a 2-hidden layer MLP with 100 hidden units in each hidden layer. Different plots correspond to a different choice of minibatch size. We have a fixed time budget for all the cases, reflected in the horizontal axes of these plots."
      ]
    },
    {
      "cell_type": "code",
      "metadata": {
        "cellView": "form",
        "execution": {},
        "id": "thLbgafMPEno",
        "outputId": "6c6e26b2-e144-4584-d963-1c164649f263",
        "colab": {
          "base_uri": "https://localhost:8080/",
          "height": 145,
          "referenced_widgets": [
            "52022fa69eb44a89a866ff6f3fad4ada",
            "4304d78e14844b98ba4ccd0572f522dd",
            "f0ecf7c966314c73802f204b8c04be94",
            "6a35b38a010842ad8d98b105719f47a0",
            "627bb286542b47fcbe1dc0f1a68ff2fc",
            "e41e149619bf45f3b1e2695995b5f5f8",
            "2d7c0dacea70469087bab2663bb2611e",
            "948a3681cd90411c82675595a99c764c",
            "c199a622942c4434bd78ea9e155baff5",
            "3ec6451ce9354289ab48010a69ec0cd0",
            "5f19fda7e17b4a5eb66c078c17c9b5da",
            "d81fd88da54b4830905165d419007726",
            "26ab5e2f9a3140a8987b75c4cd0ba56d",
            "3c047abfc79a43b5bb85ecd24c5d91f1",
            "0a3373db2f214eca9b98293ca20b9d38",
            "60e6faa3571941189d3175b1609b217b"
          ]
        }
      },
      "source": [
        "# @markdown Execute this cell to enable the widget!\n",
        "\n",
        "@widgets.interact_manual\n",
        "def minibatch_experiment(batch_sizes='20, 250, 1000',\n",
        "                         lrs='5e-3, 5e-3, 5e-3',\n",
        "                         time_budget=widgets.Dropdown(options=[\"2.5\", \"5\", \"10\"],\n",
        "                                                      value=\"2.5\")):\n",
        "\n",
        "  batch_sizes = [int(s) for s in batch_sizes.split(',')]\n",
        "  lrs = [float(s) for s in lrs.split(',')]\n",
        "\n",
        "  LOSS_HIST = {_:[] for _ in batch_sizes}\n",
        "\n",
        "  X, y = train_set.data, train_set.targets\n",
        "  base_model = MLP(in_dim=784, out_dim=10, hidden_dims=[100, 100])\n",
        "\n",
        "  for id, batch_size in enumerate(tqdm(batch_sizes)):\n",
        "    start_time = time.time()\n",
        "    # Create a new copy of the model for each batch size\n",
        "    model = copy.deepcopy(base_model)\n",
        "    params = list(model.parameters())\n",
        "    lr = lrs[id]\n",
        "    # Fixed budget per choice of batch size\n",
        "    while (time.time() - start_time) < float(time_budget):\n",
        "      data, labels = sample_minibatch(X, y, batch_size)\n",
        "      loss = loss_fn(model(data), labels)\n",
        "      gradient_update(loss, params, lr=lr)\n",
        "      LOSS_HIST[batch_size].append([time.time() - start_time,\n",
        "                                    loss.item()])\n",
        "\n",
        "  fig, axs = plt.subplots(1, len(batch_sizes), figsize=(10, 3))\n",
        "  for ax, batch_size in zip(axs, batch_sizes):\n",
        "    plot_data = np.array(LOSS_HIST[batch_size])\n",
        "    ax.plot(plot_data[:, 0], plot_data[:, 1], label=batch_size,\n",
        "            alpha=0.8)\n",
        "    ax.set_title('Batch size: ' + str(batch_size))\n",
        "    ax.set_xlabel('Seconds')\n",
        "    ax.set_ylabel('Loss')\n",
        "  plt.show()"
      ],
      "execution_count": 37,
      "outputs": [
        {
          "output_type": "display_data",
          "data": {
            "application/vnd.jupyter.widget-view+json": {
              "model_id": "52022fa69eb44a89a866ff6f3fad4ada",
              "version_minor": 0,
              "version_major": 2
            },
            "text/plain": [
              "interactive(children=(Text(value='20, 250, 1000', description='batch_sizes'), Text(value='5e-3, 5e-3, 5e-3', d…"
            ]
          },
          "metadata": {
            "tags": []
          }
        }
      ]
    },
    {
      "cell_type": "markdown",
      "metadata": {
        "execution": {},
        "id": "Mm5BzJw5PEno"
      },
      "source": [
        "**Remarks:** SGD works! We have an algorithm that can be applied (with the due precautions) to learn datasets of arbitrary size. \n",
        "\n",
        "However, **note the diference in the vertical scale** across the plots above. When using a larger minibatch, we can perform fewer parameter updates as the forward and backward passes are more expensive.\n",
        "\n",
        "This highlights the interplay between the minibatch size and the learning rate: when our minibatch is larger, we have a more confident estimator of the direction to move, and thus can afford a larger learning rate. On the other hand, extremely small minibatches are very fast computationally but are not representative of the data distribution and yield estimations of the gradient with high variance.\n",
        "\n",
        "We encourage you to tune the value of the learning rate for each of the minibatch sizes in the previous demo, to achieve a training loss steadily below 0.5 within 5 seconds."
      ]
    },
    {
      "cell_type": "markdown",
      "metadata": {
        "execution": {},
        "id": "ifpJUVu7PEno"
      },
      "source": [
        "---\n",
        "# Section 7: Adaptive methods\n",
        "\n",
        "*Time estimate: ~25 mins*"
      ]
    },
    {
      "cell_type": "markdown",
      "metadata": {
        "execution": {},
        "id": "2PW_HbtIPEno"
      },
      "source": [
        "As of now, you should be aware that there are many knobs to turn when working on a machine learning problem. Some of these relate to the optimization algorithm, to the choice of model, or to the objective to minimize. Here are some prototypical examples:\n",
        "\n",
        "- Problem: loss function, regularization coefficients (Day 5)\n",
        "- Model: architecture, activations function\n",
        "- Optimizer: learning rate, batch size, momentum coefficient\n",
        "\n",
        "We concentrate on the choices that are directly related with optimization. In particular, we will explore some _automatic_ methods for setting the learning rate, in a way that fixes the poor-conditioning problem and is robust across different problems."
      ]
    },
    {
      "cell_type": "code",
      "metadata": {
        "cellView": "form",
        "execution": {},
        "id": "8BYN_aINPEno",
        "outputId": "54c3859c-5c9f-4202-9731-b02cfb93f26d",
        "colab": {
          "base_uri": "https://localhost:8080/",
          "height": 580,
          "referenced_widgets": [
            "99ff62da256d49bc8b8cd0ad53510e53",
            "09cddda6a16f4933a547d6e70343dc1e",
            "05ae4eb16dfc49c78a66fa20ae722068",
            "d62a17a7e3a648b68581f8a821c3861d",
            "5042ca0bef9f4db4ad68c8a0369530dd",
            "7735729d95914c079bd1ba7eb5055b76"
          ]
        }
      },
      "source": [
        "# @title Video 7: Adaptive Methods\n",
        "from ipywidgets import widgets\n",
        "\n",
        "out2 = widgets.Output()\n",
        "with out2:\n",
        "  from IPython.display import IFrame\n",
        "  class BiliVideo(IFrame):\n",
        "    def __init__(self, id, page=1, width=400, height=300, **kwargs):\n",
        "      self.id=id\n",
        "      src = \"https://player.bilibili.com/player.html?bvid={0}&page={1}\".format(id, page)\n",
        "      super(BiliVideo, self).__init__(src, width, height, **kwargs)\n",
        "\n",
        "  video = BiliVideo(id=f\"BV1eq4y1W7JG\", width=854, height=480, fs=1)\n",
        "  print(\"Video available at https://www.bilibili.com/video/{0}\".format(video.id))\n",
        "  display(video)\n",
        "\n",
        "out1 = widgets.Output()\n",
        "with out1:\n",
        "  from IPython.display import YouTubeVideo\n",
        "  video = YouTubeVideo(id=f\"Zr6r2kfmQUM\", width=854, height=480, fs=1, rel=0)\n",
        "  print(\"Video available at https://youtube.com/watch?v=\" + video.id)\n",
        "  display(video)\n",
        "\n",
        "out = widgets.Tab([out1, out2])\n",
        "out.set_title(0, 'Youtube')\n",
        "out.set_title(1, 'Bilibili')\n",
        "\n",
        "# add event to airtable\n",
        "atform.add_event('Video 7: Adaptive Methods')\n",
        "\n",
        "display(out)"
      ],
      "execution_count": 38,
      "outputs": [
        {
          "output_type": "display_data",
          "data": {
            "application/vnd.jupyter.widget-view+json": {
              "model_id": "99ff62da256d49bc8b8cd0ad53510e53",
              "version_minor": 0,
              "version_major": 2
            },
            "text/plain": [
              "Tab(children=(Output(), Output()), _titles={'0': 'Youtube', '1': 'Bilibili'})"
            ]
          },
          "metadata": {
            "tags": []
          }
        }
      ]
    },
    {
      "cell_type": "markdown",
      "metadata": {
        "execution": {},
        "id": "LydNKNYSPEnp"
      },
      "source": [
        "## Coding Exercise 7: Implement RMSprop\n",
        "\n",
        "In this exercise you will implement the update of the RMSprop optimizer:\n",
        "\n",
        "\\begin{align}\n",
        "v_{t} &= \\alpha v_{t-1} + (1 - \\alpha) \\nabla J(w_t)^2 \\\\ \\\\\n",
        "w_{t+1} &= w_t - \\eta \\frac{\\nabla J(w_t)}{\\sqrt{v_t + \\epsilon}}\n",
        "\\end{align}\n",
        "\n",
        "where the non-standard operations (division of two vectors, squaring a vector, etc) are to be interpreted as element-wise operations, i.e., the operation is applied to each (pair of) entry[ies] of the vector(s) considered as real number(s).\n",
        "\n",
        "Here, the $\\epsilon$ hyperparameter provides numerical estability to the algorithm, by preventing the learning rate to become too big when $v_t$ is small. Typically, we set $\\epsilon$ to a default small value, like $10^{-8}$.  "
      ]
    },
    {
      "cell_type": "code",
      "metadata": {
        "execution": {},
        "id": "Pu_HXdA8PEnp",
        "outputId": "961edb9b-4a41-4044-da2f-6cfa9b30437c",
        "colab": {
          "base_uri": "https://localhost:8080/"
        }
      },
      "source": [
        "def rmsprop_update(loss, params, grad_sq, lr=1e-3, alpha=0.8, epsilon=1e-8):\n",
        "  \"\"\"Perform an RMSprop update on a collection of parameters\n",
        "\n",
        "  Args:\n",
        "    loss (tensor): A scalar tensor containing the loss whose gradient will be computed\n",
        "    params (iterable): Collection of parameters with respect to which we compute gradients\n",
        "    grad_sq (iterable): Moving average of squared gradients\n",
        "    lr (float): Scalar specifying the learning rate or step-size for the update\n",
        "    alpha (float): Moving average parameter\n",
        "    epsilon (float): for numerical estability\n",
        "  \"\"\"\n",
        "  # Clear up gradients as Pytorch automatically accumulates gradients from\n",
        "  # successive backward calls\n",
        "  zero_grad(params)\n",
        "  # Compute gradients on given objective\n",
        "  loss.backward()\n",
        "\n",
        "  with torch.no_grad():\n",
        "    for (par, gsq) in zip(params, grad_sq):\n",
        "      #################################################\n",
        "      ## TODO for students: update the value of the parameter ##\n",
        "      # Use gsq.data and par.grad\n",
        "      # raise NotImplementedError(\"Student exercise: implement gradient update\")\n",
        "      #################################################\n",
        "      # Update estimate of gradient variance\n",
        "      gsq.data = alpha * gsq.data + ((1-alpha) * par.grad**2)\n",
        "      #gsq.data = alpha * gsq.data + (1 - alpha) * par.grad**2\n",
        "      # Update parameters\n",
        "      par.data -=  lr*(par.grad/((epsilon + gsq.data) ** 0.5))\n",
        "                   \n",
        "\n",
        "\n",
        "# add event to airtable\n",
        "atform.add_event('Coding Exercise 7: Implement RMSprop')\n",
        "\n",
        "\n",
        "set_seed(seed=SEED)\n",
        "model3 = MLP(in_dim=784, out_dim=10, hidden_dims=[])\n",
        "print('\\n The model3 parameters before the update are: \\n')\n",
        "print_params(model3)\n",
        "loss = loss_fn(model3(X), y)\n",
        "# Intialize the moving average of squared gradients\n",
        "grad_sq = [1e-6*i for i in list(model3.parameters())]\n",
        "\n",
        "\n",
        "\n",
        "## Uncomment below to test your function\n",
        "rmsprop_update(loss, list(model3.parameters()), grad_sq=grad_sq, lr=1e-3)\n",
        "print('\\n The model3 parameters after the update are: \\n')\n",
        "print_params(model3)"
      ],
      "execution_count": 39,
      "outputs": [
        {
          "output_type": "stream",
          "text": [
            "Random seed 2021 has been set.\n",
            "\n",
            " The model3 parameters before the update are: \n",
            "\n",
            "main.0.weight tensor([[-0.0264,  0.0010,  0.0173,  ...,  0.0297,  0.0278, -0.0221],\n",
            "        [-0.0040, -0.0295, -0.0086,  ..., -0.0070,  0.0254, -0.0233],\n",
            "        [ 0.0240, -0.0231,  0.0342,  ...,  0.0124,  0.0270, -0.0180],\n",
            "        ...,\n",
            "        [-0.0005,  0.0157,  0.0111,  ...,  0.0144, -0.0301, -0.0144],\n",
            "        [ 0.0181,  0.0303,  0.0255,  ..., -0.0110, -0.0175,  0.0205],\n",
            "        [ 0.0208, -0.0353, -0.0183,  ..., -0.0271,  0.0099,  0.0003]])\n",
            "main.0.bias tensor([-0.0290, -0.0033,  0.0100, -0.0320,  0.0022,  0.0221,  0.0307,  0.0243,\n",
            "         0.0159, -0.0064])\n",
            "\n",
            " The model3 parameters after the update are: \n",
            "\n",
            "main.0.weight tensor([[-0.0242,  0.0032,  0.0196,  ...,  0.0320,  0.0300, -0.0199],\n",
            "        [-0.0063, -0.0318, -0.0109,  ..., -0.0093,  0.0232, -0.0255],\n",
            "        [ 0.0218, -0.0253,  0.0320,  ...,  0.0102,  0.0248, -0.0203],\n",
            "        ...,\n",
            "        [-0.0027,  0.0135,  0.0088,  ...,  0.0122, -0.0323, -0.0166],\n",
            "        [ 0.0159,  0.0281,  0.0233,  ..., -0.0133, -0.0197,  0.0182],\n",
            "        [ 0.0228, -0.0328, -0.0160,  ..., -0.0247,  0.0120,  0.0024]])\n",
            "main.0.bias tensor([-0.0312, -0.0011,  0.0122, -0.0342,  0.0045,  0.0199,  0.0285,  0.0266,\n",
            "         0.0182, -0.0086])\n"
          ],
          "name": "stdout"
        }
      ]
    },
    {
      "cell_type": "markdown",
      "metadata": {
        "execution": {},
        "id": "il7iqRhFPEnp"
      },
      "source": [
        "[*Click for solution*](https://github.com/NeuromatchAcademy/course-content-dl/tree/main//tutorials/W1D4_Optimization/solutions/W1D4_Tutorial1_Solution_b4a7e579.py)\n",
        "\n"
      ]
    },
    {
      "cell_type": "markdown",
      "metadata": {
        "execution": {},
        "id": "xD19soktPEnp"
      },
      "source": [
        "```\n",
        " The model3 parameters after the update are: \n",
        "\n",
        "main.0.weight tensor([[-0.0240,  0.0031,  0.0193,  ...,  0.0316,  0.0297, -0.0198],\n",
        "        [-0.0063, -0.0318, -0.0109,  ..., -0.0093,  0.0232, -0.0255],\n",
        "        [ 0.0218, -0.0253,  0.0320,  ...,  0.0102,  0.0248, -0.0203],\n",
        "        ...,\n",
        "        [-0.0027,  0.0136,  0.0089,  ...,  0.0123, -0.0324, -0.0166],\n",
        "        [ 0.0159,  0.0281,  0.0233,  ..., -0.0133, -0.0197,  0.0182],\n",
        "        [ 0.0186, -0.0376, -0.0205,  ..., -0.0293,  0.0077, -0.0019]])\n",
        "main.0.bias tensor([-0.0313, -0.0011,  0.0122, -0.0342,  0.0045,  0.0199,  0.0329,  0.0265,\n",
        "         0.0182, -0.0041])\n",
        "```"
      ]
    },
    {
      "cell_type": "markdown",
      "metadata": {
        "execution": {},
        "id": "Xy4kz_Z9PEnp"
      },
      "source": [
        "## Interactive Demo 7: Compare optimizers\n",
        "\n",
        "Below, we compare your implementations of SGD, momentum and RMSprop. If you have successfully coded all the exercises so far: congrats! You are now *in the know* of some of the most commonly used and powerful tools of optimization for deep learning. "
      ]
    },
    {
      "cell_type": "code",
      "metadata": {
        "cellView": "form",
        "execution": {},
        "id": "O3atvLNpPEnp",
        "outputId": "5648e131-eb65-479d-d2e2-d594ddeeafe1",
        "colab": {
          "base_uri": "https://localhost:8080/",
          "height": 145,
          "referenced_widgets": [
            "f6778288f80f47e18ea3a50f4bf2bb22",
            "29c77b0235614739a11045abb9a78900",
            "5ed517704e804d4396b56b693eb6c5ce",
            "6f6c3428bcb94bee94422a2e2866e3b0",
            "252a51eb57584d6d9e180db89f7f523b",
            "9d93931f8ca646648c9ba81d919fcefd",
            "749e96044e084e949c39cdaf325d7b2a",
            "4facc85c5ca94bb0b9f63da4ebeb5f36",
            "4c7b2d08eba2495696a037093caa2a7e",
            "fcdfb478f68c4a3b9893d97cf3284e63",
            "25c0f07ba86749239f949729dfbcf9de",
            "1344db4072404da0915d50c1c0bf740a",
            "08283fee5afd46eb9ba895f68fffd599",
            "48ff5e713f614de3bbc94cbd3ef97dc5",
            "bcfc184e52f44d6da0bfab9b843a2d5a",
            "8df8316193474fed8fd05f8b07ec608c"
          ]
        }
      },
      "source": [
        "# @markdown Execute this cell to enable the widget!\n",
        "X, y = train_set.data, train_set.targets\n",
        "\n",
        "@widgets.interact_manual\n",
        "def compare_optimizers(\n",
        "    batch_size=(25, 250, 5),\n",
        "    lr=widgets.FloatLogSlider(value=2e-3, min=-5, max=0),\n",
        "    max_steps=(50, 500, 5)):\n",
        "\n",
        "  SGD_DICT = [gradient_update, 'SGD', 'black', '-', {'lr': lr}]\n",
        "  MOM_DICT = [momentum_update, 'Momentum', 'red', '--', {'lr': lr, 'beta': 0.9}]\n",
        "  RMS_DICT = [rmsprop_update, 'RMSprop', 'fuchsia', '-', {'lr': lr, 'alpha': 0.8}]\n",
        "\n",
        "  ALL_DICTS = [SGD_DICT, MOM_DICT, RMS_DICT]\n",
        "\n",
        "  base_model = MLP(in_dim=784, out_dim=10, hidden_dims=[100, 100])\n",
        "\n",
        "  LOSS_HIST = {}\n",
        "\n",
        "  for opt_dict in tqdm(ALL_DICTS):\n",
        "    update_fn, opt_name, color, lstyle, kwargs = opt_dict\n",
        "    LOSS_HIST[opt_name] = []\n",
        "\n",
        "    model = copy.deepcopy(base_model)\n",
        "    params = list(model.parameters())\n",
        "\n",
        "    if opt_name != 'SGD':\n",
        "      aux_tensors = [torch.zeros_like(_) for _ in params]\n",
        "\n",
        "    for step in range(max_steps):\n",
        "      data, labels = sample_minibatch(X, y, batch_size)\n",
        "      loss = loss_fn(model(data), labels)\n",
        "      if opt_name == 'SGD':\n",
        "        update_fn(loss, params, **kwargs)\n",
        "      else:\n",
        "        update_fn(loss, params, aux_tensors, **kwargs)\n",
        "      LOSS_HIST[opt_name].append(loss.item())\n",
        "\n",
        "  fig, axs = plt.subplots(1, len(ALL_DICTS), figsize=(9, 3))\n",
        "  for ax, optim_dict in zip(axs, ALL_DICTS):\n",
        "    opt_name = optim_dict[1]\n",
        "    ax.plot(range(max_steps), LOSS_HIST[opt_name], alpha=0.8)\n",
        "    ax.set_title(opt_name)\n",
        "    ax.set_xlabel('Iteration')\n",
        "    ax.set_ylabel('Loss')\n",
        "    ax.set_ylim(0, 2.5)\n",
        "  plt.show()"
      ],
      "execution_count": 40,
      "outputs": [
        {
          "output_type": "display_data",
          "data": {
            "application/vnd.jupyter.widget-view+json": {
              "model_id": "f6778288f80f47e18ea3a50f4bf2bb22",
              "version_minor": 0,
              "version_major": 2
            },
            "text/plain": [
              "interactive(children=(IntSlider(value=135, description='batch_size', max=250, min=25, step=5), FloatLogSlider(…"
            ]
          },
          "metadata": {
            "tags": []
          }
        }
      ]
    },
    {
      "cell_type": "markdown",
      "metadata": {
        "execution": {},
        "id": "C4B-tmMzPEnp"
      },
      "source": [
        "### **Discussion**\n",
        "\n",
        "Tune the 3 methods above in order to make each individually excel and discuss your findings. How do the methods compare in terms of robustness to small changes of the hyperparameters? How easy was it to find a good hyperparameter configuration? "
      ]
    },
    {
      "cell_type": "markdown",
      "metadata": {
        "execution": {},
        "id": "Xsw6MjB4PEnp"
      },
      "source": [
        "\n",
        "**Remarks:** Note that RMSprop is allowing us to use a 'per-dimension' learning rate _without having to tune one learning rate for each dimension **ourselves**_. The method uses information collected about the variance of the gradients throughout training to **adapt** the step size for each of the parameters automatically. The savings in tuning efforts of RMSprop over SGD or 'plain' momentum are undisputed on this task. \n",
        "\n",
        "Moreover, adaptive optimization methods are currently a highly active research domain, with many related algorithms like Adam, AMSgrad, Adagrad being used in practical application and theoretically investigated. "
      ]
    },
    {
      "cell_type": "markdown",
      "metadata": {
        "execution": {},
        "id": "yMUV1vB_PEnq"
      },
      "source": [
        "### Locality of Gradients\n",
        "As we've seen throught this tutorial, poor conditioning can be a significant burden on convergence to an optimum while using gradient based optimization. Of the methods we've seen to deal with this issue, notice how both momentum and adaptive learning rates incorperate past gradient values into their update schemes. Why do we use past values of our loss function's gradient while updating our current MLP weights?\n",
        "\n",
        "Recall from W1D2 that the gradient of a function, $\\nabla f(w_t)$, is a **local** property and computes the direction of maximum change of $f(w_t)$ at the point $w_t$. However, when we train our MLP model we are hoping to find the __global__ optimum for our training loss. By incorperating past values of our function's gradient into our optimization schemes, we use more information about the overall shape of our function than just a single gradient alone can provide. "
      ]
    },
    {
      "cell_type": "markdown",
      "metadata": {
        "execution": {},
        "id": "jRNSS1ebPEnq"
      },
      "source": [
        "## Think! 7: Loss function and optimization\n",
        "\n",
        "Can you think of other ways we can incorperate more information about our loss function into our optimization schemes?"
      ]
    },
    {
      "cell_type": "code",
      "metadata": {
        "cellView": "form",
        "execution": {},
        "id": "MzhFzcFcPEnq",
        "outputId": "4d18fa64-4b7f-4f64-ceac-5696cd75108a",
        "colab": {
          "base_uri": "https://localhost:8080/",
          "height": 93,
          "referenced_widgets": [
            "b3bdb78e280049d1aec08b2387e088c3",
            "d283cf50a25b4d94a0a6faa44b2c1266",
            "67f49ca7f75643c0acb1a819a42d00df",
            "a4a8e56a7c2b4352a9090777d403937b",
            "75b83863e35e40d8befc7882af706e78",
            "507ca23367624d5eaa230a13155c0299"
          ]
        }
      },
      "source": [
        "# @title Student Response\n",
        "from ipywidgets import widgets\n",
        "\n",
        "\n",
        "text=widgets.Textarea(\n",
        "   value='Type your answer here and click on `Submit!`',\n",
        "   placeholder='Type something',\n",
        "   description='',\n",
        "   disabled=False\n",
        ")\n",
        "\n",
        "button = widgets.Button(description=\"Submit!\")\n",
        "\n",
        "display(text,button)\n",
        "\n",
        "def on_button_clicked(b):\n",
        "   atform.add_answer('q4' , text.value)\n",
        "   print(\"Submission successful!\")"
      ],
      "execution_count": 41,
      "outputs": [
        {
          "output_type": "display_data",
          "data": {
            "application/vnd.jupyter.widget-view+json": {
              "model_id": "b3bdb78e280049d1aec08b2387e088c3",
              "version_minor": 0,
              "version_major": 2
            },
            "text/plain": [
              "Textarea(value='Type your answer here and click on `Submit!`', placeholder='Type something')"
            ]
          },
          "metadata": {
            "tags": []
          }
        },
        {
          "output_type": "display_data",
          "data": {
            "application/vnd.jupyter.widget-view+json": {
              "model_id": "a4a8e56a7c2b4352a9090777d403937b",
              "version_minor": 0,
              "version_major": 2
            },
            "text/plain": [
              "Button(description='Submit!', style=ButtonStyle())"
            ]
          },
          "metadata": {
            "tags": []
          }
        }
      ]
    },
    {
      "cell_type": "markdown",
      "metadata": {
        "execution": {},
        "id": "V_9I-hWhPEnq"
      },
      "source": [
        "[*Click for solution*](https://github.com/NeuromatchAcademy/course-content-dl/tree/main//tutorials/W1D4_Optimization/solutions/W1D4_Tutorial1_Solution_a3f4354b.py)\n",
        "\n"
      ]
    },
    {
      "cell_type": "markdown",
      "metadata": {
        "execution": {},
        "id": "SxZSe8jnPEnq"
      },
      "source": [
        "---\n",
        "# Section 8: Ethical concerns\n",
        "\n",
        "*Time estimate: ~15mins*"
      ]
    },
    {
      "cell_type": "code",
      "metadata": {
        "cellView": "form",
        "execution": {},
        "id": "8BbCFfs8PEnq",
        "outputId": "517162b1-66c0-46ec-f196-2031912019ac",
        "colab": {
          "base_uri": "https://localhost:8080/",
          "height": 580,
          "referenced_widgets": [
            "f1e8c4ebfa034b45b3bbb23ff00f06f7",
            "f8966ffb69754cc58ee5fb9e3fbcf7c9",
            "7aa90a150b31480bb42dfcaf68119697",
            "2198965dc65449348bfe59f3461788bf",
            "a361d4ba82af4c08a37854ba5556797c",
            "e1fe23dc452a43fc865cdde4ace5f5f0"
          ]
        }
      },
      "source": [
        "# @title Video 8: Ethical concerns\n",
        "from ipywidgets import widgets\n",
        "\n",
        "out2 = widgets.Output()\n",
        "with out2:\n",
        "  from IPython.display import IFrame\n",
        "  class BiliVideo(IFrame):\n",
        "    def __init__(self, id, page=1, width=400, height=300, **kwargs):\n",
        "      self.id=id\n",
        "      src = \"https://player.bilibili.com/player.html?bvid={0}&page={1}\".format(id, page)\n",
        "      super(BiliVideo, self).__init__(src, width, height, **kwargs)\n",
        "\n",
        "  video = BiliVideo(id=f\"BV1TU4y1G7Je\", width=854, height=480, fs=1)\n",
        "  print(\"Video available at https://www.bilibili.com/video/{0}\".format(video.id))\n",
        "  display(video)\n",
        "\n",
        "out1 = widgets.Output()\n",
        "with out1:\n",
        "  from IPython.display import YouTubeVideo\n",
        "  video = YouTubeVideo(id=f\"0EthSI0cknI\", width=854, height=480, fs=1, rel=0)\n",
        "  print(\"Video available at https://youtube.com/watch?v=\" + video.id)\n",
        "  display(video)\n",
        "\n",
        "out = widgets.Tab([out1, out2])\n",
        "out.set_title(0, 'Youtube')\n",
        "out.set_title(1, 'Bilibili')\n",
        "\n",
        "# add event to airtable\n",
        "atform.add_event('Video 8: Ethical concerns')\n",
        "\n",
        "display(out)"
      ],
      "execution_count": 42,
      "outputs": [
        {
          "output_type": "display_data",
          "data": {
            "application/vnd.jupyter.widget-view+json": {
              "model_id": "f1e8c4ebfa034b45b3bbb23ff00f06f7",
              "version_minor": 0,
              "version_major": 2
            },
            "text/plain": [
              "Tab(children=(Output(), Output()), _titles={'0': 'Youtube', '1': 'Bilibili'})"
            ]
          },
          "metadata": {
            "tags": []
          }
        }
      ]
    },
    {
      "cell_type": "markdown",
      "metadata": {
        "execution": {},
        "id": "S7OWIomBPEnq"
      },
      "source": [
        "---\n",
        "# Summary\n",
        "\n",
        "* Optimization is necessary to create Deep Learning models that are guaranteed to converge \n",
        "* Stochastic Gradient Descent and Momentum are two commonly used optimization techniques\n",
        "* RMSProp is a way of adaptive hyper parameter tuning which utilises a per-dimension learning rate\n",
        "* Poor choice of optimization objectives can lead to unforeseen, undesirable consequences \n",
        "\n",
        "If you have time left, you can read the Bonus material, were we put all together and we compare our model with a benchmark model."
      ]
    },
    {
      "cell_type": "code",
      "metadata": {
        "cellView": "form",
        "execution": {},
        "id": "sSE1-J_HPEnq",
        "outputId": "8b5901f8-4791-4c20-9e2c-331bc778bf99",
        "colab": {
          "base_uri": "https://localhost:8080/",
          "height": 158
        }
      },
      "source": [
        "# @title Airtable Submission Link\n",
        "from IPython import display as IPydisplay\n",
        "IPydisplay.HTML(\n",
        "   f\"\"\"\n",
        " <div>\n",
        "   <a href= \"{atform.url()}\" target=\"_blank\">\n",
        "   <img src=\"https://github.com/NeuromatchAcademy/course-content-dl/blob/main/tutorials/static/SurveyButton.png?raw=1\"\n",
        " alt=\"button link end of day Survey\" style=\"width:410px\"></a>\n",
        "   </div>\"\"\" )"
      ],
      "execution_count": 43,
      "outputs": [
        {
          "output_type": "execute_result",
          "data": {
            "text/html": [
              "\n",
              " <div>\n",
              "   <a href= \"https://portal.neuromatchacademy.org/api/redirect/to/9548a279-c9f9-4586-b89c-f0ceceba5c14?data=eyJmb3JtX2lkIjogImFwcG43VmRQUnNlU29NWEVHIiwgInRhYmxlX25hbWUiOiAiVzFENF9UMSIsICJhbnN3ZXJzIjoge30sICJldmVudHMiOiBbeyJldmVudCI6ICJpbml0IiwgInRzIjogMTYyODk0ODY0Ni40MTM0MDI4fSwgeyJldmVudCI6ICJWaWRlbyAxOiBJbnRyb2R1Y3Rpb24iLCAidHMiOiAxNjI4OTQ4NjUxLjA1MjM0NzR9LCB7ImV2ZW50IjogIlZpZGVvIDI6IENhc2UgU3R1ZHkgLSBNTFAgQ2xhc3NpZmljYXRpb24iLCAidHMiOiAxNjI4OTQ4NjUxLjMzNDUwNDZ9LCB7ImV2ZW50IjogIlZpZGVvIDM6IE9wdGltaXphdGlvbiBvZiBhbiBPYmplY3RpdmUgRnVuY3Rpb24iLCAidHMiOiAxNjI4OTQ4NjY1Ljc5Nzk2OH0sIHsiZXZlbnQiOiAiQ29kaW5nIEV4ZXJjaXNlIDM6IEltcGxlbWVudCBncmFkaWVudCBkZXNjZW50IiwgInRzIjogMTYyODk0ODY2NS44NDQ0NTM4fSwgeyJldmVudCI6ICJWaWRlbyA0OiBNb21lbnR1bSIsICJ0cyI6IDE2Mjg5NDg2NjcuMTgzODk0Nn0sIHsiZXZlbnQiOiAiQ29kaW5nIEV4ZXJjaXNlIDQ6IEltcGxlbWVudCBtb21lbnR1bSIsICJ0cyI6IDE2Mjg5NDg2NjcuMzMxNjM5OH0sIHsiZXZlbnQiOiAiVmlkZW8gNTogT3ZlcnBhcmFtZXRyaXphdGlvbiIsICJ0cyI6IDE2Mjg5NDg2NzAuNjA2NzgxfSwgeyJldmVudCI6ICJWaWRlbyA2OiBNaW5pLWJhdGNoZXMiLCAidHMiOiAxNjI4OTQ4NjcxLjA2MDI2Mjd9LCB7ImV2ZW50IjogIkNvZGluZyBFeGVyY2lzZSA2OiBJbXBsZW1lbnQgbWluaWJhdGNoIHNhbXBsaW5nIiwgInRzIjogMTYyODk0ODY3NC4xMTQyMjA2fSwgeyJldmVudCI6ICJWaWRlbyA3OiBBZGFwdGl2ZSBNZXRob2RzIiwgInRzIjogMTYyODk0ODY3NC40ODc5NjF9LCB7ImV2ZW50IjogIkNvZGluZyBFeGVyY2lzZSA3OiBJbXBsZW1lbnQgUk1TcHJvcCIsICJ0cyI6IDE2Mjg5NDg2NzQuNTIwODcxMn0sIHsiZXZlbnQiOiAiVmlkZW8gODogRXRoaWNhbCBjb25jZXJucyIsICJ0cyI6IDE2Mjg5NDg2NzQuOTUxMTYyNn0sIHsiZXZlbnQiOiAidXJsIGdlbmVyYXRlZCIsICJ0cyI6IDE2Mjg5NDg2NzQuOTY0NTk0MX1dfQ%3D%3D\" target=\"_blank\">\n",
              "   <img src=\"https://github.com/NeuromatchAcademy/course-content-dl/blob/main/tutorials/static/SurveyButton.png?raw=1\"\n",
              " alt=\"button link end of day Survey\" style=\"width:410px\"></a>\n",
              "   </div>"
            ],
            "text/plain": [
              "<IPython.core.display.HTML object>"
            ]
          },
          "metadata": {
            "tags": []
          },
          "execution_count": 43
        }
      ]
    },
    {
      "cell_type": "markdown",
      "metadata": {
        "execution": {},
        "id": "yguUid4LPEnq"
      },
      "source": [
        "---\n",
        "# Bonus: Putting it all together\n",
        "\n",
        "*Time estimate: ~40 mins*"
      ]
    },
    {
      "cell_type": "markdown",
      "metadata": {
        "execution": {},
        "id": "FQkilCKOPEnr"
      },
      "source": [
        "We have progressively built a sophisticated optimization algorithm which is able to deal with a non-convex, poor-conditioned problem concerning tens of thousands of training examples. Now we present _you_ with a small challenge: beat us! :P\n",
        "\n",
        "Your mission is to train an MLP model that can compete with a benchmark model which we have pre-trained for you. In this section you will be able to use the full Pytorch power: loading the data, defining the model, sampling minibatches as well as Pytorch's **optimizer implementations**. \n",
        "\n",
        "There is a big engineering component behind the design of optimizers and their implementation can sometimes become tricky. So unless you are directly doing research in optimization, it's recommended to use an implementation provided by a widely reviewed open-source library."
      ]
    },
    {
      "cell_type": "code",
      "metadata": {
        "cellView": "form",
        "execution": {},
        "id": "Gtub9CUOPEnr",
        "outputId": "6c56ef74-928f-41d0-b129-b7ea4ebbdd65",
        "colab": {
          "base_uri": "https://localhost:8080/",
          "height": 580,
          "referenced_widgets": [
            "c9249f91328c42aaa3406c71dd88d0c9",
            "736cb030bea44fcc8968c63663109938",
            "c29c178fc5dc431fb5cd8364c9dc8631",
            "92233cbfe708447b8eaeb5c21339b3fd",
            "856f2d7d9ba940618604b2e53fa51ab1",
            "b993fdf2a9ab4055a54d0b466474850c"
          ]
        }
      },
      "source": [
        "# @title Video 9: Putting it all together\n",
        "from ipywidgets import widgets\n",
        "\n",
        "out2 = widgets.Output()\n",
        "with out2:\n",
        "  from IPython.display import IFrame\n",
        "  class BiliVideo(IFrame):\n",
        "    def __init__(self, id, page=1, width=400, height=300, **kwargs):\n",
        "      self.id=id\n",
        "      src = \"https://player.bilibili.com/player.html?bvid={0}&page={1}\".format(id, page)\n",
        "      super(BiliVideo, self).__init__(src, width, height, **kwargs)\n",
        "\n",
        "  video = BiliVideo(id=f\"BV1MK4y1u7u2\", width=854, height=480, fs=1)\n",
        "  print(\"Video available at https://www.bilibili.com/video/{0}\".format(video.id))\n",
        "  display(video)\n",
        "\n",
        "out1 = widgets.Output()\n",
        "with out1:\n",
        "  from IPython.display import YouTubeVideo\n",
        "  video = YouTubeVideo(id=f\"DP9c13vLiOM\", width=854, height=480, fs=1, rel=0)\n",
        "  print(\"Video available at https://youtube.com/watch?v=\" + video.id)\n",
        "  display(video)\n",
        "\n",
        "out = widgets.Tab([out1, out2])\n",
        "out.set_title(0, 'Youtube')\n",
        "out.set_title(1, 'Bilibili')\n",
        "\n",
        "# add event to airtable\n",
        "atform.add_event('Video 9: Putting it all together')\n",
        "\n",
        "display(out)"
      ],
      "execution_count": 44,
      "outputs": [
        {
          "output_type": "display_data",
          "data": {
            "application/vnd.jupyter.widget-view+json": {
              "model_id": "c9249f91328c42aaa3406c71dd88d0c9",
              "version_minor": 0,
              "version_major": 2
            },
            "text/plain": [
              "Tab(children=(Output(), Output()), _titles={'0': 'Youtube', '1': 'Bilibili'})"
            ]
          },
          "metadata": {
            "tags": []
          }
        }
      ]
    },
    {
      "cell_type": "code",
      "metadata": {
        "cellView": "form",
        "execution": {},
        "id": "Y02c5r9QPEnr",
        "outputId": "89a5d4d1-d22f-400d-8701-5133c508f151",
        "colab": {
          "base_uri": "https://localhost:8080/"
        }
      },
      "source": [
        "# @title Download parameters of the benchmark model\n",
        "import requests\n",
        "\n",
        "fname = 'benchmark_model.pt'\n",
        "url = \"https://osf.io/sj4e8/download\"\n",
        "r = requests.get(url, allow_redirects=True)\n",
        "with open(fname, 'wb') as fh:\n",
        "  fh.write(r.content)\n",
        "\n",
        "# Load the benchmark model's parameters\n",
        "DEVICE = set_device()\n",
        "if DEVICE == \"cuda\":\n",
        "  benchmark_state_dict = torch.load(fname)\n",
        "else:\n",
        "  benchmark_state_dict = torch.load(fname, map_location=torch.device('cpu'))"
      ],
      "execution_count": 45,
      "outputs": [
        {
          "output_type": "stream",
          "text": [
            "GPU is enabled in this notebook.\n"
          ],
          "name": "stdout"
        }
      ]
    },
    {
      "cell_type": "code",
      "metadata": {
        "execution": {},
        "id": "qiAT_UOOPEnr"
      },
      "source": [
        "# Create MLP object and update weights with those of saved model\n",
        "benchmark_model = MLP(in_dim=784, out_dim=10,\n",
        "                      hidden_dims=[200, 100,50]).to(DEVICE)\n",
        "benchmark_model.load_state_dict(benchmark_state_dict)\n",
        "\n",
        "\n",
        "# Define helper function to evaluate models\n",
        "def eval_model(model, data_loader, num_batches=np.inf, device='cpu'):\n",
        "\n",
        "  loss_log, acc_log = [], []\n",
        "  model.to(device=device)\n",
        "\n",
        "  # We are just evaluating the model, no need to compute gradients\n",
        "  with torch.no_grad():\n",
        "    for batch_id, batch in enumerate(data_loader):\n",
        "      # If we only evaluate a number of batches, stop after we reach that number\n",
        "      if batch_id > num_batches:\n",
        "        break\n",
        "      # Extract minibatch data\n",
        "      data, labels = batch[0].to(device), batch[1].to(device)\n",
        "      # Evaluate model and loss on minibatch\n",
        "      preds = model(data)\n",
        "      loss_log.append(loss_fn(preds, labels).item())\n",
        "      acc_log.append(torch.mean(1. * (preds.argmax(dim=1) == labels)).item())\n",
        "\n",
        "  return np.mean(loss_log), np.mean(acc_log)"
      ],
      "execution_count": 54,
      "outputs": []
    },
    {
      "cell_type": "markdown",
      "metadata": {
        "execution": {},
        "id": "VmC4VsrePEnr"
      },
      "source": [
        "We define an optimizer in the following steps:\n",
        "\n",
        "1. Load  the corresponding class that implements the parameter updates and other internal management activities, including:\n",
        "    - create auxiliary variables,\n",
        "    - update moving averages,\n",
        "    - adjust learning rate.\n",
        "2. Pass the parameters of the Pytorch model that the optimizer has control over. Note that different parameter groups can potentially be controlled by different optimizers.\n",
        "3. Specify hyperparameters, including learning rate, momentum, moving average factors, etc.\n",
        "\n"
      ]
    },
    {
      "cell_type": "markdown",
      "metadata": {
        "execution": {},
        "id": "p9rFAWfrPEnr"
      },
      "source": [
        "## Exercise Bonus: Train your own model\n",
        "\n",
        "Now, train the model with your preferred optimizer and find a good combination of hyperparameter settings."
      ]
    },
    {
      "cell_type": "code",
      "metadata": {
        "execution": {},
        "id": "YSVPHiUGPEnr"
      },
      "source": [
        "#################################################\n",
        "## TODO for students: adjust training settings ##\n",
        "\n",
        "# The three parameters below are in your full control\n",
        "MAX_EPOCHS = 100  # select number of epochs to train\n",
        "LR = 1e-5  # choose the step size\n",
        "BATCH_SIZE = 700  # number of examples per minibatch\n",
        "\n",
        "# Define the model and associated optimizer -- you may change its architecture!\n",
        "model = MLP(in_dim=784, out_dim=10, hidden_dims=[200, 100, 50]).to(DEVICE)\n",
        "\n",
        "# You can take your pick from many different optimizers\n",
        "# Check the optimizer documentation and hyperparameter meaning before using!\n",
        "# More details on Pytorch optimizers: https://pytorch.org/docs/stable/optim.html\n",
        "optimizer = torch.optim.SGD(model.parameters(), lr=LR, momentum=0.9)\n",
        "optimizer = torch.optim.RMSprop(model.parameters(), lr=LR, alpha=0.99)\n",
        "optimizer = torch.optim.Adagrad(model.parameters(), lr=LR)\n",
        "optimizer = torch.optim.Adam(model.parameters(), lr=LR)\n",
        "#################################################"
      ],
      "execution_count": 56,
      "outputs": []
    },
    {
      "cell_type": "code",
      "metadata": {
        "execution": {},
        "id": "lDmq5g17PEns",
        "outputId": "4c2b3bea-a80c-4042-f1af-39bb648a27c1",
        "colab": {
          "base_uri": "https://localhost:8080/",
          "height": 66,
          "referenced_widgets": [
            "89dbf094299a4045af9b13a4d502fa37",
            "eb47e5d8731e41b9a17f8d220bf957e8",
            "9df6f4f84fc34e968f823bf0e43b7911",
            "be8af4bf41c4433ea697f33a8b1537b7",
            "d0126b6ac57742d993ce01cec0b182d2",
            "e6dcf69c5e3f4e4ab8b2a25f9ba9e4a5",
            "43a9665ca371413fa25a42714158ac7c",
            "f3b7eefd13084877a19438adfb695d5b",
            "bec3d158a215416aa2a4eac0f799dcc4",
            "edf7f40a43464c44ac75cff942f09e68",
            "2cf9326a748e4429a20fd9e3431a0eeb"
          ]
        }
      },
      "source": [
        "set_seed(seed=SEED)\n",
        "# Print trainig stats every LOG_FREQ minibatches\n",
        "LOG_FREQ = 200\n",
        "# Frequency for evaluating the validation metrics\n",
        "VAL_FREQ = 200\n",
        "# Load data using a Pytorch Dataset\n",
        "train_set_orig, test_set_orig = load_mnist_data(change_tensors=False)\n",
        "\n",
        "# We separate 10,000 training samples to create a validation set\n",
        "train_set_orig, val_set_orig = torch.utils.data.random_split(train_set_orig, [50000, 10000])\n",
        "\n",
        "# Create the corresponding DataLoaders for training and test\n",
        "g_seed = torch.Generator()\n",
        "g_seed.manual_seed(SEED)\n",
        "\n",
        "train_loader = torch.utils.data.DataLoader(train_set_orig,\n",
        "                                           shuffle=True,\n",
        "                                           batch_size=BATCH_SIZE,\n",
        "                                           num_workers=2,\n",
        "                                           worker_init_fn=seed_worker,\n",
        "                                           generator=g_seed)\n",
        "val_loader = torch.utils.data.DataLoader(val_set_orig,\n",
        "                                         shuffle=True,\n",
        "                                         batch_size=256,\n",
        "                                         num_workers=2,\n",
        "                                         worker_init_fn=seed_worker,\n",
        "                                         generator=g_seed)\n",
        "test_loader = torch.utils.data.DataLoader(test_set_orig,\n",
        "                                          batch_size=256,\n",
        "                                          num_workers=2,\n",
        "                                          worker_init_fn=seed_worker,\n",
        "                                          generator=g_seed)\n",
        "\n",
        "# Run training\n",
        "metrics = {'train_loss':[],\n",
        "           'train_acc':[],\n",
        "           'val_loss':[],\n",
        "           'val_acc':[],\n",
        "           'val_idx':[]}\n",
        "\n",
        "step_idx = 0\n",
        "for epoch in tqdm(range(MAX_EPOCHS)):\n",
        "\n",
        "  running_loss, running_acc = 0., 0.\n",
        "\n",
        "  for batch_id, batch in enumerate(train_loader):\n",
        "    step_idx += 1\n",
        "    # Extract minibatch data and labels\n",
        "    data, labels = batch[0].to(DEVICE), batch[1].to(DEVICE)\n",
        "    # Just like before, refresh gradient accumulators.\n",
        "    # Note that this is now a method of the optimizer.\n",
        "    optimizer.zero_grad()\n",
        "    # Evaluate model and loss on minibatch\n",
        "    preds = model(data)\n",
        "    loss = loss_fn(preds, labels)\n",
        "    acc = torch.mean(1.0 * (preds.argmax(dim=1) == labels))\n",
        "    # Compute gradients\n",
        "    loss.backward()\n",
        "    # Update parameters\n",
        "    # Note how all the magic in the update of the parameters is encapsulated by\n",
        "    # the optimizer class.\n",
        "    optimizer.step()\n",
        "    # Log metrics for plotting\n",
        "    metrics['train_loss'].append(loss.cpu().item())\n",
        "    metrics['train_acc'].append(acc.cpu().item())\n",
        "\n",
        "    if batch_id % VAL_FREQ == (VAL_FREQ - 1):\n",
        "      # Get an estimate of the validation accuracy with 100 batches\n",
        "      val_loss, val_acc = eval_model(model, val_loader,\n",
        "                                     num_batches=100,\n",
        "                                     device=DEVICE)\n",
        "      metrics['val_idx'].append(step_idx)\n",
        "      metrics['val_loss'].append(val_loss)\n",
        "      metrics['val_acc'].append(val_acc)\n",
        "\n",
        "      print(f\"[VALID] Epoch {epoch + 1} - Batch {batch_id + 1} - \"\n",
        "            f\"Loss: {val_loss:.3f} - Acc: {100*val_acc:.3f}%\")\n",
        "\n",
        "    # print statistics\n",
        "    running_loss += loss.cpu().item()\n",
        "    running_acc += acc.cpu().item()\n",
        "    # Print every LOG_FREQ minibatches\n",
        "    if batch_id % LOG_FREQ == (LOG_FREQ-1):\n",
        "      print(f\"[TRAIN] Epoch {epoch + 1} - Batch {batch_id + 1} - \"\n",
        "            f\"Loss: {running_loss / LOG_FREQ:.3f} - \"\n",
        "            f\"Acc: {100 * running_acc / LOG_FREQ:.3f}%\")\n",
        "\n",
        "      running_loss, running_acc = 0., 0."
      ],
      "execution_count": 57,
      "outputs": [
        {
          "output_type": "stream",
          "text": [
            "Random seed 2021 has been set.\n"
          ],
          "name": "stdout"
        },
        {
          "output_type": "display_data",
          "data": {
            "application/vnd.jupyter.widget-view+json": {
              "model_id": "89dbf094299a4045af9b13a4d502fa37",
              "version_minor": 0,
              "version_major": 2
            },
            "text/plain": [
              "  0%|          | 0/100 [00:00<?, ?it/s]"
            ]
          },
          "metadata": {
            "tags": []
          }
        }
      ]
    },
    {
      "cell_type": "code",
      "metadata": {
        "execution": {},
        "id": "ypmk77DPPEns",
        "outputId": "1b5a1aec-3156-42ca-c583-357a9c7abe62",
        "colab": {
          "base_uri": "https://localhost:8080/",
          "height": 286
        }
      },
      "source": [
        "fig, ax = plt.subplots(1, 2, figsize=(10, 4))\n",
        "\n",
        "ax[0].plot(range(len(metrics['train_loss'])), metrics['train_loss'],\n",
        "           alpha=0.8, label='Train')\n",
        "ax[0].plot(metrics['val_idx'], metrics['val_loss'], label='Valid')\n",
        "ax[0].set_xlabel('Iteration')\n",
        "ax[0].set_ylabel('Loss')\n",
        "ax[0].legend()\n",
        "\n",
        "ax[1].plot(range(len(metrics['train_acc'])), metrics['train_acc'],\n",
        "           alpha=0.8, label='Train')\n",
        "ax[1].plot(metrics['val_idx'], metrics['val_acc'], label='Valid')\n",
        "ax[1].set_xlabel('Iteration')\n",
        "ax[1].set_ylabel('Accuracy')\n",
        "ax[1].legend()\n",
        "plt.tight_layout()\n",
        "plt.show()"
      ],
      "execution_count": 58,
      "outputs": [
        {
          "output_type": "display_data",
          "data": {
            "image/png": "[encoded data removed]",
            "text/plain": [
              "<Figure size 720x288 with 2 Axes>"
            ]
          },
          "metadata": {
            "tags": [],
            "image/png": {
              "width": 702,
              "height": 269
            },
            "needs_background": "light"
          }
        }
      ]
    },
    {
      "cell_type": "markdown",
      "metadata": {
        "execution": {},
        "id": "7VdtrF8bPEnu"
      },
      "source": [
        "## Think! Bonus: Metrics\n",
        "\n",
        "Which metric did you optimize when searching for the right configuration? The training set loss? Accuracy? Validation/test set metrics? Why? Discuss!"
      ]
    },
    {
      "cell_type": "markdown",
      "metadata": {
        "execution": {},
        "id": "BI-r2e6uPEnv"
      },
      "source": [
        "[*Click for solution*](https://github.com/NeuromatchAcademy/course-content-dl/tree/main//tutorials/W1D4_Optimization/solutions/W1D4_Tutorial1_Solution_093a66ad.py)\n",
        "\n"
      ]
    },
    {
      "cell_type": "markdown",
      "metadata": {
        "execution": {},
        "id": "BBJ595bfPEnv"
      },
      "source": [
        "### Evaluation\n",
        "\n",
        "We _finally_ can evaluate and compare the performance of the models on previously unseen examples. \n",
        "\n",
        "Which model would you keep? (\\*drum roll*)    "
      ]
    },
    {
      "cell_type": "code",
      "metadata": {
        "execution": {},
        "id": "O3YxqiNMPEnv",
        "outputId": "7006324a-b989-4c73-bfe1-807a381beb5b",
        "colab": {
          "base_uri": "https://localhost:8080/"
        }
      },
      "source": [
        "print('Your model...')\n",
        "train_loss, train_accuracy = eval_model(my_model, train_loader, device=DEVICE)\n",
        "test_loss, test_accuracy = eval_model(my_model, test_loader, device=DEVICE)\n",
        "print(f'Train Loss {train_loss:.3f} / Test Loss {test_loss:.3f}')\n",
        "print(f'Train Accuracy {100*train_accuracy:.3f}% / Test Accuracy {100*test_accuracy:.3f}%')\n",
        "\n",
        "print('\\nBenchmark model')\n",
        "train_loss, train_accuracy = eval_model(benchmark_model, train_loader, device=DEVICE)\n",
        "test_loss, test_accuracy = eval_model(benchmark_model, test_loader, device=DEVICE)\n",
        "print(f'Train Loss {train_loss:.3f} / Test Loss {test_loss:.3f}')\n",
        "print(f'Train Accuracy {100*train_accuracy:.3f}% / Test Accuracy {100*test_accuracy:.3f}%')"
      ],
      "execution_count": 59,
      "outputs": [
        {
          "output_type": "stream",
          "text": [
            "Your model...\n",
            "Train Loss 0.454 / Test Loss 0.419\n",
            "Train Accuracy 86.571% / Test Accuracy 87.588%\n",
            "\n",
            "Benchmark model\n",
            "Train Loss 0.011 / Test Loss 0.025\n",
            "Train Accuracy 99.783% / Test Accuracy 99.316%\n"
          ],
          "name": "stdout"
        }
      ]
    }
  ]
}